{
 "cells": [
  {
   "cell_type": "code",
   "execution_count": 1,
   "id": "51c5704f",
   "metadata": {
    "ExecuteTime": {
     "end_time": "2023-11-21T06:34:40.311736Z",
     "start_time": "2023-11-21T06:34:38.591737Z"
    }
   },
   "outputs": [],
   "source": [
    "import numpy as np\n",
    "import pandas as pd\n",
    "from boruta import BorutaPy\n",
    "from sklearn.datasets import load_diabetes\n",
    "from sklearn.metrics import accuracy_score \n",
    "from sklearn.ensemble import RandomForestRegressor\n",
    "from sklearn.ensemble import RandomForestClassifier\n",
    "from sklearn.model_selection import train_test_split"
   ]
  },
  {
   "cell_type": "code",
   "execution_count": 2,
   "id": "5ff336b1",
   "metadata": {
    "ExecuteTime": {
     "end_time": "2023-11-21T06:35:07.390737Z",
     "start_time": "2023-11-21T06:34:40.314739Z"
    }
   },
   "outputs": [
    {
     "name": "stdout",
     "output_type": "stream",
     "text": [
      "S:\\PPMI_RNA\\Processed\\Progression_Analysis\\Male\\HYS_1vs2vs3\n"
     ]
    },
    {
     "data": {
      "text/html": [
       "<div>\n",
       "<style scoped>\n",
       "    .dataframe tbody tr th:only-of-type {\n",
       "        vertical-align: middle;\n",
       "    }\n",
       "\n",
       "    .dataframe tbody tr th {\n",
       "        vertical-align: top;\n",
       "    }\n",
       "\n",
       "    .dataframe thead th {\n",
       "        text-align: right;\n",
       "    }\n",
       "</style>\n",
       "<table border=\"1\" class=\"dataframe\">\n",
       "  <thead>\n",
       "    <tr style=\"text-align: right;\">\n",
       "      <th></th>\n",
       "      <th>HudAlphaID</th>\n",
       "      <th>HYS</th>\n",
       "      <th>ENSG00000223972.5</th>\n",
       "      <th>ENSG00000227232.5</th>\n",
       "      <th>ENSG00000278267.1</th>\n",
       "      <th>ENSG00000243485.5</th>\n",
       "      <th>ENSG00000284332.1</th>\n",
       "      <th>ENSG00000237613.2</th>\n",
       "      <th>ENSG00000268020.3</th>\n",
       "      <th>ENSG00000240361.2</th>\n",
       "      <th>...</th>\n",
       "      <th>ENSG00000273739.1</th>\n",
       "      <th>ENSG00000276700.1</th>\n",
       "      <th>ENSG00000276312.1</th>\n",
       "      <th>ENSG00000275757.1</th>\n",
       "      <th>ENSG00000278573.1</th>\n",
       "      <th>ENSG00000276017.1</th>\n",
       "      <th>ENSG00000278817.1</th>\n",
       "      <th>ENSG00000277196.4</th>\n",
       "      <th>ENSG00000278625.1</th>\n",
       "      <th>ENSG00000277374.1</th>\n",
       "    </tr>\n",
       "  </thead>\n",
       "  <tbody>\n",
       "    <tr>\n",
       "      <th>3</th>\n",
       "      <td>5104_SL_0011</td>\n",
       "      <td>1</td>\n",
       "      <td>15</td>\n",
       "      <td>209</td>\n",
       "      <td>6</td>\n",
       "      <td>8</td>\n",
       "      <td>0</td>\n",
       "      <td>6</td>\n",
       "      <td>6</td>\n",
       "      <td>19</td>\n",
       "      <td>...</td>\n",
       "      <td>2</td>\n",
       "      <td>12</td>\n",
       "      <td>7</td>\n",
       "      <td>0</td>\n",
       "      <td>6</td>\n",
       "      <td>2</td>\n",
       "      <td>32</td>\n",
       "      <td>17</td>\n",
       "      <td>0</td>\n",
       "      <td>0</td>\n",
       "    </tr>\n",
       "  </tbody>\n",
       "</table>\n",
       "<p>1 rows × 58782 columns</p>\n",
       "</div>"
      ],
      "text/plain": [
       "     HudAlphaID  HYS  ENSG00000223972.5  ENSG00000227232.5  ENSG00000278267.1  \\\n",
       "3  5104_SL_0011    1                 15                209                  6   \n",
       "\n",
       "   ENSG00000243485.5  ENSG00000284332.1  ENSG00000237613.2  ENSG00000268020.3  \\\n",
       "3                  8                  0                  6                  6   \n",
       "\n",
       "   ENSG00000240361.2  ...  ENSG00000273739.1  ENSG00000276700.1  \\\n",
       "3                 19  ...                  2                 12   \n",
       "\n",
       "   ENSG00000276312.1  ENSG00000275757.1  ENSG00000278573.1  ENSG00000276017.1  \\\n",
       "3                  7                  0                  6                  2   \n",
       "\n",
       "   ENSG00000278817.1  ENSG00000277196.4  ENSG00000278625.1  ENSG00000277374.1  \n",
       "3                 32                 17                  0                  0  \n",
       "\n",
       "[1 rows x 58782 columns]"
      ]
     },
     "execution_count": 2,
     "metadata": {},
     "output_type": "execute_result"
    }
   ],
   "source": [
    "%cd S:\\PPMI_RNA\\Processed\\Progression_Analysis\\Male\\HYS_1vs2vs3\n",
    "data = pd.read_csv('CountData_HYS1vs2vs3_PD_withHYS_Male.csv')\n",
    "data = data[data['HYS'] != 2]\n",
    "data.head(1)"
   ]
  },
  {
   "cell_type": "code",
   "execution_count": 3,
   "id": "ee22df7a",
   "metadata": {
    "ExecuteTime": {
     "end_time": "2023-11-21T06:35:07.549739Z",
     "start_time": "2023-11-21T06:35:07.393740Z"
    }
   },
   "outputs": [
    {
     "name": "stdout",
     "output_type": "stream",
     "text": [
      "   ENSG00000223972.5  ENSG00000227232.5  ENSG00000278267.1  ENSG00000243485.5  \\\n",
      "3                 15                209                  6                  8   \n",
      "9                  1                 55                  2                  0   \n",
      "\n",
      "   ENSG00000284332.1  ENSG00000237613.2  ENSG00000268020.3  ENSG00000240361.2  \\\n",
      "3                  0                  6                  6                 19   \n",
      "9                  0                  0                  0                  0   \n",
      "\n",
      "   ENSG00000186092.6  ENSG00000238009.6  ...  ENSG00000273739.1  \\\n",
      "3                  7                176  ...                  2   \n",
      "9                  0                 85  ...                  0   \n",
      "\n",
      "   ENSG00000276700.1  ENSG00000276312.1  ENSG00000275757.1  ENSG00000278573.1  \\\n",
      "3                 12                  7                  0                  6   \n",
      "9                  0                  3                  0                  0   \n",
      "\n",
      "   ENSG00000276017.1  ENSG00000278817.1  ENSG00000277196.4  ENSG00000278625.1  \\\n",
      "3                  2                 32                 17                  0   \n",
      "9                  0                 10                  0                  0   \n",
      "\n",
      "   ENSG00000277374.1  \n",
      "3                  0  \n",
      "9                  0  \n",
      "\n",
      "[2 rows x 58780 columns]\n"
     ]
    }
   ],
   "source": [
    "X = data.drop(['HudAlphaID', 'HYS'], axis = 1)\n",
    "y = data['HYS']\n",
    "X_train, X_test, y_train, y_test = train_test_split(X, y, test_size = .2, random_state = 1) \n",
    "print(X.head(2))"
   ]
  },
  {
   "cell_type": "code",
   "execution_count": 4,
   "id": "c1ee3e48",
   "metadata": {
    "ExecuteTime": {
     "end_time": "2023-11-21T06:35:08.764738Z",
     "start_time": "2023-11-21T06:35:07.553738Z"
    }
   },
   "outputs": [
    {
     "data": {
      "text/plain": [
       "RandomForestClassifier(random_state=1)"
      ]
     },
     "execution_count": 4,
     "metadata": {},
     "output_type": "execute_result"
    }
   ],
   "source": [
    "rf_all_features = RandomForestClassifier(random_state=1)\n",
    "rf_all_features.fit(X_train, y_train)"
   ]
  },
  {
   "cell_type": "code",
   "execution_count": 5,
   "id": "f17f8606",
   "metadata": {
    "ExecuteTime": {
     "end_time": "2023-11-21T06:35:09.170737Z",
     "start_time": "2023-11-21T06:35:08.768739Z"
    }
   },
   "outputs": [
    {
     "data": {
      "text/plain": [
       "0.8775510204081632"
      ]
     },
     "execution_count": 5,
     "metadata": {},
     "output_type": "execute_result"
    }
   ],
   "source": [
    "accuracy_score(y_test, rf_all_features.predict(X_test))"
   ]
  },
  {
   "cell_type": "code",
   "execution_count": 6,
   "id": "5ba608ac",
   "metadata": {
    "ExecuteTime": {
     "end_time": "2023-11-21T06:41:16.716738Z",
     "start_time": "2023-11-21T06:35:09.172738Z"
    },
    "scrolled": true
   },
   "outputs": [
    {
     "name": "stdout",
     "output_type": "stream",
     "text": [
      "Iteration: 1 / 100\n",
      "Iteration: 2 / 100\n",
      "Iteration: 3 / 100\n",
      "Iteration: 4 / 100\n",
      "Iteration: 5 / 100\n",
      "Iteration: 6 / 100\n",
      "Iteration: 7 / 100\n",
      "Iteration: 8 / 100\n",
      "Iteration: 9 / 100\n",
      "Iteration: 10 / 100\n",
      "Iteration: 11 / 100\n",
      "Iteration: 12 / 100\n",
      "Iteration: 13 / 100\n",
      "Iteration: 14 / 100\n",
      "Iteration: 15 / 100\n",
      "Iteration: 16 / 100\n",
      "Iteration: 17 / 100\n",
      "Iteration: 18 / 100\n",
      "Iteration: 19 / 100\n",
      "Iteration: 20 / 100\n",
      "Iteration: 21 / 100\n",
      "Iteration: 22 / 100\n",
      "Iteration: 23 / 100\n",
      "Iteration: 24 / 100\n",
      "Iteration: 25 / 100\n",
      "Iteration: 26 / 100\n",
      "Iteration: 27 / 100\n",
      "Iteration: 28 / 100\n",
      "Iteration: 29 / 100\n",
      "Iteration: 30 / 100\n",
      "Iteration: 31 / 100\n",
      "Iteration: 32 / 100\n",
      "Iteration: 33 / 100\n",
      "Iteration: 34 / 100\n",
      "Iteration: 35 / 100\n",
      "Iteration: 36 / 100\n",
      "Iteration: 37 / 100\n",
      "Iteration: 38 / 100\n",
      "Iteration: 39 / 100\n",
      "Iteration: 40 / 100\n",
      "Iteration: 41 / 100\n",
      "Iteration: 42 / 100\n",
      "Iteration: 43 / 100\n",
      "Iteration: 44 / 100\n",
      "Iteration: 45 / 100\n",
      "Iteration: 46 / 100\n",
      "Iteration: 47 / 100\n",
      "Iteration: 48 / 100\n",
      "Iteration: 49 / 100\n",
      "Iteration: 50 / 100\n",
      "Iteration: 51 / 100\n",
      "Iteration: 52 / 100\n",
      "Iteration: 53 / 100\n",
      "Iteration: 54 / 100\n",
      "Iteration: 55 / 100\n",
      "Iteration: 56 / 100\n",
      "Iteration: 57 / 100\n",
      "Iteration: 58 / 100\n",
      "Iteration: 59 / 100\n",
      "Iteration: 60 / 100\n",
      "Iteration: 61 / 100\n",
      "Iteration: 62 / 100\n",
      "Iteration: 63 / 100\n",
      "Iteration: 64 / 100\n",
      "Iteration: 65 / 100\n",
      "Iteration: 66 / 100\n",
      "Iteration: 67 / 100\n",
      "Iteration: 68 / 100\n",
      "Iteration: 69 / 100\n",
      "Iteration: 70 / 100\n",
      "Iteration: 71 / 100\n",
      "Iteration: 72 / 100\n",
      "Iteration: 73 / 100\n",
      "Iteration: 74 / 100\n",
      "Iteration: 75 / 100\n",
      "Iteration: 76 / 100\n",
      "Iteration: 77 / 100\n",
      "Iteration: 78 / 100\n",
      "Iteration: 79 / 100\n",
      "Iteration: 80 / 100\n",
      "Iteration: 81 / 100\n",
      "Iteration: 82 / 100\n",
      "Iteration: 83 / 100\n",
      "Iteration: 84 / 100\n",
      "Iteration: 85 / 100\n",
      "Iteration: 86 / 100\n",
      "Iteration: 87 / 100\n",
      "Iteration: 88 / 100\n",
      "Iteration: 89 / 100\n",
      "Iteration: 90 / 100\n",
      "Iteration: 91 / 100\n",
      "Iteration: 92 / 100\n",
      "Iteration: 93 / 100\n",
      "Iteration: 94 / 100\n",
      "Iteration: 95 / 100\n",
      "Iteration: 96 / 100\n",
      "Iteration: 97 / 100\n",
      "Iteration: 98 / 100\n",
      "Iteration: 99 / 100\n",
      "\n",
      "\n",
      "BorutaPy finished running.\n",
      "\n",
      "Iteration: \t100 / 100\n",
      "Confirmed: \t9\n",
      "Tentative: \t5\n",
      "Rejected: \t58765\n"
     ]
    },
    {
     "data": {
      "text/plain": [
       "BorutaPy(estimator=RandomForestClassifier(n_estimators=54,\n",
       "                                          random_state=RandomState(MT19937) at 0x25E94CA3D40),\n",
       "         n_estimators='auto',\n",
       "         random_state=RandomState(MT19937) at 0x25E94CA3D40, verbose=1)"
      ]
     },
     "execution_count": 6,
     "metadata": {},
     "output_type": "execute_result"
    }
   ],
   "source": [
    "rfc = RandomForestClassifier(random_state=1)\n",
    "boruta_selector = BorutaPy(rfc, n_estimators= 'auto', verbose=1, random_state=1)\n",
    "boruta_selector.fit(np.array(X_train), np.array(y_train))  "
   ]
  },
  {
   "cell_type": "code",
   "execution_count": 7,
   "id": "51f874e0",
   "metadata": {
    "ExecuteTime": {
     "end_time": "2023-11-21T06:41:16.732737Z",
     "start_time": "2023-11-21T06:41:16.720738Z"
    }
   },
   "outputs": [
    {
     "name": "stdout",
     "output_type": "stream",
     "text": [
      "No. of significant features:  9\n"
     ]
    }
   ],
   "source": [
    "# print(\"Ranking: \",boruta_selector.ranking_)          \n",
    "print(\"No. of significant features: \", boruta_selector.n_features_)"
   ]
  },
  {
   "cell_type": "code",
   "execution_count": 8,
   "id": "61cadc89",
   "metadata": {
    "ExecuteTime": {
     "end_time": "2023-11-21T06:41:16.828736Z",
     "start_time": "2023-11-21T06:41:16.736737Z"
    }
   },
   "outputs": [],
   "source": [
    "selected_rf_features = pd.DataFrame({'GeneID':list(X_train.columns),\n",
    "                                       'Ranking':boruta_selector.ranking_})\n",
    "selected_rf_features = selected_rf_features.sort_values(by='Ranking')"
   ]
  },
  {
   "cell_type": "code",
   "execution_count": 9,
   "id": "6ae888ab",
   "metadata": {
    "ExecuteTime": {
     "end_time": "2023-11-21T06:41:16.862739Z",
     "start_time": "2023-11-21T06:41:16.831739Z"
    },
    "scrolled": true
   },
   "outputs": [
    {
     "data": {
      "text/html": [
       "<div>\n",
       "<style scoped>\n",
       "    .dataframe tbody tr th:only-of-type {\n",
       "        vertical-align: middle;\n",
       "    }\n",
       "\n",
       "    .dataframe tbody tr th {\n",
       "        vertical-align: top;\n",
       "    }\n",
       "\n",
       "    .dataframe thead th {\n",
       "        text-align: right;\n",
       "    }\n",
       "</style>\n",
       "<table border=\"1\" class=\"dataframe\">\n",
       "  <thead>\n",
       "    <tr style=\"text-align: right;\">\n",
       "      <th></th>\n",
       "      <th>CpG</th>\n",
       "      <th>Ranking</th>\n",
       "    </tr>\n",
       "  </thead>\n",
       "  <tbody>\n",
       "    <tr>\n",
       "      <th>46672</th>\n",
       "      <td>ENSG00000108797.11</td>\n",
       "      <td>1</td>\n",
       "    </tr>\n",
       "    <tr>\n",
       "      <th>40128</th>\n",
       "      <td>ENSG00000237111.1</td>\n",
       "      <td>1</td>\n",
       "    </tr>\n",
       "    <tr>\n",
       "      <th>19480</th>\n",
       "      <td>ENSG00000135318.11</td>\n",
       "      <td>1</td>\n",
       "    </tr>\n",
       "  </tbody>\n",
       "</table>\n",
       "</div>"
      ],
      "text/plain": [
       "                      CpG  Ranking\n",
       "46672  ENSG00000108797.11        1\n",
       "40128   ENSG00000237111.1        1\n",
       "19480  ENSG00000135318.11        1"
      ]
     },
     "execution_count": 9,
     "metadata": {},
     "output_type": "execute_result"
    }
   ],
   "source": [
    "Top50 = selected_rf_features.iloc[:50, :]\n",
    "Top50.head(3)"
   ]
  },
  {
   "cell_type": "markdown",
   "id": "a3aba4cb",
   "metadata": {},
   "source": [
    "### Top 50"
   ]
  },
  {
   "cell_type": "code",
   "execution_count": 10,
   "id": "9605e163",
   "metadata": {
    "ExecuteTime": {
     "end_time": "2023-11-21T06:41:17.078736Z",
     "start_time": "2023-11-21T06:41:16.866739Z"
    }
   },
   "outputs": [],
   "source": [
    "Top50.to_csv ('HYS1vs3_Boruta_Top50_Male.csv', index = False)\n",
    "selected_rf_features.to_csv ('HYS1vs3_Boruta_All_Male.csv', index = False)"
   ]
  },
  {
   "cell_type": "code",
   "execution_count": 11,
   "id": "a5bc67f8",
   "metadata": {
    "ExecuteTime": {
     "end_time": "2023-11-21T06:41:17.126738Z",
     "start_time": "2023-11-21T06:41:17.080737Z"
    }
   },
   "outputs": [
    {
     "name": "stderr",
     "output_type": "stream",
     "text": [
      "C:\\Users\\system 4\\AppData\\Local\\Temp\\ipykernel_3356\\1078700621.py:6: SettingWithCopyWarning: \n",
      "A value is trying to be set on a copy of a slice from a DataFrame.\n",
      "Try using .loc[row_indexer,col_indexer] = value instead\n",
      "\n",
      "See the caveats in the documentation: https://pandas.pydata.org/pandas-docs/stable/user_guide/indexing.html#returning-a-view-versus-a-copy\n",
      "  df_subset['HYS'] = data['HYS']\n"
     ]
    },
    {
     "data": {
      "text/html": [
       "<div>\n",
       "<style scoped>\n",
       "    .dataframe tbody tr th:only-of-type {\n",
       "        vertical-align: middle;\n",
       "    }\n",
       "\n",
       "    .dataframe tbody tr th {\n",
       "        vertical-align: top;\n",
       "    }\n",
       "\n",
       "    .dataframe thead th {\n",
       "        text-align: right;\n",
       "    }\n",
       "</style>\n",
       "<table border=\"1\" class=\"dataframe\">\n",
       "  <thead>\n",
       "    <tr style=\"text-align: right;\">\n",
       "      <th></th>\n",
       "      <th>ENSG00000116761.11</th>\n",
       "      <th>ENSG00000214711.9</th>\n",
       "      <th>ENSG00000270571.2</th>\n",
       "      <th>ENSG00000278962.1</th>\n",
       "      <th>ENSG00000155657.26</th>\n",
       "      <th>ENSG00000163492.15</th>\n",
       "      <th>ENSG00000116106.11</th>\n",
       "      <th>ENSG00000186235.10</th>\n",
       "      <th>ENSG00000154764.5</th>\n",
       "      <th>ENSG00000189283.9</th>\n",
       "      <th>...</th>\n",
       "      <th>ENSG00000240505.8</th>\n",
       "      <th>ENSG00000108797.11</th>\n",
       "      <th>ENSG00000183691.4</th>\n",
       "      <th>ENSG00000168646.12</th>\n",
       "      <th>ENSG00000104921.14</th>\n",
       "      <th>ENSG00000277301.1</th>\n",
       "      <th>ENSG00000263366.2</th>\n",
       "      <th>ENSG00000102349.17</th>\n",
       "      <th>ENSG00000215580.10</th>\n",
       "      <th>HYS</th>\n",
       "    </tr>\n",
       "  </thead>\n",
       "  <tbody>\n",
       "    <tr>\n",
       "      <th>3</th>\n",
       "      <td>125</td>\n",
       "      <td>161</td>\n",
       "      <td>116</td>\n",
       "      <td>108</td>\n",
       "      <td>17276</td>\n",
       "      <td>1872</td>\n",
       "      <td>1284</td>\n",
       "      <td>63</td>\n",
       "      <td>276</td>\n",
       "      <td>839</td>\n",
       "      <td>...</td>\n",
       "      <td>216</td>\n",
       "      <td>267</td>\n",
       "      <td>306</td>\n",
       "      <td>426</td>\n",
       "      <td>123</td>\n",
       "      <td>97</td>\n",
       "      <td>195</td>\n",
       "      <td>362</td>\n",
       "      <td>772</td>\n",
       "      <td>1</td>\n",
       "    </tr>\n",
       "    <tr>\n",
       "      <th>9</th>\n",
       "      <td>67</td>\n",
       "      <td>68</td>\n",
       "      <td>45</td>\n",
       "      <td>56</td>\n",
       "      <td>7529</td>\n",
       "      <td>1217</td>\n",
       "      <td>938</td>\n",
       "      <td>21</td>\n",
       "      <td>125</td>\n",
       "      <td>447</td>\n",
       "      <td>...</td>\n",
       "      <td>117</td>\n",
       "      <td>85</td>\n",
       "      <td>202</td>\n",
       "      <td>186</td>\n",
       "      <td>57</td>\n",
       "      <td>82</td>\n",
       "      <td>126</td>\n",
       "      <td>195</td>\n",
       "      <td>554</td>\n",
       "      <td>1</td>\n",
       "    </tr>\n",
       "  </tbody>\n",
       "</table>\n",
       "<p>2 rows × 51 columns</p>\n",
       "</div>"
      ],
      "text/plain": [
       "   ENSG00000116761.11  ENSG00000214711.9  ENSG00000270571.2  \\\n",
       "3                 125                161                116   \n",
       "9                  67                 68                 45   \n",
       "\n",
       "   ENSG00000278962.1  ENSG00000155657.26  ENSG00000163492.15  \\\n",
       "3                108               17276                1872   \n",
       "9                 56                7529                1217   \n",
       "\n",
       "   ENSG00000116106.11  ENSG00000186235.10  ENSG00000154764.5  \\\n",
       "3                1284                  63                276   \n",
       "9                 938                  21                125   \n",
       "\n",
       "   ENSG00000189283.9  ...  ENSG00000240505.8  ENSG00000108797.11  \\\n",
       "3                839  ...                216                 267   \n",
       "9                447  ...                117                  85   \n",
       "\n",
       "   ENSG00000183691.4  ENSG00000168646.12  ENSG00000104921.14  \\\n",
       "3                306                 426                 123   \n",
       "9                202                 186                  57   \n",
       "\n",
       "   ENSG00000277301.1  ENSG00000263366.2  ENSG00000102349.17  \\\n",
       "3                 97                195                 362   \n",
       "9                 82                126                 195   \n",
       "\n",
       "   ENSG00000215580.10  HYS  \n",
       "3                 772    1  \n",
       "9                 554    1  \n",
       "\n",
       "[2 rows x 51 columns]"
      ]
     },
     "execution_count": 11,
     "metadata": {},
     "output_type": "execute_result"
    }
   ],
   "source": [
    "# create a list of column names to subset from data\n",
    "col_names = Top50.iloc[:, 0].tolist()\n",
    "\n",
    "# subset df based on the column names\n",
    "df_subset = data.loc[:, data.columns.isin(col_names)]\n",
    "df_subset['HYS'] = data['HYS']\n",
    "df_subset.to_csv ('HYS1vs3_Boruta_Top50_Data_Male.csv', index = False)\n",
    "df_subset.head(2)"
   ]
  },
  {
   "cell_type": "markdown",
   "id": "02af7ae1",
   "metadata": {},
   "source": [
    "### Top 100"
   ]
  },
  {
   "cell_type": "code",
   "execution_count": 12,
   "id": "d2bf41f3",
   "metadata": {
    "ExecuteTime": {
     "end_time": "2023-11-21T06:41:17.174737Z",
     "start_time": "2023-11-21T06:41:17.129738Z"
    }
   },
   "outputs": [
    {
     "data": {
      "text/html": [
       "<div>\n",
       "<style scoped>\n",
       "    .dataframe tbody tr th:only-of-type {\n",
       "        vertical-align: middle;\n",
       "    }\n",
       "\n",
       "    .dataframe tbody tr th {\n",
       "        vertical-align: top;\n",
       "    }\n",
       "\n",
       "    .dataframe thead th {\n",
       "        text-align: right;\n",
       "    }\n",
       "</style>\n",
       "<table border=\"1\" class=\"dataframe\">\n",
       "  <thead>\n",
       "    <tr style=\"text-align: right;\">\n",
       "      <th></th>\n",
       "      <th>CpG</th>\n",
       "      <th>Ranking</th>\n",
       "    </tr>\n",
       "  </thead>\n",
       "  <tbody>\n",
       "    <tr>\n",
       "      <th>46672</th>\n",
       "      <td>ENSG00000108797.11</td>\n",
       "      <td>1</td>\n",
       "    </tr>\n",
       "    <tr>\n",
       "      <th>40128</th>\n",
       "      <td>ENSG00000237111.1</td>\n",
       "      <td>1</td>\n",
       "    </tr>\n",
       "  </tbody>\n",
       "</table>\n",
       "</div>"
      ],
      "text/plain": [
       "                      CpG  Ranking\n",
       "46672  ENSG00000108797.11        1\n",
       "40128   ENSG00000237111.1        1"
      ]
     },
     "execution_count": 12,
     "metadata": {},
     "output_type": "execute_result"
    }
   ],
   "source": [
    "Top100 = selected_rf_features.iloc[:100, :]\n",
    "Top100.to_csv ('HYS1vs3_Boruta_Top100_Male.csv', index = False)\n",
    "Top100.head(2)"
   ]
  },
  {
   "cell_type": "code",
   "execution_count": 13,
   "id": "bd596750",
   "metadata": {
    "ExecuteTime": {
     "end_time": "2023-11-21T06:41:17.317736Z",
     "start_time": "2023-11-21T06:41:17.176738Z"
    }
   },
   "outputs": [
    {
     "name": "stderr",
     "output_type": "stream",
     "text": [
      "C:\\Users\\system 4\\AppData\\Local\\Temp\\ipykernel_3356\\594748375.py:6: SettingWithCopyWarning: \n",
      "A value is trying to be set on a copy of a slice from a DataFrame.\n",
      "Try using .loc[row_indexer,col_indexer] = value instead\n",
      "\n",
      "See the caveats in the documentation: https://pandas.pydata.org/pandas-docs/stable/user_guide/indexing.html#returning-a-view-versus-a-copy\n",
      "  df_subset['HYS'] = data['HYS']\n"
     ]
    },
    {
     "data": {
      "text/html": [
       "<div>\n",
       "<style scoped>\n",
       "    .dataframe tbody tr th:only-of-type {\n",
       "        vertical-align: middle;\n",
       "    }\n",
       "\n",
       "    .dataframe tbody tr th {\n",
       "        vertical-align: top;\n",
       "    }\n",
       "\n",
       "    .dataframe thead th {\n",
       "        text-align: right;\n",
       "    }\n",
       "</style>\n",
       "<table border=\"1\" class=\"dataframe\">\n",
       "  <thead>\n",
       "    <tr style=\"text-align: right;\">\n",
       "      <th></th>\n",
       "      <th>ENSG00000117643.14</th>\n",
       "      <th>ENSG00000116983.12</th>\n",
       "      <th>ENSG00000157077.14</th>\n",
       "      <th>ENSG00000116641.17</th>\n",
       "      <th>ENSG00000116761.11</th>\n",
       "      <th>ENSG00000272824.1</th>\n",
       "      <th>ENSG00000117322.17</th>\n",
       "      <th>ENSG00000162817.6</th>\n",
       "      <th>ENSG00000214711.9</th>\n",
       "      <th>ENSG00000231918.1</th>\n",
       "      <th>...</th>\n",
       "      <th>ENSG00000104921.14</th>\n",
       "      <th>ENSG00000277301.1</th>\n",
       "      <th>ENSG00000184113.9</th>\n",
       "      <th>ENSG00000263366.2</th>\n",
       "      <th>ENSG00000075275.16</th>\n",
       "      <th>ENSG00000102349.17</th>\n",
       "      <th>ENSG00000158301.18</th>\n",
       "      <th>ENSG00000260585.1</th>\n",
       "      <th>ENSG00000215580.10</th>\n",
       "      <th>HYS</th>\n",
       "    </tr>\n",
       "  </thead>\n",
       "  <tbody>\n",
       "    <tr>\n",
       "      <th>3</th>\n",
       "      <td>690</td>\n",
       "      <td>364</td>\n",
       "      <td>472</td>\n",
       "      <td>1411</td>\n",
       "      <td>125</td>\n",
       "      <td>10</td>\n",
       "      <td>328</td>\n",
       "      <td>95</td>\n",
       "      <td>161</td>\n",
       "      <td>15</td>\n",
       "      <td>...</td>\n",
       "      <td>123</td>\n",
       "      <td>97</td>\n",
       "      <td>209</td>\n",
       "      <td>195</td>\n",
       "      <td>465</td>\n",
       "      <td>362</td>\n",
       "      <td>142</td>\n",
       "      <td>9</td>\n",
       "      <td>772</td>\n",
       "      <td>1</td>\n",
       "    </tr>\n",
       "    <tr>\n",
       "      <th>9</th>\n",
       "      <td>233</td>\n",
       "      <td>216</td>\n",
       "      <td>363</td>\n",
       "      <td>1141</td>\n",
       "      <td>67</td>\n",
       "      <td>8</td>\n",
       "      <td>118</td>\n",
       "      <td>87</td>\n",
       "      <td>68</td>\n",
       "      <td>0</td>\n",
       "      <td>...</td>\n",
       "      <td>57</td>\n",
       "      <td>82</td>\n",
       "      <td>151</td>\n",
       "      <td>126</td>\n",
       "      <td>90</td>\n",
       "      <td>195</td>\n",
       "      <td>90</td>\n",
       "      <td>0</td>\n",
       "      <td>554</td>\n",
       "      <td>1</td>\n",
       "    </tr>\n",
       "  </tbody>\n",
       "</table>\n",
       "<p>2 rows × 101 columns</p>\n",
       "</div>"
      ],
      "text/plain": [
       "   ENSG00000117643.14  ENSG00000116983.12  ENSG00000157077.14  \\\n",
       "3                 690                 364                 472   \n",
       "9                 233                 216                 363   \n",
       "\n",
       "   ENSG00000116641.17  ENSG00000116761.11  ENSG00000272824.1  \\\n",
       "3                1411                 125                 10   \n",
       "9                1141                  67                  8   \n",
       "\n",
       "   ENSG00000117322.17  ENSG00000162817.6  ENSG00000214711.9  \\\n",
       "3                 328                 95                161   \n",
       "9                 118                 87                 68   \n",
       "\n",
       "   ENSG00000231918.1  ...  ENSG00000104921.14  ENSG00000277301.1  \\\n",
       "3                 15  ...                 123                 97   \n",
       "9                  0  ...                  57                 82   \n",
       "\n",
       "   ENSG00000184113.9  ENSG00000263366.2  ENSG00000075275.16  \\\n",
       "3                209                195                 465   \n",
       "9                151                126                  90   \n",
       "\n",
       "   ENSG00000102349.17  ENSG00000158301.18  ENSG00000260585.1  \\\n",
       "3                 362                 142                  9   \n",
       "9                 195                  90                  0   \n",
       "\n",
       "   ENSG00000215580.10  HYS  \n",
       "3                 772    1  \n",
       "9                 554    1  \n",
       "\n",
       "[2 rows x 101 columns]"
      ]
     },
     "execution_count": 13,
     "metadata": {},
     "output_type": "execute_result"
    }
   ],
   "source": [
    "# create a list of column names to subset from data\n",
    "col_names = Top100.iloc[:, 0].tolist()\n",
    "\n",
    "# subset df based on the column names\n",
    "df_subset = data.loc[:, data.columns.isin(col_names)]\n",
    "df_subset['HYS'] = data['HYS']\n",
    "df_subset.to_csv ('HYS1vs3_Boruta_Top100_Data_Male.csv', index = False)\n",
    "df_subset.head(2)"
   ]
  },
  {
   "cell_type": "markdown",
   "id": "da0416bc",
   "metadata": {},
   "source": [
    "### Top 250"
   ]
  },
  {
   "cell_type": "code",
   "execution_count": 14,
   "id": "876e2345",
   "metadata": {
    "ExecuteTime": {
     "end_time": "2023-11-21T06:41:17.332736Z",
     "start_time": "2023-11-21T06:41:17.319738Z"
    }
   },
   "outputs": [
    {
     "data": {
      "text/html": [
       "<div>\n",
       "<style scoped>\n",
       "    .dataframe tbody tr th:only-of-type {\n",
       "        vertical-align: middle;\n",
       "    }\n",
       "\n",
       "    .dataframe tbody tr th {\n",
       "        vertical-align: top;\n",
       "    }\n",
       "\n",
       "    .dataframe thead th {\n",
       "        text-align: right;\n",
       "    }\n",
       "</style>\n",
       "<table border=\"1\" class=\"dataframe\">\n",
       "  <thead>\n",
       "    <tr style=\"text-align: right;\">\n",
       "      <th></th>\n",
       "      <th>CpG</th>\n",
       "      <th>Ranking</th>\n",
       "    </tr>\n",
       "  </thead>\n",
       "  <tbody>\n",
       "    <tr>\n",
       "      <th>46672</th>\n",
       "      <td>ENSG00000108797.11</td>\n",
       "      <td>1</td>\n",
       "    </tr>\n",
       "    <tr>\n",
       "      <th>40128</th>\n",
       "      <td>ENSG00000237111.1</td>\n",
       "      <td>1</td>\n",
       "    </tr>\n",
       "  </tbody>\n",
       "</table>\n",
       "</div>"
      ],
      "text/plain": [
       "                      CpG  Ranking\n",
       "46672  ENSG00000108797.11        1\n",
       "40128   ENSG00000237111.1        1"
      ]
     },
     "execution_count": 14,
     "metadata": {},
     "output_type": "execute_result"
    }
   ],
   "source": [
    "Top250 = selected_rf_features.iloc[:250, :]\n",
    "Top250.to_csv ('HYS1vs3_Boruta_Top250_Male.csv', index = False)\n",
    "Top250.head(2)"
   ]
  },
  {
   "cell_type": "code",
   "execution_count": 15,
   "id": "72fbf0a1",
   "metadata": {
    "ExecuteTime": {
     "end_time": "2023-11-21T06:41:17.428738Z",
     "start_time": "2023-11-21T06:41:17.335740Z"
    }
   },
   "outputs": [
    {
     "name": "stderr",
     "output_type": "stream",
     "text": [
      "C:\\Users\\system 4\\AppData\\Local\\Temp\\ipykernel_3356\\969045065.py:6: SettingWithCopyWarning: \n",
      "A value is trying to be set on a copy of a slice from a DataFrame.\n",
      "Try using .loc[row_indexer,col_indexer] = value instead\n",
      "\n",
      "See the caveats in the documentation: https://pandas.pydata.org/pandas-docs/stable/user_guide/indexing.html#returning-a-view-versus-a-copy\n",
      "  df_subset['HYS'] = data['HYS']\n"
     ]
    },
    {
     "data": {
      "text/html": [
       "<div>\n",
       "<style scoped>\n",
       "    .dataframe tbody tr th:only-of-type {\n",
       "        vertical-align: middle;\n",
       "    }\n",
       "\n",
       "    .dataframe tbody tr th {\n",
       "        vertical-align: top;\n",
       "    }\n",
       "\n",
       "    .dataframe thead th {\n",
       "        text-align: right;\n",
       "    }\n",
       "</style>\n",
       "<table border=\"1\" class=\"dataframe\">\n",
       "  <thead>\n",
       "    <tr style=\"text-align: right;\">\n",
       "      <th></th>\n",
       "      <th>ENSG00000269737.2</th>\n",
       "      <th>ENSG00000228037.1</th>\n",
       "      <th>ENSG00000206652.1</th>\n",
       "      <th>ENSG00000117318.8</th>\n",
       "      <th>ENSG00000117643.14</th>\n",
       "      <th>ENSG00000116983.12</th>\n",
       "      <th>ENSG00000171793.14</th>\n",
       "      <th>ENSG00000157077.14</th>\n",
       "      <th>ENSG00000134709.10</th>\n",
       "      <th>ENSG00000116641.17</th>\n",
       "      <th>...</th>\n",
       "      <th>ENSG00000184867.13</th>\n",
       "      <th>ENSG00000158301.18</th>\n",
       "      <th>ENSG00000196507.10</th>\n",
       "      <th>ENSG00000133131.14</th>\n",
       "      <th>ENSG00000101842.13</th>\n",
       "      <th>ENSG00000260585.1</th>\n",
       "      <th>ENSG00000009694.13</th>\n",
       "      <th>ENSG00000235802.1</th>\n",
       "      <th>ENSG00000215580.10</th>\n",
       "      <th>HYS</th>\n",
       "    </tr>\n",
       "  </thead>\n",
       "  <tbody>\n",
       "    <tr>\n",
       "      <th>3</th>\n",
       "      <td>10</td>\n",
       "      <td>28</td>\n",
       "      <td>27</td>\n",
       "      <td>190</td>\n",
       "      <td>690</td>\n",
       "      <td>364</td>\n",
       "      <td>1356</td>\n",
       "      <td>472</td>\n",
       "      <td>485</td>\n",
       "      <td>1411</td>\n",
       "      <td>...</td>\n",
       "      <td>154</td>\n",
       "      <td>142</td>\n",
       "      <td>108</td>\n",
       "      <td>411</td>\n",
       "      <td>443</td>\n",
       "      <td>9</td>\n",
       "      <td>1086</td>\n",
       "      <td>9</td>\n",
       "      <td>772</td>\n",
       "      <td>1</td>\n",
       "    </tr>\n",
       "    <tr>\n",
       "      <th>9</th>\n",
       "      <td>0</td>\n",
       "      <td>36</td>\n",
       "      <td>26</td>\n",
       "      <td>100</td>\n",
       "      <td>233</td>\n",
       "      <td>216</td>\n",
       "      <td>836</td>\n",
       "      <td>363</td>\n",
       "      <td>491</td>\n",
       "      <td>1141</td>\n",
       "      <td>...</td>\n",
       "      <td>61</td>\n",
       "      <td>90</td>\n",
       "      <td>85</td>\n",
       "      <td>265</td>\n",
       "      <td>339</td>\n",
       "      <td>0</td>\n",
       "      <td>1113</td>\n",
       "      <td>9</td>\n",
       "      <td>554</td>\n",
       "      <td>1</td>\n",
       "    </tr>\n",
       "  </tbody>\n",
       "</table>\n",
       "<p>2 rows × 251 columns</p>\n",
       "</div>"
      ],
      "text/plain": [
       "   ENSG00000269737.2  ENSG00000228037.1  ENSG00000206652.1  ENSG00000117318.8  \\\n",
       "3                 10                 28                 27                190   \n",
       "9                  0                 36                 26                100   \n",
       "\n",
       "   ENSG00000117643.14  ENSG00000116983.12  ENSG00000171793.14  \\\n",
       "3                 690                 364                1356   \n",
       "9                 233                 216                 836   \n",
       "\n",
       "   ENSG00000157077.14  ENSG00000134709.10  ENSG00000116641.17  ...  \\\n",
       "3                 472                 485                1411  ...   \n",
       "9                 363                 491                1141  ...   \n",
       "\n",
       "   ENSG00000184867.13  ENSG00000158301.18  ENSG00000196507.10  \\\n",
       "3                 154                 142                 108   \n",
       "9                  61                  90                  85   \n",
       "\n",
       "   ENSG00000133131.14  ENSG00000101842.13  ENSG00000260585.1  \\\n",
       "3                 411                 443                  9   \n",
       "9                 265                 339                  0   \n",
       "\n",
       "   ENSG00000009694.13  ENSG00000235802.1  ENSG00000215580.10  HYS  \n",
       "3                1086                  9                 772    1  \n",
       "9                1113                  9                 554    1  \n",
       "\n",
       "[2 rows x 251 columns]"
      ]
     },
     "execution_count": 15,
     "metadata": {},
     "output_type": "execute_result"
    }
   ],
   "source": [
    "# create a list of column names to subset from data\n",
    "col_names = Top250.iloc[:, 0].tolist()\n",
    "\n",
    "# subset df based on the column names\n",
    "df_subset = data.loc[:, data.columns.isin(col_names)]\n",
    "df_subset['HYS'] = data['HYS']\n",
    "df_subset.to_csv ('HYS1vs3_Boruta_Top250_Data_Male.csv', index = False)\n",
    "df_subset.head(2)"
   ]
  },
  {
   "cell_type": "markdown",
   "id": "ec242d27",
   "metadata": {},
   "source": [
    "### Top 500"
   ]
  },
  {
   "cell_type": "code",
   "execution_count": 16,
   "id": "380a31d7",
   "metadata": {
    "ExecuteTime": {
     "end_time": "2023-11-21T06:41:17.460736Z",
     "start_time": "2023-11-21T06:41:17.430738Z"
    }
   },
   "outputs": [
    {
     "data": {
      "text/html": [
       "<div>\n",
       "<style scoped>\n",
       "    .dataframe tbody tr th:only-of-type {\n",
       "        vertical-align: middle;\n",
       "    }\n",
       "\n",
       "    .dataframe tbody tr th {\n",
       "        vertical-align: top;\n",
       "    }\n",
       "\n",
       "    .dataframe thead th {\n",
       "        text-align: right;\n",
       "    }\n",
       "</style>\n",
       "<table border=\"1\" class=\"dataframe\">\n",
       "  <thead>\n",
       "    <tr style=\"text-align: right;\">\n",
       "      <th></th>\n",
       "      <th>CpG</th>\n",
       "      <th>Ranking</th>\n",
       "    </tr>\n",
       "  </thead>\n",
       "  <tbody>\n",
       "    <tr>\n",
       "      <th>46672</th>\n",
       "      <td>ENSG00000108797.11</td>\n",
       "      <td>1</td>\n",
       "    </tr>\n",
       "    <tr>\n",
       "      <th>40128</th>\n",
       "      <td>ENSG00000237111.1</td>\n",
       "      <td>1</td>\n",
       "    </tr>\n",
       "  </tbody>\n",
       "</table>\n",
       "</div>"
      ],
      "text/plain": [
       "                      CpG  Ranking\n",
       "46672  ENSG00000108797.11        1\n",
       "40128   ENSG00000237111.1        1"
      ]
     },
     "execution_count": 16,
     "metadata": {},
     "output_type": "execute_result"
    }
   ],
   "source": [
    "Top500 = selected_rf_features.iloc[:500, :]\n",
    "Top500.to_csv ('HYS1vs3_Boruta_Top500_Male.csv', index = False)\n",
    "Top500.head(2)"
   ]
  },
  {
   "cell_type": "code",
   "execution_count": 17,
   "id": "5956b562",
   "metadata": {
    "ExecuteTime": {
     "end_time": "2023-11-21T06:41:17.556737Z",
     "start_time": "2023-11-21T06:41:17.462737Z"
    }
   },
   "outputs": [
    {
     "name": "stderr",
     "output_type": "stream",
     "text": [
      "C:\\Users\\system 4\\AppData\\Local\\Temp\\ipykernel_3356\\1701761236.py:6: SettingWithCopyWarning: \n",
      "A value is trying to be set on a copy of a slice from a DataFrame.\n",
      "Try using .loc[row_indexer,col_indexer] = value instead\n",
      "\n",
      "See the caveats in the documentation: https://pandas.pydata.org/pandas-docs/stable/user_guide/indexing.html#returning-a-view-versus-a-copy\n",
      "  df_subset['HYS'] = data['HYS']\n"
     ]
    },
    {
     "data": {
      "text/html": [
       "<div>\n",
       "<style scoped>\n",
       "    .dataframe tbody tr th:only-of-type {\n",
       "        vertical-align: middle;\n",
       "    }\n",
       "\n",
       "    .dataframe tbody tr th {\n",
       "        vertical-align: top;\n",
       "    }\n",
       "\n",
       "    .dataframe thead th {\n",
       "        text-align: right;\n",
       "    }\n",
       "</style>\n",
       "<table border=\"1\" class=\"dataframe\">\n",
       "  <thead>\n",
       "    <tr style=\"text-align: right;\">\n",
       "      <th></th>\n",
       "      <th>ENSG00000205090.8</th>\n",
       "      <th>ENSG00000269737.2</th>\n",
       "      <th>ENSG00000228037.1</th>\n",
       "      <th>ENSG00000215788.10</th>\n",
       "      <th>ENSG00000171735.18</th>\n",
       "      <th>ENSG00000232208.2</th>\n",
       "      <th>ENSG00000116771.5</th>\n",
       "      <th>ENSG00000206652.1</th>\n",
       "      <th>ENSG00000169914.5</th>\n",
       "      <th>ENSG00000117318.8</th>\n",
       "      <th>...</th>\n",
       "      <th>ENSG00000196507.10</th>\n",
       "      <th>ENSG00000133131.14</th>\n",
       "      <th>ENSG00000101842.13</th>\n",
       "      <th>ENSG00000260585.1</th>\n",
       "      <th>ENSG00000009694.13</th>\n",
       "      <th>ENSG00000216171.1</th>\n",
       "      <th>ENSG00000235802.1</th>\n",
       "      <th>ENSG00000229745.1</th>\n",
       "      <th>ENSG00000215580.10</th>\n",
       "      <th>HYS</th>\n",
       "    </tr>\n",
       "  </thead>\n",
       "  <tbody>\n",
       "    <tr>\n",
       "      <th>3</th>\n",
       "      <td>12</td>\n",
       "      <td>10</td>\n",
       "      <td>28</td>\n",
       "      <td>1949</td>\n",
       "      <td>814</td>\n",
       "      <td>44</td>\n",
       "      <td>188</td>\n",
       "      <td>27</td>\n",
       "      <td>1428</td>\n",
       "      <td>190</td>\n",
       "      <td>...</td>\n",
       "      <td>108</td>\n",
       "      <td>411</td>\n",
       "      <td>443</td>\n",
       "      <td>9</td>\n",
       "      <td>1086</td>\n",
       "      <td>0</td>\n",
       "      <td>9</td>\n",
       "      <td>1</td>\n",
       "      <td>772</td>\n",
       "      <td>1</td>\n",
       "    </tr>\n",
       "    <tr>\n",
       "      <th>9</th>\n",
       "      <td>7</td>\n",
       "      <td>0</td>\n",
       "      <td>36</td>\n",
       "      <td>1194</td>\n",
       "      <td>541</td>\n",
       "      <td>32</td>\n",
       "      <td>103</td>\n",
       "      <td>26</td>\n",
       "      <td>1094</td>\n",
       "      <td>100</td>\n",
       "      <td>...</td>\n",
       "      <td>85</td>\n",
       "      <td>265</td>\n",
       "      <td>339</td>\n",
       "      <td>0</td>\n",
       "      <td>1113</td>\n",
       "      <td>0</td>\n",
       "      <td>9</td>\n",
       "      <td>1</td>\n",
       "      <td>554</td>\n",
       "      <td>1</td>\n",
       "    </tr>\n",
       "  </tbody>\n",
       "</table>\n",
       "<p>2 rows × 501 columns</p>\n",
       "</div>"
      ],
      "text/plain": [
       "   ENSG00000205090.8  ENSG00000269737.2  ENSG00000228037.1  \\\n",
       "3                 12                 10                 28   \n",
       "9                  7                  0                 36   \n",
       "\n",
       "   ENSG00000215788.10  ENSG00000171735.18  ENSG00000232208.2  \\\n",
       "3                1949                 814                 44   \n",
       "9                1194                 541                 32   \n",
       "\n",
       "   ENSG00000116771.5  ENSG00000206652.1  ENSG00000169914.5  ENSG00000117318.8  \\\n",
       "3                188                 27               1428                190   \n",
       "9                103                 26               1094                100   \n",
       "\n",
       "   ...  ENSG00000196507.10  ENSG00000133131.14  ENSG00000101842.13  \\\n",
       "3  ...                 108                 411                 443   \n",
       "9  ...                  85                 265                 339   \n",
       "\n",
       "   ENSG00000260585.1  ENSG00000009694.13  ENSG00000216171.1  \\\n",
       "3                  9                1086                  0   \n",
       "9                  0                1113                  0   \n",
       "\n",
       "   ENSG00000235802.1  ENSG00000229745.1  ENSG00000215580.10  HYS  \n",
       "3                  9                  1                 772    1  \n",
       "9                  9                  1                 554    1  \n",
       "\n",
       "[2 rows x 501 columns]"
      ]
     },
     "execution_count": 17,
     "metadata": {},
     "output_type": "execute_result"
    }
   ],
   "source": [
    "# create a list of column names to subset from data\n",
    "col_names = Top500.iloc[:, 0].tolist()\n",
    "\n",
    "# subset df based on the column names\n",
    "df_subset = data.loc[:, data.columns.isin(col_names)]\n",
    "df_subset['HYS'] = data['HYS']\n",
    "df_subset.to_csv ('HYS1vs3_Boruta_Top500_Data_Male.csv', index = False)\n",
    "df_subset.head(2)"
   ]
  },
  {
   "cell_type": "markdown",
   "id": "59810b00",
   "metadata": {},
   "source": []
  }
 ],
 "metadata": {
  "kernelspec": {
   "display_name": "Python 3 (ipykernel)",
   "language": "python",
   "name": "python3"
  },
  "language_info": {
   "codemirror_mode": {
    "name": "ipython",
    "version": 3
   },
   "file_extension": ".py",
   "mimetype": "text/x-python",
   "name": "python",
   "nbconvert_exporter": "python",
   "pygments_lexer": "ipython3",
   "version": "3.9.16"
  },
  "toc": {
   "base_numbering": 1,
   "nav_menu": {},
   "number_sections": true,
   "sideBar": true,
   "skip_h1_title": false,
   "title_cell": "Table of Contents",
   "title_sidebar": "Contents",
   "toc_cell": false,
   "toc_position": {},
   "toc_section_display": true,
   "toc_window_display": false
  },
  "varInspector": {
   "cols": {
    "lenName": 16,
    "lenType": 16,
    "lenVar": 40
   },
   "kernels_config": {
    "python": {
     "delete_cmd_postfix": "",
     "delete_cmd_prefix": "del ",
     "library": "var_list.py",
     "varRefreshCmd": "print(var_dic_list())"
    },
    "r": {
     "delete_cmd_postfix": ") ",
     "delete_cmd_prefix": "rm(",
     "library": "var_list.r",
     "varRefreshCmd": "cat(var_dic_list()) "
    }
   },
   "types_to_exclude": [
    "module",
    "function",
    "builtin_function_or_method",
    "instance",
    "_Feature"
   ],
   "window_display": false
  }
 },
 "nbformat": 4,
 "nbformat_minor": 5
}
