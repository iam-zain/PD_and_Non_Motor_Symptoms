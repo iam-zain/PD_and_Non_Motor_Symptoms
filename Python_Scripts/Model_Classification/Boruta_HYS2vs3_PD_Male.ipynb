{
 "cells": [
  {
   "cell_type": "code",
   "execution_count": 1,
   "id": "51c5704f",
   "metadata": {
    "ExecuteTime": {
     "end_time": "2023-11-21T06:37:38.184736Z",
     "start_time": "2023-11-21T06:37:36.553738Z"
    }
   },
   "outputs": [],
   "source": [
    "import numpy as np\n",
    "import pandas as pd\n",
    "from boruta import BorutaPy\n",
    "from sklearn.datasets import load_diabetes\n",
    "from sklearn.metrics import accuracy_score \n",
    "from sklearn.ensemble import RandomForestRegressor\n",
    "from sklearn.ensemble import RandomForestClassifier\n",
    "from sklearn.model_selection import train_test_split"
   ]
  },
  {
   "cell_type": "code",
   "execution_count": 2,
   "id": "5ff336b1",
   "metadata": {
    "ExecuteTime": {
     "end_time": "2023-11-21T06:38:06.306738Z",
     "start_time": "2023-11-21T06:37:38.186737Z"
    }
   },
   "outputs": [
    {
     "name": "stdout",
     "output_type": "stream",
     "text": [
      "S:\\PPMI_RNA\\Processed\\Progression_Analysis\\Male\\HYS_1vs2vs3\n"
     ]
    },
    {
     "data": {
      "text/html": [
       "<div>\n",
       "<style scoped>\n",
       "    .dataframe tbody tr th:only-of-type {\n",
       "        vertical-align: middle;\n",
       "    }\n",
       "\n",
       "    .dataframe tbody tr th {\n",
       "        vertical-align: top;\n",
       "    }\n",
       "\n",
       "    .dataframe thead th {\n",
       "        text-align: right;\n",
       "    }\n",
       "</style>\n",
       "<table border=\"1\" class=\"dataframe\">\n",
       "  <thead>\n",
       "    <tr style=\"text-align: right;\">\n",
       "      <th></th>\n",
       "      <th>HudAlphaID</th>\n",
       "      <th>HYS</th>\n",
       "      <th>ENSG00000223972.5</th>\n",
       "      <th>ENSG00000227232.5</th>\n",
       "      <th>ENSG00000278267.1</th>\n",
       "      <th>ENSG00000243485.5</th>\n",
       "      <th>ENSG00000284332.1</th>\n",
       "      <th>ENSG00000237613.2</th>\n",
       "      <th>ENSG00000268020.3</th>\n",
       "      <th>ENSG00000240361.2</th>\n",
       "      <th>...</th>\n",
       "      <th>ENSG00000273739.1</th>\n",
       "      <th>ENSG00000276700.1</th>\n",
       "      <th>ENSG00000276312.1</th>\n",
       "      <th>ENSG00000275757.1</th>\n",
       "      <th>ENSG00000278573.1</th>\n",
       "      <th>ENSG00000276017.1</th>\n",
       "      <th>ENSG00000278817.1</th>\n",
       "      <th>ENSG00000277196.4</th>\n",
       "      <th>ENSG00000278625.1</th>\n",
       "      <th>ENSG00000277374.1</th>\n",
       "    </tr>\n",
       "  </thead>\n",
       "  <tbody>\n",
       "    <tr>\n",
       "      <th>0</th>\n",
       "      <td>5104_SL_0001</td>\n",
       "      <td>2</td>\n",
       "      <td>15</td>\n",
       "      <td>232</td>\n",
       "      <td>15</td>\n",
       "      <td>0</td>\n",
       "      <td>0</td>\n",
       "      <td>0</td>\n",
       "      <td>0</td>\n",
       "      <td>0</td>\n",
       "      <td>...</td>\n",
       "      <td>0</td>\n",
       "      <td>1</td>\n",
       "      <td>16</td>\n",
       "      <td>1</td>\n",
       "      <td>0</td>\n",
       "      <td>2</td>\n",
       "      <td>19</td>\n",
       "      <td>0</td>\n",
       "      <td>0</td>\n",
       "      <td>0</td>\n",
       "    </tr>\n",
       "  </tbody>\n",
       "</table>\n",
       "<p>1 rows × 58782 columns</p>\n",
       "</div>"
      ],
      "text/plain": [
       "     HudAlphaID  HYS  ENSG00000223972.5  ENSG00000227232.5  ENSG00000278267.1  \\\n",
       "0  5104_SL_0001    2                 15                232                 15   \n",
       "\n",
       "   ENSG00000243485.5  ENSG00000284332.1  ENSG00000237613.2  ENSG00000268020.3  \\\n",
       "0                  0                  0                  0                  0   \n",
       "\n",
       "   ENSG00000240361.2  ...  ENSG00000273739.1  ENSG00000276700.1  \\\n",
       "0                  0  ...                  0                  1   \n",
       "\n",
       "   ENSG00000276312.1  ENSG00000275757.1  ENSG00000278573.1  ENSG00000276017.1  \\\n",
       "0                 16                  1                  0                  2   \n",
       "\n",
       "   ENSG00000278817.1  ENSG00000277196.4  ENSG00000278625.1  ENSG00000277374.1  \n",
       "0                 19                  0                  0                  0  \n",
       "\n",
       "[1 rows x 58782 columns]"
      ]
     },
     "execution_count": 2,
     "metadata": {},
     "output_type": "execute_result"
    }
   ],
   "source": [
    "%cd S:\\PPMI_RNA\\Processed\\Progression_Analysis\\Male\\HYS_1vs2vs3\n",
    "data = pd.read_csv('CountData_HYS1vs2vs3_PD_withHYS_Male.csv')\n",
    "data = data[data['HYS'] != 1]\n",
    "data.head(1)"
   ]
  },
  {
   "cell_type": "code",
   "execution_count": 3,
   "id": "ee22df7a",
   "metadata": {
    "ExecuteTime": {
     "end_time": "2023-11-21T06:38:06.707740Z",
     "start_time": "2023-11-21T06:38:06.314738Z"
    }
   },
   "outputs": [
    {
     "name": "stdout",
     "output_type": "stream",
     "text": [
      "   ENSG00000223972.5  ENSG00000227232.5  ENSG00000278267.1  ENSG00000243485.5  \\\n",
      "0                 15                232                 15                  0   \n",
      "1                  0                 97                  8                  0   \n",
      "\n",
      "   ENSG00000284332.1  ENSG00000237613.2  ENSG00000268020.3  ENSG00000240361.2  \\\n",
      "0                  0                  0                  0                  0   \n",
      "1                  0                  0                  0                  0   \n",
      "\n",
      "   ENSG00000186092.6  ENSG00000238009.6  ...  ENSG00000273739.1  \\\n",
      "0                  0                124  ...                  0   \n",
      "1                  2                124  ...                  0   \n",
      "\n",
      "   ENSG00000276700.1  ENSG00000276312.1  ENSG00000275757.1  ENSG00000278573.1  \\\n",
      "0                  1                 16                  1                  0   \n",
      "1                  9                  0                  1                  0   \n",
      "\n",
      "   ENSG00000276017.1  ENSG00000278817.1  ENSG00000277196.4  ENSG00000278625.1  \\\n",
      "0                  2                 19                  0                  0   \n",
      "1                  0                  7                  1                  0   \n",
      "\n",
      "   ENSG00000277374.1  \n",
      "0                  0  \n",
      "1                  0  \n",
      "\n",
      "[2 rows x 58780 columns]\n"
     ]
    }
   ],
   "source": [
    "X = data.drop(['HudAlphaID', 'HYS'], axis = 1)\n",
    "y = data['HYS']\n",
    "X_train, X_test, y_train, y_test = train_test_split(X, y, test_size = .2, random_state = 1) \n",
    "print(X.head(2))"
   ]
  },
  {
   "cell_type": "code",
   "execution_count": 4,
   "id": "c1ee3e48",
   "metadata": {
    "ExecuteTime": {
     "end_time": "2023-11-21T06:38:09.916737Z",
     "start_time": "2023-11-21T06:38:06.710737Z"
    }
   },
   "outputs": [
    {
     "data": {
      "text/plain": [
       "RandomForestClassifier(random_state=1)"
      ]
     },
     "execution_count": 4,
     "metadata": {},
     "output_type": "execute_result"
    }
   ],
   "source": [
    "rf_all_features = RandomForestClassifier(random_state=1)\n",
    "rf_all_features.fit(X_train, y_train)"
   ]
  },
  {
   "cell_type": "code",
   "execution_count": 5,
   "id": "f17f8606",
   "metadata": {
    "ExecuteTime": {
     "end_time": "2023-11-21T06:38:10.341736Z",
     "start_time": "2023-11-21T06:38:09.927737Z"
    }
   },
   "outputs": [
    {
     "data": {
      "text/plain": [
       "0.9813084112149533"
      ]
     },
     "execution_count": 5,
     "metadata": {},
     "output_type": "execute_result"
    }
   ],
   "source": [
    "accuracy_score(y_test, rf_all_features.predict(X_test))"
   ]
  },
  {
   "cell_type": "code",
   "execution_count": 6,
   "id": "5ba608ac",
   "metadata": {
    "ExecuteTime": {
     "end_time": "2023-11-21T06:55:06.811738Z",
     "start_time": "2023-11-21T06:38:10.343737Z"
    },
    "scrolled": true
   },
   "outputs": [
    {
     "name": "stdout",
     "output_type": "stream",
     "text": [
      "Iteration: 1 / 100\n",
      "Iteration: 2 / 100\n",
      "Iteration: 3 / 100\n",
      "Iteration: 4 / 100\n",
      "Iteration: 5 / 100\n",
      "Iteration: 6 / 100\n",
      "Iteration: 7 / 100\n",
      "Iteration: 8 / 100\n",
      "\n",
      "\n",
      "BorutaPy finished running.\n",
      "\n",
      "Iteration: \t9 / 100\n",
      "Confirmed: \t0\n",
      "Tentative: \t0\n",
      "Rejected: \t58780\n"
     ]
    },
    {
     "data": {
      "text/plain": [
       "BorutaPy(estimator=RandomForestClassifier(n_estimators=3428,\n",
       "                                          random_state=RandomState(MT19937) at 0x1C7A54A1D40),\n",
       "         n_estimators='auto',\n",
       "         random_state=RandomState(MT19937) at 0x1C7A54A1D40, verbose=1)"
      ]
     },
     "execution_count": 6,
     "metadata": {},
     "output_type": "execute_result"
    }
   ],
   "source": [
    "rfc = RandomForestClassifier(random_state=1)\n",
    "boruta_selector = BorutaPy(rfc, n_estimators= 'auto', verbose=1, random_state=1)\n",
    "boruta_selector.fit(np.array(X_train), np.array(y_train))  "
   ]
  },
  {
   "cell_type": "code",
   "execution_count": 7,
   "id": "51f874e0",
   "metadata": {
    "ExecuteTime": {
     "end_time": "2023-11-21T06:55:06.827738Z",
     "start_time": "2023-11-21T06:55:06.814738Z"
    }
   },
   "outputs": [
    {
     "name": "stdout",
     "output_type": "stream",
     "text": [
      "No. of significant features:  0\n"
     ]
    }
   ],
   "source": [
    "# print(\"Ranking: \",boruta_selector.ranking_)          \n",
    "print(\"No. of significant features: \", boruta_selector.n_features_)"
   ]
  },
  {
   "cell_type": "code",
   "execution_count": 8,
   "id": "61cadc89",
   "metadata": {
    "ExecuteTime": {
     "end_time": "2023-11-21T06:55:06.905739Z",
     "start_time": "2023-11-21T06:55:06.829738Z"
    }
   },
   "outputs": [],
   "source": [
    "selected_rf_features = pd.DataFrame({'GeneID':list(X_train.columns),\n",
    "                                       'Ranking':boruta_selector.ranking_})\n",
    "selected_rf_features = selected_rf_features.sort_values(by='Ranking')"
   ]
  },
  {
   "cell_type": "code",
   "execution_count": 9,
   "id": "6ae888ab",
   "metadata": {
    "ExecuteTime": {
     "end_time": "2023-11-21T06:55:06.969737Z",
     "start_time": "2023-11-21T06:55:06.909739Z"
    },
    "scrolled": true
   },
   "outputs": [
    {
     "data": {
      "text/html": [
       "<div>\n",
       "<style scoped>\n",
       "    .dataframe tbody tr th:only-of-type {\n",
       "        vertical-align: middle;\n",
       "    }\n",
       "\n",
       "    .dataframe tbody tr th {\n",
       "        vertical-align: top;\n",
       "    }\n",
       "\n",
       "    .dataframe thead th {\n",
       "        text-align: right;\n",
       "    }\n",
       "</style>\n",
       "<table border=\"1\" class=\"dataframe\">\n",
       "  <thead>\n",
       "    <tr style=\"text-align: right;\">\n",
       "      <th></th>\n",
       "      <th>GeneID</th>\n",
       "      <th>Ranking</th>\n",
       "    </tr>\n",
       "  </thead>\n",
       "  <tbody>\n",
       "    <tr>\n",
       "      <th>23986</th>\n",
       "      <td>ENSG00000129422.14</td>\n",
       "      <td>2</td>\n",
       "    </tr>\n",
       "    <tr>\n",
       "      <th>45173</th>\n",
       "      <td>ENSG00000262823.1</td>\n",
       "      <td>2</td>\n",
       "    </tr>\n",
       "    <tr>\n",
       "      <th>50391</th>\n",
       "      <td>ENSG00000197134.11</td>\n",
       "      <td>2</td>\n",
       "    </tr>\n",
       "  </tbody>\n",
       "</table>\n",
       "</div>"
      ],
      "text/plain": [
       "                   GeneID  Ranking\n",
       "23986  ENSG00000129422.14        2\n",
       "45173   ENSG00000262823.1        2\n",
       "50391  ENSG00000197134.11        2"
      ]
     },
     "execution_count": 9,
     "metadata": {},
     "output_type": "execute_result"
    }
   ],
   "source": [
    "Top50 = selected_rf_features.iloc[:50, :]\n",
    "Top50.head(3)"
   ]
  },
  {
   "cell_type": "markdown",
   "id": "a3aba4cb",
   "metadata": {},
   "source": [
    "### Top 50"
   ]
  },
  {
   "cell_type": "code",
   "execution_count": 10,
   "id": "9605e163",
   "metadata": {
    "ExecuteTime": {
     "end_time": "2023-11-21T06:55:07.110737Z",
     "start_time": "2023-11-21T06:55:06.971738Z"
    }
   },
   "outputs": [],
   "source": [
    "Top50.to_csv ('HYS2vs3_Boruta_Top50_Male.csv', index = False)\n",
    "selected_rf_features.to_csv ('HYS2vs3_Boruta_All_Male.csv', index = False)"
   ]
  },
  {
   "cell_type": "code",
   "execution_count": 11,
   "id": "a5bc67f8",
   "metadata": {
    "ExecuteTime": {
     "end_time": "2023-11-21T06:55:07.141737Z",
     "start_time": "2023-11-21T06:55:07.112739Z"
    }
   },
   "outputs": [
    {
     "name": "stderr",
     "output_type": "stream",
     "text": [
      "C:\\Users\\system 4\\AppData\\Local\\Temp\\ipykernel_9404\\1943946766.py:6: SettingWithCopyWarning: \n",
      "A value is trying to be set on a copy of a slice from a DataFrame.\n",
      "Try using .loc[row_indexer,col_indexer] = value instead\n",
      "\n",
      "See the caveats in the documentation: https://pandas.pydata.org/pandas-docs/stable/user_guide/indexing.html#returning-a-view-versus-a-copy\n",
      "  df_subset['HYS'] = data['HYS']\n"
     ]
    },
    {
     "data": {
      "text/html": [
       "<div>\n",
       "<style scoped>\n",
       "    .dataframe tbody tr th:only-of-type {\n",
       "        vertical-align: middle;\n",
       "    }\n",
       "\n",
       "    .dataframe tbody tr th {\n",
       "        vertical-align: top;\n",
       "    }\n",
       "\n",
       "    .dataframe thead th {\n",
       "        text-align: right;\n",
       "    }\n",
       "</style>\n",
       "<table border=\"1\" class=\"dataframe\">\n",
       "  <thead>\n",
       "    <tr style=\"text-align: right;\">\n",
       "      <th></th>\n",
       "      <th>ENSG00000230679.1</th>\n",
       "      <th>ENSG00000229994.1</th>\n",
       "      <th>ENSG00000238287.1</th>\n",
       "      <th>ENSG00000281912.1</th>\n",
       "      <th>ENSG00000081985.11</th>\n",
       "      <th>ENSG00000270339.3</th>\n",
       "      <th>ENSG00000143365.17</th>\n",
       "      <th>ENSG00000227591.5</th>\n",
       "      <th>ENSG00000214711.9</th>\n",
       "      <th>ENSG00000057935.13</th>\n",
       "      <th>...</th>\n",
       "      <th>ENSG00000259843.2</th>\n",
       "      <th>ENSG00000131153.8</th>\n",
       "      <th>ENSG00000262823.1</th>\n",
       "      <th>ENSG00000166582.9</th>\n",
       "      <th>ENSG00000197134.11</th>\n",
       "      <th>ENSG00000273047.1</th>\n",
       "      <th>ENSG00000100359.20</th>\n",
       "      <th>ENSG00000196507.10</th>\n",
       "      <th>ENSG00000215580.10</th>\n",
       "      <th>HYS</th>\n",
       "    </tr>\n",
       "  </thead>\n",
       "  <tbody>\n",
       "    <tr>\n",
       "      <th>0</th>\n",
       "      <td>30</td>\n",
       "      <td>115</td>\n",
       "      <td>121</td>\n",
       "      <td>28</td>\n",
       "      <td>455</td>\n",
       "      <td>151</td>\n",
       "      <td>188</td>\n",
       "      <td>37</td>\n",
       "      <td>112</td>\n",
       "      <td>836</td>\n",
       "      <td>...</td>\n",
       "      <td>18</td>\n",
       "      <td>120</td>\n",
       "      <td>103</td>\n",
       "      <td>262</td>\n",
       "      <td>552</td>\n",
       "      <td>0</td>\n",
       "      <td>117</td>\n",
       "      <td>130</td>\n",
       "      <td>751</td>\n",
       "      <td>2</td>\n",
       "    </tr>\n",
       "    <tr>\n",
       "      <th>1</th>\n",
       "      <td>20</td>\n",
       "      <td>90</td>\n",
       "      <td>60</td>\n",
       "      <td>19</td>\n",
       "      <td>294</td>\n",
       "      <td>123</td>\n",
       "      <td>92</td>\n",
       "      <td>24</td>\n",
       "      <td>93</td>\n",
       "      <td>573</td>\n",
       "      <td>...</td>\n",
       "      <td>10</td>\n",
       "      <td>54</td>\n",
       "      <td>66</td>\n",
       "      <td>94</td>\n",
       "      <td>352</td>\n",
       "      <td>0</td>\n",
       "      <td>142</td>\n",
       "      <td>113</td>\n",
       "      <td>404</td>\n",
       "      <td>2</td>\n",
       "    </tr>\n",
       "  </tbody>\n",
       "</table>\n",
       "<p>2 rows × 51 columns</p>\n",
       "</div>"
      ],
      "text/plain": [
       "   ENSG00000230679.1  ENSG00000229994.1  ENSG00000238287.1  ENSG00000281912.1  \\\n",
       "0                 30                115                121                 28   \n",
       "1                 20                 90                 60                 19   \n",
       "\n",
       "   ENSG00000081985.11  ENSG00000270339.3  ENSG00000143365.17  \\\n",
       "0                 455                151                 188   \n",
       "1                 294                123                  92   \n",
       "\n",
       "   ENSG00000227591.5  ENSG00000214711.9  ENSG00000057935.13  ...  \\\n",
       "0                 37                112                 836  ...   \n",
       "1                 24                 93                 573  ...   \n",
       "\n",
       "   ENSG00000259843.2  ENSG00000131153.8  ENSG00000262823.1  ENSG00000166582.9  \\\n",
       "0                 18                120                103                262   \n",
       "1                 10                 54                 66                 94   \n",
       "\n",
       "   ENSG00000197134.11  ENSG00000273047.1  ENSG00000100359.20  \\\n",
       "0                 552                  0                 117   \n",
       "1                 352                  0                 142   \n",
       "\n",
       "   ENSG00000196507.10  ENSG00000215580.10  HYS  \n",
       "0                 130                 751    2  \n",
       "1                 113                 404    2  \n",
       "\n",
       "[2 rows x 51 columns]"
      ]
     },
     "execution_count": 11,
     "metadata": {},
     "output_type": "execute_result"
    }
   ],
   "source": [
    "# create a list of column names to subset from data\n",
    "col_names = Top50.iloc[:, 0].tolist()\n",
    "\n",
    "# subset df based on the column names\n",
    "df_subset = data.loc[:, data.columns.isin(col_names)]\n",
    "df_subset['HYS'] = data['HYS']\n",
    "df_subset.to_csv ('HYS2vs3_Boruta_Top50_Data_Male.csv', index = False)\n",
    "df_subset.head(2)"
   ]
  },
  {
   "cell_type": "markdown",
   "id": "02af7ae1",
   "metadata": {},
   "source": [
    "### Top 100"
   ]
  },
  {
   "cell_type": "code",
   "execution_count": 12,
   "id": "d2bf41f3",
   "metadata": {
    "ExecuteTime": {
     "end_time": "2023-11-21T06:55:07.189737Z",
     "start_time": "2023-11-21T06:55:07.144739Z"
    }
   },
   "outputs": [
    {
     "data": {
      "text/html": [
       "<div>\n",
       "<style scoped>\n",
       "    .dataframe tbody tr th:only-of-type {\n",
       "        vertical-align: middle;\n",
       "    }\n",
       "\n",
       "    .dataframe tbody tr th {\n",
       "        vertical-align: top;\n",
       "    }\n",
       "\n",
       "    .dataframe thead th {\n",
       "        text-align: right;\n",
       "    }\n",
       "</style>\n",
       "<table border=\"1\" class=\"dataframe\">\n",
       "  <thead>\n",
       "    <tr style=\"text-align: right;\">\n",
       "      <th></th>\n",
       "      <th>GeneID</th>\n",
       "      <th>Ranking</th>\n",
       "    </tr>\n",
       "  </thead>\n",
       "  <tbody>\n",
       "    <tr>\n",
       "      <th>23986</th>\n",
       "      <td>ENSG00000129422.14</td>\n",
       "      <td>2</td>\n",
       "    </tr>\n",
       "    <tr>\n",
       "      <th>45173</th>\n",
       "      <td>ENSG00000262823.1</td>\n",
       "      <td>2</td>\n",
       "    </tr>\n",
       "  </tbody>\n",
       "</table>\n",
       "</div>"
      ],
      "text/plain": [
       "                   GeneID  Ranking\n",
       "23986  ENSG00000129422.14        2\n",
       "45173   ENSG00000262823.1        2"
      ]
     },
     "execution_count": 12,
     "metadata": {},
     "output_type": "execute_result"
    }
   ],
   "source": [
    "Top100 = selected_rf_features.iloc[:100, :]\n",
    "Top100.to_csv ('HYS2vs3_Boruta_Top100_Male.csv', index = False)\n",
    "Top100.head(2)"
   ]
  },
  {
   "cell_type": "code",
   "execution_count": 13,
   "id": "bd596750",
   "metadata": {
    "ExecuteTime": {
     "end_time": "2023-11-21T06:55:07.267738Z",
     "start_time": "2023-11-21T06:55:07.191737Z"
    }
   },
   "outputs": [
    {
     "name": "stderr",
     "output_type": "stream",
     "text": [
      "C:\\Users\\system 4\\AppData\\Local\\Temp\\ipykernel_9404\\2032703868.py:6: SettingWithCopyWarning: \n",
      "A value is trying to be set on a copy of a slice from a DataFrame.\n",
      "Try using .loc[row_indexer,col_indexer] = value instead\n",
      "\n",
      "See the caveats in the documentation: https://pandas.pydata.org/pandas-docs/stable/user_guide/indexing.html#returning-a-view-versus-a-copy\n",
      "  df_subset['HYS'] = data['HYS']\n"
     ]
    },
    {
     "data": {
      "text/html": [
       "<div>\n",
       "<style scoped>\n",
       "    .dataframe tbody tr th:only-of-type {\n",
       "        vertical-align: middle;\n",
       "    }\n",
       "\n",
       "    .dataframe tbody tr th {\n",
       "        vertical-align: top;\n",
       "    }\n",
       "\n",
       "    .dataframe thead th {\n",
       "        text-align: right;\n",
       "    }\n",
       "</style>\n",
       "<table border=\"1\" class=\"dataframe\">\n",
       "  <thead>\n",
       "    <tr style=\"text-align: right;\">\n",
       "      <th></th>\n",
       "      <th>ENSG00000271746.1</th>\n",
       "      <th>ENSG00000230679.1</th>\n",
       "      <th>ENSG00000229994.1</th>\n",
       "      <th>ENSG00000238287.1</th>\n",
       "      <th>ENSG00000162415.6</th>\n",
       "      <th>ENSG00000281912.1</th>\n",
       "      <th>ENSG00000116641.17</th>\n",
       "      <th>ENSG00000081985.11</th>\n",
       "      <th>ENSG00000069702.10</th>\n",
       "      <th>ENSG00000162676.11</th>\n",
       "      <th>...</th>\n",
       "      <th>ENSG00000273047.1</th>\n",
       "      <th>ENSG00000236499.2</th>\n",
       "      <th>ENSG00000211660.3</th>\n",
       "      <th>ENSG00000178026.12</th>\n",
       "      <th>ENSG00000100359.20</th>\n",
       "      <th>ENSG00000196507.10</th>\n",
       "      <th>ENSG00000182508.13</th>\n",
       "      <th>ENSG00000215580.10</th>\n",
       "      <th>ENSG00000229236.1</th>\n",
       "      <th>HYS</th>\n",
       "    </tr>\n",
       "  </thead>\n",
       "  <tbody>\n",
       "    <tr>\n",
       "      <th>0</th>\n",
       "      <td>82</td>\n",
       "      <td>30</td>\n",
       "      <td>115</td>\n",
       "      <td>121</td>\n",
       "      <td>212</td>\n",
       "      <td>28</td>\n",
       "      <td>1178</td>\n",
       "      <td>455</td>\n",
       "      <td>3722</td>\n",
       "      <td>910</td>\n",
       "      <td>...</td>\n",
       "      <td>0</td>\n",
       "      <td>70</td>\n",
       "      <td>1209</td>\n",
       "      <td>6</td>\n",
       "      <td>117</td>\n",
       "      <td>130</td>\n",
       "      <td>32</td>\n",
       "      <td>751</td>\n",
       "      <td>295</td>\n",
       "      <td>2</td>\n",
       "    </tr>\n",
       "    <tr>\n",
       "      <th>1</th>\n",
       "      <td>34</td>\n",
       "      <td>20</td>\n",
       "      <td>90</td>\n",
       "      <td>60</td>\n",
       "      <td>193</td>\n",
       "      <td>19</td>\n",
       "      <td>930</td>\n",
       "      <td>294</td>\n",
       "      <td>2289</td>\n",
       "      <td>343</td>\n",
       "      <td>...</td>\n",
       "      <td>0</td>\n",
       "      <td>68</td>\n",
       "      <td>48</td>\n",
       "      <td>10</td>\n",
       "      <td>142</td>\n",
       "      <td>113</td>\n",
       "      <td>20</td>\n",
       "      <td>404</td>\n",
       "      <td>330</td>\n",
       "      <td>2</td>\n",
       "    </tr>\n",
       "  </tbody>\n",
       "</table>\n",
       "<p>2 rows × 101 columns</p>\n",
       "</div>"
      ],
      "text/plain": [
       "   ENSG00000271746.1  ENSG00000230679.1  ENSG00000229994.1  ENSG00000238287.1  \\\n",
       "0                 82                 30                115                121   \n",
       "1                 34                 20                 90                 60   \n",
       "\n",
       "   ENSG00000162415.6  ENSG00000281912.1  ENSG00000116641.17  \\\n",
       "0                212                 28                1178   \n",
       "1                193                 19                 930   \n",
       "\n",
       "   ENSG00000081985.11  ENSG00000069702.10  ENSG00000162676.11  ...  \\\n",
       "0                 455                3722                 910  ...   \n",
       "1                 294                2289                 343  ...   \n",
       "\n",
       "   ENSG00000273047.1  ENSG00000236499.2  ENSG00000211660.3  \\\n",
       "0                  0                 70               1209   \n",
       "1                  0                 68                 48   \n",
       "\n",
       "   ENSG00000178026.12  ENSG00000100359.20  ENSG00000196507.10  \\\n",
       "0                   6                 117                 130   \n",
       "1                  10                 142                 113   \n",
       "\n",
       "   ENSG00000182508.13  ENSG00000215580.10  ENSG00000229236.1  HYS  \n",
       "0                  32                 751                295    2  \n",
       "1                  20                 404                330    2  \n",
       "\n",
       "[2 rows x 101 columns]"
      ]
     },
     "execution_count": 13,
     "metadata": {},
     "output_type": "execute_result"
    }
   ],
   "source": [
    "# create a list of column names to subset from data\n",
    "col_names = Top100.iloc[:, 0].tolist()\n",
    "\n",
    "# subset df based on the column names\n",
    "df_subset = data.loc[:, data.columns.isin(col_names)]\n",
    "df_subset['HYS'] = data['HYS']\n",
    "df_subset.to_csv ('HYS2vs3_Boruta_Top100_Data_Male.csv', index = False)\n",
    "df_subset.head(2)"
   ]
  },
  {
   "cell_type": "markdown",
   "id": "da0416bc",
   "metadata": {},
   "source": [
    "### Top 250"
   ]
  },
  {
   "cell_type": "code",
   "execution_count": 14,
   "id": "876e2345",
   "metadata": {
    "ExecuteTime": {
     "end_time": "2023-11-21T06:55:07.362738Z",
     "start_time": "2023-11-21T06:55:07.269738Z"
    }
   },
   "outputs": [
    {
     "data": {
      "text/html": [
       "<div>\n",
       "<style scoped>\n",
       "    .dataframe tbody tr th:only-of-type {\n",
       "        vertical-align: middle;\n",
       "    }\n",
       "\n",
       "    .dataframe tbody tr th {\n",
       "        vertical-align: top;\n",
       "    }\n",
       "\n",
       "    .dataframe thead th {\n",
       "        text-align: right;\n",
       "    }\n",
       "</style>\n",
       "<table border=\"1\" class=\"dataframe\">\n",
       "  <thead>\n",
       "    <tr style=\"text-align: right;\">\n",
       "      <th></th>\n",
       "      <th>GeneID</th>\n",
       "      <th>Ranking</th>\n",
       "    </tr>\n",
       "  </thead>\n",
       "  <tbody>\n",
       "    <tr>\n",
       "      <th>23986</th>\n",
       "      <td>ENSG00000129422.14</td>\n",
       "      <td>2</td>\n",
       "    </tr>\n",
       "    <tr>\n",
       "      <th>45173</th>\n",
       "      <td>ENSG00000262823.1</td>\n",
       "      <td>2</td>\n",
       "    </tr>\n",
       "  </tbody>\n",
       "</table>\n",
       "</div>"
      ],
      "text/plain": [
       "                   GeneID  Ranking\n",
       "23986  ENSG00000129422.14        2\n",
       "45173   ENSG00000262823.1        2"
      ]
     },
     "execution_count": 14,
     "metadata": {},
     "output_type": "execute_result"
    }
   ],
   "source": [
    "Top250 = selected_rf_features.iloc[:250, :]\n",
    "Top250.to_csv ('HYS2vs3_Boruta_Top250_Male.csv', index = False)\n",
    "Top250.head(2)"
   ]
  },
  {
   "cell_type": "code",
   "execution_count": 15,
   "id": "72fbf0a1",
   "metadata": {
    "ExecuteTime": {
     "end_time": "2023-11-21T06:55:07.505739Z",
     "start_time": "2023-11-21T06:55:07.364739Z"
    }
   },
   "outputs": [
    {
     "name": "stderr",
     "output_type": "stream",
     "text": [
      "C:\\Users\\system 4\\AppData\\Local\\Temp\\ipykernel_9404\\3736889896.py:6: SettingWithCopyWarning: \n",
      "A value is trying to be set on a copy of a slice from a DataFrame.\n",
      "Try using .loc[row_indexer,col_indexer] = value instead\n",
      "\n",
      "See the caveats in the documentation: https://pandas.pydata.org/pandas-docs/stable/user_guide/indexing.html#returning-a-view-versus-a-copy\n",
      "  df_subset['HYS'] = data['HYS']\n"
     ]
    },
    {
     "data": {
      "text/html": [
       "<div>\n",
       "<style scoped>\n",
       "    .dataframe tbody tr th:only-of-type {\n",
       "        vertical-align: middle;\n",
       "    }\n",
       "\n",
       "    .dataframe tbody tr th {\n",
       "        vertical-align: top;\n",
       "    }\n",
       "\n",
       "    .dataframe thead th {\n",
       "        text-align: right;\n",
       "    }\n",
       "</style>\n",
       "<table border=\"1\" class=\"dataframe\">\n",
       "  <thead>\n",
       "    <tr style=\"text-align: right;\">\n",
       "      <th></th>\n",
       "      <th>ENSG00000271746.1</th>\n",
       "      <th>ENSG00000171735.18</th>\n",
       "      <th>ENSG00000230679.1</th>\n",
       "      <th>ENSG00000228140.1</th>\n",
       "      <th>ENSG00000130768.14</th>\n",
       "      <th>ENSG00000229994.1</th>\n",
       "      <th>ENSG00000187815.9</th>\n",
       "      <th>ENSG00000238287.1</th>\n",
       "      <th>ENSG00000162415.6</th>\n",
       "      <th>ENSG00000281912.1</th>\n",
       "      <th>...</th>\n",
       "      <th>ENSG00000100197.21</th>\n",
       "      <th>ENSG00000184867.13</th>\n",
       "      <th>ENSG00000158301.18</th>\n",
       "      <th>ENSG00000196507.10</th>\n",
       "      <th>ENSG00000199832.1</th>\n",
       "      <th>ENSG00000182508.13</th>\n",
       "      <th>ENSG00000224485.1</th>\n",
       "      <th>ENSG00000215580.10</th>\n",
       "      <th>ENSG00000229236.1</th>\n",
       "      <th>HYS</th>\n",
       "    </tr>\n",
       "  </thead>\n",
       "  <tbody>\n",
       "    <tr>\n",
       "      <th>0</th>\n",
       "      <td>82</td>\n",
       "      <td>998</td>\n",
       "      <td>30</td>\n",
       "      <td>246</td>\n",
       "      <td>34</td>\n",
       "      <td>115</td>\n",
       "      <td>343</td>\n",
       "      <td>121</td>\n",
       "      <td>212</td>\n",
       "      <td>28</td>\n",
       "      <td>...</td>\n",
       "      <td>13</td>\n",
       "      <td>141</td>\n",
       "      <td>153</td>\n",
       "      <td>130</td>\n",
       "      <td>0</td>\n",
       "      <td>32</td>\n",
       "      <td>0</td>\n",
       "      <td>751</td>\n",
       "      <td>295</td>\n",
       "      <td>2</td>\n",
       "    </tr>\n",
       "    <tr>\n",
       "      <th>1</th>\n",
       "      <td>34</td>\n",
       "      <td>748</td>\n",
       "      <td>20</td>\n",
       "      <td>342</td>\n",
       "      <td>35</td>\n",
       "      <td>90</td>\n",
       "      <td>273</td>\n",
       "      <td>60</td>\n",
       "      <td>193</td>\n",
       "      <td>19</td>\n",
       "      <td>...</td>\n",
       "      <td>30</td>\n",
       "      <td>121</td>\n",
       "      <td>91</td>\n",
       "      <td>113</td>\n",
       "      <td>0</td>\n",
       "      <td>20</td>\n",
       "      <td>0</td>\n",
       "      <td>404</td>\n",
       "      <td>330</td>\n",
       "      <td>2</td>\n",
       "    </tr>\n",
       "  </tbody>\n",
       "</table>\n",
       "<p>2 rows × 251 columns</p>\n",
       "</div>"
      ],
      "text/plain": [
       "   ENSG00000271746.1  ENSG00000171735.18  ENSG00000230679.1  \\\n",
       "0                 82                 998                 30   \n",
       "1                 34                 748                 20   \n",
       "\n",
       "   ENSG00000228140.1  ENSG00000130768.14  ENSG00000229994.1  \\\n",
       "0                246                  34                115   \n",
       "1                342                  35                 90   \n",
       "\n",
       "   ENSG00000187815.9  ENSG00000238287.1  ENSG00000162415.6  ENSG00000281912.1  \\\n",
       "0                343                121                212                 28   \n",
       "1                273                 60                193                 19   \n",
       "\n",
       "   ...  ENSG00000100197.21  ENSG00000184867.13  ENSG00000158301.18  \\\n",
       "0  ...                  13                 141                 153   \n",
       "1  ...                  30                 121                  91   \n",
       "\n",
       "   ENSG00000196507.10  ENSG00000199832.1  ENSG00000182508.13  \\\n",
       "0                 130                  0                  32   \n",
       "1                 113                  0                  20   \n",
       "\n",
       "   ENSG00000224485.1  ENSG00000215580.10  ENSG00000229236.1  HYS  \n",
       "0                  0                 751                295    2  \n",
       "1                  0                 404                330    2  \n",
       "\n",
       "[2 rows x 251 columns]"
      ]
     },
     "execution_count": 15,
     "metadata": {},
     "output_type": "execute_result"
    }
   ],
   "source": [
    "# create a list of column names to subset from data\n",
    "col_names = Top250.iloc[:, 0].tolist()\n",
    "\n",
    "# subset df based on the column names\n",
    "df_subset = data.loc[:, data.columns.isin(col_names)]\n",
    "df_subset['HYS'] = data['HYS']\n",
    "df_subset.to_csv ('HYS2vs3_Boruta_Top250_Data_Male.csv', index = False)\n",
    "df_subset.head(2)"
   ]
  },
  {
   "cell_type": "markdown",
   "id": "ec242d27",
   "metadata": {},
   "source": [
    "### Top 500"
   ]
  },
  {
   "cell_type": "code",
   "execution_count": 16,
   "id": "380a31d7",
   "metadata": {
    "ExecuteTime": {
     "end_time": "2023-11-21T06:55:07.537736Z",
     "start_time": "2023-11-21T06:55:07.507737Z"
    }
   },
   "outputs": [
    {
     "data": {
      "text/html": [
       "<div>\n",
       "<style scoped>\n",
       "    .dataframe tbody tr th:only-of-type {\n",
       "        vertical-align: middle;\n",
       "    }\n",
       "\n",
       "    .dataframe tbody tr th {\n",
       "        vertical-align: top;\n",
       "    }\n",
       "\n",
       "    .dataframe thead th {\n",
       "        text-align: right;\n",
       "    }\n",
       "</style>\n",
       "<table border=\"1\" class=\"dataframe\">\n",
       "  <thead>\n",
       "    <tr style=\"text-align: right;\">\n",
       "      <th></th>\n",
       "      <th>GeneID</th>\n",
       "      <th>Ranking</th>\n",
       "    </tr>\n",
       "  </thead>\n",
       "  <tbody>\n",
       "    <tr>\n",
       "      <th>23986</th>\n",
       "      <td>ENSG00000129422.14</td>\n",
       "      <td>2</td>\n",
       "    </tr>\n",
       "    <tr>\n",
       "      <th>45173</th>\n",
       "      <td>ENSG00000262823.1</td>\n",
       "      <td>2</td>\n",
       "    </tr>\n",
       "  </tbody>\n",
       "</table>\n",
       "</div>"
      ],
      "text/plain": [
       "                   GeneID  Ranking\n",
       "23986  ENSG00000129422.14        2\n",
       "45173   ENSG00000262823.1        2"
      ]
     },
     "execution_count": 16,
     "metadata": {},
     "output_type": "execute_result"
    }
   ],
   "source": [
    "Top500 = selected_rf_features.iloc[:500, :]\n",
    "Top500.to_csv ('HYS2vs3_Boruta_Top500_Male.csv', index = False)\n",
    "Top500.head(2)"
   ]
  },
  {
   "cell_type": "code",
   "execution_count": 17,
   "id": "5956b562",
   "metadata": {
    "ExecuteTime": {
     "end_time": "2023-11-21T06:55:07.663737Z",
     "start_time": "2023-11-21T06:55:07.539737Z"
    }
   },
   "outputs": [
    {
     "name": "stderr",
     "output_type": "stream",
     "text": [
      "C:\\Users\\system 4\\AppData\\Local\\Temp\\ipykernel_9404\\1079128826.py:6: SettingWithCopyWarning: \n",
      "A value is trying to be set on a copy of a slice from a DataFrame.\n",
      "Try using .loc[row_indexer,col_indexer] = value instead\n",
      "\n",
      "See the caveats in the documentation: https://pandas.pydata.org/pandas-docs/stable/user_guide/indexing.html#returning-a-view-versus-a-copy\n",
      "  df_subset['HYS'] = data['HYS']\n"
     ]
    },
    {
     "data": {
      "text/html": [
       "<div>\n",
       "<style scoped>\n",
       "    .dataframe tbody tr th:only-of-type {\n",
       "        vertical-align: middle;\n",
       "    }\n",
       "\n",
       "    .dataframe tbody tr th {\n",
       "        vertical-align: top;\n",
       "    }\n",
       "\n",
       "    .dataframe thead th {\n",
       "        text-align: right;\n",
       "    }\n",
       "</style>\n",
       "<table border=\"1\" class=\"dataframe\">\n",
       "  <thead>\n",
       "    <tr style=\"text-align: right;\">\n",
       "      <th></th>\n",
       "      <th>ENSG00000271746.1</th>\n",
       "      <th>ENSG00000171735.18</th>\n",
       "      <th>ENSG00000230679.1</th>\n",
       "      <th>ENSG00000142583.17</th>\n",
       "      <th>ENSG00000283789.1</th>\n",
       "      <th>ENSG00000228140.1</th>\n",
       "      <th>ENSG00000117318.8</th>\n",
       "      <th>ENSG00000284657.1</th>\n",
       "      <th>ENSG00000260063.1</th>\n",
       "      <th>ENSG00000130768.14</th>\n",
       "      <th>...</th>\n",
       "      <th>ENSG00000231728.3</th>\n",
       "      <th>ENSG00000199832.1</th>\n",
       "      <th>ENSG00000182508.13</th>\n",
       "      <th>ENSG00000009694.13</th>\n",
       "      <th>ENSG00000029993.14</th>\n",
       "      <th>ENSG00000224485.1</th>\n",
       "      <th>ENSG00000215580.10</th>\n",
       "      <th>ENSG00000229236.1</th>\n",
       "      <th>ENSG00000277196.4</th>\n",
       "      <th>HYS</th>\n",
       "    </tr>\n",
       "  </thead>\n",
       "  <tbody>\n",
       "    <tr>\n",
       "      <th>0</th>\n",
       "      <td>82</td>\n",
       "      <td>998</td>\n",
       "      <td>30</td>\n",
       "      <td>130</td>\n",
       "      <td>2</td>\n",
       "      <td>246</td>\n",
       "      <td>257</td>\n",
       "      <td>142</td>\n",
       "      <td>82</td>\n",
       "      <td>34</td>\n",
       "      <td>...</td>\n",
       "      <td>58</td>\n",
       "      <td>0</td>\n",
       "      <td>32</td>\n",
       "      <td>1194</td>\n",
       "      <td>111</td>\n",
       "      <td>0</td>\n",
       "      <td>751</td>\n",
       "      <td>295</td>\n",
       "      <td>0</td>\n",
       "      <td>2</td>\n",
       "    </tr>\n",
       "    <tr>\n",
       "      <th>1</th>\n",
       "      <td>34</td>\n",
       "      <td>748</td>\n",
       "      <td>20</td>\n",
       "      <td>58</td>\n",
       "      <td>0</td>\n",
       "      <td>342</td>\n",
       "      <td>299</td>\n",
       "      <td>117</td>\n",
       "      <td>57</td>\n",
       "      <td>35</td>\n",
       "      <td>...</td>\n",
       "      <td>54</td>\n",
       "      <td>0</td>\n",
       "      <td>20</td>\n",
       "      <td>834</td>\n",
       "      <td>45</td>\n",
       "      <td>0</td>\n",
       "      <td>404</td>\n",
       "      <td>330</td>\n",
       "      <td>1</td>\n",
       "      <td>2</td>\n",
       "    </tr>\n",
       "  </tbody>\n",
       "</table>\n",
       "<p>2 rows × 501 columns</p>\n",
       "</div>"
      ],
      "text/plain": [
       "   ENSG00000271746.1  ENSG00000171735.18  ENSG00000230679.1  \\\n",
       "0                 82                 998                 30   \n",
       "1                 34                 748                 20   \n",
       "\n",
       "   ENSG00000142583.17  ENSG00000283789.1  ENSG00000228140.1  \\\n",
       "0                 130                  2                246   \n",
       "1                  58                  0                342   \n",
       "\n",
       "   ENSG00000117318.8  ENSG00000284657.1  ENSG00000260063.1  \\\n",
       "0                257                142                 82   \n",
       "1                299                117                 57   \n",
       "\n",
       "   ENSG00000130768.14  ...  ENSG00000231728.3  ENSG00000199832.1  \\\n",
       "0                  34  ...                 58                  0   \n",
       "1                  35  ...                 54                  0   \n",
       "\n",
       "   ENSG00000182508.13  ENSG00000009694.13  ENSG00000029993.14  \\\n",
       "0                  32                1194                 111   \n",
       "1                  20                 834                  45   \n",
       "\n",
       "   ENSG00000224485.1  ENSG00000215580.10  ENSG00000229236.1  \\\n",
       "0                  0                 751                295   \n",
       "1                  0                 404                330   \n",
       "\n",
       "   ENSG00000277196.4  HYS  \n",
       "0                  0    2  \n",
       "1                  1    2  \n",
       "\n",
       "[2 rows x 501 columns]"
      ]
     },
     "execution_count": 17,
     "metadata": {},
     "output_type": "execute_result"
    }
   ],
   "source": [
    "# create a list of column names to subset from data\n",
    "col_names = Top500.iloc[:, 0].tolist()\n",
    "\n",
    "# subset df based on the column names\n",
    "df_subset = data.loc[:, data.columns.isin(col_names)]\n",
    "df_subset['HYS'] = data['HYS']\n",
    "df_subset.to_csv ('HYS2vs3_Boruta_Top500_Data_Male.csv', index = False)\n",
    "df_subset.head(2)"
   ]
  },
  {
   "cell_type": "markdown",
   "id": "59810b00",
   "metadata": {},
   "source": []
  }
 ],
 "metadata": {
  "kernelspec": {
   "display_name": "Python 3 (ipykernel)",
   "language": "python",
   "name": "python3"
  },
  "language_info": {
   "codemirror_mode": {
    "name": "ipython",
    "version": 3
   },
   "file_extension": ".py",
   "mimetype": "text/x-python",
   "name": "python",
   "nbconvert_exporter": "python",
   "pygments_lexer": "ipython3",
   "version": "3.9.16"
  },
  "toc": {
   "base_numbering": 1,
   "nav_menu": {},
   "number_sections": true,
   "sideBar": true,
   "skip_h1_title": false,
   "title_cell": "Table of Contents",
   "title_sidebar": "Contents",
   "toc_cell": false,
   "toc_position": {},
   "toc_section_display": true,
   "toc_window_display": false
  },
  "varInspector": {
   "cols": {
    "lenName": 16,
    "lenType": 16,
    "lenVar": 40
   },
   "kernels_config": {
    "python": {
     "delete_cmd_postfix": "",
     "delete_cmd_prefix": "del ",
     "library": "var_list.py",
     "varRefreshCmd": "print(var_dic_list())"
    },
    "r": {
     "delete_cmd_postfix": ") ",
     "delete_cmd_prefix": "rm(",
     "library": "var_list.r",
     "varRefreshCmd": "cat(var_dic_list()) "
    }
   },
   "types_to_exclude": [
    "module",
    "function",
    "builtin_function_or_method",
    "instance",
    "_Feature"
   ],
   "window_display": false
  }
 },
 "nbformat": 4,
 "nbformat_minor": 5
}
