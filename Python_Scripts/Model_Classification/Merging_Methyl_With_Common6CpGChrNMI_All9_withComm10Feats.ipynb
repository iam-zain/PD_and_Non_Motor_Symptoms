{
 "cells": [
  {
   "cell_type": "code",
   "execution_count": 1,
   "id": "227733c0",
   "metadata": {
    "ExecuteTime": {
     "end_time": "2022-12-08T06:36:07.444203Z",
     "start_time": "2022-12-08T06:36:06.905104Z"
    },
    "run_control": {
     "marked": false
    },
    "scrolled": true
   },
   "outputs": [],
   "source": [
    "import pandas as pd\n",
    "import numpy as np\n"
   ]
  },
  {
   "cell_type": "code",
   "execution_count": 2,
   "id": "0ebb8ca7",
   "metadata": {
    "ExecuteTime": {
     "end_time": "2022-12-08T06:38:44.536956Z",
     "start_time": "2022-12-08T06:36:07.444203Z"
    },
    "scrolled": true
   },
   "outputs": [
    {
     "name": "stdout",
     "output_type": "stream",
     "text": [
      "Z:\\PPMI_Data\\Excel_Data\\Raw_And_More\n"
     ]
    },
    {
     "data": {
      "text/html": [
       "<div>\n",
       "<style scoped>\n",
       "    .dataframe tbody tr th:only-of-type {\n",
       "        vertical-align: middle;\n",
       "    }\n",
       "\n",
       "    .dataframe tbody tr th {\n",
       "        vertical-align: top;\n",
       "    }\n",
       "\n",
       "    .dataframe thead th {\n",
       "        text-align: right;\n",
       "    }\n",
       "</style>\n",
       "<table border=\"1\" class=\"dataframe\">\n",
       "  <thead>\n",
       "    <tr style=\"text-align: right;\">\n",
       "      <th></th>\n",
       "      <th>200973410159_R03C01</th>\n",
       "      <th>200991620021_R01C01</th>\n",
       "      <th>200991620021_R03C01</th>\n",
       "      <th>200989060105_R03C01</th>\n",
       "      <th>200989060135_R07C01</th>\n",
       "      <th>200989060162_R04C01</th>\n",
       "      <th>200973410167_R04C01</th>\n",
       "      <th>200973410143_R01C01</th>\n",
       "      <th>200973410143_R06C01</th>\n",
       "      <th>200973410167_R05C01</th>\n",
       "      <th>...</th>\n",
       "      <th>200989060089_R02C01</th>\n",
       "      <th>200989060089_R01C01</th>\n",
       "      <th>200989060089_R04C01</th>\n",
       "      <th>200973410143_R08C01</th>\n",
       "      <th>200973410143_R07C01</th>\n",
       "      <th>200989060089_R03C01</th>\n",
       "      <th>200989060150_R04C01</th>\n",
       "      <th>200989060150_R05C01</th>\n",
       "      <th>200989060150_R06C01</th>\n",
       "      <th>200991620049_R08C01</th>\n",
       "    </tr>\n",
       "  </thead>\n",
       "  <tbody>\n",
       "    <tr>\n",
       "      <th>cg14817997</th>\n",
       "      <td>0.8340</td>\n",
       "      <td>0.8492</td>\n",
       "      <td>0.7730</td>\n",
       "      <td>0.8853</td>\n",
       "      <td>0.7725</td>\n",
       "      <td>0.7564</td>\n",
       "      <td>0.7198</td>\n",
       "      <td>0.7759</td>\n",
       "      <td>0.7689</td>\n",
       "      <td>0.7594</td>\n",
       "      <td>...</td>\n",
       "      <td>0.7882</td>\n",
       "      <td>0.8389</td>\n",
       "      <td>0.8453</td>\n",
       "      <td>0.7704</td>\n",
       "      <td>0.8529</td>\n",
       "      <td>0.7838</td>\n",
       "      <td>0.8069</td>\n",
       "      <td>0.8757</td>\n",
       "      <td>0.6613</td>\n",
       "      <td>0.7379</td>\n",
       "    </tr>\n",
       "    <tr>\n",
       "      <th>cg26928153</th>\n",
       "      <td>0.9456</td>\n",
       "      <td>0.9485</td>\n",
       "      <td>0.9622</td>\n",
       "      <td>0.9440</td>\n",
       "      <td>0.9263</td>\n",
       "      <td>0.9561</td>\n",
       "      <td>0.9130</td>\n",
       "      <td>0.9560</td>\n",
       "      <td>0.9571</td>\n",
       "      <td>0.8976</td>\n",
       "      <td>...</td>\n",
       "      <td>0.9512</td>\n",
       "      <td>0.9590</td>\n",
       "      <td>0.9571</td>\n",
       "      <td>0.9547</td>\n",
       "      <td>0.9478</td>\n",
       "      <td>0.9581</td>\n",
       "      <td>0.9480</td>\n",
       "      <td>0.9424</td>\n",
       "      <td>0.9550</td>\n",
       "      <td>0.9463</td>\n",
       "    </tr>\n",
       "  </tbody>\n",
       "</table>\n",
       "<p>2 rows × 524 columns</p>\n",
       "</div>"
      ],
      "text/plain": [
       "            200973410159_R03C01  200991620021_R01C01  200991620021_R03C01  \\\n",
       "cg14817997               0.8340               0.8492               0.7730   \n",
       "cg26928153               0.9456               0.9485               0.9622   \n",
       "\n",
       "            200989060105_R03C01  200989060135_R07C01  200989060162_R04C01  \\\n",
       "cg14817997               0.8853               0.7725               0.7564   \n",
       "cg26928153               0.9440               0.9263               0.9561   \n",
       "\n",
       "            200973410167_R04C01  200973410143_R01C01  200973410143_R06C01  \\\n",
       "cg14817997               0.7198               0.7759               0.7689   \n",
       "cg26928153               0.9130               0.9560               0.9571   \n",
       "\n",
       "            200973410167_R05C01  ...  200989060089_R02C01  \\\n",
       "cg14817997               0.7594  ...               0.7882   \n",
       "cg26928153               0.8976  ...               0.9512   \n",
       "\n",
       "            200989060089_R01C01  200989060089_R04C01  200973410143_R08C01  \\\n",
       "cg14817997               0.8389               0.8453               0.7704   \n",
       "cg26928153               0.9590               0.9571               0.9547   \n",
       "\n",
       "            200973410143_R07C01  200989060089_R03C01  200989060150_R04C01  \\\n",
       "cg14817997               0.8529               0.7838               0.8069   \n",
       "cg26928153               0.9478               0.9581               0.9480   \n",
       "\n",
       "            200989060150_R05C01  200989060150_R06C01  200991620049_R08C01  \n",
       "cg14817997               0.8757               0.6613               0.7379  \n",
       "cg26928153               0.9424               0.9550               0.9463  \n",
       "\n",
       "[2 rows x 524 columns]"
      ]
     },
     "execution_count": 2,
     "metadata": {},
     "output_type": "execute_result"
    }
   ],
   "source": [
    "%cd Z:\\PPMI_Data\\Excel_Data\\Raw_And_More\n",
    "df = pd.read_csv (\"beta_post_Funnorm_PPMI_EPICn524final030618.csv\")\n",
    "df = df.round(decimals = 4)\n",
    "df.head(2)\n"
   ]
  },
  {
   "cell_type": "code",
   "execution_count": 3,
   "id": "6caf3efc",
   "metadata": {
    "ExecuteTime": {
     "end_time": "2022-12-08T06:38:44.583799Z",
     "start_time": "2022-12-08T06:38:44.536956Z"
    }
   },
   "outputs": [
    {
     "data": {
      "text/html": [
       "<div>\n",
       "<style scoped>\n",
       "    .dataframe tbody tr th:only-of-type {\n",
       "        vertical-align: middle;\n",
       "    }\n",
       "\n",
       "    .dataframe tbody tr th {\n",
       "        vertical-align: top;\n",
       "    }\n",
       "\n",
       "    .dataframe thead th {\n",
       "        text-align: right;\n",
       "    }\n",
       "</style>\n",
       "<table border=\"1\" class=\"dataframe\">\n",
       "  <thead>\n",
       "    <tr style=\"text-align: right;\">\n",
       "      <th></th>\n",
       "      <th>CpG</th>\n",
       "      <th>200973410159_R03C01</th>\n",
       "      <th>200991620021_R01C01</th>\n",
       "      <th>200991620021_R03C01</th>\n",
       "      <th>200989060105_R03C01</th>\n",
       "      <th>200989060135_R07C01</th>\n",
       "      <th>200989060162_R04C01</th>\n",
       "      <th>200973410167_R04C01</th>\n",
       "      <th>200973410143_R01C01</th>\n",
       "      <th>200973410143_R06C01</th>\n",
       "      <th>...</th>\n",
       "      <th>200989060089_R02C01</th>\n",
       "      <th>200989060089_R01C01</th>\n",
       "      <th>200989060089_R04C01</th>\n",
       "      <th>200973410143_R08C01</th>\n",
       "      <th>200973410143_R07C01</th>\n",
       "      <th>200989060089_R03C01</th>\n",
       "      <th>200989060150_R04C01</th>\n",
       "      <th>200989060150_R05C01</th>\n",
       "      <th>200989060150_R06C01</th>\n",
       "      <th>200991620049_R08C01</th>\n",
       "    </tr>\n",
       "  </thead>\n",
       "  <tbody>\n",
       "    <tr>\n",
       "      <th>0</th>\n",
       "      <td>cg14817997</td>\n",
       "      <td>0.8340</td>\n",
       "      <td>0.8492</td>\n",
       "      <td>0.7730</td>\n",
       "      <td>0.8853</td>\n",
       "      <td>0.7725</td>\n",
       "      <td>0.7564</td>\n",
       "      <td>0.7198</td>\n",
       "      <td>0.7759</td>\n",
       "      <td>0.7689</td>\n",
       "      <td>...</td>\n",
       "      <td>0.7882</td>\n",
       "      <td>0.8389</td>\n",
       "      <td>0.8453</td>\n",
       "      <td>0.7704</td>\n",
       "      <td>0.8529</td>\n",
       "      <td>0.7838</td>\n",
       "      <td>0.8069</td>\n",
       "      <td>0.8757</td>\n",
       "      <td>0.6613</td>\n",
       "      <td>0.7379</td>\n",
       "    </tr>\n",
       "    <tr>\n",
       "      <th>1</th>\n",
       "      <td>cg26928153</td>\n",
       "      <td>0.9456</td>\n",
       "      <td>0.9485</td>\n",
       "      <td>0.9622</td>\n",
       "      <td>0.9440</td>\n",
       "      <td>0.9263</td>\n",
       "      <td>0.9561</td>\n",
       "      <td>0.9130</td>\n",
       "      <td>0.9560</td>\n",
       "      <td>0.9571</td>\n",
       "      <td>...</td>\n",
       "      <td>0.9512</td>\n",
       "      <td>0.9590</td>\n",
       "      <td>0.9571</td>\n",
       "      <td>0.9547</td>\n",
       "      <td>0.9478</td>\n",
       "      <td>0.9581</td>\n",
       "      <td>0.9480</td>\n",
       "      <td>0.9424</td>\n",
       "      <td>0.9550</td>\n",
       "      <td>0.9463</td>\n",
       "    </tr>\n",
       "  </tbody>\n",
       "</table>\n",
       "<p>2 rows × 525 columns</p>\n",
       "</div>"
      ],
      "text/plain": [
       "          CpG  200973410159_R03C01  200991620021_R01C01  200991620021_R03C01  \\\n",
       "0  cg14817997               0.8340               0.8492               0.7730   \n",
       "1  cg26928153               0.9456               0.9485               0.9622   \n",
       "\n",
       "   200989060105_R03C01  200989060135_R07C01  200989060162_R04C01  \\\n",
       "0               0.8853               0.7725               0.7564   \n",
       "1               0.9440               0.9263               0.9561   \n",
       "\n",
       "   200973410167_R04C01  200973410143_R01C01  200973410143_R06C01  ...  \\\n",
       "0               0.7198               0.7759               0.7689  ...   \n",
       "1               0.9130               0.9560               0.9571  ...   \n",
       "\n",
       "   200989060089_R02C01  200989060089_R01C01  200989060089_R04C01  \\\n",
       "0               0.7882               0.8389               0.8453   \n",
       "1               0.9512               0.9590               0.9571   \n",
       "\n",
       "   200973410143_R08C01  200973410143_R07C01  200989060089_R03C01  \\\n",
       "0               0.7704               0.8529               0.7838   \n",
       "1               0.9547               0.9478               0.9581   \n",
       "\n",
       "   200989060150_R04C01  200989060150_R05C01  200989060150_R06C01  \\\n",
       "0               0.8069               0.8757               0.6613   \n",
       "1               0.9480               0.9424               0.9550   \n",
       "\n",
       "   200991620049_R08C01  \n",
       "0               0.7379  \n",
       "1               0.9463  \n",
       "\n",
       "[2 rows x 525 columns]"
      ]
     },
     "execution_count": 3,
     "metadata": {},
     "output_type": "execute_result"
    }
   ],
   "source": [
    "df.index.name ='CpG'\n",
    "df.reset_index(inplace=True)\n",
    "df.head(2)"
   ]
  },
  {
   "cell_type": "code",
   "execution_count": 4,
   "id": "3964da86",
   "metadata": {
    "ExecuteTime": {
     "end_time": "2022-12-08T06:38:44.868565Z",
     "start_time": "2022-12-08T06:38:44.583799Z"
    }
   },
   "outputs": [
    {
     "name": "stdout",
     "output_type": "stream",
     "text": [
      "Z:\\PPMI_Data\\Excel_Data\\NonMotors\\Feature_CpG_Gene_Association\\Xtra_Files\\CommonAll_9Features\n"
     ]
    },
    {
     "data": {
      "text/html": [
       "<div>\n",
       "<style scoped>\n",
       "    .dataframe tbody tr th:only-of-type {\n",
       "        vertical-align: middle;\n",
       "    }\n",
       "\n",
       "    .dataframe tbody tr th {\n",
       "        vertical-align: top;\n",
       "    }\n",
       "\n",
       "    .dataframe thead th {\n",
       "        text-align: right;\n",
       "    }\n",
       "</style>\n",
       "<table border=\"1\" class=\"dataframe\">\n",
       "  <thead>\n",
       "    <tr style=\"text-align: right;\">\n",
       "      <th></th>\n",
       "      <th>CpG</th>\n",
       "    </tr>\n",
       "  </thead>\n",
       "  <tbody>\n",
       "    <tr>\n",
       "      <th>0</th>\n",
       "      <td>cg12526471</td>\n",
       "    </tr>\n",
       "    <tr>\n",
       "      <th>1</th>\n",
       "      <td>cg00052836</td>\n",
       "    </tr>\n",
       "  </tbody>\n",
       "</table>\n",
       "</div>"
      ],
      "text/plain": [
       "          CpG\n",
       "0  cg12526471\n",
       "1  cg00052836"
      ]
     },
     "execution_count": 4,
     "metadata": {},
     "output_type": "execute_result"
    }
   ],
   "source": [
    "%cd Z:\\PPMI_Data\\Excel_Data\\NonMotors\\Feature_CpG_Gene_Association\\Xtra_Files\\CommonAll_9Features\n",
    "dframe = pd.read_csv ('CommonCpG_ChrNMI_9Feats.csv')\n",
    "dframe.head(2)"
   ]
  },
  {
   "cell_type": "code",
   "execution_count": 5,
   "id": "ccba2dd1",
   "metadata": {
    "ExecuteTime": {
     "end_time": "2022-12-08T06:38:45.353991Z",
     "start_time": "2022-12-08T06:38:44.868565Z"
    }
   },
   "outputs": [
    {
     "data": {
      "text/html": [
       "<div>\n",
       "<style scoped>\n",
       "    .dataframe tbody tr th:only-of-type {\n",
       "        vertical-align: middle;\n",
       "    }\n",
       "\n",
       "    .dataframe tbody tr th {\n",
       "        vertical-align: top;\n",
       "    }\n",
       "\n",
       "    .dataframe thead th {\n",
       "        text-align: right;\n",
       "    }\n",
       "</style>\n",
       "<table border=\"1\" class=\"dataframe\">\n",
       "  <thead>\n",
       "    <tr style=\"text-align: right;\">\n",
       "      <th></th>\n",
       "      <th>CpG</th>\n",
       "      <th>200973410159_R03C01</th>\n",
       "      <th>200991620021_R01C01</th>\n",
       "      <th>200991620021_R03C01</th>\n",
       "      <th>200989060105_R03C01</th>\n",
       "      <th>200989060135_R07C01</th>\n",
       "      <th>200989060162_R04C01</th>\n",
       "      <th>200973410167_R04C01</th>\n",
       "      <th>200973410143_R01C01</th>\n",
       "      <th>200973410143_R06C01</th>\n",
       "      <th>...</th>\n",
       "      <th>200989060089_R02C01</th>\n",
       "      <th>200989060089_R01C01</th>\n",
       "      <th>200989060089_R04C01</th>\n",
       "      <th>200973410143_R08C01</th>\n",
       "      <th>200973410143_R07C01</th>\n",
       "      <th>200989060089_R03C01</th>\n",
       "      <th>200989060150_R04C01</th>\n",
       "      <th>200989060150_R05C01</th>\n",
       "      <th>200989060150_R06C01</th>\n",
       "      <th>200991620049_R08C01</th>\n",
       "    </tr>\n",
       "  </thead>\n",
       "  <tbody>\n",
       "    <tr>\n",
       "      <th>0</th>\n",
       "      <td>cg05789720</td>\n",
       "      <td>0.9225</td>\n",
       "      <td>0.9109</td>\n",
       "      <td>0.9232</td>\n",
       "      <td>0.9168</td>\n",
       "      <td>0.9305</td>\n",
       "      <td>0.9254</td>\n",
       "      <td>0.9172</td>\n",
       "      <td>0.9015</td>\n",
       "      <td>0.9080</td>\n",
       "      <td>...</td>\n",
       "      <td>0.9126</td>\n",
       "      <td>0.9248</td>\n",
       "      <td>0.9271</td>\n",
       "      <td>0.9149</td>\n",
       "      <td>0.9119</td>\n",
       "      <td>0.9077</td>\n",
       "      <td>0.9193</td>\n",
       "      <td>0.9265</td>\n",
       "      <td>0.9191</td>\n",
       "      <td>0.9166</td>\n",
       "    </tr>\n",
       "    <tr>\n",
       "      <th>1</th>\n",
       "      <td>cg00052836</td>\n",
       "      <td>0.9312</td>\n",
       "      <td>0.8725</td>\n",
       "      <td>0.9010</td>\n",
       "      <td>0.9006</td>\n",
       "      <td>0.8716</td>\n",
       "      <td>0.9107</td>\n",
       "      <td>0.9161</td>\n",
       "      <td>0.9105</td>\n",
       "      <td>0.9021</td>\n",
       "      <td>...</td>\n",
       "      <td>0.8980</td>\n",
       "      <td>0.9001</td>\n",
       "      <td>0.9002</td>\n",
       "      <td>0.8994</td>\n",
       "      <td>0.9064</td>\n",
       "      <td>0.8968</td>\n",
       "      <td>0.9147</td>\n",
       "      <td>0.9057</td>\n",
       "      <td>0.9177</td>\n",
       "      <td>0.9148</td>\n",
       "    </tr>\n",
       "  </tbody>\n",
       "</table>\n",
       "<p>2 rows × 525 columns</p>\n",
       "</div>"
      ],
      "text/plain": [
       "          CpG  200973410159_R03C01  200991620021_R01C01  200991620021_R03C01  \\\n",
       "0  cg05789720               0.9225               0.9109               0.9232   \n",
       "1  cg00052836               0.9312               0.8725               0.9010   \n",
       "\n",
       "   200989060105_R03C01  200989060135_R07C01  200989060162_R04C01  \\\n",
       "0               0.9168               0.9305               0.9254   \n",
       "1               0.9006               0.8716               0.9107   \n",
       "\n",
       "   200973410167_R04C01  200973410143_R01C01  200973410143_R06C01  ...  \\\n",
       "0               0.9172               0.9015               0.9080  ...   \n",
       "1               0.9161               0.9105               0.9021  ...   \n",
       "\n",
       "   200989060089_R02C01  200989060089_R01C01  200989060089_R04C01  \\\n",
       "0               0.9126               0.9248               0.9271   \n",
       "1               0.8980               0.9001               0.9002   \n",
       "\n",
       "   200973410143_R08C01  200973410143_R07C01  200989060089_R03C01  \\\n",
       "0               0.9149               0.9119               0.9077   \n",
       "1               0.8994               0.9064               0.8968   \n",
       "\n",
       "   200989060150_R04C01  200989060150_R05C01  200989060150_R06C01  \\\n",
       "0               0.9193               0.9265               0.9191   \n",
       "1               0.9147               0.9057               0.9177   \n",
       "\n",
       "   200991620049_R08C01  \n",
       "0               0.9166  \n",
       "1               0.9148  \n",
       "\n",
       "[2 rows x 525 columns]"
      ]
     },
     "execution_count": 5,
     "metadata": {},
     "output_type": "execute_result"
    }
   ],
   "source": [
    "dfMerge = pd.merge (df, dframe, on= \"CpG\", how= \"inner\")\n",
    "dfMerge.head(2)"
   ]
  },
  {
   "cell_type": "code",
   "execution_count": 6,
   "id": "806357ca",
   "metadata": {
    "ExecuteTime": {
     "end_time": "2022-12-08T06:38:45.416500Z",
     "start_time": "2022-12-08T06:38:45.353991Z"
    }
   },
   "outputs": [
    {
     "data": {
      "text/html": [
       "<div>\n",
       "<style scoped>\n",
       "    .dataframe tbody tr th:only-of-type {\n",
       "        vertical-align: middle;\n",
       "    }\n",
       "\n",
       "    .dataframe tbody tr th {\n",
       "        vertical-align: top;\n",
       "    }\n",
       "\n",
       "    .dataframe thead th {\n",
       "        text-align: right;\n",
       "    }\n",
       "</style>\n",
       "<table border=\"1\" class=\"dataframe\">\n",
       "  <thead>\n",
       "    <tr style=\"text-align: right;\">\n",
       "      <th></th>\n",
       "      <th>0</th>\n",
       "      <th>1</th>\n",
       "      <th>2</th>\n",
       "      <th>3</th>\n",
       "      <th>4</th>\n",
       "      <th>5</th>\n",
       "    </tr>\n",
       "  </thead>\n",
       "  <tbody>\n",
       "    <tr>\n",
       "      <th>CpG</th>\n",
       "      <td>cg05789720</td>\n",
       "      <td>cg00052836</td>\n",
       "      <td>cg12526471</td>\n",
       "      <td>cg21049840</td>\n",
       "      <td>cg00377727</td>\n",
       "      <td>cg18473117</td>\n",
       "    </tr>\n",
       "    <tr>\n",
       "      <th>200973410159_R03C01</th>\n",
       "      <td>0.9225</td>\n",
       "      <td>0.9312</td>\n",
       "      <td>0.5106</td>\n",
       "      <td>0.4569</td>\n",
       "      <td>0.6784</td>\n",
       "      <td>0.9672</td>\n",
       "    </tr>\n",
       "  </tbody>\n",
       "</table>\n",
       "</div>"
      ],
      "text/plain": [
       "                              0           1           2           3  \\\n",
       "CpG                  cg05789720  cg00052836  cg12526471  cg21049840   \n",
       "200973410159_R03C01      0.9225      0.9312      0.5106      0.4569   \n",
       "\n",
       "                              4           5  \n",
       "CpG                  cg00377727  cg18473117  \n",
       "200973410159_R03C01      0.6784      0.9672  "
      ]
     },
     "execution_count": 6,
     "metadata": {},
     "output_type": "execute_result"
    }
   ],
   "source": [
    "dft = dfMerge.transpose()\n",
    "dft.head(2)"
   ]
  },
  {
   "cell_type": "code",
   "execution_count": 7,
   "id": "0505d243",
   "metadata": {
    "ExecuteTime": {
     "end_time": "2022-12-08T06:38:45.532398Z",
     "start_time": "2022-12-08T06:38:45.416500Z"
    }
   },
   "outputs": [],
   "source": [
    "dft.rename(columns=dft.iloc[0], inplace = True)\n"
   ]
  },
  {
   "cell_type": "code",
   "execution_count": 8,
   "id": "a16f2e12",
   "metadata": {
    "ExecuteTime": {
     "end_time": "2022-12-08T06:38:45.632697Z",
     "start_time": "2022-12-08T06:38:45.532398Z"
    }
   },
   "outputs": [
    {
     "data": {
      "text/html": [
       "<div>\n",
       "<style scoped>\n",
       "    .dataframe tbody tr th:only-of-type {\n",
       "        vertical-align: middle;\n",
       "    }\n",
       "\n",
       "    .dataframe tbody tr th {\n",
       "        vertical-align: top;\n",
       "    }\n",
       "\n",
       "    .dataframe thead th {\n",
       "        text-align: right;\n",
       "    }\n",
       "</style>\n",
       "<table border=\"1\" class=\"dataframe\">\n",
       "  <thead>\n",
       "    <tr style=\"text-align: right;\">\n",
       "      <th></th>\n",
       "      <th>CpG</th>\n",
       "      <th>cg05789720</th>\n",
       "      <th>cg00052836</th>\n",
       "      <th>cg12526471</th>\n",
       "      <th>cg21049840</th>\n",
       "      <th>cg00377727</th>\n",
       "      <th>cg18473117</th>\n",
       "    </tr>\n",
       "  </thead>\n",
       "  <tbody>\n",
       "    <tr>\n",
       "      <th>0</th>\n",
       "      <td>CpG</td>\n",
       "      <td>cg05789720</td>\n",
       "      <td>cg00052836</td>\n",
       "      <td>cg12526471</td>\n",
       "      <td>cg21049840</td>\n",
       "      <td>cg00377727</td>\n",
       "      <td>cg18473117</td>\n",
       "    </tr>\n",
       "    <tr>\n",
       "      <th>1</th>\n",
       "      <td>200973410159_R03C01</td>\n",
       "      <td>0.9225</td>\n",
       "      <td>0.9312</td>\n",
       "      <td>0.5106</td>\n",
       "      <td>0.4569</td>\n",
       "      <td>0.6784</td>\n",
       "      <td>0.9672</td>\n",
       "    </tr>\n",
       "  </tbody>\n",
       "</table>\n",
       "</div>"
      ],
      "text/plain": [
       "                   CpG  cg05789720  cg00052836  cg12526471  cg21049840  \\\n",
       "0                  CpG  cg05789720  cg00052836  cg12526471  cg21049840   \n",
       "1  200973410159_R03C01      0.9225      0.9312      0.5106      0.4569   \n",
       "\n",
       "   cg00377727  cg18473117  \n",
       "0  cg00377727  cg18473117  \n",
       "1      0.6784      0.9672  "
      ]
     },
     "execution_count": 8,
     "metadata": {},
     "output_type": "execute_result"
    }
   ],
   "source": [
    "dft.index.name ='CpG'\n",
    "dft.reset_index(inplace=True)\n",
    "dft.head(2)"
   ]
  },
  {
   "cell_type": "code",
   "execution_count": 9,
   "id": "b8cd0f9d",
   "metadata": {
    "ExecuteTime": {
     "end_time": "2022-12-08T06:38:45.786387Z",
     "start_time": "2022-12-08T06:38:45.632697Z"
    }
   },
   "outputs": [
    {
     "data": {
      "text/html": [
       "<div>\n",
       "<style scoped>\n",
       "    .dataframe tbody tr th:only-of-type {\n",
       "        vertical-align: middle;\n",
       "    }\n",
       "\n",
       "    .dataframe tbody tr th {\n",
       "        vertical-align: top;\n",
       "    }\n",
       "\n",
       "    .dataframe thead th {\n",
       "        text-align: right;\n",
       "    }\n",
       "</style>\n",
       "<table border=\"1\" class=\"dataframe\">\n",
       "  <thead>\n",
       "    <tr style=\"text-align: right;\">\n",
       "      <th></th>\n",
       "      <th>CpG</th>\n",
       "      <th>cg05789720</th>\n",
       "      <th>cg00052836</th>\n",
       "      <th>cg12526471</th>\n",
       "      <th>cg21049840</th>\n",
       "      <th>cg00377727</th>\n",
       "      <th>cg18473117</th>\n",
       "    </tr>\n",
       "  </thead>\n",
       "  <tbody>\n",
       "    <tr>\n",
       "      <th>1</th>\n",
       "      <td>200973410159_R03C01</td>\n",
       "      <td>0.9225</td>\n",
       "      <td>0.9312</td>\n",
       "      <td>0.5106</td>\n",
       "      <td>0.4569</td>\n",
       "      <td>0.6784</td>\n",
       "      <td>0.9672</td>\n",
       "    </tr>\n",
       "    <tr>\n",
       "      <th>2</th>\n",
       "      <td>200991620021_R01C01</td>\n",
       "      <td>0.9109</td>\n",
       "      <td>0.8725</td>\n",
       "      <td>0.4169</td>\n",
       "      <td>0.4758</td>\n",
       "      <td>0.9233</td>\n",
       "      <td>0.9388</td>\n",
       "    </tr>\n",
       "  </tbody>\n",
       "</table>\n",
       "</div>"
      ],
      "text/plain": [
       "                   CpG cg05789720 cg00052836 cg12526471 cg21049840 cg00377727  \\\n",
       "1  200973410159_R03C01     0.9225     0.9312     0.5106     0.4569     0.6784   \n",
       "2  200991620021_R01C01     0.9109     0.8725     0.4169     0.4758     0.9233   \n",
       "\n",
       "  cg18473117  \n",
       "1     0.9672  \n",
       "2     0.9388  "
      ]
     },
     "execution_count": 9,
     "metadata": {},
     "output_type": "execute_result"
    }
   ],
   "source": [
    "dft = dft.drop ([0], axis = 0)\n",
    "dft.head(2)"
   ]
  },
  {
   "cell_type": "code",
   "execution_count": 10,
   "id": "bd979149",
   "metadata": {
    "ExecuteTime": {
     "end_time": "2022-12-08T06:38:45.971298Z",
     "start_time": "2022-12-08T06:38:45.786387Z"
    }
   },
   "outputs": [
    {
     "data": {
      "text/html": [
       "<div>\n",
       "<style scoped>\n",
       "    .dataframe tbody tr th:only-of-type {\n",
       "        vertical-align: middle;\n",
       "    }\n",
       "\n",
       "    .dataframe tbody tr th {\n",
       "        vertical-align: top;\n",
       "    }\n",
       "\n",
       "    .dataframe thead th {\n",
       "        text-align: right;\n",
       "    }\n",
       "</style>\n",
       "<table border=\"1\" class=\"dataframe\">\n",
       "  <thead>\n",
       "    <tr style=\"text-align: right;\">\n",
       "      <th></th>\n",
       "      <th>Sentrix</th>\n",
       "      <th>cg05789720</th>\n",
       "      <th>cg00052836</th>\n",
       "      <th>cg12526471</th>\n",
       "      <th>cg21049840</th>\n",
       "      <th>cg00377727</th>\n",
       "      <th>cg18473117</th>\n",
       "    </tr>\n",
       "  </thead>\n",
       "  <tbody>\n",
       "    <tr>\n",
       "      <th>1</th>\n",
       "      <td>200973410159_R03C01</td>\n",
       "      <td>0.9225</td>\n",
       "      <td>0.9312</td>\n",
       "      <td>0.5106</td>\n",
       "      <td>0.4569</td>\n",
       "      <td>0.6784</td>\n",
       "      <td>0.9672</td>\n",
       "    </tr>\n",
       "    <tr>\n",
       "      <th>2</th>\n",
       "      <td>200991620021_R01C01</td>\n",
       "      <td>0.9109</td>\n",
       "      <td>0.8725</td>\n",
       "      <td>0.4169</td>\n",
       "      <td>0.4758</td>\n",
       "      <td>0.9233</td>\n",
       "      <td>0.9388</td>\n",
       "    </tr>\n",
       "  </tbody>\n",
       "</table>\n",
       "</div>"
      ],
      "text/plain": [
       "               Sentrix cg05789720 cg00052836 cg12526471 cg21049840 cg00377727  \\\n",
       "1  200973410159_R03C01     0.9225     0.9312     0.5106     0.4569     0.6784   \n",
       "2  200991620021_R01C01     0.9109     0.8725     0.4169     0.4758     0.9233   \n",
       "\n",
       "  cg18473117  \n",
       "1     0.9672  \n",
       "2     0.9388  "
      ]
     },
     "execution_count": 10,
     "metadata": {},
     "output_type": "execute_result"
    }
   ],
   "source": [
    "dft.rename (columns = {\"CpG\" : \"Sentrix\"}, inplace = True)\n",
    "dft.head(2)"
   ]
  },
  {
   "cell_type": "code",
   "execution_count": 11,
   "id": "800f1dff",
   "metadata": {
    "ExecuteTime": {
     "end_time": "2022-12-08T06:38:46.171866Z",
     "start_time": "2022-12-08T06:38:45.971298Z"
    }
   },
   "outputs": [
    {
     "name": "stdout",
     "output_type": "stream",
     "text": [
      "Z:\\PPMI_Data\\Excel_Data\\Raw_And_More\n"
     ]
    },
    {
     "data": {
      "text/html": [
       "<div>\n",
       "<style scoped>\n",
       "    .dataframe tbody tr th:only-of-type {\n",
       "        vertical-align: middle;\n",
       "    }\n",
       "\n",
       "    .dataframe tbody tr th {\n",
       "        vertical-align: top;\n",
       "    }\n",
       "\n",
       "    .dataframe thead th {\n",
       "        text-align: right;\n",
       "    }\n",
       "</style>\n",
       "<table border=\"1\" class=\"dataframe\">\n",
       "  <thead>\n",
       "    <tr style=\"text-align: right;\">\n",
       "      <th></th>\n",
       "      <th>Sentrix</th>\n",
       "      <th>PATNO</th>\n",
       "      <th>Gender</th>\n",
       "      <th>APPRDX</th>\n",
       "      <th>HYS</th>\n",
       "      <th>Age</th>\n",
       "      <th>AgeCate</th>\n",
       "      <th>MDS_Depress</th>\n",
       "      <th>MDSP_Constipate</th>\n",
       "      <th>MDSP_Fatigue</th>\n",
       "      <th>MDSP_LightHead</th>\n",
       "      <th>MDSP_SleepDay</th>\n",
       "      <th>MDSP_Pain</th>\n",
       "      <th>Montreal_Cognitive</th>\n",
       "      <th>SCOPA_Sex</th>\n",
       "      <th>Symbol_Digit</th>\n",
       "      <th>UPSIT_3</th>\n",
       "    </tr>\n",
       "  </thead>\n",
       "  <tbody>\n",
       "    <tr>\n",
       "      <th>0</th>\n",
       "      <td>200973410159_R03C01</td>\n",
       "      <td>3000</td>\n",
       "      <td>2</td>\n",
       "      <td>2</td>\n",
       "      <td>0</td>\n",
       "      <td>69.1</td>\n",
       "      <td>4</td>\n",
       "      <td>1</td>\n",
       "      <td>0</td>\n",
       "      <td>0</td>\n",
       "      <td>0</td>\n",
       "      <td>1</td>\n",
       "      <td>0</td>\n",
       "      <td>0</td>\n",
       "      <td>0</td>\n",
       "      <td>0</td>\n",
       "      <td>0</td>\n",
       "    </tr>\n",
       "    <tr>\n",
       "      <th>1</th>\n",
       "      <td>200991620021_R01C01</td>\n",
       "      <td>3001</td>\n",
       "      <td>1</td>\n",
       "      <td>1</td>\n",
       "      <td>2</td>\n",
       "      <td>65.1</td>\n",
       "      <td>4</td>\n",
       "      <td>0</td>\n",
       "      <td>0</td>\n",
       "      <td>1</td>\n",
       "      <td>0</td>\n",
       "      <td>1</td>\n",
       "      <td>0</td>\n",
       "      <td>0</td>\n",
       "      <td>2</td>\n",
       "      <td>1</td>\n",
       "      <td>1</td>\n",
       "    </tr>\n",
       "  </tbody>\n",
       "</table>\n",
       "</div>"
      ],
      "text/plain": [
       "               Sentrix  PATNO  Gender  APPRDX  HYS   Age  AgeCate  \\\n",
       "0  200973410159_R03C01   3000       2       2    0  69.1        4   \n",
       "1  200991620021_R01C01   3001       1       1    2  65.1        4   \n",
       "\n",
       "   MDS_Depress  MDSP_Constipate  MDSP_Fatigue  MDSP_LightHead  MDSP_SleepDay  \\\n",
       "0            1                0             0               0              1   \n",
       "1            0                0             1               0              1   \n",
       "\n",
       "   MDSP_Pain  Montreal_Cognitive  SCOPA_Sex  Symbol_Digit  UPSIT_3  \n",
       "0          0                   0          0             0        0  \n",
       "1          0                   0          2             1        1  "
      ]
     },
     "execution_count": 11,
     "metadata": {},
     "output_type": "execute_result"
    }
   ],
   "source": [
    "%cd Z:\\PPMI_Data\\Excel_Data\\Raw_And_More\n",
    "df2 = pd.read_csv (\"Comm10FeatData_withBasicDetails.csv\")\n",
    "df2.head(2)"
   ]
  },
  {
   "cell_type": "code",
   "execution_count": 12,
   "id": "0b805a38",
   "metadata": {
    "ExecuteTime": {
     "end_time": "2022-12-08T06:38:46.303390Z",
     "start_time": "2022-12-08T06:38:46.171866Z"
    },
    "scrolled": false
   },
   "outputs": [
    {
     "data": {
      "text/html": [
       "<div>\n",
       "<style scoped>\n",
       "    .dataframe tbody tr th:only-of-type {\n",
       "        vertical-align: middle;\n",
       "    }\n",
       "\n",
       "    .dataframe tbody tr th {\n",
       "        vertical-align: top;\n",
       "    }\n",
       "\n",
       "    .dataframe thead th {\n",
       "        text-align: right;\n",
       "    }\n",
       "</style>\n",
       "<table border=\"1\" class=\"dataframe\">\n",
       "  <thead>\n",
       "    <tr style=\"text-align: right;\">\n",
       "      <th></th>\n",
       "      <th>Sentrix</th>\n",
       "      <th>PATNO</th>\n",
       "      <th>Gender</th>\n",
       "      <th>APPRDX</th>\n",
       "      <th>HYS</th>\n",
       "      <th>Age</th>\n",
       "      <th>AgeCate</th>\n",
       "      <th>MDS_Depress</th>\n",
       "      <th>MDSP_Constipate</th>\n",
       "      <th>MDSP_Fatigue</th>\n",
       "      <th>...</th>\n",
       "      <th>Montreal_Cognitive</th>\n",
       "      <th>SCOPA_Sex</th>\n",
       "      <th>Symbol_Digit</th>\n",
       "      <th>UPSIT_3</th>\n",
       "      <th>cg05789720</th>\n",
       "      <th>cg00052836</th>\n",
       "      <th>cg12526471</th>\n",
       "      <th>cg21049840</th>\n",
       "      <th>cg00377727</th>\n",
       "      <th>cg18473117</th>\n",
       "    </tr>\n",
       "  </thead>\n",
       "  <tbody>\n",
       "    <tr>\n",
       "      <th>0</th>\n",
       "      <td>200973410159_R03C01</td>\n",
       "      <td>3000</td>\n",
       "      <td>2</td>\n",
       "      <td>2</td>\n",
       "      <td>0</td>\n",
       "      <td>69.1</td>\n",
       "      <td>4</td>\n",
       "      <td>1</td>\n",
       "      <td>0</td>\n",
       "      <td>0</td>\n",
       "      <td>...</td>\n",
       "      <td>0</td>\n",
       "      <td>0</td>\n",
       "      <td>0</td>\n",
       "      <td>0</td>\n",
       "      <td>0.9225</td>\n",
       "      <td>0.9312</td>\n",
       "      <td>0.5106</td>\n",
       "      <td>0.4569</td>\n",
       "      <td>0.6784</td>\n",
       "      <td>0.9672</td>\n",
       "    </tr>\n",
       "    <tr>\n",
       "      <th>1</th>\n",
       "      <td>200991620021_R01C01</td>\n",
       "      <td>3001</td>\n",
       "      <td>1</td>\n",
       "      <td>1</td>\n",
       "      <td>2</td>\n",
       "      <td>65.1</td>\n",
       "      <td>4</td>\n",
       "      <td>0</td>\n",
       "      <td>0</td>\n",
       "      <td>1</td>\n",
       "      <td>...</td>\n",
       "      <td>0</td>\n",
       "      <td>2</td>\n",
       "      <td>1</td>\n",
       "      <td>1</td>\n",
       "      <td>0.9109</td>\n",
       "      <td>0.8725</td>\n",
       "      <td>0.4169</td>\n",
       "      <td>0.4758</td>\n",
       "      <td>0.9233</td>\n",
       "      <td>0.9388</td>\n",
       "    </tr>\n",
       "  </tbody>\n",
       "</table>\n",
       "<p>2 rows × 23 columns</p>\n",
       "</div>"
      ],
      "text/plain": [
       "               Sentrix  PATNO  Gender  APPRDX  HYS   Age  AgeCate  \\\n",
       "0  200973410159_R03C01   3000       2       2    0  69.1        4   \n",
       "1  200991620021_R01C01   3001       1       1    2  65.1        4   \n",
       "\n",
       "   MDS_Depress  MDSP_Constipate  MDSP_Fatigue  ...  Montreal_Cognitive  \\\n",
       "0            1                0             0  ...                   0   \n",
       "1            0                0             1  ...                   0   \n",
       "\n",
       "   SCOPA_Sex  Symbol_Digit  UPSIT_3  cg05789720  cg00052836  cg12526471  \\\n",
       "0          0             0        0      0.9225      0.9312      0.5106   \n",
       "1          2             1        1      0.9109      0.8725      0.4169   \n",
       "\n",
       "  cg21049840 cg00377727 cg18473117  \n",
       "0     0.4569     0.6784     0.9672  \n",
       "1     0.4758     0.9233     0.9388  \n",
       "\n",
       "[2 rows x 23 columns]"
      ]
     },
     "execution_count": 12,
     "metadata": {},
     "output_type": "execute_result"
    }
   ],
   "source": [
    "df3 = pd.merge (df2, dft, on= \"Sentrix\", how= \"inner\")\n",
    "df3.head(2)"
   ]
  },
  {
   "cell_type": "code",
   "execution_count": 13,
   "id": "6d166ac9",
   "metadata": {
    "ExecuteTime": {
     "end_time": "2022-12-08T06:38:46.472667Z",
     "start_time": "2022-12-08T06:38:46.303390Z"
    }
   },
   "outputs": [
    {
     "data": {
      "text/plain": [
       "(457, 23)"
      ]
     },
     "execution_count": 13,
     "metadata": {},
     "output_type": "execute_result"
    }
   ],
   "source": [
    "df3.shape"
   ]
  },
  {
   "cell_type": "code",
   "execution_count": 14,
   "id": "daea5549",
   "metadata": {
    "ExecuteTime": {
     "end_time": "2022-12-08T06:38:46.604218Z",
     "start_time": "2022-12-08T06:38:46.472667Z"
    }
   },
   "outputs": [],
   "source": [
    "df3.to_csv (\"Common6CpG_ChrNMI_9Feats_withComm10FeatData_withMethyl.csv\", index = False)"
   ]
  }
 ],
 "metadata": {
  "kernelspec": {
   "display_name": "Python 3 (ipykernel)",
   "language": "python",
   "name": "python3"
  },
  "language_info": {
   "codemirror_mode": {
    "name": "ipython",
    "version": 3
   },
   "file_extension": ".py",
   "mimetype": "text/x-python",
   "name": "python",
   "nbconvert_exporter": "python",
   "pygments_lexer": "ipython3",
   "version": "3.9.7"
  },
  "toc": {
   "base_numbering": 1,
   "nav_menu": {},
   "number_sections": true,
   "sideBar": true,
   "skip_h1_title": false,
   "title_cell": "Table of Contents",
   "title_sidebar": "Contents",
   "toc_cell": false,
   "toc_position": {},
   "toc_section_display": true,
   "toc_window_display": false
  },
  "varInspector": {
   "cols": {
    "lenName": 16,
    "lenType": 16,
    "lenVar": 40
   },
   "kernels_config": {
    "python": {
     "delete_cmd_postfix": "",
     "delete_cmd_prefix": "del ",
     "library": "var_list.py",
     "varRefreshCmd": "print(var_dic_list())"
    },
    "r": {
     "delete_cmd_postfix": ") ",
     "delete_cmd_prefix": "rm(",
     "library": "var_list.r",
     "varRefreshCmd": "cat(var_dic_list()) "
    }
   },
   "types_to_exclude": [
    "module",
    "function",
    "builtin_function_or_method",
    "instance",
    "_Feature"
   ],
   "window_display": false
  }
 },
 "nbformat": 4,
 "nbformat_minor": 5
}
