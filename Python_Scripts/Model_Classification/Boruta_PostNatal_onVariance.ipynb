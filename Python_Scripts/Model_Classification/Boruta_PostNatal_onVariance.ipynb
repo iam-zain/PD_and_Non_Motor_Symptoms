{
 "cells": [
  {
   "cell_type": "code",
   "execution_count": 1,
   "id": "51c5704f",
   "metadata": {
    "ExecuteTime": {
     "end_time": "2022-11-26T05:38:54.922719Z",
     "start_time": "2022-11-26T05:38:51.559559Z"
    }
   },
   "outputs": [],
   "source": [
    "import numpy as np\n",
    "import pandas as pd\n",
    "from boruta import BorutaPy\n",
    "from sklearn.datasets import load_diabetes\n",
    "from sklearn.metrics import accuracy_score \n",
    "from sklearn.ensemble import RandomForestRegressor\n",
    "from sklearn.ensemble import RandomForestClassifier\n",
    "from sklearn.model_selection import train_test_split"
   ]
  },
  {
   "cell_type": "code",
   "execution_count": 2,
   "id": "5ff336b1",
   "metadata": {
    "ExecuteTime": {
     "end_time": "2022-11-26T05:38:55.092013Z",
     "start_time": "2022-11-26T05:38:54.922719Z"
    }
   },
   "outputs": [
    {
     "name": "stdout",
     "output_type": "stream",
     "text": [
      "Z:\\Project_Top2B\\Clocks_Analysis\\Analysis_PostNatal\n"
     ]
    },
    {
     "data": {
      "text/html": [
       "<div>\n",
       "<style scoped>\n",
       "    .dataframe tbody tr th:only-of-type {\n",
       "        vertical-align: middle;\n",
       "    }\n",
       "\n",
       "    .dataframe tbody tr th {\n",
       "        vertical-align: top;\n",
       "    }\n",
       "\n",
       "    .dataframe thead th {\n",
       "        text-align: right;\n",
       "    }\n",
       "</style>\n",
       "<table border=\"1\" class=\"dataframe\">\n",
       "  <thead>\n",
       "    <tr style=\"text-align: right;\">\n",
       "      <th></th>\n",
       "      <th>ChroAge</th>\n",
       "      <th>cg21528620</th>\n",
       "      <th>cg11400774</th>\n",
       "      <th>cg12460133</th>\n",
       "      <th>cg10963061</th>\n",
       "      <th>cg19643314</th>\n",
       "      <th>cg09506600</th>\n",
       "      <th>cg08861456</th>\n",
       "      <th>cg03748376</th>\n",
       "      <th>cg00785941</th>\n",
       "      <th>...</th>\n",
       "      <th>cg04784122</th>\n",
       "      <th>cg17607496</th>\n",
       "      <th>cg09056691</th>\n",
       "      <th>cg25645693</th>\n",
       "      <th>cg10072574</th>\n",
       "      <th>cg00213853</th>\n",
       "      <th>cg09231482</th>\n",
       "      <th>cg00547789</th>\n",
       "      <th>cg10512285</th>\n",
       "      <th>cg04924141</th>\n",
       "    </tr>\n",
       "  </thead>\n",
       "  <tbody>\n",
       "    <tr>\n",
       "      <th>0</th>\n",
       "      <td>0.002739</td>\n",
       "      <td>0.276126</td>\n",
       "      <td>0.033429</td>\n",
       "      <td>0.356945</td>\n",
       "      <td>0.268813</td>\n",
       "      <td>0.276808</td>\n",
       "      <td>0.67513</td>\n",
       "      <td>0.472419</td>\n",
       "      <td>0.414603</td>\n",
       "      <td>0.264613</td>\n",
       "      <td>...</td>\n",
       "      <td>0.093902</td>\n",
       "      <td>0.154714</td>\n",
       "      <td>0.064139</td>\n",
       "      <td>0.07732</td>\n",
       "      <td>0.073663</td>\n",
       "      <td>0.094416</td>\n",
       "      <td>0.1074</td>\n",
       "      <td>0.091119</td>\n",
       "      <td>0.083006</td>\n",
       "      <td>0.430155</td>\n",
       "    </tr>\n",
       "  </tbody>\n",
       "</table>\n",
       "<p>1 rows × 227 columns</p>\n",
       "</div>"
      ],
      "text/plain": [
       "    ChroAge  cg21528620  cg11400774  cg12460133  cg10963061  cg19643314  \\\n",
       "0  0.002739    0.276126    0.033429    0.356945    0.268813    0.276808   \n",
       "\n",
       "   cg09506600  cg08861456  cg03748376  cg00785941  ...  cg04784122  \\\n",
       "0     0.67513    0.472419    0.414603    0.264613  ...    0.093902   \n",
       "\n",
       "   cg17607496  cg09056691  cg25645693  cg10072574  cg00213853  cg09231482  \\\n",
       "0    0.154714    0.064139     0.07732    0.073663    0.094416      0.1074   \n",
       "\n",
       "   cg00547789  cg10512285  cg04924141  \n",
       "0    0.091119    0.083006    0.430155  \n",
       "\n",
       "[1 rows x 227 columns]"
      ]
     },
     "execution_count": 2,
     "metadata": {},
     "output_type": "execute_result"
    }
   ],
   "source": [
    "%cd Z:\\Project_Top2B\\Clocks_Analysis\\Analysis_PostNatal\n",
    "data = pd.read_csv('TopVar_PostNatal_CpGListData_ChroAge.csv')\n",
    "data.head(1)"
   ]
  },
  {
   "cell_type": "code",
   "execution_count": 3,
   "id": "ee22df7a",
   "metadata": {
    "ExecuteTime": {
     "end_time": "2022-11-26T05:38:55.107630Z",
     "start_time": "2022-11-26T05:38:55.092013Z"
    }
   },
   "outputs": [],
   "source": [
    "X = data.drop(['ChroAge'], axis = 1)\n",
    "y = data['ChroAge']\n",
    "X_train, X_test, y_train, y_test = train_test_split(X, y, test_size = .2, random_state = 1) "
   ]
  },
  {
   "cell_type": "code",
   "execution_count": 4,
   "id": "c1ee3e48",
   "metadata": {
    "ExecuteTime": {
     "end_time": "2022-11-26T05:38:57.244746Z",
     "start_time": "2022-11-26T05:38:55.107630Z"
    }
   },
   "outputs": [
    {
     "data": {
      "text/plain": [
       "RandomForestRegressor(random_state=1)"
      ]
     },
     "execution_count": 4,
     "metadata": {},
     "output_type": "execute_result"
    }
   ],
   "source": [
    "rf_all_features = RandomForestRegressor(random_state=1)\n",
    "rf_all_features.fit(X_train, y_train)"
   ]
  },
  {
   "cell_type": "markdown",
   "id": "c45373e6",
   "metadata": {
    "ExecuteTime": {
     "end_time": "2022-11-22T13:40:04.085848Z",
     "start_time": "2022-11-22T13:40:03.515418Z"
    }
   },
   "source": [
    "accuracy_score(y_test, rf_all_features.predict(X_test))"
   ]
  },
  {
   "cell_type": "code",
   "execution_count": 5,
   "id": "5ba608ac",
   "metadata": {
    "ExecuteTime": {
     "end_time": "2022-11-26T05:40:33.174288Z",
     "start_time": "2022-11-26T05:38:57.244746Z"
    }
   },
   "outputs": [
    {
     "name": "stdout",
     "output_type": "stream",
     "text": [
      "Iteration: 1 / 100\n",
      "Iteration: 2 / 100\n",
      "Iteration: 3 / 100\n",
      "Iteration: 4 / 100\n",
      "Iteration: 5 / 100\n",
      "Iteration: 6 / 100\n",
      "Iteration: 7 / 100\n",
      "Iteration: 8 / 100\n",
      "Iteration: 9 / 100\n",
      "Iteration: 10 / 100\n",
      "Iteration: 11 / 100\n",
      "Iteration: 12 / 100\n",
      "Iteration: 13 / 100\n",
      "Iteration: 14 / 100\n",
      "Iteration: 15 / 100\n",
      "Iteration: 16 / 100\n",
      "Iteration: 17 / 100\n",
      "Iteration: 18 / 100\n",
      "Iteration: 19 / 100\n",
      "Iteration: 20 / 100\n",
      "Iteration: 21 / 100\n",
      "Iteration: 22 / 100\n",
      "Iteration: 23 / 100\n",
      "Iteration: 24 / 100\n",
      "Iteration: 25 / 100\n",
      "Iteration: 26 / 100\n",
      "Iteration: 27 / 100\n",
      "Iteration: 28 / 100\n",
      "Iteration: 29 / 100\n",
      "Iteration: 30 / 100\n",
      "Iteration: 31 / 100\n",
      "Iteration: 32 / 100\n",
      "Iteration: 33 / 100\n",
      "Iteration: 34 / 100\n",
      "Iteration: 35 / 100\n",
      "Iteration: 36 / 100\n",
      "Iteration: 37 / 100\n",
      "Iteration: 38 / 100\n",
      "Iteration: 39 / 100\n",
      "Iteration: 40 / 100\n",
      "Iteration: 41 / 100\n",
      "Iteration: 42 / 100\n",
      "Iteration: 43 / 100\n",
      "Iteration: 44 / 100\n",
      "Iteration: 45 / 100\n",
      "Iteration: 46 / 100\n",
      "Iteration: 47 / 100\n",
      "Iteration: 48 / 100\n",
      "Iteration: 49 / 100\n",
      "Iteration: 50 / 100\n",
      "Iteration: 51 / 100\n",
      "Iteration: 52 / 100\n",
      "Iteration: 53 / 100\n",
      "Iteration: 54 / 100\n",
      "Iteration: 55 / 100\n",
      "Iteration: 56 / 100\n",
      "Iteration: 57 / 100\n",
      "Iteration: 58 / 100\n",
      "Iteration: 59 / 100\n",
      "Iteration: 60 / 100\n",
      "Iteration: 61 / 100\n",
      "Iteration: 62 / 100\n",
      "Iteration: 63 / 100\n",
      "Iteration: 64 / 100\n",
      "Iteration: 65 / 100\n",
      "Iteration: 66 / 100\n",
      "Iteration: 67 / 100\n",
      "Iteration: 68 / 100\n",
      "Iteration: 69 / 100\n",
      "Iteration: 70 / 100\n",
      "Iteration: 71 / 100\n",
      "Iteration: 72 / 100\n",
      "Iteration: 73 / 100\n",
      "Iteration: 74 / 100\n",
      "Iteration: 75 / 100\n",
      "Iteration: 76 / 100\n",
      "Iteration: 77 / 100\n",
      "Iteration: 78 / 100\n",
      "Iteration: 79 / 100\n",
      "Iteration: 80 / 100\n",
      "Iteration: 81 / 100\n",
      "Iteration: 82 / 100\n",
      "Iteration: 83 / 100\n",
      "Iteration: 84 / 100\n",
      "Iteration: 85 / 100\n",
      "Iteration: 86 / 100\n",
      "Iteration: 87 / 100\n",
      "Iteration: 88 / 100\n",
      "Iteration: 89 / 100\n",
      "Iteration: 90 / 100\n",
      "Iteration: 91 / 100\n",
      "Iteration: 92 / 100\n",
      "Iteration: 93 / 100\n",
      "Iteration: 94 / 100\n",
      "Iteration: 95 / 100\n",
      "Iteration: 96 / 100\n",
      "Iteration: 97 / 100\n",
      "Iteration: 98 / 100\n",
      "Iteration: 99 / 100\n",
      "\n",
      "\n",
      "BorutaPy finished running.\n",
      "\n",
      "Iteration: \t100 / 100\n",
      "Confirmed: \t21\n",
      "Tentative: \t5\n",
      "Rejected: \t200\n"
     ]
    },
    {
     "data": {
      "text/plain": [
       "BorutaPy(estimator=RandomForestRegressor(n_estimators=72,\n",
       "                                         random_state=RandomState(MT19937) at 0x23C82423D40),\n",
       "         n_estimators='auto',\n",
       "         random_state=RandomState(MT19937) at 0x23C82423D40, verbose=1)"
      ]
     },
     "execution_count": 5,
     "metadata": {},
     "output_type": "execute_result"
    }
   ],
   "source": [
    "rfc = RandomForestRegressor(random_state=1)\n",
    "boruta_selector = BorutaPy(rfc, n_estimators= 'auto', verbose=1, random_state=1)\n",
    "boruta_selector.fit(np.array(X_train), np.array(y_train))  "
   ]
  },
  {
   "cell_type": "code",
   "execution_count": 6,
   "id": "51f874e0",
   "metadata": {
    "ExecuteTime": {
     "end_time": "2022-11-26T05:40:33.200040Z",
     "start_time": "2022-11-26T05:40:33.174288Z"
    }
   },
   "outputs": [
    {
     "name": "stdout",
     "output_type": "stream",
     "text": [
      "No. of significant features:  21\n"
     ]
    }
   ],
   "source": [
    "# print(\"Ranking: \",boruta_selector.ranking_)          \n",
    "print(\"No. of significant features: \", boruta_selector.n_features_)"
   ]
  },
  {
   "cell_type": "code",
   "execution_count": 7,
   "id": "61cadc89",
   "metadata": {
    "ExecuteTime": {
     "end_time": "2022-11-26T05:40:33.278162Z",
     "start_time": "2022-11-26T05:40:33.200040Z"
    }
   },
   "outputs": [],
   "source": [
    "selected_rf_features = pd.DataFrame({'CpG':list(X_train.columns),\n",
    "                                       'Ranking':boruta_selector.ranking_})\n",
    "selected_rf_features = selected_rf_features.sort_values(by='Ranking')"
   ]
  },
  {
   "cell_type": "code",
   "execution_count": 8,
   "id": "6ae888ab",
   "metadata": {
    "ExecuteTime": {
     "end_time": "2022-11-26T05:40:33.346717Z",
     "start_time": "2022-11-26T05:40:33.278162Z"
    }
   },
   "outputs": [
    {
     "data": {
      "text/html": [
       "<div>\n",
       "<style scoped>\n",
       "    .dataframe tbody tr th:only-of-type {\n",
       "        vertical-align: middle;\n",
       "    }\n",
       "\n",
       "    .dataframe tbody tr th {\n",
       "        vertical-align: top;\n",
       "    }\n",
       "\n",
       "    .dataframe thead th {\n",
       "        text-align: right;\n",
       "    }\n",
       "</style>\n",
       "<table border=\"1\" class=\"dataframe\">\n",
       "  <thead>\n",
       "    <tr style=\"text-align: right;\">\n",
       "      <th></th>\n",
       "      <th>CpG</th>\n",
       "      <th>Ranking</th>\n",
       "    </tr>\n",
       "  </thead>\n",
       "  <tbody>\n",
       "    <tr>\n",
       "      <th>168</th>\n",
       "      <td>cg08846870</td>\n",
       "      <td>1</td>\n",
       "    </tr>\n",
       "    <tr>\n",
       "      <th>58</th>\n",
       "      <td>cg17316649</td>\n",
       "      <td>1</td>\n",
       "    </tr>\n",
       "    <tr>\n",
       "      <th>106</th>\n",
       "      <td>cg14185918</td>\n",
       "      <td>1</td>\n",
       "    </tr>\n",
       "    <tr>\n",
       "      <th>165</th>\n",
       "      <td>cg01623261</td>\n",
       "      <td>1</td>\n",
       "    </tr>\n",
       "    <tr>\n",
       "      <th>36</th>\n",
       "      <td>cg19851029</td>\n",
       "      <td>1</td>\n",
       "    </tr>\n",
       "  </tbody>\n",
       "</table>\n",
       "</div>"
      ],
      "text/plain": [
       "            CpG  Ranking\n",
       "168  cg08846870        1\n",
       "58   cg17316649        1\n",
       "106  cg14185918        1\n",
       "165  cg01623261        1\n",
       "36   cg19851029        1"
      ]
     },
     "execution_count": 8,
     "metadata": {},
     "output_type": "execute_result"
    }
   ],
   "source": [
    "Top50 = selected_rf_features.iloc[:51, :]\n",
    "Top50.head()"
   ]
  },
  {
   "cell_type": "code",
   "execution_count": 9,
   "id": "9605e163",
   "metadata": {
    "ExecuteTime": {
     "end_time": "2022-11-26T05:40:33.500152Z",
     "start_time": "2022-11-26T05:40:33.346717Z"
    }
   },
   "outputs": [],
   "source": [
    "Top50.to_csv ('CpG_Boruta_onVar_Top50.csv', index = False)\n",
    "selected_rf_features.to_csv ('CpG_Boruta_onVar.csv', index = False)"
   ]
  },
  {
   "cell_type": "code",
   "execution_count": null,
   "id": "829a9447",
   "metadata": {},
   "outputs": [],
   "source": []
  }
 ],
 "metadata": {
  "kernelspec": {
   "display_name": "Python 3 (ipykernel)",
   "language": "python",
   "name": "python3"
  },
  "language_info": {
   "codemirror_mode": {
    "name": "ipython",
    "version": 3
   },
   "file_extension": ".py",
   "mimetype": "text/x-python",
   "name": "python",
   "nbconvert_exporter": "python",
   "pygments_lexer": "ipython3",
   "version": "3.9.7"
  },
  "toc": {
   "base_numbering": 1,
   "nav_menu": {},
   "number_sections": true,
   "sideBar": true,
   "skip_h1_title": false,
   "title_cell": "Table of Contents",
   "title_sidebar": "Contents",
   "toc_cell": false,
   "toc_position": {},
   "toc_section_display": true,
   "toc_window_display": false
  },
  "varInspector": {
   "cols": {
    "lenName": 16,
    "lenType": 16,
    "lenVar": 40
   },
   "kernels_config": {
    "python": {
     "delete_cmd_postfix": "",
     "delete_cmd_prefix": "del ",
     "library": "var_list.py",
     "varRefreshCmd": "print(var_dic_list())"
    },
    "r": {
     "delete_cmd_postfix": ") ",
     "delete_cmd_prefix": "rm(",
     "library": "var_list.r",
     "varRefreshCmd": "cat(var_dic_list()) "
    }
   },
   "types_to_exclude": [
    "module",
    "function",
    "builtin_function_or_method",
    "instance",
    "_Feature"
   ],
   "window_display": false
  }
 },
 "nbformat": 4,
 "nbformat_minor": 5
}
