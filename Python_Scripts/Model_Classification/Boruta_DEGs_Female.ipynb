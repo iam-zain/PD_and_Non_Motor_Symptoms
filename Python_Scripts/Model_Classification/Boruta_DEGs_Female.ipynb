{
 "cells": [
  {
   "cell_type": "code",
   "execution_count": 1,
   "id": "51c5704f",
   "metadata": {
    "ExecuteTime": {
     "end_time": "2023-11-15T10:24:01.837254Z",
     "start_time": "2023-11-15T10:24:00.228253Z"
    }
   },
   "outputs": [],
   "source": [
    "import numpy as np\n",
    "import pandas as pd\n",
    "from boruta import BorutaPy\n",
    "from sklearn.datasets import load_diabetes\n",
    "from sklearn.metrics import accuracy_score \n",
    "from sklearn.ensemble import RandomForestRegressor\n",
    "from sklearn.ensemble import RandomForestClassifier\n",
    "from sklearn.model_selection import train_test_split"
   ]
  },
  {
   "cell_type": "code",
   "execution_count": 9,
   "id": "5ff336b1",
   "metadata": {
    "ExecuteTime": {
     "end_time": "2023-11-15T10:36:43.608203Z",
     "start_time": "2023-11-15T10:36:15.551174Z"
    }
   },
   "outputs": [
    {
     "name": "stdout",
     "output_type": "stream",
     "text": [
      "S:\\PPMI_RNA\\Processed\\Female\n"
     ]
    },
    {
     "data": {
      "text/html": [
       "<div>\n",
       "<style scoped>\n",
       "    .dataframe tbody tr th:only-of-type {\n",
       "        vertical-align: middle;\n",
       "    }\n",
       "\n",
       "    .dataframe tbody tr th {\n",
       "        vertical-align: top;\n",
       "    }\n",
       "\n",
       "    .dataframe thead th {\n",
       "        text-align: right;\n",
       "    }\n",
       "</style>\n",
       "<table border=\"1\" class=\"dataframe\">\n",
       "  <thead>\n",
       "    <tr style=\"text-align: right;\">\n",
       "      <th></th>\n",
       "      <th>HudAlphaID</th>\n",
       "      <th>DIAGNOSIS</th>\n",
       "      <th>PATNO</th>\n",
       "      <th>ENSG00000223972.5</th>\n",
       "      <th>ENSG00000227232.5</th>\n",
       "      <th>ENSG00000278267.1</th>\n",
       "      <th>ENSG00000243485.5</th>\n",
       "      <th>ENSG00000284332.1</th>\n",
       "      <th>ENSG00000237613.2</th>\n",
       "      <th>ENSG00000268020.3</th>\n",
       "      <th>...</th>\n",
       "      <th>ENSG00000273739.1</th>\n",
       "      <th>ENSG00000276700.1</th>\n",
       "      <th>ENSG00000276312.1</th>\n",
       "      <th>ENSG00000275757.1</th>\n",
       "      <th>ENSG00000278573.1</th>\n",
       "      <th>ENSG00000276017.1</th>\n",
       "      <th>ENSG00000278817.1</th>\n",
       "      <th>ENSG00000277196.4</th>\n",
       "      <th>ENSG00000278625.1</th>\n",
       "      <th>ENSG00000277374.1</th>\n",
       "    </tr>\n",
       "  </thead>\n",
       "  <tbody>\n",
       "    <tr>\n",
       "      <th>0</th>\n",
       "      <td>5104_SL_0002</td>\n",
       "      <td>0</td>\n",
       "      <td>3201</td>\n",
       "      <td>2</td>\n",
       "      <td>199</td>\n",
       "      <td>10</td>\n",
       "      <td>0</td>\n",
       "      <td>0</td>\n",
       "      <td>0</td>\n",
       "      <td>0</td>\n",
       "      <td>...</td>\n",
       "      <td>0</td>\n",
       "      <td>0</td>\n",
       "      <td>2</td>\n",
       "      <td>0</td>\n",
       "      <td>0</td>\n",
       "      <td>0</td>\n",
       "      <td>3</td>\n",
       "      <td>0</td>\n",
       "      <td>0</td>\n",
       "      <td>0</td>\n",
       "    </tr>\n",
       "  </tbody>\n",
       "</table>\n",
       "<p>1 rows × 58783 columns</p>\n",
       "</div>"
      ],
      "text/plain": [
       "     HudAlphaID  DIAGNOSIS  PATNO  ENSG00000223972.5  ENSG00000227232.5  \\\n",
       "0  5104_SL_0002          0   3201                  2                199   \n",
       "\n",
       "   ENSG00000278267.1  ENSG00000243485.5  ENSG00000284332.1  ENSG00000237613.2  \\\n",
       "0                 10                  0                  0                  0   \n",
       "\n",
       "   ENSG00000268020.3  ...  ENSG00000273739.1  ENSG00000276700.1  \\\n",
       "0                  0  ...                  0                  0   \n",
       "\n",
       "   ENSG00000276312.1  ENSG00000275757.1  ENSG00000278573.1  ENSG00000276017.1  \\\n",
       "0                  2                  0                  0                  0   \n",
       "\n",
       "   ENSG00000278817.1  ENSG00000277196.4  ENSG00000278625.1  ENSG00000277374.1  \n",
       "0                  3                  0                  0                  0  \n",
       "\n",
       "[1 rows x 58783 columns]"
      ]
     },
     "execution_count": 9,
     "metadata": {},
     "output_type": "execute_result"
    }
   ],
   "source": [
    "%cd S:\\PPMI_RNA\\Processed\\Female\n",
    "data = pd.read_csv('All_Counts_PatAndHealthy_Disease_Female.csv')\n",
    "data['DIAGNOSIS'] = data['DIAGNOSIS'].replace({'PD': 1, 'Control': 0})\n",
    "data.head(1)"
   ]
  },
  {
   "cell_type": "code",
   "execution_count": 10,
   "id": "ee22df7a",
   "metadata": {
    "ExecuteTime": {
     "end_time": "2023-11-15T10:36:53.560970Z",
     "start_time": "2023-11-15T10:36:52.898994Z"
    }
   },
   "outputs": [
    {
     "name": "stdout",
     "output_type": "stream",
     "text": [
      "   DIAGNOSIS  ENSG00000223972.5  ENSG00000227232.5  ENSG00000278267.1  \\\n",
      "0          0                  2                199                 10   \n",
      "1          0                  0                148                  2   \n",
      "\n",
      "   ENSG00000243485.5  ENSG00000284332.1  ENSG00000237613.2  ENSG00000268020.3  \\\n",
      "0                  0                  0                  0                  0   \n",
      "1                  1                  0                  1                  0   \n",
      "\n",
      "   ENSG00000240361.2  ENSG00000186092.6  ...  ENSG00000273739.1  \\\n",
      "0                  1                  0  ...                  0   \n",
      "1                  1                  0  ...                  0   \n",
      "\n",
      "   ENSG00000276700.1  ENSG00000276312.1  ENSG00000275757.1  ENSG00000278573.1  \\\n",
      "0                  0                  2                  0                  0   \n",
      "1                  3                  8                  2                  0   \n",
      "\n",
      "   ENSG00000276017.1  ENSG00000278817.1  ENSG00000277196.4  ENSG00000278625.1  \\\n",
      "0                  0                  3                  0                  0   \n",
      "1                  1                 15                  3                  0   \n",
      "\n",
      "   ENSG00000277374.1  \n",
      "0                  0  \n",
      "1                  0  \n",
      "\n",
      "[2 rows x 58781 columns]\n"
     ]
    }
   ],
   "source": [
    "X = data.drop(['HudAlphaID','PATNO'], axis = 1)\n",
    "y = data['DIAGNOSIS']\n",
    "X_train, X_test, y_train, y_test = train_test_split(X, y, test_size = .2, random_state = 1) \n",
    "print(X.head(2))"
   ]
  },
  {
   "cell_type": "code",
   "execution_count": 11,
   "id": "c1ee3e48",
   "metadata": {
    "ExecuteTime": {
     "end_time": "2023-11-15T10:37:10.748403Z",
     "start_time": "2023-11-15T10:37:06.674372Z"
    }
   },
   "outputs": [
    {
     "data": {
      "text/plain": [
       "RandomForestClassifier(random_state=1)"
      ]
     },
     "execution_count": 11,
     "metadata": {},
     "output_type": "execute_result"
    }
   ],
   "source": [
    "rf_all_features = RandomForestClassifier(random_state=1)\n",
    "rf_all_features.fit(X_train, y_train)"
   ]
  },
  {
   "cell_type": "code",
   "execution_count": 12,
   "id": "f17f8606",
   "metadata": {
    "ExecuteTime": {
     "end_time": "2023-11-15T10:37:18.523831Z",
     "start_time": "2023-11-15T10:37:18.175832Z"
    }
   },
   "outputs": [
    {
     "data": {
      "text/plain": [
       "0.7254901960784313"
      ]
     },
     "execution_count": 12,
     "metadata": {},
     "output_type": "execute_result"
    }
   ],
   "source": [
    "accuracy_score(y_test, rf_all_features.predict(X_test))"
   ]
  },
  {
   "cell_type": "code",
   "execution_count": 13,
   "id": "5ba608ac",
   "metadata": {
    "ExecuteTime": {
     "end_time": "2023-11-15T11:03:07.042173Z",
     "start_time": "2023-11-15T10:37:25.877752Z"
    },
    "scrolled": true
   },
   "outputs": [
    {
     "name": "stdout",
     "output_type": "stream",
     "text": [
      "Iteration: 1 / 100\n",
      "Iteration: 2 / 100\n",
      "Iteration: 3 / 100\n",
      "Iteration: 4 / 100\n",
      "Iteration: 5 / 100\n",
      "Iteration: 6 / 100\n",
      "Iteration: 7 / 100\n",
      "Iteration: 8 / 100\n",
      "Iteration: 9 / 100\n",
      "Iteration: 10 / 100\n",
      "Iteration: 11 / 100\n",
      "Iteration: 12 / 100\n",
      "Iteration: 13 / 100\n",
      "Iteration: 14 / 100\n",
      "Iteration: 15 / 100\n",
      "Iteration: 16 / 100\n",
      "Iteration: 17 / 100\n",
      "Iteration: 18 / 100\n",
      "Iteration: 19 / 100\n",
      "Iteration: 20 / 100\n",
      "Iteration: 21 / 100\n",
      "Iteration: 22 / 100\n",
      "Iteration: 23 / 100\n",
      "Iteration: 24 / 100\n",
      "Iteration: 25 / 100\n",
      "Iteration: 26 / 100\n",
      "Iteration: 27 / 100\n",
      "Iteration: 28 / 100\n",
      "Iteration: 29 / 100\n",
      "Iteration: 30 / 100\n",
      "Iteration: 31 / 100\n",
      "Iteration: 32 / 100\n",
      "Iteration: 33 / 100\n",
      "Iteration: 34 / 100\n",
      "Iteration: 35 / 100\n",
      "Iteration: 36 / 100\n",
      "Iteration: 37 / 100\n",
      "Iteration: 38 / 100\n",
      "Iteration: 39 / 100\n",
      "Iteration: 40 / 100\n",
      "Iteration: 41 / 100\n",
      "Iteration: 42 / 100\n",
      "Iteration: 43 / 100\n",
      "Iteration: 44 / 100\n",
      "Iteration: 45 / 100\n",
      "Iteration: 46 / 100\n",
      "Iteration: 47 / 100\n",
      "Iteration: 48 / 100\n",
      "Iteration: 49 / 100\n",
      "Iteration: 50 / 100\n",
      "Iteration: 51 / 100\n",
      "Iteration: 52 / 100\n",
      "Iteration: 53 / 100\n",
      "Iteration: 54 / 100\n",
      "Iteration: 55 / 100\n",
      "Iteration: 56 / 100\n",
      "Iteration: 57 / 100\n",
      "Iteration: 58 / 100\n",
      "Iteration: 59 / 100\n",
      "Iteration: 60 / 100\n",
      "Iteration: 61 / 100\n",
      "Iteration: 62 / 100\n",
      "Iteration: 63 / 100\n",
      "Iteration: 64 / 100\n",
      "Iteration: 65 / 100\n",
      "Iteration: 66 / 100\n",
      "Iteration: 67 / 100\n",
      "Iteration: 68 / 100\n",
      "Iteration: 69 / 100\n",
      "Iteration: 70 / 100\n",
      "Iteration: 71 / 100\n",
      "Iteration: 72 / 100\n",
      "Iteration: 73 / 100\n",
      "Iteration: 74 / 100\n",
      "Iteration: 75 / 100\n",
      "Iteration: 76 / 100\n",
      "Iteration: 77 / 100\n",
      "Iteration: 78 / 100\n",
      "Iteration: 79 / 100\n",
      "Iteration: 80 / 100\n",
      "Iteration: 81 / 100\n",
      "Iteration: 82 / 100\n",
      "Iteration: 83 / 100\n",
      "Iteration: 84 / 100\n",
      "Iteration: 85 / 100\n",
      "Iteration: 86 / 100\n",
      "Iteration: 87 / 100\n",
      "Iteration: 88 / 100\n",
      "Iteration: 89 / 100\n",
      "Iteration: 90 / 100\n",
      "Iteration: 91 / 100\n",
      "Iteration: 92 / 100\n",
      "Iteration: 93 / 100\n",
      "Iteration: 94 / 100\n",
      "Iteration: 95 / 100\n",
      "Iteration: 96 / 100\n",
      "Iteration: 97 / 100\n",
      "Iteration: 98 / 100\n",
      "Iteration: 99 / 100\n",
      "\n",
      "\n",
      "BorutaPy finished running.\n",
      "\n",
      "Iteration: \t100 / 100\n",
      "Confirmed: \t35\n",
      "Tentative: \t13\n",
      "Rejected: \t58728\n"
     ]
    },
    {
     "data": {
      "text/plain": [
       "BorutaPy(estimator=RandomForestClassifier(n_estimators=102,\n",
       "                                          random_state=RandomState(MT19937) at 0x1AD0F6EE840),\n",
       "         n_estimators='auto',\n",
       "         random_state=RandomState(MT19937) at 0x1AD0F6EE840, verbose=1)"
      ]
     },
     "execution_count": 13,
     "metadata": {},
     "output_type": "execute_result"
    }
   ],
   "source": [
    "rfc = RandomForestClassifier(random_state=1)\n",
    "boruta_selector = BorutaPy(rfc, n_estimators= 'auto', verbose=1, random_state=1)\n",
    "boruta_selector.fit(np.array(X_train), np.array(y_train))  "
   ]
  },
  {
   "cell_type": "code",
   "execution_count": 14,
   "id": "51f874e0",
   "metadata": {
    "ExecuteTime": {
     "end_time": "2023-11-15T11:03:14.358174Z",
     "start_time": "2023-11-15T11:03:14.344175Z"
    }
   },
   "outputs": [
    {
     "name": "stdout",
     "output_type": "stream",
     "text": [
      "No. of significant features:  35\n"
     ]
    }
   ],
   "source": [
    "# print(\"Ranking: \",boruta_selector.ranking_)          \n",
    "print(\"No. of significant features: \", boruta_selector.n_features_)"
   ]
  },
  {
   "cell_type": "code",
   "execution_count": 15,
   "id": "61cadc89",
   "metadata": {
    "ExecuteTime": {
     "end_time": "2023-11-15T11:03:21.670205Z",
     "start_time": "2023-11-15T11:03:21.641176Z"
    }
   },
   "outputs": [],
   "source": [
    "selected_rf_features = pd.DataFrame({'CpG':list(X_train.columns),\n",
    "                                       'Ranking':boruta_selector.ranking_})\n",
    "selected_rf_features = selected_rf_features.sort_values(by='Ranking')"
   ]
  },
  {
   "cell_type": "code",
   "execution_count": 16,
   "id": "6ae888ab",
   "metadata": {
    "ExecuteTime": {
     "end_time": "2023-11-15T11:03:28.934206Z",
     "start_time": "2023-11-15T11:03:28.920175Z"
    },
    "scrolled": true
   },
   "outputs": [
    {
     "data": {
      "text/html": [
       "<div>\n",
       "<style scoped>\n",
       "    .dataframe tbody tr th:only-of-type {\n",
       "        vertical-align: middle;\n",
       "    }\n",
       "\n",
       "    .dataframe tbody tr th {\n",
       "        vertical-align: top;\n",
       "    }\n",
       "\n",
       "    .dataframe thead th {\n",
       "        text-align: right;\n",
       "    }\n",
       "</style>\n",
       "<table border=\"1\" class=\"dataframe\">\n",
       "  <thead>\n",
       "    <tr style=\"text-align: right;\">\n",
       "      <th></th>\n",
       "      <th>CpG</th>\n",
       "      <th>Ranking</th>\n",
       "    </tr>\n",
       "  </thead>\n",
       "  <tbody>\n",
       "    <tr>\n",
       "      <th>0</th>\n",
       "      <td>DIAGNOSIS</td>\n",
       "      <td>1</td>\n",
       "    </tr>\n",
       "    <tr>\n",
       "      <th>29028</th>\n",
       "      <td>ENSG00000204177.10</td>\n",
       "      <td>1</td>\n",
       "    </tr>\n",
       "    <tr>\n",
       "      <th>20046</th>\n",
       "      <td>ENSG00000228495.1</td>\n",
       "      <td>1</td>\n",
       "    </tr>\n",
       "  </tbody>\n",
       "</table>\n",
       "</div>"
      ],
      "text/plain": [
       "                      CpG  Ranking\n",
       "0               DIAGNOSIS        1\n",
       "29028  ENSG00000204177.10        1\n",
       "20046   ENSG00000228495.1        1"
      ]
     },
     "execution_count": 16,
     "metadata": {},
     "output_type": "execute_result"
    }
   ],
   "source": [
    "Top50 = selected_rf_features.iloc[:50, :]\n",
    "Top50.head(3)"
   ]
  },
  {
   "cell_type": "markdown",
   "id": "6332f2c7",
   "metadata": {},
   "source": [
    "### Top 50"
   ]
  },
  {
   "cell_type": "code",
   "execution_count": 17,
   "id": "9605e163",
   "metadata": {
    "ExecuteTime": {
     "end_time": "2023-11-15T11:03:36.225174Z",
     "start_time": "2023-11-15T11:03:36.100175Z"
    }
   },
   "outputs": [],
   "source": [
    "Top50.to_csv ('DEGs_Boruta_Top50_Female.csv', index = False)\n",
    "selected_rf_features.to_csv ('DEGs_Boruta_All_Female.csv', index = False)"
   ]
  },
  {
   "cell_type": "code",
   "execution_count": 18,
   "id": "a5bc67f8",
   "metadata": {
    "ExecuteTime": {
     "end_time": "2023-11-15T11:03:43.811206Z",
     "start_time": "2023-11-15T11:03:43.541175Z"
    }
   },
   "outputs": [
    {
     "name": "stderr",
     "output_type": "stream",
     "text": [
      "C:\\Users\\system 4\\AppData\\Local\\Temp\\ipykernel_9152\\1564645157.py:6: SettingWithCopyWarning: \n",
      "A value is trying to be set on a copy of a slice from a DataFrame.\n",
      "Try using .loc[row_indexer,col_indexer] = value instead\n",
      "\n",
      "See the caveats in the documentation: https://pandas.pydata.org/pandas-docs/stable/user_guide/indexing.html#returning-a-view-versus-a-copy\n",
      "  df_subset['DIAGNOSIS'] = data['DIAGNOSIS']\n"
     ]
    },
    {
     "data": {
      "text/html": [
       "<div>\n",
       "<style scoped>\n",
       "    .dataframe tbody tr th:only-of-type {\n",
       "        vertical-align: middle;\n",
       "    }\n",
       "\n",
       "    .dataframe tbody tr th {\n",
       "        vertical-align: top;\n",
       "    }\n",
       "\n",
       "    .dataframe thead th {\n",
       "        text-align: right;\n",
       "    }\n",
       "</style>\n",
       "<table border=\"1\" class=\"dataframe\">\n",
       "  <thead>\n",
       "    <tr style=\"text-align: right;\">\n",
       "      <th></th>\n",
       "      <th>DIAGNOSIS</th>\n",
       "      <th>ENSG00000188822.7</th>\n",
       "      <th>ENSG00000156869.13</th>\n",
       "      <th>ENSG00000183508.4</th>\n",
       "      <th>ENSG00000225217.1</th>\n",
       "      <th>ENSG00000180667.10</th>\n",
       "      <th>ENSG00000116574.5</th>\n",
       "      <th>ENSG00000134317.17</th>\n",
       "      <th>ENSG00000179915.22</th>\n",
       "      <th>ENSG00000091181.19</th>\n",
       "      <th>...</th>\n",
       "      <th>ENSG00000268240.1</th>\n",
       "      <th>ENSG00000131401.11</th>\n",
       "      <th>ENSG00000130433.7</th>\n",
       "      <th>ENSG00000205927.4</th>\n",
       "      <th>ENSG00000182240.15</th>\n",
       "      <th>ENSG00000224388.1</th>\n",
       "      <th>ENSG00000182362.13</th>\n",
       "      <th>ENSG00000100079.6</th>\n",
       "      <th>ENSG00000234493.4</th>\n",
       "      <th>ENSG00000278384.1</th>\n",
       "    </tr>\n",
       "  </thead>\n",
       "  <tbody>\n",
       "    <tr>\n",
       "      <th>0</th>\n",
       "      <td>0</td>\n",
       "      <td>500</td>\n",
       "      <td>323</td>\n",
       "      <td>28981</td>\n",
       "      <td>3330</td>\n",
       "      <td>24875</td>\n",
       "      <td>1191</td>\n",
       "      <td>191</td>\n",
       "      <td>305</td>\n",
       "      <td>782</td>\n",
       "      <td>...</td>\n",
       "      <td>95</td>\n",
       "      <td>1318</td>\n",
       "      <td>20</td>\n",
       "      <td>56</td>\n",
       "      <td>497</td>\n",
       "      <td>38</td>\n",
       "      <td>343</td>\n",
       "      <td>969</td>\n",
       "      <td>27</td>\n",
       "      <td>124</td>\n",
       "    </tr>\n",
       "    <tr>\n",
       "      <th>1</th>\n",
       "      <td>0</td>\n",
       "      <td>354</td>\n",
       "      <td>368</td>\n",
       "      <td>77677</td>\n",
       "      <td>1148</td>\n",
       "      <td>27435</td>\n",
       "      <td>815</td>\n",
       "      <td>117</td>\n",
       "      <td>118</td>\n",
       "      <td>1242</td>\n",
       "      <td>...</td>\n",
       "      <td>94</td>\n",
       "      <td>908</td>\n",
       "      <td>72</td>\n",
       "      <td>91</td>\n",
       "      <td>444</td>\n",
       "      <td>42</td>\n",
       "      <td>288</td>\n",
       "      <td>423</td>\n",
       "      <td>39</td>\n",
       "      <td>16</td>\n",
       "    </tr>\n",
       "  </tbody>\n",
       "</table>\n",
       "<p>2 rows × 50 columns</p>\n",
       "</div>"
      ],
      "text/plain": [
       "   DIAGNOSIS  ENSG00000188822.7  ENSG00000156869.13  ENSG00000183508.4  \\\n",
       "0          0                500                 323              28981   \n",
       "1          0                354                 368              77677   \n",
       "\n",
       "   ENSG00000225217.1  ENSG00000180667.10  ENSG00000116574.5  \\\n",
       "0               3330               24875               1191   \n",
       "1               1148               27435                815   \n",
       "\n",
       "   ENSG00000134317.17  ENSG00000179915.22  ENSG00000091181.19  ...  \\\n",
       "0                 191                 305                 782  ...   \n",
       "1                 117                 118                1242  ...   \n",
       "\n",
       "   ENSG00000268240.1  ENSG00000131401.11  ENSG00000130433.7  \\\n",
       "0                 95                1318                 20   \n",
       "1                 94                 908                 72   \n",
       "\n",
       "   ENSG00000205927.4  ENSG00000182240.15  ENSG00000224388.1  \\\n",
       "0                 56                 497                 38   \n",
       "1                 91                 444                 42   \n",
       "\n",
       "   ENSG00000182362.13  ENSG00000100079.6  ENSG00000234493.4  ENSG00000278384.1  \n",
       "0                 343                969                 27                124  \n",
       "1                 288                423                 39                 16  \n",
       "\n",
       "[2 rows x 50 columns]"
      ]
     },
     "execution_count": 18,
     "metadata": {},
     "output_type": "execute_result"
    }
   ],
   "source": [
    "# create a list of column names to subset from data\n",
    "col_names = Top50.iloc[:, 0].tolist()\n",
    "\n",
    "# subset df based on the column names\n",
    "df_subset = data.loc[:, data.columns.isin(col_names)]\n",
    "df_subset['DIAGNOSIS'] = data['DIAGNOSIS']\n",
    "df_subset.to_csv ('DEGs_Boruta_Top50_Data_Female.csv', index = False)\n",
    "df_subset.head(2)"
   ]
  },
  {
   "cell_type": "markdown",
   "id": "9df038a1",
   "metadata": {},
   "source": [
    "### Top 100"
   ]
  },
  {
   "cell_type": "code",
   "execution_count": 19,
   "id": "8f0c3db0",
   "metadata": {
    "ExecuteTime": {
     "end_time": "2023-11-15T11:03:53.201205Z",
     "start_time": "2023-11-15T11:03:53.187176Z"
    }
   },
   "outputs": [
    {
     "data": {
      "text/html": [
       "<div>\n",
       "<style scoped>\n",
       "    .dataframe tbody tr th:only-of-type {\n",
       "        vertical-align: middle;\n",
       "    }\n",
       "\n",
       "    .dataframe tbody tr th {\n",
       "        vertical-align: top;\n",
       "    }\n",
       "\n",
       "    .dataframe thead th {\n",
       "        text-align: right;\n",
       "    }\n",
       "</style>\n",
       "<table border=\"1\" class=\"dataframe\">\n",
       "  <thead>\n",
       "    <tr style=\"text-align: right;\">\n",
       "      <th></th>\n",
       "      <th>CpG</th>\n",
       "      <th>Ranking</th>\n",
       "    </tr>\n",
       "  </thead>\n",
       "  <tbody>\n",
       "    <tr>\n",
       "      <th>0</th>\n",
       "      <td>DIAGNOSIS</td>\n",
       "      <td>1</td>\n",
       "    </tr>\n",
       "    <tr>\n",
       "      <th>29028</th>\n",
       "      <td>ENSG00000204177.10</td>\n",
       "      <td>1</td>\n",
       "    </tr>\n",
       "  </tbody>\n",
       "</table>\n",
       "</div>"
      ],
      "text/plain": [
       "                      CpG  Ranking\n",
       "0               DIAGNOSIS        1\n",
       "29028  ENSG00000204177.10        1"
      ]
     },
     "execution_count": 19,
     "metadata": {},
     "output_type": "execute_result"
    }
   ],
   "source": [
    "Top100 = selected_rf_features.iloc[:100, :]\n",
    "Top100.to_csv ('DEGs_Boruta_Top100_Female.csv', index = False)\n",
    "Top100.head(2)"
   ]
  },
  {
   "cell_type": "code",
   "execution_count": 20,
   "id": "c202c574",
   "metadata": {
    "ExecuteTime": {
     "end_time": "2023-11-15T11:04:00.641174Z",
     "start_time": "2023-11-15T11:04:00.597176Z"
    }
   },
   "outputs": [
    {
     "name": "stderr",
     "output_type": "stream",
     "text": [
      "C:\\Users\\system 4\\AppData\\Local\\Temp\\ipykernel_9152\\3584030340.py:6: SettingWithCopyWarning: \n",
      "A value is trying to be set on a copy of a slice from a DataFrame.\n",
      "Try using .loc[row_indexer,col_indexer] = value instead\n",
      "\n",
      "See the caveats in the documentation: https://pandas.pydata.org/pandas-docs/stable/user_guide/indexing.html#returning-a-view-versus-a-copy\n",
      "  df_subset['DIAGNOSIS'] = data['DIAGNOSIS']\n"
     ]
    },
    {
     "data": {
      "text/html": [
       "<div>\n",
       "<style scoped>\n",
       "    .dataframe tbody tr th:only-of-type {\n",
       "        vertical-align: middle;\n",
       "    }\n",
       "\n",
       "    .dataframe tbody tr th {\n",
       "        vertical-align: top;\n",
       "    }\n",
       "\n",
       "    .dataframe thead th {\n",
       "        text-align: right;\n",
       "    }\n",
       "</style>\n",
       "<table border=\"1\" class=\"dataframe\">\n",
       "  <thead>\n",
       "    <tr style=\"text-align: right;\">\n",
       "      <th></th>\n",
       "      <th>DIAGNOSIS</th>\n",
       "      <th>ENSG00000271806.1</th>\n",
       "      <th>ENSG00000057757.9</th>\n",
       "      <th>ENSG00000188822.7</th>\n",
       "      <th>ENSG00000156869.13</th>\n",
       "      <th>ENSG00000282608.1</th>\n",
       "      <th>ENSG00000134256.12</th>\n",
       "      <th>ENSG00000183508.4</th>\n",
       "      <th>ENSG00000163554.13</th>\n",
       "      <th>ENSG00000225217.1</th>\n",
       "      <th>...</th>\n",
       "      <th>ENSG00000189068.10</th>\n",
       "      <th>ENSG00000205927.4</th>\n",
       "      <th>ENSG00000184221.12</th>\n",
       "      <th>ENSG00000182240.15</th>\n",
       "      <th>ENSG00000224388.1</th>\n",
       "      <th>ENSG00000182362.13</th>\n",
       "      <th>ENSG00000100079.6</th>\n",
       "      <th>ENSG00000047597.6</th>\n",
       "      <th>ENSG00000234493.4</th>\n",
       "      <th>ENSG00000278384.1</th>\n",
       "    </tr>\n",
       "  </thead>\n",
       "  <tbody>\n",
       "    <tr>\n",
       "      <th>0</th>\n",
       "      <td>0</td>\n",
       "      <td>37</td>\n",
       "      <td>7505</td>\n",
       "      <td>500</td>\n",
       "      <td>323</td>\n",
       "      <td>70</td>\n",
       "      <td>848</td>\n",
       "      <td>28981</td>\n",
       "      <td>430</td>\n",
       "      <td>3330</td>\n",
       "      <td>...</td>\n",
       "      <td>366</td>\n",
       "      <td>56</td>\n",
       "      <td>118</td>\n",
       "      <td>497</td>\n",
       "      <td>38</td>\n",
       "      <td>343</td>\n",
       "      <td>969</td>\n",
       "      <td>3354</td>\n",
       "      <td>27</td>\n",
       "      <td>124</td>\n",
       "    </tr>\n",
       "    <tr>\n",
       "      <th>1</th>\n",
       "      <td>0</td>\n",
       "      <td>26</td>\n",
       "      <td>10504</td>\n",
       "      <td>354</td>\n",
       "      <td>368</td>\n",
       "      <td>62</td>\n",
       "      <td>714</td>\n",
       "      <td>77677</td>\n",
       "      <td>1162</td>\n",
       "      <td>1148</td>\n",
       "      <td>...</td>\n",
       "      <td>209</td>\n",
       "      <td>91</td>\n",
       "      <td>104</td>\n",
       "      <td>444</td>\n",
       "      <td>42</td>\n",
       "      <td>288</td>\n",
       "      <td>423</td>\n",
       "      <td>6188</td>\n",
       "      <td>39</td>\n",
       "      <td>16</td>\n",
       "    </tr>\n",
       "  </tbody>\n",
       "</table>\n",
       "<p>2 rows × 100 columns</p>\n",
       "</div>"
      ],
      "text/plain": [
       "   DIAGNOSIS  ENSG00000271806.1  ENSG00000057757.9  ENSG00000188822.7  \\\n",
       "0          0                 37               7505                500   \n",
       "1          0                 26              10504                354   \n",
       "\n",
       "   ENSG00000156869.13  ENSG00000282608.1  ENSG00000134256.12  \\\n",
       "0                 323                 70                 848   \n",
       "1                 368                 62                 714   \n",
       "\n",
       "   ENSG00000183508.4  ENSG00000163554.13  ENSG00000225217.1  ...  \\\n",
       "0              28981                 430               3330  ...   \n",
       "1              77677                1162               1148  ...   \n",
       "\n",
       "   ENSG00000189068.10  ENSG00000205927.4  ENSG00000184221.12  \\\n",
       "0                 366                 56                 118   \n",
       "1                 209                 91                 104   \n",
       "\n",
       "   ENSG00000182240.15  ENSG00000224388.1  ENSG00000182362.13  \\\n",
       "0                 497                 38                 343   \n",
       "1                 444                 42                 288   \n",
       "\n",
       "   ENSG00000100079.6  ENSG00000047597.6  ENSG00000234493.4  ENSG00000278384.1  \n",
       "0                969               3354                 27                124  \n",
       "1                423               6188                 39                 16  \n",
       "\n",
       "[2 rows x 100 columns]"
      ]
     },
     "execution_count": 20,
     "metadata": {},
     "output_type": "execute_result"
    }
   ],
   "source": [
    "# create a list of column names to subset from data\n",
    "col_names = Top100.iloc[:, 0].tolist()\n",
    "\n",
    "# subset df based on the column names\n",
    "df_subset = data.loc[:, data.columns.isin(col_names)]\n",
    "df_subset['DIAGNOSIS'] = data['DIAGNOSIS']\n",
    "df_subset.to_csv ('DEGs_Boruta_Top100_Data_Female.csv', index = False)\n",
    "df_subset.head(2)"
   ]
  },
  {
   "cell_type": "markdown",
   "id": "a5a5561d",
   "metadata": {},
   "source": [
    "### Top 250"
   ]
  },
  {
   "cell_type": "code",
   "execution_count": 21,
   "id": "2023276f",
   "metadata": {
    "ExecuteTime": {
     "end_time": "2023-11-15T11:04:08.159206Z",
     "start_time": "2023-11-15T11:04:08.145175Z"
    }
   },
   "outputs": [
    {
     "data": {
      "text/html": [
       "<div>\n",
       "<style scoped>\n",
       "    .dataframe tbody tr th:only-of-type {\n",
       "        vertical-align: middle;\n",
       "    }\n",
       "\n",
       "    .dataframe tbody tr th {\n",
       "        vertical-align: top;\n",
       "    }\n",
       "\n",
       "    .dataframe thead th {\n",
       "        text-align: right;\n",
       "    }\n",
       "</style>\n",
       "<table border=\"1\" class=\"dataframe\">\n",
       "  <thead>\n",
       "    <tr style=\"text-align: right;\">\n",
       "      <th></th>\n",
       "      <th>CpG</th>\n",
       "      <th>Ranking</th>\n",
       "    </tr>\n",
       "  </thead>\n",
       "  <tbody>\n",
       "    <tr>\n",
       "      <th>0</th>\n",
       "      <td>DIAGNOSIS</td>\n",
       "      <td>1</td>\n",
       "    </tr>\n",
       "    <tr>\n",
       "      <th>29028</th>\n",
       "      <td>ENSG00000204177.10</td>\n",
       "      <td>1</td>\n",
       "    </tr>\n",
       "  </tbody>\n",
       "</table>\n",
       "</div>"
      ],
      "text/plain": [
       "                      CpG  Ranking\n",
       "0               DIAGNOSIS        1\n",
       "29028  ENSG00000204177.10        1"
      ]
     },
     "execution_count": 21,
     "metadata": {},
     "output_type": "execute_result"
    }
   ],
   "source": [
    "Top250 = selected_rf_features.iloc[:250, :]\n",
    "Top250.to_csv ('DEGs_Boruta_Top250_Female.csv', index = False)\n",
    "Top250.head(2)"
   ]
  },
  {
   "cell_type": "code",
   "execution_count": 22,
   "id": "73648537",
   "metadata": {
    "ExecuteTime": {
     "end_time": "2023-11-15T11:04:15.629174Z",
     "start_time": "2023-11-15T11:04:15.553175Z"
    }
   },
   "outputs": [
    {
     "name": "stderr",
     "output_type": "stream",
     "text": [
      "C:\\Users\\system 4\\AppData\\Local\\Temp\\ipykernel_9152\\916652613.py:6: SettingWithCopyWarning: \n",
      "A value is trying to be set on a copy of a slice from a DataFrame.\n",
      "Try using .loc[row_indexer,col_indexer] = value instead\n",
      "\n",
      "See the caveats in the documentation: https://pandas.pydata.org/pandas-docs/stable/user_guide/indexing.html#returning-a-view-versus-a-copy\n",
      "  df_subset['DIAGNOSIS'] = data['DIAGNOSIS']\n"
     ]
    },
    {
     "data": {
      "text/html": [
       "<div>\n",
       "<style scoped>\n",
       "    .dataframe tbody tr th:only-of-type {\n",
       "        vertical-align: middle;\n",
       "    }\n",
       "\n",
       "    .dataframe tbody tr th {\n",
       "        vertical-align: top;\n",
       "    }\n",
       "\n",
       "    .dataframe thead th {\n",
       "        text-align: right;\n",
       "    }\n",
       "</style>\n",
       "<table border=\"1\" class=\"dataframe\">\n",
       "  <thead>\n",
       "    <tr style=\"text-align: right;\">\n",
       "      <th></th>\n",
       "      <th>DIAGNOSIS</th>\n",
       "      <th>ENSG00000271806.1</th>\n",
       "      <th>ENSG00000117115.12</th>\n",
       "      <th>ENSG00000162543.5</th>\n",
       "      <th>ENSG00000076864.19</th>\n",
       "      <th>ENSG00000057757.9</th>\n",
       "      <th>ENSG00000188822.7</th>\n",
       "      <th>ENSG00000116983.12</th>\n",
       "      <th>ENSG00000117461.14</th>\n",
       "      <th>ENSG00000162437.14</th>\n",
       "      <th>...</th>\n",
       "      <th>ENSG00000100079.6</th>\n",
       "      <th>ENSG00000073150.13</th>\n",
       "      <th>ENSG00000047597.6</th>\n",
       "      <th>ENSG00000238222.3</th>\n",
       "      <th>ENSG00000231725.1</th>\n",
       "      <th>ENSG00000234493.4</th>\n",
       "      <th>ENSG00000076770.14</th>\n",
       "      <th>ENSG00000233093.5</th>\n",
       "      <th>ENSG00000210082.2</th>\n",
       "      <th>ENSG00000278384.1</th>\n",
       "    </tr>\n",
       "  </thead>\n",
       "  <tbody>\n",
       "    <tr>\n",
       "      <th>0</th>\n",
       "      <td>0</td>\n",
       "      <td>37</td>\n",
       "      <td>1745</td>\n",
       "      <td>208</td>\n",
       "      <td>27</td>\n",
       "      <td>7505</td>\n",
       "      <td>500</td>\n",
       "      <td>351</td>\n",
       "      <td>114</td>\n",
       "      <td>217</td>\n",
       "      <td>...</td>\n",
       "      <td>969</td>\n",
       "      <td>84</td>\n",
       "      <td>3354</td>\n",
       "      <td>5</td>\n",
       "      <td>18</td>\n",
       "      <td>27</td>\n",
       "      <td>35787</td>\n",
       "      <td>79</td>\n",
       "      <td>181</td>\n",
       "      <td>124</td>\n",
       "    </tr>\n",
       "    <tr>\n",
       "      <th>1</th>\n",
       "      <td>0</td>\n",
       "      <td>26</td>\n",
       "      <td>2239</td>\n",
       "      <td>369</td>\n",
       "      <td>46</td>\n",
       "      <td>10504</td>\n",
       "      <td>354</td>\n",
       "      <td>178</td>\n",
       "      <td>80</td>\n",
       "      <td>214</td>\n",
       "      <td>...</td>\n",
       "      <td>423</td>\n",
       "      <td>75</td>\n",
       "      <td>6188</td>\n",
       "      <td>9</td>\n",
       "      <td>3</td>\n",
       "      <td>39</td>\n",
       "      <td>34380</td>\n",
       "      <td>71</td>\n",
       "      <td>653</td>\n",
       "      <td>16</td>\n",
       "    </tr>\n",
       "  </tbody>\n",
       "</table>\n",
       "<p>2 rows × 250 columns</p>\n",
       "</div>"
      ],
      "text/plain": [
       "   DIAGNOSIS  ENSG00000271806.1  ENSG00000117115.12  ENSG00000162543.5  \\\n",
       "0          0                 37                1745                208   \n",
       "1          0                 26                2239                369   \n",
       "\n",
       "   ENSG00000076864.19  ENSG00000057757.9  ENSG00000188822.7  \\\n",
       "0                  27               7505                500   \n",
       "1                  46              10504                354   \n",
       "\n",
       "   ENSG00000116983.12  ENSG00000117461.14  ENSG00000162437.14  ...  \\\n",
       "0                 351                 114                 217  ...   \n",
       "1                 178                  80                 214  ...   \n",
       "\n",
       "   ENSG00000100079.6  ENSG00000073150.13  ENSG00000047597.6  \\\n",
       "0                969                  84               3354   \n",
       "1                423                  75               6188   \n",
       "\n",
       "   ENSG00000238222.3  ENSG00000231725.1  ENSG00000234493.4  \\\n",
       "0                  5                 18                 27   \n",
       "1                  9                  3                 39   \n",
       "\n",
       "   ENSG00000076770.14  ENSG00000233093.5  ENSG00000210082.2  ENSG00000278384.1  \n",
       "0               35787                 79                181                124  \n",
       "1               34380                 71                653                 16  \n",
       "\n",
       "[2 rows x 250 columns]"
      ]
     },
     "execution_count": 22,
     "metadata": {},
     "output_type": "execute_result"
    }
   ],
   "source": [
    "# create a list of column names to subset from data\n",
    "col_names = Top250.iloc[:, 0].tolist()\n",
    "\n",
    "# subset df based on the column names\n",
    "df_subset = data.loc[:, data.columns.isin(col_names)]\n",
    "df_subset['DIAGNOSIS'] = data['DIAGNOSIS']\n",
    "df_subset.to_csv ('DEGs_Boruta_Top250_Data_Female.csv', index = False)\n",
    "df_subset.head(2)"
   ]
  },
  {
   "cell_type": "markdown",
   "id": "368f324d",
   "metadata": {},
   "source": [
    "### Top 500"
   ]
  },
  {
   "cell_type": "code",
   "execution_count": 23,
   "id": "21d6fee1",
   "metadata": {
    "ExecuteTime": {
     "end_time": "2023-11-15T11:04:23.125176Z",
     "start_time": "2023-11-15T11:04:23.111175Z"
    }
   },
   "outputs": [
    {
     "data": {
      "text/html": [
       "<div>\n",
       "<style scoped>\n",
       "    .dataframe tbody tr th:only-of-type {\n",
       "        vertical-align: middle;\n",
       "    }\n",
       "\n",
       "    .dataframe tbody tr th {\n",
       "        vertical-align: top;\n",
       "    }\n",
       "\n",
       "    .dataframe thead th {\n",
       "        text-align: right;\n",
       "    }\n",
       "</style>\n",
       "<table border=\"1\" class=\"dataframe\">\n",
       "  <thead>\n",
       "    <tr style=\"text-align: right;\">\n",
       "      <th></th>\n",
       "      <th>CpG</th>\n",
       "      <th>Ranking</th>\n",
       "    </tr>\n",
       "  </thead>\n",
       "  <tbody>\n",
       "    <tr>\n",
       "      <th>0</th>\n",
       "      <td>DIAGNOSIS</td>\n",
       "      <td>1</td>\n",
       "    </tr>\n",
       "    <tr>\n",
       "      <th>29028</th>\n",
       "      <td>ENSG00000204177.10</td>\n",
       "      <td>1</td>\n",
       "    </tr>\n",
       "  </tbody>\n",
       "</table>\n",
       "</div>"
      ],
      "text/plain": [
       "                      CpG  Ranking\n",
       "0               DIAGNOSIS        1\n",
       "29028  ENSG00000204177.10        1"
      ]
     },
     "execution_count": 23,
     "metadata": {},
     "output_type": "execute_result"
    }
   ],
   "source": [
    "Top500 = selected_rf_features.iloc[:250, :]\n",
    "Top500.to_csv ('DEGs_Boruta_Top500_Female.csv', index = False)\n",
    "Top500.head(2)"
   ]
  },
  {
   "cell_type": "code",
   "execution_count": 24,
   "id": "ffc88aaf",
   "metadata": {
    "ExecuteTime": {
     "end_time": "2023-11-15T11:04:30.747175Z",
     "start_time": "2023-11-15T11:04:30.669179Z"
    }
   },
   "outputs": [
    {
     "name": "stderr",
     "output_type": "stream",
     "text": [
      "C:\\Users\\system 4\\AppData\\Local\\Temp\\ipykernel_9152\\2524728834.py:6: SettingWithCopyWarning: \n",
      "A value is trying to be set on a copy of a slice from a DataFrame.\n",
      "Try using .loc[row_indexer,col_indexer] = value instead\n",
      "\n",
      "See the caveats in the documentation: https://pandas.pydata.org/pandas-docs/stable/user_guide/indexing.html#returning-a-view-versus-a-copy\n",
      "  df_subset['DIAGNOSIS'] = data['DIAGNOSIS']\n"
     ]
    },
    {
     "data": {
      "text/html": [
       "<div>\n",
       "<style scoped>\n",
       "    .dataframe tbody tr th:only-of-type {\n",
       "        vertical-align: middle;\n",
       "    }\n",
       "\n",
       "    .dataframe tbody tr th {\n",
       "        vertical-align: top;\n",
       "    }\n",
       "\n",
       "    .dataframe thead th {\n",
       "        text-align: right;\n",
       "    }\n",
       "</style>\n",
       "<table border=\"1\" class=\"dataframe\">\n",
       "  <thead>\n",
       "    <tr style=\"text-align: right;\">\n",
       "      <th></th>\n",
       "      <th>DIAGNOSIS</th>\n",
       "      <th>ENSG00000271806.1</th>\n",
       "      <th>ENSG00000117115.12</th>\n",
       "      <th>ENSG00000162543.5</th>\n",
       "      <th>ENSG00000076864.19</th>\n",
       "      <th>ENSG00000057757.9</th>\n",
       "      <th>ENSG00000188822.7</th>\n",
       "      <th>ENSG00000116983.12</th>\n",
       "      <th>ENSG00000117461.14</th>\n",
       "      <th>ENSG00000162437.14</th>\n",
       "      <th>...</th>\n",
       "      <th>ENSG00000100079.6</th>\n",
       "      <th>ENSG00000073150.13</th>\n",
       "      <th>ENSG00000047597.6</th>\n",
       "      <th>ENSG00000238222.3</th>\n",
       "      <th>ENSG00000231725.1</th>\n",
       "      <th>ENSG00000234493.4</th>\n",
       "      <th>ENSG00000076770.14</th>\n",
       "      <th>ENSG00000233093.5</th>\n",
       "      <th>ENSG00000210082.2</th>\n",
       "      <th>ENSG00000278384.1</th>\n",
       "    </tr>\n",
       "  </thead>\n",
       "  <tbody>\n",
       "    <tr>\n",
       "      <th>0</th>\n",
       "      <td>0</td>\n",
       "      <td>37</td>\n",
       "      <td>1745</td>\n",
       "      <td>208</td>\n",
       "      <td>27</td>\n",
       "      <td>7505</td>\n",
       "      <td>500</td>\n",
       "      <td>351</td>\n",
       "      <td>114</td>\n",
       "      <td>217</td>\n",
       "      <td>...</td>\n",
       "      <td>969</td>\n",
       "      <td>84</td>\n",
       "      <td>3354</td>\n",
       "      <td>5</td>\n",
       "      <td>18</td>\n",
       "      <td>27</td>\n",
       "      <td>35787</td>\n",
       "      <td>79</td>\n",
       "      <td>181</td>\n",
       "      <td>124</td>\n",
       "    </tr>\n",
       "    <tr>\n",
       "      <th>1</th>\n",
       "      <td>0</td>\n",
       "      <td>26</td>\n",
       "      <td>2239</td>\n",
       "      <td>369</td>\n",
       "      <td>46</td>\n",
       "      <td>10504</td>\n",
       "      <td>354</td>\n",
       "      <td>178</td>\n",
       "      <td>80</td>\n",
       "      <td>214</td>\n",
       "      <td>...</td>\n",
       "      <td>423</td>\n",
       "      <td>75</td>\n",
       "      <td>6188</td>\n",
       "      <td>9</td>\n",
       "      <td>3</td>\n",
       "      <td>39</td>\n",
       "      <td>34380</td>\n",
       "      <td>71</td>\n",
       "      <td>653</td>\n",
       "      <td>16</td>\n",
       "    </tr>\n",
       "  </tbody>\n",
       "</table>\n",
       "<p>2 rows × 250 columns</p>\n",
       "</div>"
      ],
      "text/plain": [
       "   DIAGNOSIS  ENSG00000271806.1  ENSG00000117115.12  ENSG00000162543.5  \\\n",
       "0          0                 37                1745                208   \n",
       "1          0                 26                2239                369   \n",
       "\n",
       "   ENSG00000076864.19  ENSG00000057757.9  ENSG00000188822.7  \\\n",
       "0                  27               7505                500   \n",
       "1                  46              10504                354   \n",
       "\n",
       "   ENSG00000116983.12  ENSG00000117461.14  ENSG00000162437.14  ...  \\\n",
       "0                 351                 114                 217  ...   \n",
       "1                 178                  80                 214  ...   \n",
       "\n",
       "   ENSG00000100079.6  ENSG00000073150.13  ENSG00000047597.6  \\\n",
       "0                969                  84               3354   \n",
       "1                423                  75               6188   \n",
       "\n",
       "   ENSG00000238222.3  ENSG00000231725.1  ENSG00000234493.4  \\\n",
       "0                  5                 18                 27   \n",
       "1                  9                  3                 39   \n",
       "\n",
       "   ENSG00000076770.14  ENSG00000233093.5  ENSG00000210082.2  ENSG00000278384.1  \n",
       "0               35787                 79                181                124  \n",
       "1               34380                 71                653                 16  \n",
       "\n",
       "[2 rows x 250 columns]"
      ]
     },
     "execution_count": 24,
     "metadata": {},
     "output_type": "execute_result"
    }
   ],
   "source": [
    "# create a list of column names to subset from data\n",
    "col_names = Top500.iloc[:, 0].tolist()\n",
    "\n",
    "# subset df based on the column names\n",
    "df_subset = data.loc[:, data.columns.isin(col_names)]\n",
    "df_subset['DIAGNOSIS'] = data['DIAGNOSIS']\n",
    "df_subset.to_csv ('DEGs_Boruta_Top500_Data_Female.csv', index = False)\n",
    "df_subset.head(2)"
   ]
  },
  {
   "cell_type": "markdown",
   "id": "fe471583",
   "metadata": {},
   "source": []
  }
 ],
 "metadata": {
  "kernelspec": {
   "display_name": "Python 3 (ipykernel)",
   "language": "python",
   "name": "python3"
  },
  "language_info": {
   "codemirror_mode": {
    "name": "ipython",
    "version": 3
   },
   "file_extension": ".py",
   "mimetype": "text/x-python",
   "name": "python",
   "nbconvert_exporter": "python",
   "pygments_lexer": "ipython3",
   "version": "3.9.16"
  },
  "toc": {
   "base_numbering": 1,
   "nav_menu": {},
   "number_sections": true,
   "sideBar": true,
   "skip_h1_title": false,
   "title_cell": "Table of Contents",
   "title_sidebar": "Contents",
   "toc_cell": false,
   "toc_position": {},
   "toc_section_display": true,
   "toc_window_display": false
  },
  "varInspector": {
   "cols": {
    "lenName": 16,
    "lenType": 16,
    "lenVar": 40
   },
   "kernels_config": {
    "python": {
     "delete_cmd_postfix": "",
     "delete_cmd_prefix": "del ",
     "library": "var_list.py",
     "varRefreshCmd": "print(var_dic_list())"
    },
    "r": {
     "delete_cmd_postfix": ") ",
     "delete_cmd_prefix": "rm(",
     "library": "var_list.r",
     "varRefreshCmd": "cat(var_dic_list()) "
    }
   },
   "types_to_exclude": [
    "module",
    "function",
    "builtin_function_or_method",
    "instance",
    "_Feature"
   ],
   "window_display": false
  }
 },
 "nbformat": 4,
 "nbformat_minor": 5
}
