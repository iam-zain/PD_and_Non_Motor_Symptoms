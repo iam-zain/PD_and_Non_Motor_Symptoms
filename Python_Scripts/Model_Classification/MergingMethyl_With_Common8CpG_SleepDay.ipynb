{
 "cells": [
  {
   "cell_type": "code",
   "execution_count": 1,
   "id": "227733c0",
   "metadata": {
    "ExecuteTime": {
     "end_time": "2022-12-13T12:56:50.917465Z",
     "start_time": "2022-12-13T12:56:50.362655Z"
    },
    "run_control": {
     "marked": false
    },
    "scrolled": true
   },
   "outputs": [],
   "source": [
    "import pandas as pd\n",
    "import numpy as np\n"
   ]
  },
  {
   "cell_type": "code",
   "execution_count": 2,
   "id": "0ebb8ca7",
   "metadata": {
    "ExecuteTime": {
     "end_time": "2022-12-13T12:56:55.636816Z",
     "start_time": "2022-12-13T12:56:50.917465Z"
    },
    "scrolled": false
   },
   "outputs": [
    {
     "name": "stdout",
     "output_type": "stream",
     "text": [
      "Z:\\PPMI_Data\\Excel_Data\\NonMotors\\Feature_CpG_Gene_Association\\SleepDay_Processed_Files\n",
      "(458, 10421)\n"
     ]
    },
    {
     "data": {
      "text/html": [
       "<div>\n",
       "<style scoped>\n",
       "    .dataframe tbody tr th:only-of-type {\n",
       "        vertical-align: middle;\n",
       "    }\n",
       "\n",
       "    .dataframe tbody tr th {\n",
       "        vertical-align: top;\n",
       "    }\n",
       "\n",
       "    .dataframe thead th {\n",
       "        text-align: right;\n",
       "    }\n",
       "</style>\n",
       "<table border=\"1\" class=\"dataframe\">\n",
       "  <thead>\n",
       "    <tr style=\"text-align: right;\">\n",
       "      <th></th>\n",
       "      <th>Sentrix</th>\n",
       "      <th>PATNO</th>\n",
       "      <th>HYS</th>\n",
       "      <th>Gender</th>\n",
       "      <th>APPRDX</th>\n",
       "      <th>MDSP_SleepDay</th>\n",
       "      <th>cg03441945</th>\n",
       "      <th>cg21094410</th>\n",
       "      <th>cg22926093</th>\n",
       "      <th>cg25025609</th>\n",
       "      <th>...</th>\n",
       "      <th>cg00877887</th>\n",
       "      <th>cg10042437</th>\n",
       "      <th>cg11708297</th>\n",
       "      <th>cg11562513</th>\n",
       "      <th>cg02337566</th>\n",
       "      <th>cg02550961</th>\n",
       "      <th>cg04001842</th>\n",
       "      <th>cg02454595</th>\n",
       "      <th>cg07821960</th>\n",
       "      <th>cg21267231</th>\n",
       "    </tr>\n",
       "  </thead>\n",
       "  <tbody>\n",
       "    <tr>\n",
       "      <th>0</th>\n",
       "      <td>200991620021_R01C01</td>\n",
       "      <td>3001</td>\n",
       "      <td>2</td>\n",
       "      <td>1</td>\n",
       "      <td>1</td>\n",
       "      <td>1</td>\n",
       "      <td>0.9088</td>\n",
       "      <td>0.0113</td>\n",
       "      <td>0.0122</td>\n",
       "      <td>0.0224</td>\n",
       "      <td>...</td>\n",
       "      <td>0.0575</td>\n",
       "      <td>0.1726</td>\n",
       "      <td>0.0370</td>\n",
       "      <td>0.0326</td>\n",
       "      <td>0.1755</td>\n",
       "      <td>0.0362</td>\n",
       "      <td>0.1151</td>\n",
       "      <td>0.0585</td>\n",
       "      <td>0.1288</td>\n",
       "      <td>0.1975</td>\n",
       "    </tr>\n",
       "    <tr>\n",
       "      <th>1</th>\n",
       "      <td>200973410167_R04C01</td>\n",
       "      <td>3007</td>\n",
       "      <td>2</td>\n",
       "      <td>1</td>\n",
       "      <td>1</td>\n",
       "      <td>1</td>\n",
       "      <td>0.8670</td>\n",
       "      <td>0.0223</td>\n",
       "      <td>0.0175</td>\n",
       "      <td>0.0286</td>\n",
       "      <td>...</td>\n",
       "      <td>0.0614</td>\n",
       "      <td>0.0999</td>\n",
       "      <td>0.0218</td>\n",
       "      <td>0.0247</td>\n",
       "      <td>0.1318</td>\n",
       "      <td>0.0459</td>\n",
       "      <td>0.0501</td>\n",
       "      <td>0.0423</td>\n",
       "      <td>0.0527</td>\n",
       "      <td>0.1348</td>\n",
       "    </tr>\n",
       "  </tbody>\n",
       "</table>\n",
       "<p>2 rows × 10421 columns</p>\n",
       "</div>"
      ],
      "text/plain": [
       "               Sentrix  PATNO  HYS  Gender  APPRDX  MDSP_SleepDay  cg03441945  \\\n",
       "0  200991620021_R01C01   3001    2       1       1              1      0.9088   \n",
       "1  200973410167_R04C01   3007    2       1       1              1      0.8670   \n",
       "\n",
       "   cg21094410  cg22926093  cg25025609  ...  cg00877887  cg10042437  \\\n",
       "0      0.0113      0.0122      0.0224  ...      0.0575      0.1726   \n",
       "1      0.0223      0.0175      0.0286  ...      0.0614      0.0999   \n",
       "\n",
       "   cg11708297  cg11562513  cg02337566  cg02550961  cg04001842  cg02454595  \\\n",
       "0      0.0370      0.0326      0.1755      0.0362      0.1151      0.0585   \n",
       "1      0.0218      0.0247      0.1318      0.0459      0.0501      0.0423   \n",
       "\n",
       "   cg07821960  cg21267231  \n",
       "0      0.1288      0.1975  \n",
       "1      0.0527      0.1348  \n",
       "\n",
       "[2 rows x 10421 columns]"
      ]
     },
     "execution_count": 2,
     "metadata": {},
     "output_type": "execute_result"
    }
   ],
   "source": [
    "%cd Z:\\PPMI_Data\\Excel_Data\\NonMotors\\Feature_CpG_Gene_Association\\SleepDay_Processed_Files\n",
    "df = pd.read_csv (\"SleepDayCateg_Methylome_APPRDXFilter.csv\")\n",
    "df = df.round(decimals = 4)\n",
    "print (df.shape)\n",
    "df.head(2)\n"
   ]
  },
  {
   "cell_type": "code",
   "execution_count": 3,
   "id": "a60836ec",
   "metadata": {
    "ExecuteTime": {
     "end_time": "2022-12-13T12:56:55.652482Z",
     "start_time": "2022-12-13T12:56:55.636816Z"
    }
   },
   "outputs": [],
   "source": [
    "GeneList = ['Sentrix','PATNO','Gender','MDSP_SleepDay','HYS','APPRDX',\n",
    "            'cg26694605','cg26250461','cg13826564','cg21426547','cg12121075','cg11852879','cg08096908','ch.8.1293020R']"
   ]
  },
  {
   "cell_type": "code",
   "execution_count": 4,
   "id": "448b7927",
   "metadata": {
    "ExecuteTime": {
     "end_time": "2022-12-13T12:56:55.730576Z",
     "start_time": "2022-12-13T12:56:55.652482Z"
    }
   },
   "outputs": [
    {
     "data": {
      "text/html": [
       "<div>\n",
       "<style scoped>\n",
       "    .dataframe tbody tr th:only-of-type {\n",
       "        vertical-align: middle;\n",
       "    }\n",
       "\n",
       "    .dataframe tbody tr th {\n",
       "        vertical-align: top;\n",
       "    }\n",
       "\n",
       "    .dataframe thead th {\n",
       "        text-align: right;\n",
       "    }\n",
       "</style>\n",
       "<table border=\"1\" class=\"dataframe\">\n",
       "  <thead>\n",
       "    <tr style=\"text-align: right;\">\n",
       "      <th></th>\n",
       "      <th>Sentrix</th>\n",
       "      <th>PATNO</th>\n",
       "      <th>HYS</th>\n",
       "      <th>Gender</th>\n",
       "      <th>APPRDX</th>\n",
       "      <th>MDSP_SleepDay</th>\n",
       "      <th>cg26694605</th>\n",
       "      <th>cg26250461</th>\n",
       "      <th>cg13826564</th>\n",
       "      <th>cg21426547</th>\n",
       "      <th>cg12121075</th>\n",
       "      <th>cg11852879</th>\n",
       "      <th>cg08096908</th>\n",
       "      <th>ch.8.1293020R</th>\n",
       "    </tr>\n",
       "  </thead>\n",
       "  <tbody>\n",
       "    <tr>\n",
       "      <th>0</th>\n",
       "      <td>200991620021_R01C01</td>\n",
       "      <td>3001</td>\n",
       "      <td>2</td>\n",
       "      <td>1</td>\n",
       "      <td>1</td>\n",
       "      <td>1</td>\n",
       "      <td>0.8261</td>\n",
       "      <td>0.8657</td>\n",
       "      <td>0.9624</td>\n",
       "      <td>0.7326</td>\n",
       "      <td>0.7904</td>\n",
       "      <td>0.8955</td>\n",
       "      <td>0.9055</td>\n",
       "      <td>0.2883</td>\n",
       "    </tr>\n",
       "    <tr>\n",
       "      <th>1</th>\n",
       "      <td>200973410167_R04C01</td>\n",
       "      <td>3007</td>\n",
       "      <td>2</td>\n",
       "      <td>1</td>\n",
       "      <td>1</td>\n",
       "      <td>1</td>\n",
       "      <td>0.7596</td>\n",
       "      <td>0.8569</td>\n",
       "      <td>0.9518</td>\n",
       "      <td>0.8027</td>\n",
       "      <td>0.8727</td>\n",
       "      <td>0.9247</td>\n",
       "      <td>0.9190</td>\n",
       "      <td>0.1969</td>\n",
       "    </tr>\n",
       "  </tbody>\n",
       "</table>\n",
       "</div>"
      ],
      "text/plain": [
       "               Sentrix  PATNO  HYS  Gender  APPRDX  MDSP_SleepDay  cg26694605  \\\n",
       "0  200991620021_R01C01   3001    2       1       1              1      0.8261   \n",
       "1  200973410167_R04C01   3007    2       1       1              1      0.7596   \n",
       "\n",
       "   cg26250461  cg13826564  cg21426547  cg12121075  cg11852879  cg08096908  \\\n",
       "0      0.8657      0.9624      0.7326      0.7904      0.8955      0.9055   \n",
       "1      0.8569      0.9518      0.8027      0.8727      0.9247      0.9190   \n",
       "\n",
       "   ch.8.1293020R  \n",
       "0         0.2883  \n",
       "1         0.1969  "
      ]
     },
     "execution_count": 4,
     "metadata": {},
     "output_type": "execute_result"
    }
   ],
   "source": [
    "df1 = df[[c for c in df.columns if c in GeneList]]\n",
    "df1.head(2)"
   ]
  },
  {
   "cell_type": "code",
   "execution_count": 5,
   "id": "6c9005fe",
   "metadata": {
    "ExecuteTime": {
     "end_time": "2022-12-13T12:56:55.799594Z",
     "start_time": "2022-12-13T12:56:55.730576Z"
    }
   },
   "outputs": [
    {
     "data": {
      "text/plain": [
       "(457, 14)"
      ]
     },
     "execution_count": 5,
     "metadata": {},
     "output_type": "execute_result"
    }
   ],
   "source": [
    "df1 = df1[df1.PATNO != 4079]\n",
    "df1.shape"
   ]
  },
  {
   "cell_type": "code",
   "execution_count": 7,
   "id": "daea5549",
   "metadata": {
    "ExecuteTime": {
     "end_time": "2022-12-13T12:57:04.949768Z",
     "start_time": "2022-12-13T12:57:04.934174Z"
    }
   },
   "outputs": [],
   "source": [
    "df1.to_csv (\"SleepDayCateg_Methylome_APPRDX_Common.csv\", index = False)"
   ]
  },
  {
   "cell_type": "code",
   "execution_count": null,
   "id": "b765c3ed",
   "metadata": {},
   "outputs": [],
   "source": []
  }
 ],
 "metadata": {
  "kernelspec": {
   "display_name": "Python 3 (ipykernel)",
   "language": "python",
   "name": "python3"
  },
  "language_info": {
   "codemirror_mode": {
    "name": "ipython",
    "version": 3
   },
   "file_extension": ".py",
   "mimetype": "text/x-python",
   "name": "python",
   "nbconvert_exporter": "python",
   "pygments_lexer": "ipython3",
   "version": "3.9.7"
  },
  "toc": {
   "base_numbering": 1,
   "nav_menu": {},
   "number_sections": true,
   "sideBar": true,
   "skip_h1_title": false,
   "title_cell": "Table of Contents",
   "title_sidebar": "Contents",
   "toc_cell": false,
   "toc_position": {},
   "toc_section_display": true,
   "toc_window_display": false
  },
  "varInspector": {
   "cols": {
    "lenName": 16,
    "lenType": 16,
    "lenVar": 40
   },
   "kernels_config": {
    "python": {
     "delete_cmd_postfix": "",
     "delete_cmd_prefix": "del ",
     "library": "var_list.py",
     "varRefreshCmd": "print(var_dic_list())"
    },
    "r": {
     "delete_cmd_postfix": ") ",
     "delete_cmd_prefix": "rm(",
     "library": "var_list.r",
     "varRefreshCmd": "cat(var_dic_list()) "
    }
   },
   "types_to_exclude": [
    "module",
    "function",
    "builtin_function_or_method",
    "instance",
    "_Feature"
   ],
   "window_display": false
  }
 },
 "nbformat": 4,
 "nbformat_minor": 5
}
