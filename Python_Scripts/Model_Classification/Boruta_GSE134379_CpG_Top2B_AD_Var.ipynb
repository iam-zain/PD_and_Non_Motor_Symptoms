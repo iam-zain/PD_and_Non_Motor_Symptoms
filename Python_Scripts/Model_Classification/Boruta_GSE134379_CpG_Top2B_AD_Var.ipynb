{
 "cells": [
  {
   "cell_type": "code",
   "execution_count": 1,
   "id": "51c5704f",
   "metadata": {
    "ExecuteTime": {
     "end_time": "2023-02-06T04:59:51.673259Z",
     "start_time": "2023-02-06T04:59:50.238270Z"
    }
   },
   "outputs": [],
   "source": [
    "import numpy as np\n",
    "import pandas as pd\n",
    "from boruta import BorutaPy\n",
    "from sklearn.datasets import load_diabetes\n",
    "from sklearn.metrics import accuracy_score \n",
    "from sklearn.ensemble import RandomForestRegressor\n",
    "from sklearn.model_selection import train_test_split"
   ]
  },
  {
   "cell_type": "code",
   "execution_count": 2,
   "id": "5ff336b1",
   "metadata": {
    "ExecuteTime": {
     "end_time": "2023-02-06T04:59:51.726654Z",
     "start_time": "2023-02-06T04:59:51.673259Z"
    }
   },
   "outputs": [
    {
     "name": "stdout",
     "output_type": "stream",
     "text": [
      "Z:\\Project_Top2B\\GSE134379\n"
     ]
    },
    {
     "data": {
      "text/html": [
       "<div>\n",
       "<style scoped>\n",
       "    .dataframe tbody tr th:only-of-type {\n",
       "        vertical-align: middle;\n",
       "    }\n",
       "\n",
       "    .dataframe tbody tr th {\n",
       "        vertical-align: top;\n",
       "    }\n",
       "\n",
       "    .dataframe thead th {\n",
       "        text-align: right;\n",
       "    }\n",
       "</style>\n",
       "<table border=\"1\" class=\"dataframe\">\n",
       "  <thead>\n",
       "    <tr style=\"text-align: right;\">\n",
       "      <th></th>\n",
       "      <th>Age</th>\n",
       "      <th>cg00187933</th>\n",
       "      <th>cg00437258</th>\n",
       "      <th>cg00474373</th>\n",
       "      <th>cg00599530</th>\n",
       "      <th>cg00711584</th>\n",
       "      <th>cg00785941</th>\n",
       "      <th>cg00918181</th>\n",
       "      <th>cg01028379</th>\n",
       "      <th>cg01042465</th>\n",
       "      <th>...</th>\n",
       "      <th>cg26831409</th>\n",
       "      <th>cg26857315</th>\n",
       "      <th>cg26879339</th>\n",
       "      <th>cg26914630</th>\n",
       "      <th>cg27007439</th>\n",
       "      <th>cg27032427</th>\n",
       "      <th>cg27081103</th>\n",
       "      <th>cg27234864</th>\n",
       "      <th>cg27499820</th>\n",
       "      <th>cg27629898</th>\n",
       "    </tr>\n",
       "  </thead>\n",
       "  <tbody>\n",
       "    <tr>\n",
       "      <th>0</th>\n",
       "      <td>79</td>\n",
       "      <td>0.060898</td>\n",
       "      <td>0.779266</td>\n",
       "      <td>0.924409</td>\n",
       "      <td>0.723309</td>\n",
       "      <td>0.727975</td>\n",
       "      <td>0.282324</td>\n",
       "      <td>0.407962</td>\n",
       "      <td>0.660018</td>\n",
       "      <td>0.72665</td>\n",
       "      <td>...</td>\n",
       "      <td>0.465593</td>\n",
       "      <td>0.593782</td>\n",
       "      <td>0.677275</td>\n",
       "      <td>0.656691</td>\n",
       "      <td>0.673549</td>\n",
       "      <td>0.520584</td>\n",
       "      <td>0.341922</td>\n",
       "      <td>0.528667</td>\n",
       "      <td>0.448703</td>\n",
       "      <td>0.836963</td>\n",
       "    </tr>\n",
       "  </tbody>\n",
       "</table>\n",
       "<p>1 rows × 175 columns</p>\n",
       "</div>"
      ],
      "text/plain": [
       "   Age  cg00187933  cg00437258  cg00474373  cg00599530  cg00711584  \\\n",
       "0   79    0.060898    0.779266    0.924409    0.723309    0.727975   \n",
       "\n",
       "   cg00785941  cg00918181  cg01028379  cg01042465  ...  cg26831409  \\\n",
       "0    0.282324    0.407962    0.660018     0.72665  ...    0.465593   \n",
       "\n",
       "   cg26857315  cg26879339  cg26914630  cg27007439  cg27032427  cg27081103  \\\n",
       "0    0.593782    0.677275    0.656691    0.673549    0.520584    0.341922   \n",
       "\n",
       "   cg27234864  cg27499820  cg27629898  \n",
       "0    0.528667    0.448703    0.836963  \n",
       "\n",
       "[1 rows x 175 columns]"
      ]
     },
     "execution_count": 2,
     "metadata": {},
     "output_type": "execute_result"
    }
   ],
   "source": [
    "%cd Z:\\Project_Top2B\\GSE134379\n",
    "data = pd.read_csv('TopVar_PostNatal_CpGListData_Age.csv')\n",
    "data.head(1)"
   ]
  },
  {
   "cell_type": "code",
   "execution_count": 3,
   "id": "ee22df7a",
   "metadata": {
    "ExecuteTime": {
     "end_time": "2023-02-06T04:59:51.757907Z",
     "start_time": "2023-02-06T04:59:51.726654Z"
    }
   },
   "outputs": [],
   "source": [
    "X = data.drop(['Age'], axis = 1)\n",
    "y = data['Age']\n",
    "X_train, X_test, y_train, y_test = train_test_split(X, y, test_size = .2, random_state = 1) "
   ]
  },
  {
   "cell_type": "code",
   "execution_count": 4,
   "id": "c1ee3e48",
   "metadata": {
    "ExecuteTime": {
     "end_time": "2023-02-06T04:59:52.815340Z",
     "start_time": "2023-02-06T04:59:51.757907Z"
    }
   },
   "outputs": [
    {
     "data": {
      "text/plain": [
       "RandomForestRegressor(random_state=1)"
      ]
     },
     "execution_count": 4,
     "metadata": {},
     "output_type": "execute_result"
    }
   ],
   "source": [
    "rf_all_features = RandomForestRegressor(random_state=1)\n",
    "rf_all_features.fit(X_train, y_train)"
   ]
  },
  {
   "cell_type": "markdown",
   "id": "0e3a9463",
   "metadata": {
    "ExecuteTime": {
     "end_time": "2023-02-06T04:25:14.735313Z",
     "start_time": "2023-02-06T04:25:13.854630Z"
    }
   },
   "source": [
    "accuracy_score(y_test, rf_all_features.predict(X_test))"
   ]
  },
  {
   "cell_type": "code",
   "execution_count": 5,
   "id": "5ba608ac",
   "metadata": {
    "ExecuteTime": {
     "end_time": "2023-02-06T05:00:20.220968Z",
     "start_time": "2023-02-06T04:59:52.815340Z"
    }
   },
   "outputs": [
    {
     "name": "stdout",
     "output_type": "stream",
     "text": [
      "Iteration: 1 / 100\n",
      "Iteration: 2 / 100\n",
      "Iteration: 3 / 100\n",
      "Iteration: 4 / 100\n",
      "Iteration: 5 / 100\n",
      "Iteration: 6 / 100\n",
      "Iteration: 7 / 100\n",
      "Iteration: 8 / 100\n",
      "Iteration: 9 / 100\n",
      "Iteration: 10 / 100\n",
      "Iteration: 11 / 100\n",
      "Iteration: 12 / 100\n",
      "Iteration: 13 / 100\n",
      "Iteration: 14 / 100\n",
      "Iteration: 15 / 100\n",
      "Iteration: 16 / 100\n",
      "Iteration: 17 / 100\n",
      "Iteration: 18 / 100\n",
      "Iteration: 19 / 100\n",
      "Iteration: 20 / 100\n",
      "Iteration: 21 / 100\n",
      "Iteration: 22 / 100\n",
      "Iteration: 23 / 100\n",
      "Iteration: 24 / 100\n",
      "Iteration: 25 / 100\n",
      "Iteration: 26 / 100\n",
      "Iteration: 27 / 100\n",
      "Iteration: 28 / 100\n",
      "Iteration: 29 / 100\n",
      "Iteration: 30 / 100\n",
      "Iteration: 31 / 100\n",
      "Iteration: 32 / 100\n",
      "Iteration: 33 / 100\n",
      "Iteration: 34 / 100\n",
      "Iteration: 35 / 100\n",
      "Iteration: 36 / 100\n",
      "Iteration: 37 / 100\n",
      "Iteration: 38 / 100\n",
      "Iteration: 39 / 100\n",
      "Iteration: 40 / 100\n",
      "Iteration: 41 / 100\n",
      "Iteration: 42 / 100\n",
      "Iteration: 43 / 100\n",
      "Iteration: 44 / 100\n",
      "Iteration: 45 / 100\n",
      "Iteration: 46 / 100\n",
      "Iteration: 47 / 100\n",
      "Iteration: 48 / 100\n",
      "Iteration: 49 / 100\n",
      "Iteration: 50 / 100\n",
      "Iteration: 51 / 100\n",
      "Iteration: 52 / 100\n",
      "Iteration: 53 / 100\n",
      "Iteration: 54 / 100\n",
      "Iteration: 55 / 100\n",
      "Iteration: 56 / 100\n",
      "Iteration: 57 / 100\n",
      "Iteration: 58 / 100\n",
      "Iteration: 59 / 100\n",
      "Iteration: 60 / 100\n",
      "Iteration: 61 / 100\n",
      "Iteration: 62 / 100\n",
      "\n",
      "\n",
      "BorutaPy finished running.\n",
      "\n",
      "Iteration: \t63 / 100\n",
      "Confirmed: \t1\n",
      "Tentative: \t0\n",
      "Rejected: \t173\n"
     ]
    },
    {
     "data": {
      "text/plain": [
       "BorutaPy(estimator=RandomForestRegressor(n_estimators=14,\n",
       "                                         random_state=RandomState(MT19937) at 0x212F8E0DD40),\n",
       "         n_estimators='auto',\n",
       "         random_state=RandomState(MT19937) at 0x212F8E0DD40, verbose=1)"
      ]
     },
     "execution_count": 5,
     "metadata": {},
     "output_type": "execute_result"
    }
   ],
   "source": [
    "rfc = RandomForestRegressor(random_state=1)\n",
    "boruta_selector = BorutaPy(rfc, n_estimators= 'auto', verbose=1, random_state=1)\n",
    "boruta_selector.fit(np.array(X_train), np.array(y_train))  "
   ]
  },
  {
   "cell_type": "code",
   "execution_count": 6,
   "id": "51f874e0",
   "metadata": {
    "ExecuteTime": {
     "end_time": "2023-02-06T05:00:20.241112Z",
     "start_time": "2023-02-06T05:00:20.222994Z"
    }
   },
   "outputs": [
    {
     "name": "stdout",
     "output_type": "stream",
     "text": [
      "No. of significant features:  1\n"
     ]
    }
   ],
   "source": [
    "# print(\"Ranking: \",boruta_selector.ranking_)          \n",
    "print(\"No. of significant features: \", boruta_selector.n_features_)"
   ]
  },
  {
   "cell_type": "code",
   "execution_count": 7,
   "id": "61cadc89",
   "metadata": {
    "ExecuteTime": {
     "end_time": "2023-02-06T05:00:20.301398Z",
     "start_time": "2023-02-06T05:00:20.243141Z"
    }
   },
   "outputs": [],
   "source": [
    "selected_rf_features = pd.DataFrame({'CpG':list(X_train.columns),\n",
    "                                       'Ranking':boruta_selector.ranking_})\n",
    "selected_rf_features = selected_rf_features.sort_values(by='Ranking')"
   ]
  },
  {
   "cell_type": "code",
   "execution_count": 8,
   "id": "9605e163",
   "metadata": {
    "ExecuteTime": {
     "end_time": "2023-02-06T05:00:20.381904Z",
     "start_time": "2023-02-06T05:00:20.303435Z"
    }
   },
   "outputs": [],
   "source": [
    "selected_rf_features.to_csv ('CpG_BorutaPy_onVar.csv', index = False)"
   ]
  },
  {
   "cell_type": "code",
   "execution_count": null,
   "id": "4c9861fc",
   "metadata": {},
   "outputs": [],
   "source": []
  }
 ],
 "metadata": {
  "kernelspec": {
   "display_name": "Python 3 (ipykernel)",
   "language": "python",
   "name": "python3"
  },
  "language_info": {
   "codemirror_mode": {
    "name": "ipython",
    "version": 3
   },
   "file_extension": ".py",
   "mimetype": "text/x-python",
   "name": "python",
   "nbconvert_exporter": "python",
   "pygments_lexer": "ipython3",
   "version": "3.9.16"
  },
  "toc": {
   "base_numbering": 1,
   "nav_menu": {},
   "number_sections": true,
   "sideBar": true,
   "skip_h1_title": false,
   "title_cell": "Table of Contents",
   "title_sidebar": "Contents",
   "toc_cell": false,
   "toc_position": {},
   "toc_section_display": true,
   "toc_window_display": false
  },
  "varInspector": {
   "cols": {
    "lenName": 16,
    "lenType": 16,
    "lenVar": 40
   },
   "kernels_config": {
    "python": {
     "delete_cmd_postfix": "",
     "delete_cmd_prefix": "del ",
     "library": "var_list.py",
     "varRefreshCmd": "print(var_dic_list())"
    },
    "r": {
     "delete_cmd_postfix": ") ",
     "delete_cmd_prefix": "rm(",
     "library": "var_list.r",
     "varRefreshCmd": "cat(var_dic_list()) "
    }
   },
   "types_to_exclude": [
    "module",
    "function",
    "builtin_function_or_method",
    "instance",
    "_Feature"
   ],
   "window_display": false
  }
 },
 "nbformat": 4,
 "nbformat_minor": 5
}
