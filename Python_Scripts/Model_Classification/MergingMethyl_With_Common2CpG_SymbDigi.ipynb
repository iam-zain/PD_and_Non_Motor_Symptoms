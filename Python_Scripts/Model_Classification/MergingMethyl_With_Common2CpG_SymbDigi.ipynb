{
 "cells": [
  {
   "cell_type": "code",
   "execution_count": 1,
   "id": "227733c0",
   "metadata": {
    "ExecuteTime": {
     "end_time": "2022-12-13T13:01:03.956640Z",
     "start_time": "2022-12-13T13:01:03.370588Z"
    },
    "run_control": {
     "marked": false
    },
    "scrolled": true
   },
   "outputs": [],
   "source": [
    "import pandas as pd\n",
    "import numpy as np"
   ]
  },
  {
   "cell_type": "code",
   "execution_count": 2,
   "id": "0ebb8ca7",
   "metadata": {
    "ExecuteTime": {
     "end_time": "2022-12-13T13:13:24.592036Z",
     "start_time": "2022-12-13T13:01:03.956640Z"
    },
    "scrolled": false
   },
   "outputs": [
    {
     "name": "stdout",
     "output_type": "stream",
     "text": [
      "Z:\\PPMI_Data\\Excel_Data\\NonMotors\\Feature_CpG_Gene_Association\\SymbolDigit_Processed_Files\n",
      "(458, 192588)\n"
     ]
    },
    {
     "data": {
      "text/html": [
       "<div>\n",
       "<style scoped>\n",
       "    .dataframe tbody tr th:only-of-type {\n",
       "        vertical-align: middle;\n",
       "    }\n",
       "\n",
       "    .dataframe tbody tr th {\n",
       "        vertical-align: top;\n",
       "    }\n",
       "\n",
       "    .dataframe thead th {\n",
       "        text-align: right;\n",
       "    }\n",
       "</style>\n",
       "<table border=\"1\" class=\"dataframe\">\n",
       "  <thead>\n",
       "    <tr style=\"text-align: right;\">\n",
       "      <th></th>\n",
       "      <th>Sentrix</th>\n",
       "      <th>PATNO</th>\n",
       "      <th>HYS</th>\n",
       "      <th>Gender</th>\n",
       "      <th>APPRDX</th>\n",
       "      <th>Symbol_Digit</th>\n",
       "      <th>cg20815302</th>\n",
       "      <th>cg25795414</th>\n",
       "      <th>cg00959375</th>\n",
       "      <th>cg07781847</th>\n",
       "      <th>...</th>\n",
       "      <th>cg03814399</th>\n",
       "      <th>cg14792798</th>\n",
       "      <th>cg16910097</th>\n",
       "      <th>cg08750857</th>\n",
       "      <th>cg17933893</th>\n",
       "      <th>cg06917935</th>\n",
       "      <th>cg02794319</th>\n",
       "      <th>cg10702286</th>\n",
       "      <th>cg10353174</th>\n",
       "      <th>cg19590050</th>\n",
       "    </tr>\n",
       "  </thead>\n",
       "  <tbody>\n",
       "    <tr>\n",
       "      <th>0</th>\n",
       "      <td>200991620021_R01C01</td>\n",
       "      <td>3001</td>\n",
       "      <td>2</td>\n",
       "      <td>1</td>\n",
       "      <td>1</td>\n",
       "      <td>1</td>\n",
       "      <td>0.9080</td>\n",
       "      <td>0.8689</td>\n",
       "      <td>0.7528</td>\n",
       "      <td>0.8274</td>\n",
       "      <td>...</td>\n",
       "      <td>0.8805</td>\n",
       "      <td>0.9285</td>\n",
       "      <td>0.9006</td>\n",
       "      <td>0.8778</td>\n",
       "      <td>0.8368</td>\n",
       "      <td>0.2163</td>\n",
       "      <td>0.2343</td>\n",
       "      <td>0.6816</td>\n",
       "      <td>0.1038</td>\n",
       "      <td>0.8379</td>\n",
       "    </tr>\n",
       "    <tr>\n",
       "      <th>1</th>\n",
       "      <td>200973410167_R04C01</td>\n",
       "      <td>3007</td>\n",
       "      <td>2</td>\n",
       "      <td>1</td>\n",
       "      <td>1</td>\n",
       "      <td>2</td>\n",
       "      <td>0.9186</td>\n",
       "      <td>0.8653</td>\n",
       "      <td>0.7982</td>\n",
       "      <td>0.8238</td>\n",
       "      <td>...</td>\n",
       "      <td>0.8773</td>\n",
       "      <td>0.9130</td>\n",
       "      <td>0.9356</td>\n",
       "      <td>0.9421</td>\n",
       "      <td>0.7506</td>\n",
       "      <td>0.2543</td>\n",
       "      <td>0.2903</td>\n",
       "      <td>0.7606</td>\n",
       "      <td>0.0755</td>\n",
       "      <td>0.8338</td>\n",
       "    </tr>\n",
       "  </tbody>\n",
       "</table>\n",
       "<p>2 rows × 192588 columns</p>\n",
       "</div>"
      ],
      "text/plain": [
       "               Sentrix  PATNO  HYS  Gender  APPRDX  Symbol_Digit  cg20815302  \\\n",
       "0  200991620021_R01C01   3001    2       1       1             1      0.9080   \n",
       "1  200973410167_R04C01   3007    2       1       1             2      0.9186   \n",
       "\n",
       "   cg25795414  cg00959375  cg07781847  ...  cg03814399  cg14792798  \\\n",
       "0      0.8689      0.7528      0.8274  ...      0.8805      0.9285   \n",
       "1      0.8653      0.7982      0.8238  ...      0.8773      0.9130   \n",
       "\n",
       "   cg16910097  cg08750857  cg17933893  cg06917935  cg02794319  cg10702286  \\\n",
       "0      0.9006      0.8778      0.8368      0.2163      0.2343      0.6816   \n",
       "1      0.9356      0.9421      0.7506      0.2543      0.2903      0.7606   \n",
       "\n",
       "   cg10353174  cg19590050  \n",
       "0      0.1038      0.8379  \n",
       "1      0.0755      0.8338  \n",
       "\n",
       "[2 rows x 192588 columns]"
      ]
     },
     "execution_count": 2,
     "metadata": {},
     "output_type": "execute_result"
    }
   ],
   "source": [
    "%cd Z:\\PPMI_Data\\Excel_Data\\NonMotors\\Feature_CpG_Gene_Association\\SymbolDigit_Processed_Files\n",
    "df = pd.read_csv (\"SymbDigiCateg_Methylome_APPRDXFilter.csv\")\n",
    "df = df.round(decimals = 4)\n",
    "print (df.shape)\n",
    "df.head(2)"
   ]
  },
  {
   "cell_type": "code",
   "execution_count": 7,
   "id": "a60836ec",
   "metadata": {
    "ExecuteTime": {
     "end_time": "2022-12-13T13:14:55.710107Z",
     "start_time": "2022-12-13T13:14:55.694538Z"
    }
   },
   "outputs": [],
   "source": [
    "GeneList = ['Sentrix','PATNO','Gender','Symbol_Digit','HYS','APPRDX',\n",
    "            'cg06257360','cg12044671']"
   ]
  },
  {
   "cell_type": "code",
   "execution_count": 8,
   "id": "448b7927",
   "metadata": {
    "ExecuteTime": {
     "end_time": "2022-12-13T13:15:00.691046Z",
     "start_time": "2022-12-13T13:15:00.622025Z"
    }
   },
   "outputs": [
    {
     "data": {
      "text/html": [
       "<div>\n",
       "<style scoped>\n",
       "    .dataframe tbody tr th:only-of-type {\n",
       "        vertical-align: middle;\n",
       "    }\n",
       "\n",
       "    .dataframe tbody tr th {\n",
       "        vertical-align: top;\n",
       "    }\n",
       "\n",
       "    .dataframe thead th {\n",
       "        text-align: right;\n",
       "    }\n",
       "</style>\n",
       "<table border=\"1\" class=\"dataframe\">\n",
       "  <thead>\n",
       "    <tr style=\"text-align: right;\">\n",
       "      <th></th>\n",
       "      <th>Sentrix</th>\n",
       "      <th>PATNO</th>\n",
       "      <th>HYS</th>\n",
       "      <th>Gender</th>\n",
       "      <th>APPRDX</th>\n",
       "      <th>Symbol_Digit</th>\n",
       "      <th>cg06257360</th>\n",
       "      <th>cg12044671</th>\n",
       "    </tr>\n",
       "  </thead>\n",
       "  <tbody>\n",
       "    <tr>\n",
       "      <th>0</th>\n",
       "      <td>200991620021_R01C01</td>\n",
       "      <td>3001</td>\n",
       "      <td>2</td>\n",
       "      <td>1</td>\n",
       "      <td>1</td>\n",
       "      <td>1</td>\n",
       "      <td>0.9000</td>\n",
       "      <td>0.8694</td>\n",
       "    </tr>\n",
       "    <tr>\n",
       "      <th>1</th>\n",
       "      <td>200973410167_R04C01</td>\n",
       "      <td>3007</td>\n",
       "      <td>2</td>\n",
       "      <td>1</td>\n",
       "      <td>1</td>\n",
       "      <td>2</td>\n",
       "      <td>0.9322</td>\n",
       "      <td>0.7550</td>\n",
       "    </tr>\n",
       "  </tbody>\n",
       "</table>\n",
       "</div>"
      ],
      "text/plain": [
       "               Sentrix  PATNO  HYS  Gender  APPRDX  Symbol_Digit  cg06257360  \\\n",
       "0  200991620021_R01C01   3001    2       1       1             1      0.9000   \n",
       "1  200973410167_R04C01   3007    2       1       1             2      0.9322   \n",
       "\n",
       "   cg12044671  \n",
       "0      0.8694  \n",
       "1      0.7550  "
      ]
     },
     "execution_count": 8,
     "metadata": {},
     "output_type": "execute_result"
    }
   ],
   "source": [
    "df1 = df[[c for c in df.columns if c in GeneList]]\n",
    "df1.head(2)"
   ]
  },
  {
   "cell_type": "code",
   "execution_count": 9,
   "id": "6c9005fe",
   "metadata": {
    "ExecuteTime": {
     "end_time": "2022-12-13T13:15:05.541579Z",
     "start_time": "2022-12-13T13:15:05.525920Z"
    }
   },
   "outputs": [
    {
     "data": {
      "text/plain": [
       "(457, 8)"
      ]
     },
     "execution_count": 9,
     "metadata": {},
     "output_type": "execute_result"
    }
   ],
   "source": [
    "df1 = df1[df1.PATNO != 4079]\n",
    "df1.shape"
   ]
  },
  {
   "cell_type": "code",
   "execution_count": 10,
   "id": "daea5549",
   "metadata": {
    "ExecuteTime": {
     "end_time": "2022-12-13T13:15:10.386421Z",
     "start_time": "2022-12-13T13:15:10.370805Z"
    }
   },
   "outputs": [],
   "source": [
    "df1.to_csv (\"SymbDigiCateg_Methylome_APPRDX_Common.csv\", index = False)"
   ]
  },
  {
   "cell_type": "code",
   "execution_count": null,
   "id": "b765c3ed",
   "metadata": {},
   "outputs": [],
   "source": []
  }
 ],
 "metadata": {
  "kernelspec": {
   "display_name": "Python 3 (ipykernel)",
   "language": "python",
   "name": "python3"
  },
  "language_info": {
   "codemirror_mode": {
    "name": "ipython",
    "version": 3
   },
   "file_extension": ".py",
   "mimetype": "text/x-python",
   "name": "python",
   "nbconvert_exporter": "python",
   "pygments_lexer": "ipython3",
   "version": "3.9.7"
  },
  "toc": {
   "base_numbering": 1,
   "nav_menu": {},
   "number_sections": true,
   "sideBar": true,
   "skip_h1_title": false,
   "title_cell": "Table of Contents",
   "title_sidebar": "Contents",
   "toc_cell": false,
   "toc_position": {},
   "toc_section_display": true,
   "toc_window_display": false
  },
  "varInspector": {
   "cols": {
    "lenName": 16,
    "lenType": 16,
    "lenVar": 40
   },
   "kernels_config": {
    "python": {
     "delete_cmd_postfix": "",
     "delete_cmd_prefix": "del ",
     "library": "var_list.py",
     "varRefreshCmd": "print(var_dic_list())"
    },
    "r": {
     "delete_cmd_postfix": ") ",
     "delete_cmd_prefix": "rm(",
     "library": "var_list.r",
     "varRefreshCmd": "cat(var_dic_list()) "
    }
   },
   "types_to_exclude": [
    "module",
    "function",
    "builtin_function_or_method",
    "instance",
    "_Feature"
   ],
   "window_display": false
  }
 },
 "nbformat": 4,
 "nbformat_minor": 5
}
