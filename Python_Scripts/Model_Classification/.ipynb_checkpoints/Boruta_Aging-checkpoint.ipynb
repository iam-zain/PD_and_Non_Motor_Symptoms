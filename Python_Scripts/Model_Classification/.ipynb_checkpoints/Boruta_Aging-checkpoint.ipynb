{
 "cells": [
  {
   "cell_type": "code",
   "execution_count": 1,
   "id": "51c5704f",
   "metadata": {
    "ExecuteTime": {
     "end_time": "2022-11-04T03:59:23.426751Z",
     "start_time": "2022-11-04T03:59:22.154199Z"
    }
   },
   "outputs": [],
   "source": [
    "import numpy as np\n",
    "import pandas as pd\n",
    "from boruta import BorutaPy\n",
    "from sklearn.datasets import load_diabetes\n",
    "from sklearn.metrics import accuracy_score \n",
    "from sklearn.ensemble import RandomForestRegressor\n",
    "from sklearn.ensemble import RandomForestClassifier\n",
    "from sklearn.model_selection import train_test_split"
   ]
  },
  {
   "cell_type": "code",
   "execution_count": 2,
   "id": "5ff336b1",
   "metadata": {
    "ExecuteTime": {
     "end_time": "2022-11-04T03:59:28.583012Z",
     "start_time": "2022-11-04T03:59:23.426751Z"
    }
   },
   "outputs": [
    {
     "name": "stdout",
     "output_type": "stream",
     "text": [
      "Z:\\PPMI_Data\\Excel_Data\\NonMotors\\Feature_CpG_Gene_Association\\Other_Related_Files\\Aging_Gene\n"
     ]
    },
    {
     "data": {
      "text/html": [
       "<div>\n",
       "<style scoped>\n",
       "    .dataframe tbody tr th:only-of-type {\n",
       "        vertical-align: middle;\n",
       "    }\n",
       "\n",
       "    .dataframe tbody tr th {\n",
       "        vertical-align: top;\n",
       "    }\n",
       "\n",
       "    .dataframe thead th {\n",
       "        text-align: right;\n",
       "    }\n",
       "</style>\n",
       "<table border=\"1\" class=\"dataframe\">\n",
       "  <thead>\n",
       "    <tr style=\"text-align: right;\">\n",
       "      <th></th>\n",
       "      <th>Sentrix</th>\n",
       "      <th>PATNO</th>\n",
       "      <th>Gender</th>\n",
       "      <th>APPRDX</th>\n",
       "      <th>HYS</th>\n",
       "      <th>Age</th>\n",
       "      <th>AgeCate</th>\n",
       "      <th>MDS_Depress</th>\n",
       "      <th>MDSP_Constipate</th>\n",
       "      <th>MDSP_Fatigue</th>\n",
       "      <th>...</th>\n",
       "      <th>cg11765888</th>\n",
       "      <th>cg16531342</th>\n",
       "      <th>cg12159336</th>\n",
       "      <th>cg27505756</th>\n",
       "      <th>cg03028851</th>\n",
       "      <th>cg13617521</th>\n",
       "      <th>cg27221747</th>\n",
       "      <th>cg14825312</th>\n",
       "      <th>cg22208280</th>\n",
       "      <th>cg01112702</th>\n",
       "    </tr>\n",
       "  </thead>\n",
       "  <tbody>\n",
       "    <tr>\n",
       "      <th>0</th>\n",
       "      <td>200973410159_R03C01</td>\n",
       "      <td>3000</td>\n",
       "      <td>2</td>\n",
       "      <td>2</td>\n",
       "      <td>0</td>\n",
       "      <td>69.1</td>\n",
       "      <td>4</td>\n",
       "      <td>1</td>\n",
       "      <td>0</td>\n",
       "      <td>0</td>\n",
       "      <td>...</td>\n",
       "      <td>0.9417</td>\n",
       "      <td>0.7912</td>\n",
       "      <td>0.898</td>\n",
       "      <td>0.86</td>\n",
       "      <td>0.8377</td>\n",
       "      <td>0.8276</td>\n",
       "      <td>0.8669</td>\n",
       "      <td>0.9126</td>\n",
       "      <td>0.7206</td>\n",
       "      <td>0.8817</td>\n",
       "    </tr>\n",
       "  </tbody>\n",
       "</table>\n",
       "<p>1 rows × 16110 columns</p>\n",
       "</div>"
      ],
      "text/plain": [
       "               Sentrix  PATNO  Gender  APPRDX  HYS   Age  AgeCate  \\\n",
       "0  200973410159_R03C01   3000       2       2    0  69.1        4   \n",
       "\n",
       "   MDS_Depress  MDSP_Constipate  MDSP_Fatigue  ...  cg11765888  cg16531342  \\\n",
       "0            1                0             0  ...      0.9417      0.7912   \n",
       "\n",
       "   cg12159336  cg27505756  cg03028851  cg13617521  cg27221747  cg14825312  \\\n",
       "0       0.898        0.86      0.8377      0.8276      0.8669      0.9126   \n",
       "\n",
       "   cg22208280  cg01112702  \n",
       "0      0.7206      0.8817  \n",
       "\n",
       "[1 rows x 16110 columns]"
      ]
     },
     "execution_count": 2,
     "metadata": {},
     "output_type": "execute_result"
    }
   ],
   "source": [
    "%cd Z:\\PPMI_Data\\Excel_Data\\NonMotors\\Feature_CpG_Gene_Association\\Other_Related_Files\\Aging_Gene\n",
    "data = pd.read_csv('CpG_Aging_withComm10FeatData_withMethylDetail.csv')\n",
    "data.head(1)"
   ]
  },
  {
   "cell_type": "code",
   "execution_count": 3,
   "id": "0fbb260b",
   "metadata": {
    "ExecuteTime": {
     "end_time": "2022-11-04T03:59:28.598607Z",
     "start_time": "2022-11-04T03:59:28.583012Z"
    },
    "scrolled": false
   },
   "outputs": [
    {
     "data": {
      "text/plain": [
       "Index(['Sentrix', 'PATNO', 'Gender', 'APPRDX', 'HYS', 'Age', 'AgeCate',\n",
       "       'MDS_Depress', 'MDSP_Constipate', 'MDSP_Fatigue',\n",
       "       ...\n",
       "       'cg11765888', 'cg16531342', 'cg12159336', 'cg27505756', 'cg03028851',\n",
       "       'cg13617521', 'cg27221747', 'cg14825312', 'cg22208280', 'cg01112702'],\n",
       "      dtype='object', length=16110)"
      ]
     },
     "execution_count": 3,
     "metadata": {},
     "output_type": "execute_result"
    }
   ],
   "source": [
    "data.columns"
   ]
  },
  {
   "cell_type": "code",
   "execution_count": 4,
   "id": "fd7ff261",
   "metadata": {
    "ExecuteTime": {
     "end_time": "2022-11-04T03:59:28.683398Z",
     "start_time": "2022-11-04T03:59:28.598607Z"
    }
   },
   "outputs": [],
   "source": [
    "data = data.drop (['PATNO','Sentrix','Gender','MDSP_LightHead','HYS', 'Age', 'AgeCate',\n",
    "       'MDS_Depress', 'MDSP_Constipate', 'MDSP_Fatigue','MDSP_SleepDay', 'MDSP_Pain', 'Montreal_Cognitive',\n",
    "       'SCOPA_Sex', 'Symbol_Digit', 'UPSIT_3'], axis = 1)"
   ]
  },
  {
   "cell_type": "code",
   "execution_count": 5,
   "id": "2172919d",
   "metadata": {
    "ExecuteTime": {
     "end_time": "2022-11-04T03:59:28.752352Z",
     "start_time": "2022-11-04T03:59:28.683398Z"
    }
   },
   "outputs": [
    {
     "data": {
      "text/html": [
       "<div>\n",
       "<style scoped>\n",
       "    .dataframe tbody tr th:only-of-type {\n",
       "        vertical-align: middle;\n",
       "    }\n",
       "\n",
       "    .dataframe tbody tr th {\n",
       "        vertical-align: top;\n",
       "    }\n",
       "\n",
       "    .dataframe thead th {\n",
       "        text-align: right;\n",
       "    }\n",
       "</style>\n",
       "<table border=\"1\" class=\"dataframe\">\n",
       "  <thead>\n",
       "    <tr style=\"text-align: right;\">\n",
       "      <th></th>\n",
       "      <th>APPRDX</th>\n",
       "      <th>cg07382920</th>\n",
       "      <th>cg10038618</th>\n",
       "      <th>cg24678611</th>\n",
       "      <th>cg25731359</th>\n",
       "      <th>cg12475507</th>\n",
       "      <th>cg01434649</th>\n",
       "      <th>cg24073122</th>\n",
       "      <th>cg04391111</th>\n",
       "      <th>cg10143426</th>\n",
       "      <th>...</th>\n",
       "      <th>cg11765888</th>\n",
       "      <th>cg16531342</th>\n",
       "      <th>cg12159336</th>\n",
       "      <th>cg27505756</th>\n",
       "      <th>cg03028851</th>\n",
       "      <th>cg13617521</th>\n",
       "      <th>cg27221747</th>\n",
       "      <th>cg14825312</th>\n",
       "      <th>cg22208280</th>\n",
       "      <th>cg01112702</th>\n",
       "    </tr>\n",
       "  </thead>\n",
       "  <tbody>\n",
       "    <tr>\n",
       "      <th>0</th>\n",
       "      <td>2</td>\n",
       "      <td>0.0970</td>\n",
       "      <td>0.2360</td>\n",
       "      <td>0.2521</td>\n",
       "      <td>0.1848</td>\n",
       "      <td>0.4289</td>\n",
       "      <td>0.2626</td>\n",
       "      <td>0.0720</td>\n",
       "      <td>0.1168</td>\n",
       "      <td>0.0275</td>\n",
       "      <td>...</td>\n",
       "      <td>0.9417</td>\n",
       "      <td>0.7912</td>\n",
       "      <td>0.8980</td>\n",
       "      <td>0.8600</td>\n",
       "      <td>0.8377</td>\n",
       "      <td>0.8276</td>\n",
       "      <td>0.8669</td>\n",
       "      <td>0.9126</td>\n",
       "      <td>0.7206</td>\n",
       "      <td>0.8817</td>\n",
       "    </tr>\n",
       "    <tr>\n",
       "      <th>1</th>\n",
       "      <td>1</td>\n",
       "      <td>0.1131</td>\n",
       "      <td>0.2015</td>\n",
       "      <td>0.2838</td>\n",
       "      <td>0.1660</td>\n",
       "      <td>0.4522</td>\n",
       "      <td>0.1932</td>\n",
       "      <td>0.0982</td>\n",
       "      <td>0.1450</td>\n",
       "      <td>0.0258</td>\n",
       "      <td>...</td>\n",
       "      <td>0.8899</td>\n",
       "      <td>0.8811</td>\n",
       "      <td>0.8831</td>\n",
       "      <td>0.8776</td>\n",
       "      <td>0.8767</td>\n",
       "      <td>0.8314</td>\n",
       "      <td>0.9175</td>\n",
       "      <td>0.8602</td>\n",
       "      <td>0.8736</td>\n",
       "      <td>0.8302</td>\n",
       "    </tr>\n",
       "  </tbody>\n",
       "</table>\n",
       "<p>2 rows × 16094 columns</p>\n",
       "</div>"
      ],
      "text/plain": [
       "   APPRDX  cg07382920  cg10038618  cg24678611  cg25731359  cg12475507  \\\n",
       "0       2      0.0970      0.2360      0.2521      0.1848      0.4289   \n",
       "1       1      0.1131      0.2015      0.2838      0.1660      0.4522   \n",
       "\n",
       "   cg01434649  cg24073122  cg04391111  cg10143426  ...  cg11765888  \\\n",
       "0      0.2626      0.0720      0.1168      0.0275  ...      0.9417   \n",
       "1      0.1932      0.0982      0.1450      0.0258  ...      0.8899   \n",
       "\n",
       "   cg16531342  cg12159336  cg27505756  cg03028851  cg13617521  cg27221747  \\\n",
       "0      0.7912      0.8980      0.8600      0.8377      0.8276      0.8669   \n",
       "1      0.8811      0.8831      0.8776      0.8767      0.8314      0.9175   \n",
       "\n",
       "   cg14825312  cg22208280  cg01112702  \n",
       "0      0.9126      0.7206      0.8817  \n",
       "1      0.8602      0.8736      0.8302  \n",
       "\n",
       "[2 rows x 16094 columns]"
      ]
     },
     "execution_count": 5,
     "metadata": {},
     "output_type": "execute_result"
    }
   ],
   "source": [
    "data.head(2)"
   ]
  },
  {
   "cell_type": "code",
   "execution_count": 6,
   "id": "ee22df7a",
   "metadata": {
    "ExecuteTime": {
     "end_time": "2022-11-04T03:59:28.868281Z",
     "start_time": "2022-11-04T03:59:28.752352Z"
    }
   },
   "outputs": [],
   "source": [
    "X = data.drop(['APPRDX'], axis = 1)\n",
    "y = data['APPRDX']\n",
    "X_train, X_test, y_train, y_test = train_test_split(X, y, test_size = .2, random_state = 1) "
   ]
  },
  {
   "cell_type": "code",
   "execution_count": 7,
   "id": "c1ee3e48",
   "metadata": {
    "ExecuteTime": {
     "end_time": "2022-11-04T03:59:30.994849Z",
     "start_time": "2022-11-04T03:59:28.868281Z"
    }
   },
   "outputs": [
    {
     "data": {
      "text/plain": [
       "RandomForestClassifier(random_state=1)"
      ]
     },
     "execution_count": 7,
     "metadata": {},
     "output_type": "execute_result"
    }
   ],
   "source": [
    "rf_all_features = RandomForestClassifier(random_state=1)\n",
    "rf_all_features.fit(X_train, y_train)"
   ]
  },
  {
   "cell_type": "code",
   "execution_count": 8,
   "id": "f17f8606",
   "metadata": {
    "ExecuteTime": {
     "end_time": "2022-11-04T03:59:31.110761Z",
     "start_time": "2022-11-04T03:59:30.994849Z"
    }
   },
   "outputs": [
    {
     "data": {
      "text/plain": [
       "0.6847826086956522"
      ]
     },
     "execution_count": 8,
     "metadata": {},
     "output_type": "execute_result"
    }
   ],
   "source": [
    "accuracy_score(y_test, rf_all_features.predict(X_test))"
   ]
  },
  {
   "cell_type": "code",
   "execution_count": 9,
   "id": "5ba608ac",
   "metadata": {
    "ExecuteTime": {
     "end_time": "2022-11-04T04:06:14.737411Z",
     "start_time": "2022-11-04T03:59:31.110761Z"
    }
   },
   "outputs": [
    {
     "name": "stdout",
     "output_type": "stream",
     "text": [
      "Iteration: 1 / 100\n",
      "Iteration: 2 / 100\n",
      "Iteration: 3 / 100\n",
      "Iteration: 4 / 100\n",
      "Iteration: 5 / 100\n",
      "Iteration: 6 / 100\n",
      "Iteration: 7 / 100\n",
      "Iteration: 8 / 100\n",
      "Iteration: 9 / 100\n",
      "Iteration: 10 / 100\n",
      "Iteration: 11 / 100\n",
      "Iteration: 12 / 100\n",
      "Iteration: 13 / 100\n",
      "Iteration: 14 / 100\n",
      "Iteration: 15 / 100\n",
      "Iteration: 16 / 100\n",
      "Iteration: 17 / 100\n",
      "Iteration: 18 / 100\n",
      "Iteration: 19 / 100\n",
      "Iteration: 20 / 100\n",
      "Iteration: 21 / 100\n",
      "Iteration: 22 / 100\n",
      "Iteration: 23 / 100\n",
      "Iteration: 24 / 100\n",
      "Iteration: 25 / 100\n",
      "Iteration: 26 / 100\n",
      "Iteration: 27 / 100\n",
      "Iteration: 28 / 100\n",
      "Iteration: 29 / 100\n",
      "Iteration: 30 / 100\n",
      "Iteration: 31 / 100\n",
      "Iteration: 32 / 100\n",
      "Iteration: 33 / 100\n",
      "Iteration: 34 / 100\n",
      "Iteration: 35 / 100\n",
      "Iteration: 36 / 100\n",
      "Iteration: 37 / 100\n",
      "\n",
      "\n",
      "BorutaPy finished running.\n",
      "\n",
      "Iteration: \t38 / 100\n",
      "Confirmed: \t2\n",
      "Tentative: \t0\n",
      "Rejected: \t16091\n"
     ]
    },
    {
     "data": {
      "text/plain": [
       "BorutaPy(estimator=RandomForestClassifier(n_estimators=20,\n",
       "                                          random_state=RandomState(MT19937) at 0x20496CAFA40),\n",
       "         n_estimators='auto',\n",
       "         random_state=RandomState(MT19937) at 0x20496CAFA40, verbose=1)"
      ]
     },
     "execution_count": 9,
     "metadata": {},
     "output_type": "execute_result"
    }
   ],
   "source": [
    "rfc = RandomForestClassifier(random_state=1)\n",
    "boruta_selector = BorutaPy(rfc, n_estimators= 'auto', verbose=1, random_state=1)\n",
    "boruta_selector.fit(np.array(X_train), np.array(y_train))  "
   ]
  },
  {
   "cell_type": "code",
   "execution_count": 10,
   "id": "51f874e0",
   "metadata": {
    "ExecuteTime": {
     "end_time": "2022-11-04T04:06:14.759615Z",
     "start_time": "2022-11-04T04:06:14.737411Z"
    }
   },
   "outputs": [
    {
     "name": "stdout",
     "output_type": "stream",
     "text": [
      "No. of significant features:  2\n"
     ]
    }
   ],
   "source": [
    "# print(\"Ranking: \",boruta_selector.ranking_)          \n",
    "print(\"No. of significant features: \", boruta_selector.n_features_)"
   ]
  },
  {
   "cell_type": "code",
   "execution_count": 11,
   "id": "61cadc89",
   "metadata": {
    "ExecuteTime": {
     "end_time": "2022-11-04T04:06:14.822121Z",
     "start_time": "2022-11-04T04:06:14.759615Z"
    }
   },
   "outputs": [],
   "source": [
    "selected_rf_features = pd.DataFrame({'CpG':list(X_train.columns),\n",
    "                                       'Ranking':boruta_selector.ranking_})\n",
    "selected_rf_features = selected_rf_features.sort_values(by='Ranking')"
   ]
  },
  {
   "cell_type": "code",
   "execution_count": 12,
   "id": "6ae888ab",
   "metadata": {
    "ExecuteTime": {
     "end_time": "2022-11-04T04:06:14.890707Z",
     "start_time": "2022-11-04T04:06:14.822121Z"
    }
   },
   "outputs": [
    {
     "data": {
      "text/html": [
       "<div>\n",
       "<style scoped>\n",
       "    .dataframe tbody tr th:only-of-type {\n",
       "        vertical-align: middle;\n",
       "    }\n",
       "\n",
       "    .dataframe tbody tr th {\n",
       "        vertical-align: top;\n",
       "    }\n",
       "\n",
       "    .dataframe thead th {\n",
       "        text-align: right;\n",
       "    }\n",
       "</style>\n",
       "<table border=\"1\" class=\"dataframe\">\n",
       "  <thead>\n",
       "    <tr style=\"text-align: right;\">\n",
       "      <th></th>\n",
       "      <th>CpG</th>\n",
       "      <th>Ranking</th>\n",
       "    </tr>\n",
       "  </thead>\n",
       "  <tbody>\n",
       "    <tr>\n",
       "      <th>9126</th>\n",
       "      <td>cg24323328</td>\n",
       "      <td>1</td>\n",
       "    </tr>\n",
       "    <tr>\n",
       "      <th>12163</th>\n",
       "      <td>cg01376763</td>\n",
       "      <td>1</td>\n",
       "    </tr>\n",
       "    <tr>\n",
       "      <th>8051</th>\n",
       "      <td>cg21403602</td>\n",
       "      <td>2</td>\n",
       "    </tr>\n",
       "    <tr>\n",
       "      <th>12763</th>\n",
       "      <td>cg12220605</td>\n",
       "      <td>3</td>\n",
       "    </tr>\n",
       "    <tr>\n",
       "      <th>12328</th>\n",
       "      <td>cg17210604</td>\n",
       "      <td>3</td>\n",
       "    </tr>\n",
       "  </tbody>\n",
       "</table>\n",
       "</div>"
      ],
      "text/plain": [
       "              CpG  Ranking\n",
       "9126   cg24323328        1\n",
       "12163  cg01376763        1\n",
       "8051   cg21403602        2\n",
       "12763  cg12220605        3\n",
       "12328  cg17210604        3"
      ]
     },
     "execution_count": 12,
     "metadata": {},
     "output_type": "execute_result"
    }
   ],
   "source": [
    "Top50 = selected_rf_features.iloc[:51, :]\n",
    "Top50.head()"
   ]
  },
  {
   "cell_type": "code",
   "execution_count": 13,
   "id": "9605e163",
   "metadata": {
    "ExecuteTime": {
     "end_time": "2022-11-04T04:06:14.975482Z",
     "start_time": "2022-11-04T04:06:14.890707Z"
    }
   },
   "outputs": [],
   "source": [
    "Top50.to_csv ('Aging_Boruta_Top50.csv', index = False)\n",
    "selected_rf_features.to_csv ('Aging_Boruta_All.csv', index = False)"
   ]
  },
  {
   "cell_type": "code",
   "execution_count": null,
   "id": "829a9447",
   "metadata": {},
   "outputs": [],
   "source": []
  }
 ],
 "metadata": {
  "kernelspec": {
   "display_name": "Python 3 (ipykernel)",
   "language": "python",
   "name": "python3"
  },
  "language_info": {
   "codemirror_mode": {
    "name": "ipython",
    "version": 3
   },
   "file_extension": ".py",
   "mimetype": "text/x-python",
   "name": "python",
   "nbconvert_exporter": "python",
   "pygments_lexer": "ipython3",
   "version": "3.9.7"
  },
  "toc": {
   "base_numbering": 1,
   "nav_menu": {},
   "number_sections": true,
   "sideBar": true,
   "skip_h1_title": false,
   "title_cell": "Table of Contents",
   "title_sidebar": "Contents",
   "toc_cell": false,
   "toc_position": {},
   "toc_section_display": true,
   "toc_window_display": false
  },
  "varInspector": {
   "cols": {
    "lenName": 16,
    "lenType": 16,
    "lenVar": 40
   },
   "kernels_config": {
    "python": {
     "delete_cmd_postfix": "",
     "delete_cmd_prefix": "del ",
     "library": "var_list.py",
     "varRefreshCmd": "print(var_dic_list())"
    },
    "r": {
     "delete_cmd_postfix": ") ",
     "delete_cmd_prefix": "rm(",
     "library": "var_list.r",
     "varRefreshCmd": "cat(var_dic_list()) "
    }
   },
   "types_to_exclude": [
    "module",
    "function",
    "builtin_function_or_method",
    "instance",
    "_Feature"
   ],
   "window_display": false
  }
 },
 "nbformat": 4,
 "nbformat_minor": 5
}
