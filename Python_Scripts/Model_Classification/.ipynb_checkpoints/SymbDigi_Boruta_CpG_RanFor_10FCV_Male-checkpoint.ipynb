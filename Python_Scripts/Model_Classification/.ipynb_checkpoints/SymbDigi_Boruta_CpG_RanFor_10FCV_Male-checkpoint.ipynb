{
 "cells": [
  {
   "cell_type": "markdown",
   "metadata": {
    "colab_type": "text",
    "id": "0MRC0e0KhQ0S"
   },
   "source": [
    "# Random Forest Classification"
   ]
  },
  {
   "cell_type": "markdown",
   "metadata": {
    "colab_type": "text",
    "id": "LWd1UlMnhT2s"
   },
   "source": [
    "## Importing the libraries"
   ]
  },
  {
   "cell_type": "code",
   "execution_count": 1,
   "metadata": {
    "ExecuteTime": {
     "end_time": "2022-12-26T18:53:21.173776Z",
     "start_time": "2022-12-26T18:53:18.139900Z"
    },
    "colab": {},
    "colab_type": "code",
    "id": "YvGPUQaHhXfL"
   },
   "outputs": [],
   "source": [
    "import random\n",
    "import numpy as np\n",
    "import pandas as pd\n",
    "import seaborn as sn\n",
    "from numpy import std\n",
    "from numpy import mean\n",
    "import matplotlib.pyplot as plt\n",
    "from sklearn.datasets import make_classification\n",
    "from sklearn.preprocessing import StandardScaler\n",
    "from sklearn.model_selection import cross_val_score\n",
    "from sklearn.ensemble import RandomForestClassifier\n",
    "from sklearn.model_selection import train_test_split\n",
    "from sklearn.model_selection import RepeatedStratifiedKFold\n",
    "from sklearn.metrics import confusion_matrix, accuracy_score\n",
    "%matplotlib inline"
   ]
  },
  {
   "cell_type": "code",
   "execution_count": 2,
   "metadata": {
    "ExecuteTime": {
     "end_time": "2022-12-26T19:09:40.667491Z",
     "start_time": "2022-12-26T18:53:21.173776Z"
    },
    "scrolled": false
   },
   "outputs": [
    {
     "name": "stdout",
     "output_type": "stream",
     "text": [
      "Z:\\PPMI_Data\\Excels\\Only_Male\\GeneCpG\\SymbDigi\n",
      "(307, 192589)\n"
     ]
    },
    {
     "data": {
      "text/html": [
       "<div>\n",
       "<style scoped>\n",
       "    .dataframe tbody tr th:only-of-type {\n",
       "        vertical-align: middle;\n",
       "    }\n",
       "\n",
       "    .dataframe tbody tr th {\n",
       "        vertical-align: top;\n",
       "    }\n",
       "\n",
       "    .dataframe thead th {\n",
       "        text-align: right;\n",
       "    }\n",
       "</style>\n",
       "<table border=\"1\" class=\"dataframe\">\n",
       "  <thead>\n",
       "    <tr style=\"text-align: right;\">\n",
       "      <th></th>\n",
       "      <th>Unnamed: 0</th>\n",
       "      <th>Sentrix</th>\n",
       "      <th>PATNO</th>\n",
       "      <th>HYS</th>\n",
       "      <th>Gender</th>\n",
       "      <th>APPRDX</th>\n",
       "      <th>Symbol_Digit</th>\n",
       "      <th>cg20815302</th>\n",
       "      <th>cg25795414</th>\n",
       "      <th>cg00959375</th>\n",
       "      <th>...</th>\n",
       "      <th>cg03814399</th>\n",
       "      <th>cg14792798</th>\n",
       "      <th>cg16910097</th>\n",
       "      <th>cg08750857</th>\n",
       "      <th>cg17933893</th>\n",
       "      <th>cg06917935</th>\n",
       "      <th>cg02794319</th>\n",
       "      <th>cg10702286</th>\n",
       "      <th>cg10353174</th>\n",
       "      <th>cg19590050</th>\n",
       "    </tr>\n",
       "  </thead>\n",
       "  <tbody>\n",
       "    <tr>\n",
       "      <th>0</th>\n",
       "      <td>0</td>\n",
       "      <td>200991620021_R01C01</td>\n",
       "      <td>3001</td>\n",
       "      <td>2</td>\n",
       "      <td>1</td>\n",
       "      <td>1</td>\n",
       "      <td>1</td>\n",
       "      <td>0.907957</td>\n",
       "      <td>0.868910</td>\n",
       "      <td>0.752844</td>\n",
       "      <td>...</td>\n",
       "      <td>0.880496</td>\n",
       "      <td>0.928546</td>\n",
       "      <td>0.900567</td>\n",
       "      <td>0.877800</td>\n",
       "      <td>0.836823</td>\n",
       "      <td>0.216268</td>\n",
       "      <td>0.234350</td>\n",
       "      <td>0.681550</td>\n",
       "      <td>0.103758</td>\n",
       "      <td>0.837890</td>\n",
       "    </tr>\n",
       "    <tr>\n",
       "      <th>1</th>\n",
       "      <td>1</td>\n",
       "      <td>200973410167_R04C01</td>\n",
       "      <td>3007</td>\n",
       "      <td>2</td>\n",
       "      <td>1</td>\n",
       "      <td>1</td>\n",
       "      <td>2</td>\n",
       "      <td>0.918626</td>\n",
       "      <td>0.865257</td>\n",
       "      <td>0.798170</td>\n",
       "      <td>...</td>\n",
       "      <td>0.877306</td>\n",
       "      <td>0.912956</td>\n",
       "      <td>0.935591</td>\n",
       "      <td>0.942104</td>\n",
       "      <td>0.750613</td>\n",
       "      <td>0.254265</td>\n",
       "      <td>0.290337</td>\n",
       "      <td>0.760554</td>\n",
       "      <td>0.075480</td>\n",
       "      <td>0.833824</td>\n",
       "    </tr>\n",
       "    <tr>\n",
       "      <th>2</th>\n",
       "      <td>2</td>\n",
       "      <td>200973410167_R05C01</td>\n",
       "      <td>3010</td>\n",
       "      <td>2</td>\n",
       "      <td>1</td>\n",
       "      <td>1</td>\n",
       "      <td>1</td>\n",
       "      <td>0.905297</td>\n",
       "      <td>0.864778</td>\n",
       "      <td>0.769766</td>\n",
       "      <td>...</td>\n",
       "      <td>0.891733</td>\n",
       "      <td>0.902633</td>\n",
       "      <td>0.947783</td>\n",
       "      <td>0.942099</td>\n",
       "      <td>0.752775</td>\n",
       "      <td>0.229338</td>\n",
       "      <td>0.232169</td>\n",
       "      <td>0.775542</td>\n",
       "      <td>0.119109</td>\n",
       "      <td>0.846339</td>\n",
       "    </tr>\n",
       "  </tbody>\n",
       "</table>\n",
       "<p>3 rows × 192589 columns</p>\n",
       "</div>"
      ],
      "text/plain": [
       "   Unnamed: 0              Sentrix  PATNO  HYS  Gender  APPRDX  Symbol_Digit  \\\n",
       "0           0  200991620021_R01C01   3001    2       1       1             1   \n",
       "1           1  200973410167_R04C01   3007    2       1       1             2   \n",
       "2           2  200973410167_R05C01   3010    2       1       1             1   \n",
       "\n",
       "   cg20815302  cg25795414  cg00959375  ...  cg03814399  cg14792798  \\\n",
       "0    0.907957    0.868910    0.752844  ...    0.880496    0.928546   \n",
       "1    0.918626    0.865257    0.798170  ...    0.877306    0.912956   \n",
       "2    0.905297    0.864778    0.769766  ...    0.891733    0.902633   \n",
       "\n",
       "   cg16910097  cg08750857  cg17933893  cg06917935  cg02794319  cg10702286  \\\n",
       "0    0.900567    0.877800    0.836823    0.216268    0.234350    0.681550   \n",
       "1    0.935591    0.942104    0.750613    0.254265    0.290337    0.760554   \n",
       "2    0.947783    0.942099    0.752775    0.229338    0.232169    0.775542   \n",
       "\n",
       "   cg10353174  cg19590050  \n",
       "0    0.103758    0.837890  \n",
       "1    0.075480    0.833824  \n",
       "2    0.119109    0.846339  \n",
       "\n",
       "[3 rows x 192589 columns]"
      ]
     },
     "execution_count": 2,
     "metadata": {},
     "output_type": "execute_result"
    }
   ],
   "source": [
    "%cd Z:\\PPMI_Data\\Excels\\Only_Male\\GeneCpG\\SymbDigi\n",
    "df = pd.read_csv('SymbDigiCateg_Methylome_Male.csv')\n",
    "print(df.shape)\n",
    "df.head(3)"
   ]
  },
  {
   "cell_type": "code",
   "execution_count": 20,
   "metadata": {
    "ExecuteTime": {
     "end_time": "2022-12-27T03:18:52.924126Z",
     "start_time": "2022-12-27T03:18:52.654563Z"
    },
    "scrolled": false
   },
   "outputs": [
    {
     "data": {
      "text/html": [
       "<div>\n",
       "<style scoped>\n",
       "    .dataframe tbody tr th:only-of-type {\n",
       "        vertical-align: middle;\n",
       "    }\n",
       "\n",
       "    .dataframe tbody tr th {\n",
       "        vertical-align: top;\n",
       "    }\n",
       "\n",
       "    .dataframe thead th {\n",
       "        text-align: right;\n",
       "    }\n",
       "</style>\n",
       "<table border=\"1\" class=\"dataframe\">\n",
       "  <thead>\n",
       "    <tr style=\"text-align: right;\">\n",
       "      <th></th>\n",
       "      <th>APPRDX</th>\n",
       "      <th>cg20815302</th>\n",
       "      <th>cg25795414</th>\n",
       "      <th>cg00959375</th>\n",
       "      <th>cg07781847</th>\n",
       "      <th>cg05138383</th>\n",
       "      <th>cg27394794</th>\n",
       "      <th>cg12443990</th>\n",
       "      <th>cg19788329</th>\n",
       "      <th>cg22178513</th>\n",
       "      <th>...</th>\n",
       "      <th>cg03814399</th>\n",
       "      <th>cg14792798</th>\n",
       "      <th>cg16910097</th>\n",
       "      <th>cg08750857</th>\n",
       "      <th>cg17933893</th>\n",
       "      <th>cg06917935</th>\n",
       "      <th>cg02794319</th>\n",
       "      <th>cg10702286</th>\n",
       "      <th>cg10353174</th>\n",
       "      <th>cg19590050</th>\n",
       "    </tr>\n",
       "  </thead>\n",
       "  <tbody>\n",
       "    <tr>\n",
       "      <th>0</th>\n",
       "      <td>1</td>\n",
       "      <td>0.907957</td>\n",
       "      <td>0.868910</td>\n",
       "      <td>0.752844</td>\n",
       "      <td>0.827413</td>\n",
       "      <td>0.771393</td>\n",
       "      <td>0.766283</td>\n",
       "      <td>0.791932</td>\n",
       "      <td>0.785104</td>\n",
       "      <td>0.723989</td>\n",
       "      <td>...</td>\n",
       "      <td>0.880496</td>\n",
       "      <td>0.928546</td>\n",
       "      <td>0.900567</td>\n",
       "      <td>0.877800</td>\n",
       "      <td>0.836823</td>\n",
       "      <td>0.216268</td>\n",
       "      <td>0.234350</td>\n",
       "      <td>0.681550</td>\n",
       "      <td>0.103758</td>\n",
       "      <td>0.837890</td>\n",
       "    </tr>\n",
       "    <tr>\n",
       "      <th>1</th>\n",
       "      <td>1</td>\n",
       "      <td>0.918626</td>\n",
       "      <td>0.865257</td>\n",
       "      <td>0.798170</td>\n",
       "      <td>0.823846</td>\n",
       "      <td>0.760193</td>\n",
       "      <td>0.801117</td>\n",
       "      <td>0.772456</td>\n",
       "      <td>0.742722</td>\n",
       "      <td>0.580721</td>\n",
       "      <td>...</td>\n",
       "      <td>0.877306</td>\n",
       "      <td>0.912956</td>\n",
       "      <td>0.935591</td>\n",
       "      <td>0.942104</td>\n",
       "      <td>0.750613</td>\n",
       "      <td>0.254265</td>\n",
       "      <td>0.290337</td>\n",
       "      <td>0.760554</td>\n",
       "      <td>0.075480</td>\n",
       "      <td>0.833824</td>\n",
       "    </tr>\n",
       "  </tbody>\n",
       "</table>\n",
       "<p>2 rows × 192583 columns</p>\n",
       "</div>"
      ],
      "text/plain": [
       "   APPRDX  cg20815302  cg25795414  cg00959375  cg07781847  cg05138383  \\\n",
       "0       1    0.907957    0.868910    0.752844    0.827413    0.771393   \n",
       "1       1    0.918626    0.865257    0.798170    0.823846    0.760193   \n",
       "\n",
       "   cg27394794  cg12443990  cg19788329  cg22178513  ...  cg03814399  \\\n",
       "0    0.766283    0.791932    0.785104    0.723989  ...    0.880496   \n",
       "1    0.801117    0.772456    0.742722    0.580721  ...    0.877306   \n",
       "\n",
       "   cg14792798  cg16910097  cg08750857  cg17933893  cg06917935  cg02794319  \\\n",
       "0    0.928546    0.900567    0.877800    0.836823    0.216268    0.234350   \n",
       "1    0.912956    0.935591    0.942104    0.750613    0.254265    0.290337   \n",
       "\n",
       "   cg10702286  cg10353174  cg19590050  \n",
       "0    0.681550    0.103758    0.837890  \n",
       "1    0.760554    0.075480    0.833824  \n",
       "\n",
       "[2 rows x 192583 columns]"
      ]
     },
     "execution_count": 20,
     "metadata": {},
     "output_type": "execute_result"
    }
   ],
   "source": [
    "df1 = df.drop(['Unnamed: 0','PATNO', 'Sentrix', 'HYS', 'Gender', 'Symbol_Digit'], axis=1)\n",
    "df1.head(2)"
   ]
  },
  {
   "cell_type": "code",
   "execution_count": null,
   "metadata": {
    "ExecuteTime": {
     "start_time": "2022-12-27T03:18:54.700Z"
    }
   },
   "outputs": [],
   "source": [
    "df1 = df1.transpose()\n",
    "df1.head(2)"
   ]
  },
  {
   "cell_type": "code",
   "execution_count": null,
   "metadata": {
    "ExecuteTime": {
     "start_time": "2022-12-27T03:18:55.003Z"
    }
   },
   "outputs": [],
   "source": [
    "df1.rename(columns=df1.iloc[0], inplace = True)\n"
   ]
  },
  {
   "cell_type": "code",
   "execution_count": null,
   "metadata": {
    "ExecuteTime": {
     "start_time": "2022-12-27T03:18:55.324Z"
    },
    "scrolled": true
   },
   "outputs": [],
   "source": [
    "df1.index.name ='CpG'\n",
    "df1.reset_index(inplace=True)\n",
    "df1.head(2)"
   ]
  },
  {
   "cell_type": "code",
   "execution_count": null,
   "metadata": {
    "ExecuteTime": {
     "start_time": "2022-12-27T03:18:55.660Z"
    }
   },
   "outputs": [],
   "source": [
    "df1 = df1.drop ([0], axis = 0)\n",
    "df1.head(2)"
   ]
  },
  {
   "cell_type": "code",
   "execution_count": null,
   "metadata": {
    "ExecuteTime": {
     "start_time": "2022-12-27T03:18:55.933Z"
    },
    "scrolled": true
   },
   "outputs": [],
   "source": [
    "df2 = pd.read_csv (\"SymbDigi_BorutaMale_Top50.csv\")\n",
    "df2.head(2)"
   ]
  },
  {
   "cell_type": "code",
   "execution_count": null,
   "metadata": {
    "ExecuteTime": {
     "start_time": "2022-12-27T03:18:56.347Z"
    }
   },
   "outputs": [],
   "source": [
    "df3 = pd.merge (df1, df2, on= \"CpG\", how= \"inner\")\n",
    "df3.head(2)"
   ]
  },
  {
   "cell_type": "code",
   "execution_count": null,
   "metadata": {
    "ExecuteTime": {
     "start_time": "2022-12-27T03:18:56.732Z"
    }
   },
   "outputs": [],
   "source": [
    "df3 = df3.transpose()\n",
    "df3.head(2)"
   ]
  },
  {
   "cell_type": "code",
   "execution_count": null,
   "metadata": {
    "ExecuteTime": {
     "start_time": "2022-12-27T03:18:57.226Z"
    }
   },
   "outputs": [],
   "source": [
    "df3.rename(columns=df3.iloc[0], inplace = True)\n"
   ]
  },
  {
   "cell_type": "code",
   "execution_count": null,
   "metadata": {
    "ExecuteTime": {
     "start_time": "2022-12-27T03:18:57.852Z"
    }
   },
   "outputs": [],
   "source": [
    "df3.index.name ='APPRDX'\n",
    "df3.reset_index(inplace=True)\n",
    "df3.head(2)"
   ]
  },
  {
   "cell_type": "code",
   "execution_count": null,
   "metadata": {
    "ExecuteTime": {
     "start_time": "2022-12-27T03:18:58.428Z"
    },
    "scrolled": true
   },
   "outputs": [],
   "source": [
    "df3 = df3.drop ([0], axis = 0)\n",
    "df3.head(2)"
   ]
  },
  {
   "cell_type": "code",
   "execution_count": null,
   "metadata": {
    "ExecuteTime": {
     "start_time": "2022-12-27T03:18:58.988Z"
    }
   },
   "outputs": [],
   "source": [
    "df3.reset_index(inplace = True, drop = True)\n",
    "df3.head()"
   ]
  },
  {
   "cell_type": "code",
   "execution_count": null,
   "metadata": {
    "ExecuteTime": {
     "start_time": "2022-12-27T03:18:59.522Z"
    }
   },
   "outputs": [],
   "source": [
    "df3.shape"
   ]
  },
  {
   "cell_type": "code",
   "execution_count": null,
   "metadata": {
    "ExecuteTime": {
     "start_time": "2022-12-27T03:19:00.131Z"
    }
   },
   "outputs": [],
   "source": [
    "df3 ['APPRDX'] = df3 ['APPRDX'].apply(int)"
   ]
  },
  {
   "cell_type": "markdown",
   "metadata": {},
   "source": [
    "## RanFor 1000 times, CpG only "
   ]
  },
  {
   "cell_type": "code",
   "execution_count": null,
   "metadata": {
    "ExecuteTime": {
     "start_time": "2022-12-27T03:19:01.251Z"
    },
    "scrolled": true
   },
   "outputs": [],
   "source": [
    "df3.head(2)"
   ]
  },
  {
   "cell_type": "code",
   "execution_count": null,
   "metadata": {
    "ExecuteTime": {
     "start_time": "2022-12-27T03:19:01.826Z"
    }
   },
   "outputs": [],
   "source": [
    "df3.shape"
   ]
  },
  {
   "cell_type": "code",
   "execution_count": null,
   "metadata": {
    "ExecuteTime": {
     "start_time": "2022-12-27T03:19:02.467Z"
    }
   },
   "outputs": [],
   "source": [
    "np.random.seed (1)\n",
    "dframe1 = pd.DataFrame(columns=['Accuracy', 'Std_Dev'])\n",
    "for i in range (1,1001) :\n",
    "        print(i)\n",
    "        dataset = df3.groupby('APPRDX').apply(lambda x: x.sample(90))\n",
    "        X = dataset.iloc[:, 1:].values\n",
    "        y = dataset.iloc[:, 0].values\n",
    "        classifier = RandomForestClassifier(n_estimators = 100, criterion = 'entropy', random_state = 1)\n",
    "        cv = RepeatedStratifiedKFold(n_splits=10, n_repeats=5, random_state=1)\n",
    "        n_scores = cross_val_score(classifier, X, y, scoring='accuracy', cv=cv, n_jobs=-1, error_score='raise')\n",
    "        dframe1 = dframe1.append({'Accuracy': mean(n_scores), 'Std_Dev': std(n_scores)}, ignore_index=True)\n"
   ]
  },
  {
   "cell_type": "code",
   "execution_count": null,
   "metadata": {
    "ExecuteTime": {
     "start_time": "2022-12-27T03:19:03.090Z"
    },
    "scrolled": true
   },
   "outputs": [],
   "source": [
    "dframe1.head(2)"
   ]
  },
  {
   "cell_type": "code",
   "execution_count": null,
   "metadata": {
    "ExecuteTime": {
     "start_time": "2022-12-27T03:19:03.971Z"
    }
   },
   "outputs": [],
   "source": [
    "dframe1.to_csv (\"SymbDigi_BorutaCpG_Male_1000RF.csv\")"
   ]
  },
  {
   "cell_type": "code",
   "execution_count": null,
   "metadata": {},
   "outputs": [],
   "source": []
  }
 ],
 "metadata": {
  "colab": {
   "authorship_tag": "ABX9TyPA7K2PAkEFgaKFIvslUMEc",
   "collapsed_sections": [],
   "machine_shape": "hm",
   "name": "random_forest_classification.ipynb",
   "provenance": [],
   "toc_visible": true
  },
  "kernelspec": {
   "display_name": "Python 3 (ipykernel)",
   "language": "python",
   "name": "python3"
  },
  "language_info": {
   "codemirror_mode": {
    "name": "ipython",
    "version": 3
   },
   "file_extension": ".py",
   "mimetype": "text/x-python",
   "name": "python",
   "nbconvert_exporter": "python",
   "pygments_lexer": "ipython3",
   "version": "3.9.7"
  },
  "toc": {
   "base_numbering": 1,
   "nav_menu": {},
   "number_sections": true,
   "sideBar": true,
   "skip_h1_title": false,
   "title_cell": "Table of Contents",
   "title_sidebar": "Contents",
   "toc_cell": false,
   "toc_position": {},
   "toc_section_display": true,
   "toc_window_display": false
  },
  "varInspector": {
   "cols": {
    "lenName": 16,
    "lenType": 16,
    "lenVar": 40
   },
   "kernels_config": {
    "python": {
     "delete_cmd_postfix": "",
     "delete_cmd_prefix": "del ",
     "library": "var_list.py",
     "varRefreshCmd": "print(var_dic_list())"
    },
    "r": {
     "delete_cmd_postfix": ") ",
     "delete_cmd_prefix": "rm(",
     "library": "var_list.r",
     "varRefreshCmd": "cat(var_dic_list()) "
    }
   },
   "types_to_exclude": [
    "module",
    "function",
    "builtin_function_or_method",
    "instance",
    "_Feature"
   ],
   "window_display": false
  }
 },
 "nbformat": 4,
 "nbformat_minor": 1
}
