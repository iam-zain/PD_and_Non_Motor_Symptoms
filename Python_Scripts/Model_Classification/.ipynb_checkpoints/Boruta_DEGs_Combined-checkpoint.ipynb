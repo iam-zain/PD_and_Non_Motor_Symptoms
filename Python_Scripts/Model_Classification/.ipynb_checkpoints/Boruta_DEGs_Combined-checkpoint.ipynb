{
 "cells": [
  {
   "cell_type": "code",
   "execution_count": 1,
   "id": "51c5704f",
   "metadata": {
    "ExecuteTime": {
     "end_time": "2023-11-16T07:33:25.944392Z",
     "start_time": "2023-11-16T07:33:24.421392Z"
    }
   },
   "outputs": [],
   "source": [
    "import numpy as np\n",
    "import pandas as pd\n",
    "from boruta import BorutaPy\n",
    "from sklearn.datasets import load_diabetes\n",
    "from sklearn.metrics import accuracy_score \n",
    "from sklearn.ensemble import RandomForestRegressor\n",
    "from sklearn.ensemble import RandomForestClassifier\n",
    "from sklearn.model_selection import train_test_split"
   ]
  },
  {
   "cell_type": "code",
   "execution_count": 3,
   "id": "5ff336b1",
   "metadata": {
    "ExecuteTime": {
     "end_time": "2023-11-16T07:35:31.122394Z",
     "start_time": "2023-11-16T07:33:36.789395Z"
    }
   },
   "outputs": [
    {
     "name": "stdout",
     "output_type": "stream",
     "text": [
      "S:\\PPMI_RNA\\Processed\n"
     ]
    },
    {
     "data": {
      "text/html": [
       "<div>\n",
       "<style scoped>\n",
       "    .dataframe tbody tr th:only-of-type {\n",
       "        vertical-align: middle;\n",
       "    }\n",
       "\n",
       "    .dataframe tbody tr th {\n",
       "        vertical-align: top;\n",
       "    }\n",
       "\n",
       "    .dataframe thead th {\n",
       "        text-align: right;\n",
       "    }\n",
       "</style>\n",
       "<table border=\"1\" class=\"dataframe\">\n",
       "  <thead>\n",
       "    <tr style=\"text-align: right;\">\n",
       "      <th></th>\n",
       "      <th>HudAlphaID</th>\n",
       "      <th>DIAGNOSIS</th>\n",
       "      <th>ENSG00000223972.5</th>\n",
       "      <th>ENSG00000227232.5</th>\n",
       "      <th>ENSG00000278267.1</th>\n",
       "      <th>ENSG00000243485.5</th>\n",
       "      <th>ENSG00000284332.1</th>\n",
       "      <th>ENSG00000237613.2</th>\n",
       "      <th>ENSG00000268020.3</th>\n",
       "      <th>ENSG00000240361.2</th>\n",
       "      <th>...</th>\n",
       "      <th>ENSG00000273739.1</th>\n",
       "      <th>ENSG00000276700.1</th>\n",
       "      <th>ENSG00000276312.1</th>\n",
       "      <th>ENSG00000275757.1</th>\n",
       "      <th>ENSG00000278573.1</th>\n",
       "      <th>ENSG00000276017.1</th>\n",
       "      <th>ENSG00000278817.1</th>\n",
       "      <th>ENSG00000277196.4</th>\n",
       "      <th>ENSG00000278625.1</th>\n",
       "      <th>ENSG00000277374.1</th>\n",
       "    </tr>\n",
       "  </thead>\n",
       "  <tbody>\n",
       "    <tr>\n",
       "      <th>0</th>\n",
       "      <td>5104_SL_0001</td>\n",
       "      <td>1</td>\n",
       "      <td>15</td>\n",
       "      <td>232</td>\n",
       "      <td>15</td>\n",
       "      <td>0</td>\n",
       "      <td>0</td>\n",
       "      <td>0</td>\n",
       "      <td>0</td>\n",
       "      <td>0</td>\n",
       "      <td>...</td>\n",
       "      <td>0</td>\n",
       "      <td>1</td>\n",
       "      <td>16</td>\n",
       "      <td>1</td>\n",
       "      <td>0</td>\n",
       "      <td>2</td>\n",
       "      <td>19</td>\n",
       "      <td>0</td>\n",
       "      <td>0</td>\n",
       "      <td>0</td>\n",
       "    </tr>\n",
       "  </tbody>\n",
       "</table>\n",
       "<p>1 rows × 58782 columns</p>\n",
       "</div>"
      ],
      "text/plain": [
       "     HudAlphaID  DIAGNOSIS  ENSG00000223972.5  ENSG00000227232.5  \\\n",
       "0  5104_SL_0001          1                 15                232   \n",
       "\n",
       "   ENSG00000278267.1  ENSG00000243485.5  ENSG00000284332.1  ENSG00000237613.2  \\\n",
       "0                 15                  0                  0                  0   \n",
       "\n",
       "   ENSG00000268020.3  ENSG00000240361.2  ...  ENSG00000273739.1  \\\n",
       "0                  0                  0  ...                  0   \n",
       "\n",
       "   ENSG00000276700.1  ENSG00000276312.1  ENSG00000275757.1  ENSG00000278573.1  \\\n",
       "0                  1                 16                  1                  0   \n",
       "\n",
       "   ENSG00000276017.1  ENSG00000278817.1  ENSG00000277196.4  ENSG00000278625.1  \\\n",
       "0                  2                 19                  0                  0   \n",
       "\n",
       "   ENSG00000277374.1  \n",
       "0                  0  \n",
       "\n",
       "[1 rows x 58782 columns]"
      ]
     },
     "execution_count": 3,
     "metadata": {},
     "output_type": "execute_result"
    }
   ],
   "source": [
    "%cd S:\\PPMI_RNA\\Processed\n",
    "data = pd.read_csv('All_Counts_PatAndHealthy_Disease.csv')\n",
    "data['DIAGNOSIS'] = data['DIAGNOSIS'].replace({'PD': 1, 'Control': 0})\n",
    "data.head(1)"
   ]
  },
  {
   "cell_type": "code",
   "execution_count": 4,
   "id": "ee22df7a",
   "metadata": {
    "ExecuteTime": {
     "end_time": "2023-11-16T07:36:00.224640Z",
     "start_time": "2023-11-16T07:35:58.573639Z"
    }
   },
   "outputs": [
    {
     "name": "stdout",
     "output_type": "stream",
     "text": [
      "   DIAGNOSIS  ENSG00000223972.5  ENSG00000227232.5  ENSG00000278267.1  \\\n",
      "0          1                 15                232                 15   \n",
      "1          0                  2                199                 10   \n",
      "\n",
      "   ENSG00000243485.5  ENSG00000284332.1  ENSG00000237613.2  ENSG00000268020.3  \\\n",
      "0                  0                  0                  0                  0   \n",
      "1                  0                  0                  0                  0   \n",
      "\n",
      "   ENSG00000240361.2  ENSG00000186092.6  ...  ENSG00000273739.1  \\\n",
      "0                  0                  0  ...                  0   \n",
      "1                  1                  0  ...                  0   \n",
      "\n",
      "   ENSG00000276700.1  ENSG00000276312.1  ENSG00000275757.1  ENSG00000278573.1  \\\n",
      "0                  1                 16                  1                  0   \n",
      "1                  0                  2                  0                  0   \n",
      "\n",
      "   ENSG00000276017.1  ENSG00000278817.1  ENSG00000277196.4  ENSG00000278625.1  \\\n",
      "0                  2                 19                  0                  0   \n",
      "1                  0                  3                  0                  0   \n",
      "\n",
      "   ENSG00000277374.1  \n",
      "0                  0  \n",
      "1                  0  \n",
      "\n",
      "[2 rows x 58781 columns]\n"
     ]
    }
   ],
   "source": [
    "X = data.drop(['HudAlphaID'], axis = 1)\n",
    "y = data['DIAGNOSIS']\n",
    "X_train, X_test, y_train, y_test = train_test_split(X, y, test_size = .2, random_state = 1) \n",
    "print(X.head(2))"
   ]
  },
  {
   "cell_type": "code",
   "execution_count": 5,
   "id": "c1ee3e48",
   "metadata": {
    "ExecuteTime": {
     "end_time": "2023-11-16T07:36:20.559376Z",
     "start_time": "2023-11-16T07:36:07.112637Z"
    }
   },
   "outputs": [
    {
     "data": {
      "text/plain": [
       "RandomForestClassifier(random_state=1)"
      ]
     },
     "execution_count": 5,
     "metadata": {},
     "output_type": "execute_result"
    }
   ],
   "source": [
    "rf_all_features = RandomForestClassifier(random_state=1)\n",
    "rf_all_features.fit(X_train, y_train)"
   ]
  },
  {
   "cell_type": "code",
   "execution_count": 6,
   "id": "f17f8606",
   "metadata": {
    "ExecuteTime": {
     "end_time": "2023-11-16T07:36:22.477301Z",
     "start_time": "2023-11-16T07:36:22.080948Z"
    }
   },
   "outputs": [
    {
     "data": {
      "text/plain": [
       "0.7085308056872038"
      ]
     },
     "execution_count": 6,
     "metadata": {},
     "output_type": "execute_result"
    }
   ],
   "source": [
    "accuracy_score(y_test, rf_all_features.predict(X_test))"
   ]
  },
  {
   "cell_type": "code",
   "execution_count": 7,
   "id": "5ba608ac",
   "metadata": {
    "ExecuteTime": {
     "end_time": "2023-11-16T09:12:58.454575Z",
     "start_time": "2023-11-16T07:36:23.993302Z"
    },
    "scrolled": true
   },
   "outputs": [
    {
     "name": "stdout",
     "output_type": "stream",
     "text": [
      "Iteration: 1 / 100\n",
      "Iteration: 2 / 100\n",
      "Iteration: 3 / 100\n",
      "Iteration: 4 / 100\n",
      "Iteration: 5 / 100\n",
      "Iteration: 6 / 100\n",
      "Iteration: 7 / 100\n",
      "Iteration: 8 / 100\n",
      "Iteration: 9 / 100\n",
      "Iteration: 10 / 100\n",
      "Iteration: 11 / 100\n",
      "Iteration: 12 / 100\n",
      "Iteration: 13 / 100\n",
      "Iteration: 14 / 100\n",
      "Iteration: 15 / 100\n",
      "Iteration: 16 / 100\n",
      "Iteration: 17 / 100\n",
      "Iteration: 18 / 100\n",
      "Iteration: 19 / 100\n",
      "Iteration: 20 / 100\n",
      "Iteration: 21 / 100\n",
      "Iteration: 22 / 100\n",
      "Iteration: 23 / 100\n",
      "Iteration: 24 / 100\n",
      "Iteration: 25 / 100\n",
      "Iteration: 26 / 100\n",
      "Iteration: 27 / 100\n",
      "Iteration: 28 / 100\n",
      "Iteration: 29 / 100\n",
      "Iteration: 30 / 100\n",
      "Iteration: 31 / 100\n",
      "Iteration: 32 / 100\n",
      "Iteration: 33 / 100\n",
      "Iteration: 34 / 100\n",
      "Iteration: 35 / 100\n",
      "Iteration: 36 / 100\n",
      "Iteration: 37 / 100\n",
      "Iteration: 38 / 100\n",
      "Iteration: 39 / 100\n",
      "Iteration: 40 / 100\n",
      "Iteration: 41 / 100\n",
      "Iteration: 42 / 100\n",
      "Iteration: 43 / 100\n",
      "Iteration: 44 / 100\n",
      "Iteration: 45 / 100\n",
      "Iteration: 46 / 100\n",
      "Iteration: 47 / 100\n",
      "Iteration: 48 / 100\n",
      "Iteration: 49 / 100\n",
      "Iteration: 50 / 100\n",
      "Iteration: 51 / 100\n",
      "Iteration: 52 / 100\n",
      "Iteration: 53 / 100\n",
      "Iteration: 54 / 100\n",
      "Iteration: 55 / 100\n",
      "Iteration: 56 / 100\n",
      "Iteration: 57 / 100\n",
      "Iteration: 58 / 100\n",
      "Iteration: 59 / 100\n",
      "Iteration: 60 / 100\n",
      "Iteration: 61 / 100\n",
      "Iteration: 62 / 100\n",
      "Iteration: 63 / 100\n",
      "Iteration: 64 / 100\n",
      "Iteration: 65 / 100\n",
      "Iteration: 66 / 100\n",
      "Iteration: 67 / 100\n",
      "Iteration: 68 / 100\n",
      "Iteration: 69 / 100\n",
      "Iteration: 70 / 100\n",
      "Iteration: 71 / 100\n",
      "Iteration: 72 / 100\n",
      "Iteration: 73 / 100\n",
      "Iteration: 74 / 100\n",
      "Iteration: 75 / 100\n",
      "Iteration: 76 / 100\n",
      "Iteration: 77 / 100\n",
      "Iteration: 78 / 100\n",
      "Iteration: 79 / 100\n",
      "Iteration: 80 / 100\n",
      "Iteration: 81 / 100\n",
      "Iteration: 82 / 100\n",
      "Iteration: 83 / 100\n",
      "Iteration: 84 / 100\n",
      "Iteration: 85 / 100\n",
      "Iteration: 86 / 100\n",
      "Iteration: 87 / 100\n",
      "Iteration: 88 / 100\n",
      "Iteration: 89 / 100\n",
      "Iteration: 90 / 100\n",
      "Iteration: 91 / 100\n",
      "Iteration: 92 / 100\n",
      "Iteration: 93 / 100\n",
      "Iteration: 94 / 100\n",
      "Iteration: 95 / 100\n",
      "Iteration: 96 / 100\n",
      "Iteration: 97 / 100\n",
      "Iteration: 98 / 100\n",
      "Iteration: 99 / 100\n",
      "\n",
      "\n",
      "BorutaPy finished running.\n",
      "\n",
      "Iteration: \t100 / 100\n",
      "Confirmed: \t44\n",
      "Tentative: \t14\n",
      "Rejected: \t58700\n"
     ]
    },
    {
     "data": {
      "text/plain": [
       "BorutaPy(estimator=RandomForestClassifier(n_estimators=127,\n",
       "                                          random_state=RandomState(MT19937) at 0x240A3544340),\n",
       "         n_estimators='auto',\n",
       "         random_state=RandomState(MT19937) at 0x240A3544340, verbose=1)"
      ]
     },
     "execution_count": 7,
     "metadata": {},
     "output_type": "execute_result"
    }
   ],
   "source": [
    "rfc = RandomForestClassifier(random_state=1)\n",
    "boruta_selector = BorutaPy(rfc, n_estimators= 'auto', verbose=1, random_state=1)\n",
    "boruta_selector.fit(np.array(X_train), np.array(y_train))  "
   ]
  },
  {
   "cell_type": "code",
   "execution_count": 8,
   "id": "51f874e0",
   "metadata": {
    "ExecuteTime": {
     "end_time": "2023-11-16T09:13:00.524189Z",
     "start_time": "2023-11-16T09:13:00.511123Z"
    }
   },
   "outputs": [
    {
     "name": "stdout",
     "output_type": "stream",
     "text": [
      "No. of significant features:  44\n"
     ]
    }
   ],
   "source": [
    "# print(\"Ranking: \",boruta_selector.ranking_)          \n",
    "print(\"No. of significant features: \", boruta_selector.n_features_)"
   ]
  },
  {
   "cell_type": "code",
   "execution_count": 9,
   "id": "61cadc89",
   "metadata": {
    "ExecuteTime": {
     "end_time": "2023-11-16T09:13:02.031935Z",
     "start_time": "2023-11-16T09:13:02.002121Z"
    }
   },
   "outputs": [],
   "source": [
    "selected_rf_features = pd.DataFrame({'CpG':list(X_train.columns),\n",
    "                                       'Ranking':boruta_selector.ranking_})\n",
    "selected_rf_features = selected_rf_features.sort_values(by='Ranking')"
   ]
  },
  {
   "cell_type": "code",
   "execution_count": 10,
   "id": "6ae888ab",
   "metadata": {
    "ExecuteTime": {
     "end_time": "2023-11-16T09:13:03.517909Z",
     "start_time": "2023-11-16T09:13:03.503877Z"
    },
    "scrolled": true
   },
   "outputs": [
    {
     "data": {
      "text/html": [
       "<div>\n",
       "<style scoped>\n",
       "    .dataframe tbody tr th:only-of-type {\n",
       "        vertical-align: middle;\n",
       "    }\n",
       "\n",
       "    .dataframe tbody tr th {\n",
       "        vertical-align: top;\n",
       "    }\n",
       "\n",
       "    .dataframe thead th {\n",
       "        text-align: right;\n",
       "    }\n",
       "</style>\n",
       "<table border=\"1\" class=\"dataframe\">\n",
       "  <thead>\n",
       "    <tr style=\"text-align: right;\">\n",
       "      <th></th>\n",
       "      <th>CpG</th>\n",
       "      <th>Ranking</th>\n",
       "    </tr>\n",
       "  </thead>\n",
       "  <tbody>\n",
       "    <tr>\n",
       "      <th>0</th>\n",
       "      <td>DIAGNOSIS</td>\n",
       "      <td>1</td>\n",
       "    </tr>\n",
       "    <tr>\n",
       "      <th>14074</th>\n",
       "      <td>ENSG00000196159.11</td>\n",
       "      <td>1</td>\n",
       "    </tr>\n",
       "    <tr>\n",
       "      <th>17481</th>\n",
       "      <td>ENSG00000120129.5</td>\n",
       "      <td>1</td>\n",
       "    </tr>\n",
       "  </tbody>\n",
       "</table>\n",
       "</div>"
      ],
      "text/plain": [
       "                      CpG  Ranking\n",
       "0               DIAGNOSIS        1\n",
       "14074  ENSG00000196159.11        1\n",
       "17481   ENSG00000120129.5        1"
      ]
     },
     "execution_count": 10,
     "metadata": {},
     "output_type": "execute_result"
    }
   ],
   "source": [
    "Top50 = selected_rf_features.iloc[:51, :]\n",
    "Top50.head(3)"
   ]
  },
  {
   "cell_type": "markdown",
   "id": "a3aba4cb",
   "metadata": {},
   "source": [
    "### Top 50"
   ]
  },
  {
   "cell_type": "code",
   "execution_count": 11,
   "id": "9605e163",
   "metadata": {
    "ExecuteTime": {
     "end_time": "2023-11-16T09:13:05.187780Z",
     "start_time": "2023-11-16T09:13:04.998099Z"
    }
   },
   "outputs": [],
   "source": [
    "Top50.to_csv ('DEGs_Boruta_Top50_Male.csv', index = False)\n",
    "selected_rf_features.to_csv ('DEGs_Boruta_All.csv', index = False)"
   ]
  },
  {
   "cell_type": "code",
   "execution_count": 12,
   "id": "a5bc67f8",
   "metadata": {
    "ExecuteTime": {
     "end_time": "2023-11-16T09:13:07.616881Z",
     "start_time": "2023-11-16T09:13:06.670494Z"
    }
   },
   "outputs": [
    {
     "name": "stderr",
     "output_type": "stream",
     "text": [
      "C:\\Users\\system 4\\AppData\\Local\\Temp\\ipykernel_4932\\3456753518.py:6: SettingWithCopyWarning: \n",
      "A value is trying to be set on a copy of a slice from a DataFrame.\n",
      "Try using .loc[row_indexer,col_indexer] = value instead\n",
      "\n",
      "See the caveats in the documentation: https://pandas.pydata.org/pandas-docs/stable/user_guide/indexing.html#returning-a-view-versus-a-copy\n",
      "  df_subset['DIAGNOSIS'] = data['DIAGNOSIS']\n"
     ]
    },
    {
     "data": {
      "text/html": [
       "<div>\n",
       "<style scoped>\n",
       "    .dataframe tbody tr th:only-of-type {\n",
       "        vertical-align: middle;\n",
       "    }\n",
       "\n",
       "    .dataframe tbody tr th {\n",
       "        vertical-align: top;\n",
       "    }\n",
       "\n",
       "    .dataframe thead th {\n",
       "        text-align: right;\n",
       "    }\n",
       "</style>\n",
       "<table border=\"1\" class=\"dataframe\">\n",
       "  <thead>\n",
       "    <tr style=\"text-align: right;\">\n",
       "      <th></th>\n",
       "      <th>DIAGNOSIS</th>\n",
       "      <th>ENSG00000076864.19</th>\n",
       "      <th>ENSG00000057757.9</th>\n",
       "      <th>ENSG00000273136.6</th>\n",
       "      <th>ENSG00000281741.2</th>\n",
       "      <th>ENSG00000226067.6</th>\n",
       "      <th>ENSG00000143776.18</th>\n",
       "      <th>ENSG00000162722.8</th>\n",
       "      <th>ENSG00000185304.14</th>\n",
       "      <th>ENSG00000164047.4</th>\n",
       "      <th>...</th>\n",
       "      <th>ENSG00000268529.1</th>\n",
       "      <th>ENSG00000275719.1</th>\n",
       "      <th>ENSG00000130433.7</th>\n",
       "      <th>ENSG00000189068.10</th>\n",
       "      <th>ENSG00000105048.16</th>\n",
       "      <th>ENSG00000124256.14</th>\n",
       "      <th>ENSG00000092758.17</th>\n",
       "      <th>ENSG00000100079.6</th>\n",
       "      <th>ENSG00000189060.5</th>\n",
       "      <th>ENSG00000100116.16</th>\n",
       "    </tr>\n",
       "  </thead>\n",
       "  <tbody>\n",
       "    <tr>\n",
       "      <th>0</th>\n",
       "      <td>1</td>\n",
       "      <td>1653</td>\n",
       "      <td>12244</td>\n",
       "      <td>2592</td>\n",
       "      <td>88</td>\n",
       "      <td>776</td>\n",
       "      <td>958</td>\n",
       "      <td>53364</td>\n",
       "      <td>113</td>\n",
       "      <td>526</td>\n",
       "      <td>...</td>\n",
       "      <td>7</td>\n",
       "      <td>74</td>\n",
       "      <td>42</td>\n",
       "      <td>96</td>\n",
       "      <td>181</td>\n",
       "      <td>2715</td>\n",
       "      <td>122</td>\n",
       "      <td>558</td>\n",
       "      <td>1149</td>\n",
       "      <td>278</td>\n",
       "    </tr>\n",
       "    <tr>\n",
       "      <th>1</th>\n",
       "      <td>0</td>\n",
       "      <td>27</td>\n",
       "      <td>7505</td>\n",
       "      <td>3645</td>\n",
       "      <td>58</td>\n",
       "      <td>464</td>\n",
       "      <td>513</td>\n",
       "      <td>15444</td>\n",
       "      <td>365</td>\n",
       "      <td>448</td>\n",
       "      <td>...</td>\n",
       "      <td>7</td>\n",
       "      <td>36</td>\n",
       "      <td>20</td>\n",
       "      <td>366</td>\n",
       "      <td>109</td>\n",
       "      <td>1999</td>\n",
       "      <td>175</td>\n",
       "      <td>969</td>\n",
       "      <td>1331</td>\n",
       "      <td>203</td>\n",
       "    </tr>\n",
       "  </tbody>\n",
       "</table>\n",
       "<p>2 rows × 51 columns</p>\n",
       "</div>"
      ],
      "text/plain": [
       "   DIAGNOSIS  ENSG00000076864.19  ENSG00000057757.9  ENSG00000273136.6  \\\n",
       "0          1                1653              12244               2592   \n",
       "1          0                  27               7505               3645   \n",
       "\n",
       "   ENSG00000281741.2  ENSG00000226067.6  ENSG00000143776.18  \\\n",
       "0                 88                776                 958   \n",
       "1                 58                464                 513   \n",
       "\n",
       "   ENSG00000162722.8  ENSG00000185304.14  ENSG00000164047.4  ...  \\\n",
       "0              53364                 113                526  ...   \n",
       "1              15444                 365                448  ...   \n",
       "\n",
       "   ENSG00000268529.1  ENSG00000275719.1  ENSG00000130433.7  \\\n",
       "0                  7                 74                 42   \n",
       "1                  7                 36                 20   \n",
       "\n",
       "   ENSG00000189068.10  ENSG00000105048.16  ENSG00000124256.14  \\\n",
       "0                  96                 181                2715   \n",
       "1                 366                 109                1999   \n",
       "\n",
       "   ENSG00000092758.17  ENSG00000100079.6  ENSG00000189060.5  \\\n",
       "0                 122                558               1149   \n",
       "1                 175                969               1331   \n",
       "\n",
       "   ENSG00000100116.16  \n",
       "0                 278  \n",
       "1                 203  \n",
       "\n",
       "[2 rows x 51 columns]"
      ]
     },
     "execution_count": 12,
     "metadata": {},
     "output_type": "execute_result"
    }
   ],
   "source": [
    "# create a list of column names to subset from data\n",
    "col_names = Top50.iloc[:, 0].tolist()\n",
    "\n",
    "# subset df based on the column names\n",
    "df_subset = data.loc[:, data.columns.isin(col_names)]\n",
    "df_subset['DIAGNOSIS'] = data['DIAGNOSIS']\n",
    "df_subset.to_csv ('DEGs_Boruta_Top50_Data.csv', index = False)\n",
    "df_subset.head(2)"
   ]
  },
  {
   "cell_type": "markdown",
   "id": "02af7ae1",
   "metadata": {},
   "source": [
    "### Top 100"
   ]
  },
  {
   "cell_type": "code",
   "execution_count": 13,
   "id": "d2bf41f3",
   "metadata": {
    "ExecuteTime": {
     "end_time": "2023-11-16T09:13:10.738866Z",
     "start_time": "2023-11-16T09:13:10.724814Z"
    }
   },
   "outputs": [
    {
     "data": {
      "text/html": [
       "<div>\n",
       "<style scoped>\n",
       "    .dataframe tbody tr th:only-of-type {\n",
       "        vertical-align: middle;\n",
       "    }\n",
       "\n",
       "    .dataframe tbody tr th {\n",
       "        vertical-align: top;\n",
       "    }\n",
       "\n",
       "    .dataframe thead th {\n",
       "        text-align: right;\n",
       "    }\n",
       "</style>\n",
       "<table border=\"1\" class=\"dataframe\">\n",
       "  <thead>\n",
       "    <tr style=\"text-align: right;\">\n",
       "      <th></th>\n",
       "      <th>CpG</th>\n",
       "      <th>Ranking</th>\n",
       "    </tr>\n",
       "  </thead>\n",
       "  <tbody>\n",
       "    <tr>\n",
       "      <th>0</th>\n",
       "      <td>DIAGNOSIS</td>\n",
       "      <td>1</td>\n",
       "    </tr>\n",
       "    <tr>\n",
       "      <th>14074</th>\n",
       "      <td>ENSG00000196159.11</td>\n",
       "      <td>1</td>\n",
       "    </tr>\n",
       "  </tbody>\n",
       "</table>\n",
       "</div>"
      ],
      "text/plain": [
       "                      CpG  Ranking\n",
       "0               DIAGNOSIS        1\n",
       "14074  ENSG00000196159.11        1"
      ]
     },
     "execution_count": 13,
     "metadata": {},
     "output_type": "execute_result"
    }
   ],
   "source": [
    "Top100 = selected_rf_features.iloc[:101, :]\n",
    "Top100.to_csv ('DEGs_Boruta_Top100.csv', index = False)\n",
    "Top100.head(2)"
   ]
  },
  {
   "cell_type": "code",
   "execution_count": 14,
   "id": "bd596750",
   "metadata": {
    "ExecuteTime": {
     "end_time": "2023-11-16T09:13:12.305210Z",
     "start_time": "2023-11-16T09:13:12.228520Z"
    }
   },
   "outputs": [
    {
     "name": "stderr",
     "output_type": "stream",
     "text": [
      "C:\\Users\\system 4\\AppData\\Local\\Temp\\ipykernel_4932\\2083121888.py:6: SettingWithCopyWarning: \n",
      "A value is trying to be set on a copy of a slice from a DataFrame.\n",
      "Try using .loc[row_indexer,col_indexer] = value instead\n",
      "\n",
      "See the caveats in the documentation: https://pandas.pydata.org/pandas-docs/stable/user_guide/indexing.html#returning-a-view-versus-a-copy\n",
      "  df_subset['DIAGNOSIS'] = data['DIAGNOSIS']\n"
     ]
    },
    {
     "data": {
      "text/html": [
       "<div>\n",
       "<style scoped>\n",
       "    .dataframe tbody tr th:only-of-type {\n",
       "        vertical-align: middle;\n",
       "    }\n",
       "\n",
       "    .dataframe tbody tr th {\n",
       "        vertical-align: top;\n",
       "    }\n",
       "\n",
       "    .dataframe thead th {\n",
       "        text-align: right;\n",
       "    }\n",
       "</style>\n",
       "<table border=\"1\" class=\"dataframe\">\n",
       "  <thead>\n",
       "    <tr style=\"text-align: right;\">\n",
       "      <th></th>\n",
       "      <th>DIAGNOSIS</th>\n",
       "      <th>ENSG00000189337.16</th>\n",
       "      <th>ENSG00000076864.19</th>\n",
       "      <th>ENSG00000057757.9</th>\n",
       "      <th>ENSG00000187010.20</th>\n",
       "      <th>ENSG00000159023.21</th>\n",
       "      <th>ENSG00000222112.1</th>\n",
       "      <th>ENSG00000273136.6</th>\n",
       "      <th>ENSG00000281741.2</th>\n",
       "      <th>ENSG00000226067.6</th>\n",
       "      <th>...</th>\n",
       "      <th>ENSG00000105048.16</th>\n",
       "      <th>ENSG00000100985.7</th>\n",
       "      <th>ENSG00000124256.14</th>\n",
       "      <th>ENSG00000092758.17</th>\n",
       "      <th>ENSG00000254709.7</th>\n",
       "      <th>ENSG00000100079.6</th>\n",
       "      <th>ENSG00000189060.5</th>\n",
       "      <th>ENSG00000100116.16</th>\n",
       "      <th>ENSG00000238222.3</th>\n",
       "      <th>ENSG00000157514.16</th>\n",
       "    </tr>\n",
       "  </thead>\n",
       "  <tbody>\n",
       "    <tr>\n",
       "      <th>0</th>\n",
       "      <td>1</td>\n",
       "      <td>359</td>\n",
       "      <td>1653</td>\n",
       "      <td>12244</td>\n",
       "      <td>9</td>\n",
       "      <td>147789</td>\n",
       "      <td>544</td>\n",
       "      <td>2592</td>\n",
       "      <td>88</td>\n",
       "      <td>776</td>\n",
       "      <td>...</td>\n",
       "      <td>181</td>\n",
       "      <td>664</td>\n",
       "      <td>2715</td>\n",
       "      <td>122</td>\n",
       "      <td>162</td>\n",
       "      <td>558</td>\n",
       "      <td>1149</td>\n",
       "      <td>278</td>\n",
       "      <td>26</td>\n",
       "      <td>7394</td>\n",
       "    </tr>\n",
       "    <tr>\n",
       "      <th>1</th>\n",
       "      <td>0</td>\n",
       "      <td>157</td>\n",
       "      <td>27</td>\n",
       "      <td>7505</td>\n",
       "      <td>174</td>\n",
       "      <td>55654</td>\n",
       "      <td>526</td>\n",
       "      <td>3645</td>\n",
       "      <td>58</td>\n",
       "      <td>464</td>\n",
       "      <td>...</td>\n",
       "      <td>109</td>\n",
       "      <td>581</td>\n",
       "      <td>1999</td>\n",
       "      <td>175</td>\n",
       "      <td>251</td>\n",
       "      <td>969</td>\n",
       "      <td>1331</td>\n",
       "      <td>203</td>\n",
       "      <td>5</td>\n",
       "      <td>8233</td>\n",
       "    </tr>\n",
       "  </tbody>\n",
       "</table>\n",
       "<p>2 rows × 101 columns</p>\n",
       "</div>"
      ],
      "text/plain": [
       "   DIAGNOSIS  ENSG00000189337.16  ENSG00000076864.19  ENSG00000057757.9  \\\n",
       "0          1                 359                1653              12244   \n",
       "1          0                 157                  27               7505   \n",
       "\n",
       "   ENSG00000187010.20  ENSG00000159023.21  ENSG00000222112.1  \\\n",
       "0                   9              147789                544   \n",
       "1                 174               55654                526   \n",
       "\n",
       "   ENSG00000273136.6  ENSG00000281741.2  ENSG00000226067.6  ...  \\\n",
       "0               2592                 88                776  ...   \n",
       "1               3645                 58                464  ...   \n",
       "\n",
       "   ENSG00000105048.16  ENSG00000100985.7  ENSG00000124256.14  \\\n",
       "0                 181                664                2715   \n",
       "1                 109                581                1999   \n",
       "\n",
       "   ENSG00000092758.17  ENSG00000254709.7  ENSG00000100079.6  \\\n",
       "0                 122                162                558   \n",
       "1                 175                251                969   \n",
       "\n",
       "   ENSG00000189060.5  ENSG00000100116.16  ENSG00000238222.3  \\\n",
       "0               1149                 278                 26   \n",
       "1               1331                 203                  5   \n",
       "\n",
       "   ENSG00000157514.16  \n",
       "0                7394  \n",
       "1                8233  \n",
       "\n",
       "[2 rows x 101 columns]"
      ]
     },
     "execution_count": 14,
     "metadata": {},
     "output_type": "execute_result"
    }
   ],
   "source": [
    "# create a list of column names to subset from data\n",
    "col_names = Top100.iloc[:, 0].tolist()\n",
    "\n",
    "# subset df based on the column names\n",
    "df_subset = data.loc[:, data.columns.isin(col_names)]\n",
    "df_subset['DIAGNOSIS'] = data['DIAGNOSIS']\n",
    "df_subset.to_csv ('DEGs_Boruta_Top100_Data.csv', index = False)\n",
    "df_subset.head(2)"
   ]
  },
  {
   "cell_type": "markdown",
   "id": "da0416bc",
   "metadata": {},
   "source": [
    "### Top 250"
   ]
  },
  {
   "cell_type": "code",
   "execution_count": 15,
   "id": "876e2345",
   "metadata": {
    "ExecuteTime": {
     "end_time": "2023-11-16T09:13:13.802891Z",
     "start_time": "2023-11-16T09:13:13.789891Z"
    }
   },
   "outputs": [
    {
     "data": {
      "text/html": [
       "<div>\n",
       "<style scoped>\n",
       "    .dataframe tbody tr th:only-of-type {\n",
       "        vertical-align: middle;\n",
       "    }\n",
       "\n",
       "    .dataframe tbody tr th {\n",
       "        vertical-align: top;\n",
       "    }\n",
       "\n",
       "    .dataframe thead th {\n",
       "        text-align: right;\n",
       "    }\n",
       "</style>\n",
       "<table border=\"1\" class=\"dataframe\">\n",
       "  <thead>\n",
       "    <tr style=\"text-align: right;\">\n",
       "      <th></th>\n",
       "      <th>CpG</th>\n",
       "      <th>Ranking</th>\n",
       "    </tr>\n",
       "  </thead>\n",
       "  <tbody>\n",
       "    <tr>\n",
       "      <th>0</th>\n",
       "      <td>DIAGNOSIS</td>\n",
       "      <td>1</td>\n",
       "    </tr>\n",
       "    <tr>\n",
       "      <th>14074</th>\n",
       "      <td>ENSG00000196159.11</td>\n",
       "      <td>1</td>\n",
       "    </tr>\n",
       "  </tbody>\n",
       "</table>\n",
       "</div>"
      ],
      "text/plain": [
       "                      CpG  Ranking\n",
       "0               DIAGNOSIS        1\n",
       "14074  ENSG00000196159.11        1"
      ]
     },
     "execution_count": 15,
     "metadata": {},
     "output_type": "execute_result"
    }
   ],
   "source": [
    "Top250 = selected_rf_features.iloc[:251, :]\n",
    "Top250.to_csv ('DEGs_Boruta_Top250.csv', index = False)\n",
    "Top250.head(2)"
   ]
  },
  {
   "cell_type": "code",
   "execution_count": 16,
   "id": "72fbf0a1",
   "metadata": {
    "ExecuteTime": {
     "end_time": "2023-11-16T09:13:15.466065Z",
     "start_time": "2023-11-16T09:13:15.279064Z"
    }
   },
   "outputs": [
    {
     "name": "stderr",
     "output_type": "stream",
     "text": [
      "C:\\Users\\system 4\\AppData\\Local\\Temp\\ipykernel_4932\\3768863930.py:6: SettingWithCopyWarning: \n",
      "A value is trying to be set on a copy of a slice from a DataFrame.\n",
      "Try using .loc[row_indexer,col_indexer] = value instead\n",
      "\n",
      "See the caveats in the documentation: https://pandas.pydata.org/pandas-docs/stable/user_guide/indexing.html#returning-a-view-versus-a-copy\n",
      "  df_subset['DIAGNOSIS'] = data['DIAGNOSIS']\n"
     ]
    },
    {
     "data": {
      "text/html": [
       "<div>\n",
       "<style scoped>\n",
       "    .dataframe tbody tr th:only-of-type {\n",
       "        vertical-align: middle;\n",
       "    }\n",
       "\n",
       "    .dataframe tbody tr th {\n",
       "        vertical-align: top;\n",
       "    }\n",
       "\n",
       "    .dataframe thead th {\n",
       "        text-align: right;\n",
       "    }\n",
       "</style>\n",
       "<table border=\"1\" class=\"dataframe\">\n",
       "  <thead>\n",
       "    <tr style=\"text-align: right;\">\n",
       "      <th></th>\n",
       "      <th>DIAGNOSIS</th>\n",
       "      <th>ENSG00000189337.16</th>\n",
       "      <th>ENSG00000117115.12</th>\n",
       "      <th>ENSG00000076864.19</th>\n",
       "      <th>ENSG00000007968.6</th>\n",
       "      <th>ENSG00000057757.9</th>\n",
       "      <th>ENSG00000187010.20</th>\n",
       "      <th>ENSG00000159023.21</th>\n",
       "      <th>ENSG00000134686.18</th>\n",
       "      <th>ENSG00000222112.1</th>\n",
       "      <th>...</th>\n",
       "      <th>ENSG00000189060.5</th>\n",
       "      <th>ENSG00000100116.16</th>\n",
       "      <th>ENSG00000047597.6</th>\n",
       "      <th>ENSG00000238222.3</th>\n",
       "      <th>ENSG00000102145.13</th>\n",
       "      <th>ENSG00000102349.17</th>\n",
       "      <th>ENSG00000184481.16</th>\n",
       "      <th>ENSG00000157514.16</th>\n",
       "      <th>ENSG00000130830.14</th>\n",
       "      <th>ENSG00000155962.12</th>\n",
       "    </tr>\n",
       "  </thead>\n",
       "  <tbody>\n",
       "    <tr>\n",
       "      <th>0</th>\n",
       "      <td>1</td>\n",
       "      <td>359</td>\n",
       "      <td>1679</td>\n",
       "      <td>1653</td>\n",
       "      <td>4105</td>\n",
       "      <td>12244</td>\n",
       "      <td>9</td>\n",
       "      <td>147789</td>\n",
       "      <td>3026</td>\n",
       "      <td>544</td>\n",
       "      <td>...</td>\n",
       "      <td>1149</td>\n",
       "      <td>278</td>\n",
       "      <td>8170</td>\n",
       "      <td>26</td>\n",
       "      <td>1826</td>\n",
       "      <td>321</td>\n",
       "      <td>10949</td>\n",
       "      <td>7394</td>\n",
       "      <td>25655</td>\n",
       "      <td>492</td>\n",
       "    </tr>\n",
       "    <tr>\n",
       "      <th>1</th>\n",
       "      <td>0</td>\n",
       "      <td>157</td>\n",
       "      <td>1745</td>\n",
       "      <td>27</td>\n",
       "      <td>1484</td>\n",
       "      <td>7505</td>\n",
       "      <td>174</td>\n",
       "      <td>55654</td>\n",
       "      <td>2778</td>\n",
       "      <td>526</td>\n",
       "      <td>...</td>\n",
       "      <td>1331</td>\n",
       "      <td>203</td>\n",
       "      <td>3354</td>\n",
       "      <td>5</td>\n",
       "      <td>624</td>\n",
       "      <td>333</td>\n",
       "      <td>3016</td>\n",
       "      <td>8233</td>\n",
       "      <td>14195</td>\n",
       "      <td>477</td>\n",
       "    </tr>\n",
       "  </tbody>\n",
       "</table>\n",
       "<p>2 rows × 251 columns</p>\n",
       "</div>"
      ],
      "text/plain": [
       "   DIAGNOSIS  ENSG00000189337.16  ENSG00000117115.12  ENSG00000076864.19  \\\n",
       "0          1                 359                1679                1653   \n",
       "1          0                 157                1745                  27   \n",
       "\n",
       "   ENSG00000007968.6  ENSG00000057757.9  ENSG00000187010.20  \\\n",
       "0               4105              12244                   9   \n",
       "1               1484               7505                 174   \n",
       "\n",
       "   ENSG00000159023.21  ENSG00000134686.18  ENSG00000222112.1  ...  \\\n",
       "0              147789                3026                544  ...   \n",
       "1               55654                2778                526  ...   \n",
       "\n",
       "   ENSG00000189060.5  ENSG00000100116.16  ENSG00000047597.6  \\\n",
       "0               1149                 278               8170   \n",
       "1               1331                 203               3354   \n",
       "\n",
       "   ENSG00000238222.3  ENSG00000102145.13  ENSG00000102349.17  \\\n",
       "0                 26                1826                 321   \n",
       "1                  5                 624                 333   \n",
       "\n",
       "   ENSG00000184481.16  ENSG00000157514.16  ENSG00000130830.14  \\\n",
       "0               10949                7394               25655   \n",
       "1                3016                8233               14195   \n",
       "\n",
       "   ENSG00000155962.12  \n",
       "0                 492  \n",
       "1                 477  \n",
       "\n",
       "[2 rows x 251 columns]"
      ]
     },
     "execution_count": 16,
     "metadata": {},
     "output_type": "execute_result"
    }
   ],
   "source": [
    "# create a list of column names to subset from data\n",
    "col_names = Top250.iloc[:, 0].tolist()\n",
    "\n",
    "# subset df based on the column names\n",
    "df_subset = data.loc[:, data.columns.isin(col_names)]\n",
    "df_subset['DIAGNOSIS'] = data['DIAGNOSIS']\n",
    "df_subset.to_csv ('DEGs_Boruta_Top250_Data.csv', index = False)\n",
    "df_subset.head(2)"
   ]
  },
  {
   "cell_type": "markdown",
   "id": "ec242d27",
   "metadata": {},
   "source": [
    "### Top 500"
   ]
  },
  {
   "cell_type": "code",
   "execution_count": 17,
   "id": "380a31d7",
   "metadata": {
    "ExecuteTime": {
     "end_time": "2023-11-16T09:13:16.977121Z",
     "start_time": "2023-11-16T09:13:16.963065Z"
    }
   },
   "outputs": [
    {
     "data": {
      "text/html": [
       "<div>\n",
       "<style scoped>\n",
       "    .dataframe tbody tr th:only-of-type {\n",
       "        vertical-align: middle;\n",
       "    }\n",
       "\n",
       "    .dataframe tbody tr th {\n",
       "        vertical-align: top;\n",
       "    }\n",
       "\n",
       "    .dataframe thead th {\n",
       "        text-align: right;\n",
       "    }\n",
       "</style>\n",
       "<table border=\"1\" class=\"dataframe\">\n",
       "  <thead>\n",
       "    <tr style=\"text-align: right;\">\n",
       "      <th></th>\n",
       "      <th>CpG</th>\n",
       "      <th>Ranking</th>\n",
       "    </tr>\n",
       "  </thead>\n",
       "  <tbody>\n",
       "    <tr>\n",
       "      <th>0</th>\n",
       "      <td>DIAGNOSIS</td>\n",
       "      <td>1</td>\n",
       "    </tr>\n",
       "    <tr>\n",
       "      <th>14074</th>\n",
       "      <td>ENSG00000196159.11</td>\n",
       "      <td>1</td>\n",
       "    </tr>\n",
       "  </tbody>\n",
       "</table>\n",
       "</div>"
      ],
      "text/plain": [
       "                      CpG  Ranking\n",
       "0               DIAGNOSIS        1\n",
       "14074  ENSG00000196159.11        1"
      ]
     },
     "execution_count": 17,
     "metadata": {},
     "output_type": "execute_result"
    }
   ],
   "source": [
    "Top500 = selected_rf_features.iloc[:501, :]\n",
    "Top500.to_csv ('DEGs_Boruta_Top500.csv', index = False)\n",
    "Top500.head(2)"
   ]
  },
  {
   "cell_type": "code",
   "execution_count": 18,
   "id": "5956b562",
   "metadata": {
    "ExecuteTime": {
     "end_time": "2023-11-16T09:13:18.827096Z",
     "start_time": "2023-11-16T09:13:18.497067Z"
    }
   },
   "outputs": [
    {
     "name": "stderr",
     "output_type": "stream",
     "text": [
      "C:\\Users\\system 4\\AppData\\Local\\Temp\\ipykernel_4932\\3667433340.py:6: SettingWithCopyWarning: \n",
      "A value is trying to be set on a copy of a slice from a DataFrame.\n",
      "Try using .loc[row_indexer,col_indexer] = value instead\n",
      "\n",
      "See the caveats in the documentation: https://pandas.pydata.org/pandas-docs/stable/user_guide/indexing.html#returning-a-view-versus-a-copy\n",
      "  df_subset['DIAGNOSIS'] = data['DIAGNOSIS']\n"
     ]
    },
    {
     "data": {
      "text/html": [
       "<div>\n",
       "<style scoped>\n",
       "    .dataframe tbody tr th:only-of-type {\n",
       "        vertical-align: middle;\n",
       "    }\n",
       "\n",
       "    .dataframe tbody tr th {\n",
       "        vertical-align: top;\n",
       "    }\n",
       "\n",
       "    .dataframe thead th {\n",
       "        text-align: right;\n",
       "    }\n",
       "</style>\n",
       "<table border=\"1\" class=\"dataframe\">\n",
       "  <thead>\n",
       "    <tr style=\"text-align: right;\">\n",
       "      <th></th>\n",
       "      <th>DIAGNOSIS</th>\n",
       "      <th>ENSG00000162413.16</th>\n",
       "      <th>ENSG00000189337.16</th>\n",
       "      <th>ENSG00000117115.12</th>\n",
       "      <th>ENSG00000158825.5</th>\n",
       "      <th>ENSG00000076864.19</th>\n",
       "      <th>ENSG00000007968.6</th>\n",
       "      <th>ENSG00000057757.9</th>\n",
       "      <th>ENSG00000187010.20</th>\n",
       "      <th>ENSG00000158156.7</th>\n",
       "      <th>...</th>\n",
       "      <th>ENSG00000158578.20</th>\n",
       "      <th>ENSG00000102349.17</th>\n",
       "      <th>ENSG00000184481.16</th>\n",
       "      <th>ENSG00000198088.10</th>\n",
       "      <th>ENSG00000157514.16</th>\n",
       "      <th>ENSG00000076770.14</th>\n",
       "      <th>ENSG00000233093.5</th>\n",
       "      <th>ENSG00000130830.14</th>\n",
       "      <th>ENSG00000155962.12</th>\n",
       "      <th>ENSG00000278384.1</th>\n",
       "    </tr>\n",
       "  </thead>\n",
       "  <tbody>\n",
       "    <tr>\n",
       "      <th>0</th>\n",
       "      <td>1</td>\n",
       "      <td>2852</td>\n",
       "      <td>359</td>\n",
       "      <td>1679</td>\n",
       "      <td>825</td>\n",
       "      <td>1653</td>\n",
       "      <td>4105</td>\n",
       "      <td>12244</td>\n",
       "      <td>9</td>\n",
       "      <td>947</td>\n",
       "      <td>...</td>\n",
       "      <td>157363</td>\n",
       "      <td>321</td>\n",
       "      <td>10949</td>\n",
       "      <td>77</td>\n",
       "      <td>7394</td>\n",
       "      <td>49525</td>\n",
       "      <td>111</td>\n",
       "      <td>25655</td>\n",
       "      <td>492</td>\n",
       "      <td>409</td>\n",
       "    </tr>\n",
       "    <tr>\n",
       "      <th>1</th>\n",
       "      <td>0</td>\n",
       "      <td>2776</td>\n",
       "      <td>157</td>\n",
       "      <td>1745</td>\n",
       "      <td>529</td>\n",
       "      <td>27</td>\n",
       "      <td>1484</td>\n",
       "      <td>7505</td>\n",
       "      <td>174</td>\n",
       "      <td>934</td>\n",
       "      <td>...</td>\n",
       "      <td>92908</td>\n",
       "      <td>333</td>\n",
       "      <td>3016</td>\n",
       "      <td>82</td>\n",
       "      <td>8233</td>\n",
       "      <td>35787</td>\n",
       "      <td>79</td>\n",
       "      <td>14195</td>\n",
       "      <td>477</td>\n",
       "      <td>124</td>\n",
       "    </tr>\n",
       "  </tbody>\n",
       "</table>\n",
       "<p>2 rows × 501 columns</p>\n",
       "</div>"
      ],
      "text/plain": [
       "   DIAGNOSIS  ENSG00000162413.16  ENSG00000189337.16  ENSG00000117115.12  \\\n",
       "0          1                2852                 359                1679   \n",
       "1          0                2776                 157                1745   \n",
       "\n",
       "   ENSG00000158825.5  ENSG00000076864.19  ENSG00000007968.6  \\\n",
       "0                825                1653               4105   \n",
       "1                529                  27               1484   \n",
       "\n",
       "   ENSG00000057757.9  ENSG00000187010.20  ENSG00000158156.7  ...  \\\n",
       "0              12244                   9                947  ...   \n",
       "1               7505                 174                934  ...   \n",
       "\n",
       "   ENSG00000158578.20  ENSG00000102349.17  ENSG00000184481.16  \\\n",
       "0              157363                 321               10949   \n",
       "1               92908                 333                3016   \n",
       "\n",
       "   ENSG00000198088.10  ENSG00000157514.16  ENSG00000076770.14  \\\n",
       "0                  77                7394               49525   \n",
       "1                  82                8233               35787   \n",
       "\n",
       "   ENSG00000233093.5  ENSG00000130830.14  ENSG00000155962.12  \\\n",
       "0                111               25655                 492   \n",
       "1                 79               14195                 477   \n",
       "\n",
       "   ENSG00000278384.1  \n",
       "0                409  \n",
       "1                124  \n",
       "\n",
       "[2 rows x 501 columns]"
      ]
     },
     "execution_count": 18,
     "metadata": {},
     "output_type": "execute_result"
    }
   ],
   "source": [
    "# create a list of column names to subset from data\n",
    "col_names = Top500.iloc[:, 0].tolist()\n",
    "\n",
    "# subset df based on the column names\n",
    "df_subset = data.loc[:, data.columns.isin(col_names)]\n",
    "df_subset['DIAGNOSIS'] = data['DIAGNOSIS']\n",
    "df_subset.to_csv ('DEGs_Boruta_Top500_Data.csv', index = False)\n",
    "df_subset.head(2)"
   ]
  },
  {
   "cell_type": "markdown",
   "id": "59810b00",
   "metadata": {},
   "source": []
  }
 ],
 "metadata": {
  "kernelspec": {
   "display_name": "Python 3 (ipykernel)",
   "language": "python",
   "name": "python3"
  },
  "language_info": {
   "codemirror_mode": {
    "name": "ipython",
    "version": 3
   },
   "file_extension": ".py",
   "mimetype": "text/x-python",
   "name": "python",
   "nbconvert_exporter": "python",
   "pygments_lexer": "ipython3",
   "version": "3.9.16"
  },
  "toc": {
   "base_numbering": 1,
   "nav_menu": {},
   "number_sections": true,
   "sideBar": true,
   "skip_h1_title": false,
   "title_cell": "Table of Contents",
   "title_sidebar": "Contents",
   "toc_cell": false,
   "toc_position": {},
   "toc_section_display": true,
   "toc_window_display": false
  },
  "varInspector": {
   "cols": {
    "lenName": 16,
    "lenType": 16,
    "lenVar": 40
   },
   "kernels_config": {
    "python": {
     "delete_cmd_postfix": "",
     "delete_cmd_prefix": "del ",
     "library": "var_list.py",
     "varRefreshCmd": "print(var_dic_list())"
    },
    "r": {
     "delete_cmd_postfix": ") ",
     "delete_cmd_prefix": "rm(",
     "library": "var_list.r",
     "varRefreshCmd": "cat(var_dic_list()) "
    }
   },
   "types_to_exclude": [
    "module",
    "function",
    "builtin_function_or_method",
    "instance",
    "_Feature"
   ],
   "window_display": false
  }
 },
 "nbformat": 4,
 "nbformat_minor": 5
}
