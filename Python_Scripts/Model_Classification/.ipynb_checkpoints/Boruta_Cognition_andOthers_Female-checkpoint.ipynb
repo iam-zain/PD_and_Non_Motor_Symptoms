{
 "cells": [
  {
   "cell_type": "code",
   "execution_count": 1,
   "id": "51c5704f",
   "metadata": {
    "ExecuteTime": {
     "end_time": "2023-02-20T12:24:06.970066Z",
     "start_time": "2023-02-20T12:24:05.242884Z"
    }
   },
   "outputs": [],
   "source": [
    "import numpy as np\n",
    "import pandas as pd\n",
    "from boruta import BorutaPy\n",
    "from sklearn.datasets import load_diabetes\n",
    "from sklearn.metrics import accuracy_score \n",
    "from sklearn.ensemble import RandomForestRegressor\n",
    "from sklearn.ensemble import RandomForestClassifier\n",
    "from sklearn.model_selection import train_test_split"
   ]
  },
  {
   "cell_type": "markdown",
   "id": "37463811",
   "metadata": {},
   "source": [
    "# Cognition"
   ]
  },
  {
   "cell_type": "code",
   "execution_count": 2,
   "id": "56b33c49",
   "metadata": {
    "ExecuteTime": {
     "end_time": "2023-02-20T12:25:12.591613Z",
     "start_time": "2023-02-20T12:24:06.972087Z"
    }
   },
   "outputs": [
    {
     "name": "stdout",
     "output_type": "stream",
     "text": [
      "Z:\\PPMI_Data\\Excels\\NonMotors\\Derived250\\Female\\GeneCpG\\Cognition\n"
     ]
    },
    {
     "data": {
      "text/html": [
       "<div>\n",
       "<style scoped>\n",
       "    .dataframe tbody tr th:only-of-type {\n",
       "        vertical-align: middle;\n",
       "    }\n",
       "\n",
       "    .dataframe tbody tr th {\n",
       "        vertical-align: top;\n",
       "    }\n",
       "\n",
       "    .dataframe thead th {\n",
       "        text-align: right;\n",
       "    }\n",
       "</style>\n",
       "<table border=\"1\" class=\"dataframe\">\n",
       "  <thead>\n",
       "    <tr style=\"text-align: right;\">\n",
       "      <th></th>\n",
       "      <th>Unnamed: 0</th>\n",
       "      <th>Sentrix</th>\n",
       "      <th>PATNO</th>\n",
       "      <th>HYS</th>\n",
       "      <th>Gender</th>\n",
       "      <th>APPRDX</th>\n",
       "      <th>Montreal_Cognitive</th>\n",
       "      <th>cg08012045</th>\n",
       "      <th>cg08300930</th>\n",
       "      <th>cg00134295</th>\n",
       "      <th>...</th>\n",
       "      <th>cg10054014</th>\n",
       "      <th>cg15364874</th>\n",
       "      <th>cg06622006</th>\n",
       "      <th>cg22071811</th>\n",
       "      <th>cg24960706</th>\n",
       "      <th>cg06917935</th>\n",
       "      <th>cg02794319</th>\n",
       "      <th>cg10702286</th>\n",
       "      <th>cg10353174</th>\n",
       "      <th>cg19590050</th>\n",
       "    </tr>\n",
       "  </thead>\n",
       "  <tbody>\n",
       "    <tr>\n",
       "      <th>0</th>\n",
       "      <td>214</td>\n",
       "      <td>200991620021_R03C01</td>\n",
       "      <td>3002</td>\n",
       "      <td>2</td>\n",
       "      <td>2</td>\n",
       "      <td>1</td>\n",
       "      <td>0</td>\n",
       "      <td>0.952757</td>\n",
       "      <td>0.970714</td>\n",
       "      <td>0.227504</td>\n",
       "      <td>...</td>\n",
       "      <td>0.918107</td>\n",
       "      <td>0.923478</td>\n",
       "      <td>0.902558</td>\n",
       "      <td>0.775472</td>\n",
       "      <td>0.832588</td>\n",
       "      <td>0.259813</td>\n",
       "      <td>0.306235</td>\n",
       "      <td>0.836966</td>\n",
       "      <td>0.063255</td>\n",
       "      <td>0.888196</td>\n",
       "    </tr>\n",
       "  </tbody>\n",
       "</table>\n",
       "<p>1 rows × 123024 columns</p>\n",
       "</div>"
      ],
      "text/plain": [
       "   Unnamed: 0              Sentrix  PATNO  HYS  Gender  APPRDX  \\\n",
       "0         214  200991620021_R03C01   3002    2       2       1   \n",
       "\n",
       "   Montreal_Cognitive  cg08012045  cg08300930  cg00134295  ...  cg10054014  \\\n",
       "0                   0    0.952757    0.970714    0.227504  ...    0.918107   \n",
       "\n",
       "   cg15364874  cg06622006  cg22071811  cg24960706  cg06917935  cg02794319  \\\n",
       "0    0.923478    0.902558    0.775472    0.832588    0.259813    0.306235   \n",
       "\n",
       "   cg10702286  cg10353174  cg19590050  \n",
       "0    0.836966    0.063255    0.888196  \n",
       "\n",
       "[1 rows x 123024 columns]"
      ]
     },
     "execution_count": 2,
     "metadata": {},
     "output_type": "execute_result"
    }
   ],
   "source": [
    "%cd Z:\\PPMI_Data\\Excels\\NonMotors\\Derived250\\Female\\GeneCpG\\Cognition\n",
    "data = pd.read_csv('CognitionCateg_Methylome_Female.csv')\n",
    "data.head(1)"
   ]
  },
  {
   "cell_type": "code",
   "execution_count": 3,
   "id": "28cc9748",
   "metadata": {
    "ExecuteTime": {
     "end_time": "2023-02-20T12:25:12.792732Z",
     "start_time": "2023-02-20T12:25:12.593639Z"
    }
   },
   "outputs": [],
   "source": [
    "X = data.drop(['Unnamed: 0','Sentrix','PATNO','HYS','Gender','Montreal_Cognitive','APPRDX'], axis = 1)\n",
    "y = data['APPRDX']\n",
    "X_train, X_test, y_train, y_test = train_test_split(X, y, test_size = .2, random_state = 1) "
   ]
  },
  {
   "cell_type": "code",
   "execution_count": 4,
   "id": "d9776704",
   "metadata": {
    "ExecuteTime": {
     "end_time": "2023-02-20T12:25:14.560984Z",
     "start_time": "2023-02-20T12:25:12.794752Z"
    }
   },
   "outputs": [
    {
     "data": {
      "text/plain": [
       "RandomForestClassifier(random_state=1)"
      ]
     },
     "execution_count": 4,
     "metadata": {},
     "output_type": "execute_result"
    }
   ],
   "source": [
    "rf_all_features = RandomForestClassifier(random_state=1)\n",
    "rf_all_features.fit(X_train, y_train)"
   ]
  },
  {
   "cell_type": "code",
   "execution_count": 5,
   "id": "a6da29f1",
   "metadata": {
    "ExecuteTime": {
     "end_time": "2023-02-20T12:25:15.304343Z",
     "start_time": "2023-02-20T12:25:14.563010Z"
    }
   },
   "outputs": [
    {
     "data": {
      "text/plain": [
       "0.7666666666666667"
      ]
     },
     "execution_count": 5,
     "metadata": {},
     "output_type": "execute_result"
    }
   ],
   "source": [
    "accuracy_score(y_test, rf_all_features.predict(X_test))"
   ]
  },
  {
   "cell_type": "code",
   "execution_count": 6,
   "id": "366ee7de",
   "metadata": {
    "ExecuteTime": {
     "end_time": "2023-02-20T12:35:58.141619Z",
     "start_time": "2023-02-20T12:25:15.306370Z"
    },
    "scrolled": true
   },
   "outputs": [
    {
     "name": "stdout",
     "output_type": "stream",
     "text": [
      "Iteration: 1 / 100\n",
      "Iteration: 2 / 100\n",
      "Iteration: 3 / 100\n",
      "Iteration: 4 / 100\n",
      "Iteration: 5 / 100\n",
      "Iteration: 6 / 100\n",
      "Iteration: 7 / 100\n",
      "Iteration: 8 / 100\n",
      "Iteration: 9 / 100\n",
      "Iteration: 10 / 100\n",
      "Iteration: 11 / 100\n",
      "Iteration: 12 / 100\n",
      "Iteration: 13 / 100\n",
      "Iteration: 14 / 100\n",
      "Iteration: 15 / 100\n",
      "Iteration: 16 / 100\n",
      "Iteration: 17 / 100\n",
      "Iteration: 18 / 100\n",
      "Iteration: 19 / 100\n",
      "Iteration: 20 / 100\n",
      "Iteration: 21 / 100\n",
      "Iteration: 22 / 100\n",
      "Iteration: 23 / 100\n",
      "Iteration: 24 / 100\n",
      "Iteration: 25 / 100\n",
      "Iteration: 26 / 100\n",
      "Iteration: 27 / 100\n",
      "Iteration: 28 / 100\n",
      "Iteration: 29 / 100\n",
      "Iteration: 30 / 100\n",
      "Iteration: 31 / 100\n",
      "Iteration: 32 / 100\n",
      "\n",
      "\n",
      "BorutaPy finished running.\n",
      "\n",
      "Iteration: \t33 / 100\n",
      "Confirmed: \t3\n",
      "Tentative: \t0\n",
      "Rejected: \t123014\n"
     ]
    },
    {
     "data": {
      "text/plain": [
       "BorutaPy(estimator=RandomForestClassifier(n_estimators=24,\n",
       "                                          random_state=RandomState(MT19937) at 0x1BB2CBAAD40),\n",
       "         n_estimators='auto',\n",
       "         random_state=RandomState(MT19937) at 0x1BB2CBAAD40, verbose=1)"
      ]
     },
     "execution_count": 6,
     "metadata": {},
     "output_type": "execute_result"
    }
   ],
   "source": [
    "rfc = RandomForestClassifier(random_state=1)\n",
    "boruta_selector = BorutaPy(rfc, n_estimators= 'auto', verbose=1, random_state=1)\n",
    "boruta_selector.fit(np.array(X_train), np.array(y_train))  "
   ]
  },
  {
   "cell_type": "code",
   "execution_count": 7,
   "id": "44f4e1b3",
   "metadata": {
    "ExecuteTime": {
     "end_time": "2023-02-20T12:35:58.161750Z",
     "start_time": "2023-02-20T12:35:58.143655Z"
    }
   },
   "outputs": [
    {
     "name": "stdout",
     "output_type": "stream",
     "text": [
      "No. of significant features:  3\n"
     ]
    }
   ],
   "source": [
    "# print(\"Ranking: \",boruta_selector.ranking_)          \n",
    "print(\"No. of significant features: \", boruta_selector.n_features_)"
   ]
  },
  {
   "cell_type": "code",
   "execution_count": 8,
   "id": "a80d1491",
   "metadata": {
    "ExecuteTime": {
     "end_time": "2023-02-20T12:35:58.352816Z",
     "start_time": "2023-02-20T12:35:58.163779Z"
    }
   },
   "outputs": [],
   "source": [
    "selected_rf_features = pd.DataFrame({'CpG':list(X_train.columns),\n",
    "                                       'Ranking':boruta_selector.ranking_})\n",
    "selected_rf_features = selected_rf_features.sort_values(by='Ranking')"
   ]
  },
  {
   "cell_type": "code",
   "execution_count": 9,
   "id": "3fffc2f9",
   "metadata": {
    "ExecuteTime": {
     "end_time": "2023-02-20T12:35:58.403087Z",
     "start_time": "2023-02-20T12:35:58.354837Z"
    }
   },
   "outputs": [
    {
     "data": {
      "text/html": [
       "<div>\n",
       "<style scoped>\n",
       "    .dataframe tbody tr th:only-of-type {\n",
       "        vertical-align: middle;\n",
       "    }\n",
       "\n",
       "    .dataframe tbody tr th {\n",
       "        vertical-align: top;\n",
       "    }\n",
       "\n",
       "    .dataframe thead th {\n",
       "        text-align: right;\n",
       "    }\n",
       "</style>\n",
       "<table border=\"1\" class=\"dataframe\">\n",
       "  <thead>\n",
       "    <tr style=\"text-align: right;\">\n",
       "      <th></th>\n",
       "      <th>CpG</th>\n",
       "      <th>Ranking</th>\n",
       "    </tr>\n",
       "  </thead>\n",
       "  <tbody>\n",
       "    <tr>\n",
       "      <th>30220</th>\n",
       "      <td>cg02992048</td>\n",
       "      <td>1</td>\n",
       "    </tr>\n",
       "    <tr>\n",
       "      <th>40451</th>\n",
       "      <td>cg20230179</td>\n",
       "      <td>1</td>\n",
       "    </tr>\n",
       "    <tr>\n",
       "      <th>49358</th>\n",
       "      <td>cg24573261</td>\n",
       "      <td>1</td>\n",
       "    </tr>\n",
       "  </tbody>\n",
       "</table>\n",
       "</div>"
      ],
      "text/plain": [
       "              CpG  Ranking\n",
       "30220  cg02992048        1\n",
       "40451  cg20230179        1\n",
       "49358  cg24573261        1"
      ]
     },
     "execution_count": 9,
     "metadata": {},
     "output_type": "execute_result"
    }
   ],
   "source": [
    "Top50 = selected_rf_features.iloc[:51, :]\n",
    "Top50.head(3)"
   ]
  },
  {
   "cell_type": "code",
   "execution_count": 10,
   "id": "ea577f93",
   "metadata": {
    "ExecuteTime": {
     "end_time": "2023-02-20T12:35:58.764973Z",
     "start_time": "2023-02-20T12:35:58.405115Z"
    }
   },
   "outputs": [],
   "source": [
    "Top50.to_csv ('Cognition_BorutaFemale_Top50.csv', index = False)\n",
    "selected_rf_features.to_csv ('Cognition_BorutaFemale_All.csv', index = False)"
   ]
  },
  {
   "cell_type": "code",
   "execution_count": 11,
   "id": "fbc5cfff",
   "metadata": {
    "ExecuteTime": {
     "end_time": "2023-02-20T12:35:58.845446Z",
     "start_time": "2023-02-20T12:35:58.766990Z"
    }
   },
   "outputs": [
    {
     "name": "stderr",
     "output_type": "stream",
     "text": [
      "C:\\Users\\system 4\\AppData\\Local\\Temp\\ipykernel_2992\\2974393707.py:6: SettingWithCopyWarning: \n",
      "A value is trying to be set on a copy of a slice from a DataFrame.\n",
      "Try using .loc[row_indexer,col_indexer] = value instead\n",
      "\n",
      "See the caveats in the documentation: https://pandas.pydata.org/pandas-docs/stable/user_guide/indexing.html#returning-a-view-versus-a-copy\n",
      "  df_subset['APPRDX'] = data['APPRDX']\n"
     ]
    },
    {
     "data": {
      "text/html": [
       "<div>\n",
       "<style scoped>\n",
       "    .dataframe tbody tr th:only-of-type {\n",
       "        vertical-align: middle;\n",
       "    }\n",
       "\n",
       "    .dataframe tbody tr th {\n",
       "        vertical-align: top;\n",
       "    }\n",
       "\n",
       "    .dataframe thead th {\n",
       "        text-align: right;\n",
       "    }\n",
       "</style>\n",
       "<table border=\"1\" class=\"dataframe\">\n",
       "  <thead>\n",
       "    <tr style=\"text-align: right;\">\n",
       "      <th></th>\n",
       "      <th>cg11668199</th>\n",
       "      <th>cg04983473</th>\n",
       "      <th>cg25943702</th>\n",
       "      <th>cg12845419</th>\n",
       "      <th>cg01620849</th>\n",
       "      <th>cg22210403</th>\n",
       "      <th>cg21241862</th>\n",
       "      <th>cg19030090</th>\n",
       "      <th>cg02232418</th>\n",
       "      <th>cg18757169</th>\n",
       "      <th>...</th>\n",
       "      <th>cg18319799</th>\n",
       "      <th>cg04954056</th>\n",
       "      <th>cg01158140</th>\n",
       "      <th>cg09902448</th>\n",
       "      <th>cg00319242</th>\n",
       "      <th>cg05125128</th>\n",
       "      <th>cg26819590</th>\n",
       "      <th>cg14587401</th>\n",
       "      <th>cg06191029</th>\n",
       "      <th>APPRDX</th>\n",
       "    </tr>\n",
       "  </thead>\n",
       "  <tbody>\n",
       "    <tr>\n",
       "      <th>0</th>\n",
       "      <td>0.045694</td>\n",
       "      <td>0.924158</td>\n",
       "      <td>0.908038</td>\n",
       "      <td>0.518718</td>\n",
       "      <td>0.033501</td>\n",
       "      <td>0.07147</td>\n",
       "      <td>0.904030</td>\n",
       "      <td>0.917645</td>\n",
       "      <td>0.830685</td>\n",
       "      <td>0.506640</td>\n",
       "      <td>...</td>\n",
       "      <td>0.020568</td>\n",
       "      <td>0.924756</td>\n",
       "      <td>0.830883</td>\n",
       "      <td>0.952915</td>\n",
       "      <td>0.936700</td>\n",
       "      <td>0.894132</td>\n",
       "      <td>0.930234</td>\n",
       "      <td>0.036688</td>\n",
       "      <td>0.622872</td>\n",
       "      <td>1</td>\n",
       "    </tr>\n",
       "    <tr>\n",
       "      <th>1</th>\n",
       "      <td>0.050506</td>\n",
       "      <td>0.929821</td>\n",
       "      <td>0.928079</td>\n",
       "      <td>0.548928</td>\n",
       "      <td>0.032749</td>\n",
       "      <td>0.06974</td>\n",
       "      <td>0.914086</td>\n",
       "      <td>0.889673</td>\n",
       "      <td>0.768925</td>\n",
       "      <td>0.535331</td>\n",
       "      <td>...</td>\n",
       "      <td>0.019818</td>\n",
       "      <td>0.906033</td>\n",
       "      <td>0.887657</td>\n",
       "      <td>0.959074</td>\n",
       "      <td>0.935086</td>\n",
       "      <td>0.887206</td>\n",
       "      <td>0.923072</td>\n",
       "      <td>0.047844</td>\n",
       "      <td>0.895365</td>\n",
       "      <td>1</td>\n",
       "    </tr>\n",
       "  </tbody>\n",
       "</table>\n",
       "<p>2 rows × 52 columns</p>\n",
       "</div>"
      ],
      "text/plain": [
       "   cg11668199  cg04983473  cg25943702  cg12845419  cg01620849  cg22210403  \\\n",
       "0    0.045694    0.924158    0.908038    0.518718    0.033501     0.07147   \n",
       "1    0.050506    0.929821    0.928079    0.548928    0.032749     0.06974   \n",
       "\n",
       "   cg21241862  cg19030090  cg02232418  cg18757169  ...  cg18319799  \\\n",
       "0    0.904030    0.917645    0.830685    0.506640  ...    0.020568   \n",
       "1    0.914086    0.889673    0.768925    0.535331  ...    0.019818   \n",
       "\n",
       "   cg04954056  cg01158140  cg09902448  cg00319242  cg05125128  cg26819590  \\\n",
       "0    0.924756    0.830883    0.952915    0.936700    0.894132    0.930234   \n",
       "1    0.906033    0.887657    0.959074    0.935086    0.887206    0.923072   \n",
       "\n",
       "   cg14587401  cg06191029  APPRDX  \n",
       "0    0.036688    0.622872       1  \n",
       "1    0.047844    0.895365       1  \n",
       "\n",
       "[2 rows x 52 columns]"
      ]
     },
     "execution_count": 11,
     "metadata": {},
     "output_type": "execute_result"
    }
   ],
   "source": [
    "# create a list of column names to subset from data\n",
    "col_names = Top50.iloc[:, 0].tolist()\n",
    "\n",
    "# subset df based on the column names\n",
    "df_subset = data.loc[:, data.columns.isin(col_names)]\n",
    "df_subset['APPRDX'] = data['APPRDX']\n",
    "df_subset.to_csv ('Cognition_Boruta_Top50_Data_Female.csv', index = False)\n",
    "df_subset.head(2)"
   ]
  },
  {
   "cell_type": "markdown",
   "id": "c2052a64",
   "metadata": {},
   "source": [
    "# Constipation"
   ]
  },
  {
   "cell_type": "code",
   "execution_count": 29,
   "id": "93e717b5",
   "metadata": {
    "ExecuteTime": {
     "end_time": "2023-02-20T12:41:19.668922Z",
     "start_time": "2023-02-20T12:41:16.613837Z"
    }
   },
   "outputs": [
    {
     "name": "stdout",
     "output_type": "stream",
     "text": [
      "Z:\\PPMI_Data\\Excels\\NonMotors\\Derived250\\Female\\GeneCpG\\Constipation\n"
     ]
    },
    {
     "data": {
      "text/html": [
       "<div>\n",
       "<style scoped>\n",
       "    .dataframe tbody tr th:only-of-type {\n",
       "        vertical-align: middle;\n",
       "    }\n",
       "\n",
       "    .dataframe tbody tr th {\n",
       "        vertical-align: top;\n",
       "    }\n",
       "\n",
       "    .dataframe thead th {\n",
       "        text-align: right;\n",
       "    }\n",
       "</style>\n",
       "<table border=\"1\" class=\"dataframe\">\n",
       "  <thead>\n",
       "    <tr style=\"text-align: right;\">\n",
       "      <th></th>\n",
       "      <th>Unnamed: 0</th>\n",
       "      <th>Sentrix</th>\n",
       "      <th>PATNO</th>\n",
       "      <th>HYS</th>\n",
       "      <th>Gender</th>\n",
       "      <th>APPRDX</th>\n",
       "      <th>MDSP_Constipate</th>\n",
       "      <th>cg13609937</th>\n",
       "      <th>cg13847987</th>\n",
       "      <th>cg13822231</th>\n",
       "      <th>...</th>\n",
       "      <th>cg06819251</th>\n",
       "      <th>cg22158158</th>\n",
       "      <th>cg20161227</th>\n",
       "      <th>cg05701765</th>\n",
       "      <th>cg25437180</th>\n",
       "      <th>cg06002203</th>\n",
       "      <th>cg21722170</th>\n",
       "      <th>cg13142750</th>\n",
       "      <th>cg12743359</th>\n",
       "      <th>cg04293703</th>\n",
       "    </tr>\n",
       "  </thead>\n",
       "  <tbody>\n",
       "    <tr>\n",
       "      <th>0</th>\n",
       "      <td>214</td>\n",
       "      <td>200991620021_R03C01</td>\n",
       "      <td>3002</td>\n",
       "      <td>2</td>\n",
       "      <td>2</td>\n",
       "      <td>1</td>\n",
       "      <td>1</td>\n",
       "      <td>0.022266</td>\n",
       "      <td>0.939755</td>\n",
       "      <td>0.011179</td>\n",
       "      <td>...</td>\n",
       "      <td>0.913934</td>\n",
       "      <td>0.883586</td>\n",
       "      <td>0.946774</td>\n",
       "      <td>0.8147</td>\n",
       "      <td>0.642126</td>\n",
       "      <td>0.912947</td>\n",
       "      <td>0.870158</td>\n",
       "      <td>0.698537</td>\n",
       "      <td>0.871932</td>\n",
       "      <td>0.573198</td>\n",
       "    </tr>\n",
       "  </tbody>\n",
       "</table>\n",
       "<p>1 rows × 20758 columns</p>\n",
       "</div>"
      ],
      "text/plain": [
       "   Unnamed: 0              Sentrix  PATNO  HYS  Gender  APPRDX  \\\n",
       "0         214  200991620021_R03C01   3002    2       2       1   \n",
       "\n",
       "   MDSP_Constipate  cg13609937  cg13847987  cg13822231  ...  cg06819251  \\\n",
       "0                1    0.022266    0.939755    0.011179  ...    0.913934   \n",
       "\n",
       "   cg22158158  cg20161227  cg05701765  cg25437180  cg06002203  cg21722170  \\\n",
       "0    0.883586    0.946774      0.8147    0.642126    0.912947    0.870158   \n",
       "\n",
       "   cg13142750  cg12743359  cg04293703  \n",
       "0    0.698537    0.871932    0.573198  \n",
       "\n",
       "[1 rows x 20758 columns]"
      ]
     },
     "execution_count": 29,
     "metadata": {},
     "output_type": "execute_result"
    }
   ],
   "source": [
    "%cd Z:\\PPMI_Data\\Excels\\NonMotors\\Derived250\\Female\\GeneCpG\\Constipation\n",
    "data = pd.read_csv('ConstipationCateg_Methylome_Female.csv')\n",
    "data.head(1)"
   ]
  },
  {
   "cell_type": "code",
   "execution_count": 30,
   "id": "dc222e4a",
   "metadata": {
    "ExecuteTime": {
     "end_time": "2023-02-20T12:41:24.619008Z",
     "start_time": "2023-02-20T12:41:24.500285Z"
    },
    "scrolled": true
   },
   "outputs": [
    {
     "name": "stdout",
     "output_type": "stream",
     "text": [
      "   cg13609937  cg13847987  cg13822231  cg20728472  cg14567798  cg14205952  \\\n",
      "0    0.022266    0.939755    0.011179    0.018786    0.018662    0.011471   \n",
      "1    0.023747    0.954997    0.009352    0.034445    0.014196    0.009332   \n",
      "\n",
      "   cg13083110  cg24453271  cg18015632  cg21195763  ...  cg06819251  \\\n",
      "0    0.587818    0.783724    0.827664    0.860302  ...    0.913934   \n",
      "1    0.506270    0.809293    0.900723    0.852396  ...    0.923224   \n",
      "\n",
      "   cg22158158  cg20161227  cg05701765  cg25437180  cg06002203  cg21722170  \\\n",
      "0    0.883586    0.946774    0.814700    0.642126    0.912947    0.870158   \n",
      "1    0.867354    0.969337    0.852062    0.694741    0.861585    0.764911   \n",
      "\n",
      "   cg13142750  cg12743359  cg04293703  \n",
      "0    0.698537    0.871932    0.573198  \n",
      "1    0.633921    0.823493    0.545910  \n",
      "\n",
      "[2 rows x 20751 columns]\n"
     ]
    }
   ],
   "source": [
    "X = data.drop(['Unnamed: 0','Sentrix','PATNO','HYS','Gender','MDSP_Constipate','APPRDX'], axis = 1)\n",
    "y = data['APPRDX']\n",
    "X_train, X_test, y_train, y_test = train_test_split(X, y, test_size = .2, random_state = 1) \n",
    "print(X.head(2))"
   ]
  },
  {
   "cell_type": "code",
   "execution_count": 31,
   "id": "d73f35e5",
   "metadata": {
    "ExecuteTime": {
     "end_time": "2023-02-20T12:41:29.244283Z",
     "start_time": "2023-02-20T12:41:28.602954Z"
    }
   },
   "outputs": [
    {
     "data": {
      "text/plain": [
       "RandomForestClassifier(random_state=1)"
      ]
     },
     "execution_count": 31,
     "metadata": {},
     "output_type": "execute_result"
    }
   ],
   "source": [
    "rf_all_features = RandomForestClassifier(random_state=1)\n",
    "rf_all_features.fit(X_train, y_train)"
   ]
  },
  {
   "cell_type": "code",
   "execution_count": 32,
   "id": "09cbb2da",
   "metadata": {
    "ExecuteTime": {
     "end_time": "2023-02-20T12:41:31.254154Z",
     "start_time": "2023-02-20T12:41:31.115157Z"
    }
   },
   "outputs": [
    {
     "data": {
      "text/plain": [
       "0.7666666666666667"
      ]
     },
     "execution_count": 32,
     "metadata": {},
     "output_type": "execute_result"
    }
   ],
   "source": [
    "accuracy_score(y_test, rf_all_features.predict(X_test))"
   ]
  },
  {
   "cell_type": "code",
   "execution_count": null,
   "id": "416ba9d9",
   "metadata": {
    "ExecuteTime": {
     "start_time": "2023-02-20T12:41:17.499Z"
    }
   },
   "outputs": [],
   "source": [
    "rfc = RandomForestClassifier(random_state=1)\n",
    "boruta_selector = BorutaPy(rfc, n_estimators= 'auto', verbose=1, random_state=1)\n",
    "boruta_selector.fit(np.array(X_train), np.array(y_train))  "
   ]
  },
  {
   "cell_type": "code",
   "execution_count": null,
   "id": "e73b64b1",
   "metadata": {
    "ExecuteTime": {
     "start_time": "2023-02-20T12:41:17.674Z"
    }
   },
   "outputs": [],
   "source": [
    "# print(\"Ranking: \",boruta_selector.ranking_)          \n",
    "print(\"No. of significant features: \", boruta_selector.n_features_)"
   ]
  },
  {
   "cell_type": "code",
   "execution_count": null,
   "id": "6f5d456c",
   "metadata": {
    "ExecuteTime": {
     "start_time": "2023-02-20T12:41:17.788Z"
    }
   },
   "outputs": [],
   "source": [
    "selected_rf_features = pd.DataFrame({'CpG':list(X_train.columns),\n",
    "                                       'Ranking':boruta_selector.ranking_})\n",
    "selected_rf_features = selected_rf_features.sort_values(by='Ranking')"
   ]
  },
  {
   "cell_type": "code",
   "execution_count": null,
   "id": "3c961b96",
   "metadata": {
    "ExecuteTime": {
     "start_time": "2023-02-20T12:41:18.010Z"
    }
   },
   "outputs": [],
   "source": [
    "Top50 = selected_rf_features.iloc[:51, :]\n",
    "Top50.head(3)"
   ]
  },
  {
   "cell_type": "code",
   "execution_count": null,
   "id": "300f1f1b",
   "metadata": {
    "ExecuteTime": {
     "start_time": "2023-02-20T12:41:18.154Z"
    }
   },
   "outputs": [],
   "source": [
    "Top50.to_csv ('Constipation_BorutaFemale_Top50.csv', index = False)\n",
    "selected_rf_features.to_csv ('Constipation_BorutaFemale_All.csv', index = False)"
   ]
  },
  {
   "cell_type": "code",
   "execution_count": null,
   "id": "ba2cf5ec",
   "metadata": {
    "ExecuteTime": {
     "start_time": "2023-02-20T12:41:18.333Z"
    }
   },
   "outputs": [],
   "source": [
    "# create a list of column names to subset from data\n",
    "col_names = Top50.iloc[:, 0].tolist()\n",
    "\n",
    "# subset df based on the column names\n",
    "df_subset = data.loc[:, data.columns.isin(col_names)]\n",
    "df_subset['APPRDX'] = data['APPRDX']\n",
    "df_subset.to_csv ('Constipation_Boruta_Top50_Data_Female.csv', index = False)\n",
    "df_subset.head(2)"
   ]
  },
  {
   "cell_type": "markdown",
   "id": "f26a2bee",
   "metadata": {},
   "source": [
    "# Gastro"
   ]
  },
  {
   "cell_type": "code",
   "execution_count": null,
   "id": "87df96ac",
   "metadata": {
    "ExecuteTime": {
     "start_time": "2023-02-20T12:41:18.638Z"
    }
   },
   "outputs": [],
   "source": [
    "%cd Z:\\PPMI_Data\\Excels\\NonMotors\\Derived250\\Female\\GeneCpG\\Gastro\n",
    "data = pd.read_csv('GastroCateg_Methylome_Female.csv')\n",
    "data.head(1)"
   ]
  },
  {
   "cell_type": "code",
   "execution_count": null,
   "id": "42cebce9",
   "metadata": {
    "ExecuteTime": {
     "start_time": "2023-02-20T12:41:18.809Z"
    }
   },
   "outputs": [],
   "source": [
    "X = data.drop(['Sentrix','PATNO','HYS','Gender','Age','AgeCate','SCOPA_Gastro_Category','APPRDX'], axis = 1)\n",
    "y = data['APPRDX']\n",
    "X_train, X_test, y_train, y_test = train_test_split(X, y, test_size = .2, random_state = 1) \n",
    "print(X.head(2))"
   ]
  },
  {
   "cell_type": "code",
   "execution_count": null,
   "id": "a7bc705f",
   "metadata": {
    "ExecuteTime": {
     "start_time": "2023-02-20T12:41:18.988Z"
    }
   },
   "outputs": [],
   "source": [
    "rf_all_features = RandomForestClassifier(random_state=1)\n",
    "rf_all_features.fit(X_train, y_train)"
   ]
  },
  {
   "cell_type": "code",
   "execution_count": null,
   "id": "5aea857c",
   "metadata": {
    "ExecuteTime": {
     "start_time": "2023-02-20T12:41:19.162Z"
    }
   },
   "outputs": [],
   "source": [
    "accuracy_score(y_test, rf_all_features.predict(X_test))"
   ]
  },
  {
   "cell_type": "code",
   "execution_count": null,
   "id": "12317a33",
   "metadata": {
    "ExecuteTime": {
     "start_time": "2023-02-20T12:41:19.337Z"
    }
   },
   "outputs": [],
   "source": [
    "rfc = RandomForestClassifier(random_state=1)\n",
    "boruta_selector = BorutaPy(rfc, n_estimators= 'auto', verbose=1, random_state=1)\n",
    "boruta_selector.fit(np.array(X_train), np.array(y_train))  "
   ]
  },
  {
   "cell_type": "code",
   "execution_count": null,
   "id": "297ad826",
   "metadata": {
    "ExecuteTime": {
     "start_time": "2023-02-20T12:41:19.466Z"
    }
   },
   "outputs": [],
   "source": [
    "# print(\"Ranking: \",boruta_selector.ranking_)          \n",
    "print(\"No. of significant features: \", boruta_selector.n_features_)"
   ]
  },
  {
   "cell_type": "code",
   "execution_count": null,
   "id": "979566e6",
   "metadata": {
    "ExecuteTime": {
     "start_time": "2023-02-20T12:41:19.651Z"
    }
   },
   "outputs": [],
   "source": [
    "selected_rf_features = pd.DataFrame({'CpG':list(X_train.columns),\n",
    "                                       'Ranking':boruta_selector.ranking_})\n",
    "selected_rf_features = selected_rf_features.sort_values(by='Ranking')"
   ]
  },
  {
   "cell_type": "code",
   "execution_count": null,
   "id": "52fe712d",
   "metadata": {
    "ExecuteTime": {
     "start_time": "2023-02-20T12:41:19.739Z"
    }
   },
   "outputs": [],
   "source": [
    "Top50 = selected_rf_features.iloc[:51, :]\n",
    "Top50.head(3)"
   ]
  },
  {
   "cell_type": "code",
   "execution_count": null,
   "id": "ba7f39ed",
   "metadata": {
    "ExecuteTime": {
     "start_time": "2023-02-20T12:41:19.935Z"
    }
   },
   "outputs": [],
   "source": [
    "Top50.to_csv ('Gastro_BorutaFemale_Top50.csv', index = False)\n",
    "selected_rf_features.to_csv ('Gastro_BorutaFemale_All.csv', index = False)"
   ]
  },
  {
   "cell_type": "code",
   "execution_count": null,
   "id": "543fbfe4",
   "metadata": {
    "ExecuteTime": {
     "start_time": "2023-02-20T12:41:20.089Z"
    }
   },
   "outputs": [],
   "source": [
    "# create a list of column names to subset from data\n",
    "col_names = Top50.iloc[:, 0].tolist()\n",
    "\n",
    "# subset df based on the column names\n",
    "df_subset = data.loc[:, data.columns.isin(col_names)]\n",
    "df_subset['APPRDX'] = data['APPRDX']\n",
    "df_subset.to_csv ('Gastro_Boruta_Top50_Data_Female.csv', index = False)\n",
    "df_subset.head(2)"
   ]
  },
  {
   "cell_type": "markdown",
   "id": "7a912845",
   "metadata": {},
   "source": [
    "# Pain"
   ]
  },
  {
   "cell_type": "code",
   "execution_count": null,
   "id": "f05a9e90",
   "metadata": {
    "ExecuteTime": {
     "start_time": "2023-02-20T12:41:20.541Z"
    }
   },
   "outputs": [],
   "source": [
    "%cd Z:\\PPMI_Data\\Excels\\NonMotors\\Derived250\\Female\\GeneCpG\\Pain\n",
    "data = pd.read_csv('PainCateg_Methylome_Female.csv')\n",
    "data.head(1)"
   ]
  },
  {
   "cell_type": "code",
   "execution_count": null,
   "id": "4bc4073b",
   "metadata": {
    "ExecuteTime": {
     "start_time": "2023-02-20T12:41:20.702Z"
    }
   },
   "outputs": [],
   "source": [
    "X = data.drop(['Unnamed: 0','Sentrix','PATNO','HYS','Gender','MDSP_Pain','APPRDX'], axis = 1)\n",
    "y = data['APPRDX']\n",
    "X_train, X_test, y_train, y_test = train_test_split(X, y, test_size = .2, random_state = 1) \n",
    "print(X.head(2))"
   ]
  },
  {
   "cell_type": "code",
   "execution_count": null,
   "id": "a8f54f38",
   "metadata": {
    "ExecuteTime": {
     "start_time": "2023-02-20T12:41:20.841Z"
    }
   },
   "outputs": [],
   "source": [
    "rf_all_features = RandomForestClassifier(random_state=1)\n",
    "rf_all_features.fit(X_train, y_train)"
   ]
  },
  {
   "cell_type": "code",
   "execution_count": null,
   "id": "95ad4dfe",
   "metadata": {
    "ExecuteTime": {
     "start_time": "2023-02-20T12:41:21.009Z"
    }
   },
   "outputs": [],
   "source": [
    "accuracy_score(y_test, rf_all_features.predict(X_test))"
   ]
  },
  {
   "cell_type": "code",
   "execution_count": null,
   "id": "23b662d5",
   "metadata": {
    "ExecuteTime": {
     "start_time": "2023-02-20T12:41:21.172Z"
    }
   },
   "outputs": [],
   "source": [
    "rfc = RandomForestClassifier(random_state=1)\n",
    "boruta_selector = BorutaPy(rfc, n_estimators= 'auto', verbose=1, random_state=1)\n",
    "boruta_selector.fit(np.array(X_train), np.array(y_train))  "
   ]
  },
  {
   "cell_type": "code",
   "execution_count": null,
   "id": "159324ba",
   "metadata": {
    "ExecuteTime": {
     "start_time": "2023-02-20T12:41:21.314Z"
    }
   },
   "outputs": [],
   "source": [
    "# print(\"Ranking: \",boruta_selector.ranking_)          \n",
    "print(\"No. of significant features: \", boruta_selector.n_features_)"
   ]
  },
  {
   "cell_type": "code",
   "execution_count": null,
   "id": "4af93efa",
   "metadata": {
    "ExecuteTime": {
     "start_time": "2023-02-20T12:41:21.474Z"
    }
   },
   "outputs": [],
   "source": [
    "selected_rf_features = pd.DataFrame({'CpG':list(X_train.columns),\n",
    "                                       'Ranking':boruta_selector.ranking_})\n",
    "selected_rf_features = selected_rf_features.sort_values(by='Ranking')"
   ]
  },
  {
   "cell_type": "code",
   "execution_count": null,
   "id": "1eaa5246",
   "metadata": {
    "ExecuteTime": {
     "start_time": "2023-02-20T12:41:21.650Z"
    }
   },
   "outputs": [],
   "source": [
    "Top50 = selected_rf_features.iloc[:51, :]\n",
    "Top50.head(3)"
   ]
  },
  {
   "cell_type": "code",
   "execution_count": null,
   "id": "f6723964",
   "metadata": {
    "ExecuteTime": {
     "start_time": "2023-02-20T12:41:21.809Z"
    }
   },
   "outputs": [],
   "source": [
    "Top50.to_csv ('Pain_BorutaFemale_Top50.csv', index = False)\n",
    "selected_rf_features.to_csv ('Pain_BorutaFemale_All.csv', index = False)"
   ]
  },
  {
   "cell_type": "code",
   "execution_count": null,
   "id": "7725ded2",
   "metadata": {
    "ExecuteTime": {
     "start_time": "2023-02-20T12:41:21.997Z"
    }
   },
   "outputs": [],
   "source": [
    "# create a list of column names to subset from data\n",
    "col_names = Top50.iloc[:, 0].tolist()\n",
    "\n",
    "# subset df based on the column names\n",
    "df_subset = data.loc[:, data.columns.isin(col_names)]\n",
    "df_subset['APPRDX'] = data['APPRDX']\n",
    "df_subset.to_csv ('Pain_Boruta_Top50_Data_Female.csv', index = False)\n",
    "df_subset.head(2)"
   ]
  },
  {
   "cell_type": "markdown",
   "id": "9cea4dcd",
   "metadata": {},
   "source": [
    "# UPSIT"
   ]
  },
  {
   "cell_type": "code",
   "execution_count": null,
   "id": "5ff336b1",
   "metadata": {
    "ExecuteTime": {
     "start_time": "2023-02-20T12:41:22.323Z"
    }
   },
   "outputs": [],
   "source": [
    "%cd Z:\\PPMI_Data\\Excels\\NonMotors\\Derived250\\Female\\GeneCpG\\UPSIT\n",
    "data = pd.read_csv('UPSIT3Categ_Methylome_Female.csv')\n",
    "data.head(1)"
   ]
  },
  {
   "cell_type": "code",
   "execution_count": null,
   "id": "ee22df7a",
   "metadata": {
    "ExecuteTime": {
     "start_time": "2023-02-20T12:41:22.506Z"
    }
   },
   "outputs": [],
   "source": [
    "X = data.drop(['Sentrix','PATNO','HYS','Gender','UPSIT_3','UPSIT_Total','APPRDX'], axis = 1)\n",
    "y = data['APPRDX']\n",
    "X_train, X_test, y_train, y_test = train_test_split(X, y, test_size = .2, random_state = 1) \n",
    "print(X.head(2))"
   ]
  },
  {
   "cell_type": "code",
   "execution_count": null,
   "id": "c1ee3e48",
   "metadata": {
    "ExecuteTime": {
     "start_time": "2023-02-20T12:41:22.690Z"
    }
   },
   "outputs": [],
   "source": [
    "rf_all_features = RandomForestClassifier(random_state=1)\n",
    "rf_all_features.fit(X_train, y_train)"
   ]
  },
  {
   "cell_type": "code",
   "execution_count": null,
   "id": "f17f8606",
   "metadata": {
    "ExecuteTime": {
     "start_time": "2023-02-20T12:41:22.882Z"
    }
   },
   "outputs": [],
   "source": [
    "accuracy_score(y_test, rf_all_features.predict(X_test))"
   ]
  },
  {
   "cell_type": "code",
   "execution_count": null,
   "id": "5ba608ac",
   "metadata": {
    "ExecuteTime": {
     "start_time": "2023-02-20T12:41:23.073Z"
    },
    "scrolled": true
   },
   "outputs": [],
   "source": [
    "rfc = RandomForestClassifier(random_state=1)\n",
    "boruta_selector = BorutaPy(rfc, n_estimators= 'auto', verbose=1, random_state=2)\n",
    "boruta_selector.fit(np.array(X_train), np.array(y_train))  "
   ]
  },
  {
   "cell_type": "code",
   "execution_count": null,
   "id": "51f874e0",
   "metadata": {
    "ExecuteTime": {
     "start_time": "2023-02-20T12:41:23.387Z"
    }
   },
   "outputs": [],
   "source": [
    "# print(\"Ranking: \",boruta_selector.ranking_)          \n",
    "print(\"No. of significant features: \", boruta_selector.n_features_)"
   ]
  },
  {
   "cell_type": "code",
   "execution_count": null,
   "id": "61cadc89",
   "metadata": {
    "ExecuteTime": {
     "start_time": "2023-02-20T12:41:23.621Z"
    }
   },
   "outputs": [],
   "source": [
    "selected_rf_features = pd.DataFrame({'CpG':list(X_train.columns),\n",
    "                                       'Ranking':boruta_selector.ranking_})\n",
    "selected_rf_features = selected_rf_features.sort_values(by='Ranking')"
   ]
  },
  {
   "cell_type": "code",
   "execution_count": null,
   "id": "6ae888ab",
   "metadata": {
    "ExecuteTime": {
     "start_time": "2023-02-20T12:41:23.811Z"
    },
    "scrolled": true
   },
   "outputs": [],
   "source": [
    "Top50 = selected_rf_features.iloc[:51, :]\n",
    "Top50.head(3)"
   ]
  },
  {
   "cell_type": "code",
   "execution_count": null,
   "id": "9605e163",
   "metadata": {
    "ExecuteTime": {
     "start_time": "2023-02-20T12:41:23.988Z"
    }
   },
   "outputs": [],
   "source": [
    "Top50.to_csv ('UPSIT_BorutaFemale_Top50.csv', index = False)\n",
    "selected_rf_features.to_csv ('UPSIT_BorutaFemale_All.csv', index = False)"
   ]
  },
  {
   "cell_type": "code",
   "execution_count": null,
   "id": "ea7dabbb",
   "metadata": {
    "ExecuteTime": {
     "start_time": "2023-02-20T12:41:24.145Z"
    }
   },
   "outputs": [],
   "source": [
    "# create a list of column names to subset from data\n",
    "col_names = Top50.iloc[:, 0].tolist()\n",
    "\n",
    "# subset df based on the column names\n",
    "df_subset = data.loc[:, data.columns.isin(col_names)]\n",
    "df_subset['APPRDX'] = data['APPRDX']\n",
    "df_subset.to_csv ('UPSIT_Boruta_Top50_Data_Female.csv', index = False)\n",
    "df_subset.head(2)"
   ]
  },
  {
   "cell_type": "markdown",
   "id": "53ec73bc",
   "metadata": {},
   "source": [
    "# Urine"
   ]
  },
  {
   "cell_type": "code",
   "execution_count": null,
   "id": "a4a6179f",
   "metadata": {
    "ExecuteTime": {
     "start_time": "2023-02-20T12:41:24.507Z"
    }
   },
   "outputs": [],
   "source": [
    "%cd Z:\\PPMI_Data\\Excels\\NonMotors\\Derived250\\Female\\GeneCpG\\Urine\n",
    "data = pd.read_csv('UrineCateg_Methylome_Female.csv')\n",
    "data.head(1)"
   ]
  },
  {
   "cell_type": "code",
   "execution_count": null,
   "id": "1d3b86a2",
   "metadata": {
    "ExecuteTime": {
     "start_time": "2023-02-20T12:41:24.674Z"
    }
   },
   "outputs": [],
   "source": [
    "X = data.drop(['Sentrix','PATNO','HYS','Gender','Age','AgeCate','SCOPA_Urine_Category','APPRDX'], axis = 1)\n",
    "y = data['APPRDX']\n",
    "X_train, X_test, y_train, y_test = train_test_split(X, y, test_size = .2, random_state = 1) \n",
    "print(X.head(2))"
   ]
  },
  {
   "cell_type": "code",
   "execution_count": null,
   "id": "7bee2e28",
   "metadata": {
    "ExecuteTime": {
     "start_time": "2023-02-20T12:41:24.867Z"
    }
   },
   "outputs": [],
   "source": [
    "rf_all_features = RandomForestClassifier(random_state=1)\n",
    "rf_all_features.fit(X_train, y_train)"
   ]
  },
  {
   "cell_type": "code",
   "execution_count": null,
   "id": "9c9e452b",
   "metadata": {
    "ExecuteTime": {
     "start_time": "2023-02-20T12:41:25.089Z"
    }
   },
   "outputs": [],
   "source": [
    "accuracy_score(y_test, rf_all_features.predict(X_test))"
   ]
  },
  {
   "cell_type": "code",
   "execution_count": null,
   "id": "8f09d8bd",
   "metadata": {
    "ExecuteTime": {
     "start_time": "2023-02-20T12:41:25.283Z"
    }
   },
   "outputs": [],
   "source": [
    "rfc = RandomForestClassifier(random_state=1)\n",
    "boruta_selector = BorutaPy(rfc, n_estimators= 'auto', verbose=1, random_state=2)\n",
    "boruta_selector.fit(np.array(X_train), np.array(y_train))  "
   ]
  },
  {
   "cell_type": "code",
   "execution_count": null,
   "id": "7821133a",
   "metadata": {
    "ExecuteTime": {
     "start_time": "2023-02-20T12:41:25.617Z"
    }
   },
   "outputs": [],
   "source": [
    "# print(\"Ranking: \",boruta_selector.ranking_)          \n",
    "print(\"No. of significant features: \", boruta_selector.n_features_)"
   ]
  },
  {
   "cell_type": "code",
   "execution_count": null,
   "id": "ef8ff256",
   "metadata": {
    "ExecuteTime": {
     "start_time": "2023-02-20T12:41:26.162Z"
    }
   },
   "outputs": [],
   "source": [
    "selected_rf_features = pd.DataFrame({'CpG':list(X_train.columns),\n",
    "                                       'Ranking':boruta_selector.ranking_})\n",
    "selected_rf_features = selected_rf_features.sort_values(by='Ranking')"
   ]
  },
  {
   "cell_type": "code",
   "execution_count": null,
   "id": "241c28b0",
   "metadata": {
    "ExecuteTime": {
     "start_time": "2023-02-20T12:41:26.722Z"
    }
   },
   "outputs": [],
   "source": [
    "Top50 = selected_rf_features.iloc[:51, :]\n",
    "Top50.head(3)"
   ]
  },
  {
   "cell_type": "code",
   "execution_count": null,
   "id": "d52e453b",
   "metadata": {
    "ExecuteTime": {
     "start_time": "2023-02-20T12:41:27.225Z"
    }
   },
   "outputs": [],
   "source": [
    "Top50.to_csv ('Urine_BorutaFemale_Top50.csv', index = False)\n",
    "selected_rf_features.to_csv ('Urine_BorutaFemale_All.csv', index = False)"
   ]
  },
  {
   "cell_type": "code",
   "execution_count": null,
   "id": "7665fa86",
   "metadata": {
    "ExecuteTime": {
     "start_time": "2023-02-20T12:41:27.850Z"
    }
   },
   "outputs": [],
   "source": [
    "# create a list of column names to subset from data\n",
    "col_names = Top50.iloc[:, 0].tolist()\n",
    "\n",
    "# subset df based on the column names\n",
    "df_subset = data.loc[:, data.columns.isin(col_names)]\n",
    "df_subset['APPRDX'] = data['APPRDX']\n",
    "df_subset.to_csv ('Urine_Boruta_Top50_Data_Female.csv', index = False)\n",
    "df_subset.head(2)"
   ]
  },
  {
   "cell_type": "code",
   "execution_count": null,
   "id": "19768a72",
   "metadata": {},
   "outputs": [],
   "source": []
  }
 ],
 "metadata": {
  "kernelspec": {
   "display_name": "Python 3 (ipykernel)",
   "language": "python",
   "name": "python3"
  },
  "language_info": {
   "codemirror_mode": {
    "name": "ipython",
    "version": 3
   },
   "file_extension": ".py",
   "mimetype": "text/x-python",
   "name": "python",
   "nbconvert_exporter": "python",
   "pygments_lexer": "ipython3",
   "version": "3.9.16"
  },
  "toc": {
   "base_numbering": 1,
   "nav_menu": {},
   "number_sections": true,
   "sideBar": true,
   "skip_h1_title": false,
   "title_cell": "Table of Contents",
   "title_sidebar": "Contents",
   "toc_cell": false,
   "toc_position": {},
   "toc_section_display": true,
   "toc_window_display": false
  },
  "varInspector": {
   "cols": {
    "lenName": 16,
    "lenType": 16,
    "lenVar": 40
   },
   "kernels_config": {
    "python": {
     "delete_cmd_postfix": "",
     "delete_cmd_prefix": "del ",
     "library": "var_list.py",
     "varRefreshCmd": "print(var_dic_list())"
    },
    "r": {
     "delete_cmd_postfix": ") ",
     "delete_cmd_prefix": "rm(",
     "library": "var_list.r",
     "varRefreshCmd": "cat(var_dic_list()) "
    }
   },
   "types_to_exclude": [
    "module",
    "function",
    "builtin_function_or_method",
    "instance",
    "_Feature"
   ],
   "window_display": false
  }
 },
 "nbformat": 4,
 "nbformat_minor": 5
}
