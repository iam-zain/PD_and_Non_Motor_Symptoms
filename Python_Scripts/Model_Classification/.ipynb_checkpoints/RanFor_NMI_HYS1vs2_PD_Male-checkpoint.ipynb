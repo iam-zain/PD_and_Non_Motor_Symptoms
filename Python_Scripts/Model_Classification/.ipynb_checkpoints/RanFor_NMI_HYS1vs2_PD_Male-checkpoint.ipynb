{
 "cells": [
  {
   "cell_type": "markdown",
   "metadata": {
    "colab_type": "text",
    "id": "0MRC0e0KhQ0S"
   },
   "source": [
    "# Random Forest Classification"
   ]
  },
  {
   "cell_type": "code",
   "execution_count": 1,
   "metadata": {
    "ExecuteTime": {
     "end_time": "2023-11-21T05:57:29.685353Z",
     "start_time": "2023-11-21T05:57:27.367467Z"
    },
    "colab": {},
    "colab_type": "code",
    "id": "YvGPUQaHhXfL"
   },
   "outputs": [],
   "source": [
    "import random\n",
    "import numpy as np\n",
    "import pandas as pd\n",
    "import seaborn as sn\n",
    "from numpy import std\n",
    "from numpy import mean\n",
    "import matplotlib.pyplot as plt\n",
    "from sklearn.datasets import make_classification\n",
    "from sklearn.preprocessing import StandardScaler\n",
    "from sklearn.model_selection import cross_val_score\n",
    "from sklearn.ensemble import RandomForestClassifier\n",
    "from sklearn.model_selection import train_test_split\n",
    "from sklearn.model_selection import RepeatedStratifiedKFold\n",
    "from sklearn.metrics import confusion_matrix, accuracy_score\n",
    "%matplotlib inline"
   ]
  },
  {
   "cell_type": "code",
   "execution_count": 2,
   "metadata": {
    "ExecuteTime": {
     "end_time": "2023-11-21T05:57:58.870405Z",
     "start_time": "2023-11-21T05:57:29.691353Z"
    },
    "scrolled": false
   },
   "outputs": [
    {
     "name": "stdout",
     "output_type": "stream",
     "text": [
      "S:\\PPMI_RNA\\Processed\\Progression_Analysis\\Male\\HYS_1vs2vs3\n",
      "(729, 58782)\n"
     ]
    },
    {
     "data": {
      "text/html": [
       "<div>\n",
       "<style scoped>\n",
       "    .dataframe tbody tr th:only-of-type {\n",
       "        vertical-align: middle;\n",
       "    }\n",
       "\n",
       "    .dataframe tbody tr th {\n",
       "        vertical-align: top;\n",
       "    }\n",
       "\n",
       "    .dataframe thead th {\n",
       "        text-align: right;\n",
       "    }\n",
       "</style>\n",
       "<table border=\"1\" class=\"dataframe\">\n",
       "  <thead>\n",
       "    <tr style=\"text-align: right;\">\n",
       "      <th></th>\n",
       "      <th>HudAlphaID</th>\n",
       "      <th>HYS</th>\n",
       "      <th>ENSG00000223972.5</th>\n",
       "      <th>ENSG00000227232.5</th>\n",
       "      <th>ENSG00000278267.1</th>\n",
       "      <th>ENSG00000243485.5</th>\n",
       "      <th>ENSG00000284332.1</th>\n",
       "      <th>ENSG00000237613.2</th>\n",
       "      <th>ENSG00000268020.3</th>\n",
       "      <th>ENSG00000240361.2</th>\n",
       "      <th>...</th>\n",
       "      <th>ENSG00000273739.1</th>\n",
       "      <th>ENSG00000276700.1</th>\n",
       "      <th>ENSG00000276312.1</th>\n",
       "      <th>ENSG00000275757.1</th>\n",
       "      <th>ENSG00000278573.1</th>\n",
       "      <th>ENSG00000276017.1</th>\n",
       "      <th>ENSG00000278817.1</th>\n",
       "      <th>ENSG00000277196.4</th>\n",
       "      <th>ENSG00000278625.1</th>\n",
       "      <th>ENSG00000277374.1</th>\n",
       "    </tr>\n",
       "  </thead>\n",
       "  <tbody>\n",
       "    <tr>\n",
       "      <th>0</th>\n",
       "      <td>5104_SL_0001</td>\n",
       "      <td>2</td>\n",
       "      <td>15</td>\n",
       "      <td>232</td>\n",
       "      <td>15</td>\n",
       "      <td>0</td>\n",
       "      <td>0</td>\n",
       "      <td>0</td>\n",
       "      <td>0</td>\n",
       "      <td>0</td>\n",
       "      <td>...</td>\n",
       "      <td>0</td>\n",
       "      <td>1</td>\n",
       "      <td>16</td>\n",
       "      <td>1</td>\n",
       "      <td>0</td>\n",
       "      <td>2</td>\n",
       "      <td>19</td>\n",
       "      <td>0</td>\n",
       "      <td>0</td>\n",
       "      <td>0</td>\n",
       "    </tr>\n",
       "    <tr>\n",
       "      <th>1</th>\n",
       "      <td>5104_SL_0007</td>\n",
       "      <td>2</td>\n",
       "      <td>0</td>\n",
       "      <td>97</td>\n",
       "      <td>8</td>\n",
       "      <td>0</td>\n",
       "      <td>0</td>\n",
       "      <td>0</td>\n",
       "      <td>0</td>\n",
       "      <td>0</td>\n",
       "      <td>...</td>\n",
       "      <td>0</td>\n",
       "      <td>9</td>\n",
       "      <td>0</td>\n",
       "      <td>1</td>\n",
       "      <td>0</td>\n",
       "      <td>0</td>\n",
       "      <td>7</td>\n",
       "      <td>1</td>\n",
       "      <td>0</td>\n",
       "      <td>0</td>\n",
       "    </tr>\n",
       "  </tbody>\n",
       "</table>\n",
       "<p>2 rows × 58782 columns</p>\n",
       "</div>"
      ],
      "text/plain": [
       "     HudAlphaID  HYS  ENSG00000223972.5  ENSG00000227232.5  ENSG00000278267.1  \\\n",
       "0  5104_SL_0001    2                 15                232                 15   \n",
       "1  5104_SL_0007    2                  0                 97                  8   \n",
       "\n",
       "   ENSG00000243485.5  ENSG00000284332.1  ENSG00000237613.2  ENSG00000268020.3  \\\n",
       "0                  0                  0                  0                  0   \n",
       "1                  0                  0                  0                  0   \n",
       "\n",
       "   ENSG00000240361.2  ...  ENSG00000273739.1  ENSG00000276700.1  \\\n",
       "0                  0  ...                  0                  1   \n",
       "1                  0  ...                  0                  9   \n",
       "\n",
       "   ENSG00000276312.1  ENSG00000275757.1  ENSG00000278573.1  ENSG00000276017.1  \\\n",
       "0                 16                  1                  0                  2   \n",
       "1                  0                  1                  0                  0   \n",
       "\n",
       "   ENSG00000278817.1  ENSG00000277196.4  ENSG00000278625.1  ENSG00000277374.1  \n",
       "0                 19                  0                  0                  0  \n",
       "1                  7                  1                  0                  0  \n",
       "\n",
       "[2 rows x 58782 columns]"
      ]
     },
     "execution_count": 2,
     "metadata": {},
     "output_type": "execute_result"
    }
   ],
   "source": [
    "%cd S:\\PPMI_RNA\\Processed\\Progression_Analysis\\Male\\HYS_1vs2vs3\n",
    "df = pd.read_csv('CountData_HYS1vs2vs3_PD_withHYS_Male.csv')\n",
    "df = df[df['HYS'] != 3]\n",
    "print(df.shape)\n",
    "df.head(2)"
   ]
  },
  {
   "cell_type": "code",
   "execution_count": 3,
   "metadata": {
    "ExecuteTime": {
     "end_time": "2023-11-21T05:57:58.980353Z",
     "start_time": "2023-11-21T05:57:58.873354Z"
    },
    "scrolled": true
   },
   "outputs": [
    {
     "data": {
      "text/html": [
       "<div>\n",
       "<style scoped>\n",
       "    .dataframe tbody tr th:only-of-type {\n",
       "        vertical-align: middle;\n",
       "    }\n",
       "\n",
       "    .dataframe tbody tr th {\n",
       "        vertical-align: top;\n",
       "    }\n",
       "\n",
       "    .dataframe thead th {\n",
       "        text-align: right;\n",
       "    }\n",
       "</style>\n",
       "<table border=\"1\" class=\"dataframe\">\n",
       "  <thead>\n",
       "    <tr style=\"text-align: right;\">\n",
       "      <th></th>\n",
       "      <th>HYS</th>\n",
       "      <th>ENSG00000223972.5</th>\n",
       "      <th>ENSG00000227232.5</th>\n",
       "      <th>ENSG00000278267.1</th>\n",
       "      <th>ENSG00000243485.5</th>\n",
       "      <th>ENSG00000284332.1</th>\n",
       "      <th>ENSG00000237613.2</th>\n",
       "      <th>ENSG00000268020.3</th>\n",
       "      <th>ENSG00000240361.2</th>\n",
       "      <th>ENSG00000186092.6</th>\n",
       "      <th>...</th>\n",
       "      <th>ENSG00000273739.1</th>\n",
       "      <th>ENSG00000276700.1</th>\n",
       "      <th>ENSG00000276312.1</th>\n",
       "      <th>ENSG00000275757.1</th>\n",
       "      <th>ENSG00000278573.1</th>\n",
       "      <th>ENSG00000276017.1</th>\n",
       "      <th>ENSG00000278817.1</th>\n",
       "      <th>ENSG00000277196.4</th>\n",
       "      <th>ENSG00000278625.1</th>\n",
       "      <th>ENSG00000277374.1</th>\n",
       "    </tr>\n",
       "  </thead>\n",
       "  <tbody>\n",
       "    <tr>\n",
       "      <th>0</th>\n",
       "      <td>2</td>\n",
       "      <td>15</td>\n",
       "      <td>232</td>\n",
       "      <td>15</td>\n",
       "      <td>0</td>\n",
       "      <td>0</td>\n",
       "      <td>0</td>\n",
       "      <td>0</td>\n",
       "      <td>0</td>\n",
       "      <td>0</td>\n",
       "      <td>...</td>\n",
       "      <td>0</td>\n",
       "      <td>1</td>\n",
       "      <td>16</td>\n",
       "      <td>1</td>\n",
       "      <td>0</td>\n",
       "      <td>2</td>\n",
       "      <td>19</td>\n",
       "      <td>0</td>\n",
       "      <td>0</td>\n",
       "      <td>0</td>\n",
       "    </tr>\n",
       "    <tr>\n",
       "      <th>1</th>\n",
       "      <td>2</td>\n",
       "      <td>0</td>\n",
       "      <td>97</td>\n",
       "      <td>8</td>\n",
       "      <td>0</td>\n",
       "      <td>0</td>\n",
       "      <td>0</td>\n",
       "      <td>0</td>\n",
       "      <td>0</td>\n",
       "      <td>2</td>\n",
       "      <td>...</td>\n",
       "      <td>0</td>\n",
       "      <td>9</td>\n",
       "      <td>0</td>\n",
       "      <td>1</td>\n",
       "      <td>0</td>\n",
       "      <td>0</td>\n",
       "      <td>7</td>\n",
       "      <td>1</td>\n",
       "      <td>0</td>\n",
       "      <td>0</td>\n",
       "    </tr>\n",
       "  </tbody>\n",
       "</table>\n",
       "<p>2 rows × 58781 columns</p>\n",
       "</div>"
      ],
      "text/plain": [
       "   HYS  ENSG00000223972.5  ENSG00000227232.5  ENSG00000278267.1  \\\n",
       "0    2                 15                232                 15   \n",
       "1    2                  0                 97                  8   \n",
       "\n",
       "   ENSG00000243485.5  ENSG00000284332.1  ENSG00000237613.2  ENSG00000268020.3  \\\n",
       "0                  0                  0                  0                  0   \n",
       "1                  0                  0                  0                  0   \n",
       "\n",
       "   ENSG00000240361.2  ENSG00000186092.6  ...  ENSG00000273739.1  \\\n",
       "0                  0                  0  ...                  0   \n",
       "1                  0                  2  ...                  0   \n",
       "\n",
       "   ENSG00000276700.1  ENSG00000276312.1  ENSG00000275757.1  ENSG00000278573.1  \\\n",
       "0                  1                 16                  1                  0   \n",
       "1                  9                  0                  1                  0   \n",
       "\n",
       "   ENSG00000276017.1  ENSG00000278817.1  ENSG00000277196.4  ENSG00000278625.1  \\\n",
       "0                  2                 19                  0                  0   \n",
       "1                  0                  7                  1                  0   \n",
       "\n",
       "   ENSG00000277374.1  \n",
       "0                  0  \n",
       "1                  0  \n",
       "\n",
       "[2 rows x 58781 columns]"
      ]
     },
     "execution_count": 3,
     "metadata": {},
     "output_type": "execute_result"
    }
   ],
   "source": [
    "df1 = df.drop(['HudAlphaID'], axis=1)\n",
    "df1.head(2)"
   ]
  },
  {
   "cell_type": "markdown",
   "metadata": {
    "colab_type": "text",
    "id": "LWd1UlMnhT2s"
   },
   "source": [
    "## Top 50 NMI"
   ]
  },
  {
   "cell_type": "code",
   "execution_count": 4,
   "metadata": {
    "ExecuteTime": {
     "end_time": "2023-11-21T05:57:59.107441Z",
     "start_time": "2023-11-21T05:57:58.983354Z"
    }
   },
   "outputs": [
    {
     "data": {
      "text/plain": [
       "0                   HYS\n",
       "1    ENSG00000091129.19\n",
       "Name: Geneid, dtype: object"
      ]
     },
     "execution_count": 4,
     "metadata": {},
     "output_type": "execute_result"
    }
   ],
   "source": [
    "df2 = pd.read_csv('NMI_AllCounts_HYS1vs2_PD_Male.csv')\n",
    "df2_sub = df2['Geneid'].iloc[:51]\n",
    "df2_sub.head(2)"
   ]
  },
  {
   "cell_type": "code",
   "execution_count": 5,
   "metadata": {
    "ExecuteTime": {
     "end_time": "2023-11-21T05:57:59.139004Z",
     "start_time": "2023-11-21T05:57:59.110441Z"
    }
   },
   "outputs": [
    {
     "name": "stdout",
     "output_type": "stream",
     "text": [
      "(729, 51)\n"
     ]
    },
    {
     "data": {
      "text/html": [
       "<div>\n",
       "<style scoped>\n",
       "    .dataframe tbody tr th:only-of-type {\n",
       "        vertical-align: middle;\n",
       "    }\n",
       "\n",
       "    .dataframe tbody tr th {\n",
       "        vertical-align: top;\n",
       "    }\n",
       "\n",
       "    .dataframe thead th {\n",
       "        text-align: right;\n",
       "    }\n",
       "</style>\n",
       "<table border=\"1\" class=\"dataframe\">\n",
       "  <thead>\n",
       "    <tr style=\"text-align: right;\">\n",
       "      <th></th>\n",
       "      <th>HYS</th>\n",
       "      <th>ENSG00000091129.19</th>\n",
       "      <th>ENSG00000230910.3</th>\n",
       "      <th>ENSG00000182985.17</th>\n",
       "      <th>ENSG00000266145.1</th>\n",
       "      <th>ENSG00000073464.11</th>\n",
       "      <th>ENSG00000153201.15</th>\n",
       "      <th>ENSG00000232208.2</th>\n",
       "      <th>ENSG00000283125.1</th>\n",
       "      <th>ENSG00000251669.5</th>\n",
       "      <th>...</th>\n",
       "      <th>ENSG00000258170.1</th>\n",
       "      <th>ENSG00000279254.1</th>\n",
       "      <th>ENSG00000173114.12</th>\n",
       "      <th>ENSG00000272909.1</th>\n",
       "      <th>ENSG00000259054.1</th>\n",
       "      <th>ENSG00000167774.2</th>\n",
       "      <th>ENSG00000211935.3</th>\n",
       "      <th>ENSG00000197885.10</th>\n",
       "      <th>ENSG00000262652.1</th>\n",
       "      <th>ENSG00000265450.1</th>\n",
       "    </tr>\n",
       "  </thead>\n",
       "  <tbody>\n",
       "    <tr>\n",
       "      <th>0</th>\n",
       "      <td>2</td>\n",
       "      <td>176</td>\n",
       "      <td>144</td>\n",
       "      <td>424</td>\n",
       "      <td>23</td>\n",
       "      <td>885</td>\n",
       "      <td>10758</td>\n",
       "      <td>70</td>\n",
       "      <td>7</td>\n",
       "      <td>88</td>\n",
       "      <td>...</td>\n",
       "      <td>0</td>\n",
       "      <td>54</td>\n",
       "      <td>488</td>\n",
       "      <td>148</td>\n",
       "      <td>8</td>\n",
       "      <td>0</td>\n",
       "      <td>31</td>\n",
       "      <td>180</td>\n",
       "      <td>118</td>\n",
       "      <td>25</td>\n",
       "    </tr>\n",
       "    <tr>\n",
       "      <th>1</th>\n",
       "      <td>2</td>\n",
       "      <td>56</td>\n",
       "      <td>23</td>\n",
       "      <td>112</td>\n",
       "      <td>9</td>\n",
       "      <td>1100</td>\n",
       "      <td>9592</td>\n",
       "      <td>109</td>\n",
       "      <td>19</td>\n",
       "      <td>35</td>\n",
       "      <td>...</td>\n",
       "      <td>0</td>\n",
       "      <td>45</td>\n",
       "      <td>189</td>\n",
       "      <td>54</td>\n",
       "      <td>6</td>\n",
       "      <td>3</td>\n",
       "      <td>77</td>\n",
       "      <td>160</td>\n",
       "      <td>71</td>\n",
       "      <td>8</td>\n",
       "    </tr>\n",
       "  </tbody>\n",
       "</table>\n",
       "<p>2 rows × 51 columns</p>\n",
       "</div>"
      ],
      "text/plain": [
       "   HYS  ENSG00000091129.19  ENSG00000230910.3  ENSG00000182985.17  \\\n",
       "0    2                 176                144                 424   \n",
       "1    2                  56                 23                 112   \n",
       "\n",
       "   ENSG00000266145.1  ENSG00000073464.11  ENSG00000153201.15  \\\n",
       "0                 23                 885               10758   \n",
       "1                  9                1100                9592   \n",
       "\n",
       "   ENSG00000232208.2  ENSG00000283125.1  ENSG00000251669.5  ...  \\\n",
       "0                 70                  7                 88  ...   \n",
       "1                109                 19                 35  ...   \n",
       "\n",
       "   ENSG00000258170.1  ENSG00000279254.1  ENSG00000173114.12  \\\n",
       "0                  0                 54                 488   \n",
       "1                  0                 45                 189   \n",
       "\n",
       "   ENSG00000272909.1  ENSG00000259054.1  ENSG00000167774.2  ENSG00000211935.3  \\\n",
       "0                148                  8                  0                 31   \n",
       "1                 54                  6                  3                 77   \n",
       "\n",
       "   ENSG00000197885.10  ENSG00000262652.1  ENSG00000265450.1  \n",
       "0                 180                118                 25  \n",
       "1                 160                 71                  8  \n",
       "\n",
       "[2 rows x 51 columns]"
      ]
     },
     "execution_count": 5,
     "metadata": {},
     "output_type": "execute_result"
    }
   ],
   "source": [
    "df_50 = df1[df2_sub]\n",
    "print(df_50.shape)\n",
    "df_50.head(2)"
   ]
  },
  {
   "cell_type": "code",
   "execution_count": 6,
   "metadata": {
    "ExecuteTime": {
     "end_time": "2023-11-21T05:57:59.216868Z",
     "start_time": "2023-11-21T05:57:59.144938Z"
    }
   },
   "outputs": [
    {
     "data": {
      "text/plain": [
       "2    511\n",
       "1    218\n",
       "Name: HYS, dtype: int64"
      ]
     },
     "execution_count": 6,
     "metadata": {},
     "output_type": "execute_result"
    }
   ],
   "source": [
    "df['HYS'].value_counts()"
   ]
  },
  {
   "cell_type": "code",
   "execution_count": 7,
   "metadata": {
    "ExecuteTime": {
     "end_time": "2023-11-21T05:59:12.504285Z",
     "start_time": "2023-11-21T05:57:59.219874Z"
    },
    "scrolled": true
   },
   "outputs": [
    {
     "name": "stdout",
     "output_type": "stream",
     "text": [
      "1\n",
      "Mean accuracy: 0.69\n",
      "2\n",
      "Mean accuracy: 0.6199999999999999\n",
      "3\n",
      "Mean accuracy: 0.6749999999999999\n",
      "4\n",
      "Mean accuracy: 0.6599999999999999\n",
      "5\n",
      "Mean accuracy: 0.6250000000000001\n",
      "6\n",
      "Mean accuracy: 0.6\n",
      "7\n",
      "Mean accuracy: 0.64\n",
      "8\n",
      "Mean accuracy: 0.635\n",
      "9\n",
      "Mean accuracy: 0.6100000000000001\n",
      "10\n",
      "Mean accuracy: 0.5549999999999999\n",
      "11\n",
      "Mean accuracy: 0.635\n",
      "12\n",
      "Mean accuracy: 0.595\n",
      "13\n",
      "Mean accuracy: 0.625\n",
      "14\n",
      "Mean accuracy: 0.685\n",
      "15\n",
      "Mean accuracy: 0.65\n",
      "16\n",
      "Mean accuracy: 0.635\n",
      "17\n",
      "Mean accuracy: 0.625\n",
      "18\n",
      "Mean accuracy: 0.6799999999999999\n",
      "19\n",
      "Mean accuracy: 0.6399999999999999\n",
      "20\n",
      "Mean accuracy: 0.64\n",
      "21\n",
      "Mean accuracy: 0.65\n",
      "22\n",
      "Mean accuracy: 0.635\n",
      "23\n",
      "Mean accuracy: 0.625\n",
      "24\n",
      "Mean accuracy: 0.6749999999999999\n",
      "25\n",
      "Mean accuracy: 0.58\n",
      "26\n",
      "Mean accuracy: 0.645\n",
      "27\n",
      "Mean accuracy: 0.7100000000000001\n",
      "28\n",
      "Mean accuracy: 0.675\n",
      "29\n",
      "Mean accuracy: 0.6599999999999999\n",
      "30\n",
      "Mean accuracy: 0.5599999999999999\n",
      "31\n",
      "Mean accuracy: 0.61\n",
      "32\n",
      "Mean accuracy: 0.6599999999999999\n",
      "33\n",
      "Mean accuracy: 0.7\n",
      "34\n",
      "Mean accuracy: 0.5700000000000001\n",
      "35\n",
      "Mean accuracy: 0.61\n",
      "36\n",
      "Mean accuracy: 0.67\n",
      "37\n",
      "Mean accuracy: 0.6100000000000001\n",
      "38\n",
      "Mean accuracy: 0.655\n",
      "39\n",
      "Mean accuracy: 0.6699999999999999\n",
      "40\n",
      "Mean accuracy: 0.68\n",
      "41\n",
      "Mean accuracy: 0.6100000000000001\n",
      "42\n",
      "Mean accuracy: 0.6499999999999999\n",
      "43\n",
      "Mean accuracy: 0.6950000000000001\n",
      "44\n",
      "Mean accuracy: 0.6199999999999999\n",
      "45\n",
      "Mean accuracy: 0.63\n",
      "46\n",
      "Mean accuracy: 0.6699999999999999\n",
      "47\n",
      "Mean accuracy: 0.6000000000000001\n",
      "48\n",
      "Mean accuracy: 0.615\n",
      "49\n",
      "Mean accuracy: 0.665\n",
      "50\n",
      "Mean accuracy: 0.6950000000000001\n",
      "51\n",
      "Mean accuracy: 0.665\n",
      "52\n",
      "Mean accuracy: 0.6799999999999999\n",
      "53\n",
      "Mean accuracy: 0.65\n",
      "54\n",
      "Mean accuracy: 0.615\n",
      "55\n",
      "Mean accuracy: 0.55\n",
      "56\n",
      "Mean accuracy: 0.6100000000000001\n",
      "57\n",
      "Mean accuracy: 0.63\n",
      "58\n",
      "Mean accuracy: 0.655\n",
      "59\n",
      "Mean accuracy: 0.64\n",
      "60\n",
      "Mean accuracy: 0.6849999999999998\n",
      "61\n",
      "Mean accuracy: 0.645\n",
      "62\n",
      "Mean accuracy: 0.635\n",
      "63\n",
      "Mean accuracy: 0.6649999999999999\n",
      "64\n",
      "Mean accuracy: 0.605\n",
      "65\n",
      "Mean accuracy: 0.725\n",
      "66\n",
      "Mean accuracy: 0.6900000000000001\n",
      "67\n",
      "Mean accuracy: 0.665\n",
      "68\n",
      "Mean accuracy: 0.6500000000000001\n",
      "69\n",
      "Mean accuracy: 0.675\n",
      "70\n",
      "Mean accuracy: 0.655\n",
      "71\n",
      "Mean accuracy: 0.5549999999999999\n",
      "72\n",
      "Mean accuracy: 0.67\n",
      "73\n",
      "Mean accuracy: 0.6599999999999999\n",
      "74\n",
      "Mean accuracy: 0.64\n",
      "75\n",
      "Mean accuracy: 0.59\n",
      "76\n",
      "Mean accuracy: 0.6450000000000001\n",
      "77\n",
      "Mean accuracy: 0.65\n",
      "78\n",
      "Mean accuracy: 0.67\n",
      "79\n",
      "Mean accuracy: 0.6900000000000001\n",
      "80\n",
      "Mean accuracy: 0.63\n",
      "81\n",
      "Mean accuracy: 0.7050000000000001\n",
      "82\n",
      "Mean accuracy: 0.6500000000000001\n",
      "83\n",
      "Mean accuracy: 0.6399999999999999\n",
      "84\n",
      "Mean accuracy: 0.625\n",
      "85\n",
      "Mean accuracy: 0.625\n",
      "86\n",
      "Mean accuracy: 0.6450000000000001\n",
      "87\n",
      "Mean accuracy: 0.635\n",
      "88\n",
      "Mean accuracy: 0.5850000000000001\n",
      "89\n",
      "Mean accuracy: 0.665\n",
      "90\n",
      "Mean accuracy: 0.675\n",
      "91\n",
      "Mean accuracy: 0.7299999999999999\n",
      "92\n",
      "Mean accuracy: 0.655\n",
      "93\n",
      "Mean accuracy: 0.6399999999999999\n",
      "94\n",
      "Mean accuracy: 0.595\n",
      "95\n",
      "Mean accuracy: 0.635\n",
      "96\n",
      "Mean accuracy: 0.6249999999999999\n",
      "97\n",
      "Mean accuracy: 0.665\n",
      "98\n",
      "Mean accuracy: 0.7\n",
      "99\n",
      "Mean accuracy: 0.62\n",
      "100\n",
      "Mean accuracy: 0.675\n"
     ]
    }
   ],
   "source": [
    "np.random.seed (1)\n",
    "dframe1 = pd.DataFrame(columns=['Accuracy', 'Std_Dev'])\n",
    "\n",
    "for i in range(1, 101):\n",
    "    print(i)\n",
    "    df2 = df_50.groupby('HYS').apply(lambda x: x.sample(100))\n",
    "    X = df2.drop('HYS', axis = 1)\n",
    "    y = df2['HYS']\n",
    "    random_forest_model = RandomForestClassifier(n_estimators = 100, max_depth = 5, criterion = 'gini')\n",
    "    scores = cross_val_score(random_forest_model, X, y, cv = 10, n_jobs = -1)\n",
    "    mean_score = scores.mean()\n",
    "    print(f'Mean accuracy: {mean_score}')\n",
    "    new_row = {'Accuracy': mean_score, 'Std_Dev': std(scores)}\n",
    "    dframe1 = pd.concat([dframe1, pd.DataFrame(new_row, index=[0])], ignore_index=True)\n"
   ]
  },
  {
   "cell_type": "code",
   "execution_count": 8,
   "metadata": {
    "ExecuteTime": {
     "end_time": "2023-11-21T05:59:12.535284Z",
     "start_time": "2023-11-21T05:59:12.508287Z"
    }
   },
   "outputs": [
    {
     "name": "stdout",
     "output_type": "stream",
     "text": [
      "0.6439999999999999\n"
     ]
    }
   ],
   "source": [
    "print(mean(dframe1['Accuracy']))\n",
    "dframe1.to_csv (\"NMI50_HYS1vs2_Male_100RF.csv\", index = False)"
   ]
  },
  {
   "cell_type": "markdown",
   "metadata": {},
   "source": [
    "## Top 100 NMI"
   ]
  },
  {
   "cell_type": "code",
   "execution_count": 12,
   "metadata": {
    "ExecuteTime": {
     "end_time": "2023-11-21T06:00:13.497220Z",
     "start_time": "2023-11-21T06:00:13.418220Z"
    }
   },
   "outputs": [
    {
     "data": {
      "text/plain": [
       "0                   HYS\n",
       "1    ENSG00000091129.19\n",
       "Name: Geneid, dtype: object"
      ]
     },
     "execution_count": 12,
     "metadata": {},
     "output_type": "execute_result"
    }
   ],
   "source": [
    "df2 = pd.read_csv('NMI_AllCounts_HYS1vs2_PD_Male.csv')\n",
    "df2_sub = df2['Geneid'].iloc[:101]\n",
    "df2_sub.head(2)"
   ]
  },
  {
   "cell_type": "code",
   "execution_count": 13,
   "metadata": {
    "ExecuteTime": {
     "end_time": "2023-11-21T06:00:17.722681Z",
     "start_time": "2023-11-21T06:00:17.694648Z"
    }
   },
   "outputs": [
    {
     "name": "stdout",
     "output_type": "stream",
     "text": [
      "(729, 101)\n"
     ]
    },
    {
     "data": {
      "text/html": [
       "<div>\n",
       "<style scoped>\n",
       "    .dataframe tbody tr th:only-of-type {\n",
       "        vertical-align: middle;\n",
       "    }\n",
       "\n",
       "    .dataframe tbody tr th {\n",
       "        vertical-align: top;\n",
       "    }\n",
       "\n",
       "    .dataframe thead th {\n",
       "        text-align: right;\n",
       "    }\n",
       "</style>\n",
       "<table border=\"1\" class=\"dataframe\">\n",
       "  <thead>\n",
       "    <tr style=\"text-align: right;\">\n",
       "      <th></th>\n",
       "      <th>HYS</th>\n",
       "      <th>ENSG00000091129.19</th>\n",
       "      <th>ENSG00000230910.3</th>\n",
       "      <th>ENSG00000182985.17</th>\n",
       "      <th>ENSG00000266145.1</th>\n",
       "      <th>ENSG00000073464.11</th>\n",
       "      <th>ENSG00000153201.15</th>\n",
       "      <th>ENSG00000232208.2</th>\n",
       "      <th>ENSG00000283125.1</th>\n",
       "      <th>ENSG00000251669.5</th>\n",
       "      <th>...</th>\n",
       "      <th>ENSG00000100453.12</th>\n",
       "      <th>ENSG00000248327.1</th>\n",
       "      <th>ENSG00000260916.7</th>\n",
       "      <th>ENSG00000136021.18</th>\n",
       "      <th>ENSG00000271447.5</th>\n",
       "      <th>ENSG00000131459.12</th>\n",
       "      <th>ENSG00000258365.1</th>\n",
       "      <th>ENSG00000125971.16</th>\n",
       "      <th>ENSG00000257083.5</th>\n",
       "      <th>ENSG00000274602.4</th>\n",
       "    </tr>\n",
       "  </thead>\n",
       "  <tbody>\n",
       "    <tr>\n",
       "      <th>0</th>\n",
       "      <td>2</td>\n",
       "      <td>176</td>\n",
       "      <td>144</td>\n",
       "      <td>424</td>\n",
       "      <td>23</td>\n",
       "      <td>885</td>\n",
       "      <td>10758</td>\n",
       "      <td>70</td>\n",
       "      <td>7</td>\n",
       "      <td>88</td>\n",
       "      <td>...</td>\n",
       "      <td>2444</td>\n",
       "      <td>0</td>\n",
       "      <td>3445</td>\n",
       "      <td>5030</td>\n",
       "      <td>61</td>\n",
       "      <td>38</td>\n",
       "      <td>126</td>\n",
       "      <td>694</td>\n",
       "      <td>36</td>\n",
       "      <td>89</td>\n",
       "    </tr>\n",
       "    <tr>\n",
       "      <th>1</th>\n",
       "      <td>2</td>\n",
       "      <td>56</td>\n",
       "      <td>23</td>\n",
       "      <td>112</td>\n",
       "      <td>9</td>\n",
       "      <td>1100</td>\n",
       "      <td>9592</td>\n",
       "      <td>109</td>\n",
       "      <td>19</td>\n",
       "      <td>35</td>\n",
       "      <td>...</td>\n",
       "      <td>1739</td>\n",
       "      <td>3</td>\n",
       "      <td>3692</td>\n",
       "      <td>4672</td>\n",
       "      <td>19</td>\n",
       "      <td>27</td>\n",
       "      <td>71</td>\n",
       "      <td>400</td>\n",
       "      <td>34</td>\n",
       "      <td>205</td>\n",
       "    </tr>\n",
       "  </tbody>\n",
       "</table>\n",
       "<p>2 rows × 101 columns</p>\n",
       "</div>"
      ],
      "text/plain": [
       "   HYS  ENSG00000091129.19  ENSG00000230910.3  ENSG00000182985.17  \\\n",
       "0    2                 176                144                 424   \n",
       "1    2                  56                 23                 112   \n",
       "\n",
       "   ENSG00000266145.1  ENSG00000073464.11  ENSG00000153201.15  \\\n",
       "0                 23                 885               10758   \n",
       "1                  9                1100                9592   \n",
       "\n",
       "   ENSG00000232208.2  ENSG00000283125.1  ENSG00000251669.5  ...  \\\n",
       "0                 70                  7                 88  ...   \n",
       "1                109                 19                 35  ...   \n",
       "\n",
       "   ENSG00000100453.12  ENSG00000248327.1  ENSG00000260916.7  \\\n",
       "0                2444                  0               3445   \n",
       "1                1739                  3               3692   \n",
       "\n",
       "   ENSG00000136021.18  ENSG00000271447.5  ENSG00000131459.12  \\\n",
       "0                5030                 61                  38   \n",
       "1                4672                 19                  27   \n",
       "\n",
       "   ENSG00000258365.1  ENSG00000125971.16  ENSG00000257083.5  ENSG00000274602.4  \n",
       "0                126                 694                 36                 89  \n",
       "1                 71                 400                 34                205  \n",
       "\n",
       "[2 rows x 101 columns]"
      ]
     },
     "execution_count": 13,
     "metadata": {},
     "output_type": "execute_result"
    }
   ],
   "source": [
    "df_100 = df1[df2_sub]\n",
    "print(df_100.shape)\n",
    "df_100.head(2)"
   ]
  },
  {
   "cell_type": "code",
   "execution_count": 14,
   "metadata": {
    "ExecuteTime": {
     "end_time": "2023-11-21T06:01:57.589540Z",
     "start_time": "2023-11-21T06:00:21.953170Z"
    },
    "scrolled": true
   },
   "outputs": [
    {
     "name": "stdout",
     "output_type": "stream",
     "text": [
      "1\n",
      "Mean accuracy: 0.705\n",
      "2\n",
      "Mean accuracy: 0.66\n",
      "3\n",
      "Mean accuracy: 0.6950000000000001\n",
      "4\n",
      "Mean accuracy: 0.635\n",
      "5\n",
      "Mean accuracy: 0.6250000000000001\n",
      "6\n",
      "Mean accuracy: 0.595\n",
      "7\n",
      "Mean accuracy: 0.66\n",
      "8\n",
      "Mean accuracy: 0.6599999999999999\n",
      "9\n",
      "Mean accuracy: 0.6300000000000001\n",
      "10\n",
      "Mean accuracy: 0.61\n",
      "11\n",
      "Mean accuracy: 0.6199999999999999\n",
      "12\n",
      "Mean accuracy: 0.5700000000000001\n",
      "13\n",
      "Mean accuracy: 0.65\n",
      "14\n",
      "Mean accuracy: 0.67\n",
      "15\n",
      "Mean accuracy: 0.635\n",
      "16\n",
      "Mean accuracy: 0.6\n",
      "17\n",
      "Mean accuracy: 0.675\n",
      "18\n",
      "Mean accuracy: 0.6749999999999999\n",
      "19\n",
      "Mean accuracy: 0.6749999999999999\n",
      "20\n",
      "Mean accuracy: 0.6799999999999999\n",
      "21\n",
      "Mean accuracy: 0.6599999999999999\n",
      "22\n",
      "Mean accuracy: 0.7\n",
      "23\n",
      "Mean accuracy: 0.655\n",
      "24\n",
      "Mean accuracy: 0.6649999999999999\n",
      "25\n",
      "Mean accuracy: 0.6599999999999999\n",
      "26\n",
      "Mean accuracy: 0.655\n",
      "27\n",
      "Mean accuracy: 0.6900000000000001\n",
      "28\n",
      "Mean accuracy: 0.71\n",
      "29\n",
      "Mean accuracy: 0.66\n",
      "30\n",
      "Mean accuracy: 0.605\n",
      "31\n",
      "Mean accuracy: 0.6200000000000001\n",
      "32\n",
      "Mean accuracy: 0.6950000000000001\n",
      "33\n",
      "Mean accuracy: 0.66\n",
      "34\n",
      "Mean accuracy: 0.635\n",
      "35\n",
      "Mean accuracy: 0.63\n",
      "36\n",
      "Mean accuracy: 0.6950000000000001\n",
      "37\n",
      "Mean accuracy: 0.5850000000000001\n",
      "38\n",
      "Mean accuracy: 0.7300000000000001\n",
      "39\n",
      "Mean accuracy: 0.6950000000000001\n",
      "40\n",
      "Mean accuracy: 0.685\n",
      "41\n",
      "Mean accuracy: 0.62\n",
      "42\n",
      "Mean accuracy: 0.655\n",
      "43\n",
      "Mean accuracy: 0.675\n",
      "44\n",
      "Mean accuracy: 0.6649999999999999\n",
      "45\n",
      "Mean accuracy: 0.6300000000000001\n",
      "46\n",
      "Mean accuracy: 0.705\n",
      "47\n",
      "Mean accuracy: 0.635\n",
      "48\n",
      "Mean accuracy: 0.59\n",
      "49\n",
      "Mean accuracy: 0.66\n",
      "50\n",
      "Mean accuracy: 0.735\n",
      "51\n",
      "Mean accuracy: 0.615\n",
      "52\n",
      "Mean accuracy: 0.6300000000000001\n",
      "53\n",
      "Mean accuracy: 0.675\n",
      "54\n",
      "Mean accuracy: 0.6599999999999999\n",
      "55\n",
      "Mean accuracy: 0.595\n",
      "56\n",
      "Mean accuracy: 0.6300000000000001\n",
      "57\n",
      "Mean accuracy: 0.64\n",
      "58\n",
      "Mean accuracy: 0.6699999999999999\n",
      "59\n",
      "Mean accuracy: 0.635\n",
      "60\n",
      "Mean accuracy: 0.67\n",
      "61\n",
      "Mean accuracy: 0.625\n",
      "62\n",
      "Mean accuracy: 0.7\n",
      "63\n",
      "Mean accuracy: 0.65\n",
      "64\n",
      "Mean accuracy: 0.61\n",
      "65\n",
      "Mean accuracy: 0.6749999999999999\n",
      "66\n",
      "Mean accuracy: 0.6849999999999999\n",
      "67\n",
      "Mean accuracy: 0.6849999999999999\n",
      "68\n",
      "Mean accuracy: 0.6950000000000001\n",
      "69\n",
      "Mean accuracy: 0.645\n",
      "70\n",
      "Mean accuracy: 0.65\n",
      "71\n",
      "Mean accuracy: 0.645\n",
      "72\n",
      "Mean accuracy: 0.6249999999999999\n",
      "73\n",
      "Mean accuracy: 0.66\n",
      "74\n",
      "Mean accuracy: 0.65\n",
      "75\n",
      "Mean accuracy: 0.59\n",
      "76\n",
      "Mean accuracy: 0.71\n",
      "77\n",
      "Mean accuracy: 0.725\n",
      "78\n",
      "Mean accuracy: 0.66\n",
      "79\n",
      "Mean accuracy: 0.6399999999999999\n",
      "80\n",
      "Mean accuracy: 0.665\n",
      "81\n",
      "Mean accuracy: 0.7\n",
      "82\n",
      "Mean accuracy: 0.6900000000000001\n",
      "83\n",
      "Mean accuracy: 0.655\n",
      "84\n",
      "Mean accuracy: 0.615\n",
      "85\n",
      "Mean accuracy: 0.6849999999999999\n",
      "86\n",
      "Mean accuracy: 0.635\n",
      "87\n",
      "Mean accuracy: 0.635\n",
      "88\n",
      "Mean accuracy: 0.62\n",
      "89\n",
      "Mean accuracy: 0.635\n",
      "90\n",
      "Mean accuracy: 0.685\n",
      "91\n",
      "Mean accuracy: 0.7200000000000001\n",
      "92\n",
      "Mean accuracy: 0.5700000000000001\n",
      "93\n",
      "Mean accuracy: 0.7\n",
      "94\n",
      "Mean accuracy: 0.65\n",
      "95\n",
      "Mean accuracy: 0.6599999999999999\n",
      "96\n",
      "Mean accuracy: 0.6950000000000001\n",
      "97\n",
      "Mean accuracy: 0.675\n",
      "98\n",
      "Mean accuracy: 0.65\n",
      "99\n",
      "Mean accuracy: 0.67\n",
      "100\n",
      "Mean accuracy: 0.6599999999999999\n"
     ]
    }
   ],
   "source": [
    "np.random.seed (1)\n",
    "dframe1 = pd.DataFrame(columns=['Accuracy', 'Std_Dev'])\n",
    "\n",
    "for i in range(1, 101):\n",
    "    print(i)\n",
    "    df2 = df_100.groupby('HYS').apply(lambda x: x.sample(100))\n",
    "    X = df2.drop('HYS', axis = 1)\n",
    "    y = df2['HYS']\n",
    "    random_forest_model = RandomForestClassifier(n_estimators = 100, max_depth = 5, criterion = 'gini')\n",
    "    scores = cross_val_score(random_forest_model, X, y, cv = 10, n_jobs = -1)\n",
    "    mean_score = scores.mean()\n",
    "    print(f'Mean accuracy: {mean_score}')\n",
    "    new_row = {'Accuracy': mean_score, 'Std_Dev': std(scores)}\n",
    "    dframe1 = pd.concat([dframe1, pd.DataFrame(new_row, index=[0])], ignore_index=True)\n"
   ]
  },
  {
   "cell_type": "code",
   "execution_count": 15,
   "metadata": {
    "ExecuteTime": {
     "end_time": "2023-11-21T06:02:04.169544Z",
     "start_time": "2023-11-21T06:02:04.158543Z"
    }
   },
   "outputs": [
    {
     "name": "stdout",
     "output_type": "stream",
     "text": [
      "0.6560000000000001\n"
     ]
    }
   ],
   "source": [
    "print(mean(dframe1['Accuracy']))\n",
    "dframe1.to_csv (\"NMI100_HYS1vs2_Male_100RF.csv\", index = False)"
   ]
  },
  {
   "cell_type": "markdown",
   "metadata": {},
   "source": []
  },
  {
   "cell_type": "markdown",
   "metadata": {},
   "source": [
    "## Top 250 NMI"
   ]
  },
  {
   "cell_type": "code",
   "execution_count": 17,
   "metadata": {
    "ExecuteTime": {
     "end_time": "2023-11-21T06:02:26.607501Z",
     "start_time": "2023-11-21T06:02:26.529500Z"
    }
   },
   "outputs": [
    {
     "data": {
      "text/plain": [
       "0                   HYS\n",
       "1    ENSG00000091129.19\n",
       "Name: Geneid, dtype: object"
      ]
     },
     "execution_count": 17,
     "metadata": {},
     "output_type": "execute_result"
    }
   ],
   "source": [
    "df2 = pd.read_csv('NMI_AllCounts_HYS1vs2_PD_Male.csv')\n",
    "df2_sub = df2['Geneid'].iloc[:251]\n",
    "df2_sub.head(2)"
   ]
  },
  {
   "cell_type": "code",
   "execution_count": 18,
   "metadata": {
    "ExecuteTime": {
     "end_time": "2023-11-21T06:02:31.265507Z",
     "start_time": "2023-11-21T06:02:31.236500Z"
    }
   },
   "outputs": [
    {
     "name": "stdout",
     "output_type": "stream",
     "text": [
      "(729, 251)\n"
     ]
    },
    {
     "data": {
      "text/html": [
       "<div>\n",
       "<style scoped>\n",
       "    .dataframe tbody tr th:only-of-type {\n",
       "        vertical-align: middle;\n",
       "    }\n",
       "\n",
       "    .dataframe tbody tr th {\n",
       "        vertical-align: top;\n",
       "    }\n",
       "\n",
       "    .dataframe thead th {\n",
       "        text-align: right;\n",
       "    }\n",
       "</style>\n",
       "<table border=\"1\" class=\"dataframe\">\n",
       "  <thead>\n",
       "    <tr style=\"text-align: right;\">\n",
       "      <th></th>\n",
       "      <th>HYS</th>\n",
       "      <th>ENSG00000091129.19</th>\n",
       "      <th>ENSG00000230910.3</th>\n",
       "      <th>ENSG00000182985.17</th>\n",
       "      <th>ENSG00000266145.1</th>\n",
       "      <th>ENSG00000073464.11</th>\n",
       "      <th>ENSG00000153201.15</th>\n",
       "      <th>ENSG00000232208.2</th>\n",
       "      <th>ENSG00000283125.1</th>\n",
       "      <th>ENSG00000251669.5</th>\n",
       "      <th>...</th>\n",
       "      <th>ENSG00000251411.1</th>\n",
       "      <th>ENSG00000270793.1</th>\n",
       "      <th>ENSG00000229738.1</th>\n",
       "      <th>ENSG00000211727.3</th>\n",
       "      <th>ENSG00000230262.6</th>\n",
       "      <th>ENSG00000211978.2</th>\n",
       "      <th>ENSG00000215284.2</th>\n",
       "      <th>ENSG00000221930.6</th>\n",
       "      <th>ENSG00000260135.6</th>\n",
       "      <th>ENSG00000184613.10</th>\n",
       "    </tr>\n",
       "  </thead>\n",
       "  <tbody>\n",
       "    <tr>\n",
       "      <th>0</th>\n",
       "      <td>2</td>\n",
       "      <td>176</td>\n",
       "      <td>144</td>\n",
       "      <td>424</td>\n",
       "      <td>23</td>\n",
       "      <td>885</td>\n",
       "      <td>10758</td>\n",
       "      <td>70</td>\n",
       "      <td>7</td>\n",
       "      <td>88</td>\n",
       "      <td>...</td>\n",
       "      <td>38</td>\n",
       "      <td>0</td>\n",
       "      <td>1</td>\n",
       "      <td>53</td>\n",
       "      <td>11</td>\n",
       "      <td>15</td>\n",
       "      <td>38</td>\n",
       "      <td>19</td>\n",
       "      <td>31</td>\n",
       "      <td>5330</td>\n",
       "    </tr>\n",
       "    <tr>\n",
       "      <th>1</th>\n",
       "      <td>2</td>\n",
       "      <td>56</td>\n",
       "      <td>23</td>\n",
       "      <td>112</td>\n",
       "      <td>9</td>\n",
       "      <td>1100</td>\n",
       "      <td>9592</td>\n",
       "      <td>109</td>\n",
       "      <td>19</td>\n",
       "      <td>35</td>\n",
       "      <td>...</td>\n",
       "      <td>17</td>\n",
       "      <td>0</td>\n",
       "      <td>2</td>\n",
       "      <td>19</td>\n",
       "      <td>1</td>\n",
       "      <td>37</td>\n",
       "      <td>56</td>\n",
       "      <td>48</td>\n",
       "      <td>3</td>\n",
       "      <td>3126</td>\n",
       "    </tr>\n",
       "  </tbody>\n",
       "</table>\n",
       "<p>2 rows × 251 columns</p>\n",
       "</div>"
      ],
      "text/plain": [
       "   HYS  ENSG00000091129.19  ENSG00000230910.3  ENSG00000182985.17  \\\n",
       "0    2                 176                144                 424   \n",
       "1    2                  56                 23                 112   \n",
       "\n",
       "   ENSG00000266145.1  ENSG00000073464.11  ENSG00000153201.15  \\\n",
       "0                 23                 885               10758   \n",
       "1                  9                1100                9592   \n",
       "\n",
       "   ENSG00000232208.2  ENSG00000283125.1  ENSG00000251669.5  ...  \\\n",
       "0                 70                  7                 88  ...   \n",
       "1                109                 19                 35  ...   \n",
       "\n",
       "   ENSG00000251411.1  ENSG00000270793.1  ENSG00000229738.1  ENSG00000211727.3  \\\n",
       "0                 38                  0                  1                 53   \n",
       "1                 17                  0                  2                 19   \n",
       "\n",
       "   ENSG00000230262.6  ENSG00000211978.2  ENSG00000215284.2  ENSG00000221930.6  \\\n",
       "0                 11                 15                 38                 19   \n",
       "1                  1                 37                 56                 48   \n",
       "\n",
       "   ENSG00000260135.6  ENSG00000184613.10  \n",
       "0                 31                5330  \n",
       "1                  3                3126  \n",
       "\n",
       "[2 rows x 251 columns]"
      ]
     },
     "execution_count": 18,
     "metadata": {},
     "output_type": "execute_result"
    }
   ],
   "source": [
    "df_250 = df1[df2_sub]\n",
    "print(df_250.shape)\n",
    "df_250.head(2)"
   ]
  },
  {
   "cell_type": "code",
   "execution_count": null,
   "metadata": {
    "ExecuteTime": {
     "start_time": "2023-11-21T06:02:27.775Z"
    },
    "scrolled": true
   },
   "outputs": [
    {
     "name": "stdout",
     "output_type": "stream",
     "text": [
      "1\n",
      "Mean accuracy: 0.675\n",
      "2\n",
      "Mean accuracy: 0.69\n",
      "3\n",
      "Mean accuracy: 0.655\n",
      "4\n"
     ]
    }
   ],
   "source": [
    "np.random.seed (1)\n",
    "dframe1 = pd.DataFrame(columns=['Accuracy', 'Std_Dev'])\n",
    "\n",
    "for i in range(1, 101):\n",
    "    print(i)\n",
    "    df2 = df_250.groupby('HYS').apply(lambda x: x.sample(100))\n",
    "    X = df2.drop('HYS', axis = 1)\n",
    "    y = df2['HYS']\n",
    "    random_forest_model = RandomForestClassifier(n_estimators = 100, max_depth = 5, criterion = 'gini')\n",
    "    scores = cross_val_score(random_forest_model, X, y, cv = 10, n_jobs = -1)\n",
    "    mean_score = scores.mean()\n",
    "    print(f'Mean accuracy: {mean_score}')\n",
    "    new_row = {'Accuracy': mean_score, 'Std_Dev': std(scores)}\n",
    "    dframe1 = pd.concat([dframe1, pd.DataFrame(new_row, index=[0])], ignore_index=True)\n"
   ]
  },
  {
   "cell_type": "code",
   "execution_count": null,
   "metadata": {
    "ExecuteTime": {
     "start_time": "2023-11-21T06:02:28.432Z"
    }
   },
   "outputs": [],
   "source": [
    "print(mean(dframe1['Accuracy']))\n",
    "dframe1.to_csv (\"NMI250_HYS1vs2_Male_100RF.csv\", index = False)"
   ]
  },
  {
   "cell_type": "markdown",
   "metadata": {
    "colab_type": "text",
    "id": "YvxIPVyMhmKp"
   },
   "source": [
    "## Top 500 NMI"
   ]
  },
  {
   "cell_type": "code",
   "execution_count": null,
   "metadata": {
    "ExecuteTime": {
     "start_time": "2023-11-21T06:02:36.903Z"
    }
   },
   "outputs": [],
   "source": [
    "df2 = pd.read_csv('NMI_AllCounts_HYS1vs2_PD_Male.csv')\n",
    "df2_sub = df2['Geneid'].iloc[:501]\n",
    "df2_sub.head(2)"
   ]
  },
  {
   "cell_type": "code",
   "execution_count": null,
   "metadata": {
    "ExecuteTime": {
     "start_time": "2023-11-21T06:02:37.255Z"
    }
   },
   "outputs": [],
   "source": [
    "df_500 = df1[df2_sub]\n",
    "print(df_500.shape)\n",
    "df_500.head(2)"
   ]
  },
  {
   "cell_type": "code",
   "execution_count": null,
   "metadata": {
    "ExecuteTime": {
     "start_time": "2023-11-21T06:02:37.639Z"
    },
    "scrolled": true
   },
   "outputs": [],
   "source": [
    "np.random.seed (1)\n",
    "dframe1 = pd.DataFrame(columns=['Accuracy', 'Std_Dev'])\n",
    "\n",
    "for i in range(1, 101):\n",
    "    print(i)\n",
    "    df2 = df_500.groupby('HYS').apply(lambda x: x.sample(100))\n",
    "    X = df2.drop('HYS', axis = 1)\n",
    "    y = df2['HYS']\n",
    "    random_forest_model = RandomForestClassifier(n_estimators = 100, max_depth = 5, criterion = 'gini')\n",
    "    scores = cross_val_score(random_forest_model, X, y, cv = 10, n_jobs = -1)\n",
    "    mean_score = scores.mean()\n",
    "    print(f'Mean accuracy: {mean_score}')\n",
    "    new_row = {'Accuracy': mean_score, 'Std_Dev': std(scores)}\n",
    "    dframe1 = pd.concat([dframe1, pd.DataFrame(new_row, index=[0])], ignore_index=True)\n"
   ]
  },
  {
   "cell_type": "code",
   "execution_count": null,
   "metadata": {
    "ExecuteTime": {
     "start_time": "2023-11-21T06:02:38.215Z"
    }
   },
   "outputs": [],
   "source": [
    "print(mean(dframe1['Accuracy']))\n",
    "dframe1.to_csv (\"NMI500_HYS1vs2_Male_100RF.csv\", index = False)"
   ]
  },
  {
   "cell_type": "markdown",
   "metadata": {},
   "source": []
  }
 ],
 "metadata": {
  "colab": {
   "authorship_tag": "ABX9TyPA7K2PAkEFgaKFIvslUMEc",
   "collapsed_sections": [],
   "machine_shape": "hm",
   "name": "random_forest_classification.ipynb",
   "provenance": [],
   "toc_visible": true
  },
  "kernelspec": {
   "display_name": "Python 3 (ipykernel)",
   "language": "python",
   "name": "python3"
  },
  "language_info": {
   "codemirror_mode": {
    "name": "ipython",
    "version": 3
   },
   "file_extension": ".py",
   "mimetype": "text/x-python",
   "name": "python",
   "nbconvert_exporter": "python",
   "pygments_lexer": "ipython3",
   "version": "3.9.16"
  },
  "toc": {
   "base_numbering": 1,
   "nav_menu": {},
   "number_sections": true,
   "sideBar": true,
   "skip_h1_title": false,
   "title_cell": "Table of Contents",
   "title_sidebar": "Contents",
   "toc_cell": false,
   "toc_position": {},
   "toc_section_display": true,
   "toc_window_display": false
  },
  "varInspector": {
   "cols": {
    "lenName": 16,
    "lenType": 16,
    "lenVar": 40
   },
   "kernels_config": {
    "python": {
     "delete_cmd_postfix": "",
     "delete_cmd_prefix": "del ",
     "library": "var_list.py",
     "varRefreshCmd": "print(var_dic_list())"
    },
    "r": {
     "delete_cmd_postfix": ") ",
     "delete_cmd_prefix": "rm(",
     "library": "var_list.r",
     "varRefreshCmd": "cat(var_dic_list()) "
    }
   },
   "types_to_exclude": [
    "module",
    "function",
    "builtin_function_or_method",
    "instance",
    "_Feature"
   ],
   "window_display": false
  }
 },
 "nbformat": 4,
 "nbformat_minor": 1
}
