{
 "cells": [
  {
   "cell_type": "code",
   "execution_count": 1,
   "id": "227733c0",
   "metadata": {
    "ExecuteTime": {
     "end_time": "2022-12-13T13:16:03.020276Z",
     "start_time": "2022-12-13T13:16:02.496798Z"
    },
    "run_control": {
     "marked": false
    },
    "scrolled": true
   },
   "outputs": [],
   "source": [
    "import pandas as pd\n",
    "import numpy as np"
   ]
  },
  {
   "cell_type": "code",
   "execution_count": 2,
   "id": "0ebb8ca7",
   "metadata": {
    "ExecuteTime": {
     "end_time": "2022-12-13T13:16:32.344314Z",
     "start_time": "2022-12-13T13:16:03.020276Z"
    },
    "scrolled": false
   },
   "outputs": [
    {
     "name": "stdout",
     "output_type": "stream",
     "text": [
      "Z:\\PPMI_Data\\Excel_Data\\NonMotors\\Feature_CpG_Gene_Association\\Fatigue_Processed_Files\n",
      "(458, 31217)\n"
     ]
    },
    {
     "data": {
      "text/html": [
       "<div>\n",
       "<style scoped>\n",
       "    .dataframe tbody tr th:only-of-type {\n",
       "        vertical-align: middle;\n",
       "    }\n",
       "\n",
       "    .dataframe tbody tr th {\n",
       "        vertical-align: top;\n",
       "    }\n",
       "\n",
       "    .dataframe thead th {\n",
       "        text-align: right;\n",
       "    }\n",
       "</style>\n",
       "<table border=\"1\" class=\"dataframe\">\n",
       "  <thead>\n",
       "    <tr style=\"text-align: right;\">\n",
       "      <th></th>\n",
       "      <th>Sentrix</th>\n",
       "      <th>PATNO</th>\n",
       "      <th>HYS</th>\n",
       "      <th>Gender</th>\n",
       "      <th>APPRDX</th>\n",
       "      <th>MDSP_Fatigue</th>\n",
       "      <th>cg17960051</th>\n",
       "      <th>cg06562372</th>\n",
       "      <th>cg04099454</th>\n",
       "      <th>cg18542829</th>\n",
       "      <th>...</th>\n",
       "      <th>cg15500865</th>\n",
       "      <th>cg10329418</th>\n",
       "      <th>cg18241308</th>\n",
       "      <th>cg04350520</th>\n",
       "      <th>cg04685170</th>\n",
       "      <th>cg20985067</th>\n",
       "      <th>cg08461772</th>\n",
       "      <th>cg25879118</th>\n",
       "      <th>cg07510163</th>\n",
       "      <th>ch.13.693633F</th>\n",
       "    </tr>\n",
       "  </thead>\n",
       "  <tbody>\n",
       "    <tr>\n",
       "      <th>0</th>\n",
       "      <td>200991620021_R01C01</td>\n",
       "      <td>3001</td>\n",
       "      <td>2</td>\n",
       "      <td>1</td>\n",
       "      <td>1</td>\n",
       "      <td>1</td>\n",
       "      <td>0.0197</td>\n",
       "      <td>0.0244</td>\n",
       "      <td>0.8951</td>\n",
       "      <td>0.0242</td>\n",
       "      <td>...</td>\n",
       "      <td>0.1052</td>\n",
       "      <td>0.2625</td>\n",
       "      <td>0.7843</td>\n",
       "      <td>0.8864</td>\n",
       "      <td>0.0807</td>\n",
       "      <td>0.8149</td>\n",
       "      <td>0.3316</td>\n",
       "      <td>0.9164</td>\n",
       "      <td>0.8418</td>\n",
       "      <td>0.0369</td>\n",
       "    </tr>\n",
       "    <tr>\n",
       "      <th>1</th>\n",
       "      <td>200973410167_R04C01</td>\n",
       "      <td>3007</td>\n",
       "      <td>2</td>\n",
       "      <td>1</td>\n",
       "      <td>1</td>\n",
       "      <td>1</td>\n",
       "      <td>0.0204</td>\n",
       "      <td>0.0161</td>\n",
       "      <td>0.8825</td>\n",
       "      <td>0.0456</td>\n",
       "      <td>...</td>\n",
       "      <td>0.0661</td>\n",
       "      <td>0.2107</td>\n",
       "      <td>0.9051</td>\n",
       "      <td>0.8822</td>\n",
       "      <td>0.0829</td>\n",
       "      <td>0.9064</td>\n",
       "      <td>0.4977</td>\n",
       "      <td>0.9155</td>\n",
       "      <td>0.8229</td>\n",
       "      <td>0.0399</td>\n",
       "    </tr>\n",
       "  </tbody>\n",
       "</table>\n",
       "<p>2 rows × 31217 columns</p>\n",
       "</div>"
      ],
      "text/plain": [
       "               Sentrix  PATNO  HYS  Gender  APPRDX  MDSP_Fatigue  cg17960051  \\\n",
       "0  200991620021_R01C01   3001    2       1       1             1      0.0197   \n",
       "1  200973410167_R04C01   3007    2       1       1             1      0.0204   \n",
       "\n",
       "   cg06562372  cg04099454  cg18542829  ...  cg15500865  cg10329418  \\\n",
       "0      0.0244      0.8951      0.0242  ...      0.1052      0.2625   \n",
       "1      0.0161      0.8825      0.0456  ...      0.0661      0.2107   \n",
       "\n",
       "   cg18241308  cg04350520  cg04685170  cg20985067  cg08461772  cg25879118  \\\n",
       "0      0.7843      0.8864      0.0807      0.8149      0.3316      0.9164   \n",
       "1      0.9051      0.8822      0.0829      0.9064      0.4977      0.9155   \n",
       "\n",
       "   cg07510163  ch.13.693633F  \n",
       "0      0.8418         0.0369  \n",
       "1      0.8229         0.0399  \n",
       "\n",
       "[2 rows x 31217 columns]"
      ]
     },
     "execution_count": 2,
     "metadata": {},
     "output_type": "execute_result"
    }
   ],
   "source": [
    "%cd Z:\\PPMI_Data\\Excel_Data\\NonMotors\\Feature_CpG_Gene_Association\\Fatigue_Processed_Files\n",
    "df = pd.read_csv (\"FatigueCateg_Methylome_APPRDXFilter.csv\")\n",
    "df = df.round(decimals = 4)\n",
    "print (df.shape)\n",
    "df.head(2)"
   ]
  },
  {
   "cell_type": "code",
   "execution_count": 3,
   "id": "a60836ec",
   "metadata": {
    "ExecuteTime": {
     "end_time": "2022-12-13T13:16:32.364413Z",
     "start_time": "2022-12-13T13:16:32.346337Z"
    }
   },
   "outputs": [],
   "source": [
    "GeneList = ['Sentrix','PATNO','Gender','MDSP_Fatigue','HYS','APPRDX',\n",
    "           'cg18473117','cg12600134','cg05142211','cg12526471','cg09197492']"
   ]
  },
  {
   "cell_type": "code",
   "execution_count": 4,
   "id": "448b7927",
   "metadata": {
    "ExecuteTime": {
     "end_time": "2022-12-13T13:16:32.545486Z",
     "start_time": "2022-12-13T13:16:32.366434Z"
    }
   },
   "outputs": [
    {
     "name": "stdout",
     "output_type": "stream",
     "text": [
      "(457, 11)\n"
     ]
    },
    {
     "data": {
      "text/html": [
       "<div>\n",
       "<style scoped>\n",
       "    .dataframe tbody tr th:only-of-type {\n",
       "        vertical-align: middle;\n",
       "    }\n",
       "\n",
       "    .dataframe tbody tr th {\n",
       "        vertical-align: top;\n",
       "    }\n",
       "\n",
       "    .dataframe thead th {\n",
       "        text-align: right;\n",
       "    }\n",
       "</style>\n",
       "<table border=\"1\" class=\"dataframe\">\n",
       "  <thead>\n",
       "    <tr style=\"text-align: right;\">\n",
       "      <th></th>\n",
       "      <th>Sentrix</th>\n",
       "      <th>PATNO</th>\n",
       "      <th>HYS</th>\n",
       "      <th>Gender</th>\n",
       "      <th>APPRDX</th>\n",
       "      <th>MDSP_Fatigue</th>\n",
       "      <th>cg18473117</th>\n",
       "      <th>cg12600134</th>\n",
       "      <th>cg09197492</th>\n",
       "      <th>cg05142211</th>\n",
       "      <th>cg12526471</th>\n",
       "    </tr>\n",
       "  </thead>\n",
       "  <tbody>\n",
       "    <tr>\n",
       "      <th>0</th>\n",
       "      <td>200991620021_R01C01</td>\n",
       "      <td>3001</td>\n",
       "      <td>2</td>\n",
       "      <td>1</td>\n",
       "      <td>1</td>\n",
       "      <td>1</td>\n",
       "      <td>0.9388</td>\n",
       "      <td>0.0253</td>\n",
       "      <td>0.9636</td>\n",
       "      <td>0.0350</td>\n",
       "      <td>0.4169</td>\n",
       "    </tr>\n",
       "    <tr>\n",
       "      <th>1</th>\n",
       "      <td>200973410167_R04C01</td>\n",
       "      <td>3007</td>\n",
       "      <td>2</td>\n",
       "      <td>1</td>\n",
       "      <td>1</td>\n",
       "      <td>1</td>\n",
       "      <td>0.9282</td>\n",
       "      <td>0.0179</td>\n",
       "      <td>0.9636</td>\n",
       "      <td>0.0419</td>\n",
       "      <td>0.4492</td>\n",
       "    </tr>\n",
       "  </tbody>\n",
       "</table>\n",
       "</div>"
      ],
      "text/plain": [
       "               Sentrix  PATNO  HYS  Gender  APPRDX  MDSP_Fatigue  cg18473117  \\\n",
       "0  200991620021_R01C01   3001    2       1       1             1      0.9388   \n",
       "1  200973410167_R04C01   3007    2       1       1             1      0.9282   \n",
       "\n",
       "   cg12600134  cg09197492  cg05142211  cg12526471  \n",
       "0      0.0253      0.9636      0.0350      0.4169  \n",
       "1      0.0179      0.9636      0.0419      0.4492  "
      ]
     },
     "execution_count": 4,
     "metadata": {},
     "output_type": "execute_result"
    }
   ],
   "source": [
    "df1 = df[[c for c in df.columns if c in GeneList]]\n",
    "df1 = df1[df1.PATNO != 4079]\n",
    "print(df1.shape)\n",
    "df1.head(2)"
   ]
  },
  {
   "cell_type": "code",
   "execution_count": 5,
   "id": "daea5549",
   "metadata": {
    "ExecuteTime": {
     "end_time": "2022-12-13T13:16:32.646059Z",
     "start_time": "2022-12-13T13:16:32.547507Z"
    }
   },
   "outputs": [],
   "source": [
    "df1.to_csv (\"FatigueCateg_Methylome_APPRDX_Common.csv\", index = False)"
   ]
  },
  {
   "cell_type": "code",
   "execution_count": null,
   "id": "b765c3ed",
   "metadata": {},
   "outputs": [],
   "source": []
  }
 ],
 "metadata": {
  "kernelspec": {
   "display_name": "Python 3 (ipykernel)",
   "language": "python",
   "name": "python3"
  },
  "language_info": {
   "codemirror_mode": {
    "name": "ipython",
    "version": 3
   },
   "file_extension": ".py",
   "mimetype": "text/x-python",
   "name": "python",
   "nbconvert_exporter": "python",
   "pygments_lexer": "ipython3",
   "version": "3.9.7"
  },
  "toc": {
   "base_numbering": 1,
   "nav_menu": {},
   "number_sections": true,
   "sideBar": true,
   "skip_h1_title": false,
   "title_cell": "Table of Contents",
   "title_sidebar": "Contents",
   "toc_cell": false,
   "toc_position": {},
   "toc_section_display": true,
   "toc_window_display": false
  },
  "varInspector": {
   "cols": {
    "lenName": 16,
    "lenType": 16,
    "lenVar": 40
   },
   "kernels_config": {
    "python": {
     "delete_cmd_postfix": "",
     "delete_cmd_prefix": "del ",
     "library": "var_list.py",
     "varRefreshCmd": "print(var_dic_list())"
    },
    "r": {
     "delete_cmd_postfix": ") ",
     "delete_cmd_prefix": "rm(",
     "library": "var_list.r",
     "varRefreshCmd": "cat(var_dic_list()) "
    }
   },
   "types_to_exclude": [
    "module",
    "function",
    "builtin_function_or_method",
    "instance",
    "_Feature"
   ],
   "window_display": false
  }
 },
 "nbformat": 4,
 "nbformat_minor": 5
}
