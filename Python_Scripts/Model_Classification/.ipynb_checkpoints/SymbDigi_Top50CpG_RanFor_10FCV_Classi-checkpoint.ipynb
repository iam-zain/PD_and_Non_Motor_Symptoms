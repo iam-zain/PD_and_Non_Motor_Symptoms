{
 "cells": [
  {
   "cell_type": "markdown",
   "metadata": {
    "colab_type": "text",
    "id": "0MRC0e0KhQ0S"
   },
   "source": [
    "# Random Forest Classification"
   ]
  },
  {
   "cell_type": "markdown",
   "metadata": {
    "colab_type": "text",
    "id": "LWd1UlMnhT2s"
   },
   "source": [
    "## Importing the libraries"
   ]
  },
  {
   "cell_type": "code",
   "execution_count": 1,
   "metadata": {
    "ExecuteTime": {
     "end_time": "2022-12-02T09:22:45.049017Z",
     "start_time": "2022-12-02T09:22:41.496017Z"
    },
    "colab": {},
    "colab_type": "code",
    "id": "YvGPUQaHhXfL"
   },
   "outputs": [],
   "source": [
    "import random\n",
    "import numpy as np\n",
    "import pandas as pd\n",
    "import seaborn as sn\n",
    "from numpy import std\n",
    "from numpy import mean\n",
    "import matplotlib.pyplot as plt\n",
    "from sklearn.datasets import make_classification\n",
    "from sklearn.preprocessing import StandardScaler\n",
    "from sklearn.model_selection import cross_val_score\n",
    "from sklearn.ensemble import RandomForestClassifier\n",
    "from sklearn.model_selection import train_test_split\n",
    "from sklearn.model_selection import RepeatedStratifiedKFold\n",
    "from sklearn.metrics import confusion_matrix, accuracy_score\n",
    "%matplotlib inline"
   ]
  },
  {
   "cell_type": "code",
   "execution_count": 2,
   "metadata": {
    "ExecuteTime": {
     "end_time": "2022-12-02T09:40:17.873574Z",
     "start_time": "2022-12-02T09:22:45.051018Z"
    },
    "scrolled": true
   },
   "outputs": [
    {
     "name": "stdout",
     "output_type": "stream",
     "text": [
      "Z:\\PPMI_Data\\Excel_Data\\NonMotors\\Feature_CpG_Gene_Association\\SymbolDigit_Processed_Files\n",
      "(458, 196237)\n"
     ]
    },
    {
     "data": {
      "text/html": [
       "<div>\n",
       "<style scoped>\n",
       "    .dataframe tbody tr th:only-of-type {\n",
       "        vertical-align: middle;\n",
       "    }\n",
       "\n",
       "    .dataframe tbody tr th {\n",
       "        vertical-align: top;\n",
       "    }\n",
       "\n",
       "    .dataframe thead th {\n",
       "        text-align: right;\n",
       "    }\n",
       "</style>\n",
       "<table border=\"1\" class=\"dataframe\">\n",
       "  <thead>\n",
       "    <tr style=\"text-align: right;\">\n",
       "      <th></th>\n",
       "      <th>Sentrix</th>\n",
       "      <th>PATNO</th>\n",
       "      <th>HYS</th>\n",
       "      <th>Gender</th>\n",
       "      <th>APPRDX</th>\n",
       "      <th>Symbol_Digit</th>\n",
       "      <th>cg20815302</th>\n",
       "      <th>cg25795414</th>\n",
       "      <th>cg00959375</th>\n",
       "      <th>cg07781847</th>\n",
       "      <th>...</th>\n",
       "      <th>cg05276007</th>\n",
       "      <th>cg22187125</th>\n",
       "      <th>cg05983315</th>\n",
       "      <th>cg16106297</th>\n",
       "      <th>cg11312896</th>\n",
       "      <th>cg00409201</th>\n",
       "      <th>cg01442953</th>\n",
       "      <th>cg23433231</th>\n",
       "      <th>cg21151644</th>\n",
       "      <th>cg18535459</th>\n",
       "    </tr>\n",
       "  </thead>\n",
       "  <tbody>\n",
       "    <tr>\n",
       "      <th>0</th>\n",
       "      <td>200991620021_R01C01</td>\n",
       "      <td>3001</td>\n",
       "      <td>2</td>\n",
       "      <td>1</td>\n",
       "      <td>1</td>\n",
       "      <td>1</td>\n",
       "      <td>0.907957</td>\n",
       "      <td>0.868910</td>\n",
       "      <td>0.752844</td>\n",
       "      <td>0.827413</td>\n",
       "      <td>...</td>\n",
       "      <td>0.913100</td>\n",
       "      <td>0.888019</td>\n",
       "      <td>0.120054</td>\n",
       "      <td>0.688602</td>\n",
       "      <td>0.224073</td>\n",
       "      <td>0.890058</td>\n",
       "      <td>0.426119</td>\n",
       "      <td>0.728603</td>\n",
       "      <td>0.688948</td>\n",
       "      <td>0.857859</td>\n",
       "    </tr>\n",
       "    <tr>\n",
       "      <th>1</th>\n",
       "      <td>200973410167_R04C01</td>\n",
       "      <td>3007</td>\n",
       "      <td>2</td>\n",
       "      <td>1</td>\n",
       "      <td>1</td>\n",
       "      <td>2</td>\n",
       "      <td>0.918626</td>\n",
       "      <td>0.865257</td>\n",
       "      <td>0.798170</td>\n",
       "      <td>0.823846</td>\n",
       "      <td>...</td>\n",
       "      <td>0.899852</td>\n",
       "      <td>0.745658</td>\n",
       "      <td>0.251457</td>\n",
       "      <td>0.700126</td>\n",
       "      <td>0.185768</td>\n",
       "      <td>0.898374</td>\n",
       "      <td>0.238901</td>\n",
       "      <td>0.746292</td>\n",
       "      <td>0.735660</td>\n",
       "      <td>0.803144</td>\n",
       "    </tr>\n",
       "    <tr>\n",
       "      <th>2</th>\n",
       "      <td>200973410167_R05C01</td>\n",
       "      <td>3010</td>\n",
       "      <td>2</td>\n",
       "      <td>1</td>\n",
       "      <td>1</td>\n",
       "      <td>1</td>\n",
       "      <td>0.905297</td>\n",
       "      <td>0.864778</td>\n",
       "      <td>0.769766</td>\n",
       "      <td>0.803124</td>\n",
       "      <td>...</td>\n",
       "      <td>0.897748</td>\n",
       "      <td>0.768538</td>\n",
       "      <td>0.247010</td>\n",
       "      <td>0.677394</td>\n",
       "      <td>0.137876</td>\n",
       "      <td>0.885284</td>\n",
       "      <td>0.242229</td>\n",
       "      <td>0.777436</td>\n",
       "      <td>0.743170</td>\n",
       "      <td>0.819197</td>\n",
       "    </tr>\n",
       "    <tr>\n",
       "      <th>3</th>\n",
       "      <td>200989060001_R06C01</td>\n",
       "      <td>3012</td>\n",
       "      <td>2</td>\n",
       "      <td>1</td>\n",
       "      <td>1</td>\n",
       "      <td>1</td>\n",
       "      <td>0.944309</td>\n",
       "      <td>0.914462</td>\n",
       "      <td>0.808391</td>\n",
       "      <td>0.824763</td>\n",
       "      <td>...</td>\n",
       "      <td>0.920286</td>\n",
       "      <td>0.847842</td>\n",
       "      <td>0.109958</td>\n",
       "      <td>0.784694</td>\n",
       "      <td>0.115760</td>\n",
       "      <td>0.892304</td>\n",
       "      <td>0.214663</td>\n",
       "      <td>0.828985</td>\n",
       "      <td>0.788971</td>\n",
       "      <td>0.840786</td>\n",
       "    </tr>\n",
       "    <tr>\n",
       "      <th>4</th>\n",
       "      <td>200989060143_R08C01</td>\n",
       "      <td>3024</td>\n",
       "      <td>2</td>\n",
       "      <td>1</td>\n",
       "      <td>1</td>\n",
       "      <td>1</td>\n",
       "      <td>0.932802</td>\n",
       "      <td>0.900233</td>\n",
       "      <td>0.773236</td>\n",
       "      <td>0.815495</td>\n",
       "      <td>...</td>\n",
       "      <td>0.920614</td>\n",
       "      <td>0.889120</td>\n",
       "      <td>0.123483</td>\n",
       "      <td>0.819051</td>\n",
       "      <td>0.201739</td>\n",
       "      <td>0.865361</td>\n",
       "      <td>0.182227</td>\n",
       "      <td>0.808403</td>\n",
       "      <td>0.771042</td>\n",
       "      <td>0.817350</td>\n",
       "    </tr>\n",
       "  </tbody>\n",
       "</table>\n",
       "<p>5 rows × 196237 columns</p>\n",
       "</div>"
      ],
      "text/plain": [
       "               Sentrix  PATNO  HYS  Gender  APPRDX  Symbol_Digit  cg20815302  \\\n",
       "0  200991620021_R01C01   3001    2       1       1             1    0.907957   \n",
       "1  200973410167_R04C01   3007    2       1       1             2    0.918626   \n",
       "2  200973410167_R05C01   3010    2       1       1             1    0.905297   \n",
       "3  200989060001_R06C01   3012    2       1       1             1    0.944309   \n",
       "4  200989060143_R08C01   3024    2       1       1             1    0.932802   \n",
       "\n",
       "   cg25795414  cg00959375  cg07781847  ...  cg05276007  cg22187125  \\\n",
       "0    0.868910    0.752844    0.827413  ...    0.913100    0.888019   \n",
       "1    0.865257    0.798170    0.823846  ...    0.899852    0.745658   \n",
       "2    0.864778    0.769766    0.803124  ...    0.897748    0.768538   \n",
       "3    0.914462    0.808391    0.824763  ...    0.920286    0.847842   \n",
       "4    0.900233    0.773236    0.815495  ...    0.920614    0.889120   \n",
       "\n",
       "   cg05983315  cg16106297  cg11312896  cg00409201  cg01442953  cg23433231  \\\n",
       "0    0.120054    0.688602    0.224073    0.890058    0.426119    0.728603   \n",
       "1    0.251457    0.700126    0.185768    0.898374    0.238901    0.746292   \n",
       "2    0.247010    0.677394    0.137876    0.885284    0.242229    0.777436   \n",
       "3    0.109958    0.784694    0.115760    0.892304    0.214663    0.828985   \n",
       "4    0.123483    0.819051    0.201739    0.865361    0.182227    0.808403   \n",
       "\n",
       "   cg21151644  cg18535459  \n",
       "0    0.688948    0.857859  \n",
       "1    0.735660    0.803144  \n",
       "2    0.743170    0.819197  \n",
       "3    0.788971    0.840786  \n",
       "4    0.771042    0.817350  \n",
       "\n",
       "[5 rows x 196237 columns]"
      ]
     },
     "execution_count": 2,
     "metadata": {},
     "output_type": "execute_result"
    }
   ],
   "source": [
    "%cd Z:\\PPMI_Data\\Excel_Data\\NonMotors\\Feature_CpG_Gene_Association\\SymbolDigit_Processed_Files\n",
    "df = pd.read_csv('SymbDigiCateg_Methylome_APPRDX.csv')\n",
    "print(df.shape)\n",
    "df.head()"
   ]
  },
  {
   "cell_type": "code",
   "execution_count": null,
   "metadata": {
    "ExecuteTime": {
     "end_time": "2022-12-02T09:40:19.114412Z",
     "start_time": "2022-12-02T09:40:19.114412Z"
    },
    "scrolled": false
   },
   "outputs": [],
   "source": [
    "df1 = df.drop(['PATNO', 'Sentrix', 'HYS', 'Gender', 'Symbol_Digit'], axis=1)\n",
    "df1.head(2)"
   ]
  },
  {
   "cell_type": "code",
   "execution_count": null,
   "metadata": {
    "ExecuteTime": {
     "end_time": "2022-12-02T09:40:19.118446Z",
     "start_time": "2022-12-02T09:40:19.118446Z"
    }
   },
   "outputs": [],
   "source": [
    "df1 = df1.transpose()\n",
    "df1.head(2)"
   ]
  },
  {
   "cell_type": "code",
   "execution_count": null,
   "metadata": {
    "ExecuteTime": {
     "end_time": "2022-12-02T09:40:19.118446Z",
     "start_time": "2022-12-02T09:40:19.118446Z"
    }
   },
   "outputs": [],
   "source": [
    "df1.rename(columns=df1.iloc[0], inplace = True)\n"
   ]
  },
  {
   "cell_type": "code",
   "execution_count": null,
   "metadata": {
    "ExecuteTime": {
     "end_time": "2022-12-02T09:40:19.123472Z",
     "start_time": "2022-12-02T09:40:19.123472Z"
    },
    "scrolled": true
   },
   "outputs": [],
   "source": [
    "df1.index.name ='CpG'\n",
    "df1.reset_index(inplace=True)\n",
    "df1.head(2)"
   ]
  },
  {
   "cell_type": "code",
   "execution_count": null,
   "metadata": {
    "ExecuteTime": {
     "end_time": "2022-12-02T09:40:19.124655Z",
     "start_time": "2022-12-02T09:40:19.124655Z"
    }
   },
   "outputs": [],
   "source": [
    "df1 = df1.drop ([0], axis = 0)\n",
    "df1.head(2)"
   ]
  },
  {
   "cell_type": "code",
   "execution_count": null,
   "metadata": {
    "ExecuteTime": {
     "end_time": "2022-12-02T09:40:19.126685Z",
     "start_time": "2022-12-02T09:40:19.126685Z"
    }
   },
   "outputs": [],
   "source": [
    "df2 = pd.read_csv (\"SymbDigi_Boruta_Top50.csv\")\n",
    "df2.head(2)"
   ]
  },
  {
   "cell_type": "code",
   "execution_count": null,
   "metadata": {
    "ExecuteTime": {
     "end_time": "2022-12-02T09:40:19.128191Z",
     "start_time": "2022-12-02T09:40:19.128191Z"
    }
   },
   "outputs": [],
   "source": [
    "df3 = pd.merge (df1, df2, on= \"CpG\", how= \"inner\")\n",
    "df3.head(2)"
   ]
  },
  {
   "cell_type": "code",
   "execution_count": null,
   "metadata": {
    "ExecuteTime": {
     "end_time": "2022-12-02T09:40:19.128191Z",
     "start_time": "2022-12-02T09:40:19.128191Z"
    }
   },
   "outputs": [],
   "source": [
    "df3 = df3.drop(['Ranking'], axis=1)\n",
    "df3.head(2)"
   ]
  },
  {
   "cell_type": "code",
   "execution_count": null,
   "metadata": {
    "ExecuteTime": {
     "end_time": "2022-12-02T09:40:19.133231Z",
     "start_time": "2022-12-02T09:40:19.133231Z"
    }
   },
   "outputs": [],
   "source": [
    "df3 = df3.transpose()\n",
    "df3.head(2)"
   ]
  },
  {
   "cell_type": "code",
   "execution_count": null,
   "metadata": {
    "ExecuteTime": {
     "end_time": "2022-12-02T09:40:19.134756Z",
     "start_time": "2022-12-02T09:40:19.134756Z"
    }
   },
   "outputs": [],
   "source": [
    "df3.rename(columns=df3.iloc[0], inplace = True)\n"
   ]
  },
  {
   "cell_type": "code",
   "execution_count": null,
   "metadata": {
    "ExecuteTime": {
     "end_time": "2022-12-02T09:40:19.136795Z",
     "start_time": "2022-12-02T09:40:19.136795Z"
    }
   },
   "outputs": [],
   "source": [
    "df3.index.name ='APPRDX'\n",
    "df3.reset_index(inplace=True)\n",
    "df3.head(2)"
   ]
  },
  {
   "cell_type": "code",
   "execution_count": null,
   "metadata": {
    "ExecuteTime": {
     "end_time": "2022-12-02T09:40:19.136795Z",
     "start_time": "2022-12-02T09:40:19.136795Z"
    },
    "scrolled": true
   },
   "outputs": [],
   "source": [
    "df3 = df3.drop ([0], axis = 0)\n",
    "df3.head(2)"
   ]
  },
  {
   "cell_type": "code",
   "execution_count": null,
   "metadata": {
    "ExecuteTime": {
     "end_time": "2022-12-02T09:40:19.136795Z",
     "start_time": "2022-12-02T09:40:19.136795Z"
    }
   },
   "outputs": [],
   "source": [
    "df3.reset_index(inplace = True, drop = True)\n",
    "df3.head()"
   ]
  },
  {
   "cell_type": "code",
   "execution_count": null,
   "metadata": {
    "ExecuteTime": {
     "end_time": "2022-12-02T09:40:19.136795Z",
     "start_time": "2022-12-02T09:40:19.136795Z"
    }
   },
   "outputs": [],
   "source": [
    "df3.shape"
   ]
  },
  {
   "cell_type": "code",
   "execution_count": null,
   "metadata": {
    "ExecuteTime": {
     "end_time": "2022-12-02T09:40:19.136795Z",
     "start_time": "2022-12-02T09:40:19.136795Z"
    }
   },
   "outputs": [],
   "source": [
    "df3 ['APPRDX'] = df3 ['APPRDX'].apply(int)\n"
   ]
  },
  {
   "cell_type": "markdown",
   "metadata": {},
   "source": [
    "## RanFor 1000 times, CpG only "
   ]
  },
  {
   "cell_type": "code",
   "execution_count": null,
   "metadata": {
    "ExecuteTime": {
     "end_time": "2022-12-02T09:40:19.144851Z",
     "start_time": "2022-12-02T09:40:19.143326Z"
    },
    "scrolled": true
   },
   "outputs": [],
   "source": [
    "df3.head(2)"
   ]
  },
  {
   "cell_type": "code",
   "execution_count": null,
   "metadata": {
    "ExecuteTime": {
     "end_time": "2022-12-02T09:40:19.144851Z",
     "start_time": "2022-12-02T09:40:19.144851Z"
    }
   },
   "outputs": [],
   "source": [
    "df3.shape"
   ]
  },
  {
   "cell_type": "code",
   "execution_count": null,
   "metadata": {
    "ExecuteTime": {
     "end_time": "2022-12-02T09:40:19.146878Z",
     "start_time": "2022-12-02T09:40:19.146878Z"
    }
   },
   "outputs": [],
   "source": [
    "np.random.seed (1)\n",
    "dframe1 = pd.DataFrame(columns=['Accuracy', 'Std_Dev'])\n",
    "for i in range (1,1001) :\n",
    "        print(i)\n",
    "        dataset = df3.groupby('APPRDX').apply(lambda x: x.sample(100))\n",
    "        X = dataset.iloc[:, 1:].values\n",
    "        y = dataset.iloc[:, 0].values\n",
    "        classifier = RandomForestClassifier(n_estimators = 100, criterion = 'entropy', random_state = 1)\n",
    "        cv = RepeatedStratifiedKFold(n_splits=10, n_repeats=1, random_state=1)\n",
    "        n_scores = cross_val_score(classifier, X, y, scoring='accuracy', cv=cv, n_jobs=-1, error_score='raise')\n",
    "        dframe1 = dframe1.append({'Accuracy': mean(n_scores), 'Std_Dev': std(n_scores)}, ignore_index=True)\n"
   ]
  },
  {
   "cell_type": "code",
   "execution_count": null,
   "metadata": {
    "ExecuteTime": {
     "end_time": "2022-12-02T09:40:19.146878Z",
     "start_time": "2022-12-02T09:40:19.146878Z"
    }
   },
   "outputs": [],
   "source": [
    "dframe1.to_csv (\"SymbDigi_Top50CpG_Accuracy_1000RF.csv\")"
   ]
  },
  {
   "cell_type": "code",
   "execution_count": null,
   "metadata": {
    "ExecuteTime": {
     "end_time": "2022-12-02T09:40:19.146878Z",
     "start_time": "2022-12-02T09:40:19.146878Z"
    }
   },
   "outputs": [],
   "source": [
    "dframe1.head(2)"
   ]
  }
 ],
 "metadata": {
  "colab": {
   "authorship_tag": "ABX9TyPA7K2PAkEFgaKFIvslUMEc",
   "collapsed_sections": [],
   "machine_shape": "hm",
   "name": "random_forest_classification.ipynb",
   "provenance": [],
   "toc_visible": true
  },
  "kernelspec": {
   "display_name": "Python 3 (ipykernel)",
   "language": "python",
   "name": "python3"
  },
  "language_info": {
   "codemirror_mode": {
    "name": "ipython",
    "version": 3
   },
   "file_extension": ".py",
   "mimetype": "text/x-python",
   "name": "python",
   "nbconvert_exporter": "python",
   "pygments_lexer": "ipython3",
   "version": "3.9.7"
  },
  "toc": {
   "base_numbering": 1,
   "nav_menu": {},
   "number_sections": true,
   "sideBar": true,
   "skip_h1_title": false,
   "title_cell": "Table of Contents",
   "title_sidebar": "Contents",
   "toc_cell": false,
   "toc_position": {},
   "toc_section_display": true,
   "toc_window_display": false
  },
  "varInspector": {
   "cols": {
    "lenName": 16,
    "lenType": 16,
    "lenVar": 40
   },
   "kernels_config": {
    "python": {
     "delete_cmd_postfix": "",
     "delete_cmd_prefix": "del ",
     "library": "var_list.py",
     "varRefreshCmd": "print(var_dic_list())"
    },
    "r": {
     "delete_cmd_postfix": ") ",
     "delete_cmd_prefix": "rm(",
     "library": "var_list.r",
     "varRefreshCmd": "cat(var_dic_list()) "
    }
   },
   "types_to_exclude": [
    "module",
    "function",
    "builtin_function_or_method",
    "instance",
    "_Feature"
   ],
   "window_display": false
  }
 },
 "nbformat": 4,
 "nbformat_minor": 1
}
