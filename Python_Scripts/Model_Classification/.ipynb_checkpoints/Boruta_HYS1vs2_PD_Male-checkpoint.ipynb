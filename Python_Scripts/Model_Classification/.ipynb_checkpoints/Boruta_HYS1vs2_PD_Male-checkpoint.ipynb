{
 "cells": [
  {
   "cell_type": "code",
   "execution_count": 1,
   "id": "51c5704f",
   "metadata": {
    "ExecuteTime": {
     "end_time": "2023-11-21T06:30:25.964492Z",
     "start_time": "2023-11-21T06:30:24.369345Z"
    }
   },
   "outputs": [],
   "source": [
    "import numpy as np\n",
    "import pandas as pd\n",
    "from boruta import BorutaPy\n",
    "from sklearn.datasets import load_diabetes\n",
    "from sklearn.metrics import accuracy_score \n",
    "from sklearn.ensemble import RandomForestRegressor\n",
    "from sklearn.ensemble import RandomForestClassifier\n",
    "from sklearn.model_selection import train_test_split"
   ]
  },
  {
   "cell_type": "code",
   "execution_count": 4,
   "id": "5ff336b1",
   "metadata": {
    "ExecuteTime": {
     "end_time": "2023-11-21T06:31:41.842862Z",
     "start_time": "2023-11-21T06:31:14.673835Z"
    }
   },
   "outputs": [
    {
     "name": "stdout",
     "output_type": "stream",
     "text": [
      "S:\\PPMI_RNA\\Processed\\Progression_Analysis\\Male\\HYS_1vs2vs3\n"
     ]
    },
    {
     "data": {
      "text/html": [
       "<div>\n",
       "<style scoped>\n",
       "    .dataframe tbody tr th:only-of-type {\n",
       "        vertical-align: middle;\n",
       "    }\n",
       "\n",
       "    .dataframe tbody tr th {\n",
       "        vertical-align: top;\n",
       "    }\n",
       "\n",
       "    .dataframe thead th {\n",
       "        text-align: right;\n",
       "    }\n",
       "</style>\n",
       "<table border=\"1\" class=\"dataframe\">\n",
       "  <thead>\n",
       "    <tr style=\"text-align: right;\">\n",
       "      <th></th>\n",
       "      <th>HudAlphaID</th>\n",
       "      <th>HYS</th>\n",
       "      <th>ENSG00000223972.5</th>\n",
       "      <th>ENSG00000227232.5</th>\n",
       "      <th>ENSG00000278267.1</th>\n",
       "      <th>ENSG00000243485.5</th>\n",
       "      <th>ENSG00000284332.1</th>\n",
       "      <th>ENSG00000237613.2</th>\n",
       "      <th>ENSG00000268020.3</th>\n",
       "      <th>ENSG00000240361.2</th>\n",
       "      <th>...</th>\n",
       "      <th>ENSG00000273739.1</th>\n",
       "      <th>ENSG00000276700.1</th>\n",
       "      <th>ENSG00000276312.1</th>\n",
       "      <th>ENSG00000275757.1</th>\n",
       "      <th>ENSG00000278573.1</th>\n",
       "      <th>ENSG00000276017.1</th>\n",
       "      <th>ENSG00000278817.1</th>\n",
       "      <th>ENSG00000277196.4</th>\n",
       "      <th>ENSG00000278625.1</th>\n",
       "      <th>ENSG00000277374.1</th>\n",
       "    </tr>\n",
       "  </thead>\n",
       "  <tbody>\n",
       "    <tr>\n",
       "      <th>0</th>\n",
       "      <td>5104_SL_0001</td>\n",
       "      <td>2</td>\n",
       "      <td>15</td>\n",
       "      <td>232</td>\n",
       "      <td>15</td>\n",
       "      <td>0</td>\n",
       "      <td>0</td>\n",
       "      <td>0</td>\n",
       "      <td>0</td>\n",
       "      <td>0</td>\n",
       "      <td>...</td>\n",
       "      <td>0</td>\n",
       "      <td>1</td>\n",
       "      <td>16</td>\n",
       "      <td>1</td>\n",
       "      <td>0</td>\n",
       "      <td>2</td>\n",
       "      <td>19</td>\n",
       "      <td>0</td>\n",
       "      <td>0</td>\n",
       "      <td>0</td>\n",
       "    </tr>\n",
       "  </tbody>\n",
       "</table>\n",
       "<p>1 rows × 58782 columns</p>\n",
       "</div>"
      ],
      "text/plain": [
       "     HudAlphaID  HYS  ENSG00000223972.5  ENSG00000227232.5  ENSG00000278267.1  \\\n",
       "0  5104_SL_0001    2                 15                232                 15   \n",
       "\n",
       "   ENSG00000243485.5  ENSG00000284332.1  ENSG00000237613.2  ENSG00000268020.3  \\\n",
       "0                  0                  0                  0                  0   \n",
       "\n",
       "   ENSG00000240361.2  ...  ENSG00000273739.1  ENSG00000276700.1  \\\n",
       "0                  0  ...                  0                  1   \n",
       "\n",
       "   ENSG00000276312.1  ENSG00000275757.1  ENSG00000278573.1  ENSG00000276017.1  \\\n",
       "0                 16                  1                  0                  2   \n",
       "\n",
       "   ENSG00000278817.1  ENSG00000277196.4  ENSG00000278625.1  ENSG00000277374.1  \n",
       "0                 19                  0                  0                  0  \n",
       "\n",
       "[1 rows x 58782 columns]"
      ]
     },
     "execution_count": 4,
     "metadata": {},
     "output_type": "execute_result"
    }
   ],
   "source": [
    "%cd S:\\PPMI_RNA\\Processed\\Progression_Analysis\\Male\\HYS_1vs2vs3\n",
    "data = pd.read_csv('CountData_HYS1vs2vs3_PD_withHYS_Male.csv')\n",
    "data = data[data['HYS'] != 3]\n",
    "data.head(1)"
   ]
  },
  {
   "cell_type": "code",
   "execution_count": 5,
   "id": "ee22df7a",
   "metadata": {
    "ExecuteTime": {
     "end_time": "2023-11-21T06:31:54.917959Z",
     "start_time": "2023-11-21T06:31:54.553956Z"
    }
   },
   "outputs": [
    {
     "name": "stdout",
     "output_type": "stream",
     "text": [
      "   ENSG00000223972.5  ENSG00000227232.5  ENSG00000278267.1  ENSG00000243485.5  \\\n",
      "0                 15                232                 15                  0   \n",
      "1                  0                 97                  8                  0   \n",
      "\n",
      "   ENSG00000284332.1  ENSG00000237613.2  ENSG00000268020.3  ENSG00000240361.2  \\\n",
      "0                  0                  0                  0                  0   \n",
      "1                  0                  0                  0                  0   \n",
      "\n",
      "   ENSG00000186092.6  ENSG00000238009.6  ...  ENSG00000273739.1  \\\n",
      "0                  0                124  ...                  0   \n",
      "1                  2                124  ...                  0   \n",
      "\n",
      "   ENSG00000276700.1  ENSG00000276312.1  ENSG00000275757.1  ENSG00000278573.1  \\\n",
      "0                  1                 16                  1                  0   \n",
      "1                  9                  0                  1                  0   \n",
      "\n",
      "   ENSG00000276017.1  ENSG00000278817.1  ENSG00000277196.4  ENSG00000278625.1  \\\n",
      "0                  2                 19                  0                  0   \n",
      "1                  0                  7                  1                  0   \n",
      "\n",
      "   ENSG00000277374.1  \n",
      "0                  0  \n",
      "1                  0  \n",
      "\n",
      "[2 rows x 58780 columns]\n"
     ]
    }
   ],
   "source": [
    "X = data.drop(['HudAlphaID', 'HYS'], axis = 1)\n",
    "y = data['HYS']\n",
    "X_train, X_test, y_train, y_test = train_test_split(X, y, test_size = .2, random_state = 1) \n",
    "print(X.head(2))"
   ]
  },
  {
   "cell_type": "code",
   "execution_count": 6,
   "id": "c1ee3e48",
   "metadata": {
    "ExecuteTime": {
     "end_time": "2023-11-21T06:32:07.474712Z",
     "start_time": "2023-11-21T06:32:03.122956Z"
    }
   },
   "outputs": [
    {
     "data": {
      "text/plain": [
       "RandomForestClassifier(random_state=1)"
      ]
     },
     "execution_count": 6,
     "metadata": {},
     "output_type": "execute_result"
    }
   ],
   "source": [
    "rf_all_features = RandomForestClassifier(random_state=1)\n",
    "rf_all_features.fit(X_train, y_train)"
   ]
  },
  {
   "cell_type": "code",
   "execution_count": 7,
   "id": "f17f8606",
   "metadata": {
    "ExecuteTime": {
     "end_time": "2023-11-21T06:32:10.812834Z",
     "start_time": "2023-11-21T06:32:10.449804Z"
    }
   },
   "outputs": [
    {
     "data": {
      "text/plain": [
       "0.7191780821917808"
      ]
     },
     "execution_count": 7,
     "metadata": {},
     "output_type": "execute_result"
    }
   ],
   "source": [
    "accuracy_score(y_test, rf_all_features.predict(X_test))"
   ]
  },
  {
   "cell_type": "code",
   "execution_count": null,
   "id": "5ba608ac",
   "metadata": {
    "ExecuteTime": {
     "start_time": "2023-11-21T06:31:58.503Z"
    },
    "scrolled": true
   },
   "outputs": [
    {
     "name": "stdout",
     "output_type": "stream",
     "text": [
      "Iteration: 1 / 100\n"
     ]
    }
   ],
   "source": [
    "rfc = RandomForestClassifier(random_state=1)\n",
    "boruta_selector = BorutaPy(rfc, n_estimators= 'auto', verbose=1, random_state=1)\n",
    "boruta_selector.fit(np.array(X_train), np.array(y_train))  "
   ]
  },
  {
   "cell_type": "code",
   "execution_count": null,
   "id": "51f874e0",
   "metadata": {
    "ExecuteTime": {
     "start_time": "2023-11-21T06:31:59.766Z"
    }
   },
   "outputs": [],
   "source": [
    "# print(\"Ranking: \",boruta_selector.ranking_)          \n",
    "print(\"No. of significant features: \", boruta_selector.n_features_)"
   ]
  },
  {
   "cell_type": "code",
   "execution_count": null,
   "id": "61cadc89",
   "metadata": {
    "ExecuteTime": {
     "start_time": "2023-11-21T06:32:01.055Z"
    }
   },
   "outputs": [],
   "source": [
    "selected_rf_features = pd.DataFrame({'GeneID':list(X_train.columns),\n",
    "                                       'Ranking':boruta_selector.ranking_})\n",
    "selected_rf_features = selected_rf_features.sort_values(by='Ranking')"
   ]
  },
  {
   "cell_type": "code",
   "execution_count": null,
   "id": "6ae888ab",
   "metadata": {
    "ExecuteTime": {
     "start_time": "2023-11-21T06:32:13.999Z"
    },
    "scrolled": true
   },
   "outputs": [],
   "source": [
    "Top50 = selected_rf_features.iloc[:50, :]\n",
    "Top50.head(3)"
   ]
  },
  {
   "cell_type": "markdown",
   "id": "a3aba4cb",
   "metadata": {},
   "source": [
    "### Top 50"
   ]
  },
  {
   "cell_type": "code",
   "execution_count": null,
   "id": "9605e163",
   "metadata": {
    "ExecuteTime": {
     "start_time": "2023-11-21T06:32:17.543Z"
    }
   },
   "outputs": [],
   "source": [
    "Top50.to_csv ('HYS1vs2_Boruta_Top50_Male.csv', index = False)\n",
    "selected_rf_features.to_csv ('HYS1vs2_Boruta_All_Male.csv', index = False)"
   ]
  },
  {
   "cell_type": "code",
   "execution_count": null,
   "id": "a5bc67f8",
   "metadata": {
    "ExecuteTime": {
     "start_time": "2023-11-21T06:32:18.279Z"
    }
   },
   "outputs": [],
   "source": [
    "# create a list of column names to subset from data\n",
    "col_names = Top50.iloc[:, 0].tolist()\n",
    "\n",
    "# subset df based on the column names\n",
    "df_subset = data.loc[:, data.columns.isin(col_names)]\n",
    "df_subset['HYS'] = data['HYS']\n",
    "df_subset.to_csv ('HYS1vs2_Boruta_Top50_Data_Male.csv', index = False)\n",
    "df_subset.head(2)"
   ]
  },
  {
   "cell_type": "markdown",
   "id": "02af7ae1",
   "metadata": {},
   "source": [
    "### Top 100"
   ]
  },
  {
   "cell_type": "code",
   "execution_count": null,
   "id": "d2bf41f3",
   "metadata": {
    "ExecuteTime": {
     "start_time": "2023-11-21T06:32:21.255Z"
    }
   },
   "outputs": [],
   "source": [
    "Top100 = selected_rf_features.iloc[:100, :]\n",
    "Top100.to_csv ('HYS1vs2_Boruta_Top100_Male.csv', index = False)\n",
    "Top100.head(2)"
   ]
  },
  {
   "cell_type": "code",
   "execution_count": null,
   "id": "bd596750",
   "metadata": {
    "ExecuteTime": {
     "start_time": "2023-11-21T06:32:21.791Z"
    }
   },
   "outputs": [],
   "source": [
    "# create a list of column names to subset from data\n",
    "col_names = Top100.iloc[:, 0].tolist()\n",
    "\n",
    "# subset df based on the column names\n",
    "df_subset = data.loc[:, data.columns.isin(col_names)]\n",
    "df_subset['HYS'] = data['HYS']\n",
    "df_subset.to_csv ('HYS1vs2_Boruta_Top100_Data_Male.csv', index = False)\n",
    "df_subset.head(2)"
   ]
  },
  {
   "cell_type": "markdown",
   "id": "da0416bc",
   "metadata": {},
   "source": [
    "### Top 250"
   ]
  },
  {
   "cell_type": "code",
   "execution_count": null,
   "id": "876e2345",
   "metadata": {
    "ExecuteTime": {
     "start_time": "2023-11-21T06:32:22.782Z"
    }
   },
   "outputs": [],
   "source": [
    "Top250 = selected_rf_features.iloc[:250, :]\n",
    "Top250.to_csv ('HYS1vs2_Boruta_Top250_Male.csv', index = False)\n",
    "Top250.head(2)"
   ]
  },
  {
   "cell_type": "code",
   "execution_count": null,
   "id": "72fbf0a1",
   "metadata": {
    "ExecuteTime": {
     "start_time": "2023-11-21T06:32:23.487Z"
    }
   },
   "outputs": [],
   "source": [
    "# create a list of column names to subset from data\n",
    "col_names = Top250.iloc[:, 0].tolist()\n",
    "\n",
    "# subset df based on the column names\n",
    "df_subset = data.loc[:, data.columns.isin(col_names)]\n",
    "df_subset['HYS'] = data['HYS']\n",
    "df_subset.to_csv ('HYS1vs2_Boruta_Top250_Data_Male.csv', index = False)\n",
    "df_subset.head(2)"
   ]
  },
  {
   "cell_type": "markdown",
   "id": "ec242d27",
   "metadata": {},
   "source": [
    "### Top 500"
   ]
  },
  {
   "cell_type": "code",
   "execution_count": null,
   "id": "380a31d7",
   "metadata": {
    "ExecuteTime": {
     "start_time": "2023-11-21T06:32:24.495Z"
    }
   },
   "outputs": [],
   "source": [
    "Top500 = selected_rf_features.iloc[:500, :]\n",
    "Top500.to_csv ('HYS1vs2_Boruta_Top500_Male.csv', index = False)\n",
    "Top500.head(2)"
   ]
  },
  {
   "cell_type": "code",
   "execution_count": null,
   "id": "5956b562",
   "metadata": {
    "ExecuteTime": {
     "start_time": "2023-11-21T06:32:25.151Z"
    }
   },
   "outputs": [],
   "source": [
    "# create a list of column names to subset from data\n",
    "col_names = Top500.iloc[:, 0].tolist()\n",
    "\n",
    "# subset df based on the column names\n",
    "df_subset = data.loc[:, data.columns.isin(col_names)]\n",
    "df_subset['HYS'] = data['HYS']\n",
    "df_subset.to_csv ('HYS1vs2_Boruta_Top500_Data_Male.csv', index = False)\n",
    "df_subset.head(2)"
   ]
  },
  {
   "cell_type": "markdown",
   "id": "59810b00",
   "metadata": {},
   "source": []
  }
 ],
 "metadata": {
  "kernelspec": {
   "display_name": "Python 3 (ipykernel)",
   "language": "python",
   "name": "python3"
  },
  "language_info": {
   "codemirror_mode": {
    "name": "ipython",
    "version": 3
   },
   "file_extension": ".py",
   "mimetype": "text/x-python",
   "name": "python",
   "nbconvert_exporter": "python",
   "pygments_lexer": "ipython3",
   "version": "3.9.16"
  },
  "toc": {
   "base_numbering": 1,
   "nav_menu": {},
   "number_sections": true,
   "sideBar": true,
   "skip_h1_title": false,
   "title_cell": "Table of Contents",
   "title_sidebar": "Contents",
   "toc_cell": false,
   "toc_position": {},
   "toc_section_display": true,
   "toc_window_display": false
  },
  "varInspector": {
   "cols": {
    "lenName": 16,
    "lenType": 16,
    "lenVar": 40
   },
   "kernels_config": {
    "python": {
     "delete_cmd_postfix": "",
     "delete_cmd_prefix": "del ",
     "library": "var_list.py",
     "varRefreshCmd": "print(var_dic_list())"
    },
    "r": {
     "delete_cmd_postfix": ") ",
     "delete_cmd_prefix": "rm(",
     "library": "var_list.r",
     "varRefreshCmd": "cat(var_dic_list()) "
    }
   },
   "types_to_exclude": [
    "module",
    "function",
    "builtin_function_or_method",
    "instance",
    "_Feature"
   ],
   "window_display": false
  }
 },
 "nbformat": 4,
 "nbformat_minor": 5
}
