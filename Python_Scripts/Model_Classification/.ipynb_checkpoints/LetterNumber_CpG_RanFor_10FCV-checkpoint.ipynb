{
 "cells": [
  {
   "cell_type": "markdown",
   "metadata": {
    "colab_type": "text",
    "id": "0MRC0e0KhQ0S"
   },
   "source": [
    "# Random Forest Classification"
   ]
  },
  {
   "cell_type": "code",
   "execution_count": 1,
   "metadata": {
    "ExecuteTime": {
     "end_time": "2023-01-12T06:28:21.639449Z",
     "start_time": "2023-01-12T06:28:19.917433Z"
    },
    "colab": {},
    "colab_type": "code",
    "id": "YvGPUQaHhXfL"
   },
   "outputs": [],
   "source": [
    "import random\n",
    "import numpy as np\n",
    "import pandas as pd\n",
    "import seaborn as sn\n",
    "from numpy import std\n",
    "from numpy import mean\n",
    "import matplotlib.pyplot as plt\n",
    "from sklearn.datasets import make_classification\n",
    "from sklearn.preprocessing import StandardScaler\n",
    "from sklearn.model_selection import cross_val_score\n",
    "from sklearn.ensemble import RandomForestClassifier\n",
    "from sklearn.model_selection import train_test_split\n",
    "from sklearn.model_selection import RepeatedStratifiedKFold\n",
    "from sklearn.metrics import confusion_matrix, accuracy_score\n",
    "%matplotlib inline"
   ]
  },
  {
   "cell_type": "markdown",
   "metadata": {},
   "source": [
    "## NMI"
   ]
  },
  {
   "cell_type": "code",
   "execution_count": 2,
   "metadata": {
    "ExecuteTime": {
     "end_time": "2023-01-12T06:28:21.686315Z",
     "start_time": "2023-01-12T06:28:21.639449Z"
    },
    "scrolled": false
   },
   "outputs": [
    {
     "name": "stdout",
     "output_type": "stream",
     "text": [
      "Z:\\PPMI_Data\\Excels\\NonMotors\\Derived250\\GeneCpG\\Gastro\n",
      "(458, 52)\n"
     ]
    },
    {
     "data": {
      "text/html": [
       "<div>\n",
       "<style scoped>\n",
       "    .dataframe tbody tr th:only-of-type {\n",
       "        vertical-align: middle;\n",
       "    }\n",
       "\n",
       "    .dataframe tbody tr th {\n",
       "        vertical-align: top;\n",
       "    }\n",
       "\n",
       "    .dataframe thead th {\n",
       "        text-align: right;\n",
       "    }\n",
       "</style>\n",
       "<table border=\"1\" class=\"dataframe\">\n",
       "  <thead>\n",
       "    <tr style=\"text-align: right;\">\n",
       "      <th></th>\n",
       "      <th>PATNO</th>\n",
       "      <th>APPRDX</th>\n",
       "      <th>cg10783204</th>\n",
       "      <th>cg14547519</th>\n",
       "      <th>cg09879107</th>\n",
       "      <th>cg23584714</th>\n",
       "      <th>cg18764107</th>\n",
       "      <th>cg11670533</th>\n",
       "      <th>cg09347135</th>\n",
       "      <th>cg02449892</th>\n",
       "      <th>...</th>\n",
       "      <th>cg12036621</th>\n",
       "      <th>cg01575096</th>\n",
       "      <th>cg08522144</th>\n",
       "      <th>cg14719352</th>\n",
       "      <th>cg12520249</th>\n",
       "      <th>cg13196143</th>\n",
       "      <th>cg23777848</th>\n",
       "      <th>cg12979803</th>\n",
       "      <th>cg16964348</th>\n",
       "      <th>cg20516176</th>\n",
       "    </tr>\n",
       "  </thead>\n",
       "  <tbody>\n",
       "    <tr>\n",
       "      <th>0</th>\n",
       "      <td>3000</td>\n",
       "      <td>2</td>\n",
       "      <td>0.709340</td>\n",
       "      <td>0.918605</td>\n",
       "      <td>0.621822</td>\n",
       "      <td>0.837783</td>\n",
       "      <td>0.042191</td>\n",
       "      <td>0.849763</td>\n",
       "      <td>0.502712</td>\n",
       "      <td>0.879576</td>\n",
       "      <td>...</td>\n",
       "      <td>0.042321</td>\n",
       "      <td>0.045783</td>\n",
       "      <td>0.930074</td>\n",
       "      <td>0.789685</td>\n",
       "      <td>0.916357</td>\n",
       "      <td>0.596177</td>\n",
       "      <td>0.015398</td>\n",
       "      <td>0.825014</td>\n",
       "      <td>0.021578</td>\n",
       "      <td>0.945058</td>\n",
       "    </tr>\n",
       "    <tr>\n",
       "      <th>1</th>\n",
       "      <td>3001</td>\n",
       "      <td>1</td>\n",
       "      <td>0.585492</td>\n",
       "      <td>0.900845</td>\n",
       "      <td>0.727246</td>\n",
       "      <td>0.776498</td>\n",
       "      <td>0.024068</td>\n",
       "      <td>0.790524</td>\n",
       "      <td>0.403945</td>\n",
       "      <td>0.807121</td>\n",
       "      <td>...</td>\n",
       "      <td>0.030171</td>\n",
       "      <td>0.056810</td>\n",
       "      <td>0.893691</td>\n",
       "      <td>0.744240</td>\n",
       "      <td>0.914708</td>\n",
       "      <td>0.521505</td>\n",
       "      <td>0.020775</td>\n",
       "      <td>0.693402</td>\n",
       "      <td>0.021671</td>\n",
       "      <td>0.910851</td>\n",
       "    </tr>\n",
       "    <tr>\n",
       "      <th>2</th>\n",
       "      <td>3002</td>\n",
       "      <td>1</td>\n",
       "      <td>0.634452</td>\n",
       "      <td>0.928623</td>\n",
       "      <td>0.789017</td>\n",
       "      <td>0.883978</td>\n",
       "      <td>0.039690</td>\n",
       "      <td>0.863616</td>\n",
       "      <td>0.429614</td>\n",
       "      <td>0.816680</td>\n",
       "      <td>...</td>\n",
       "      <td>0.030208</td>\n",
       "      <td>0.069176</td>\n",
       "      <td>0.916326</td>\n",
       "      <td>0.762025</td>\n",
       "      <td>0.911989</td>\n",
       "      <td>0.577875</td>\n",
       "      <td>0.015632</td>\n",
       "      <td>0.854017</td>\n",
       "      <td>0.029541</td>\n",
       "      <td>0.937305</td>\n",
       "    </tr>\n",
       "  </tbody>\n",
       "</table>\n",
       "<p>3 rows × 52 columns</p>\n",
       "</div>"
      ],
      "text/plain": [
       "   PATNO  APPRDX  cg10783204  cg14547519  cg09879107  cg23584714  cg18764107  \\\n",
       "0   3000       2    0.709340    0.918605    0.621822    0.837783    0.042191   \n",
       "1   3001       1    0.585492    0.900845    0.727246    0.776498    0.024068   \n",
       "2   3002       1    0.634452    0.928623    0.789017    0.883978    0.039690   \n",
       "\n",
       "   cg11670533  cg09347135  cg02449892  ...  cg12036621  cg01575096  \\\n",
       "0    0.849763    0.502712    0.879576  ...    0.042321    0.045783   \n",
       "1    0.790524    0.403945    0.807121  ...    0.030171    0.056810   \n",
       "2    0.863616    0.429614    0.816680  ...    0.030208    0.069176   \n",
       "\n",
       "   cg08522144  cg14719352  cg12520249  cg13196143  cg23777848  cg12979803  \\\n",
       "0    0.930074    0.789685    0.916357    0.596177    0.015398    0.825014   \n",
       "1    0.893691    0.744240    0.914708    0.521505    0.020775    0.693402   \n",
       "2    0.916326    0.762025    0.911989    0.577875    0.015632    0.854017   \n",
       "\n",
       "   cg16964348  cg20516176  \n",
       "0    0.021578    0.945058  \n",
       "1    0.021671    0.910851  \n",
       "2    0.029541    0.937305  \n",
       "\n",
       "[3 rows x 52 columns]"
      ]
     },
     "execution_count": 2,
     "metadata": {},
     "output_type": "execute_result"
    }
   ],
   "source": [
    "%cd Z:\\PPMI_Data\\Excels\\NonMotors\\Derived250\\GeneCpG\\LetterNumber\n",
    "df = pd.read_csv('Top50NMI_LetterNumber_Data.csv')\n",
    "print(df.shape)\n",
    "df.head(3)"
   ]
  },
  {
   "cell_type": "code",
   "execution_count": 3,
   "metadata": {
    "ExecuteTime": {
     "end_time": "2023-01-12T06:28:21.770957Z",
     "start_time": "2023-01-12T06:28:21.686315Z"
    },
    "scrolled": false
   },
   "outputs": [
    {
     "data": {
      "text/html": [
       "<div>\n",
       "<style scoped>\n",
       "    .dataframe tbody tr th:only-of-type {\n",
       "        vertical-align: middle;\n",
       "    }\n",
       "\n",
       "    .dataframe tbody tr th {\n",
       "        vertical-align: top;\n",
       "    }\n",
       "\n",
       "    .dataframe thead th {\n",
       "        text-align: right;\n",
       "    }\n",
       "</style>\n",
       "<table border=\"1\" class=\"dataframe\">\n",
       "  <thead>\n",
       "    <tr style=\"text-align: right;\">\n",
       "      <th></th>\n",
       "      <th>APPRDX</th>\n",
       "      <th>cg10783204</th>\n",
       "      <th>cg14547519</th>\n",
       "      <th>cg09879107</th>\n",
       "      <th>cg23584714</th>\n",
       "      <th>cg18764107</th>\n",
       "      <th>cg11670533</th>\n",
       "      <th>cg09347135</th>\n",
       "      <th>cg02449892</th>\n",
       "      <th>cg21040417</th>\n",
       "      <th>...</th>\n",
       "      <th>cg12036621</th>\n",
       "      <th>cg01575096</th>\n",
       "      <th>cg08522144</th>\n",
       "      <th>cg14719352</th>\n",
       "      <th>cg12520249</th>\n",
       "      <th>cg13196143</th>\n",
       "      <th>cg23777848</th>\n",
       "      <th>cg12979803</th>\n",
       "      <th>cg16964348</th>\n",
       "      <th>cg20516176</th>\n",
       "    </tr>\n",
       "  </thead>\n",
       "  <tbody>\n",
       "    <tr>\n",
       "      <th>0</th>\n",
       "      <td>2</td>\n",
       "      <td>0.709340</td>\n",
       "      <td>0.918605</td>\n",
       "      <td>0.621822</td>\n",
       "      <td>0.837783</td>\n",
       "      <td>0.042191</td>\n",
       "      <td>0.849763</td>\n",
       "      <td>0.502712</td>\n",
       "      <td>0.879576</td>\n",
       "      <td>0.896629</td>\n",
       "      <td>...</td>\n",
       "      <td>0.042321</td>\n",
       "      <td>0.045783</td>\n",
       "      <td>0.930074</td>\n",
       "      <td>0.789685</td>\n",
       "      <td>0.916357</td>\n",
       "      <td>0.596177</td>\n",
       "      <td>0.015398</td>\n",
       "      <td>0.825014</td>\n",
       "      <td>0.021578</td>\n",
       "      <td>0.945058</td>\n",
       "    </tr>\n",
       "    <tr>\n",
       "      <th>1</th>\n",
       "      <td>1</td>\n",
       "      <td>0.585492</td>\n",
       "      <td>0.900845</td>\n",
       "      <td>0.727246</td>\n",
       "      <td>0.776498</td>\n",
       "      <td>0.024068</td>\n",
       "      <td>0.790524</td>\n",
       "      <td>0.403945</td>\n",
       "      <td>0.807121</td>\n",
       "      <td>0.902297</td>\n",
       "      <td>...</td>\n",
       "      <td>0.030171</td>\n",
       "      <td>0.056810</td>\n",
       "      <td>0.893691</td>\n",
       "      <td>0.744240</td>\n",
       "      <td>0.914708</td>\n",
       "      <td>0.521505</td>\n",
       "      <td>0.020775</td>\n",
       "      <td>0.693402</td>\n",
       "      <td>0.021671</td>\n",
       "      <td>0.910851</td>\n",
       "    </tr>\n",
       "  </tbody>\n",
       "</table>\n",
       "<p>2 rows × 51 columns</p>\n",
       "</div>"
      ],
      "text/plain": [
       "   APPRDX  cg10783204  cg14547519  cg09879107  cg23584714  cg18764107  \\\n",
       "0       2    0.709340    0.918605    0.621822    0.837783    0.042191   \n",
       "1       1    0.585492    0.900845    0.727246    0.776498    0.024068   \n",
       "\n",
       "   cg11670533  cg09347135  cg02449892  cg21040417  ...  cg12036621  \\\n",
       "0    0.849763    0.502712    0.879576    0.896629  ...    0.042321   \n",
       "1    0.790524    0.403945    0.807121    0.902297  ...    0.030171   \n",
       "\n",
       "   cg01575096  cg08522144  cg14719352  cg12520249  cg13196143  cg23777848  \\\n",
       "0    0.045783    0.930074    0.789685    0.916357    0.596177    0.015398   \n",
       "1    0.056810    0.893691    0.744240    0.914708    0.521505    0.020775   \n",
       "\n",
       "   cg12979803  cg16964348  cg20516176  \n",
       "0    0.825014    0.021578    0.945058  \n",
       "1    0.693402    0.021671    0.910851  \n",
       "\n",
       "[2 rows x 51 columns]"
      ]
     },
     "execution_count": 3,
     "metadata": {},
     "output_type": "execute_result"
    }
   ],
   "source": [
    "df1 = df.drop(['PATNO'], axis=1)\n",
    "df1.head(2)"
   ]
  },
  {
   "cell_type": "code",
   "execution_count": null,
   "metadata": {
    "ExecuteTime": {
     "start_time": "2023-01-12T06:28:19.928Z"
    }
   },
   "outputs": [
    {
     "name": "stdout",
     "output_type": "stream",
     "text": [
      "1\n",
      "2\n",
      "3\n",
      "4\n",
      "5\n",
      "6\n",
      "7\n",
      "8\n",
      "9\n",
      "10\n",
      "11\n",
      "12\n",
      "13\n",
      "14\n",
      "15\n",
      "16\n",
      "17\n",
      "18\n",
      "19\n",
      "20\n",
      "21\n",
      "22\n",
      "23\n",
      "24\n",
      "25\n",
      "26\n",
      "27\n",
      "28\n",
      "29\n",
      "30\n",
      "31\n",
      "32\n",
      "33\n",
      "34\n",
      "35\n",
      "36\n",
      "37\n",
      "38\n",
      "39\n",
      "40\n",
      "41\n",
      "42\n",
      "43\n",
      "44\n",
      "45\n",
      "46\n",
      "47\n",
      "48\n",
      "49\n",
      "50\n",
      "51\n",
      "52\n",
      "53\n",
      "54\n",
      "55\n",
      "56\n",
      "57\n"
     ]
    }
   ],
   "source": [
    "np.random.seed (1)\n",
    "dframe1 = pd.DataFrame(columns=['Accuracy', 'Std_Dev'])\n",
    "for i in range (1,101) :\n",
    "        print(i)\n",
    "        dataset = df1.groupby('APPRDX').apply(lambda x: x.sample(100))\n",
    "        X = dataset.iloc[:, 1:].values\n",
    "        y = dataset.iloc[:, 0].values\n",
    "        classifier = RandomForestClassifier(n_estimators = 100, criterion = 'entropy', random_state = 1)\n",
    "        cv = RepeatedStratifiedKFold(n_splits=10, n_repeats=5, random_state=1)\n",
    "        n_scores = cross_val_score(classifier, X, y, scoring='accuracy', cv=cv, n_jobs=-1, error_score='raise')\n",
    "        dframe1 = dframe1.append({'Accuracy': mean(n_scores), 'Std_Dev': std(n_scores)}, ignore_index=True)\n"
   ]
  },
  {
   "cell_type": "code",
   "execution_count": null,
   "metadata": {
    "ExecuteTime": {
     "start_time": "2023-01-12T06:28:19.932Z"
    }
   },
   "outputs": [],
   "source": [
    "print(dframe1.head(2))\n",
    "dframe1.to_csv (\"LetterNumber_NMICpG_100RF.csv\")"
   ]
  },
  {
   "cell_type": "markdown",
   "metadata": {},
   "source": [
    "## Boruta"
   ]
  },
  {
   "cell_type": "code",
   "execution_count": null,
   "metadata": {
    "ExecuteTime": {
     "start_time": "2023-01-12T06:28:19.935Z"
    }
   },
   "outputs": [],
   "source": [
    "df = pd.read_csv('Top50Boruta_LetterNumber_Data.csv')\n",
    "print(df.shape)\n",
    "df.head(3)"
   ]
  },
  {
   "cell_type": "code",
   "execution_count": null,
   "metadata": {
    "ExecuteTime": {
     "start_time": "2023-01-12T06:28:19.939Z"
    }
   },
   "outputs": [],
   "source": [
    "df1 = df.drop(['PATNO'], axis=1)\n",
    "df1.head(2)"
   ]
  },
  {
   "cell_type": "code",
   "execution_count": null,
   "metadata": {
    "ExecuteTime": {
     "start_time": "2023-01-12T06:28:19.942Z"
    }
   },
   "outputs": [],
   "source": [
    "np.random.seed (1)\n",
    "dframe1 = pd.DataFrame(columns=['Accuracy', 'Std_Dev'])\n",
    "for i in range (1,101) :\n",
    "        print(i)\n",
    "        dataset = df1.groupby('APPRDX').apply(lambda x: x.sample(100))\n",
    "        X = dataset.iloc[:, 1:].values\n",
    "        y = dataset.iloc[:, 0].values\n",
    "        classifier = RandomForestClassifier(n_estimators = 100, criterion = 'entropy', random_state = 1)\n",
    "        cv = RepeatedStratifiedKFold(n_splits=10, n_repeats=5, random_state=1)\n",
    "        n_scores = cross_val_score(classifier, X, y, scoring='accuracy', cv=cv, n_jobs=-1, error_score='raise')\n",
    "        dframe1 = dframe1.append({'Accuracy': mean(n_scores), 'Std_Dev': std(n_scores)}, ignore_index=True)\n"
   ]
  },
  {
   "cell_type": "code",
   "execution_count": null,
   "metadata": {
    "ExecuteTime": {
     "start_time": "2023-01-12T06:28:19.945Z"
    }
   },
   "outputs": [],
   "source": [
    "print(dframe1.head(2))\n",
    "dframe1.to_csv (\"LetterNumber_BorutaCpG_100RF.csv\")"
   ]
  },
  {
   "cell_type": "markdown",
   "metadata": {},
   "source": [
    "## BorutaR"
   ]
  },
  {
   "cell_type": "code",
   "execution_count": null,
   "metadata": {
    "ExecuteTime": {
     "start_time": "2023-01-12T06:28:19.948Z"
    }
   },
   "outputs": [],
   "source": [
    "df = pd.read_csv('BorutaR_LetterNumber_CpG.csv')\n",
    "print(df.shape)\n",
    "df.head(3)"
   ]
  },
  {
   "cell_type": "code",
   "execution_count": null,
   "metadata": {
    "ExecuteTime": {
     "start_time": "2023-01-12T06:28:19.950Z"
    }
   },
   "outputs": [],
   "source": [
    "df1 = df.drop(['PATNO'], axis=1)\n",
    "df1.head(2)"
   ]
  },
  {
   "cell_type": "code",
   "execution_count": null,
   "metadata": {
    "ExecuteTime": {
     "start_time": "2023-01-12T06:28:19.953Z"
    }
   },
   "outputs": [],
   "source": [
    "np.random.seed (1)\n",
    "dframe1 = pd.DataFrame(columns=['Accuracy', 'Std_Dev'])\n",
    "for i in range (1,101) :\n",
    "        print(i)\n",
    "        dataset = df1.groupby('APPRDX').apply(lambda x: x.sample(100))\n",
    "        X = dataset.iloc[:, 1:].values\n",
    "        y = dataset.iloc[:, 0].values\n",
    "        classifier = RandomForestClassifier(n_estimators = 100, criterion = 'entropy', random_state = 1)\n",
    "        cv = RepeatedStratifiedKFold(n_splits=10, n_repeats=5, random_state=1)\n",
    "        n_scores = cross_val_score(classifier, X, y, scoring='accuracy', cv=cv, n_jobs=-1, error_score='raise')\n",
    "        dframe1 = dframe1.append({'Accuracy': mean(n_scores), 'Std_Dev': std(n_scores)}, ignore_index=True)\n"
   ]
  },
  {
   "cell_type": "code",
   "execution_count": null,
   "metadata": {
    "ExecuteTime": {
     "start_time": "2023-01-12T06:28:19.957Z"
    }
   },
   "outputs": [],
   "source": [
    "print(dframe1.head(2))\n",
    "dframe1.to_csv (\"LetterNumber_BorutaRCpG_100RF.csv\")"
   ]
  },
  {
   "cell_type": "markdown",
   "metadata": {},
   "source": [
    "## Common"
   ]
  },
  {
   "cell_type": "code",
   "execution_count": null,
   "metadata": {
    "ExecuteTime": {
     "start_time": "2023-01-12T06:28:19.960Z"
    }
   },
   "outputs": [],
   "source": [
    "df = pd.read_csv('Common4_LetterNumber_Data.csv')\n",
    "print(df.shape)\n",
    "df.head(3)"
   ]
  },
  {
   "cell_type": "code",
   "execution_count": null,
   "metadata": {
    "ExecuteTime": {
     "start_time": "2023-01-12T06:28:19.964Z"
    }
   },
   "outputs": [],
   "source": [
    "df1 = df.drop(['PATNO'], axis=1)\n",
    "df1.head(2)"
   ]
  },
  {
   "cell_type": "code",
   "execution_count": null,
   "metadata": {
    "ExecuteTime": {
     "start_time": "2023-01-12T06:28:19.966Z"
    }
   },
   "outputs": [],
   "source": [
    "np.random.seed (1)\n",
    "dframe1 = pd.DataFrame(columns=['Accuracy', 'Std_Dev'])\n",
    "for i in range (1,101) :\n",
    "        print(i)\n",
    "        dataset = df1.groupby('APPRDX').apply(lambda x: x.sample(100))\n",
    "        X = dataset.iloc[:, 1:].values\n",
    "        y = dataset.iloc[:, 0].values\n",
    "        classifier = RandomForestClassifier(n_estimators = 100, criterion = 'entropy', random_state = 1)\n",
    "        cv = RepeatedStratifiedKFold(n_splits=10, n_repeats=5, random_state=1)\n",
    "        n_scores = cross_val_score(classifier, X, y, scoring='accuracy', cv=cv, n_jobs=-1, error_score='raise')\n",
    "        dframe1 = dframe1.append({'Accuracy': mean(n_scores), 'Std_Dev': std(n_scores)}, ignore_index=True)\n"
   ]
  },
  {
   "cell_type": "code",
   "execution_count": null,
   "metadata": {
    "ExecuteTime": {
     "start_time": "2023-01-12T06:28:19.969Z"
    }
   },
   "outputs": [],
   "source": [
    "print(dframe1.head(2))\n",
    "dframe1.to_csv (\"LetterNumber_Common10CpG_100RF.csv\")"
   ]
  },
  {
   "cell_type": "code",
   "execution_count": null,
   "metadata": {},
   "outputs": [],
   "source": []
  }
 ],
 "metadata": {
  "colab": {
   "authorship_tag": "ABX9TyPA7K2PAkEFgaKFIvslUMEc",
   "collapsed_sections": [],
   "machine_shape": "hm",
   "name": "random_forest_classification.ipynb",
   "provenance": [],
   "toc_visible": true
  },
  "kernelspec": {
   "display_name": "Python 3 (ipykernel)",
   "language": "python",
   "name": "python3"
  },
  "language_info": {
   "codemirror_mode": {
    "name": "ipython",
    "version": 3
   },
   "file_extension": ".py",
   "mimetype": "text/x-python",
   "name": "python",
   "nbconvert_exporter": "python",
   "pygments_lexer": "ipython3",
   "version": "3.9.7"
  },
  "toc": {
   "base_numbering": 1,
   "nav_menu": {},
   "number_sections": true,
   "sideBar": true,
   "skip_h1_title": false,
   "title_cell": "Table of Contents",
   "title_sidebar": "Contents",
   "toc_cell": false,
   "toc_position": {},
   "toc_section_display": true,
   "toc_window_display": false
  },
  "varInspector": {
   "cols": {
    "lenName": 16,
    "lenType": 16,
    "lenVar": 40
   },
   "kernels_config": {
    "python": {
     "delete_cmd_postfix": "",
     "delete_cmd_prefix": "del ",
     "library": "var_list.py",
     "varRefreshCmd": "print(var_dic_list())"
    },
    "r": {
     "delete_cmd_postfix": ") ",
     "delete_cmd_prefix": "rm(",
     "library": "var_list.r",
     "varRefreshCmd": "cat(var_dic_list()) "
    }
   },
   "types_to_exclude": [
    "module",
    "function",
    "builtin_function_or_method",
    "instance",
    "_Feature"
   ],
   "window_display": false
  }
 },
 "nbformat": 4,
 "nbformat_minor": 1
}
