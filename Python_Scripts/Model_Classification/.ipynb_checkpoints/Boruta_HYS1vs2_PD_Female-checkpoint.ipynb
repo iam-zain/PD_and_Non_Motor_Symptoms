{
 "cells": [
  {
   "cell_type": "code",
   "execution_count": 1,
   "id": "51c5704f",
   "metadata": {
    "ExecuteTime": {
     "end_time": "2023-11-21T08:10:58.338458Z",
     "start_time": "2023-11-21T08:10:55.838456Z"
    }
   },
   "outputs": [],
   "source": [
    "import numpy as np\n",
    "import pandas as pd\n",
    "from boruta import BorutaPy\n",
    "from sklearn.datasets import load_diabetes\n",
    "from sklearn.metrics import accuracy_score \n",
    "from sklearn.ensemble import RandomForestRegressor\n",
    "from sklearn.ensemble import RandomForestClassifier\n",
    "from sklearn.model_selection import train_test_split"
   ]
  },
  {
   "cell_type": "code",
   "execution_count": 2,
   "id": "5ff336b1",
   "metadata": {
    "ExecuteTime": {
     "end_time": "2023-11-21T08:11:10.170457Z",
     "start_time": "2023-11-21T08:10:58.341457Z"
    }
   },
   "outputs": [
    {
     "name": "stdout",
     "output_type": "stream",
     "text": [
      "S:\\PPMI_RNA\\Processed\\Progression_Analysis\\Female\\HYS_1vs2vs3\n"
     ]
    },
    {
     "data": {
      "text/html": [
       "<div>\n",
       "<style scoped>\n",
       "    .dataframe tbody tr th:only-of-type {\n",
       "        vertical-align: middle;\n",
       "    }\n",
       "\n",
       "    .dataframe tbody tr th {\n",
       "        vertical-align: top;\n",
       "    }\n",
       "\n",
       "    .dataframe thead th {\n",
       "        text-align: right;\n",
       "    }\n",
       "</style>\n",
       "<table border=\"1\" class=\"dataframe\">\n",
       "  <thead>\n",
       "    <tr style=\"text-align: right;\">\n",
       "      <th></th>\n",
       "      <th>HudAlphaID</th>\n",
       "      <th>HYS</th>\n",
       "      <th>ENSG00000223972.5</th>\n",
       "      <th>ENSG00000227232.5</th>\n",
       "      <th>ENSG00000278267.1</th>\n",
       "      <th>ENSG00000243485.5</th>\n",
       "      <th>ENSG00000284332.1</th>\n",
       "      <th>ENSG00000237613.2</th>\n",
       "      <th>ENSG00000268020.3</th>\n",
       "      <th>ENSG00000240361.2</th>\n",
       "      <th>...</th>\n",
       "      <th>ENSG00000273739.1</th>\n",
       "      <th>ENSG00000276700.1</th>\n",
       "      <th>ENSG00000276312.1</th>\n",
       "      <th>ENSG00000275757.1</th>\n",
       "      <th>ENSG00000278573.1</th>\n",
       "      <th>ENSG00000276017.1</th>\n",
       "      <th>ENSG00000278817.1</th>\n",
       "      <th>ENSG00000277196.4</th>\n",
       "      <th>ENSG00000278625.1</th>\n",
       "      <th>ENSG00000277374.1</th>\n",
       "    </tr>\n",
       "  </thead>\n",
       "  <tbody>\n",
       "    <tr>\n",
       "      <th>0</th>\n",
       "      <td>5104_SL_0108</td>\n",
       "      <td>1</td>\n",
       "      <td>15</td>\n",
       "      <td>78</td>\n",
       "      <td>12</td>\n",
       "      <td>5</td>\n",
       "      <td>0</td>\n",
       "      <td>6</td>\n",
       "      <td>3</td>\n",
       "      <td>7</td>\n",
       "      <td>...</td>\n",
       "      <td>0</td>\n",
       "      <td>7</td>\n",
       "      <td>26</td>\n",
       "      <td>4</td>\n",
       "      <td>1</td>\n",
       "      <td>3</td>\n",
       "      <td>22</td>\n",
       "      <td>17</td>\n",
       "      <td>0</td>\n",
       "      <td>0</td>\n",
       "    </tr>\n",
       "  </tbody>\n",
       "</table>\n",
       "<p>1 rows × 58782 columns</p>\n",
       "</div>"
      ],
      "text/plain": [
       "     HudAlphaID  HYS  ENSG00000223972.5  ENSG00000227232.5  ENSG00000278267.1  \\\n",
       "0  5104_SL_0108    1                 15                 78                 12   \n",
       "\n",
       "   ENSG00000243485.5  ENSG00000284332.1  ENSG00000237613.2  ENSG00000268020.3  \\\n",
       "0                  5                  0                  6                  3   \n",
       "\n",
       "   ENSG00000240361.2  ...  ENSG00000273739.1  ENSG00000276700.1  \\\n",
       "0                  7  ...                  0                  7   \n",
       "\n",
       "   ENSG00000276312.1  ENSG00000275757.1  ENSG00000278573.1  ENSG00000276017.1  \\\n",
       "0                 26                  4                  1                  3   \n",
       "\n",
       "   ENSG00000278817.1  ENSG00000277196.4  ENSG00000278625.1  ENSG00000277374.1  \n",
       "0                 22                 17                  0                  0  \n",
       "\n",
       "[1 rows x 58782 columns]"
      ]
     },
     "execution_count": 2,
     "metadata": {},
     "output_type": "execute_result"
    }
   ],
   "source": [
    "%cd S:\\PPMI_RNA\\Processed\\Progression_Analysis\\Female\\HYS_1vs2vs3\n",
    "data = pd.read_csv('CountData_HYS1vs2vs3_PD_withHYS_Female.csv')\n",
    "data = data[data['HYS'] != 3]\n",
    "data.head(1)"
   ]
  },
  {
   "cell_type": "code",
   "execution_count": 3,
   "id": "ee22df7a",
   "metadata": {
    "ExecuteTime": {
     "end_time": "2023-11-21T08:11:10.312456Z",
     "start_time": "2023-11-21T08:11:10.173457Z"
    }
   },
   "outputs": [
    {
     "name": "stdout",
     "output_type": "stream",
     "text": [
      "   ENSG00000223972.5  ENSG00000227232.5  ENSG00000278267.1  ENSG00000243485.5  \\\n",
      "0                 15                 78                 12                  5   \n",
      "1                  6                128                 19                  3   \n",
      "\n",
      "   ENSG00000284332.1  ENSG00000237613.2  ENSG00000268020.3  ENSG00000240361.2  \\\n",
      "0                  0                  6                  3                  7   \n",
      "1                  0                  3                  0                  2   \n",
      "\n",
      "   ENSG00000186092.6  ENSG00000238009.6  ...  ENSG00000273739.1  \\\n",
      "0                  2                 35  ...                  0   \n",
      "1                  0                 50  ...                  0   \n",
      "\n",
      "   ENSG00000276700.1  ENSG00000276312.1  ENSG00000275757.1  ENSG00000278573.1  \\\n",
      "0                  7                 26                  4                  1   \n",
      "1                  8                 30                 58                  0   \n",
      "\n",
      "   ENSG00000276017.1  ENSG00000278817.1  ENSG00000277196.4  ENSG00000278625.1  \\\n",
      "0                  3                 22                 17                  0   \n",
      "1                  2                 14                  1                  0   \n",
      "\n",
      "   ENSG00000277374.1  \n",
      "0                  0  \n",
      "1                  0  \n",
      "\n",
      "[2 rows x 58780 columns]\n"
     ]
    }
   ],
   "source": [
    "X = data.drop(['HudAlphaID', 'HYS'], axis = 1)\n",
    "y = data['HYS']\n",
    "X_train, X_test, y_train, y_test = train_test_split(X, y, test_size = .2, random_state = 1) \n",
    "print(X.head(2))"
   ]
  },
  {
   "cell_type": "code",
   "execution_count": 4,
   "id": "c1ee3e48",
   "metadata": {
    "ExecuteTime": {
     "end_time": "2023-11-21T08:11:11.797457Z",
     "start_time": "2023-11-21T08:11:10.314456Z"
    }
   },
   "outputs": [
    {
     "data": {
      "text/plain": [
       "RandomForestClassifier(random_state=1)"
      ]
     },
     "execution_count": 4,
     "metadata": {},
     "output_type": "execute_result"
    }
   ],
   "source": [
    "rf_all_features = RandomForestClassifier(random_state=1)\n",
    "rf_all_features.fit(X_train, y_train)"
   ]
  },
  {
   "cell_type": "code",
   "execution_count": 5,
   "id": "f17f8606",
   "metadata": {
    "ExecuteTime": {
     "end_time": "2023-11-21T08:11:12.361457Z",
     "start_time": "2023-11-21T08:11:11.800457Z"
    }
   },
   "outputs": [
    {
     "data": {
      "text/plain": [
       "0.5135135135135135"
      ]
     },
     "execution_count": 5,
     "metadata": {},
     "output_type": "execute_result"
    }
   ],
   "source": [
    "accuracy_score(y_test, rf_all_features.predict(X_test))"
   ]
  },
  {
   "cell_type": "code",
   "execution_count": 6,
   "id": "5ba608ac",
   "metadata": {
    "ExecuteTime": {
     "end_time": "2023-11-21T08:16:38.814500Z",
     "start_time": "2023-11-21T08:11:12.363456Z"
    },
    "scrolled": true
   },
   "outputs": [
    {
     "name": "stdout",
     "output_type": "stream",
     "text": [
      "Iteration: 1 / 100\n",
      "Iteration: 2 / 100\n",
      "Iteration: 3 / 100\n",
      "Iteration: 4 / 100\n",
      "Iteration: 5 / 100\n",
      "Iteration: 6 / 100\n",
      "Iteration: 7 / 100\n",
      "Iteration: 8 / 100\n",
      "\n",
      "\n",
      "BorutaPy finished running.\n",
      "\n",
      "Iteration: \t9 / 100\n",
      "Confirmed: \t0\n",
      "Tentative: \t0\n",
      "Rejected: \t58780\n"
     ]
    },
    {
     "data": {
      "text/plain": [
       "BorutaPy(estimator=RandomForestClassifier(n_estimators=3428,\n",
       "                                          random_state=RandomState(MT19937) at 0x1DD795E4D40),\n",
       "         n_estimators='auto',\n",
       "         random_state=RandomState(MT19937) at 0x1DD795E4D40, verbose=1)"
      ]
     },
     "execution_count": 6,
     "metadata": {},
     "output_type": "execute_result"
    }
   ],
   "source": [
    "rfc = RandomForestClassifier(random_state=1)\n",
    "boruta_selector = BorutaPy(rfc, n_estimators= 'auto', verbose=1, random_state=1)\n",
    "boruta_selector.fit(np.array(X_train), np.array(y_train))  "
   ]
  },
  {
   "cell_type": "code",
   "execution_count": 7,
   "id": "51f874e0",
   "metadata": {
    "ExecuteTime": {
     "end_time": "2023-11-21T08:16:38.829498Z",
     "start_time": "2023-11-21T08:16:38.819498Z"
    }
   },
   "outputs": [
    {
     "name": "stdout",
     "output_type": "stream",
     "text": [
      "No. of significant features:  0\n"
     ]
    }
   ],
   "source": [
    "# print(\"Ranking: \",boruta_selector.ranking_)          \n",
    "print(\"No. of significant features: \", boruta_selector.n_features_)"
   ]
  },
  {
   "cell_type": "code",
   "execution_count": 8,
   "id": "61cadc89",
   "metadata": {
    "ExecuteTime": {
     "end_time": "2023-11-21T08:16:38.972553Z",
     "start_time": "2023-11-21T08:16:38.831498Z"
    }
   },
   "outputs": [],
   "source": [
    "selected_rf_features = pd.DataFrame({'GeneID':list(X_train.columns),\n",
    "                                       'Ranking':boruta_selector.ranking_})\n",
    "selected_rf_features = selected_rf_features.sort_values(by='Ranking')"
   ]
  },
  {
   "cell_type": "code",
   "execution_count": 9,
   "id": "6ae888ab",
   "metadata": {
    "ExecuteTime": {
     "end_time": "2023-11-21T08:16:39.018215Z",
     "start_time": "2023-11-21T08:16:38.974552Z"
    },
    "scrolled": true
   },
   "outputs": [
    {
     "data": {
      "text/html": [
       "<div>\n",
       "<style scoped>\n",
       "    .dataframe tbody tr th:only-of-type {\n",
       "        vertical-align: middle;\n",
       "    }\n",
       "\n",
       "    .dataframe tbody tr th {\n",
       "        vertical-align: top;\n",
       "    }\n",
       "\n",
       "    .dataframe thead th {\n",
       "        text-align: right;\n",
       "    }\n",
       "</style>\n",
       "<table border=\"1\" class=\"dataframe\">\n",
       "  <thead>\n",
       "    <tr style=\"text-align: right;\">\n",
       "      <th></th>\n",
       "      <th>GeneID</th>\n",
       "      <th>Ranking</th>\n",
       "    </tr>\n",
       "  </thead>\n",
       "  <tbody>\n",
       "    <tr>\n",
       "      <th>15852</th>\n",
       "      <td>ENSG00000253333.1</td>\n",
       "      <td>2</td>\n",
       "    </tr>\n",
       "    <tr>\n",
       "      <th>1791</th>\n",
       "      <td>ENSG00000200575.1</td>\n",
       "      <td>3</td>\n",
       "    </tr>\n",
       "    <tr>\n",
       "      <th>3223</th>\n",
       "      <td>ENSG00000163221.8</td>\n",
       "      <td>4</td>\n",
       "    </tr>\n",
       "  </tbody>\n",
       "</table>\n",
       "</div>"
      ],
      "text/plain": [
       "                  GeneID  Ranking\n",
       "15852  ENSG00000253333.1        2\n",
       "1791   ENSG00000200575.1        3\n",
       "3223   ENSG00000163221.8        4"
      ]
     },
     "execution_count": 9,
     "metadata": {},
     "output_type": "execute_result"
    }
   ],
   "source": [
    "Top50 = selected_rf_features.iloc[:50, :]\n",
    "Top50.head(3)"
   ]
  },
  {
   "cell_type": "markdown",
   "id": "a3aba4cb",
   "metadata": {},
   "source": [
    "### Top 50"
   ]
  },
  {
   "cell_type": "code",
   "execution_count": 10,
   "id": "9605e163",
   "metadata": {
    "ExecuteTime": {
     "end_time": "2023-11-21T08:16:39.174997Z",
     "start_time": "2023-11-21T08:16:39.020184Z"
    }
   },
   "outputs": [],
   "source": [
    "Top50.to_csv ('HYS1vs2_Boruta_Top50_Female.csv', index = False)\n",
    "selected_rf_features.to_csv ('HYS1vs2_Boruta_All_Female.csv', index = False)"
   ]
  },
  {
   "cell_type": "code",
   "execution_count": 11,
   "id": "a5bc67f8",
   "metadata": {
    "ExecuteTime": {
     "end_time": "2023-11-21T08:16:39.206938Z",
     "start_time": "2023-11-21T08:16:39.176937Z"
    }
   },
   "outputs": [
    {
     "name": "stderr",
     "output_type": "stream",
     "text": [
      "C:\\Users\\system 4\\AppData\\Local\\Temp\\ipykernel_3716\\1748721246.py:6: SettingWithCopyWarning: \n",
      "A value is trying to be set on a copy of a slice from a DataFrame.\n",
      "Try using .loc[row_indexer,col_indexer] = value instead\n",
      "\n",
      "See the caveats in the documentation: https://pandas.pydata.org/pandas-docs/stable/user_guide/indexing.html#returning-a-view-versus-a-copy\n",
      "  df_subset['HYS'] = data['HYS']\n"
     ]
    },
    {
     "data": {
      "text/html": [
       "<div>\n",
       "<style scoped>\n",
       "    .dataframe tbody tr th:only-of-type {\n",
       "        vertical-align: middle;\n",
       "    }\n",
       "\n",
       "    .dataframe tbody tr th {\n",
       "        vertical-align: top;\n",
       "    }\n",
       "\n",
       "    .dataframe thead th {\n",
       "        text-align: right;\n",
       "    }\n",
       "</style>\n",
       "<table border=\"1\" class=\"dataframe\">\n",
       "  <thead>\n",
       "    <tr style=\"text-align: right;\">\n",
       "      <th></th>\n",
       "      <th>ENSG00000236111.5</th>\n",
       "      <th>ENSG00000200575.1</th>\n",
       "      <th>ENSG00000163220.10</th>\n",
       "      <th>ENSG00000163221.8</th>\n",
       "      <th>ENSG00000202400.1</th>\n",
       "      <th>ENSG00000172046.18</th>\n",
       "      <th>ENSG00000004838.13</th>\n",
       "      <th>ENSG00000127418.14</th>\n",
       "      <th>ENSG00000253333.1</th>\n",
       "      <th>ENSG00000197043.13</th>\n",
       "      <th>...</th>\n",
       "      <th>ENSG00000260160.1</th>\n",
       "      <th>ENSG00000250507.1</th>\n",
       "      <th>ENSG00000276768.1</th>\n",
       "      <th>ENSG00000266104.1</th>\n",
       "      <th>ENSG00000099985.3</th>\n",
       "      <th>ENSG00000205853.10</th>\n",
       "      <th>ENSG00000100379.17</th>\n",
       "      <th>ENSG00000278948.1</th>\n",
       "      <th>ENSG00000231728.3</th>\n",
       "      <th>HYS</th>\n",
       "    </tr>\n",
       "  </thead>\n",
       "  <tbody>\n",
       "    <tr>\n",
       "      <th>0</th>\n",
       "      <td>6</td>\n",
       "      <td>16</td>\n",
       "      <td>56086</td>\n",
       "      <td>1128</td>\n",
       "      <td>5</td>\n",
       "      <td>1866</td>\n",
       "      <td>52</td>\n",
       "      <td>153</td>\n",
       "      <td>4</td>\n",
       "      <td>7472</td>\n",
       "      <td>...</td>\n",
       "      <td>65</td>\n",
       "      <td>6</td>\n",
       "      <td>10</td>\n",
       "      <td>18</td>\n",
       "      <td>102</td>\n",
       "      <td>25</td>\n",
       "      <td>147</td>\n",
       "      <td>87</td>\n",
       "      <td>60</td>\n",
       "      <td>1</td>\n",
       "    </tr>\n",
       "    <tr>\n",
       "      <th>1</th>\n",
       "      <td>3</td>\n",
       "      <td>5</td>\n",
       "      <td>17851</td>\n",
       "      <td>449</td>\n",
       "      <td>0</td>\n",
       "      <td>1609</td>\n",
       "      <td>52</td>\n",
       "      <td>185</td>\n",
       "      <td>11</td>\n",
       "      <td>3471</td>\n",
       "      <td>...</td>\n",
       "      <td>35</td>\n",
       "      <td>13</td>\n",
       "      <td>4</td>\n",
       "      <td>17</td>\n",
       "      <td>109</td>\n",
       "      <td>24</td>\n",
       "      <td>100</td>\n",
       "      <td>95</td>\n",
       "      <td>26</td>\n",
       "      <td>2</td>\n",
       "    </tr>\n",
       "  </tbody>\n",
       "</table>\n",
       "<p>2 rows × 51 columns</p>\n",
       "</div>"
      ],
      "text/plain": [
       "   ENSG00000236111.5  ENSG00000200575.1  ENSG00000163220.10  \\\n",
       "0                  6                 16               56086   \n",
       "1                  3                  5               17851   \n",
       "\n",
       "   ENSG00000163221.8  ENSG00000202400.1  ENSG00000172046.18  \\\n",
       "0               1128                  5                1866   \n",
       "1                449                  0                1609   \n",
       "\n",
       "   ENSG00000004838.13  ENSG00000127418.14  ENSG00000253333.1  \\\n",
       "0                  52                 153                  4   \n",
       "1                  52                 185                 11   \n",
       "\n",
       "   ENSG00000197043.13  ...  ENSG00000260160.1  ENSG00000250507.1  \\\n",
       "0                7472  ...                 65                  6   \n",
       "1                3471  ...                 35                 13   \n",
       "\n",
       "   ENSG00000276768.1  ENSG00000266104.1  ENSG00000099985.3  \\\n",
       "0                 10                 18                102   \n",
       "1                  4                 17                109   \n",
       "\n",
       "   ENSG00000205853.10  ENSG00000100379.17  ENSG00000278948.1  \\\n",
       "0                  25                 147                 87   \n",
       "1                  24                 100                 95   \n",
       "\n",
       "   ENSG00000231728.3  HYS  \n",
       "0                 60    1  \n",
       "1                 26    2  \n",
       "\n",
       "[2 rows x 51 columns]"
      ]
     },
     "execution_count": 11,
     "metadata": {},
     "output_type": "execute_result"
    }
   ],
   "source": [
    "# create a list of column names to subset from data\n",
    "col_names = Top50.iloc[:, 0].tolist()\n",
    "\n",
    "# subset df based on the column names\n",
    "df_subset = data.loc[:, data.columns.isin(col_names)]\n",
    "df_subset['HYS'] = data['HYS']\n",
    "df_subset.to_csv ('HYS1vs2_Boruta_Top50_Data_Female.csv', index = False)\n",
    "df_subset.head(2)"
   ]
  },
  {
   "cell_type": "markdown",
   "id": "02af7ae1",
   "metadata": {},
   "source": [
    "### Top 100"
   ]
  },
  {
   "cell_type": "code",
   "execution_count": 12,
   "id": "d2bf41f3",
   "metadata": {
    "ExecuteTime": {
     "end_time": "2023-11-21T08:16:39.286524Z",
     "start_time": "2023-11-21T08:16:39.208937Z"
    }
   },
   "outputs": [
    {
     "data": {
      "text/html": [
       "<div>\n",
       "<style scoped>\n",
       "    .dataframe tbody tr th:only-of-type {\n",
       "        vertical-align: middle;\n",
       "    }\n",
       "\n",
       "    .dataframe tbody tr th {\n",
       "        vertical-align: top;\n",
       "    }\n",
       "\n",
       "    .dataframe thead th {\n",
       "        text-align: right;\n",
       "    }\n",
       "</style>\n",
       "<table border=\"1\" class=\"dataframe\">\n",
       "  <thead>\n",
       "    <tr style=\"text-align: right;\">\n",
       "      <th></th>\n",
       "      <th>GeneID</th>\n",
       "      <th>Ranking</th>\n",
       "    </tr>\n",
       "  </thead>\n",
       "  <tbody>\n",
       "    <tr>\n",
       "      <th>15852</th>\n",
       "      <td>ENSG00000253333.1</td>\n",
       "      <td>2</td>\n",
       "    </tr>\n",
       "    <tr>\n",
       "      <th>1791</th>\n",
       "      <td>ENSG00000200575.1</td>\n",
       "      <td>3</td>\n",
       "    </tr>\n",
       "  </tbody>\n",
       "</table>\n",
       "</div>"
      ],
      "text/plain": [
       "                  GeneID  Ranking\n",
       "15852  ENSG00000253333.1        2\n",
       "1791   ENSG00000200575.1        3"
      ]
     },
     "execution_count": 12,
     "metadata": {},
     "output_type": "execute_result"
    }
   ],
   "source": [
    "Top100 = selected_rf_features.iloc[:100, :]\n",
    "Top100.to_csv ('HYS1vs2_Boruta_Top100_Female.csv', index = False)\n",
    "Top100.head(2)"
   ]
  },
  {
   "cell_type": "code",
   "execution_count": 13,
   "id": "bd596750",
   "metadata": {
    "ExecuteTime": {
     "end_time": "2023-11-21T08:16:39.347800Z",
     "start_time": "2023-11-21T08:16:39.289458Z"
    }
   },
   "outputs": [
    {
     "name": "stderr",
     "output_type": "stream",
     "text": [
      "C:\\Users\\system 4\\AppData\\Local\\Temp\\ipykernel_3716\\2034953418.py:6: SettingWithCopyWarning: \n",
      "A value is trying to be set on a copy of a slice from a DataFrame.\n",
      "Try using .loc[row_indexer,col_indexer] = value instead\n",
      "\n",
      "See the caveats in the documentation: https://pandas.pydata.org/pandas-docs/stable/user_guide/indexing.html#returning-a-view-versus-a-copy\n",
      "  df_subset['HYS'] = data['HYS']\n"
     ]
    },
    {
     "data": {
      "text/html": [
       "<div>\n",
       "<style scoped>\n",
       "    .dataframe tbody tr th:only-of-type {\n",
       "        vertical-align: middle;\n",
       "    }\n",
       "\n",
       "    .dataframe tbody tr th {\n",
       "        vertical-align: top;\n",
       "    }\n",
       "\n",
       "    .dataframe thead th {\n",
       "        text-align: right;\n",
       "    }\n",
       "</style>\n",
       "<table border=\"1\" class=\"dataframe\">\n",
       "  <thead>\n",
       "    <tr style=\"text-align: right;\">\n",
       "      <th></th>\n",
       "      <th>ENSG00000157870.15</th>\n",
       "      <th>ENSG00000171824.13</th>\n",
       "      <th>ENSG00000236111.5</th>\n",
       "      <th>ENSG00000200575.1</th>\n",
       "      <th>ENSG00000270339.3</th>\n",
       "      <th>ENSG00000232671.5</th>\n",
       "      <th>ENSG00000163220.10</th>\n",
       "      <th>ENSG00000163221.8</th>\n",
       "      <th>ENSG00000233791.5</th>\n",
       "      <th>ENSG00000263528.7</th>\n",
       "      <th>...</th>\n",
       "      <th>ENSG00000124107.5</th>\n",
       "      <th>ENSG00000266104.1</th>\n",
       "      <th>ENSG00000099985.3</th>\n",
       "      <th>ENSG00000199248.1</th>\n",
       "      <th>ENSG00000205853.10</th>\n",
       "      <th>ENSG00000100379.17</th>\n",
       "      <th>ENSG00000278948.1</th>\n",
       "      <th>ENSG00000100359.20</th>\n",
       "      <th>ENSG00000231728.3</th>\n",
       "      <th>HYS</th>\n",
       "    </tr>\n",
       "  </thead>\n",
       "  <tbody>\n",
       "    <tr>\n",
       "      <th>0</th>\n",
       "      <td>156</td>\n",
       "      <td>1120</td>\n",
       "      <td>6</td>\n",
       "      <td>16</td>\n",
       "      <td>86</td>\n",
       "      <td>14</td>\n",
       "      <td>56086</td>\n",
       "      <td>1128</td>\n",
       "      <td>87</td>\n",
       "      <td>1464</td>\n",
       "      <td>...</td>\n",
       "      <td>97</td>\n",
       "      <td>18</td>\n",
       "      <td>102</td>\n",
       "      <td>5</td>\n",
       "      <td>25</td>\n",
       "      <td>147</td>\n",
       "      <td>87</td>\n",
       "      <td>71</td>\n",
       "      <td>60</td>\n",
       "      <td>1</td>\n",
       "    </tr>\n",
       "    <tr>\n",
       "      <th>1</th>\n",
       "      <td>139</td>\n",
       "      <td>633</td>\n",
       "      <td>3</td>\n",
       "      <td>5</td>\n",
       "      <td>21</td>\n",
       "      <td>12</td>\n",
       "      <td>17851</td>\n",
       "      <td>449</td>\n",
       "      <td>28</td>\n",
       "      <td>992</td>\n",
       "      <td>...</td>\n",
       "      <td>62</td>\n",
       "      <td>17</td>\n",
       "      <td>109</td>\n",
       "      <td>5</td>\n",
       "      <td>24</td>\n",
       "      <td>100</td>\n",
       "      <td>95</td>\n",
       "      <td>68</td>\n",
       "      <td>26</td>\n",
       "      <td>2</td>\n",
       "    </tr>\n",
       "  </tbody>\n",
       "</table>\n",
       "<p>2 rows × 101 columns</p>\n",
       "</div>"
      ],
      "text/plain": [
       "   ENSG00000157870.15  ENSG00000171824.13  ENSG00000236111.5  \\\n",
       "0                 156                1120                  6   \n",
       "1                 139                 633                  3   \n",
       "\n",
       "   ENSG00000200575.1  ENSG00000270339.3  ENSG00000232671.5  \\\n",
       "0                 16                 86                 14   \n",
       "1                  5                 21                 12   \n",
       "\n",
       "   ENSG00000163220.10  ENSG00000163221.8  ENSG00000233791.5  \\\n",
       "0               56086               1128                 87   \n",
       "1               17851                449                 28   \n",
       "\n",
       "   ENSG00000263528.7  ...  ENSG00000124107.5  ENSG00000266104.1  \\\n",
       "0               1464  ...                 97                 18   \n",
       "1                992  ...                 62                 17   \n",
       "\n",
       "   ENSG00000099985.3  ENSG00000199248.1  ENSG00000205853.10  \\\n",
       "0                102                  5                  25   \n",
       "1                109                  5                  24   \n",
       "\n",
       "   ENSG00000100379.17  ENSG00000278948.1  ENSG00000100359.20  \\\n",
       "0                 147                 87                  71   \n",
       "1                 100                 95                  68   \n",
       "\n",
       "   ENSG00000231728.3  HYS  \n",
       "0                 60    1  \n",
       "1                 26    2  \n",
       "\n",
       "[2 rows x 101 columns]"
      ]
     },
     "execution_count": 13,
     "metadata": {},
     "output_type": "execute_result"
    }
   ],
   "source": [
    "# create a list of column names to subset from data\n",
    "col_names = Top100.iloc[:, 0].tolist()\n",
    "\n",
    "# subset df based on the column names\n",
    "df_subset = data.loc[:, data.columns.isin(col_names)]\n",
    "df_subset['HYS'] = data['HYS']\n",
    "df_subset.to_csv ('HYS1vs2_Boruta_Top100_Data_Female.csv', index = False)\n",
    "df_subset.head(2)"
   ]
  },
  {
   "cell_type": "markdown",
   "id": "da0416bc",
   "metadata": {},
   "source": [
    "### Top 250"
   ]
  },
  {
   "cell_type": "code",
   "execution_count": 14,
   "id": "876e2345",
   "metadata": {
    "ExecuteTime": {
     "end_time": "2023-11-21T08:16:39.457327Z",
     "start_time": "2023-11-21T08:16:39.350771Z"
    }
   },
   "outputs": [
    {
     "data": {
      "text/html": [
       "<div>\n",
       "<style scoped>\n",
       "    .dataframe tbody tr th:only-of-type {\n",
       "        vertical-align: middle;\n",
       "    }\n",
       "\n",
       "    .dataframe tbody tr th {\n",
       "        vertical-align: top;\n",
       "    }\n",
       "\n",
       "    .dataframe thead th {\n",
       "        text-align: right;\n",
       "    }\n",
       "</style>\n",
       "<table border=\"1\" class=\"dataframe\">\n",
       "  <thead>\n",
       "    <tr style=\"text-align: right;\">\n",
       "      <th></th>\n",
       "      <th>GeneID</th>\n",
       "      <th>Ranking</th>\n",
       "    </tr>\n",
       "  </thead>\n",
       "  <tbody>\n",
       "    <tr>\n",
       "      <th>15852</th>\n",
       "      <td>ENSG00000253333.1</td>\n",
       "      <td>2</td>\n",
       "    </tr>\n",
       "    <tr>\n",
       "      <th>1791</th>\n",
       "      <td>ENSG00000200575.1</td>\n",
       "      <td>3</td>\n",
       "    </tr>\n",
       "  </tbody>\n",
       "</table>\n",
       "</div>"
      ],
      "text/plain": [
       "                  GeneID  Ranking\n",
       "15852  ENSG00000253333.1        2\n",
       "1791   ENSG00000200575.1        3"
      ]
     },
     "execution_count": 14,
     "metadata": {},
     "output_type": "execute_result"
    }
   ],
   "source": [
    "Top250 = selected_rf_features.iloc[:250, :]\n",
    "Top250.to_csv ('HYS1vs2_Boruta_Top250_Female.csv', index = False)\n",
    "Top250.head(2)"
   ]
  },
  {
   "cell_type": "code",
   "execution_count": 15,
   "id": "72fbf0a1",
   "metadata": {
    "ExecuteTime": {
     "end_time": "2023-11-21T08:16:39.551220Z",
     "start_time": "2023-11-21T08:16:39.459255Z"
    }
   },
   "outputs": [
    {
     "name": "stderr",
     "output_type": "stream",
     "text": [
      "C:\\Users\\system 4\\AppData\\Local\\Temp\\ipykernel_3716\\2988535486.py:6: SettingWithCopyWarning: \n",
      "A value is trying to be set on a copy of a slice from a DataFrame.\n",
      "Try using .loc[row_indexer,col_indexer] = value instead\n",
      "\n",
      "See the caveats in the documentation: https://pandas.pydata.org/pandas-docs/stable/user_guide/indexing.html#returning-a-view-versus-a-copy\n",
      "  df_subset['HYS'] = data['HYS']\n"
     ]
    },
    {
     "data": {
      "text/html": [
       "<div>\n",
       "<style scoped>\n",
       "    .dataframe tbody tr th:only-of-type {\n",
       "        vertical-align: middle;\n",
       "    }\n",
       "\n",
       "    .dataframe tbody tr th {\n",
       "        vertical-align: top;\n",
       "    }\n",
       "\n",
       "    .dataframe thead th {\n",
       "        text-align: right;\n",
       "    }\n",
       "</style>\n",
       "<table border=\"1\" class=\"dataframe\">\n",
       "  <thead>\n",
       "    <tr style=\"text-align: right;\">\n",
       "      <th></th>\n",
       "      <th>ENSG00000186827.10</th>\n",
       "      <th>ENSG00000157870.15</th>\n",
       "      <th>ENSG00000215788.10</th>\n",
       "      <th>ENSG00000171824.13</th>\n",
       "      <th>ENSG00000255811.1</th>\n",
       "      <th>ENSG00000281207.1</th>\n",
       "      <th>ENSG00000178028.13</th>\n",
       "      <th>ENSG00000236111.5</th>\n",
       "      <th>ENSG00000200575.1</th>\n",
       "      <th>ENSG00000234184.5</th>\n",
       "      <th>...</th>\n",
       "      <th>ENSG00000102100.15</th>\n",
       "      <th>ENSG00000184205.14</th>\n",
       "      <th>ENSG00000276575.1</th>\n",
       "      <th>ENSG00000235262.1</th>\n",
       "      <th>ENSG00000231154.1</th>\n",
       "      <th>ENSG00000231728.3</th>\n",
       "      <th>ENSG00000129680.15</th>\n",
       "      <th>ENSG00000225840.2</th>\n",
       "      <th>ENSG00000228253.1</th>\n",
       "      <th>HYS</th>\n",
       "    </tr>\n",
       "  </thead>\n",
       "  <tbody>\n",
       "    <tr>\n",
       "      <th>0</th>\n",
       "      <td>176</td>\n",
       "      <td>156</td>\n",
       "      <td>1362</td>\n",
       "      <td>1120</td>\n",
       "      <td>24</td>\n",
       "      <td>142</td>\n",
       "      <td>858</td>\n",
       "      <td>6</td>\n",
       "      <td>16</td>\n",
       "      <td>18</td>\n",
       "      <td>...</td>\n",
       "      <td>190</td>\n",
       "      <td>461</td>\n",
       "      <td>25</td>\n",
       "      <td>44</td>\n",
       "      <td>56</td>\n",
       "      <td>60</td>\n",
       "      <td>410</td>\n",
       "      <td>0</td>\n",
       "      <td>25</td>\n",
       "      <td>1</td>\n",
       "    </tr>\n",
       "    <tr>\n",
       "      <th>1</th>\n",
       "      <td>105</td>\n",
       "      <td>139</td>\n",
       "      <td>985</td>\n",
       "      <td>633</td>\n",
       "      <td>4</td>\n",
       "      <td>98</td>\n",
       "      <td>588</td>\n",
       "      <td>3</td>\n",
       "      <td>5</td>\n",
       "      <td>9</td>\n",
       "      <td>...</td>\n",
       "      <td>111</td>\n",
       "      <td>300</td>\n",
       "      <td>8</td>\n",
       "      <td>35</td>\n",
       "      <td>27</td>\n",
       "      <td>26</td>\n",
       "      <td>110</td>\n",
       "      <td>0</td>\n",
       "      <td>17</td>\n",
       "      <td>2</td>\n",
       "    </tr>\n",
       "  </tbody>\n",
       "</table>\n",
       "<p>2 rows × 251 columns</p>\n",
       "</div>"
      ],
      "text/plain": [
       "   ENSG00000186827.10  ENSG00000157870.15  ENSG00000215788.10  \\\n",
       "0                 176                 156                1362   \n",
       "1                 105                 139                 985   \n",
       "\n",
       "   ENSG00000171824.13  ENSG00000255811.1  ENSG00000281207.1  \\\n",
       "0                1120                 24                142   \n",
       "1                 633                  4                 98   \n",
       "\n",
       "   ENSG00000178028.13  ENSG00000236111.5  ENSG00000200575.1  \\\n",
       "0                 858                  6                 16   \n",
       "1                 588                  3                  5   \n",
       "\n",
       "   ENSG00000234184.5  ...  ENSG00000102100.15  ENSG00000184205.14  \\\n",
       "0                 18  ...                 190                 461   \n",
       "1                  9  ...                 111                 300   \n",
       "\n",
       "   ENSG00000276575.1  ENSG00000235262.1  ENSG00000231154.1  ENSG00000231728.3  \\\n",
       "0                 25                 44                 56                 60   \n",
       "1                  8                 35                 27                 26   \n",
       "\n",
       "   ENSG00000129680.15  ENSG00000225840.2  ENSG00000228253.1  HYS  \n",
       "0                 410                  0                 25    1  \n",
       "1                 110                  0                 17    2  \n",
       "\n",
       "[2 rows x 251 columns]"
      ]
     },
     "execution_count": 15,
     "metadata": {},
     "output_type": "execute_result"
    }
   ],
   "source": [
    "# create a list of column names to subset from data\n",
    "col_names = Top250.iloc[:, 0].tolist()\n",
    "\n",
    "# subset df based on the column names\n",
    "df_subset = data.loc[:, data.columns.isin(col_names)]\n",
    "df_subset['HYS'] = data['HYS']\n",
    "df_subset.to_csv ('HYS1vs2_Boruta_Top250_Data_Female.csv', index = False)\n",
    "df_subset.head(2)"
   ]
  },
  {
   "cell_type": "markdown",
   "id": "ec242d27",
   "metadata": {},
   "source": [
    "### Top 500"
   ]
  },
  {
   "cell_type": "code",
   "execution_count": 16,
   "id": "380a31d7",
   "metadata": {
    "ExecuteTime": {
     "end_time": "2023-11-21T08:16:39.598690Z",
     "start_time": "2023-11-21T08:16:39.553219Z"
    }
   },
   "outputs": [
    {
     "data": {
      "text/html": [
       "<div>\n",
       "<style scoped>\n",
       "    .dataframe tbody tr th:only-of-type {\n",
       "        vertical-align: middle;\n",
       "    }\n",
       "\n",
       "    .dataframe tbody tr th {\n",
       "        vertical-align: top;\n",
       "    }\n",
       "\n",
       "    .dataframe thead th {\n",
       "        text-align: right;\n",
       "    }\n",
       "</style>\n",
       "<table border=\"1\" class=\"dataframe\">\n",
       "  <thead>\n",
       "    <tr style=\"text-align: right;\">\n",
       "      <th></th>\n",
       "      <th>GeneID</th>\n",
       "      <th>Ranking</th>\n",
       "    </tr>\n",
       "  </thead>\n",
       "  <tbody>\n",
       "    <tr>\n",
       "      <th>15852</th>\n",
       "      <td>ENSG00000253333.1</td>\n",
       "      <td>2</td>\n",
       "    </tr>\n",
       "    <tr>\n",
       "      <th>1791</th>\n",
       "      <td>ENSG00000200575.1</td>\n",
       "      <td>3</td>\n",
       "    </tr>\n",
       "  </tbody>\n",
       "</table>\n",
       "</div>"
      ],
      "text/plain": [
       "                  GeneID  Ranking\n",
       "15852  ENSG00000253333.1        2\n",
       "1791   ENSG00000200575.1        3"
      ]
     },
     "execution_count": 16,
     "metadata": {},
     "output_type": "execute_result"
    }
   ],
   "source": [
    "Top500 = selected_rf_features.iloc[:500, :]\n",
    "Top500.to_csv ('HYS1vs2_Boruta_Top500_Female.csv', index = False)\n",
    "Top500.head(2)"
   ]
  },
  {
   "cell_type": "code",
   "execution_count": 17,
   "id": "5956b562",
   "metadata": {
    "ExecuteTime": {
     "end_time": "2023-11-21T08:16:39.692255Z",
     "start_time": "2023-11-21T08:16:39.600727Z"
    }
   },
   "outputs": [
    {
     "name": "stderr",
     "output_type": "stream",
     "text": [
      "C:\\Users\\system 4\\AppData\\Local\\Temp\\ipykernel_3716\\2825327841.py:6: SettingWithCopyWarning: \n",
      "A value is trying to be set on a copy of a slice from a DataFrame.\n",
      "Try using .loc[row_indexer,col_indexer] = value instead\n",
      "\n",
      "See the caveats in the documentation: https://pandas.pydata.org/pandas-docs/stable/user_guide/indexing.html#returning-a-view-versus-a-copy\n",
      "  df_subset['HYS'] = data['HYS']\n"
     ]
    },
    {
     "data": {
      "text/html": [
       "<div>\n",
       "<style scoped>\n",
       "    .dataframe tbody tr th:only-of-type {\n",
       "        vertical-align: middle;\n",
       "    }\n",
       "\n",
       "    .dataframe tbody tr th {\n",
       "        vertical-align: top;\n",
       "    }\n",
       "\n",
       "    .dataframe thead th {\n",
       "        text-align: right;\n",
       "    }\n",
       "</style>\n",
       "<table border=\"1\" class=\"dataframe\">\n",
       "  <thead>\n",
       "    <tr style=\"text-align: right;\">\n",
       "      <th></th>\n",
       "      <th>ENSG00000186827.10</th>\n",
       "      <th>ENSG00000107404.19</th>\n",
       "      <th>ENSG00000189409.13</th>\n",
       "      <th>ENSG00000067606.16</th>\n",
       "      <th>ENSG00000225931.3</th>\n",
       "      <th>ENSG00000157870.15</th>\n",
       "      <th>ENSG00000215788.10</th>\n",
       "      <th>ENSG00000228150.1</th>\n",
       "      <th>ENSG00000171824.13</th>\n",
       "      <th>ENSG00000116661.10</th>\n",
       "      <th>...</th>\n",
       "      <th>ENSG00000188917.14</th>\n",
       "      <th>ENSG00000231154.1</th>\n",
       "      <th>ENSG00000231728.3</th>\n",
       "      <th>ENSG00000233382.6</th>\n",
       "      <th>ENSG00000129680.15</th>\n",
       "      <th>ENSG00000089820.15</th>\n",
       "      <th>ENSG00000225008.1</th>\n",
       "      <th>ENSG00000225840.2</th>\n",
       "      <th>ENSG00000228253.1</th>\n",
       "      <th>HYS</th>\n",
       "    </tr>\n",
       "  </thead>\n",
       "  <tbody>\n",
       "    <tr>\n",
       "      <th>0</th>\n",
       "      <td>176</td>\n",
       "      <td>541</td>\n",
       "      <td>18</td>\n",
       "      <td>508</td>\n",
       "      <td>47</td>\n",
       "      <td>156</td>\n",
       "      <td>1362</td>\n",
       "      <td>11</td>\n",
       "      <td>1120</td>\n",
       "      <td>70</td>\n",
       "      <td>...</td>\n",
       "      <td>1048</td>\n",
       "      <td>56</td>\n",
       "      <td>60</td>\n",
       "      <td>277</td>\n",
       "      <td>410</td>\n",
       "      <td>2805</td>\n",
       "      <td>16</td>\n",
       "      <td>0</td>\n",
       "      <td>25</td>\n",
       "      <td>1</td>\n",
       "    </tr>\n",
       "    <tr>\n",
       "      <th>1</th>\n",
       "      <td>105</td>\n",
       "      <td>335</td>\n",
       "      <td>20</td>\n",
       "      <td>374</td>\n",
       "      <td>72</td>\n",
       "      <td>139</td>\n",
       "      <td>985</td>\n",
       "      <td>7</td>\n",
       "      <td>633</td>\n",
       "      <td>48</td>\n",
       "      <td>...</td>\n",
       "      <td>825</td>\n",
       "      <td>27</td>\n",
       "      <td>26</td>\n",
       "      <td>143</td>\n",
       "      <td>110</td>\n",
       "      <td>2916</td>\n",
       "      <td>4</td>\n",
       "      <td>0</td>\n",
       "      <td>17</td>\n",
       "      <td>2</td>\n",
       "    </tr>\n",
       "  </tbody>\n",
       "</table>\n",
       "<p>2 rows × 501 columns</p>\n",
       "</div>"
      ],
      "text/plain": [
       "   ENSG00000186827.10  ENSG00000107404.19  ENSG00000189409.13  \\\n",
       "0                 176                 541                  18   \n",
       "1                 105                 335                  20   \n",
       "\n",
       "   ENSG00000067606.16  ENSG00000225931.3  ENSG00000157870.15  \\\n",
       "0                 508                 47                 156   \n",
       "1                 374                 72                 139   \n",
       "\n",
       "   ENSG00000215788.10  ENSG00000228150.1  ENSG00000171824.13  \\\n",
       "0                1362                 11                1120   \n",
       "1                 985                  7                 633   \n",
       "\n",
       "   ENSG00000116661.10  ...  ENSG00000188917.14  ENSG00000231154.1  \\\n",
       "0                  70  ...                1048                 56   \n",
       "1                  48  ...                 825                 27   \n",
       "\n",
       "   ENSG00000231728.3  ENSG00000233382.6  ENSG00000129680.15  \\\n",
       "0                 60                277                 410   \n",
       "1                 26                143                 110   \n",
       "\n",
       "   ENSG00000089820.15  ENSG00000225008.1  ENSG00000225840.2  \\\n",
       "0                2805                 16                  0   \n",
       "1                2916                  4                  0   \n",
       "\n",
       "   ENSG00000228253.1  HYS  \n",
       "0                 25    1  \n",
       "1                 17    2  \n",
       "\n",
       "[2 rows x 501 columns]"
      ]
     },
     "execution_count": 17,
     "metadata": {},
     "output_type": "execute_result"
    }
   ],
   "source": [
    "# create a list of column names to subset from data\n",
    "col_names = Top500.iloc[:, 0].tolist()\n",
    "\n",
    "# subset df based on the column names\n",
    "df_subset = data.loc[:, data.columns.isin(col_names)]\n",
    "df_subset['HYS'] = data['HYS']\n",
    "df_subset.to_csv ('HYS1vs2_Boruta_Top500_Data_Female.csv', index = False)\n",
    "df_subset.head(2)"
   ]
  },
  {
   "cell_type": "markdown",
   "id": "59810b00",
   "metadata": {},
   "source": []
  }
 ],
 "metadata": {
  "kernelspec": {
   "display_name": "Python 3 (ipykernel)",
   "language": "python",
   "name": "python3"
  },
  "language_info": {
   "codemirror_mode": {
    "name": "ipython",
    "version": 3
   },
   "file_extension": ".py",
   "mimetype": "text/x-python",
   "name": "python",
   "nbconvert_exporter": "python",
   "pygments_lexer": "ipython3",
   "version": "3.9.16"
  },
  "toc": {
   "base_numbering": 1,
   "nav_menu": {},
   "number_sections": true,
   "sideBar": true,
   "skip_h1_title": false,
   "title_cell": "Table of Contents",
   "title_sidebar": "Contents",
   "toc_cell": false,
   "toc_position": {},
   "toc_section_display": true,
   "toc_window_display": false
  },
  "varInspector": {
   "cols": {
    "lenName": 16,
    "lenType": 16,
    "lenVar": 40
   },
   "kernels_config": {
    "python": {
     "delete_cmd_postfix": "",
     "delete_cmd_prefix": "del ",
     "library": "var_list.py",
     "varRefreshCmd": "print(var_dic_list())"
    },
    "r": {
     "delete_cmd_postfix": ") ",
     "delete_cmd_prefix": "rm(",
     "library": "var_list.r",
     "varRefreshCmd": "cat(var_dic_list()) "
    }
   },
   "types_to_exclude": [
    "module",
    "function",
    "builtin_function_or_method",
    "instance",
    "_Feature"
   ],
   "window_display": false
  }
 },
 "nbformat": 4,
 "nbformat_minor": 5
}
