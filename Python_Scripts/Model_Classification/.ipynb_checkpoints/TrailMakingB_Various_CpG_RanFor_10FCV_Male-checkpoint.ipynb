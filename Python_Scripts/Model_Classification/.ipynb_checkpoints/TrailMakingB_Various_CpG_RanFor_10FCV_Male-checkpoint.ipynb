{
 "cells": [
  {
   "cell_type": "markdown",
   "metadata": {
    "colab_type": "text",
    "id": "0MRC0e0KhQ0S"
   },
   "source": [
    "# Random Forest Classification"
   ]
  },
  {
   "cell_type": "code",
   "execution_count": 1,
   "metadata": {
    "ExecuteTime": {
     "end_time": "2023-02-22T03:57:24.724111Z",
     "start_time": "2023-02-22T03:57:11.774867Z"
    },
    "colab": {},
    "colab_type": "code",
    "id": "YvGPUQaHhXfL"
   },
   "outputs": [],
   "source": [
    "import random\n",
    "import numpy as np\n",
    "import pandas as pd\n",
    "import seaborn as sn\n",
    "from numpy import std\n",
    "from numpy import mean\n",
    "import matplotlib.pyplot as plt\n",
    "from sklearn.datasets import make_classification\n",
    "from sklearn.preprocessing import StandardScaler\n",
    "from sklearn.model_selection import cross_val_score\n",
    "from sklearn.ensemble import RandomForestClassifier\n",
    "from sklearn.model_selection import train_test_split\n",
    "from sklearn.model_selection import RepeatedStratifiedKFold\n",
    "from sklearn.metrics import confusion_matrix, accuracy_score\n",
    "%matplotlib inline"
   ]
  },
  {
   "cell_type": "markdown",
   "metadata": {
    "colab_type": "text",
    "id": "LWd1UlMnhT2s"
   },
   "source": [
    "## All CpG"
   ]
  },
  {
   "cell_type": "code",
   "execution_count": 2,
   "metadata": {
    "ExecuteTime": {
     "end_time": "2023-02-22T03:58:41.187198Z",
     "start_time": "2023-02-22T03:57:24.726134Z"
    },
    "scrolled": true
   },
   "outputs": [
    {
     "name": "stdout",
     "output_type": "stream",
     "text": [
      "Z:\\PPMI_Data\\Excels\\NonMotors\\Derived250\\Male\\GeneCpG\\TrailMakingB\n",
      "(149, 61926)\n"
     ]
    },
    {
     "data": {
      "text/html": [
       "<div>\n",
       "<style scoped>\n",
       "    .dataframe tbody tr th:only-of-type {\n",
       "        vertical-align: middle;\n",
       "    }\n",
       "\n",
       "    .dataframe tbody tr th {\n",
       "        vertical-align: top;\n",
       "    }\n",
       "\n",
       "    .dataframe thead th {\n",
       "        text-align: right;\n",
       "    }\n",
       "</style>\n",
       "<table border=\"1\" class=\"dataframe\">\n",
       "  <thead>\n",
       "    <tr style=\"text-align: right;\">\n",
       "      <th></th>\n",
       "      <th>Sentrix</th>\n",
       "      <th>PATNO</th>\n",
       "      <th>Gender</th>\n",
       "      <th>APPRDX</th>\n",
       "      <th>HYS</th>\n",
       "      <th>Age</th>\n",
       "      <th>AgeCate</th>\n",
       "      <th>Trail_Making_B_Category</th>\n",
       "      <th>cg02315971</th>\n",
       "      <th>cg24133836</th>\n",
       "      <th>...</th>\n",
       "      <th>cg00956423</th>\n",
       "      <th>cg14462343</th>\n",
       "      <th>cg07481734</th>\n",
       "      <th>cg22394535</th>\n",
       "      <th>cg13044444</th>\n",
       "      <th>cg23223756</th>\n",
       "      <th>cg16870358</th>\n",
       "      <th>cg04754776</th>\n",
       "      <th>cg00154746</th>\n",
       "      <th>cg06155771</th>\n",
       "    </tr>\n",
       "  </thead>\n",
       "  <tbody>\n",
       "    <tr>\n",
       "      <th>0</th>\n",
       "      <td>200991620021_R01C01</td>\n",
       "      <td>3001</td>\n",
       "      <td>1</td>\n",
       "      <td>1</td>\n",
       "      <td>2</td>\n",
       "      <td>65.1</td>\n",
       "      <td>4</td>\n",
       "      <td>0</td>\n",
       "      <td>0.028697</td>\n",
       "      <td>0.017000</td>\n",
       "      <td>...</td>\n",
       "      <td>0.109870</td>\n",
       "      <td>0.056582</td>\n",
       "      <td>0.064137</td>\n",
       "      <td>0.053802</td>\n",
       "      <td>0.083556</td>\n",
       "      <td>0.042638</td>\n",
       "      <td>0.041733</td>\n",
       "      <td>0.896521</td>\n",
       "      <td>0.033285</td>\n",
       "      <td>0.753096</td>\n",
       "    </tr>\n",
       "    <tr>\n",
       "      <th>1</th>\n",
       "      <td>200973410167_R05C01</td>\n",
       "      <td>3010</td>\n",
       "      <td>1</td>\n",
       "      <td>1</td>\n",
       "      <td>2</td>\n",
       "      <td>47.0</td>\n",
       "      <td>2</td>\n",
       "      <td>0</td>\n",
       "      <td>0.032514</td>\n",
       "      <td>0.024376</td>\n",
       "      <td>...</td>\n",
       "      <td>0.135166</td>\n",
       "      <td>0.040369</td>\n",
       "      <td>0.040454</td>\n",
       "      <td>0.054845</td>\n",
       "      <td>0.029884</td>\n",
       "      <td>0.033953</td>\n",
       "      <td>0.035941</td>\n",
       "      <td>0.869649</td>\n",
       "      <td>0.022581</td>\n",
       "      <td>0.837364</td>\n",
       "    </tr>\n",
       "    <tr>\n",
       "      <th>2</th>\n",
       "      <td>200989060140_R08C01</td>\n",
       "      <td>3071</td>\n",
       "      <td>1</td>\n",
       "      <td>2</td>\n",
       "      <td>0</td>\n",
       "      <td>71.5</td>\n",
       "      <td>4</td>\n",
       "      <td>0</td>\n",
       "      <td>0.029306</td>\n",
       "      <td>0.016859</td>\n",
       "      <td>...</td>\n",
       "      <td>0.210696</td>\n",
       "      <td>0.034217</td>\n",
       "      <td>0.057532</td>\n",
       "      <td>0.050986</td>\n",
       "      <td>0.061246</td>\n",
       "      <td>0.069935</td>\n",
       "      <td>0.056667</td>\n",
       "      <td>0.864325</td>\n",
       "      <td>0.032721</td>\n",
       "      <td>0.866873</td>\n",
       "    </tr>\n",
       "  </tbody>\n",
       "</table>\n",
       "<p>3 rows × 61926 columns</p>\n",
       "</div>"
      ],
      "text/plain": [
       "               Sentrix  PATNO  Gender  APPRDX  HYS   Age  AgeCate  \\\n",
       "0  200991620021_R01C01   3001       1       1    2  65.1        4   \n",
       "1  200973410167_R05C01   3010       1       1    2  47.0        2   \n",
       "2  200989060140_R08C01   3071       1       2    0  71.5        4   \n",
       "\n",
       "   Trail_Making_B_Category  cg02315971  cg24133836  ...  cg00956423  \\\n",
       "0                        0    0.028697    0.017000  ...    0.109870   \n",
       "1                        0    0.032514    0.024376  ...    0.135166   \n",
       "2                        0    0.029306    0.016859  ...    0.210696   \n",
       "\n",
       "   cg14462343  cg07481734  cg22394535  cg13044444  cg23223756  cg16870358  \\\n",
       "0    0.056582    0.064137    0.053802    0.083556    0.042638    0.041733   \n",
       "1    0.040369    0.040454    0.054845    0.029884    0.033953    0.035941   \n",
       "2    0.034217    0.057532    0.050986    0.061246    0.069935    0.056667   \n",
       "\n",
       "   cg04754776  cg00154746  cg06155771  \n",
       "0    0.896521    0.033285    0.753096  \n",
       "1    0.869649    0.022581    0.837364  \n",
       "2    0.864325    0.032721    0.866873  \n",
       "\n",
       "[3 rows x 61926 columns]"
      ]
     },
     "execution_count": 2,
     "metadata": {},
     "output_type": "execute_result"
    }
   ],
   "source": [
    "%cd Z:\\PPMI_Data\\Excels\\NonMotors\\Derived250\\Male\\GeneCpG\\TrailMakingB\n",
    "df = pd.read_csv('TrailMakingBCateg_Methylome_Male.csv')\n",
    "print(df.shape)\n",
    "df.head(3)"
   ]
  },
  {
   "cell_type": "code",
   "execution_count": 3,
   "metadata": {
    "ExecuteTime": {
     "end_time": "2023-02-22T03:58:41.418473Z",
     "start_time": "2023-02-22T03:58:41.189218Z"
    },
    "scrolled": true
   },
   "outputs": [
    {
     "data": {
      "text/html": [
       "<div>\n",
       "<style scoped>\n",
       "    .dataframe tbody tr th:only-of-type {\n",
       "        vertical-align: middle;\n",
       "    }\n",
       "\n",
       "    .dataframe tbody tr th {\n",
       "        vertical-align: top;\n",
       "    }\n",
       "\n",
       "    .dataframe thead th {\n",
       "        text-align: right;\n",
       "    }\n",
       "</style>\n",
       "<table border=\"1\" class=\"dataframe\">\n",
       "  <thead>\n",
       "    <tr style=\"text-align: right;\">\n",
       "      <th></th>\n",
       "      <th>APPRDX</th>\n",
       "      <th>cg02315971</th>\n",
       "      <th>cg24133836</th>\n",
       "      <th>cg03286969</th>\n",
       "      <th>cg11738782</th>\n",
       "      <th>cg25741731</th>\n",
       "      <th>cg24629744</th>\n",
       "      <th>cg23836745</th>\n",
       "      <th>cg11685489</th>\n",
       "      <th>cg06081147</th>\n",
       "      <th>...</th>\n",
       "      <th>cg00956423</th>\n",
       "      <th>cg14462343</th>\n",
       "      <th>cg07481734</th>\n",
       "      <th>cg22394535</th>\n",
       "      <th>cg13044444</th>\n",
       "      <th>cg23223756</th>\n",
       "      <th>cg16870358</th>\n",
       "      <th>cg04754776</th>\n",
       "      <th>cg00154746</th>\n",
       "      <th>cg06155771</th>\n",
       "    </tr>\n",
       "  </thead>\n",
       "  <tbody>\n",
       "    <tr>\n",
       "      <th>0</th>\n",
       "      <td>1</td>\n",
       "      <td>0.028697</td>\n",
       "      <td>0.017000</td>\n",
       "      <td>0.018631</td>\n",
       "      <td>0.871526</td>\n",
       "      <td>0.026148</td>\n",
       "      <td>0.866396</td>\n",
       "      <td>0.922285</td>\n",
       "      <td>0.881489</td>\n",
       "      <td>0.647436</td>\n",
       "      <td>...</td>\n",
       "      <td>0.109870</td>\n",
       "      <td>0.056582</td>\n",
       "      <td>0.064137</td>\n",
       "      <td>0.053802</td>\n",
       "      <td>0.083556</td>\n",
       "      <td>0.042638</td>\n",
       "      <td>0.041733</td>\n",
       "      <td>0.896521</td>\n",
       "      <td>0.033285</td>\n",
       "      <td>0.753096</td>\n",
       "    </tr>\n",
       "    <tr>\n",
       "      <th>1</th>\n",
       "      <td>1</td>\n",
       "      <td>0.032514</td>\n",
       "      <td>0.024376</td>\n",
       "      <td>0.014555</td>\n",
       "      <td>0.830575</td>\n",
       "      <td>0.038973</td>\n",
       "      <td>0.840974</td>\n",
       "      <td>0.843498</td>\n",
       "      <td>0.843964</td>\n",
       "      <td>0.580843</td>\n",
       "      <td>...</td>\n",
       "      <td>0.135166</td>\n",
       "      <td>0.040369</td>\n",
       "      <td>0.040454</td>\n",
       "      <td>0.054845</td>\n",
       "      <td>0.029884</td>\n",
       "      <td>0.033953</td>\n",
       "      <td>0.035941</td>\n",
       "      <td>0.869649</td>\n",
       "      <td>0.022581</td>\n",
       "      <td>0.837364</td>\n",
       "    </tr>\n",
       "  </tbody>\n",
       "</table>\n",
       "<p>2 rows × 61919 columns</p>\n",
       "</div>"
      ],
      "text/plain": [
       "   APPRDX  cg02315971  cg24133836  cg03286969  cg11738782  cg25741731  \\\n",
       "0       1    0.028697    0.017000    0.018631    0.871526    0.026148   \n",
       "1       1    0.032514    0.024376    0.014555    0.830575    0.038973   \n",
       "\n",
       "   cg24629744  cg23836745  cg11685489  cg06081147  ...  cg00956423  \\\n",
       "0    0.866396    0.922285    0.881489    0.647436  ...    0.109870   \n",
       "1    0.840974    0.843498    0.843964    0.580843  ...    0.135166   \n",
       "\n",
       "   cg14462343  cg07481734  cg22394535  cg13044444  cg23223756  cg16870358  \\\n",
       "0    0.056582    0.064137    0.053802    0.083556    0.042638    0.041733   \n",
       "1    0.040369    0.040454    0.054845    0.029884    0.033953    0.035941   \n",
       "\n",
       "   cg04754776  cg00154746  cg06155771  \n",
       "0    0.896521    0.033285    0.753096  \n",
       "1    0.869649    0.022581    0.837364  \n",
       "\n",
       "[2 rows x 61919 columns]"
      ]
     },
     "execution_count": 3,
     "metadata": {},
     "output_type": "execute_result"
    }
   ],
   "source": [
    "df1 = df.drop(['Sentrix','PATNO','HYS','Gender','Trail_Making_B_Category','Age','AgeCate'], axis=1)\n",
    "df1.head(2)"
   ]
  },
  {
   "cell_type": "code",
   "execution_count": 5,
   "metadata": {
    "ExecuteTime": {
     "end_time": "2023-02-22T04:38:56.082585Z",
     "start_time": "2023-02-22T04:01:20.207937Z"
    }
   },
   "outputs": [
    {
     "name": "stdout",
     "output_type": "stream",
     "text": [
      "1\n",
      "Mean accuracy: 0.4833333333333333\n",
      "2\n",
      "Mean accuracy: 0.55\n",
      "3\n",
      "Mean accuracy: 0.5666666666666668\n",
      "4\n",
      "Mean accuracy: 0.4833333333333333\n",
      "5\n",
      "Mean accuracy: 0.4333333333333334\n",
      "6\n",
      "Mean accuracy: 0.45\n",
      "7\n",
      "Mean accuracy: 0.5333333333333333\n",
      "8\n",
      "Mean accuracy: 0.6333333333333333\n",
      "9\n",
      "Mean accuracy: 0.5333333333333334\n",
      "10\n",
      "Mean accuracy: 0.4333333333333333\n",
      "11\n",
      "Mean accuracy: 0.3333333333333333\n",
      "12\n",
      "Mean accuracy: 0.5166666666666667\n",
      "13\n",
      "Mean accuracy: 0.5666666666666667\n",
      "14\n",
      "Mean accuracy: 0.5166666666666667\n",
      "15\n",
      "Mean accuracy: 0.5333333333333334\n",
      "16\n",
      "Mean accuracy: 0.6166666666666667\n",
      "17\n",
      "Mean accuracy: 0.4666666666666666\n",
      "18\n",
      "Mean accuracy: 0.6\n",
      "19\n",
      "Mean accuracy: 0.5333333333333333\n",
      "20\n",
      "Mean accuracy: 0.45\n",
      "21\n",
      "Mean accuracy: 0.5\n",
      "22\n",
      "Mean accuracy: 0.4333333333333333\n",
      "23\n",
      "Mean accuracy: 0.3833333333333333\n",
      "24\n",
      "Mean accuracy: 0.4833333333333333\n",
      "25\n",
      "Mean accuracy: 0.4666666666666667\n",
      "26\n",
      "Mean accuracy: 0.5\n",
      "27\n",
      "Mean accuracy: 0.4833333333333333\n",
      "28\n",
      "Mean accuracy: 0.45\n",
      "29\n",
      "Mean accuracy: 0.4\n",
      "30\n",
      "Mean accuracy: 0.5499999999999999\n",
      "31\n",
      "Mean accuracy: 0.4166666666666667\n",
      "32\n",
      "Mean accuracy: 0.4499999999999999\n",
      "33\n",
      "Mean accuracy: 0.4166666666666667\n",
      "34\n",
      "Mean accuracy: 0.36666666666666664\n",
      "35\n",
      "Mean accuracy: 0.4999999999999999\n",
      "36\n",
      "Mean accuracy: 0.5166666666666667\n",
      "37\n",
      "Mean accuracy: 0.5\n",
      "38\n",
      "Mean accuracy: 0.5\n",
      "39\n",
      "Mean accuracy: 0.29999999999999993\n",
      "40\n",
      "Mean accuracy: 0.5\n",
      "41\n",
      "Mean accuracy: 0.5833333333333334\n",
      "42\n",
      "Mean accuracy: 0.5166666666666666\n",
      "43\n",
      "Mean accuracy: 0.5666666666666667\n",
      "44\n",
      "Mean accuracy: 0.5166666666666667\n",
      "45\n",
      "Mean accuracy: 0.4333333333333333\n",
      "46\n",
      "Mean accuracy: 0.38333333333333336\n",
      "47\n",
      "Mean accuracy: 0.5999999999999999\n",
      "48\n",
      "Mean accuracy: 0.4833333333333333\n",
      "49\n",
      "Mean accuracy: 0.4\n",
      "50\n",
      "Mean accuracy: 0.5666666666666667\n",
      "51\n",
      "Mean accuracy: 0.4666666666666667\n",
      "52\n",
      "Mean accuracy: 0.39999999999999997\n",
      "53\n",
      "Mean accuracy: 0.55\n",
      "54\n",
      "Mean accuracy: 0.5166666666666666\n",
      "55\n",
      "Mean accuracy: 0.4499999999999999\n",
      "56\n",
      "Mean accuracy: 0.5166666666666667\n",
      "57\n",
      "Mean accuracy: 0.5333333333333333\n",
      "58\n",
      "Mean accuracy: 0.5\n",
      "59\n",
      "Mean accuracy: 0.4666666666666666\n",
      "60\n",
      "Mean accuracy: 0.5833333333333334\n",
      "61\n",
      "Mean accuracy: 0.4666666666666666\n",
      "62\n",
      "Mean accuracy: 0.5833333333333334\n",
      "63\n",
      "Mean accuracy: 0.4333333333333333\n",
      "64\n",
      "Mean accuracy: 0.4999999999999999\n",
      "65\n",
      "Mean accuracy: 0.5666666666666667\n",
      "66\n",
      "Mean accuracy: 0.5666666666666667\n",
      "67\n",
      "Mean accuracy: 0.55\n",
      "68\n",
      "Mean accuracy: 0.5166666666666666\n",
      "69\n",
      "Mean accuracy: 0.5666666666666667\n",
      "70\n",
      "Mean accuracy: 0.4833333333333333\n",
      "71\n",
      "Mean accuracy: 0.55\n",
      "72\n",
      "Mean accuracy: 0.4833333333333332\n",
      "73\n",
      "Mean accuracy: 0.5\n",
      "74\n",
      "Mean accuracy: 0.4666666666666667\n",
      "75\n",
      "Mean accuracy: 0.4999999999999999\n",
      "76\n",
      "Mean accuracy: 0.6\n",
      "77\n",
      "Mean accuracy: 0.4666666666666667\n",
      "78\n",
      "Mean accuracy: 0.5\n",
      "79\n",
      "Mean accuracy: 0.5666666666666667\n",
      "80\n",
      "Mean accuracy: 0.6333333333333333\n",
      "81\n",
      "Mean accuracy: 0.5166666666666666\n",
      "82\n",
      "Mean accuracy: 0.5333333333333333\n",
      "83\n",
      "Mean accuracy: 0.2833333333333333\n",
      "84\n",
      "Mean accuracy: 0.4\n",
      "85\n",
      "Mean accuracy: 0.4999999999999999\n",
      "86\n",
      "Mean accuracy: 0.4\n",
      "87\n",
      "Mean accuracy: 0.4333333333333333\n",
      "88\n",
      "Mean accuracy: 0.55\n",
      "89\n",
      "Mean accuracy: 0.6166666666666666\n",
      "90\n",
      "Mean accuracy: 0.4\n",
      "91\n",
      "Mean accuracy: 0.4833333333333333\n",
      "92\n",
      "Mean accuracy: 0.5166666666666667\n",
      "93\n",
      "Mean accuracy: 0.6833333333333333\n",
      "94\n",
      "Mean accuracy: 0.4999999999999999\n",
      "95\n",
      "Mean accuracy: 0.5166666666666666\n",
      "96\n",
      "Mean accuracy: 0.4333333333333333\n",
      "97\n",
      "Mean accuracy: 0.41666666666666663\n",
      "98\n",
      "Mean accuracy: 0.5333333333333334\n",
      "99\n",
      "Mean accuracy: 0.45\n",
      "100\n",
      "Mean accuracy: 0.55\n"
     ]
    }
   ],
   "source": [
    "np.random.seed (1)\n",
    "dframe1 = pd.DataFrame(columns=['Accuracy', 'Std_Dev'])\n",
    "\n",
    "for i in range(1, 101):\n",
    "    print(i)\n",
    "    df2 = df1.groupby('APPRDX').apply(lambda x: x.sample(30))\n",
    "    X = df2.drop('APPRDX', axis = 1)\n",
    "    y = df2['APPRDX']\n",
    "    random_forest_model = RandomForestClassifier(n_estimators = 100, max_depth = 5, criterion = 'gini')\n",
    "    scores = cross_val_score(random_forest_model, X, y, cv = 10, n_jobs = -1)\n",
    "    mean_score = scores.mean()\n",
    "    print(f'Mean accuracy: {mean_score}')\n",
    "    new_row = {'Accuracy': mean_score, 'Std_Dev': std(scores)}\n",
    "    dframe1 = pd.concat([dframe1, pd.DataFrame(new_row, index=[0])], ignore_index=True)\n"
   ]
  },
  {
   "cell_type": "code",
   "execution_count": 6,
   "metadata": {
    "ExecuteTime": {
     "end_time": "2023-02-22T04:38:56.102667Z",
     "start_time": "2023-02-22T04:38:56.084603Z"
    }
   },
   "outputs": [
    {
     "name": "stdout",
     "output_type": "stream",
     "text": [
      "0.49599999999999966\n"
     ]
    }
   ],
   "source": [
    "print(mean(dframe1['Accuracy']))\n",
    "dframe1.to_csv (\"TrailMakingB_AllCpG_Male_100RF.csv\", index = False)"
   ]
  },
  {
   "cell_type": "code",
   "execution_count": null,
   "metadata": {},
   "outputs": [],
   "source": []
  },
  {
   "cell_type": "markdown",
   "metadata": {
    "colab_type": "text",
    "id": "YvxIPVyMhmKp"
   },
   "source": [
    "## RanFor 1000 times. Samples = 50"
   ]
  },
  {
   "cell_type": "code",
   "execution_count": 7,
   "metadata": {
    "ExecuteTime": {
     "end_time": "2023-02-22T05:26:48.777860Z",
     "start_time": "2023-02-22T05:26:48.677547Z"
    }
   },
   "outputs": [],
   "source": [
    "df2 = df1.drop (['APPRDX'], axis=1)"
   ]
  },
  {
   "cell_type": "code",
   "execution_count": null,
   "metadata": {
    "ExecuteTime": {
     "start_time": "2023-02-22T05:26:48.898Z"
    },
    "scrolled": true
   },
   "outputs": [
    {
     "name": "stdout",
     "output_type": "stream",
     "text": [
      "1\n",
      "Mean accuracy: 0.55\n",
      "2\n",
      "Mean accuracy: 0.3833333333333333\n",
      "3\n",
      "Mean accuracy: 0.4833333333333333\n",
      "4\n",
      "Mean accuracy: 0.4\n",
      "5\n",
      "Mean accuracy: 0.35\n",
      "6\n",
      "Mean accuracy: 0.4833333333333333\n",
      "7\n",
      "Mean accuracy: 0.5166666666666667\n",
      "8\n",
      "Mean accuracy: 0.5166666666666666\n",
      "9\n",
      "Mean accuracy: 0.5\n",
      "10\n",
      "Mean accuracy: 0.45\n",
      "11\n",
      "Mean accuracy: 0.45\n",
      "12\n",
      "Mean accuracy: 0.4166666666666667\n",
      "13\n",
      "Mean accuracy: 0.45\n",
      "14\n"
     ]
    }
   ],
   "source": [
    "np.random.seed (1)\n",
    "dframe1 = pd.DataFrame(columns=['Accuracy', 'Std_Dev'])\n",
    "for i in range (1,101) :\n",
    "        print(i)\n",
    "        df3 = df2.sample(50, axis=1)\n",
    "        df3 = df3.reindex(['APPRDX', *df3.columns], axis=1).assign(APPRDX=df1['APPRDX'])\n",
    "        dataset = df3.groupby('APPRDX').apply(lambda x: x.sample(30))\n",
    "        X = dataset.iloc[:, 1:].values\n",
    "        y = dataset.iloc[:, 0].values\n",
    "        random_forest_model = RandomForestClassifier(n_estimators = 100, max_depth = 5, criterion = 'gini')\n",
    "        scores = cross_val_score(random_forest_model, X, y, cv = 10, n_jobs = -1)\n",
    "        mean_score = scores.mean()\n",
    "        print(f'Mean accuracy: {mean_score}')\n",
    "        new_row = {'Accuracy': mean_score, 'Std_Dev': std(scores)}\n",
    "        dframe1 = pd.concat([dframe1, pd.DataFrame(new_row, index=[0])], ignore_index=True)\n"
   ]
  },
  {
   "cell_type": "code",
   "execution_count": null,
   "metadata": {
    "ExecuteTime": {
     "start_time": "2023-02-22T05:26:51.643Z"
    }
   },
   "outputs": [],
   "source": [
    "print(mean(dframe1['Accuracy']))\n",
    "dframe1.to_csv (\"TrailMakingB_Rand50CpG_Male_100RF.csv\", index = False)"
   ]
  },
  {
   "cell_type": "code",
   "execution_count": null,
   "metadata": {},
   "outputs": [],
   "source": []
  },
  {
   "cell_type": "markdown",
   "metadata": {
    "colab_type": "text",
    "id": "YvxIPVyMhmKp"
   },
   "source": [
    "## RanFor 100 times. Samples = 97"
   ]
  },
  {
   "cell_type": "code",
   "execution_count": null,
   "metadata": {
    "ExecuteTime": {
     "start_time": "2023-02-22T05:26:52.691Z"
    }
   },
   "outputs": [],
   "source": [
    "np.random.seed (1)\n",
    "dframe1 = pd.DataFrame(columns=['Accuracy', 'Std_Dev'])\n",
    "for i in range (1,101) :\n",
    "        print(i)\n",
    "        df3 = df2.sample(97, axis=1)\n",
    "        df3 = df3.reindex(['APPRDX', *df3.columns], axis=1).assign(APPRDX=df1['APPRDX'])\n",
    "        dataset = df3.groupby('APPRDX').apply(lambda x: x.sample(30))\n",
    "        X = dataset.iloc[:, 1:].values\n",
    "        y = dataset.iloc[:, 0].values\n",
    "        random_forest_model = RandomForestClassifier(n_estimators = 100, max_depth = 5, criterion = 'gini')\n",
    "        scores = cross_val_score(random_forest_model, X, y, cv = 10, n_jobs = -1)\n",
    "        mean_score = scores.mean()\n",
    "        print(f'Mean accuracy: {mean_score}')\n",
    "        new_row = {'Accuracy': mean_score, 'Std_Dev': std(scores)}\n",
    "        dframe1 = pd.concat([dframe1, pd.DataFrame(new_row, index=[0])], ignore_index=True)\n"
   ]
  },
  {
   "cell_type": "code",
   "execution_count": null,
   "metadata": {
    "ExecuteTime": {
     "start_time": "2023-02-22T05:26:53.802Z"
    }
   },
   "outputs": [],
   "source": [
    "print(mean(dframe1['Accuracy']))\n",
    "dframe1.to_csv (\"TrailMakingB_Rand97CpG_Male_100RF.csv\", index = False)"
   ]
  },
  {
   "cell_type": "markdown",
   "metadata": {},
   "source": [
    "## RanFor Top 50 Boruta 100 times. Samples = 50"
   ]
  },
  {
   "cell_type": "code",
   "execution_count": null,
   "metadata": {
    "ExecuteTime": {
     "start_time": "2023-02-22T05:26:54.538Z"
    },
    "scrolled": true
   },
   "outputs": [],
   "source": [
    "df = pd.read_csv('TrlMakB_Boruta_Top50_Data_Male.csv')\n",
    "print(df.shape)\n",
    "df.head(2)"
   ]
  },
  {
   "cell_type": "code",
   "execution_count": null,
   "metadata": {
    "ExecuteTime": {
     "start_time": "2023-02-22T05:26:54.714Z"
    }
   },
   "outputs": [],
   "source": [
    "df1 = df.drop(['PATNO'], axis=1)\n",
    "df1.head(2)"
   ]
  },
  {
   "cell_type": "code",
   "execution_count": null,
   "metadata": {
    "ExecuteTime": {
     "start_time": "2023-02-22T05:26:56.538Z"
    }
   },
   "outputs": [],
   "source": [
    "np.random.seed (1)\n",
    "dframe1 = pd.DataFrame(columns=['Accuracy', 'Std_Dev'])\n",
    "\n",
    "for i in range(1, 101):\n",
    "    print(i)\n",
    "    df2 = df1.groupby('APPRDX').apply(lambda x: x.sample(30))\n",
    "    X = df2.drop('APPRDX', axis = 1)\n",
    "    y = df2['APPRDX']\n",
    "    random_forest_model = RandomForestClassifier(n_estimators = 100, max_depth = 5, criterion = 'gini')\n",
    "    scores = cross_val_score(random_forest_model, X, y, cv = 10, n_jobs = -1)\n",
    "    mean_score = scores.mean()\n",
    "    print(f'Mean accuracy: {mean_score}')\n",
    "    new_row = {'Accuracy': mean_score, 'Std_Dev': std(scores)}\n",
    "    dframe1 = pd.concat([dframe1, pd.DataFrame(new_row, index=[0])], ignore_index=True)\n"
   ]
  },
  {
   "cell_type": "code",
   "execution_count": null,
   "metadata": {
    "ExecuteTime": {
     "start_time": "2023-02-22T05:26:56.789Z"
    }
   },
   "outputs": [],
   "source": [
    "print(mean(dframe1['Accuracy']))\n",
    "dframe1.to_csv (\"TrailMakingB_Boruta50CpG_Male_100RF.csv\", index = False)"
   ]
  },
  {
   "cell_type": "markdown",
   "metadata": {},
   "source": [
    "## RanFor Top 50 NMI 100 times. Samples = 50"
   ]
  },
  {
   "cell_type": "code",
   "execution_count": null,
   "metadata": {
    "ExecuteTime": {
     "start_time": "2023-02-22T05:26:58.498Z"
    }
   },
   "outputs": [],
   "source": [
    "df = pd.read_csv('TrlMakB_NMI_Top50_Male_Data.csv')\n",
    "print(df.shape)\n",
    "df.head(2)"
   ]
  },
  {
   "cell_type": "code",
   "execution_count": null,
   "metadata": {
    "ExecuteTime": {
     "start_time": "2023-02-22T05:26:58.803Z"
    }
   },
   "outputs": [],
   "source": [
    "np.random.seed (1)\n",
    "dframe1 = pd.DataFrame(columns=['Accuracy', 'Std_Dev'])\n",
    "\n",
    "for i in range(1, 101):\n",
    "    print(i)\n",
    "    df2 = df.groupby('APPRDX').apply(lambda x: x.sample(30))\n",
    "    X = df2.drop('APPRDX', axis = 1)\n",
    "    y = df2['APPRDX']\n",
    "    random_forest_model = RandomForestClassifier(n_estimators = 100, max_depth = 5, criterion = 'gini')\n",
    "    scores = cross_val_score(random_forest_model, X, y, cv = 10, n_jobs = -1)\n",
    "    mean_score = scores.mean()\n",
    "    print(f'Mean accuracy: {mean_score}')\n",
    "    new_row = {'Accuracy': mean_score, 'Std_Dev': std(scores)}\n",
    "    dframe1 = pd.concat([dframe1, pd.DataFrame(new_row, index=[0])], ignore_index=True)\n"
   ]
  },
  {
   "cell_type": "code",
   "execution_count": null,
   "metadata": {
    "ExecuteTime": {
     "start_time": "2023-02-22T05:26:59.076Z"
    }
   },
   "outputs": [],
   "source": [
    "print(mean(dframe1['Accuracy']))\n",
    "dframe1.to_csv (\"TrailMakingB_NMI50CpG_Male_100RF.csv\", index = False)"
   ]
  },
  {
   "cell_type": "markdown",
   "metadata": {},
   "source": [
    "## RanFor Top 50 Boruta + NMI 100 times. Samples = 97"
   ]
  },
  {
   "cell_type": "code",
   "execution_count": null,
   "metadata": {
    "ExecuteTime": {
     "start_time": "2023-02-22T05:27:00.523Z"
    },
    "scrolled": true
   },
   "outputs": [],
   "source": [
    "df = pd.read_csv('TrlMakB_Top50sMerge_Data_Male.csv')\n",
    "print(df.shape)\n",
    "df.head(2)"
   ]
  },
  {
   "cell_type": "code",
   "execution_count": null,
   "metadata": {
    "ExecuteTime": {
     "start_time": "2023-02-22T05:27:00.746Z"
    }
   },
   "outputs": [],
   "source": [
    "df1 = df.drop(['PATNO'], axis=1)\n",
    "df1.head(2)"
   ]
  },
  {
   "cell_type": "code",
   "execution_count": null,
   "metadata": {
    "ExecuteTime": {
     "start_time": "2023-02-22T05:27:01.003Z"
    }
   },
   "outputs": [],
   "source": [
    "np.random.seed (1)\n",
    "dframe1 = pd.DataFrame(columns=['Accuracy', 'Std_Dev'])\n",
    "\n",
    "for i in range(1, 101):\n",
    "    print(i)\n",
    "    df2 = df1.groupby('APPRDX').apply(lambda x: x.sample(30))\n",
    "    X = df2.drop('APPRDX', axis = 1)\n",
    "    y = df2['APPRDX']\n",
    "    random_forest_model = RandomForestClassifier(n_estimators = 100, max_depth = 5, criterion = 'gini')\n",
    "    scores = cross_val_score(random_forest_model, X, y, cv = 10, n_jobs = -1)\n",
    "    mean_score = scores.mean()\n",
    "    print(f'Mean accuracy: {mean_score}')\n",
    "    new_row = {'Accuracy': mean_score, 'Std_Dev': std(scores)}\n",
    "    dframe1 = pd.concat([dframe1, pd.DataFrame(new_row, index=[0])], ignore_index=True)\n"
   ]
  },
  {
   "cell_type": "code",
   "execution_count": null,
   "metadata": {
    "ExecuteTime": {
     "start_time": "2023-02-22T05:27:01.882Z"
    }
   },
   "outputs": [],
   "source": [
    "print(mean(dframe1['Accuracy']))\n",
    "dframe1.to_csv (\"TrailMakingB_Top50sCpG97_Male_100RF.csv\", index = False)"
   ]
  },
  {
   "cell_type": "code",
   "execution_count": null,
   "metadata": {},
   "outputs": [],
   "source": []
  }
 ],
 "metadata": {
  "colab": {
   "authorship_tag": "ABX9TyPA7K2PAkEFgaKFIvslUMEc",
   "collapsed_sections": [],
   "machine_shape": "hm",
   "name": "random_forest_classification.ipynb",
   "provenance": [],
   "toc_visible": true
  },
  "kernelspec": {
   "display_name": "Python 3 (ipykernel)",
   "language": "python",
   "name": "python3"
  },
  "language_info": {
   "codemirror_mode": {
    "name": "ipython",
    "version": 3
   },
   "file_extension": ".py",
   "mimetype": "text/x-python",
   "name": "python",
   "nbconvert_exporter": "python",
   "pygments_lexer": "ipython3",
   "version": "3.9.16"
  },
  "toc": {
   "base_numbering": 1,
   "nav_menu": {},
   "number_sections": true,
   "sideBar": true,
   "skip_h1_title": false,
   "title_cell": "Table of Contents",
   "title_sidebar": "Contents",
   "toc_cell": false,
   "toc_position": {},
   "toc_section_display": true,
   "toc_window_display": false
  },
  "varInspector": {
   "cols": {
    "lenName": 16,
    "lenType": 16,
    "lenVar": 40
   },
   "kernels_config": {
    "python": {
     "delete_cmd_postfix": "",
     "delete_cmd_prefix": "del ",
     "library": "var_list.py",
     "varRefreshCmd": "print(var_dic_list())"
    },
    "r": {
     "delete_cmd_postfix": ") ",
     "delete_cmd_prefix": "rm(",
     "library": "var_list.r",
     "varRefreshCmd": "cat(var_dic_list()) "
    }
   },
   "types_to_exclude": [
    "module",
    "function",
    "builtin_function_or_method",
    "instance",
    "_Feature"
   ],
   "window_display": false
  }
 },
 "nbformat": 4,
 "nbformat_minor": 1
}
