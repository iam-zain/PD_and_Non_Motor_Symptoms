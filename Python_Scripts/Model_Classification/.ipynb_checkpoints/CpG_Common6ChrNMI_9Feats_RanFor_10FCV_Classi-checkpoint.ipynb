{
 "cells": [
  {
   "cell_type": "markdown",
   "metadata": {
    "colab_type": "text",
    "id": "0MRC0e0KhQ0S"
   },
   "source": [
    "# Random Forest Classification"
   ]
  },
  {
   "cell_type": "markdown",
   "metadata": {
    "colab_type": "text",
    "id": "LWd1UlMnhT2s"
   },
   "source": [
    "## Importing the libraries"
   ]
  },
  {
   "cell_type": "code",
   "execution_count": 1,
   "metadata": {
    "ExecuteTime": {
     "end_time": "2022-12-08T06:39:41.580652Z",
     "start_time": "2022-12-08T06:39:39.675335Z"
    },
    "colab": {},
    "colab_type": "code",
    "id": "YvGPUQaHhXfL"
   },
   "outputs": [],
   "source": [
    "import random\n",
    "import numpy as np\n",
    "import pandas as pd\n",
    "import seaborn as sn\n",
    "from numpy import std\n",
    "from numpy import mean\n",
    "import matplotlib.pyplot as plt\n",
    "from sklearn.datasets import make_classification\n",
    "from sklearn.preprocessing import StandardScaler\n",
    "from sklearn.model_selection import cross_val_score\n",
    "from sklearn.ensemble import RandomForestClassifier\n",
    "from sklearn.model_selection import train_test_split\n",
    "from sklearn.model_selection import RepeatedStratifiedKFold\n",
    "from sklearn.metrics import confusion_matrix, accuracy_score\n",
    "%matplotlib inline"
   ]
  },
  {
   "cell_type": "code",
   "execution_count": 2,
   "metadata": {
    "ExecuteTime": {
     "end_time": "2022-12-08T06:39:41.658741Z",
     "start_time": "2022-12-08T06:39:41.580652Z"
    },
    "scrolled": true
   },
   "outputs": [
    {
     "name": "stdout",
     "output_type": "stream",
     "text": [
      "Z:\\PPMI_Data\\Excel_Data\\Raw_And_More\n",
      "(457, 23)\n"
     ]
    },
    {
     "data": {
      "text/html": [
       "<div>\n",
       "<style scoped>\n",
       "    .dataframe tbody tr th:only-of-type {\n",
       "        vertical-align: middle;\n",
       "    }\n",
       "\n",
       "    .dataframe tbody tr th {\n",
       "        vertical-align: top;\n",
       "    }\n",
       "\n",
       "    .dataframe thead th {\n",
       "        text-align: right;\n",
       "    }\n",
       "</style>\n",
       "<table border=\"1\" class=\"dataframe\">\n",
       "  <thead>\n",
       "    <tr style=\"text-align: right;\">\n",
       "      <th></th>\n",
       "      <th>Sentrix</th>\n",
       "      <th>PATNO</th>\n",
       "      <th>Gender</th>\n",
       "      <th>APPRDX</th>\n",
       "      <th>HYS</th>\n",
       "      <th>Age</th>\n",
       "      <th>AgeCate</th>\n",
       "      <th>MDS_Depress</th>\n",
       "      <th>MDSP_Constipate</th>\n",
       "      <th>MDSP_Fatigue</th>\n",
       "      <th>...</th>\n",
       "      <th>Montreal_Cognitive</th>\n",
       "      <th>SCOPA_Sex</th>\n",
       "      <th>Symbol_Digit</th>\n",
       "      <th>UPSIT_3</th>\n",
       "      <th>cg05789720</th>\n",
       "      <th>cg00052836</th>\n",
       "      <th>cg12526471</th>\n",
       "      <th>cg21049840</th>\n",
       "      <th>cg00377727</th>\n",
       "      <th>cg18473117</th>\n",
       "    </tr>\n",
       "  </thead>\n",
       "  <tbody>\n",
       "    <tr>\n",
       "      <th>0</th>\n",
       "      <td>200973410159_R03C01</td>\n",
       "      <td>3000</td>\n",
       "      <td>2</td>\n",
       "      <td>2</td>\n",
       "      <td>0</td>\n",
       "      <td>69.1</td>\n",
       "      <td>4</td>\n",
       "      <td>1</td>\n",
       "      <td>0</td>\n",
       "      <td>0</td>\n",
       "      <td>...</td>\n",
       "      <td>0</td>\n",
       "      <td>0</td>\n",
       "      <td>0</td>\n",
       "      <td>0</td>\n",
       "      <td>0.9225</td>\n",
       "      <td>0.9312</td>\n",
       "      <td>0.5106</td>\n",
       "      <td>0.4569</td>\n",
       "      <td>0.6784</td>\n",
       "      <td>0.9672</td>\n",
       "    </tr>\n",
       "    <tr>\n",
       "      <th>1</th>\n",
       "      <td>200991620021_R01C01</td>\n",
       "      <td>3001</td>\n",
       "      <td>1</td>\n",
       "      <td>1</td>\n",
       "      <td>2</td>\n",
       "      <td>65.1</td>\n",
       "      <td>4</td>\n",
       "      <td>0</td>\n",
       "      <td>0</td>\n",
       "      <td>1</td>\n",
       "      <td>...</td>\n",
       "      <td>0</td>\n",
       "      <td>2</td>\n",
       "      <td>1</td>\n",
       "      <td>1</td>\n",
       "      <td>0.9109</td>\n",
       "      <td>0.8725</td>\n",
       "      <td>0.4169</td>\n",
       "      <td>0.4758</td>\n",
       "      <td>0.9233</td>\n",
       "      <td>0.9388</td>\n",
       "    </tr>\n",
       "  </tbody>\n",
       "</table>\n",
       "<p>2 rows × 23 columns</p>\n",
       "</div>"
      ],
      "text/plain": [
       "               Sentrix  PATNO  Gender  APPRDX  HYS   Age  AgeCate  \\\n",
       "0  200973410159_R03C01   3000       2       2    0  69.1        4   \n",
       "1  200991620021_R01C01   3001       1       1    2  65.1        4   \n",
       "\n",
       "   MDS_Depress  MDSP_Constipate  MDSP_Fatigue  ...  Montreal_Cognitive  \\\n",
       "0            1                0             0  ...                   0   \n",
       "1            0                0             1  ...                   0   \n",
       "\n",
       "   SCOPA_Sex  Symbol_Digit  UPSIT_3  cg05789720  cg00052836  cg12526471  \\\n",
       "0          0             0        0      0.9225      0.9312      0.5106   \n",
       "1          2             1        1      0.9109      0.8725      0.4169   \n",
       "\n",
       "   cg21049840  cg00377727  cg18473117  \n",
       "0      0.4569      0.6784      0.9672  \n",
       "1      0.4758      0.9233      0.9388  \n",
       "\n",
       "[2 rows x 23 columns]"
      ]
     },
     "execution_count": 2,
     "metadata": {},
     "output_type": "execute_result"
    }
   ],
   "source": [
    "%cd Z:\\PPMI_Data\\Excel_Data\\Raw_And_More\n",
    "df = pd.read_csv('Common6CpG_ChrNMI_9Feats_withComm10FeatData_withMethyl.csv')\n",
    "print(df.shape)\n",
    "df.head(2)"
   ]
  },
  {
   "cell_type": "code",
   "execution_count": 3,
   "metadata": {
    "ExecuteTime": {
     "end_time": "2022-12-08T06:39:41.680949Z",
     "start_time": "2022-12-08T06:39:41.658741Z"
    }
   },
   "outputs": [
    {
     "data": {
      "text/plain": [
       "Index(['Sentrix', 'PATNO', 'Gender', 'APPRDX', 'HYS', 'Age', 'AgeCate',\n",
       "       'MDS_Depress', 'MDSP_Constipate', 'MDSP_Fatigue', 'MDSP_LightHead',\n",
       "       'MDSP_SleepDay', 'MDSP_Pain', 'Montreal_Cognitive', 'SCOPA_Sex',\n",
       "       'Symbol_Digit', 'UPSIT_3', 'cg05789720', 'cg00052836', 'cg12526471',\n",
       "       'cg21049840', 'cg00377727', 'cg18473117'],\n",
       "      dtype='object')"
      ]
     },
     "execution_count": 3,
     "metadata": {},
     "output_type": "execute_result"
    }
   ],
   "source": [
    "df.columns"
   ]
  },
  {
   "cell_type": "code",
   "execution_count": 4,
   "metadata": {
    "ExecuteTime": {
     "end_time": "2022-12-08T06:39:41.759043Z",
     "start_time": "2022-12-08T06:39:41.680949Z"
    },
    "scrolled": false
   },
   "outputs": [
    {
     "data": {
      "text/html": [
       "<div>\n",
       "<style scoped>\n",
       "    .dataframe tbody tr th:only-of-type {\n",
       "        vertical-align: middle;\n",
       "    }\n",
       "\n",
       "    .dataframe tbody tr th {\n",
       "        vertical-align: top;\n",
       "    }\n",
       "\n",
       "    .dataframe thead th {\n",
       "        text-align: right;\n",
       "    }\n",
       "</style>\n",
       "<table border=\"1\" class=\"dataframe\">\n",
       "  <thead>\n",
       "    <tr style=\"text-align: right;\">\n",
       "      <th></th>\n",
       "      <th>APPRDX</th>\n",
       "      <th>cg05789720</th>\n",
       "      <th>cg00052836</th>\n",
       "      <th>cg12526471</th>\n",
       "      <th>cg21049840</th>\n",
       "      <th>cg00377727</th>\n",
       "      <th>cg18473117</th>\n",
       "    </tr>\n",
       "  </thead>\n",
       "  <tbody>\n",
       "    <tr>\n",
       "      <th>0</th>\n",
       "      <td>2</td>\n",
       "      <td>0.9225</td>\n",
       "      <td>0.9312</td>\n",
       "      <td>0.5106</td>\n",
       "      <td>0.4569</td>\n",
       "      <td>0.6784</td>\n",
       "      <td>0.9672</td>\n",
       "    </tr>\n",
       "    <tr>\n",
       "      <th>1</th>\n",
       "      <td>1</td>\n",
       "      <td>0.9109</td>\n",
       "      <td>0.8725</td>\n",
       "      <td>0.4169</td>\n",
       "      <td>0.4758</td>\n",
       "      <td>0.9233</td>\n",
       "      <td>0.9388</td>\n",
       "    </tr>\n",
       "  </tbody>\n",
       "</table>\n",
       "</div>"
      ],
      "text/plain": [
       "   APPRDX  cg05789720  cg00052836  cg12526471  cg21049840  cg00377727  \\\n",
       "0       2      0.9225      0.9312      0.5106      0.4569      0.6784   \n",
       "1       1      0.9109      0.8725      0.4169      0.4758      0.9233   \n",
       "\n",
       "   cg18473117  \n",
       "0      0.9672  \n",
       "1      0.9388  "
      ]
     },
     "execution_count": 4,
     "metadata": {},
     "output_type": "execute_result"
    }
   ],
   "source": [
    "df1 = df.drop(['PATNO', 'Sentrix','Gender','HYS', 'Age', 'AgeCate','MDS_Depress', 'MDSP_Constipate', \n",
    "               'MDSP_Fatigue','MDSP_LightHead', 'MDSP_SleepDay', 'MDSP_Pain',\n",
    "       'Montreal_Cognitive', 'SCOPA_Sex', 'Symbol_Digit', 'UPSIT_3'], axis=1)\n",
    "df1.head(2)"
   ]
  },
  {
   "cell_type": "markdown",
   "metadata": {
    "colab_type": "text",
    "id": "YvxIPVyMhmKp"
   },
   "source": [
    "## RanFor 1000 times, CpG only "
   ]
  },
  {
   "cell_type": "code",
   "execution_count": null,
   "metadata": {
    "ExecuteTime": {
     "start_time": "2022-12-08T06:39:39.710Z"
    }
   },
   "outputs": [
    {
     "name": "stdout",
     "output_type": "stream",
     "text": [
      "1\n",
      "2\n",
      "3\n",
      "4\n",
      "5\n",
      "6\n",
      "7\n",
      "8\n",
      "9\n",
      "10\n",
      "11\n",
      "12\n",
      "13\n",
      "14\n",
      "15\n",
      "16\n"
     ]
    }
   ],
   "source": [
    "np.random.seed (1)\n",
    "dframe1 = pd.DataFrame(columns=['Accuracy', 'Std_Dev'])\n",
    "for i in range (1,1001) :\n",
    "        print(i)\n",
    "        dataset = df1.groupby('APPRDX').apply(lambda x: x.sample(100))\n",
    "        X = dataset.iloc[:, 1:].values\n",
    "        y = dataset.iloc[:, 0].values\n",
    "        classifier = RandomForestClassifier(n_estimators = 100, criterion = 'entropy', random_state = 1)\n",
    "        cv = RepeatedStratifiedKFold(n_splits=10, n_repeats=1, random_state=1)\n",
    "        n_scores = cross_val_score(classifier, X, y, scoring='accuracy', cv=cv, n_jobs=-1, error_score='raise')\n",
    "        dframe1 = dframe1.append({'Accuracy': mean(n_scores), 'Std_Dev': std(n_scores)}, ignore_index=True)\n"
   ]
  },
  {
   "cell_type": "code",
   "execution_count": null,
   "metadata": {
    "ExecuteTime": {
     "start_time": "2022-12-08T06:39:39.714Z"
    },
    "scrolled": true
   },
   "outputs": [],
   "source": [
    "dframe1.head()"
   ]
  },
  {
   "cell_type": "code",
   "execution_count": null,
   "metadata": {
    "ExecuteTime": {
     "start_time": "2022-12-08T06:39:39.718Z"
    }
   },
   "outputs": [],
   "source": [
    "dframe1.to_csv (\"CpG_Common6ChrNMI_9Feats_Accuracy_1000RF.csv\")"
   ]
  },
  {
   "cell_type": "code",
   "execution_count": null,
   "metadata": {
    "ExecuteTime": {
     "start_time": "2022-12-08T06:39:39.723Z"
    }
   },
   "outputs": [],
   "source": [
    "df1 = df.drop(['PATNO', 'Sentrix','Gender','HYS', 'SCOPA_Sex', 'Age', 'AgeCate'], axis=1)\n",
    "df1.head(2)"
   ]
  },
  {
   "cell_type": "code",
   "execution_count": null,
   "metadata": {
    "ExecuteTime": {
     "start_time": "2022-12-08T06:39:39.726Z"
    }
   },
   "outputs": [],
   "source": [
    "np.random.seed (1)\n",
    "dframe1 = pd.DataFrame(columns=['Accuracy', 'Std_Dev'])\n",
    "for i in range (1,1001) :\n",
    "        print(i)\n",
    "        dataset = df1.groupby('APPRDX').apply(lambda x: x.sample(100))\n",
    "        X = dataset.iloc[:, 1:].values\n",
    "        y = dataset.iloc[:, 0].values\n",
    "        classifier = RandomForestClassifier(n_estimators = 100, criterion = 'entropy', random_state = 1)\n",
    "        cv = RepeatedStratifiedKFold(n_splits=10, n_repeats=1, random_state=1)\n",
    "        n_scores = cross_val_score(classifier, X, y, scoring='accuracy', cv=cv, n_jobs=-1, error_score='raise')\n",
    "        dframe1 = dframe1.append({'Accuracy': mean(n_scores), 'Std_Dev': std(n_scores)}, ignore_index=True)\n"
   ]
  },
  {
   "cell_type": "code",
   "execution_count": null,
   "metadata": {
    "ExecuteTime": {
     "start_time": "2022-12-08T06:39:39.730Z"
    }
   },
   "outputs": [],
   "source": [
    "dframe1.to_csv (\"CpG_Common6ChrNMI_9Feats_with9Feats_Accuracy_1000RF.csv\")"
   ]
  },
  {
   "cell_type": "code",
   "execution_count": null,
   "metadata": {
    "ExecuteTime": {
     "start_time": "2022-12-08T06:39:39.734Z"
    }
   },
   "outputs": [],
   "source": [
    "dframe1.head()"
   ]
  },
  {
   "cell_type": "code",
   "execution_count": null,
   "metadata": {},
   "outputs": [],
   "source": []
  }
 ],
 "metadata": {
  "colab": {
   "authorship_tag": "ABX9TyPA7K2PAkEFgaKFIvslUMEc",
   "collapsed_sections": [],
   "machine_shape": "hm",
   "name": "random_forest_classification.ipynb",
   "provenance": [],
   "toc_visible": true
  },
  "kernelspec": {
   "display_name": "Python 3 (ipykernel)",
   "language": "python",
   "name": "python3"
  },
  "language_info": {
   "codemirror_mode": {
    "name": "ipython",
    "version": 3
   },
   "file_extension": ".py",
   "mimetype": "text/x-python",
   "name": "python",
   "nbconvert_exporter": "python",
   "pygments_lexer": "ipython3",
   "version": "3.9.7"
  },
  "toc": {
   "base_numbering": 1,
   "nav_menu": {},
   "number_sections": true,
   "sideBar": true,
   "skip_h1_title": false,
   "title_cell": "Table of Contents",
   "title_sidebar": "Contents",
   "toc_cell": false,
   "toc_position": {},
   "toc_section_display": true,
   "toc_window_display": false
  },
  "varInspector": {
   "cols": {
    "lenName": 16,
    "lenType": 16,
    "lenVar": 40
   },
   "kernels_config": {
    "python": {
     "delete_cmd_postfix": "",
     "delete_cmd_prefix": "del ",
     "library": "var_list.py",
     "varRefreshCmd": "print(var_dic_list())"
    },
    "r": {
     "delete_cmd_postfix": ") ",
     "delete_cmd_prefix": "rm(",
     "library": "var_list.r",
     "varRefreshCmd": "cat(var_dic_list()) "
    }
   },
   "types_to_exclude": [
    "module",
    "function",
    "builtin_function_or_method",
    "instance",
    "_Feature"
   ],
   "window_display": false
  }
 },
 "nbformat": 4,
 "nbformat_minor": 1
}
