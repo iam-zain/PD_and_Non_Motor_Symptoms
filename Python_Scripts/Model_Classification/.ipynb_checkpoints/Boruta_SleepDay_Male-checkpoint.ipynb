{
 "cells": [
  {
   "cell_type": "code",
   "execution_count": 1,
   "id": "51c5704f",
   "metadata": {
    "ExecuteTime": {
     "end_time": "2023-01-12T08:52:55.584242Z",
     "start_time": "2023-01-12T08:52:54.434471Z"
    }
   },
   "outputs": [],
   "source": [
    "import numpy as np\n",
    "import pandas as pd\n",
    "from boruta import BorutaPy\n",
    "from sklearn.datasets import load_diabetes\n",
    "from sklearn.metrics import accuracy_score \n",
    "from sklearn.ensemble import RandomForestRegressor\n",
    "from sklearn.ensemble import RandomForestClassifier\n",
    "from sklearn.model_selection import train_test_split"
   ]
  },
  {
   "cell_type": "code",
   "execution_count": 3,
   "id": "5ff336b1",
   "metadata": {
    "ExecuteTime": {
     "end_time": "2023-01-12T08:53:07.963314Z",
     "start_time": "2023-01-12T08:53:05.534062Z"
    }
   },
   "outputs": [
    {
     "name": "stdout",
     "output_type": "stream",
     "text": [
      "Z:\\PPMI_Data\\Excels\\NonMotors\\Derived250\\Male\\GeneCpG\\SleepDay\n"
     ]
    },
    {
     "data": {
      "text/html": [
       "<div>\n",
       "<style scoped>\n",
       "    .dataframe tbody tr th:only-of-type {\n",
       "        vertical-align: middle;\n",
       "    }\n",
       "\n",
       "    .dataframe tbody tr th {\n",
       "        vertical-align: top;\n",
       "    }\n",
       "\n",
       "    .dataframe thead th {\n",
       "        text-align: right;\n",
       "    }\n",
       "</style>\n",
       "<table border=\"1\" class=\"dataframe\">\n",
       "  <thead>\n",
       "    <tr style=\"text-align: right;\">\n",
       "      <th></th>\n",
       "      <th>Sentrix</th>\n",
       "      <th>PATNO</th>\n",
       "      <th>HYS</th>\n",
       "      <th>APPRDX</th>\n",
       "      <th>MDSP_SleepDay</th>\n",
       "      <th>cg03441945</th>\n",
       "      <th>cg21094410</th>\n",
       "      <th>cg22926093</th>\n",
       "      <th>cg25025609</th>\n",
       "      <th>cg16704802</th>\n",
       "      <th>...</th>\n",
       "      <th>cg00877887</th>\n",
       "      <th>cg10042437</th>\n",
       "      <th>cg11708297</th>\n",
       "      <th>cg11562513</th>\n",
       "      <th>cg02337566</th>\n",
       "      <th>cg02550961</th>\n",
       "      <th>cg04001842</th>\n",
       "      <th>cg02454595</th>\n",
       "      <th>cg07821960</th>\n",
       "      <th>cg21267231</th>\n",
       "    </tr>\n",
       "  </thead>\n",
       "  <tbody>\n",
       "    <tr>\n",
       "      <th>0</th>\n",
       "      <td>200991620021_R01C01</td>\n",
       "      <td>3001</td>\n",
       "      <td>2</td>\n",
       "      <td>1</td>\n",
       "      <td>1</td>\n",
       "      <td>0.908813</td>\n",
       "      <td>0.01135</td>\n",
       "      <td>0.012197</td>\n",
       "      <td>0.022372</td>\n",
       "      <td>0.018128</td>\n",
       "      <td>...</td>\n",
       "      <td>0.057492</td>\n",
       "      <td>0.172612</td>\n",
       "      <td>0.036982</td>\n",
       "      <td>0.032567</td>\n",
       "      <td>0.175452</td>\n",
       "      <td>0.036156</td>\n",
       "      <td>0.115088</td>\n",
       "      <td>0.058504</td>\n",
       "      <td>0.128815</td>\n",
       "      <td>0.197503</td>\n",
       "    </tr>\n",
       "  </tbody>\n",
       "</table>\n",
       "<p>1 rows × 10420 columns</p>\n",
       "</div>"
      ],
      "text/plain": [
       "               Sentrix  PATNO  HYS  APPRDX  MDSP_SleepDay  cg03441945  \\\n",
       "0  200991620021_R01C01   3001    2       1              1    0.908813   \n",
       "\n",
       "   cg21094410  cg22926093  cg25025609  cg16704802  ...  cg00877887  \\\n",
       "0     0.01135    0.012197    0.022372    0.018128  ...    0.057492   \n",
       "\n",
       "   cg10042437  cg11708297  cg11562513  cg02337566  cg02550961  cg04001842  \\\n",
       "0    0.172612    0.036982    0.032567    0.175452    0.036156    0.115088   \n",
       "\n",
       "   cg02454595  cg07821960  cg21267231  \n",
       "0    0.058504    0.128815    0.197503  \n",
       "\n",
       "[1 rows x 10420 columns]"
      ]
     },
     "execution_count": 3,
     "metadata": {},
     "output_type": "execute_result"
    }
   ],
   "source": [
    "%cd Z:\\PPMI_Data\\Excels\\NonMotors\\Derived250\\Male\\GeneCpG\\SleepDay\n",
    "data = pd.read_csv('SleepDayCateg_Methylome_Male.csv')\n",
    "data.head(1)"
   ]
  },
  {
   "cell_type": "code",
   "execution_count": 5,
   "id": "ee22df7a",
   "metadata": {
    "ExecuteTime": {
     "end_time": "2023-01-12T08:53:56.074028Z",
     "start_time": "2023-01-12T08:53:55.995903Z"
    }
   },
   "outputs": [],
   "source": [
    "X = data.drop(['Sentrix','PATNO','HYS','APPRDX','MDSP_SleepDay'], axis = 1)\n",
    "y = data['APPRDX']\n",
    "X_train, X_test, y_train, y_test = train_test_split(X, y, test_size = .2, random_state = 1) "
   ]
  },
  {
   "cell_type": "code",
   "execution_count": 6,
   "id": "c1ee3e48",
   "metadata": {
    "ExecuteTime": {
     "end_time": "2023-01-12T08:53:59.121994Z",
     "start_time": "2023-01-12T08:53:58.119154Z"
    }
   },
   "outputs": [
    {
     "data": {
      "text/plain": [
       "RandomForestClassifier(random_state=1)"
      ]
     },
     "execution_count": 6,
     "metadata": {},
     "output_type": "execute_result"
    }
   ],
   "source": [
    "rf_all_features = RandomForestClassifier(random_state=1)\n",
    "rf_all_features.fit(X_train, y_train)"
   ]
  },
  {
   "cell_type": "code",
   "execution_count": 7,
   "id": "f17f8606",
   "metadata": {
    "ExecuteTime": {
     "end_time": "2023-01-12T08:53:59.777129Z",
     "start_time": "2023-01-12T08:53:59.708124Z"
    }
   },
   "outputs": [
    {
     "data": {
      "text/plain": [
       "0.6612903225806451"
      ]
     },
     "execution_count": 7,
     "metadata": {},
     "output_type": "execute_result"
    }
   ],
   "source": [
    "accuracy_score(y_test, rf_all_features.predict(X_test))"
   ]
  },
  {
   "cell_type": "code",
   "execution_count": null,
   "id": "5ba608ac",
   "metadata": {
    "ExecuteTime": {
     "start_time": "2023-01-12T08:53:57.352Z"
    }
   },
   "outputs": [
    {
     "name": "stdout",
     "output_type": "stream",
     "text": [
      "Iteration: 1 / 100\n",
      "Iteration: 2 / 100\n"
     ]
    }
   ],
   "source": [
    "rfc = RandomForestClassifier(random_state=1)\n",
    "boruta_selector = BorutaPy(rfc, n_estimators= 'auto', verbose=1, random_state=1)\n",
    "boruta_selector.fit(np.array(X_train), np.array(y_train))  "
   ]
  },
  {
   "cell_type": "code",
   "execution_count": null,
   "id": "51f874e0",
   "metadata": {
    "ExecuteTime": {
     "start_time": "2023-01-12T08:53:57.999Z"
    }
   },
   "outputs": [],
   "source": [
    "# print(\"Ranking: \",boruta_selector.ranking_)          \n",
    "print(\"No. of significant features: \", boruta_selector.n_features_)"
   ]
  },
  {
   "cell_type": "code",
   "execution_count": null,
   "id": "61cadc89",
   "metadata": {
    "ExecuteTime": {
     "start_time": "2023-01-12T08:53:58.582Z"
    }
   },
   "outputs": [],
   "source": [
    "selected_rf_features = pd.DataFrame({'CpG':list(X_train.columns),\n",
    "                                       'Ranking':boruta_selector.ranking_})\n",
    "selected_rf_features = selected_rf_features.sort_values(by='Ranking')"
   ]
  },
  {
   "cell_type": "code",
   "execution_count": null,
   "id": "6ae888ab",
   "metadata": {
    "ExecuteTime": {
     "start_time": "2023-01-12T08:54:00.334Z"
    },
    "scrolled": true
   },
   "outputs": [],
   "source": [
    "Top50 = selected_rf_features.iloc[:50, :]\n",
    "Top50.head(3)"
   ]
  },
  {
   "cell_type": "code",
   "execution_count": 10,
   "id": "9605e163",
   "metadata": {
    "ExecuteTime": {
     "end_time": "2022-12-26T12:46:22.496567Z",
     "start_time": "2022-12-26T12:46:22.054439Z"
    }
   },
   "outputs": [],
   "source": [
    "Top50.to_csv ('SleepDay_BorutaMale_Top50.csv', index = False)\n",
    "selected_rf_features.to_csv ('SleepDay_BorutaMale_All.csv', index = False)"
   ]
  },
  {
   "cell_type": "markdown",
   "id": "3268cc49",
   "metadata": {
    "ExecuteTime": {
     "end_time": "2022-10-25T10:29:24.834703Z",
     "start_time": "2022-10-25T10:29:24.602914Z"
    }
   },
   "source": [
    "#Identify a string in dataframe\n",
    "substring = 'cg15328505'\n",
    "selected_rf_features[selected_rf_features.apply(lambda row: row.astype(str).str.contains(substring, case=False).any(), axis=1)]\n"
   ]
  }
 ],
 "metadata": {
  "kernelspec": {
   "display_name": "Python 3 (ipykernel)",
   "language": "python",
   "name": "python3"
  },
  "language_info": {
   "codemirror_mode": {
    "name": "ipython",
    "version": 3
   },
   "file_extension": ".py",
   "mimetype": "text/x-python",
   "name": "python",
   "nbconvert_exporter": "python",
   "pygments_lexer": "ipython3",
   "version": "3.9.7"
  },
  "toc": {
   "base_numbering": 1,
   "nav_menu": {},
   "number_sections": true,
   "sideBar": true,
   "skip_h1_title": false,
   "title_cell": "Table of Contents",
   "title_sidebar": "Contents",
   "toc_cell": false,
   "toc_position": {},
   "toc_section_display": true,
   "toc_window_display": false
  },
  "varInspector": {
   "cols": {
    "lenName": 16,
    "lenType": 16,
    "lenVar": 40
   },
   "kernels_config": {
    "python": {
     "delete_cmd_postfix": "",
     "delete_cmd_prefix": "del ",
     "library": "var_list.py",
     "varRefreshCmd": "print(var_dic_list())"
    },
    "r": {
     "delete_cmd_postfix": ") ",
     "delete_cmd_prefix": "rm(",
     "library": "var_list.r",
     "varRefreshCmd": "cat(var_dic_list()) "
    }
   },
   "types_to_exclude": [
    "module",
    "function",
    "builtin_function_or_method",
    "instance",
    "_Feature"
   ],
   "window_display": false
  }
 },
 "nbformat": 4,
 "nbformat_minor": 5
}
