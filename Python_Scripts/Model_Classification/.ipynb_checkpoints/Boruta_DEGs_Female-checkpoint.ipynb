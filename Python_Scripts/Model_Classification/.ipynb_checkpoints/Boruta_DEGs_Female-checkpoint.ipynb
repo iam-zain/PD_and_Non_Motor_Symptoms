{
 "cells": [
  {
   "cell_type": "code",
   "execution_count": 1,
   "id": "51c5704f",
   "metadata": {
    "ExecuteTime": {
     "end_time": "2023-11-15T10:24:01.837254Z",
     "start_time": "2023-11-15T10:24:00.228253Z"
    }
   },
   "outputs": [],
   "source": [
    "import numpy as np\n",
    "import pandas as pd\n",
    "from boruta import BorutaPy\n",
    "from sklearn.datasets import load_diabetes\n",
    "from sklearn.metrics import accuracy_score \n",
    "from sklearn.ensemble import RandomForestRegressor\n",
    "from sklearn.ensemble import RandomForestClassifier\n",
    "from sklearn.model_selection import train_test_split"
   ]
  },
  {
   "cell_type": "code",
   "execution_count": null,
   "id": "5ff336b1",
   "metadata": {
    "ExecuteTime": {
     "start_time": "2023-11-15T10:36:15.548Z"
    }
   },
   "outputs": [
    {
     "name": "stdout",
     "output_type": "stream",
     "text": [
      "S:\\PPMI_RNA\\Processed\\Female\n"
     ]
    }
   ],
   "source": [
    "%cd S:\\PPMI_RNA\\Processed\\Female\n",
    "data = pd.read_csv('All_Counts_PatAndHealthy_Disease_Female.csv')\n",
    "data['DIAGNOSIS'] = data['DIAGNOSIS'].replace({'PD': 1, 'Control': 0})\n",
    "data.head(1)"
   ]
  },
  {
   "cell_type": "code",
   "execution_count": null,
   "id": "ee22df7a",
   "metadata": {
    "ExecuteTime": {
     "start_time": "2023-11-15T10:36:17.580Z"
    }
   },
   "outputs": [],
   "source": [
    "X = data.drop(['HudAlphaID','PATNO'], axis = 1)\n",
    "y = data['DIAGNOSIS']\n",
    "X_train, X_test, y_train, y_test = train_test_split(X, y, test_size = .2, random_state = 1) \n",
    "print(X.head(2))"
   ]
  },
  {
   "cell_type": "code",
   "execution_count": null,
   "id": "c1ee3e48",
   "metadata": {
    "ExecuteTime": {
     "start_time": "2023-11-15T10:36:18.540Z"
    }
   },
   "outputs": [],
   "source": [
    "rf_all_features = RandomForestClassifier(random_state=1)\n",
    "rf_all_features.fit(X_train, y_train)"
   ]
  },
  {
   "cell_type": "code",
   "execution_count": null,
   "id": "f17f8606",
   "metadata": {
    "ExecuteTime": {
     "start_time": "2023-11-15T10:36:18.747Z"
    }
   },
   "outputs": [],
   "source": [
    "accuracy_score(y_test, rf_all_features.predict(X_test))"
   ]
  },
  {
   "cell_type": "code",
   "execution_count": null,
   "id": "5ba608ac",
   "metadata": {
    "ExecuteTime": {
     "start_time": "2023-11-15T10:36:19.147Z"
    },
    "scrolled": true
   },
   "outputs": [],
   "source": [
    "rfc = RandomForestClassifier(random_state=1)\n",
    "boruta_selector = BorutaPy(rfc, n_estimators= 'auto', verbose=1, random_state=1)\n",
    "boruta_selector.fit(np.array(X_train), np.array(y_train))  "
   ]
  },
  {
   "cell_type": "code",
   "execution_count": null,
   "id": "51f874e0",
   "metadata": {
    "ExecuteTime": {
     "start_time": "2023-11-15T10:36:19.275Z"
    }
   },
   "outputs": [],
   "source": [
    "# print(\"Ranking: \",boruta_selector.ranking_)          \n",
    "print(\"No. of significant features: \", boruta_selector.n_features_)"
   ]
  },
  {
   "cell_type": "code",
   "execution_count": null,
   "id": "61cadc89",
   "metadata": {
    "ExecuteTime": {
     "start_time": "2023-11-15T10:36:19.660Z"
    }
   },
   "outputs": [],
   "source": [
    "selected_rf_features = pd.DataFrame({'CpG':list(X_train.columns),\n",
    "                                       'Ranking':boruta_selector.ranking_})\n",
    "selected_rf_features = selected_rf_features.sort_values(by='Ranking')"
   ]
  },
  {
   "cell_type": "code",
   "execution_count": null,
   "id": "6ae888ab",
   "metadata": {
    "ExecuteTime": {
     "start_time": "2023-11-15T10:36:19.773Z"
    },
    "scrolled": true
   },
   "outputs": [],
   "source": [
    "Top50 = selected_rf_features.iloc[:50, :]\n",
    "Top50.head(3)"
   ]
  },
  {
   "cell_type": "markdown",
   "id": "cf2b38b0",
   "metadata": {},
   "source": [
    "### Top 50"
   ]
  },
  {
   "cell_type": "code",
   "execution_count": null,
   "id": "9605e163",
   "metadata": {
    "ExecuteTime": {
     "start_time": "2023-11-15T10:36:21.420Z"
    }
   },
   "outputs": [],
   "source": [
    "Top50.to_csv ('DEGs_Boruta_Top50_Female.csv', index = False)\n",
    "selected_rf_features.to_csv ('DEGs_Boruta_All_Female.csv', index = False)"
   ]
  },
  {
   "cell_type": "code",
   "execution_count": null,
   "id": "a5bc67f8",
   "metadata": {
    "ExecuteTime": {
     "start_time": "2023-11-15T10:36:21.756Z"
    }
   },
   "outputs": [],
   "source": [
    "# create a list of column names to subset from data\n",
    "col_names = Top50.iloc[:, 0].tolist()\n",
    "\n",
    "# subset df based on the column names\n",
    "df_subset = data.loc[:, data.columns.isin(col_names)]\n",
    "df_subset['DIAGNOSIS'] = data['DIAGNOSIS']\n",
    "df_subset.to_csv ('DEGs_Boruta_Top50_Data_Female.csv', index = False)\n",
    "df_subset.head(2)"
   ]
  },
  {
   "cell_type": "markdown",
   "id": "7bbbe574",
   "metadata": {},
   "source": [
    "### Top 100"
   ]
  },
  {
   "cell_type": "code",
   "execution_count": null,
   "id": "0c2738f9",
   "metadata": {
    "ExecuteTime": {
     "start_time": "2023-11-15T10:36:22.547Z"
    }
   },
   "outputs": [],
   "source": [
    "Top100 = selected_rf_features.iloc[:100, :]\n",
    "Top100.to_csv ('DEGs_Boruta_Top100_Female.csv', index = False)\n",
    "Top100.head(2)"
   ]
  },
  {
   "cell_type": "code",
   "execution_count": null,
   "id": "2d3e7643",
   "metadata": {
    "ExecuteTime": {
     "start_time": "2023-11-15T10:36:22.836Z"
    }
   },
   "outputs": [],
   "source": [
    "# create a list of column names to subset from data\n",
    "col_names = Top100.iloc[:, 0].tolist()\n",
    "\n",
    "# subset df based on the column names\n",
    "df_subset = data.loc[:, data.columns.isin(col_names)]\n",
    "df_subset['DIAGNOSIS'] = data['DIAGNOSIS']\n",
    "df_subset.to_csv ('DEGs_Boruta_Top100_Data_Female.csv', index = False)\n",
    "df_subset.head(2)"
   ]
  },
  {
   "cell_type": "markdown",
   "id": "c52f6456",
   "metadata": {},
   "source": [
    "### Top 250"
   ]
  },
  {
   "cell_type": "code",
   "execution_count": null,
   "id": "6dcf9326",
   "metadata": {
    "ExecuteTime": {
     "start_time": "2023-11-15T10:36:23.396Z"
    }
   },
   "outputs": [],
   "source": [
    "Top250 = selected_rf_features.iloc[:250, :]\n",
    "Top250.to_csv ('DEGs_Boruta_Top250_Female.csv', index = False)\n",
    "Top250.head(2)"
   ]
  },
  {
   "cell_type": "code",
   "execution_count": null,
   "id": "fc62bdbd",
   "metadata": {
    "ExecuteTime": {
     "start_time": "2023-11-15T10:36:23.684Z"
    }
   },
   "outputs": [],
   "source": [
    "# create a list of column names to subset from data\n",
    "col_names = Top250.iloc[:, 0].tolist()\n",
    "\n",
    "# subset df based on the column names\n",
    "df_subset = data.loc[:, data.columns.isin(col_names)]\n",
    "df_subset['DIAGNOSIS'] = data['DIAGNOSIS']\n",
    "df_subset.to_csv ('DEGs_Boruta_Top250_Data_Female.csv', index = False)\n",
    "df_subset.head(2)"
   ]
  },
  {
   "cell_type": "markdown",
   "id": "6a98f263",
   "metadata": {},
   "source": [
    "### Top 500"
   ]
  },
  {
   "cell_type": "code",
   "execution_count": null,
   "id": "058c5609",
   "metadata": {
    "ExecuteTime": {
     "start_time": "2023-11-15T10:36:24.820Z"
    }
   },
   "outputs": [],
   "source": [
    "Top500 = selected_rf_features.iloc[:250, :]\n",
    "Top500.to_csv ('DEGs_Boruta_Top500_Female.csv', index = False)\n",
    "Top500.head(2)"
   ]
  },
  {
   "cell_type": "code",
   "execution_count": null,
   "id": "d9827d44",
   "metadata": {
    "ExecuteTime": {
     "start_time": "2023-11-15T10:36:25.204Z"
    }
   },
   "outputs": [],
   "source": [
    "# create a list of column names to subset from data\n",
    "col_names = Top500.iloc[:, 0].tolist()\n",
    "\n",
    "# subset df based on the column names\n",
    "df_subset = data.loc[:, data.columns.isin(col_names)]\n",
    "df_subset['DIAGNOSIS'] = data['DIAGNOSIS']\n",
    "df_subset.to_csv ('DEGs_Boruta_Top500_Data_Female.csv', index = False)\n",
    "df_subset.head(2)"
   ]
  },
  {
   "cell_type": "markdown",
   "id": "155ed405",
   "metadata": {},
   "source": []
  }
 ],
 "metadata": {
  "kernelspec": {
   "display_name": "Python 3 (ipykernel)",
   "language": "python",
   "name": "python3"
  },
  "language_info": {
   "codemirror_mode": {
    "name": "ipython",
    "version": 3
   },
   "file_extension": ".py",
   "mimetype": "text/x-python",
   "name": "python",
   "nbconvert_exporter": "python",
   "pygments_lexer": "ipython3",
   "version": "3.9.16"
  },
  "toc": {
   "base_numbering": 1,
   "nav_menu": {},
   "number_sections": true,
   "sideBar": true,
   "skip_h1_title": false,
   "title_cell": "Table of Contents",
   "title_sidebar": "Contents",
   "toc_cell": false,
   "toc_position": {},
   "toc_section_display": true,
   "toc_window_display": false
  },
  "varInspector": {
   "cols": {
    "lenName": 16,
    "lenType": 16,
    "lenVar": 40
   },
   "kernels_config": {
    "python": {
     "delete_cmd_postfix": "",
     "delete_cmd_prefix": "del ",
     "library": "var_list.py",
     "varRefreshCmd": "print(var_dic_list())"
    },
    "r": {
     "delete_cmd_postfix": ") ",
     "delete_cmd_prefix": "rm(",
     "library": "var_list.r",
     "varRefreshCmd": "cat(var_dic_list()) "
    }
   },
   "types_to_exclude": [
    "module",
    "function",
    "builtin_function_or_method",
    "instance",
    "_Feature"
   ],
   "window_display": false
  }
 },
 "nbformat": 4,
 "nbformat_minor": 5
}
