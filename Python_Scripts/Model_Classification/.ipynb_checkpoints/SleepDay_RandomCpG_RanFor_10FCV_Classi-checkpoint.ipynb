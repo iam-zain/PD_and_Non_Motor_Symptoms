{
 "cells": [
  {
   "cell_type": "markdown",
   "metadata": {
    "colab_type": "text",
    "id": "0MRC0e0KhQ0S"
   },
   "source": [
    "# Random Forest Classification"
   ]
  },
  {
   "cell_type": "markdown",
   "metadata": {
    "colab_type": "text",
    "id": "LWd1UlMnhT2s"
   },
   "source": [
    "## Importing the libraries"
   ]
  },
  {
   "cell_type": "code",
   "execution_count": 1,
   "metadata": {
    "ExecuteTime": {
     "end_time": "2022-12-07T11:04:50.195618Z",
     "start_time": "2022-12-07T11:04:48.491082Z"
    },
    "colab": {},
    "colab_type": "code",
    "id": "YvGPUQaHhXfL"
   },
   "outputs": [],
   "source": [
    "import random\n",
    "import numpy as np\n",
    "import pandas as pd\n",
    "import seaborn as sn\n",
    "from numpy import std\n",
    "from numpy import mean\n",
    "import matplotlib.pyplot as plt\n",
    "from sklearn.datasets import make_classification\n",
    "from sklearn.preprocessing import StandardScaler\n",
    "from sklearn.model_selection import cross_val_score\n",
    "from sklearn.ensemble import RandomForestClassifier\n",
    "from sklearn.model_selection import train_test_split\n",
    "from sklearn.model_selection import RepeatedStratifiedKFold\n",
    "from sklearn.metrics import confusion_matrix, accuracy_score\n",
    "%matplotlib inline"
   ]
  },
  {
   "cell_type": "code",
   "execution_count": 2,
   "metadata": {
    "ExecuteTime": {
     "end_time": "2022-12-07T11:04:51.352308Z",
     "start_time": "2022-12-07T11:04:50.195618Z"
    },
    "scrolled": true
   },
   "outputs": [
    {
     "name": "stdout",
     "output_type": "stream",
     "text": [
      "Z:\\PPMI_Data\\Excel_Data\\NonMotors\\Feature_CpG_Gene_Association\\UPSIT_Processed_Files\n",
      "(457, 5679)\n"
     ]
    },
    {
     "data": {
      "text/html": [
       "<div>\n",
       "<style scoped>\n",
       "    .dataframe tbody tr th:only-of-type {\n",
       "        vertical-align: middle;\n",
       "    }\n",
       "\n",
       "    .dataframe tbody tr th {\n",
       "        vertical-align: top;\n",
       "    }\n",
       "\n",
       "    .dataframe thead th {\n",
       "        text-align: right;\n",
       "    }\n",
       "</style>\n",
       "<table border=\"1\" class=\"dataframe\">\n",
       "  <thead>\n",
       "    <tr style=\"text-align: right;\">\n",
       "      <th></th>\n",
       "      <th>Sentrix</th>\n",
       "      <th>PATNO</th>\n",
       "      <th>HYS</th>\n",
       "      <th>Gender</th>\n",
       "      <th>APPRDX</th>\n",
       "      <th>UPSIT_3</th>\n",
       "      <th>UPSIT_Total</th>\n",
       "      <th>cg06067658</th>\n",
       "      <th>cg15442538</th>\n",
       "      <th>cg25928446</th>\n",
       "      <th>...</th>\n",
       "      <th>cg05766881</th>\n",
       "      <th>cg01708543</th>\n",
       "      <th>cg10933281</th>\n",
       "      <th>cg04735449</th>\n",
       "      <th>cg15856662</th>\n",
       "      <th>cg11864127</th>\n",
       "      <th>cg14420798</th>\n",
       "      <th>cg08859349</th>\n",
       "      <th>cg01481205</th>\n",
       "      <th>cg19228755</th>\n",
       "    </tr>\n",
       "  </thead>\n",
       "  <tbody>\n",
       "    <tr>\n",
       "      <th>0</th>\n",
       "      <td>200991620021_R01C01</td>\n",
       "      <td>3001</td>\n",
       "      <td>2</td>\n",
       "      <td>1</td>\n",
       "      <td>1</td>\n",
       "      <td>1</td>\n",
       "      <td>25</td>\n",
       "      <td>0.088679</td>\n",
       "      <td>0.890148</td>\n",
       "      <td>0.719238</td>\n",
       "      <td>...</td>\n",
       "      <td>0.748763</td>\n",
       "      <td>0.830052</td>\n",
       "      <td>0.861102</td>\n",
       "      <td>0.855659</td>\n",
       "      <td>0.788271</td>\n",
       "      <td>0.805084</td>\n",
       "      <td>0.729165</td>\n",
       "      <td>0.803183</td>\n",
       "      <td>0.925666</td>\n",
       "      <td>0.849608</td>\n",
       "    </tr>\n",
       "    <tr>\n",
       "      <th>1</th>\n",
       "      <td>200973410167_R04C01</td>\n",
       "      <td>3007</td>\n",
       "      <td>2</td>\n",
       "      <td>1</td>\n",
       "      <td>1</td>\n",
       "      <td>2</td>\n",
       "      <td>18</td>\n",
       "      <td>0.128668</td>\n",
       "      <td>0.916448</td>\n",
       "      <td>0.726893</td>\n",
       "      <td>...</td>\n",
       "      <td>0.886279</td>\n",
       "      <td>0.898054</td>\n",
       "      <td>0.896800</td>\n",
       "      <td>0.911732</td>\n",
       "      <td>0.863749</td>\n",
       "      <td>0.893595</td>\n",
       "      <td>0.829444</td>\n",
       "      <td>0.866504</td>\n",
       "      <td>0.917233</td>\n",
       "      <td>0.786606</td>\n",
       "    </tr>\n",
       "    <tr>\n",
       "      <th>2</th>\n",
       "      <td>200973410167_R05C01</td>\n",
       "      <td>3010</td>\n",
       "      <td>2</td>\n",
       "      <td>1</td>\n",
       "      <td>1</td>\n",
       "      <td>2</td>\n",
       "      <td>9</td>\n",
       "      <td>0.106438</td>\n",
       "      <td>0.922987</td>\n",
       "      <td>0.715904</td>\n",
       "      <td>...</td>\n",
       "      <td>0.847166</td>\n",
       "      <td>0.880457</td>\n",
       "      <td>0.909545</td>\n",
       "      <td>0.902309</td>\n",
       "      <td>0.848555</td>\n",
       "      <td>0.881235</td>\n",
       "      <td>0.840847</td>\n",
       "      <td>0.886343</td>\n",
       "      <td>0.912116</td>\n",
       "      <td>0.786117</td>\n",
       "    </tr>\n",
       "    <tr>\n",
       "      <th>3</th>\n",
       "      <td>200989060001_R06C01</td>\n",
       "      <td>3012</td>\n",
       "      <td>2</td>\n",
       "      <td>1</td>\n",
       "      <td>1</td>\n",
       "      <td>2</td>\n",
       "      <td>15</td>\n",
       "      <td>0.162354</td>\n",
       "      <td>0.913700</td>\n",
       "      <td>0.768198</td>\n",
       "      <td>...</td>\n",
       "      <td>0.888852</td>\n",
       "      <td>0.905171</td>\n",
       "      <td>0.911937</td>\n",
       "      <td>0.901597</td>\n",
       "      <td>0.896735</td>\n",
       "      <td>0.899922</td>\n",
       "      <td>0.877522</td>\n",
       "      <td>0.884145</td>\n",
       "      <td>0.943558</td>\n",
       "      <td>0.914531</td>\n",
       "    </tr>\n",
       "    <tr>\n",
       "      <th>4</th>\n",
       "      <td>200989060143_R08C01</td>\n",
       "      <td>3024</td>\n",
       "      <td>2</td>\n",
       "      <td>1</td>\n",
       "      <td>1</td>\n",
       "      <td>0</td>\n",
       "      <td>34</td>\n",
       "      <td>0.103971</td>\n",
       "      <td>0.904105</td>\n",
       "      <td>0.803156</td>\n",
       "      <td>...</td>\n",
       "      <td>0.848564</td>\n",
       "      <td>0.898804</td>\n",
       "      <td>0.879129</td>\n",
       "      <td>0.873831</td>\n",
       "      <td>0.851764</td>\n",
       "      <td>0.869911</td>\n",
       "      <td>0.857320</td>\n",
       "      <td>0.868054</td>\n",
       "      <td>0.941743</td>\n",
       "      <td>0.892600</td>\n",
       "    </tr>\n",
       "  </tbody>\n",
       "</table>\n",
       "<p>5 rows × 5679 columns</p>\n",
       "</div>"
      ],
      "text/plain": [
       "               Sentrix  PATNO  HYS  Gender  APPRDX  UPSIT_3  UPSIT_Total  \\\n",
       "0  200991620021_R01C01   3001    2       1       1        1           25   \n",
       "1  200973410167_R04C01   3007    2       1       1        2           18   \n",
       "2  200973410167_R05C01   3010    2       1       1        2            9   \n",
       "3  200989060001_R06C01   3012    2       1       1        2           15   \n",
       "4  200989060143_R08C01   3024    2       1       1        0           34   \n",
       "\n",
       "   cg06067658  cg15442538  cg25928446  ...  cg05766881  cg01708543  \\\n",
       "0    0.088679    0.890148    0.719238  ...    0.748763    0.830052   \n",
       "1    0.128668    0.916448    0.726893  ...    0.886279    0.898054   \n",
       "2    0.106438    0.922987    0.715904  ...    0.847166    0.880457   \n",
       "3    0.162354    0.913700    0.768198  ...    0.888852    0.905171   \n",
       "4    0.103971    0.904105    0.803156  ...    0.848564    0.898804   \n",
       "\n",
       "   cg10933281  cg04735449  cg15856662  cg11864127  cg14420798  cg08859349  \\\n",
       "0    0.861102    0.855659    0.788271    0.805084    0.729165    0.803183   \n",
       "1    0.896800    0.911732    0.863749    0.893595    0.829444    0.866504   \n",
       "2    0.909545    0.902309    0.848555    0.881235    0.840847    0.886343   \n",
       "3    0.911937    0.901597    0.896735    0.899922    0.877522    0.884145   \n",
       "4    0.879129    0.873831    0.851764    0.869911    0.857320    0.868054   \n",
       "\n",
       "   cg01481205  cg19228755  \n",
       "0    0.925666    0.849608  \n",
       "1    0.917233    0.786606  \n",
       "2    0.912116    0.786117  \n",
       "3    0.943558    0.914531  \n",
       "4    0.941743    0.892600  \n",
       "\n",
       "[5 rows x 5679 columns]"
      ]
     },
     "execution_count": 2,
     "metadata": {},
     "output_type": "execute_result"
    }
   ],
   "source": [
    "%cd Z:\\PPMI_Data\\Excel_Data\\NonMotors\\Feature_CpG_Gene_Association\\SleepDay_Processed_Files\n",
    "df = pd.read_csv('SleepDayCateg_Methylome_APPRDXFilter.csv')\n",
    "print(df.shape)\n",
    "df.head()"
   ]
  },
  {
   "cell_type": "code",
   "execution_count": 3,
   "metadata": {
    "ExecuteTime": {
     "end_time": "2022-12-07T11:04:51.383560Z",
     "start_time": "2022-12-07T11:04:51.352308Z"
    },
    "scrolled": false
   },
   "outputs": [
    {
     "data": {
      "text/html": [
       "<div>\n",
       "<style scoped>\n",
       "    .dataframe tbody tr th:only-of-type {\n",
       "        vertical-align: middle;\n",
       "    }\n",
       "\n",
       "    .dataframe tbody tr th {\n",
       "        vertical-align: top;\n",
       "    }\n",
       "\n",
       "    .dataframe thead th {\n",
       "        text-align: right;\n",
       "    }\n",
       "</style>\n",
       "<table border=\"1\" class=\"dataframe\">\n",
       "  <thead>\n",
       "    <tr style=\"text-align: right;\">\n",
       "      <th></th>\n",
       "      <th>APPRDX</th>\n",
       "      <th>UPSIT_Total</th>\n",
       "      <th>cg06067658</th>\n",
       "      <th>cg15442538</th>\n",
       "      <th>cg25928446</th>\n",
       "      <th>cg12415575</th>\n",
       "      <th>cg26358225</th>\n",
       "      <th>cg19058526</th>\n",
       "      <th>cg20195763</th>\n",
       "      <th>cg23725394</th>\n",
       "      <th>...</th>\n",
       "      <th>cg05766881</th>\n",
       "      <th>cg01708543</th>\n",
       "      <th>cg10933281</th>\n",
       "      <th>cg04735449</th>\n",
       "      <th>cg15856662</th>\n",
       "      <th>cg11864127</th>\n",
       "      <th>cg14420798</th>\n",
       "      <th>cg08859349</th>\n",
       "      <th>cg01481205</th>\n",
       "      <th>cg19228755</th>\n",
       "    </tr>\n",
       "  </thead>\n",
       "  <tbody>\n",
       "    <tr>\n",
       "      <th>0</th>\n",
       "      <td>1</td>\n",
       "      <td>25</td>\n",
       "      <td>0.088679</td>\n",
       "      <td>0.890148</td>\n",
       "      <td>0.719238</td>\n",
       "      <td>0.066678</td>\n",
       "      <td>0.151532</td>\n",
       "      <td>0.133249</td>\n",
       "      <td>0.479724</td>\n",
       "      <td>0.926745</td>\n",
       "      <td>...</td>\n",
       "      <td>0.748763</td>\n",
       "      <td>0.830052</td>\n",
       "      <td>0.861102</td>\n",
       "      <td>0.855659</td>\n",
       "      <td>0.788271</td>\n",
       "      <td>0.805084</td>\n",
       "      <td>0.729165</td>\n",
       "      <td>0.803183</td>\n",
       "      <td>0.925666</td>\n",
       "      <td>0.849608</td>\n",
       "    </tr>\n",
       "    <tr>\n",
       "      <th>1</th>\n",
       "      <td>1</td>\n",
       "      <td>18</td>\n",
       "      <td>0.128668</td>\n",
       "      <td>0.916448</td>\n",
       "      <td>0.726893</td>\n",
       "      <td>0.066768</td>\n",
       "      <td>0.198886</td>\n",
       "      <td>0.141136</td>\n",
       "      <td>0.412058</td>\n",
       "      <td>0.876792</td>\n",
       "      <td>...</td>\n",
       "      <td>0.886279</td>\n",
       "      <td>0.898054</td>\n",
       "      <td>0.896800</td>\n",
       "      <td>0.911732</td>\n",
       "      <td>0.863749</td>\n",
       "      <td>0.893595</td>\n",
       "      <td>0.829444</td>\n",
       "      <td>0.866504</td>\n",
       "      <td>0.917233</td>\n",
       "      <td>0.786606</td>\n",
       "    </tr>\n",
       "  </tbody>\n",
       "</table>\n",
       "<p>2 rows × 5674 columns</p>\n",
       "</div>"
      ],
      "text/plain": [
       "   APPRDX  UPSIT_Total  cg06067658  cg15442538  cg25928446  cg12415575  \\\n",
       "0       1           25    0.088679    0.890148    0.719238    0.066678   \n",
       "1       1           18    0.128668    0.916448    0.726893    0.066768   \n",
       "\n",
       "   cg26358225  cg19058526  cg20195763  cg23725394  ...  cg05766881  \\\n",
       "0    0.151532    0.133249    0.479724    0.926745  ...    0.748763   \n",
       "1    0.198886    0.141136    0.412058    0.876792  ...    0.886279   \n",
       "\n",
       "   cg01708543  cg10933281  cg04735449  cg15856662  cg11864127  cg14420798  \\\n",
       "0    0.830052    0.861102    0.855659    0.788271    0.805084    0.729165   \n",
       "1    0.898054    0.896800    0.911732    0.863749    0.893595    0.829444   \n",
       "\n",
       "   cg08859349  cg01481205  cg19228755  \n",
       "0    0.803183    0.925666    0.849608  \n",
       "1    0.866504    0.917233    0.786606  \n",
       "\n",
       "[2 rows x 5674 columns]"
      ]
     },
     "execution_count": 3,
     "metadata": {},
     "output_type": "execute_result"
    }
   ],
   "source": [
    "df1 = df.drop(['PATNO', 'Sentrix', 'HYS', 'Gender', 'MDSP_SleepDay'], axis=1)\n",
    "df1.head(2)"
   ]
  },
  {
   "cell_type": "code",
   "execution_count": 4,
   "metadata": {
    "ExecuteTime": {
     "end_time": "2022-12-07T11:04:51.483965Z",
     "start_time": "2022-12-07T11:04:51.383560Z"
    }
   },
   "outputs": [],
   "source": [
    "df2 = df1.drop (['APPRDX'], axis=1)"
   ]
  },
  {
   "cell_type": "markdown",
   "metadata": {
    "colab_type": "text",
    "id": "YvxIPVyMhmKp"
   },
   "source": [
    "## RanFor 1000 times. Samples = 50"
   ]
  },
  {
   "cell_type": "code",
   "execution_count": null,
   "metadata": {
    "ExecuteTime": {
     "start_time": "2022-12-07T11:04:48.516Z"
    },
    "scrolled": true
   },
   "outputs": [
    {
     "name": "stdout",
     "output_type": "stream",
     "text": [
      "1\n",
      "2\n",
      "3\n",
      "4\n",
      "5\n",
      "6\n",
      "7\n",
      "8\n",
      "9\n",
      "10\n",
      "11\n",
      "12\n",
      "13\n",
      "14\n",
      "15\n",
      "16\n",
      "17\n",
      "18\n"
     ]
    }
   ],
   "source": [
    "np.random.seed (1)\n",
    "dframe1 = pd.DataFrame(columns=['Accuracy', 'Std_Dev'])\n",
    "for i in range (1,1001) :\n",
    "        print(i)\n",
    "        df3 = df2.sample(50, axis=1)\n",
    "        df3 = df3.reindex(['APPRDX', *df3.columns], axis=1).assign(APPRDX=df1['APPRDX'])\n",
    "        dataset = df3.groupby('APPRDX').apply(lambda x: x.sample(100))\n",
    "        X = dataset.iloc[:, 1:].values\n",
    "        y = dataset.iloc[:, 0].values\n",
    "        classifier = RandomForestClassifier(n_estimators = 100, criterion = 'entropy', random_state = 1)\n",
    "        cv = RepeatedStratifiedKFold(n_splits=10, n_repeats=1, random_state=1)\n",
    "        n_scores = cross_val_score(classifier, X, y, scoring='accuracy', cv=cv, n_jobs=-1, error_score='raise')\n",
    "        dframe1 = dframe1.append({'Accuracy': mean(n_scores), 'Std_Dev': std(n_scores)}, ignore_index=True)\n"
   ]
  },
  {
   "cell_type": "code",
   "execution_count": null,
   "metadata": {
    "ExecuteTime": {
     "start_time": "2022-12-07T11:04:48.521Z"
    },
    "scrolled": false
   },
   "outputs": [],
   "source": [
    "dframe1.head()"
   ]
  },
  {
   "cell_type": "code",
   "execution_count": null,
   "metadata": {
    "ExecuteTime": {
     "start_time": "2022-12-07T11:04:48.526Z"
    }
   },
   "outputs": [],
   "source": [
    "dframe1.to_csv (\"SleepDay_Rand50CpG_Accuracy_1000RF.csv\")"
   ]
  },
  {
   "cell_type": "code",
   "execution_count": null,
   "metadata": {},
   "outputs": [],
   "source": []
  },
  {
   "cell_type": "markdown",
   "metadata": {
    "colab_type": "text",
    "id": "YvxIPVyMhmKp"
   },
   "source": [
    "## RanFor 1000 times. Samples = 8"
   ]
  },
  {
   "cell_type": "code",
   "execution_count": null,
   "metadata": {
    "ExecuteTime": {
     "start_time": "2022-12-07T11:04:48.531Z"
    }
   },
   "outputs": [],
   "source": [
    "np.random.seed (1)\n",
    "dframe2 = pd.DataFrame(columns=['Accuracy', 'Std_Dev'])\n",
    "for i in range (1,1001) :\n",
    "        print(i)\n",
    "        df3 = df2.sample(8, axis=1)\n",
    "        df3 = df3.reindex(['APPRDX', *df3.columns], axis=1).assign(APPRDX=df1['APPRDX'])\n",
    "        dataset = df3.groupby('APPRDX').apply(lambda x: x.sample(100))\n",
    "        X = dataset.iloc[:, 1:].values\n",
    "        y = dataset.iloc[:, 0].values\n",
    "        classifier = RandomForestClassifier(n_estimators = 100, criterion = 'entropy', random_state = 1)\n",
    "        cv = RepeatedStratifiedKFold(n_splits=10, n_repeats=1, random_state=1)\n",
    "        n_scores = cross_val_score(classifier, X, y, scoring='accuracy', cv=cv, n_jobs=-1, error_score='raise')\n",
    "        dframe2 = dframe2.append({'Accuracy': mean(n_scores), 'Std_Dev': std(n_scores)}, ignore_index=True)\n"
   ]
  },
  {
   "cell_type": "code",
   "execution_count": null,
   "metadata": {
    "ExecuteTime": {
     "start_time": "2022-12-07T11:04:48.535Z"
    },
    "scrolled": false
   },
   "outputs": [],
   "source": [
    "dframe2.head()"
   ]
  },
  {
   "cell_type": "code",
   "execution_count": null,
   "metadata": {
    "ExecuteTime": {
     "start_time": "2022-12-07T11:04:48.539Z"
    }
   },
   "outputs": [],
   "source": [
    "dframe2.to_csv (\"SleepDay_Rand10CpG_Accuracy_1000RF.csv\")"
   ]
  }
 ],
 "metadata": {
  "colab": {
   "authorship_tag": "ABX9TyPA7K2PAkEFgaKFIvslUMEc",
   "collapsed_sections": [],
   "machine_shape": "hm",
   "name": "random_forest_classification.ipynb",
   "provenance": [],
   "toc_visible": true
  },
  "kernelspec": {
   "display_name": "Python 3 (ipykernel)",
   "language": "python",
   "name": "python3"
  },
  "language_info": {
   "codemirror_mode": {
    "name": "ipython",
    "version": 3
   },
   "file_extension": ".py",
   "mimetype": "text/x-python",
   "name": "python",
   "nbconvert_exporter": "python",
   "pygments_lexer": "ipython3",
   "version": "3.9.7"
  },
  "toc": {
   "base_numbering": 1,
   "nav_menu": {},
   "number_sections": true,
   "sideBar": true,
   "skip_h1_title": false,
   "title_cell": "Table of Contents",
   "title_sidebar": "Contents",
   "toc_cell": false,
   "toc_position": {},
   "toc_section_display": true,
   "toc_window_display": false
  },
  "varInspector": {
   "cols": {
    "lenName": 16,
    "lenType": 16,
    "lenVar": 40
   },
   "kernels_config": {
    "python": {
     "delete_cmd_postfix": "",
     "delete_cmd_prefix": "del ",
     "library": "var_list.py",
     "varRefreshCmd": "print(var_dic_list())"
    },
    "r": {
     "delete_cmd_postfix": ") ",
     "delete_cmd_prefix": "rm(",
     "library": "var_list.r",
     "varRefreshCmd": "cat(var_dic_list()) "
    }
   },
   "types_to_exclude": [
    "module",
    "function",
    "builtin_function_or_method",
    "instance",
    "_Feature"
   ],
   "window_display": false
  }
 },
 "nbformat": 4,
 "nbformat_minor": 1
}
