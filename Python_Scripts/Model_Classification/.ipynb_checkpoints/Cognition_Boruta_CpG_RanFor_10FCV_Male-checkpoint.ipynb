{
 "cells": [
  {
   "cell_type": "markdown",
   "metadata": {
    "colab_type": "text",
    "id": "0MRC0e0KhQ0S"
   },
   "source": [
    "# Random Forest Classification"
   ]
  },
  {
   "cell_type": "markdown",
   "metadata": {
    "colab_type": "text",
    "id": "LWd1UlMnhT2s"
   },
   "source": [
    "## Importing the libraries"
   ]
  },
  {
   "cell_type": "code",
   "execution_count": 1,
   "metadata": {
    "ExecuteTime": {
     "end_time": "2022-12-27T04:01:00.956508Z",
     "start_time": "2022-12-27T04:00:51.536314Z"
    },
    "colab": {},
    "colab_type": "code",
    "id": "YvGPUQaHhXfL"
   },
   "outputs": [],
   "source": [
    "import random\n",
    "import numpy as np\n",
    "import pandas as pd\n",
    "import seaborn as sn\n",
    "from numpy import std\n",
    "from numpy import mean\n",
    "import matplotlib.pyplot as plt\n",
    "from sklearn.datasets import make_classification\n",
    "from sklearn.preprocessing import StandardScaler\n",
    "from sklearn.model_selection import cross_val_score\n",
    "from sklearn.ensemble import RandomForestClassifier\n",
    "from sklearn.model_selection import train_test_split\n",
    "from sklearn.model_selection import RepeatedStratifiedKFold\n",
    "from sklearn.metrics import confusion_matrix, accuracy_score\n",
    "%matplotlib inline"
   ]
  },
  {
   "cell_type": "code",
   "execution_count": 2,
   "metadata": {
    "ExecuteTime": {
     "end_time": "2022-12-27T04:24:16.162892Z",
     "start_time": "2022-12-27T04:01:01.240147Z"
    },
    "scrolled": false
   },
   "outputs": [
    {
     "name": "stdout",
     "output_type": "stream",
     "text": [
      "Z:\\PPMI_Data\\Excels\\Only_Male\\GeneCpG\\Cognition\n",
      "(307, 123024)\n"
     ]
    },
    {
     "data": {
      "text/html": [
       "<div>\n",
       "<style scoped>\n",
       "    .dataframe tbody tr th:only-of-type {\n",
       "        vertical-align: middle;\n",
       "    }\n",
       "\n",
       "    .dataframe tbody tr th {\n",
       "        vertical-align: top;\n",
       "    }\n",
       "\n",
       "    .dataframe thead th {\n",
       "        text-align: right;\n",
       "    }\n",
       "</style>\n",
       "<table border=\"1\" class=\"dataframe\">\n",
       "  <thead>\n",
       "    <tr style=\"text-align: right;\">\n",
       "      <th></th>\n",
       "      <th>Unnamed: 0</th>\n",
       "      <th>Sentrix</th>\n",
       "      <th>PATNO</th>\n",
       "      <th>HYS</th>\n",
       "      <th>Gender</th>\n",
       "      <th>APPRDX</th>\n",
       "      <th>Montreal_Cognitive</th>\n",
       "      <th>cg08012045</th>\n",
       "      <th>cg08300930</th>\n",
       "      <th>cg00134295</th>\n",
       "      <th>...</th>\n",
       "      <th>cg10054014</th>\n",
       "      <th>cg15364874</th>\n",
       "      <th>cg06622006</th>\n",
       "      <th>cg22071811</th>\n",
       "      <th>cg24960706</th>\n",
       "      <th>cg06917935</th>\n",
       "      <th>cg02794319</th>\n",
       "      <th>cg10702286</th>\n",
       "      <th>cg10353174</th>\n",
       "      <th>cg19590050</th>\n",
       "    </tr>\n",
       "  </thead>\n",
       "  <tbody>\n",
       "    <tr>\n",
       "      <th>0</th>\n",
       "      <td>0</td>\n",
       "      <td>200991620021_R01C01</td>\n",
       "      <td>3001</td>\n",
       "      <td>2</td>\n",
       "      <td>1</td>\n",
       "      <td>1</td>\n",
       "      <td>0</td>\n",
       "      <td>0.962437</td>\n",
       "      <td>0.964442</td>\n",
       "      <td>0.243530</td>\n",
       "      <td>...</td>\n",
       "      <td>0.852622</td>\n",
       "      <td>0.880126</td>\n",
       "      <td>0.876185</td>\n",
       "      <td>0.770531</td>\n",
       "      <td>0.830047</td>\n",
       "      <td>0.216268</td>\n",
       "      <td>0.234350</td>\n",
       "      <td>0.681550</td>\n",
       "      <td>0.103758</td>\n",
       "      <td>0.837890</td>\n",
       "    </tr>\n",
       "    <tr>\n",
       "      <th>1</th>\n",
       "      <td>1</td>\n",
       "      <td>200973410167_R04C01</td>\n",
       "      <td>3007</td>\n",
       "      <td>2</td>\n",
       "      <td>1</td>\n",
       "      <td>1</td>\n",
       "      <td>0</td>\n",
       "      <td>0.962158</td>\n",
       "      <td>0.963041</td>\n",
       "      <td>0.226060</td>\n",
       "      <td>...</td>\n",
       "      <td>0.900772</td>\n",
       "      <td>0.901686</td>\n",
       "      <td>0.906222</td>\n",
       "      <td>0.804494</td>\n",
       "      <td>0.905520</td>\n",
       "      <td>0.254265</td>\n",
       "      <td>0.290337</td>\n",
       "      <td>0.760554</td>\n",
       "      <td>0.075480</td>\n",
       "      <td>0.833824</td>\n",
       "    </tr>\n",
       "    <tr>\n",
       "      <th>2</th>\n",
       "      <td>2</td>\n",
       "      <td>200973410167_R05C01</td>\n",
       "      <td>3010</td>\n",
       "      <td>2</td>\n",
       "      <td>1</td>\n",
       "      <td>1</td>\n",
       "      <td>0</td>\n",
       "      <td>0.958309</td>\n",
       "      <td>0.964922</td>\n",
       "      <td>0.192857</td>\n",
       "      <td>...</td>\n",
       "      <td>0.904735</td>\n",
       "      <td>0.898241</td>\n",
       "      <td>0.914635</td>\n",
       "      <td>0.819989</td>\n",
       "      <td>0.897821</td>\n",
       "      <td>0.229338</td>\n",
       "      <td>0.232169</td>\n",
       "      <td>0.775542</td>\n",
       "      <td>0.119109</td>\n",
       "      <td>0.846339</td>\n",
       "    </tr>\n",
       "  </tbody>\n",
       "</table>\n",
       "<p>3 rows × 123024 columns</p>\n",
       "</div>"
      ],
      "text/plain": [
       "   Unnamed: 0              Sentrix  PATNO  HYS  Gender  APPRDX  \\\n",
       "0           0  200991620021_R01C01   3001    2       1       1   \n",
       "1           1  200973410167_R04C01   3007    2       1       1   \n",
       "2           2  200973410167_R05C01   3010    2       1       1   \n",
       "\n",
       "   Montreal_Cognitive  cg08012045  cg08300930  cg00134295  ...  cg10054014  \\\n",
       "0                   0    0.962437    0.964442    0.243530  ...    0.852622   \n",
       "1                   0    0.962158    0.963041    0.226060  ...    0.900772   \n",
       "2                   0    0.958309    0.964922    0.192857  ...    0.904735   \n",
       "\n",
       "   cg15364874  cg06622006  cg22071811  cg24960706  cg06917935  cg02794319  \\\n",
       "0    0.880126    0.876185    0.770531    0.830047    0.216268    0.234350   \n",
       "1    0.901686    0.906222    0.804494    0.905520    0.254265    0.290337   \n",
       "2    0.898241    0.914635    0.819989    0.897821    0.229338    0.232169   \n",
       "\n",
       "   cg10702286  cg10353174  cg19590050  \n",
       "0    0.681550    0.103758    0.837890  \n",
       "1    0.760554    0.075480    0.833824  \n",
       "2    0.775542    0.119109    0.846339  \n",
       "\n",
       "[3 rows x 123024 columns]"
      ]
     },
     "execution_count": 2,
     "metadata": {},
     "output_type": "execute_result"
    }
   ],
   "source": [
    "%cd Z:\\PPMI_Data\\Excels\\Only_Male\\GeneCpG\\Cognition\n",
    "df = pd.read_csv('CognitionCateg_Methylome_Male.csv')\n",
    "print(df.shape)\n",
    "df.head(3)"
   ]
  },
  {
   "cell_type": "code",
   "execution_count": 3,
   "metadata": {
    "ExecuteTime": {
     "end_time": "2022-12-27T04:26:24.549737Z",
     "start_time": "2022-12-27T04:26:23.696736Z"
    },
    "scrolled": true
   },
   "outputs": [
    {
     "data": {
      "text/html": [
       "<div>\n",
       "<style scoped>\n",
       "    .dataframe tbody tr th:only-of-type {\n",
       "        vertical-align: middle;\n",
       "    }\n",
       "\n",
       "    .dataframe tbody tr th {\n",
       "        vertical-align: top;\n",
       "    }\n",
       "\n",
       "    .dataframe thead th {\n",
       "        text-align: right;\n",
       "    }\n",
       "</style>\n",
       "<table border=\"1\" class=\"dataframe\">\n",
       "  <thead>\n",
       "    <tr style=\"text-align: right;\">\n",
       "      <th></th>\n",
       "      <th>APPRDX</th>\n",
       "      <th>cg08012045</th>\n",
       "      <th>cg08300930</th>\n",
       "      <th>cg00134295</th>\n",
       "      <th>cg10537824</th>\n",
       "      <th>cg04990650</th>\n",
       "      <th>cg03379001</th>\n",
       "      <th>cg02215627</th>\n",
       "      <th>cg06699201</th>\n",
       "      <th>cg18100935</th>\n",
       "      <th>...</th>\n",
       "      <th>cg10054014</th>\n",
       "      <th>cg15364874</th>\n",
       "      <th>cg06622006</th>\n",
       "      <th>cg22071811</th>\n",
       "      <th>cg24960706</th>\n",
       "      <th>cg06917935</th>\n",
       "      <th>cg02794319</th>\n",
       "      <th>cg10702286</th>\n",
       "      <th>cg10353174</th>\n",
       "      <th>cg19590050</th>\n",
       "    </tr>\n",
       "  </thead>\n",
       "  <tbody>\n",
       "    <tr>\n",
       "      <th>0</th>\n",
       "      <td>1</td>\n",
       "      <td>0.962437</td>\n",
       "      <td>0.964442</td>\n",
       "      <td>0.24353</td>\n",
       "      <td>0.826172</td>\n",
       "      <td>0.845330</td>\n",
       "      <td>0.852316</td>\n",
       "      <td>0.871498</td>\n",
       "      <td>0.653140</td>\n",
       "      <td>0.89167</td>\n",
       "      <td>...</td>\n",
       "      <td>0.852622</td>\n",
       "      <td>0.880126</td>\n",
       "      <td>0.876185</td>\n",
       "      <td>0.770531</td>\n",
       "      <td>0.830047</td>\n",
       "      <td>0.216268</td>\n",
       "      <td>0.234350</td>\n",
       "      <td>0.681550</td>\n",
       "      <td>0.103758</td>\n",
       "      <td>0.837890</td>\n",
       "    </tr>\n",
       "    <tr>\n",
       "      <th>1</th>\n",
       "      <td>1</td>\n",
       "      <td>0.962158</td>\n",
       "      <td>0.963041</td>\n",
       "      <td>0.22606</td>\n",
       "      <td>0.729373</td>\n",
       "      <td>0.830303</td>\n",
       "      <td>0.764861</td>\n",
       "      <td>0.821899</td>\n",
       "      <td>0.717675</td>\n",
       "      <td>0.88783</td>\n",
       "      <td>...</td>\n",
       "      <td>0.900772</td>\n",
       "      <td>0.901686</td>\n",
       "      <td>0.906222</td>\n",
       "      <td>0.804494</td>\n",
       "      <td>0.905520</td>\n",
       "      <td>0.254265</td>\n",
       "      <td>0.290337</td>\n",
       "      <td>0.760554</td>\n",
       "      <td>0.075480</td>\n",
       "      <td>0.833824</td>\n",
       "    </tr>\n",
       "  </tbody>\n",
       "</table>\n",
       "<p>2 rows × 123018 columns</p>\n",
       "</div>"
      ],
      "text/plain": [
       "   APPRDX  cg08012045  cg08300930  cg00134295  cg10537824  cg04990650  \\\n",
       "0       1    0.962437    0.964442     0.24353    0.826172    0.845330   \n",
       "1       1    0.962158    0.963041     0.22606    0.729373    0.830303   \n",
       "\n",
       "   cg03379001  cg02215627  cg06699201  cg18100935  ...  cg10054014  \\\n",
       "0    0.852316    0.871498    0.653140     0.89167  ...    0.852622   \n",
       "1    0.764861    0.821899    0.717675     0.88783  ...    0.900772   \n",
       "\n",
       "   cg15364874  cg06622006  cg22071811  cg24960706  cg06917935  cg02794319  \\\n",
       "0    0.880126    0.876185    0.770531    0.830047    0.216268    0.234350   \n",
       "1    0.901686    0.906222    0.804494    0.905520    0.254265    0.290337   \n",
       "\n",
       "   cg10702286  cg10353174  cg19590050  \n",
       "0    0.681550    0.103758    0.837890  \n",
       "1    0.760554    0.075480    0.833824  \n",
       "\n",
       "[2 rows x 123018 columns]"
      ]
     },
     "execution_count": 3,
     "metadata": {},
     "output_type": "execute_result"
    }
   ],
   "source": [
    "df1 = df.drop(['Unnamed: 0','PATNO', 'Sentrix', 'HYS', 'Gender', 'Montreal_Cognitive'], axis=1)\n",
    "df1.head(2)"
   ]
  },
  {
   "cell_type": "code",
   "execution_count": null,
   "metadata": {
    "ExecuteTime": {
     "start_time": "2022-12-27T04:26:25.996Z"
    }
   },
   "outputs": [],
   "source": [
    "df1 = df1.transpose()\n",
    "df1.head(2)"
   ]
  },
  {
   "cell_type": "code",
   "execution_count": null,
   "metadata": {
    "ExecuteTime": {
     "start_time": "2022-12-27T04:26:26.737Z"
    }
   },
   "outputs": [],
   "source": [
    "df1.rename(columns=df1.iloc[0], inplace = True)\n"
   ]
  },
  {
   "cell_type": "code",
   "execution_count": null,
   "metadata": {
    "ExecuteTime": {
     "start_time": "2022-12-27T04:26:27.118Z"
    },
    "scrolled": true
   },
   "outputs": [],
   "source": [
    "df1.index.name ='CpG'\n",
    "df1.reset_index(inplace=True)\n",
    "df1.head(2)"
   ]
  },
  {
   "cell_type": "code",
   "execution_count": null,
   "metadata": {
    "ExecuteTime": {
     "start_time": "2022-12-27T04:26:27.450Z"
    }
   },
   "outputs": [],
   "source": [
    "df1 = df1.drop ([0], axis = 0)\n",
    "df1.head(2)"
   ]
  },
  {
   "cell_type": "code",
   "execution_count": null,
   "metadata": {
    "ExecuteTime": {
     "start_time": "2022-12-27T04:26:28.152Z"
    },
    "scrolled": true
   },
   "outputs": [],
   "source": [
    "df2 = pd.read_csv (\"Cognition_BorutaMale_Top50.csv\")\n",
    "df2.head(2)"
   ]
  },
  {
   "cell_type": "code",
   "execution_count": null,
   "metadata": {
    "ExecuteTime": {
     "start_time": "2022-12-27T04:26:28.369Z"
    }
   },
   "outputs": [],
   "source": [
    "df3 = pd.merge (df1, df2, on= \"CpG\", how= \"inner\")\n",
    "df3.head(2)"
   ]
  },
  {
   "cell_type": "code",
   "execution_count": null,
   "metadata": {
    "ExecuteTime": {
     "start_time": "2022-12-27T04:26:28.940Z"
    }
   },
   "outputs": [],
   "source": [
    "df3 = df3.transpose()\n",
    "df3.head(2)"
   ]
  },
  {
   "cell_type": "code",
   "execution_count": null,
   "metadata": {
    "ExecuteTime": {
     "start_time": "2022-12-27T04:26:29.334Z"
    }
   },
   "outputs": [],
   "source": [
    "df3.rename(columns=df3.iloc[0], inplace = True)\n"
   ]
  },
  {
   "cell_type": "code",
   "execution_count": null,
   "metadata": {
    "ExecuteTime": {
     "start_time": "2022-12-27T04:26:29.925Z"
    }
   },
   "outputs": [],
   "source": [
    "df3.index.name ='APPRDX'\n",
    "df3.reset_index(inplace=True)\n",
    "df3.head(2)"
   ]
  },
  {
   "cell_type": "code",
   "execution_count": null,
   "metadata": {
    "ExecuteTime": {
     "start_time": "2022-12-27T04:26:30.417Z"
    },
    "scrolled": true
   },
   "outputs": [],
   "source": [
    "df3 = df3.drop ([0], axis = 0)\n",
    "df3.head(2)"
   ]
  },
  {
   "cell_type": "code",
   "execution_count": null,
   "metadata": {
    "ExecuteTime": {
     "start_time": "2022-12-27T04:26:30.980Z"
    }
   },
   "outputs": [],
   "source": [
    "df3.reset_index(inplace = True, drop = True)\n",
    "df3.head(3)"
   ]
  },
  {
   "cell_type": "code",
   "execution_count": null,
   "metadata": {
    "ExecuteTime": {
     "start_time": "2022-12-27T04:26:31.332Z"
    }
   },
   "outputs": [],
   "source": [
    "df3.shape"
   ]
  },
  {
   "cell_type": "code",
   "execution_count": null,
   "metadata": {
    "ExecuteTime": {
     "start_time": "2022-12-27T04:26:37.819Z"
    }
   },
   "outputs": [],
   "source": [
    "df3 ['APPRDX'] = df3 ['APPRDX'].apply(int)"
   ]
  },
  {
   "cell_type": "markdown",
   "metadata": {},
   "source": [
    "## RanFor 1000 times, CpG only "
   ]
  },
  {
   "cell_type": "code",
   "execution_count": null,
   "metadata": {
    "ExecuteTime": {
     "start_time": "2022-12-27T04:26:38.225Z"
    },
    "scrolled": true
   },
   "outputs": [],
   "source": [
    "df3.head(2)"
   ]
  },
  {
   "cell_type": "code",
   "execution_count": null,
   "metadata": {
    "ExecuteTime": {
     "start_time": "2022-12-27T04:26:38.593Z"
    }
   },
   "outputs": [],
   "source": [
    "df3.shape"
   ]
  },
  {
   "cell_type": "code",
   "execution_count": null,
   "metadata": {
    "ExecuteTime": {
     "start_time": "2022-12-27T04:26:38.787Z"
    }
   },
   "outputs": [],
   "source": [
    "np.random.seed (1)\n",
    "dframe1 = pd.DataFrame(columns=['Accuracy', 'Std_Dev'])\n",
    "for i in range (1,1001) :\n",
    "        print(i)\n",
    "        dataset = df3.groupby('APPRDX').apply(lambda x: x.sample(90))\n",
    "        X = dataset.iloc[:, 1:].values\n",
    "        y = dataset.iloc[:, 0].values\n",
    "        classifier = RandomForestClassifier(n_estimators = 100, criterion = 'entropy', random_state = 1)\n",
    "        cv = RepeatedStratifiedKFold(n_splits=10, n_repeats=5, random_state=1)\n",
    "        n_scores = cross_val_score(classifier, X, y, scoring='accuracy', cv=cv, n_jobs=-1, error_score='raise')\n",
    "        dframe1 = dframe1.append({'Accuracy': mean(n_scores), 'Std_Dev': std(n_scores)}, ignore_index=True)\n"
   ]
  },
  {
   "cell_type": "code",
   "execution_count": null,
   "metadata": {
    "ExecuteTime": {
     "start_time": "2022-12-27T04:26:40.219Z"
    },
    "scrolled": true
   },
   "outputs": [],
   "source": [
    "dframe1.head(2)"
   ]
  },
  {
   "cell_type": "code",
   "execution_count": null,
   "metadata": {
    "ExecuteTime": {
     "start_time": "2022-12-27T04:26:40.868Z"
    }
   },
   "outputs": [],
   "source": [
    "dframe1.to_csv (\"Cognition_BorutaCpG_Male_1000RF.csv\")"
   ]
  },
  {
   "cell_type": "code",
   "execution_count": null,
   "metadata": {},
   "outputs": [],
   "source": []
  }
 ],
 "metadata": {
  "colab": {
   "authorship_tag": "ABX9TyPA7K2PAkEFgaKFIvslUMEc",
   "collapsed_sections": [],
   "machine_shape": "hm",
   "name": "random_forest_classification.ipynb",
   "provenance": [],
   "toc_visible": true
  },
  "kernelspec": {
   "display_name": "Python 3 (ipykernel)",
   "language": "python",
   "name": "python3"
  },
  "language_info": {
   "codemirror_mode": {
    "name": "ipython",
    "version": 3
   },
   "file_extension": ".py",
   "mimetype": "text/x-python",
   "name": "python",
   "nbconvert_exporter": "python",
   "pygments_lexer": "ipython3",
   "version": "3.9.7"
  },
  "toc": {
   "base_numbering": 1,
   "nav_menu": {},
   "number_sections": true,
   "sideBar": true,
   "skip_h1_title": false,
   "title_cell": "Table of Contents",
   "title_sidebar": "Contents",
   "toc_cell": false,
   "toc_position": {},
   "toc_section_display": true,
   "toc_window_display": false
  },
  "varInspector": {
   "cols": {
    "lenName": 16,
    "lenType": 16,
    "lenVar": 40
   },
   "kernels_config": {
    "python": {
     "delete_cmd_postfix": "",
     "delete_cmd_prefix": "del ",
     "library": "var_list.py",
     "varRefreshCmd": "print(var_dic_list())"
    },
    "r": {
     "delete_cmd_postfix": ") ",
     "delete_cmd_prefix": "rm(",
     "library": "var_list.r",
     "varRefreshCmd": "cat(var_dic_list()) "
    }
   },
   "types_to_exclude": [
    "module",
    "function",
    "builtin_function_or_method",
    "instance",
    "_Feature"
   ],
   "window_display": false
  }
 },
 "nbformat": 4,
 "nbformat_minor": 1
}
