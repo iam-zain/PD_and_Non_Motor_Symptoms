{
 "cells": [
  {
   "cell_type": "markdown",
   "metadata": {
    "colab_type": "text",
    "id": "0MRC0e0KhQ0S"
   },
   "source": [
    "# Random Forest Classification"
   ]
  },
  {
   "cell_type": "code",
   "execution_count": 1,
   "metadata": {
    "ExecuteTime": {
     "end_time": "2023-04-02T09:31:53.326516Z",
     "start_time": "2023-04-02T09:31:51.189238Z"
    },
    "colab": {},
    "colab_type": "code",
    "id": "YvGPUQaHhXfL"
   },
   "outputs": [],
   "source": [
    "import random\n",
    "import numpy as np\n",
    "import pandas as pd\n",
    "import seaborn as sn\n",
    "from numpy import std\n",
    "from numpy import mean\n",
    "import matplotlib.pyplot as plt\n",
    "from sklearn.datasets import make_classification\n",
    "from sklearn.preprocessing import StandardScaler\n",
    "from sklearn.model_selection import cross_val_score\n",
    "from sklearn.ensemble import RandomForestClassifier\n",
    "from sklearn.model_selection import train_test_split\n",
    "from sklearn.model_selection import RepeatedStratifiedKFold\n",
    "from sklearn.metrics import confusion_matrix, accuracy_score\n",
    "%matplotlib inline"
   ]
  },
  {
   "cell_type": "markdown",
   "metadata": {},
   "source": [
    "# Running Model with different Features"
   ]
  },
  {
   "cell_type": "markdown",
   "metadata": {},
   "source": [
    "## NMI 0.15 with Common Features "
   ]
  },
  {
   "cell_type": "code",
   "execution_count": 2,
   "metadata": {
    "ExecuteTime": {
     "end_time": "2023-04-02T09:31:53.379899Z",
     "start_time": "2023-04-02T09:31:53.326516Z"
    },
    "scrolled": false
   },
   "outputs": [
    {
     "name": "stdout",
     "output_type": "stream",
     "text": [
      "Z:\\PPMI_Data\\Excels\\NonMotors\\The251\\Female\\GeneCpG\\Xtras\\Top50_eachFeats\n",
      "(150, 64)\n"
     ]
    },
    {
     "data": {
      "text/html": [
       "<div>\n",
       "<style scoped>\n",
       "    .dataframe tbody tr th:only-of-type {\n",
       "        vertical-align: middle;\n",
       "    }\n",
       "\n",
       "    .dataframe tbody tr th {\n",
       "        vertical-align: top;\n",
       "    }\n",
       "\n",
       "    .dataframe thead th {\n",
       "        text-align: right;\n",
       "    }\n",
       "</style>\n",
       "<table border=\"1\" class=\"dataframe\">\n",
       "  <thead>\n",
       "    <tr style=\"text-align: right;\">\n",
       "      <th></th>\n",
       "      <th>PATNO</th>\n",
       "      <th>APPRDX</th>\n",
       "      <th>cg15487922</th>\n",
       "      <th>cg05702234</th>\n",
       "      <th>cg24441068</th>\n",
       "      <th>cg20699097</th>\n",
       "      <th>cg14245173</th>\n",
       "      <th>cg12130295</th>\n",
       "      <th>cg12162792</th>\n",
       "      <th>cg25537999</th>\n",
       "      <th>...</th>\n",
       "      <th>cg04550367</th>\n",
       "      <th>cg18765724</th>\n",
       "      <th>cg26405759</th>\n",
       "      <th>cg17080573</th>\n",
       "      <th>cg22011888</th>\n",
       "      <th>cg26115667</th>\n",
       "      <th>cg01219777</th>\n",
       "      <th>cg25588592</th>\n",
       "      <th>cg27094323</th>\n",
       "      <th>cg16537985</th>\n",
       "    </tr>\n",
       "  </thead>\n",
       "  <tbody>\n",
       "    <tr>\n",
       "      <th>0</th>\n",
       "      <td>3000</td>\n",
       "      <td>1</td>\n",
       "      <td>0.787071</td>\n",
       "      <td>0.886493</td>\n",
       "      <td>0.009892</td>\n",
       "      <td>0.561816</td>\n",
       "      <td>0.037158</td>\n",
       "      <td>0.917261</td>\n",
       "      <td>0.855302</td>\n",
       "      <td>0.927314</td>\n",
       "      <td>...</td>\n",
       "      <td>0.908233</td>\n",
       "      <td>0.926035</td>\n",
       "      <td>0.910940</td>\n",
       "      <td>0.637042</td>\n",
       "      <td>0.889954</td>\n",
       "      <td>0.747158</td>\n",
       "      <td>0.849757</td>\n",
       "      <td>0.879274</td>\n",
       "      <td>0.104415</td>\n",
       "      <td>0.683303</td>\n",
       "    </tr>\n",
       "    <tr>\n",
       "      <th>1</th>\n",
       "      <td>3002</td>\n",
       "      <td>0</td>\n",
       "      <td>0.771991</td>\n",
       "      <td>0.891774</td>\n",
       "      <td>0.010496</td>\n",
       "      <td>0.522515</td>\n",
       "      <td>0.030703</td>\n",
       "      <td>0.920615</td>\n",
       "      <td>0.887998</td>\n",
       "      <td>0.864310</td>\n",
       "      <td>...</td>\n",
       "      <td>0.890952</td>\n",
       "      <td>0.862585</td>\n",
       "      <td>0.918484</td>\n",
       "      <td>0.642083</td>\n",
       "      <td>0.882415</td>\n",
       "      <td>0.702583</td>\n",
       "      <td>0.833641</td>\n",
       "      <td>0.885489</td>\n",
       "      <td>0.316684</td>\n",
       "      <td>0.865309</td>\n",
       "    </tr>\n",
       "  </tbody>\n",
       "</table>\n",
       "<p>2 rows × 64 columns</p>\n",
       "</div>"
      ],
      "text/plain": [
       "   PATNO  APPRDX  cg15487922  cg05702234  cg24441068  cg20699097  cg14245173  \\\n",
       "0   3000       1    0.787071    0.886493    0.009892    0.561816    0.037158   \n",
       "1   3002       0    0.771991    0.891774    0.010496    0.522515    0.030703   \n",
       "\n",
       "   cg12130295  cg12162792  cg25537999  ...  cg04550367  cg18765724  \\\n",
       "0    0.917261    0.855302    0.927314  ...    0.908233    0.926035   \n",
       "1    0.920615    0.887998    0.864310  ...    0.890952    0.862585   \n",
       "\n",
       "   cg26405759  cg17080573  cg22011888  cg26115667  cg01219777  cg25588592  \\\n",
       "0    0.910940    0.637042    0.889954    0.747158    0.849757    0.879274   \n",
       "1    0.918484    0.642083    0.882415    0.702583    0.833641    0.885489   \n",
       "\n",
       "   cg27094323  cg16537985  \n",
       "0    0.104415    0.683303  \n",
       "1    0.316684    0.865309  \n",
       "\n",
       "[2 rows x 64 columns]"
      ]
     },
     "execution_count": 2,
     "metadata": {},
     "output_type": "execute_result"
    }
   ],
   "source": [
    "%cd Z:\\PPMI_Data\\Excels\\NonMotors\\The251\\Female\\GeneCpG\\Xtras\\Top50_eachFeats\n",
    "df = pd.read_csv('NMI_Methylome_Female15_Data.csv')\n",
    "df['APPRDX'] = df['APPRDX'] -1\n",
    "print(df.shape)\n",
    "df.head(2)"
   ]
  },
  {
   "cell_type": "code",
   "execution_count": 3,
   "metadata": {
    "ExecuteTime": {
     "end_time": "2023-04-02T09:31:53.426776Z",
     "start_time": "2023-04-02T09:31:53.379899Z"
    }
   },
   "outputs": [
    {
     "name": "stdout",
     "output_type": "stream",
     "text": [
      "(84, 6)\n"
     ]
    },
    {
     "data": {
      "text/html": [
       "<div>\n",
       "<style scoped>\n",
       "    .dataframe tbody tr th:only-of-type {\n",
       "        vertical-align: middle;\n",
       "    }\n",
       "\n",
       "    .dataframe tbody tr th {\n",
       "        vertical-align: top;\n",
       "    }\n",
       "\n",
       "    .dataframe thead th {\n",
       "        text-align: right;\n",
       "    }\n",
       "</style>\n",
       "<table border=\"1\" class=\"dataframe\">\n",
       "  <thead>\n",
       "    <tr style=\"text-align: right;\">\n",
       "      <th></th>\n",
       "      <th>PATNO</th>\n",
       "      <th>MDSP_Constipate</th>\n",
       "      <th>MDSP_Pain</th>\n",
       "      <th>Montreal_Cognitive</th>\n",
       "      <th>SCOPA_Gastro</th>\n",
       "      <th>UPSIT</th>\n",
       "    </tr>\n",
       "  </thead>\n",
       "  <tbody>\n",
       "    <tr>\n",
       "      <th>0</th>\n",
       "      <td>3002</td>\n",
       "      <td>1</td>\n",
       "      <td>1</td>\n",
       "      <td>0</td>\n",
       "      <td>1</td>\n",
       "      <td>2</td>\n",
       "    </tr>\n",
       "    <tr>\n",
       "      <th>1</th>\n",
       "      <td>3020</td>\n",
       "      <td>0</td>\n",
       "      <td>1</td>\n",
       "      <td>0</td>\n",
       "      <td>1</td>\n",
       "      <td>1</td>\n",
       "    </tr>\n",
       "  </tbody>\n",
       "</table>\n",
       "</div>"
      ],
      "text/plain": [
       "   PATNO  MDSP_Constipate  MDSP_Pain  Montreal_Cognitive  SCOPA_Gastro  UPSIT\n",
       "0   3002                1          1                   0             1      2\n",
       "1   3020                0          1                   0             1      1"
      ]
     },
     "execution_count": 3,
     "metadata": {},
     "output_type": "execute_result"
    }
   ],
   "source": [
    "df2 = pd.read_csv('Any2Common_inAll45Feats_Data_Female.csv')\n",
    "print(df2.shape)\n",
    "df2.head(2)"
   ]
  },
  {
   "cell_type": "code",
   "execution_count": 4,
   "metadata": {
    "ExecuteTime": {
     "end_time": "2023-04-02T09:31:53.527043Z",
     "start_time": "2023-04-02T09:31:53.426776Z"
    },
    "scrolled": false
   },
   "outputs": [
    {
     "name": "stdout",
     "output_type": "stream",
     "text": [
      "(50, 68)\n"
     ]
    },
    {
     "data": {
      "text/html": [
       "<div>\n",
       "<style scoped>\n",
       "    .dataframe tbody tr th:only-of-type {\n",
       "        vertical-align: middle;\n",
       "    }\n",
       "\n",
       "    .dataframe tbody tr th {\n",
       "        vertical-align: top;\n",
       "    }\n",
       "\n",
       "    .dataframe thead th {\n",
       "        text-align: right;\n",
       "    }\n",
       "</style>\n",
       "<table border=\"1\" class=\"dataframe\">\n",
       "  <thead>\n",
       "    <tr style=\"text-align: right;\">\n",
       "      <th></th>\n",
       "      <th>APPRDX</th>\n",
       "      <th>cg15487922</th>\n",
       "      <th>cg05702234</th>\n",
       "      <th>cg24441068</th>\n",
       "      <th>cg20699097</th>\n",
       "      <th>cg14245173</th>\n",
       "      <th>cg12130295</th>\n",
       "      <th>cg12162792</th>\n",
       "      <th>cg25537999</th>\n",
       "      <th>cg21605784</th>\n",
       "      <th>...</th>\n",
       "      <th>cg26115667</th>\n",
       "      <th>cg01219777</th>\n",
       "      <th>cg25588592</th>\n",
       "      <th>cg27094323</th>\n",
       "      <th>cg16537985</th>\n",
       "      <th>MDSP_Constipate</th>\n",
       "      <th>MDSP_Pain</th>\n",
       "      <th>Montreal_Cognitive</th>\n",
       "      <th>SCOPA_Gastro</th>\n",
       "      <th>UPSIT</th>\n",
       "    </tr>\n",
       "  </thead>\n",
       "  <tbody>\n",
       "    <tr>\n",
       "      <th>0</th>\n",
       "      <td>0</td>\n",
       "      <td>0.771991</td>\n",
       "      <td>0.891774</td>\n",
       "      <td>0.010496</td>\n",
       "      <td>0.522515</td>\n",
       "      <td>0.030703</td>\n",
       "      <td>0.920615</td>\n",
       "      <td>0.887998</td>\n",
       "      <td>0.864310</td>\n",
       "      <td>0.921895</td>\n",
       "      <td>...</td>\n",
       "      <td>0.702583</td>\n",
       "      <td>0.833641</td>\n",
       "      <td>0.885489</td>\n",
       "      <td>0.316684</td>\n",
       "      <td>0.865309</td>\n",
       "      <td>1</td>\n",
       "      <td>1</td>\n",
       "      <td>0</td>\n",
       "      <td>1</td>\n",
       "      <td>2</td>\n",
       "    </tr>\n",
       "    <tr>\n",
       "      <th>1</th>\n",
       "      <td>1</td>\n",
       "      <td>0.787123</td>\n",
       "      <td>0.857112</td>\n",
       "      <td>0.010375</td>\n",
       "      <td>0.491913</td>\n",
       "      <td>0.039266</td>\n",
       "      <td>0.907291</td>\n",
       "      <td>0.817082</td>\n",
       "      <td>0.914858</td>\n",
       "      <td>0.928419</td>\n",
       "      <td>...</td>\n",
       "      <td>0.654270</td>\n",
       "      <td>0.779952</td>\n",
       "      <td>0.923710</td>\n",
       "      <td>0.075527</td>\n",
       "      <td>0.784425</td>\n",
       "      <td>0</td>\n",
       "      <td>1</td>\n",
       "      <td>0</td>\n",
       "      <td>0</td>\n",
       "      <td>0</td>\n",
       "    </tr>\n",
       "  </tbody>\n",
       "</table>\n",
       "<p>2 rows × 68 columns</p>\n",
       "</div>"
      ],
      "text/plain": [
       "   APPRDX  cg15487922  cg05702234  cg24441068  cg20699097  cg14245173  \\\n",
       "0       0    0.771991    0.891774    0.010496    0.522515    0.030703   \n",
       "1       1    0.787123    0.857112    0.010375    0.491913    0.039266   \n",
       "\n",
       "   cg12130295  cg12162792  cg25537999  cg21605784  ...  cg26115667  \\\n",
       "0    0.920615    0.887998    0.864310    0.921895  ...    0.702583   \n",
       "1    0.907291    0.817082    0.914858    0.928419  ...    0.654270   \n",
       "\n",
       "   cg01219777  cg25588592  cg27094323  cg16537985  MDSP_Constipate  MDSP_Pain  \\\n",
       "0    0.833641    0.885489    0.316684    0.865309                1          1   \n",
       "1    0.779952    0.923710    0.075527    0.784425                0          1   \n",
       "\n",
       "   Montreal_Cognitive  SCOPA_Gastro  UPSIT  \n",
       "0                   0             1      2  \n",
       "1                   0             0      0  \n",
       "\n",
       "[2 rows x 68 columns]"
      ]
     },
     "execution_count": 4,
     "metadata": {},
     "output_type": "execute_result"
    }
   ],
   "source": [
    "df1 = pd.merge(df, df2, on = 'PATNO', how='inner')\n",
    "df1 = df1.drop(['PATNO'], axis=1)\n",
    "dff1 = df1\n",
    "print(df1.shape)\n",
    "df1.head(2)"
   ]
  },
  {
   "cell_type": "code",
   "execution_count": 8,
   "metadata": {
    "ExecuteTime": {
     "end_time": "2023-04-02T09:32:55.257307Z",
     "start_time": "2023-04-02T09:32:47.252820Z"
    },
    "scrolled": true
   },
   "outputs": [
    {
     "name": "stdout",
     "output_type": "stream",
     "text": [
      "1\n",
      "Mean accuracy: 0.7\n",
      "2\n",
      "Mean accuracy: 0.7666666666666666\n",
      "3\n",
      "Mean accuracy: 0.7333333333333333\n",
      "4\n",
      "Mean accuracy: 0.7333333333333334\n",
      "5\n",
      "Mean accuracy: 0.8333333333333333\n",
      "6\n",
      "Mean accuracy: 0.7666666666666667\n",
      "7\n"
     ]
    },
    {
     "ename": "KeyboardInterrupt",
     "evalue": "",
     "output_type": "error",
     "traceback": [
      "\u001b[1;31m---------------------------------------------------------------------------\u001b[0m",
      "\u001b[1;31mKeyboardInterrupt\u001b[0m                         Traceback (most recent call last)",
      "Cell \u001b[1;32mIn[8], line 10\u001b[0m\n\u001b[0;32m      8\u001b[0m y \u001b[38;5;241m=\u001b[39m df2[\u001b[38;5;124m'\u001b[39m\u001b[38;5;124mAPPRDX\u001b[39m\u001b[38;5;124m'\u001b[39m]\n\u001b[0;32m      9\u001b[0m random_forest_model \u001b[38;5;241m=\u001b[39m RandomForestClassifier(n_estimators \u001b[38;5;241m=\u001b[39m \u001b[38;5;241m100\u001b[39m, max_depth \u001b[38;5;241m=\u001b[39m \u001b[38;5;241m5\u001b[39m, criterion \u001b[38;5;241m=\u001b[39m \u001b[38;5;124m'\u001b[39m\u001b[38;5;124mgini\u001b[39m\u001b[38;5;124m'\u001b[39m)\n\u001b[1;32m---> 10\u001b[0m scores \u001b[38;5;241m=\u001b[39m \u001b[43mcross_val_score\u001b[49m\u001b[43m(\u001b[49m\u001b[43mrandom_forest_model\u001b[49m\u001b[43m,\u001b[49m\u001b[43m \u001b[49m\u001b[43mX\u001b[49m\u001b[43m,\u001b[49m\u001b[43m \u001b[49m\u001b[43my\u001b[49m\u001b[43m,\u001b[49m\u001b[43m \u001b[49m\u001b[43mcv\u001b[49m\u001b[43m \u001b[49m\u001b[38;5;241;43m=\u001b[39;49m\u001b[43m \u001b[49m\u001b[38;5;241;43m10\u001b[39;49m\u001b[43m,\u001b[49m\u001b[43m \u001b[49m\u001b[43mn_jobs\u001b[49m\u001b[43m \u001b[49m\u001b[38;5;241;43m=\u001b[39;49m\u001b[43m \u001b[49m\u001b[38;5;241;43m-\u001b[39;49m\u001b[38;5;241;43m1\u001b[39;49m\u001b[43m)\u001b[49m\n\u001b[0;32m     11\u001b[0m mean_score \u001b[38;5;241m=\u001b[39m scores\u001b[38;5;241m.\u001b[39mmean()\n\u001b[0;32m     12\u001b[0m \u001b[38;5;28mprint\u001b[39m(\u001b[38;5;124mf\u001b[39m\u001b[38;5;124m'\u001b[39m\u001b[38;5;124mMean accuracy: \u001b[39m\u001b[38;5;132;01m{\u001b[39;00mmean_score\u001b[38;5;132;01m}\u001b[39;00m\u001b[38;5;124m'\u001b[39m)\n",
      "File \u001b[1;32mC:\\ProgramData\\Anaconda3\\lib\\site-packages\\sklearn\\model_selection\\_validation.py:509\u001b[0m, in \u001b[0;36mcross_val_score\u001b[1;34m(estimator, X, y, groups, scoring, cv, n_jobs, verbose, fit_params, pre_dispatch, error_score)\u001b[0m\n\u001b[0;32m    506\u001b[0m \u001b[38;5;66;03m# To ensure multimetric format is not supported\u001b[39;00m\n\u001b[0;32m    507\u001b[0m scorer \u001b[38;5;241m=\u001b[39m check_scoring(estimator, scoring\u001b[38;5;241m=\u001b[39mscoring)\n\u001b[1;32m--> 509\u001b[0m cv_results \u001b[38;5;241m=\u001b[39m \u001b[43mcross_validate\u001b[49m\u001b[43m(\u001b[49m\n\u001b[0;32m    510\u001b[0m \u001b[43m    \u001b[49m\u001b[43mestimator\u001b[49m\u001b[38;5;241;43m=\u001b[39;49m\u001b[43mestimator\u001b[49m\u001b[43m,\u001b[49m\n\u001b[0;32m    511\u001b[0m \u001b[43m    \u001b[49m\u001b[43mX\u001b[49m\u001b[38;5;241;43m=\u001b[39;49m\u001b[43mX\u001b[49m\u001b[43m,\u001b[49m\n\u001b[0;32m    512\u001b[0m \u001b[43m    \u001b[49m\u001b[43my\u001b[49m\u001b[38;5;241;43m=\u001b[39;49m\u001b[43my\u001b[49m\u001b[43m,\u001b[49m\n\u001b[0;32m    513\u001b[0m \u001b[43m    \u001b[49m\u001b[43mgroups\u001b[49m\u001b[38;5;241;43m=\u001b[39;49m\u001b[43mgroups\u001b[49m\u001b[43m,\u001b[49m\n\u001b[0;32m    514\u001b[0m \u001b[43m    \u001b[49m\u001b[43mscoring\u001b[49m\u001b[38;5;241;43m=\u001b[39;49m\u001b[43m{\u001b[49m\u001b[38;5;124;43m\"\u001b[39;49m\u001b[38;5;124;43mscore\u001b[39;49m\u001b[38;5;124;43m\"\u001b[39;49m\u001b[43m:\u001b[49m\u001b[43m \u001b[49m\u001b[43mscorer\u001b[49m\u001b[43m}\u001b[49m\u001b[43m,\u001b[49m\n\u001b[0;32m    515\u001b[0m \u001b[43m    \u001b[49m\u001b[43mcv\u001b[49m\u001b[38;5;241;43m=\u001b[39;49m\u001b[43mcv\u001b[49m\u001b[43m,\u001b[49m\n\u001b[0;32m    516\u001b[0m \u001b[43m    \u001b[49m\u001b[43mn_jobs\u001b[49m\u001b[38;5;241;43m=\u001b[39;49m\u001b[43mn_jobs\u001b[49m\u001b[43m,\u001b[49m\n\u001b[0;32m    517\u001b[0m \u001b[43m    \u001b[49m\u001b[43mverbose\u001b[49m\u001b[38;5;241;43m=\u001b[39;49m\u001b[43mverbose\u001b[49m\u001b[43m,\u001b[49m\n\u001b[0;32m    518\u001b[0m \u001b[43m    \u001b[49m\u001b[43mfit_params\u001b[49m\u001b[38;5;241;43m=\u001b[39;49m\u001b[43mfit_params\u001b[49m\u001b[43m,\u001b[49m\n\u001b[0;32m    519\u001b[0m \u001b[43m    \u001b[49m\u001b[43mpre_dispatch\u001b[49m\u001b[38;5;241;43m=\u001b[39;49m\u001b[43mpre_dispatch\u001b[49m\u001b[43m,\u001b[49m\n\u001b[0;32m    520\u001b[0m \u001b[43m    \u001b[49m\u001b[43merror_score\u001b[49m\u001b[38;5;241;43m=\u001b[39;49m\u001b[43merror_score\u001b[49m\u001b[43m,\u001b[49m\n\u001b[0;32m    521\u001b[0m \u001b[43m\u001b[49m\u001b[43m)\u001b[49m\n\u001b[0;32m    522\u001b[0m \u001b[38;5;28;01mreturn\u001b[39;00m cv_results[\u001b[38;5;124m\"\u001b[39m\u001b[38;5;124mtest_score\u001b[39m\u001b[38;5;124m\"\u001b[39m]\n",
      "File \u001b[1;32mC:\\ProgramData\\Anaconda3\\lib\\site-packages\\sklearn\\model_selection\\_validation.py:267\u001b[0m, in \u001b[0;36mcross_validate\u001b[1;34m(estimator, X, y, groups, scoring, cv, n_jobs, verbose, fit_params, pre_dispatch, return_train_score, return_estimator, error_score)\u001b[0m\n\u001b[0;32m    264\u001b[0m \u001b[38;5;66;03m# We clone the estimator to make sure that all the folds are\u001b[39;00m\n\u001b[0;32m    265\u001b[0m \u001b[38;5;66;03m# independent, and that it is pickle-able.\u001b[39;00m\n\u001b[0;32m    266\u001b[0m parallel \u001b[38;5;241m=\u001b[39m Parallel(n_jobs\u001b[38;5;241m=\u001b[39mn_jobs, verbose\u001b[38;5;241m=\u001b[39mverbose, pre_dispatch\u001b[38;5;241m=\u001b[39mpre_dispatch)\n\u001b[1;32m--> 267\u001b[0m results \u001b[38;5;241m=\u001b[39m \u001b[43mparallel\u001b[49m\u001b[43m(\u001b[49m\n\u001b[0;32m    268\u001b[0m \u001b[43m    \u001b[49m\u001b[43mdelayed\u001b[49m\u001b[43m(\u001b[49m\u001b[43m_fit_and_score\u001b[49m\u001b[43m)\u001b[49m\u001b[43m(\u001b[49m\n\u001b[0;32m    269\u001b[0m \u001b[43m        \u001b[49m\u001b[43mclone\u001b[49m\u001b[43m(\u001b[49m\u001b[43mestimator\u001b[49m\u001b[43m)\u001b[49m\u001b[43m,\u001b[49m\n\u001b[0;32m    270\u001b[0m \u001b[43m        \u001b[49m\u001b[43mX\u001b[49m\u001b[43m,\u001b[49m\n\u001b[0;32m    271\u001b[0m \u001b[43m        \u001b[49m\u001b[43my\u001b[49m\u001b[43m,\u001b[49m\n\u001b[0;32m    272\u001b[0m \u001b[43m        \u001b[49m\u001b[43mscorers\u001b[49m\u001b[43m,\u001b[49m\n\u001b[0;32m    273\u001b[0m \u001b[43m        \u001b[49m\u001b[43mtrain\u001b[49m\u001b[43m,\u001b[49m\n\u001b[0;32m    274\u001b[0m \u001b[43m        \u001b[49m\u001b[43mtest\u001b[49m\u001b[43m,\u001b[49m\n\u001b[0;32m    275\u001b[0m \u001b[43m        \u001b[49m\u001b[43mverbose\u001b[49m\u001b[43m,\u001b[49m\n\u001b[0;32m    276\u001b[0m \u001b[43m        \u001b[49m\u001b[38;5;28;43;01mNone\u001b[39;49;00m\u001b[43m,\u001b[49m\n\u001b[0;32m    277\u001b[0m \u001b[43m        \u001b[49m\u001b[43mfit_params\u001b[49m\u001b[43m,\u001b[49m\n\u001b[0;32m    278\u001b[0m \u001b[43m        \u001b[49m\u001b[43mreturn_train_score\u001b[49m\u001b[38;5;241;43m=\u001b[39;49m\u001b[43mreturn_train_score\u001b[49m\u001b[43m,\u001b[49m\n\u001b[0;32m    279\u001b[0m \u001b[43m        \u001b[49m\u001b[43mreturn_times\u001b[49m\u001b[38;5;241;43m=\u001b[39;49m\u001b[38;5;28;43;01mTrue\u001b[39;49;00m\u001b[43m,\u001b[49m\n\u001b[0;32m    280\u001b[0m \u001b[43m        \u001b[49m\u001b[43mreturn_estimator\u001b[49m\u001b[38;5;241;43m=\u001b[39;49m\u001b[43mreturn_estimator\u001b[49m\u001b[43m,\u001b[49m\n\u001b[0;32m    281\u001b[0m \u001b[43m        \u001b[49m\u001b[43merror_score\u001b[49m\u001b[38;5;241;43m=\u001b[39;49m\u001b[43merror_score\u001b[49m\u001b[43m,\u001b[49m\n\u001b[0;32m    282\u001b[0m \u001b[43m    \u001b[49m\u001b[43m)\u001b[49m\n\u001b[0;32m    283\u001b[0m \u001b[43m    \u001b[49m\u001b[38;5;28;43;01mfor\u001b[39;49;00m\u001b[43m \u001b[49m\u001b[43mtrain\u001b[49m\u001b[43m,\u001b[49m\u001b[43m \u001b[49m\u001b[43mtest\u001b[49m\u001b[43m \u001b[49m\u001b[38;5;129;43;01min\u001b[39;49;00m\u001b[43m \u001b[49m\u001b[43mcv\u001b[49m\u001b[38;5;241;43m.\u001b[39;49m\u001b[43msplit\u001b[49m\u001b[43m(\u001b[49m\u001b[43mX\u001b[49m\u001b[43m,\u001b[49m\u001b[43m \u001b[49m\u001b[43my\u001b[49m\u001b[43m,\u001b[49m\u001b[43m \u001b[49m\u001b[43mgroups\u001b[49m\u001b[43m)\u001b[49m\n\u001b[0;32m    284\u001b[0m \u001b[43m\u001b[49m\u001b[43m)\u001b[49m\n\u001b[0;32m    286\u001b[0m _warn_about_fit_failures(results, error_score)\n\u001b[0;32m    288\u001b[0m \u001b[38;5;66;03m# For callabe scoring, the return type is only know after calling. If the\u001b[39;00m\n\u001b[0;32m    289\u001b[0m \u001b[38;5;66;03m# return type is a dictionary, the error scores can now be inserted with\u001b[39;00m\n\u001b[0;32m    290\u001b[0m \u001b[38;5;66;03m# the correct key.\u001b[39;00m\n",
      "File \u001b[1;32mC:\\ProgramData\\Anaconda3\\lib\\site-packages\\joblib\\parallel.py:1061\u001b[0m, in \u001b[0;36mParallel.__call__\u001b[1;34m(self, iterable)\u001b[0m\n\u001b[0;32m   1058\u001b[0m     \u001b[38;5;28mself\u001b[39m\u001b[38;5;241m.\u001b[39m_iterating \u001b[38;5;241m=\u001b[39m \u001b[38;5;28;01mFalse\u001b[39;00m\n\u001b[0;32m   1060\u001b[0m \u001b[38;5;28;01mwith\u001b[39;00m \u001b[38;5;28mself\u001b[39m\u001b[38;5;241m.\u001b[39m_backend\u001b[38;5;241m.\u001b[39mretrieval_context():\n\u001b[1;32m-> 1061\u001b[0m     \u001b[38;5;28;43mself\u001b[39;49m\u001b[38;5;241;43m.\u001b[39;49m\u001b[43mretrieve\u001b[49m\u001b[43m(\u001b[49m\u001b[43m)\u001b[49m\n\u001b[0;32m   1062\u001b[0m \u001b[38;5;66;03m# Make sure that we get a last message telling us we are done\u001b[39;00m\n\u001b[0;32m   1063\u001b[0m elapsed_time \u001b[38;5;241m=\u001b[39m time\u001b[38;5;241m.\u001b[39mtime() \u001b[38;5;241m-\u001b[39m \u001b[38;5;28mself\u001b[39m\u001b[38;5;241m.\u001b[39m_start_time\n",
      "File \u001b[1;32mC:\\ProgramData\\Anaconda3\\lib\\site-packages\\joblib\\parallel.py:938\u001b[0m, in \u001b[0;36mParallel.retrieve\u001b[1;34m(self)\u001b[0m\n\u001b[0;32m    936\u001b[0m \u001b[38;5;28;01mtry\u001b[39;00m:\n\u001b[0;32m    937\u001b[0m     \u001b[38;5;28;01mif\u001b[39;00m \u001b[38;5;28mgetattr\u001b[39m(\u001b[38;5;28mself\u001b[39m\u001b[38;5;241m.\u001b[39m_backend, \u001b[38;5;124m'\u001b[39m\u001b[38;5;124msupports_timeout\u001b[39m\u001b[38;5;124m'\u001b[39m, \u001b[38;5;28;01mFalse\u001b[39;00m):\n\u001b[1;32m--> 938\u001b[0m         \u001b[38;5;28mself\u001b[39m\u001b[38;5;241m.\u001b[39m_output\u001b[38;5;241m.\u001b[39mextend(\u001b[43mjob\u001b[49m\u001b[38;5;241;43m.\u001b[39;49m\u001b[43mget\u001b[49m\u001b[43m(\u001b[49m\u001b[43mtimeout\u001b[49m\u001b[38;5;241;43m=\u001b[39;49m\u001b[38;5;28;43mself\u001b[39;49m\u001b[38;5;241;43m.\u001b[39;49m\u001b[43mtimeout\u001b[49m\u001b[43m)\u001b[49m)\n\u001b[0;32m    939\u001b[0m     \u001b[38;5;28;01melse\u001b[39;00m:\n\u001b[0;32m    940\u001b[0m         \u001b[38;5;28mself\u001b[39m\u001b[38;5;241m.\u001b[39m_output\u001b[38;5;241m.\u001b[39mextend(job\u001b[38;5;241m.\u001b[39mget())\n",
      "File \u001b[1;32mC:\\ProgramData\\Anaconda3\\lib\\site-packages\\joblib\\_parallel_backends.py:542\u001b[0m, in \u001b[0;36mLokyBackend.wrap_future_result\u001b[1;34m(future, timeout)\u001b[0m\n\u001b[0;32m    539\u001b[0m \u001b[38;5;124;03m\"\"\"Wrapper for Future.result to implement the same behaviour as\u001b[39;00m\n\u001b[0;32m    540\u001b[0m \u001b[38;5;124;03mAsyncResults.get from multiprocessing.\"\"\"\u001b[39;00m\n\u001b[0;32m    541\u001b[0m \u001b[38;5;28;01mtry\u001b[39;00m:\n\u001b[1;32m--> 542\u001b[0m     \u001b[38;5;28;01mreturn\u001b[39;00m \u001b[43mfuture\u001b[49m\u001b[38;5;241;43m.\u001b[39;49m\u001b[43mresult\u001b[49m\u001b[43m(\u001b[49m\u001b[43mtimeout\u001b[49m\u001b[38;5;241;43m=\u001b[39;49m\u001b[43mtimeout\u001b[49m\u001b[43m)\u001b[49m\n\u001b[0;32m    543\u001b[0m \u001b[38;5;28;01mexcept\u001b[39;00m CfTimeoutError \u001b[38;5;28;01mas\u001b[39;00m e:\n\u001b[0;32m    544\u001b[0m     \u001b[38;5;28;01mraise\u001b[39;00m \u001b[38;5;167;01mTimeoutError\u001b[39;00m \u001b[38;5;28;01mfrom\u001b[39;00m \u001b[38;5;21;01me\u001b[39;00m\n",
      "File \u001b[1;32mC:\\ProgramData\\Anaconda3\\lib\\concurrent\\futures\\_base.py:441\u001b[0m, in \u001b[0;36mFuture.result\u001b[1;34m(self, timeout)\u001b[0m\n\u001b[0;32m    438\u001b[0m \u001b[38;5;28;01melif\u001b[39;00m \u001b[38;5;28mself\u001b[39m\u001b[38;5;241m.\u001b[39m_state \u001b[38;5;241m==\u001b[39m FINISHED:\n\u001b[0;32m    439\u001b[0m     \u001b[38;5;28;01mreturn\u001b[39;00m \u001b[38;5;28mself\u001b[39m\u001b[38;5;241m.\u001b[39m__get_result()\n\u001b[1;32m--> 441\u001b[0m \u001b[38;5;28;43mself\u001b[39;49m\u001b[38;5;241;43m.\u001b[39;49m\u001b[43m_condition\u001b[49m\u001b[38;5;241;43m.\u001b[39;49m\u001b[43mwait\u001b[49m\u001b[43m(\u001b[49m\u001b[43mtimeout\u001b[49m\u001b[43m)\u001b[49m\n\u001b[0;32m    443\u001b[0m \u001b[38;5;28;01mif\u001b[39;00m \u001b[38;5;28mself\u001b[39m\u001b[38;5;241m.\u001b[39m_state \u001b[38;5;129;01min\u001b[39;00m [CANCELLED, CANCELLED_AND_NOTIFIED]:\n\u001b[0;32m    444\u001b[0m     \u001b[38;5;28;01mraise\u001b[39;00m CancelledError()\n",
      "File \u001b[1;32mC:\\ProgramData\\Anaconda3\\lib\\threading.py:312\u001b[0m, in \u001b[0;36mCondition.wait\u001b[1;34m(self, timeout)\u001b[0m\n\u001b[0;32m    310\u001b[0m \u001b[38;5;28;01mtry\u001b[39;00m:    \u001b[38;5;66;03m# restore state no matter what (e.g., KeyboardInterrupt)\u001b[39;00m\n\u001b[0;32m    311\u001b[0m     \u001b[38;5;28;01mif\u001b[39;00m timeout \u001b[38;5;129;01mis\u001b[39;00m \u001b[38;5;28;01mNone\u001b[39;00m:\n\u001b[1;32m--> 312\u001b[0m         \u001b[43mwaiter\u001b[49m\u001b[38;5;241;43m.\u001b[39;49m\u001b[43macquire\u001b[49m\u001b[43m(\u001b[49m\u001b[43m)\u001b[49m\n\u001b[0;32m    313\u001b[0m         gotit \u001b[38;5;241m=\u001b[39m \u001b[38;5;28;01mTrue\u001b[39;00m\n\u001b[0;32m    314\u001b[0m     \u001b[38;5;28;01melse\u001b[39;00m:\n",
      "\u001b[1;31mKeyboardInterrupt\u001b[0m: "
     ]
    }
   ],
   "source": [
    "np.random.seed (1)\n",
    "dframe1 = pd.DataFrame(columns=['Accuracy', 'Std_Dev'])\n",
    "\n",
    "for i in range(1, 101):\n",
    "    print(i)\n",
    "    df2 = df1.groupby('APPRDX').apply(lambda x: x.sample(15))\n",
    "    X = df2.drop('APPRDX', axis = 1)\n",
    "    y = df2['APPRDX']\n",
    "    random_forest_model = RandomForestClassifier(n_estimators = 100, max_depth = 5, criterion = 'gini')\n",
    "    scores = cross_val_score(random_forest_model, X, y, cv = 10, n_jobs = -1)\n",
    "    mean_score = scores.mean()\n",
    "    print(f'Mean accuracy: {mean_score}')\n",
    "    new_row = {'Accuracy': mean_score, 'Std_Dev': std(scores)}\n",
    "    dframe1 = pd.concat([dframe1, pd.DataFrame(new_row, index=[0])], ignore_index=True)\n"
   ]
  },
  {
   "cell_type": "code",
   "execution_count": null,
   "metadata": {
    "ExecuteTime": {
     "end_time": "2023-04-02T09:31:55.712360Z",
     "start_time": "2023-04-02T09:31:55.712360Z"
    }
   },
   "outputs": [],
   "source": [
    "print(mean(dframe1['Accuracy']))\n",
    "dframe1.to_csv (\"NMI_Methylome_Female15withFeats_100RF.csv\", index=False)"
   ]
  },
  {
   "cell_type": "markdown",
   "metadata": {},
   "source": [
    "## NMI 0.13 with Common Features "
   ]
  },
  {
   "cell_type": "code",
   "execution_count": null,
   "metadata": {
    "ExecuteTime": {
     "end_time": "2023-04-02T09:31:55.712360Z",
     "start_time": "2023-04-02T09:31:55.712360Z"
    }
   },
   "outputs": [],
   "source": [
    "df = pd.read_csv('NMI_Methylome_Female13_Data.csv')\n",
    "df['APPRDX'] = df['APPRDX'] -1\n",
    "df2 = pd.read_csv('Any2Common_inAll45Feats_Data_Female.csv')\n",
    "df1 = pd.merge(df, df2, on = 'PATNO', how='inner')\n",
    "df1 = df1.drop(['PATNO'], axis=1)\n",
    "dff2 = df1\n",
    "print(df1.shape)\n",
    "df1.head(2)"
   ]
  },
  {
   "cell_type": "code",
   "execution_count": null,
   "metadata": {
    "ExecuteTime": {
     "end_time": "2023-04-02T09:31:55.712360Z",
     "start_time": "2023-04-02T09:31:55.712360Z"
    },
    "scrolled": true
   },
   "outputs": [],
   "source": [
    "np.random.seed (1)\n",
    "dframe1 = pd.DataFrame(columns=['Accuracy', 'Std_Dev'])\n",
    "\n",
    "for i in range(1, 101):\n",
    "    print(i)\n",
    "    df2 = df1.groupby('APPRDX').apply(lambda x: x.sample(15))\n",
    "    X = df2.drop('APPRDX', axis = 1)\n",
    "    y = df2['APPRDX']\n",
    "    random_forest_model = RandomForestClassifier(n_estimators = 100, max_depth = 5, criterion = 'gini')\n",
    "    scores = cross_val_score(random_forest_model, X, y, cv = 10, n_jobs = -1)\n",
    "    mean_score = scores.mean()\n",
    "    print(f'Mean accuracy: {mean_score}')\n",
    "    new_row = {'Accuracy': mean_score, 'Std_Dev': std(scores)}\n",
    "    dframe1 = pd.concat([dframe1, pd.DataFrame(new_row, index=[0])], ignore_index=True)\n"
   ]
  },
  {
   "cell_type": "code",
   "execution_count": null,
   "metadata": {
    "ExecuteTime": {
     "end_time": "2023-04-02T09:31:55.712360Z",
     "start_time": "2023-04-02T09:31:55.712360Z"
    }
   },
   "outputs": [],
   "source": [
    "print(mean(dframe1['Accuracy']))\n",
    "dframe1.to_csv (\"NMI_Methylome_Female13withFeats_100RF.csv\")"
   ]
  },
  {
   "cell_type": "markdown",
   "metadata": {},
   "source": [
    "## NMI 0.12 with Common Features "
   ]
  },
  {
   "cell_type": "code",
   "execution_count": null,
   "metadata": {
    "ExecuteTime": {
     "end_time": "2023-04-02T09:31:55.712360Z",
     "start_time": "2023-04-02T09:31:55.712360Z"
    }
   },
   "outputs": [],
   "source": [
    "df = pd.read_csv('NMI_Methylome_Female12_Data.csv')\n",
    "df['APPRDX'] = df['APPRDX'] -1\n",
    "df2 = pd.read_csv('Any2Common_inAll45Feats_Data_Female.csv')\n",
    "df1 = pd.merge(df, df2, on = 'PATNO', how='inner')\n",
    "df1 = df1.drop(['PATNO'], axis=1)\n",
    "dff3 = df1\n",
    "print(df1.shape)\n",
    "df1.head(2)"
   ]
  },
  {
   "cell_type": "code",
   "execution_count": null,
   "metadata": {
    "ExecuteTime": {
     "end_time": "2023-04-02T09:31:55.712360Z",
     "start_time": "2023-04-02T09:31:55.712360Z"
    },
    "scrolled": true
   },
   "outputs": [],
   "source": [
    "np.random.seed (1)\n",
    "dframe1 = pd.DataFrame(columns=['Accuracy', 'Std_Dev'])\n",
    "\n",
    "for i in range(1, 101):\n",
    "    print(i)\n",
    "    df2 = df1.groupby('APPRDX').apply(lambda x: x.sample(15))\n",
    "    X = df2.drop('APPRDX', axis = 1)\n",
    "    y = df2['APPRDX']\n",
    "    random_forest_model = RandomForestClassifier(n_estimators = 100, max_depth = 5, criterion = 'gini')\n",
    "    scores = cross_val_score(random_forest_model, X, y, cv = 10, n_jobs = -1)\n",
    "    mean_score = scores.mean()\n",
    "    print(f'Mean accuracy: {mean_score}')\n",
    "    new_row = {'Accuracy': mean_score, 'Std_Dev': std(scores)}\n",
    "    dframe1 = pd.concat([dframe1, pd.DataFrame(new_row, index=[0])], ignore_index=True)\n"
   ]
  },
  {
   "cell_type": "code",
   "execution_count": null,
   "metadata": {
    "ExecuteTime": {
     "end_time": "2023-04-02T09:31:55.727955Z",
     "start_time": "2023-04-02T09:31:55.727955Z"
    }
   },
   "outputs": [],
   "source": [
    "print(mean(dframe1['Accuracy']))\n",
    "dframe1.to_csv (\"NMI_Methylome_Female12withFeats_100RF.csv\")"
   ]
  },
  {
   "cell_type": "markdown",
   "metadata": {},
   "source": [
    "## Merged Top 50 CpGs with Common Features "
   ]
  },
  {
   "cell_type": "code",
   "execution_count": null,
   "metadata": {
    "ExecuteTime": {
     "end_time": "2023-04-02T09:31:55.727955Z",
     "start_time": "2023-04-02T09:31:55.727955Z"
    }
   },
   "outputs": [],
   "source": [
    "df = pd.read_csv('All5_Top50sCpG_Female.csv')\n",
    "df['APPRDX'] = df['APPRDX'] -1\n",
    "df2 = pd.read_csv('Any2Common_inAll45Feats_Data_Female.csv')\n",
    "df1 = pd.merge(df, df2, on = 'PATNO', how='inner')\n",
    "df1 = df1.drop(['PATNO'], axis=1)\n",
    "dff4 = df1\n",
    "print(df1.shape)\n",
    "df1.head(2)"
   ]
  },
  {
   "cell_type": "code",
   "execution_count": null,
   "metadata": {
    "ExecuteTime": {
     "end_time": "2023-04-02T09:31:55.727955Z",
     "start_time": "2023-04-02T09:31:55.727955Z"
    },
    "scrolled": true
   },
   "outputs": [],
   "source": [
    "np.random.seed (1)\n",
    "dframe1 = pd.DataFrame(columns=['Accuracy', 'Std_Dev'])\n",
    "\n",
    "for i in range(1, 101):\n",
    "    print(i)\n",
    "    df2 = df1.groupby('APPRDX').apply(lambda x: x.sample(15))\n",
    "    X = df2.drop('APPRDX', axis = 1)\n",
    "    y = df2['APPRDX']\n",
    "    random_forest_model = RandomForestClassifier(n_estimators = 100, max_depth = 5, criterion = 'gini')\n",
    "    scores = cross_val_score(random_forest_model, X, y, cv = 10, n_jobs = -1)\n",
    "    mean_score = scores.mean()\n",
    "    print(f'Mean accuracy: {mean_score}')\n",
    "    new_row = {'Accuracy': mean_score, 'Std_Dev': std(scores)}\n",
    "    dframe1 = pd.concat([dframe1, pd.DataFrame(new_row, index=[0])], ignore_index=True)\n"
   ]
  },
  {
   "cell_type": "code",
   "execution_count": null,
   "metadata": {
    "ExecuteTime": {
     "end_time": "2023-04-02T09:31:55.727955Z",
     "start_time": "2023-04-02T09:31:55.727955Z"
    }
   },
   "outputs": [],
   "source": [
    "print(mean(dframe1['Accuracy']))\n",
    "dframe1.to_csv (\"All5_Top50sCpG_Female_withFeats_100RF.csv\")"
   ]
  },
  {
   "cell_type": "markdown",
   "metadata": {},
   "source": [
    "## Combined ROC-AUC"
   ]
  },
  {
   "cell_type": "code",
   "execution_count": null,
   "metadata": {
    "ExecuteTime": {
     "end_time": "2023-04-02T09:31:55.727955Z",
     "start_time": "2023-04-02T09:31:55.727955Z"
    }
   },
   "outputs": [],
   "source": [
    "# First DataFrame\n",
    "dataset1 = dff1.groupby('APPRDX').apply(lambda x: x.sample(15, random_state=1))\n",
    "X1 = dataset1.iloc[:, 1:].values\n",
    "y1 = dataset1.iloc[:, 0].values\n",
    "classifier1 = RandomForestClassifier(n_estimators=100, criterion='gini')\n",
    "\n",
    "# Generate predicted probabilities using cross-validation\n",
    "y_prob1 = cross_val_predict(classifier1, X1, y1, cv=10, method='predict_proba')\n",
    "\n",
    "# Calculate the false positive rate and true positive rate for different thresholds\n",
    "fpr1, tpr1, thresholds1 = roc_curve(y1, y_prob1[:, 1], pos_label=1)\n",
    "\n",
    "# Calculate the area under the ROC curve\n",
    "roc_auc1 = auc(fpr1, tpr1)\n",
    "\n",
    "# Second DataFrame\n",
    "dataset2 = dff2.groupby('APPRDX').apply(lambda x: x.sample(15, random_state=1))\n",
    "X2 = dataset2.iloc[:, 1:].values\n",
    "y2 = dataset2.iloc[:, 0].values\n",
    "classifier2 = RandomForestClassifier(n_estimators=100, criterion='gini')\n",
    "y_prob2 = cross_val_predict(classifier2, X2, y2, cv=10, method='predict_proba')\n",
    "fpr2, tpr2, thresholds2 = roc_curve(y2, y_prob2[:, 1], pos_label=1)\n",
    "roc_auc2 = auc(fpr2, tpr2)\n",
    "\n",
    "# Third DataFrame\n",
    "dataset3 = dff3.groupby('APPRDX').apply(lambda x: x.sample(15, random_state=1))\n",
    "X3 = dataset3.iloc[:, 1:].values\n",
    "y3 = dataset3.iloc[:, 0].values\n",
    "classifier3 = RandomForestClassifier(n_estimators=100, criterion='gini')\n",
    "y_prob3 = cross_val_predict(classifier3, X3, y3, cv=10, method='predict_proba')\n",
    "fpr3, tpr3, thresholds3 = roc_curve(y3, y_prob3[:, 1], pos_label=1)\n",
    "roc_auc3 = auc(fpr3, tpr3)\n",
    "\n",
    "# Fourth DataFrame\n",
    "dataset4 = dff4.groupby('APPRDX').apply(lambda x: x.sample(15, random_state=1))\n",
    "X4 = dataset4.iloc[:, 1:].values\n",
    "y4 = dataset4.iloc[:, 0].values\n",
    "classifier4 = RandomForestClassifier(n_estimators=100, criterion='gini')\n",
    "y_prob4 = cross_val_predict(classifier4, X4, y4, cv=10, method='predict_proba')\n",
    "fpr4, tpr4, thresholds4 = roc_curve(y4, y_prob4[:, 1], pos_label=1)\n",
    "roc_auc4 = auc(fpr4, tpr4)\n",
    "\n",
    "\n",
    "# Plot the ROC curves for all three dataframes in a single plot\n",
    "plt.plot(fpr1, tpr1, color='r', lw=2, label='NMI_15 (AUC = %0.2f)' % roc_auc1)\n",
    "plt.plot(fpr2, tpr2, color='g', lw=2, label='NMI_13 (AUC = %0.2f)' % roc_auc2)\n",
    "plt.plot(fpr3, tpr3, color='b', lw=2, label='NMI_12 (AUC = %0.2f)' % roc_auc3)\n",
    "plt.plot(fpr4, tpr4, color='y', lw=2, label='Merge Top 50 (AUC = %0.2f)' % roc_auc4)\n",
    "plt.plot([0, 1], [0, 1], color='k', lw=1.5, linestyle='--')\n",
    "plt.xlim([0.0, 1.0])\n",
    "plt.ylim([0.0, 1.05])\n",
    "plt.xticks(fontweight='bold')\n",
    "plt.yticks(fontweight='bold')\n",
    "plt.xlabel('False Positive Rate', fontweight='bold', fontsize=12)\n",
    "plt.ylabel('True Positive Rate', fontweight='bold', fontsize=12)\n",
    "plt.title('ROC-AUC: NMI, Top 50 Features - Female', fontweight='bold', fontsize=14)\n",
    "plt.legend(loc=\"lower right\")\n",
    "\n",
    "# Save the plot as SVG and Pdff files\n",
    "plt.savefig('ROC_AUC_NMI_TopFeat_withFeat_Female.svg')\n",
    "plt.savefig('ROC_AUC_NMI_TopFeat_withFeat_Female.pdf')\n",
    "\n",
    "# Show the plot\n",
    "plt.show()"
   ]
  },
  {
   "cell_type": "code",
   "execution_count": null,
   "metadata": {
    "ExecuteTime": {
     "end_time": "2023-04-02T09:31:55.727955Z",
     "start_time": "2023-04-02T09:31:55.727955Z"
    }
   },
   "outputs": [],
   "source": [
    "# First DataFrame\n",
    "tn1, fp1, fn1, tp1 = confusion_matrix(y1, np.argmax(y_prob1, axis=1)).ravel()\n",
    "sensitivity1 = tp1 / (tp1 + fn1)\n",
    "specificity1 = tn1 / (tn1 + fp1)\n",
    "balanced_accuracy1 = (sensitivity1 + specificity1) / 2\n",
    "\n",
    "#Second DataFrame\n",
    "tn2, fp2, fn2, tp2 = confusion_matrix(y2, np.argmax(y_prob2, axis=1)).ravel()\n",
    "sensitivity2 = tp2 / (tp2 + fn2)\n",
    "specificity2 = tn2 / (tn2 + fp2)\n",
    "balanced_accuracy2 = (sensitivity2 + specificity2) / 2\n",
    "\n",
    "#Third DataFrame\n",
    "tn3, fp3, fn3, tp3 = confusion_matrix(y3, np.argmax(y_prob3, axis=1)).ravel()\n",
    "sensitivity3 = tp3 / (tp3 + fn3)\n",
    "specificity3 = tn3 / (tn3 + fp3)\n",
    "balanced_accuracy3 = (sensitivity3 + specificity3) / 2\n",
    "\n",
    "#Fourth DataFrame\n",
    "tn4, fp4, fn4, tp4 = confusion_matrix(y4, np.argmax(y_prob4, axis=1)).ravel()\n",
    "sensitivity4 = tp4 / (tp4 + fn4)\n",
    "specificity4 = tn4 / (tn4 + fp4)\n",
    "balanced_accuracy4 = (sensitivity4 + specificity4) / 2\n",
    "\n",
    "\n",
    "data = {\n",
    "    'NMI_15': [sensitivity1, specificity1, balanced_accuracy1],\n",
    "    'NMI_13': [sensitivity2, specificity2, balanced_accuracy2],\n",
    "    'NMI_12': [sensitivity3, specificity3, balanced_accuracy3],\n",
    "    'Merge_Top50': [sensitivity4, specificity4, balanced_accuracy4]\n",
    "}\n",
    "results_df = pd.DataFrame(data, index=['Sensitivity', 'Specificity', 'Balanced Accuracy'])\n",
    "\n",
    "results_df.to_csv('Table_NMI_mergeTop50_withFeat_Female.csv')\n",
    "results_df.head()"
   ]
  }
 ],
 "metadata": {
  "colab": {
   "authorship_tag": "ABX9TyPA7K2PAkEFgaKFIvslUMEc",
   "collapsed_sections": [],
   "machine_shape": "hm",
   "name": "random_forest_classification.ipynb",
   "provenance": [],
   "toc_visible": true
  },
  "kernelspec": {
   "display_name": "Python 3 (ipykernel)",
   "language": "python",
   "name": "python3"
  },
  "language_info": {
   "codemirror_mode": {
    "name": "ipython",
    "version": 3
   },
   "file_extension": ".py",
   "mimetype": "text/x-python",
   "name": "python",
   "nbconvert_exporter": "python",
   "pygments_lexer": "ipython3",
   "version": "3.9.16"
  },
  "toc": {
   "base_numbering": 1,
   "nav_menu": {},
   "number_sections": true,
   "sideBar": true,
   "skip_h1_title": false,
   "title_cell": "Table of Contents",
   "title_sidebar": "Contents",
   "toc_cell": false,
   "toc_position": {},
   "toc_section_display": true,
   "toc_window_display": false
  },
  "varInspector": {
   "cols": {
    "lenName": 16,
    "lenType": 16,
    "lenVar": 40
   },
   "kernels_config": {
    "python": {
     "delete_cmd_postfix": "",
     "delete_cmd_prefix": "del ",
     "library": "var_list.py",
     "varRefreshCmd": "print(var_dic_list())"
    },
    "r": {
     "delete_cmd_postfix": ") ",
     "delete_cmd_prefix": "rm(",
     "library": "var_list.r",
     "varRefreshCmd": "cat(var_dic_list()) "
    }
   },
   "types_to_exclude": [
    "module",
    "function",
    "builtin_function_or_method",
    "instance",
    "_Feature"
   ],
   "window_display": false
  }
 },
 "nbformat": 4,
 "nbformat_minor": 1
}
