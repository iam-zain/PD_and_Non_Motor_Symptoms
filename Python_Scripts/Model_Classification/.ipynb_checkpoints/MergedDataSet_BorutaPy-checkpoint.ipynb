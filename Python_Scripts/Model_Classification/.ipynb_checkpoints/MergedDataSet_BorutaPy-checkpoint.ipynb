{
 "cells": [
  {
   "cell_type": "code",
   "execution_count": 1,
   "id": "51c5704f",
   "metadata": {
    "ExecuteTime": {
     "end_time": "2023-05-22T10:44:09.607623Z",
     "start_time": "2023-05-22T10:44:08.150678Z"
    }
   },
   "outputs": [],
   "source": [
    "import numpy as np\n",
    "import pandas as pd\n",
    "from boruta import BorutaPy\n",
    "from sklearn.metrics import accuracy_score \n",
    "from sklearn.ensemble import RandomForestRegressor\n",
    "from sklearn.model_selection import train_test_split"
   ]
  },
  {
   "cell_type": "code",
   "execution_count": 2,
   "id": "5ff336b1",
   "metadata": {
    "ExecuteTime": {
     "end_time": "2023-05-22T10:44:11.143024Z",
     "start_time": "2023-05-22T10:44:09.607623Z"
    },
    "scrolled": true
   },
   "outputs": [
    {
     "name": "stdout",
     "output_type": "stream",
     "text": [
      "Z:\\Project_Top2B\\April_2023\\Files_Top2B\\CpG_inRow\n"
     ]
    },
    {
     "name": "stderr",
     "output_type": "stream",
     "text": [
      "C:\\Users\\system 4\\AppData\\Local\\Temp\\ipykernel_128\\2895854811.py:2: DtypeWarning: Columns (2,5,11,13,16,23,24,25,26,28,29,33,39,40,43,46,47,48,53,63,68,69,73,92,94,97,112,113,114,118,130,133,134,136,140,142,143,147,155,156,161,165,169,173,175,177,178,179,180,187,189,190,205,210,212,215,217,218,220,223,225,228,231,232,233,236,237,242,244,245,251,253,257,258,260,266,268,273,278,280,282,283,285,296,302,303,304,305,306,308,314,322,323,334,337,338,344,350,357,359,367,375,378,381,384,385,388,390,392,396,401,404,405,407,408,411,414,415,418,420,426,433,434,435,436,439,445,450,452,454,455,457,458,463,469,471,479,480,484,495,502,510,513,514,519,528,531,534,539,541,543,556,558,559,560,562,564,565,566,568,572,579,583,586,587,590,593,604,608,609,614,616,620,624,626,627,629,630,631,637,640,641,644,651,652,654,656,668,675,680,681,683,685,689,691,694,697,701,706,712,714,716,721,726,729,730,732,737,738,740,746,764,768,780,781,786,787,791,792,794,796,799,803,805,811,812,813,815,819,820,822,836,837,850,858,859,862,879,885,887,890,906,907,909,912,917,922,923,925,930,931,934,936,937,938,947,948,954,955,958,959,961,964,967,969,971,978,980,981,982,987,989,991,992,996,1000,1006,1010,1016,1021,1024,1025,1027,1029,1033,1035,1040,1042,1045,1047,1050,1055,1056,1062,1065,1066,1067,1068,1074,1079,1081,1093,1098,1099,1102,1106,1108,1111,1121,1123,1129,1135,1139,1142,1150,1160,1162,1163,1178,1179,1188,1201,1202,1210,1212,1214,1222,1224,1226,1233,1236,1238,1240,1243,1245,1246,1251,1254,1255,1256,1260,1262,1265,1269,1276,1278,1281,1285,1287,1288,1289,1290,1291,1300,1302,1304,1305,1307,1314,1316,1323,1325,1331,1333,1341,1343,1347,1351,1355,1356,1359,1369,1371,1374,1377,1381,1382,1385,1386,1393,1398,1404,1406,1410,1415,1416,1418,1422,1424,1425,1426,1432,1434,1440,1441,1450,1451,1457,1463,1476,1480,1485,1488,1489,1513,1516,1518,1525,1526,1538,1541,1550,1551,1558,1563,1565,1570,1574,1579,1589,1590,1593,1601,1604,1606,1608,1614,1619,1622,1625,1629,1632,1635,1640,1645,1646,1647,1648,1651,1654,1658,1660,1663,1664,1665,1667,1677,1680,1681,1684,1688,1690,1693,1694,1697,1706,1709,1710,1714,1716,1718,1719,1720,1722,1723,1735,1737,1742,1747,1749,1751,1753,1757,1759,1764,1767,1782,1785,1788,1791,1792,1793,1795,1800,1801,1805,1806,1808,1810,1812,1814,1815,1816,1817,1822,1823,1828,1829,1831,1833,1835,1838,1839,1841,1846,1855,1864,1871,1879,1881,1883,1884,1894,1897,1901,1905,1908,1919,1926,1929,1931,1932,1938,1940,1948,1949,1950,1952,1959,1964,1967,1968,1969,1970,1971,1980,1985,1987,1989,1993,1995,1997,2002,2003,2006,2009,2015,2020,2023,2024,2026,2027,2033,2034,2035,2040,2048,2053,2057,2059,2060,2062,2063,2075,2078,2087,2090,2095,2098,2103,2105,2112,2113,2114,2118,2119,2122,2123,2133,2134,2139,2142,2145,2148,2150,2152,2155,2157,2163,2165,2168,2171,2175,2176,2178,2182,2183,2186,2190,2191,2197,2199,2200,2201,2207,2211,2214,2216,2218,2219,2222,2223,2224,2227,2228,2229,2232,2234,2236,2237,2238,2239,2240,2242,2243,2245,2247,2249,2250,2255,2256,2259,2260,2265,2269,2276,2278,2284,2294,2295,2297,2298,2299,2300,2302,2304,2305,2307,2308,2314,2319,2321,2323,2326,2328,2329,2330,2332,2335,2337,2338,2342,2348,2352,2353,2356,2357,2358,2360,2362,2363,2365,2372,2373,2375,2386,2395,2397,2398,2399,2400,2402,2403,2404,2405,2408,2410,2415,2419,2421,2423,2431,2433,2438,2439,2445,2447,2450,2454,2458,2463,2465,2467,2470,2473,2476,2481,2482,2485,2486,2490,2493,2494,2496,2499,2501,2503,2505,2508,2512,2516,2517,2522,2523,2524,2533,2537,2539,2543,2544,2549,2556,2558,2559,2562,2563,2566,2574,2577,2579,2585,2587,2592,2594,2595,2598,2599,2607,2609,2612,2615,2620,2622,2626,2631,2639,2640,2643,2652,2656,2660,2668,2669,2678,2682,2689,2692,2698,2702,2705,2714,2717,2719,2725,2731,2738,2744,2746,2748,2750,2752,2755,2768,2770,2771,2774,2780,2796,2798,2799,2800,2801,2803,2805,2809,2813,2816,2818,2820,2821,2823,2831,2836,2837,2839,2840,2841,2843,2845,2859,2865,2866,2876,2885,2887,2888,2889,2893,2895,2896,2898,2907,2914,2915,2919,2926,2931,2932,2934,2945,2946,2947,2948,2952,2955,2956,2958,2960,2971,2972,2977,2978,2988,2989,2993,3000,3003,3007,3009,3015,3016,3021,3022,3023,3036,3038,3045,3048,3051,3052,3056,3057,3058,3064,3065,3068,3075,3076,3077,3078,3081,3083,3088,3103,3106,3108,3109,3111,3119,3123,3126,3128,3135,3139,3142,3147,3148,3149,3153,3159,3161,3162,3165,3169,3171,3172,3173,3176,3179,3181,3182,3183,3184,3187,3192) have mixed types. Specify dtype option on import or set low_memory=False.\n",
      "  data = pd.read_csv('Merged18_Top2B.csv')\n"
     ]
    },
    {
     "data": {
      "text/html": [
       "<div>\n",
       "<style scoped>\n",
       "    .dataframe tbody tr th:only-of-type {\n",
       "        vertical-align: middle;\n",
       "    }\n",
       "\n",
       "    .dataframe tbody tr th {\n",
       "        vertical-align: top;\n",
       "    }\n",
       "\n",
       "    .dataframe thead th {\n",
       "        text-align: right;\n",
       "    }\n",
       "</style>\n",
       "<table border=\"1\" class=\"dataframe\">\n",
       "  <thead>\n",
       "    <tr style=\"text-align: right;\">\n",
       "      <th></th>\n",
       "      <th>Age</th>\n",
       "      <th>cg00018024</th>\n",
       "      <th>cg00018539</th>\n",
       "      <th>cg00019511</th>\n",
       "      <th>cg00029353</th>\n",
       "      <th>cg00030423</th>\n",
       "      <th>cg00034416</th>\n",
       "      <th>cg00034611</th>\n",
       "      <th>cg00041368</th>\n",
       "      <th>cg00048759</th>\n",
       "      <th>...</th>\n",
       "      <th>cg27551895</th>\n",
       "      <th>cg27569265</th>\n",
       "      <th>cg27597926</th>\n",
       "      <th>cg27601855</th>\n",
       "      <th>cg27624319</th>\n",
       "      <th>cg27629898</th>\n",
       "      <th>cg27633533</th>\n",
       "      <th>cg27635069</th>\n",
       "      <th>cg27658967</th>\n",
       "      <th>cg27664120</th>\n",
       "    </tr>\n",
       "  </thead>\n",
       "  <tbody>\n",
       "    <tr>\n",
       "      <th>0</th>\n",
       "      <td>54.0</td>\n",
       "      <td>0.002752287</td>\n",
       "      <td>0.922941</td>\n",
       "      <td>0.93185</td>\n",
       "      <td>0.05592473</td>\n",
       "      <td>0.005002</td>\n",
       "      <td>0.000827</td>\n",
       "      <td>0.792639</td>\n",
       "      <td>0.950103</td>\n",
       "      <td>0.301871</td>\n",
       "      <td>...</td>\n",
       "      <td>0.13139</td>\n",
       "      <td>0.023274</td>\n",
       "      <td>0.050163282</td>\n",
       "      <td>0.047956</td>\n",
       "      <td>0.265469</td>\n",
       "      <td>0.674344</td>\n",
       "      <td>0.942482</td>\n",
       "      <td>0.157283</td>\n",
       "      <td>0.037267</td>\n",
       "      <td>0.932489</td>\n",
       "    </tr>\n",
       "  </tbody>\n",
       "</table>\n",
       "<p>1 rows × 3194 columns</p>\n",
       "</div>"
      ],
      "text/plain": [
       "    Age   cg00018024  cg00018539  cg00019511  cg00029353  cg00030423  \\\n",
       "0  54.0  0.002752287    0.922941     0.93185  0.05592473    0.005002   \n",
       "\n",
       "   cg00034416  cg00034611  cg00041368  cg00048759  ... cg27551895  cg27569265  \\\n",
       "0    0.000827    0.792639    0.950103    0.301871  ...    0.13139    0.023274   \n",
       "\n",
       "    cg27597926  cg27601855  cg27624319 cg27629898  cg27633533  cg27635069  \\\n",
       "0  0.050163282    0.047956    0.265469   0.674344    0.942482    0.157283   \n",
       "\n",
       "   cg27658967  cg27664120  \n",
       "0    0.037267    0.932489  \n",
       "\n",
       "[1 rows x 3194 columns]"
      ]
     },
     "execution_count": 2,
     "metadata": {},
     "output_type": "execute_result"
    }
   ],
   "source": [
    "%cd Z:\\Project_Top2B\\April_2023\\Files_Top2B\\CpG_inRow\n",
    "data = pd.read_csv('Merged18_Top2B.csv')\n",
    "data = data.drop(['CpG'], axis = 1)\n",
    "data.head(1)"
   ]
  },
  {
   "cell_type": "code",
   "execution_count": 3,
   "id": "00e456ed",
   "metadata": {
    "ExecuteTime": {
     "end_time": "2023-05-22T10:44:17.176575Z",
     "start_time": "2023-05-22T10:44:11.143024Z"
    }
   },
   "outputs": [
    {
     "ename": "KeyboardInterrupt",
     "evalue": "",
     "output_type": "error",
     "traceback": [
      "\u001b[1;31m---------------------------------------------------------------------------\u001b[0m",
      "\u001b[1;31mKeyboardInterrupt\u001b[0m                         Traceback (most recent call last)",
      "Cell \u001b[1;32mIn[3], line 7\u001b[0m\n\u001b[0;32m      4\u001b[0m \u001b[38;5;66;03m# Loop over each column and replace NaN values with column means\u001b[39;00m\n\u001b[0;32m      5\u001b[0m \u001b[38;5;28;01mfor\u001b[39;00m col \u001b[38;5;129;01min\u001b[39;00m data\u001b[38;5;241m.\u001b[39mcolumns:\n\u001b[0;32m      6\u001b[0m     \u001b[38;5;66;03m# Convert the column to numeric data type\u001b[39;00m\n\u001b[1;32m----> 7\u001b[0m     data[col] \u001b[38;5;241m=\u001b[39m pd\u001b[38;5;241m.\u001b[39mto_numeric(data[col])\n\u001b[0;32m      9\u001b[0m     \u001b[38;5;66;03m# Calculate the mean of the column\u001b[39;00m\n\u001b[0;32m     10\u001b[0m     col_mean \u001b[38;5;241m=\u001b[39m data[col]\u001b[38;5;241m.\u001b[39mmean()\n",
      "File \u001b[1;32mC:\\ProgramData\\Anaconda3\\lib\\site-packages\\pandas\\core\\frame.py:3655\u001b[0m, in \u001b[0;36mDataFrame.__setitem__\u001b[1;34m(self, key, value)\u001b[0m\n\u001b[0;32m   3652\u001b[0m     \u001b[38;5;28mself\u001b[39m\u001b[38;5;241m.\u001b[39m_setitem_array([key], value)\n\u001b[0;32m   3653\u001b[0m \u001b[38;5;28;01melse\u001b[39;00m:\n\u001b[0;32m   3654\u001b[0m     \u001b[38;5;66;03m# set column\u001b[39;00m\n\u001b[1;32m-> 3655\u001b[0m     \u001b[38;5;28;43mself\u001b[39;49m\u001b[38;5;241;43m.\u001b[39;49m\u001b[43m_set_item\u001b[49m\u001b[43m(\u001b[49m\u001b[43mkey\u001b[49m\u001b[43m,\u001b[49m\u001b[43m \u001b[49m\u001b[43mvalue\u001b[49m\u001b[43m)\u001b[49m\n",
      "File \u001b[1;32mC:\\ProgramData\\Anaconda3\\lib\\site-packages\\pandas\\core\\frame.py:3845\u001b[0m, in \u001b[0;36mDataFrame._set_item\u001b[1;34m(self, key, value)\u001b[0m\n\u001b[0;32m   3842\u001b[0m         \u001b[38;5;28;01mif\u001b[39;00m \u001b[38;5;28misinstance\u001b[39m(existing_piece, DataFrame):\n\u001b[0;32m   3843\u001b[0m             value \u001b[38;5;241m=\u001b[39m np\u001b[38;5;241m.\u001b[39mtile(value, (\u001b[38;5;28mlen\u001b[39m(existing_piece\u001b[38;5;241m.\u001b[39mcolumns), \u001b[38;5;241m1\u001b[39m))\u001b[38;5;241m.\u001b[39mT\n\u001b[1;32m-> 3845\u001b[0m \u001b[38;5;28;43mself\u001b[39;49m\u001b[38;5;241;43m.\u001b[39;49m\u001b[43m_set_item_mgr\u001b[49m\u001b[43m(\u001b[49m\u001b[43mkey\u001b[49m\u001b[43m,\u001b[49m\u001b[43m \u001b[49m\u001b[43mvalue\u001b[49m\u001b[43m)\u001b[49m\n",
      "File \u001b[1;32mC:\\ProgramData\\Anaconda3\\lib\\site-packages\\pandas\\core\\frame.py:3804\u001b[0m, in \u001b[0;36mDataFrame._set_item_mgr\u001b[1;34m(self, key, value)\u001b[0m\n\u001b[0;32m   3802\u001b[0m     \u001b[38;5;28mself\u001b[39m\u001b[38;5;241m.\u001b[39m_mgr\u001b[38;5;241m.\u001b[39minsert(\u001b[38;5;28mlen\u001b[39m(\u001b[38;5;28mself\u001b[39m\u001b[38;5;241m.\u001b[39m_info_axis), key, value)\n\u001b[0;32m   3803\u001b[0m \u001b[38;5;28;01melse\u001b[39;00m:\n\u001b[1;32m-> 3804\u001b[0m     \u001b[38;5;28;43mself\u001b[39;49m\u001b[38;5;241;43m.\u001b[39;49m\u001b[43m_iset_item_mgr\u001b[49m\u001b[43m(\u001b[49m\u001b[43mloc\u001b[49m\u001b[43m,\u001b[49m\u001b[43m \u001b[49m\u001b[43mvalue\u001b[49m\u001b[43m)\u001b[49m\n\u001b[0;32m   3806\u001b[0m \u001b[38;5;66;03m# check if we are modifying a copy\u001b[39;00m\n\u001b[0;32m   3807\u001b[0m \u001b[38;5;66;03m# try to set first as we want an invalid\u001b[39;00m\n\u001b[0;32m   3808\u001b[0m \u001b[38;5;66;03m# value exception to occur first\u001b[39;00m\n\u001b[0;32m   3809\u001b[0m \u001b[38;5;28;01mif\u001b[39;00m \u001b[38;5;28mlen\u001b[39m(\u001b[38;5;28mself\u001b[39m):\n",
      "File \u001b[1;32mC:\\ProgramData\\Anaconda3\\lib\\site-packages\\pandas\\core\\frame.py:3794\u001b[0m, in \u001b[0;36mDataFrame._iset_item_mgr\u001b[1;34m(self, loc, value, inplace)\u001b[0m\n\u001b[0;32m   3790\u001b[0m \u001b[38;5;28;01mdef\u001b[39;00m \u001b[38;5;21m_iset_item_mgr\u001b[39m(\n\u001b[0;32m   3791\u001b[0m     \u001b[38;5;28mself\u001b[39m, loc: \u001b[38;5;28mint\u001b[39m \u001b[38;5;241m|\u001b[39m \u001b[38;5;28mslice\u001b[39m \u001b[38;5;241m|\u001b[39m np\u001b[38;5;241m.\u001b[39mndarray, value, inplace: \u001b[38;5;28mbool\u001b[39m \u001b[38;5;241m=\u001b[39m \u001b[38;5;28;01mFalse\u001b[39;00m\n\u001b[0;32m   3792\u001b[0m ) \u001b[38;5;241m-\u001b[39m\u001b[38;5;241m>\u001b[39m \u001b[38;5;28;01mNone\u001b[39;00m:\n\u001b[0;32m   3793\u001b[0m     \u001b[38;5;66;03m# when called from _set_item_mgr loc can be anything returned from get_loc\u001b[39;00m\n\u001b[1;32m-> 3794\u001b[0m     \u001b[38;5;28;43mself\u001b[39;49m\u001b[38;5;241;43m.\u001b[39;49m\u001b[43m_mgr\u001b[49m\u001b[38;5;241;43m.\u001b[39;49m\u001b[43miset\u001b[49m\u001b[43m(\u001b[49m\u001b[43mloc\u001b[49m\u001b[43m,\u001b[49m\u001b[43m \u001b[49m\u001b[43mvalue\u001b[49m\u001b[43m,\u001b[49m\u001b[43m \u001b[49m\u001b[43minplace\u001b[49m\u001b[38;5;241;43m=\u001b[39;49m\u001b[43minplace\u001b[49m\u001b[43m)\u001b[49m\n\u001b[0;32m   3795\u001b[0m     \u001b[38;5;28mself\u001b[39m\u001b[38;5;241m.\u001b[39m_clear_item_cache()\n",
      "File \u001b[1;32mC:\\ProgramData\\Anaconda3\\lib\\site-packages\\pandas\\core\\internals\\managers.py:1151\u001b[0m, in \u001b[0;36mBlockManager.iset\u001b[1;34m(self, loc, value, inplace)\u001b[0m\n\u001b[0;32m   1149\u001b[0m             removed_blknos\u001b[38;5;241m.\u001b[39mappend(blkno_l)\n\u001b[0;32m   1150\u001b[0m         \u001b[38;5;28;01melse\u001b[39;00m:\n\u001b[1;32m-> 1151\u001b[0m             \u001b[43mblk\u001b[49m\u001b[38;5;241;43m.\u001b[39;49m\u001b[43mdelete\u001b[49m\u001b[43m(\u001b[49m\u001b[43mblk_locs\u001b[49m\u001b[43m)\u001b[49m\n\u001b[0;32m   1152\u001b[0m             \u001b[38;5;28mself\u001b[39m\u001b[38;5;241m.\u001b[39m_blklocs[blk\u001b[38;5;241m.\u001b[39mmgr_locs\u001b[38;5;241m.\u001b[39mindexer] \u001b[38;5;241m=\u001b[39m np\u001b[38;5;241m.\u001b[39marange(\u001b[38;5;28mlen\u001b[39m(blk))\n\u001b[0;32m   1154\u001b[0m \u001b[38;5;28;01mif\u001b[39;00m \u001b[38;5;28mlen\u001b[39m(removed_blknos):\n\u001b[0;32m   1155\u001b[0m     \u001b[38;5;66;03m# Remove blocks & update blknos accordingly\u001b[39;00m\n",
      "File \u001b[1;32mC:\\ProgramData\\Anaconda3\\lib\\site-packages\\pandas\\core\\internals\\blocks.py:388\u001b[0m, in \u001b[0;36mBlock.delete\u001b[1;34m(self, loc)\u001b[0m\n\u001b[0;32m    379\u001b[0m \u001b[38;5;124;03m\"\"\"\u001b[39;00m\n\u001b[0;32m    380\u001b[0m \u001b[38;5;124;03mDelete given loc(-s) from block in-place.\u001b[39;00m\n\u001b[0;32m    381\u001b[0m \u001b[38;5;124;03m\"\"\"\u001b[39;00m\n\u001b[0;32m    382\u001b[0m \u001b[38;5;66;03m# Argument 1 to \"delete\" has incompatible type \"Union[ndarray[Any, Any],\u001b[39;00m\n\u001b[0;32m    383\u001b[0m \u001b[38;5;66;03m# ExtensionArray]\"; expected \"Union[_SupportsArray[dtype[Any]],\u001b[39;00m\n\u001b[0;32m    384\u001b[0m \u001b[38;5;66;03m# Sequence[_SupportsArray[dtype[Any]]], Sequence[Sequence\u001b[39;00m\n\u001b[0;32m    385\u001b[0m \u001b[38;5;66;03m# [_SupportsArray[dtype[Any]]]], Sequence[Sequence[Sequence[\u001b[39;00m\n\u001b[0;32m    386\u001b[0m \u001b[38;5;66;03m# _SupportsArray[dtype[Any]]]]], Sequence[Sequence[Sequence[Sequence[\u001b[39;00m\n\u001b[0;32m    387\u001b[0m \u001b[38;5;66;03m# _SupportsArray[dtype[Any]]]]]]]\"  [arg-type]\u001b[39;00m\n\u001b[1;32m--> 388\u001b[0m \u001b[38;5;28mself\u001b[39m\u001b[38;5;241m.\u001b[39mvalues \u001b[38;5;241m=\u001b[39m \u001b[43mnp\u001b[49m\u001b[38;5;241;43m.\u001b[39;49m\u001b[43mdelete\u001b[49m\u001b[43m(\u001b[49m\u001b[38;5;28;43mself\u001b[39;49m\u001b[38;5;241;43m.\u001b[39;49m\u001b[43mvalues\u001b[49m\u001b[43m,\u001b[49m\u001b[43m \u001b[49m\u001b[43mloc\u001b[49m\u001b[43m,\u001b[49m\u001b[43m \u001b[49m\u001b[38;5;241;43m0\u001b[39;49m\u001b[43m)\u001b[49m  \u001b[38;5;66;03m# type: ignore[arg-type]\u001b[39;00m\n\u001b[0;32m    389\u001b[0m \u001b[38;5;28mself\u001b[39m\u001b[38;5;241m.\u001b[39mmgr_locs \u001b[38;5;241m=\u001b[39m \u001b[38;5;28mself\u001b[39m\u001b[38;5;241m.\u001b[39m_mgr_locs\u001b[38;5;241m.\u001b[39mdelete(loc)\n\u001b[0;32m    390\u001b[0m \u001b[38;5;28;01mtry\u001b[39;00m:\n",
      "File \u001b[1;32m<__array_function__ internals>:180\u001b[0m, in \u001b[0;36mdelete\u001b[1;34m(*args, **kwargs)\u001b[0m\n",
      "File \u001b[1;32mC:\\ProgramData\\Anaconda3\\lib\\site-packages\\numpy\\lib\\function_base.py:5168\u001b[0m, in \u001b[0;36mdelete\u001b[1;34m(arr, obj, axis)\u001b[0m\n\u001b[0;32m   5166\u001b[0m     slobj2 \u001b[38;5;241m=\u001b[39m [\u001b[38;5;28mslice\u001b[39m(\u001b[38;5;28;01mNone\u001b[39;00m)]\u001b[38;5;241m*\u001b[39mndim\n\u001b[0;32m   5167\u001b[0m     slobj2[axis] \u001b[38;5;241m=\u001b[39m \u001b[38;5;28mslice\u001b[39m(obj\u001b[38;5;241m+\u001b[39m\u001b[38;5;241m1\u001b[39m, \u001b[38;5;28;01mNone\u001b[39;00m)\n\u001b[1;32m-> 5168\u001b[0m     new[\u001b[38;5;28mtuple\u001b[39m(slobj)] \u001b[38;5;241m=\u001b[39m arr[\u001b[38;5;28mtuple\u001b[39m(slobj2)]\n\u001b[0;32m   5169\u001b[0m \u001b[38;5;28;01melse\u001b[39;00m:\n\u001b[0;32m   5170\u001b[0m     \u001b[38;5;28;01mif\u001b[39;00m obj\u001b[38;5;241m.\u001b[39mdtype \u001b[38;5;241m==\u001b[39m \u001b[38;5;28mbool\u001b[39m:\n",
      "\u001b[1;31mKeyboardInterrupt\u001b[0m: "
     ]
    }
   ],
   "source": [
    "# Replace 'void' values with NaN\n",
    "data = data.replace('void', np.nan)\n",
    "\n",
    "# Loop over each column and replace NaN values with column means\n",
    "for col in data.columns:\n",
    "    # Convert the column to numeric data type\n",
    "    data[col] = pd.to_numeric(data[col])\n",
    "    \n",
    "    # Calculate the mean of the column\n",
    "    col_mean = data[col].mean()\n",
    "    \n",
    "    # Replace NaN values with the column mean\n",
    "    data[col].fillna(col_mean, inplace=True)\n",
    "\n",
    "data.to_csv(\"Merged18_Top2B_Mean.csv\", index = False)\n",
    "data.head(2)"
   ]
  },
  {
   "cell_type": "code",
   "execution_count": null,
   "id": "ee22df7a",
   "metadata": {
    "ExecuteTime": {
     "end_time": "2023-05-22T10:44:17.176575Z",
     "start_time": "2023-05-22T10:44:17.176575Z"
    }
   },
   "outputs": [],
   "source": [
    "X = data.drop(['Age'], axis = 1)\n",
    "y = data['Age']\n",
    "X_train, X_test, y_train, y_test = train_test_split(X, y, test_size = .2, random_state = 1) "
   ]
  },
  {
   "cell_type": "code",
   "execution_count": null,
   "id": "c1ee3e48",
   "metadata": {
    "ExecuteTime": {
     "end_time": "2023-05-22T10:44:17.176575Z",
     "start_time": "2023-05-22T10:44:17.176575Z"
    }
   },
   "outputs": [],
   "source": [
    "rf_all_features = RandomForestRegressor(random_state=1)\n",
    "rf_all_features.fit(X_train, y_train)"
   ]
  },
  {
   "cell_type": "markdown",
   "id": "c2f0bbed",
   "metadata": {
    "ExecuteTime": {
     "end_time": "2023-02-06T04:25:14.735313Z",
     "start_time": "2023-02-06T04:25:13.854630Z"
    }
   },
   "source": [
    "accuracy_score(y_test, rf_all_features.predict(X_test))"
   ]
  },
  {
   "cell_type": "code",
   "execution_count": null,
   "id": "5ba608ac",
   "metadata": {
    "ExecuteTime": {
     "end_time": "2023-05-22T10:44:17.176575Z",
     "start_time": "2023-05-22T10:44:17.176575Z"
    },
    "scrolled": true
   },
   "outputs": [],
   "source": [
    "rfc = RandomForestRegressor(random_state=1)\n",
    "boruta_selector = BorutaPy(rfc, n_estimators= 'auto', verbose=1, random_state=1)\n",
    "boruta_selector.fit(np.array(X_train), np.array(y_train))  "
   ]
  },
  {
   "cell_type": "code",
   "execution_count": null,
   "id": "51f874e0",
   "metadata": {
    "ExecuteTime": {
     "end_time": "2023-05-22T10:44:17.176575Z",
     "start_time": "2023-05-22T10:44:17.176575Z"
    }
   },
   "outputs": [],
   "source": [
    "# print(\"Ranking: \",boruta_selector.ranking_)          \n",
    "print(\"No. of significant features: \", boruta_selector.n_features_)"
   ]
  },
  {
   "cell_type": "code",
   "execution_count": null,
   "id": "61cadc89",
   "metadata": {
    "ExecuteTime": {
     "end_time": "2023-05-22T10:44:17.176575Z",
     "start_time": "2023-05-22T10:44:17.176575Z"
    }
   },
   "outputs": [],
   "source": [
    "selected_rf_features = pd.DataFrame({'CpG':list(X_train.columns),\n",
    "                                       'Ranking':boruta_selector.ranking_})\n",
    "selected_rf_features = selected_rf_features.sort_values(by='Ranking')"
   ]
  },
  {
   "cell_type": "code",
   "execution_count": null,
   "id": "9605e163",
   "metadata": {
    "ExecuteTime": {
     "end_time": "2023-05-22T10:44:17.176575Z",
     "start_time": "2023-05-22T10:44:17.176575Z"
    }
   },
   "outputs": [],
   "source": [
    "selected_rf_features.to_csv ('CpG_BorutaPy_onAll.csv', index = False)"
   ]
  },
  {
   "cell_type": "code",
   "execution_count": null,
   "id": "71786413",
   "metadata": {},
   "outputs": [],
   "source": []
  }
 ],
 "metadata": {
  "kernelspec": {
   "display_name": "Python 3 (ipykernel)",
   "language": "python",
   "name": "python3"
  },
  "language_info": {
   "codemirror_mode": {
    "name": "ipython",
    "version": 3
   },
   "file_extension": ".py",
   "mimetype": "text/x-python",
   "name": "python",
   "nbconvert_exporter": "python",
   "pygments_lexer": "ipython3",
   "version": "3.9.16"
  },
  "toc": {
   "base_numbering": 1,
   "nav_menu": {},
   "number_sections": true,
   "sideBar": true,
   "skip_h1_title": false,
   "title_cell": "Table of Contents",
   "title_sidebar": "Contents",
   "toc_cell": false,
   "toc_position": {},
   "toc_section_display": true,
   "toc_window_display": false
  },
  "varInspector": {
   "cols": {
    "lenName": 16,
    "lenType": 16,
    "lenVar": 40
   },
   "kernels_config": {
    "python": {
     "delete_cmd_postfix": "",
     "delete_cmd_prefix": "del ",
     "library": "var_list.py",
     "varRefreshCmd": "print(var_dic_list())"
    },
    "r": {
     "delete_cmd_postfix": ") ",
     "delete_cmd_prefix": "rm(",
     "library": "var_list.r",
     "varRefreshCmd": "cat(var_dic_list()) "
    }
   },
   "types_to_exclude": [
    "module",
    "function",
    "builtin_function_or_method",
    "instance",
    "_Feature"
   ],
   "window_display": false
  }
 },
 "nbformat": 4,
 "nbformat_minor": 5
}
