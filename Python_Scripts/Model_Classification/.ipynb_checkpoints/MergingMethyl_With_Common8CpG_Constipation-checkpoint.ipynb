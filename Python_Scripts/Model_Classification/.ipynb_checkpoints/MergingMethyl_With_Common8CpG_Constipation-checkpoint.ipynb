{
 "cells": [
  {
   "cell_type": "code",
   "execution_count": 1,
   "id": "227733c0",
   "metadata": {
    "ExecuteTime": {
     "end_time": "2022-12-13T13:20:20.796996Z",
     "start_time": "2022-12-13T13:20:20.173236Z"
    },
    "run_control": {
     "marked": false
    },
    "scrolled": true
   },
   "outputs": [],
   "source": [
    "import pandas as pd\n",
    "import numpy as np"
   ]
  },
  {
   "cell_type": "code",
   "execution_count": 2,
   "id": "0ebb8ca7",
   "metadata": {
    "ExecuteTime": {
     "end_time": "2022-12-13T13:20:35.145149Z",
     "start_time": "2022-12-13T13:20:20.796996Z"
    },
    "scrolled": false
   },
   "outputs": [
    {
     "name": "stdout",
     "output_type": "stream",
     "text": [
      "Z:\\PPMI_Data\\Excel_Data\\NonMotors\\Feature_CpG_Gene_Association\\Constipation_Processed_Files\n",
      "(458, 20757)\n"
     ]
    },
    {
     "data": {
      "text/html": [
       "<div>\n",
       "<style scoped>\n",
       "    .dataframe tbody tr th:only-of-type {\n",
       "        vertical-align: middle;\n",
       "    }\n",
       "\n",
       "    .dataframe tbody tr th {\n",
       "        vertical-align: top;\n",
       "    }\n",
       "\n",
       "    .dataframe thead th {\n",
       "        text-align: right;\n",
       "    }\n",
       "</style>\n",
       "<table border=\"1\" class=\"dataframe\">\n",
       "  <thead>\n",
       "    <tr style=\"text-align: right;\">\n",
       "      <th></th>\n",
       "      <th>Sentrix</th>\n",
       "      <th>PATNO</th>\n",
       "      <th>HYS</th>\n",
       "      <th>Gender</th>\n",
       "      <th>APPRDX</th>\n",
       "      <th>MDSP_Constipate</th>\n",
       "      <th>cg13609937</th>\n",
       "      <th>cg13847987</th>\n",
       "      <th>cg13822231</th>\n",
       "      <th>cg20728472</th>\n",
       "      <th>...</th>\n",
       "      <th>cg06819251</th>\n",
       "      <th>cg22158158</th>\n",
       "      <th>cg20161227</th>\n",
       "      <th>cg05701765</th>\n",
       "      <th>cg25437180</th>\n",
       "      <th>cg06002203</th>\n",
       "      <th>cg21722170</th>\n",
       "      <th>cg13142750</th>\n",
       "      <th>cg12743359</th>\n",
       "      <th>cg04293703</th>\n",
       "    </tr>\n",
       "  </thead>\n",
       "  <tbody>\n",
       "    <tr>\n",
       "      <th>0</th>\n",
       "      <td>200991620021_R01C01</td>\n",
       "      <td>3001</td>\n",
       "      <td>2</td>\n",
       "      <td>1</td>\n",
       "      <td>1</td>\n",
       "      <td>0</td>\n",
       "      <td>0.0201</td>\n",
       "      <td>0.9224</td>\n",
       "      <td>0.0120</td>\n",
       "      <td>0.0219</td>\n",
       "      <td>...</td>\n",
       "      <td>0.9007</td>\n",
       "      <td>0.9064</td>\n",
       "      <td>0.9483</td>\n",
       "      <td>0.8479</td>\n",
       "      <td>0.6471</td>\n",
       "      <td>0.8363</td>\n",
       "      <td>0.7311</td>\n",
       "      <td>0.6280</td>\n",
       "      <td>0.8832</td>\n",
       "      <td>0.5344</td>\n",
       "    </tr>\n",
       "    <tr>\n",
       "      <th>1</th>\n",
       "      <td>200973410167_R04C01</td>\n",
       "      <td>3007</td>\n",
       "      <td>2</td>\n",
       "      <td>1</td>\n",
       "      <td>1</td>\n",
       "      <td>0</td>\n",
       "      <td>0.0715</td>\n",
       "      <td>0.9381</td>\n",
       "      <td>0.0137</td>\n",
       "      <td>0.0298</td>\n",
       "      <td>...</td>\n",
       "      <td>0.7393</td>\n",
       "      <td>0.8881</td>\n",
       "      <td>0.9144</td>\n",
       "      <td>0.8546</td>\n",
       "      <td>0.6859</td>\n",
       "      <td>0.8901</td>\n",
       "      <td>0.8161</td>\n",
       "      <td>0.7357</td>\n",
       "      <td>0.8930</td>\n",
       "      <td>0.5405</td>\n",
       "    </tr>\n",
       "  </tbody>\n",
       "</table>\n",
       "<p>2 rows × 20757 columns</p>\n",
       "</div>"
      ],
      "text/plain": [
       "               Sentrix  PATNO  HYS  Gender  APPRDX  MDSP_Constipate  \\\n",
       "0  200991620021_R01C01   3001    2       1       1                0   \n",
       "1  200973410167_R04C01   3007    2       1       1                0   \n",
       "\n",
       "   cg13609937  cg13847987  cg13822231  cg20728472  ...  cg06819251  \\\n",
       "0      0.0201      0.9224      0.0120      0.0219  ...      0.9007   \n",
       "1      0.0715      0.9381      0.0137      0.0298  ...      0.7393   \n",
       "\n",
       "   cg22158158  cg20161227  cg05701765  cg25437180  cg06002203  cg21722170  \\\n",
       "0      0.9064      0.9483      0.8479      0.6471      0.8363      0.7311   \n",
       "1      0.8881      0.9144      0.8546      0.6859      0.8901      0.8161   \n",
       "\n",
       "   cg13142750  cg12743359  cg04293703  \n",
       "0      0.6280      0.8832      0.5344  \n",
       "1      0.7357      0.8930      0.5405  \n",
       "\n",
       "[2 rows x 20757 columns]"
      ]
     },
     "execution_count": 2,
     "metadata": {},
     "output_type": "execute_result"
    }
   ],
   "source": [
    "%cd Z:\\PPMI_Data\\Excel_Data\\NonMotors\\Feature_CpG_Gene_Association\\Constipation_Processed_Files\n",
    "df = pd.read_csv (\"ConstipationCateg_Methylome_APPRDXFilter.csv\")\n",
    "df = df.round(decimals = 4)\n",
    "print (df.shape)\n",
    "df.head(2)"
   ]
  },
  {
   "cell_type": "code",
   "execution_count": 6,
   "id": "a60836ec",
   "metadata": {
    "ExecuteTime": {
     "end_time": "2022-12-13T13:21:07.918167Z",
     "start_time": "2022-12-13T13:21:07.902590Z"
    }
   },
   "outputs": [],
   "source": [
    "GeneList = ['Sentrix','PATNO','Gender','MDSP_Constipate','HYS','APPRDX',\n",
    "           'cg05142211','cg12298429','cg13332222','cg17528967','cg18704989','cg20349377','cg21899921','cg27281389']"
   ]
  },
  {
   "cell_type": "code",
   "execution_count": 7,
   "id": "448b7927",
   "metadata": {
    "ExecuteTime": {
     "end_time": "2022-12-13T13:21:08.686299Z",
     "start_time": "2022-12-13T13:21:08.655019Z"
    }
   },
   "outputs": [
    {
     "name": "stdout",
     "output_type": "stream",
     "text": [
      "(457, 14)\n"
     ]
    },
    {
     "data": {
      "text/html": [
       "<div>\n",
       "<style scoped>\n",
       "    .dataframe tbody tr th:only-of-type {\n",
       "        vertical-align: middle;\n",
       "    }\n",
       "\n",
       "    .dataframe tbody tr th {\n",
       "        vertical-align: top;\n",
       "    }\n",
       "\n",
       "    .dataframe thead th {\n",
       "        text-align: right;\n",
       "    }\n",
       "</style>\n",
       "<table border=\"1\" class=\"dataframe\">\n",
       "  <thead>\n",
       "    <tr style=\"text-align: right;\">\n",
       "      <th></th>\n",
       "      <th>Sentrix</th>\n",
       "      <th>PATNO</th>\n",
       "      <th>HYS</th>\n",
       "      <th>Gender</th>\n",
       "      <th>APPRDX</th>\n",
       "      <th>MDSP_Constipate</th>\n",
       "      <th>cg13332222</th>\n",
       "      <th>cg20349377</th>\n",
       "      <th>cg12298429</th>\n",
       "      <th>cg27281389</th>\n",
       "      <th>cg18704989</th>\n",
       "      <th>cg17528967</th>\n",
       "      <th>cg21899921</th>\n",
       "      <th>cg05142211</th>\n",
       "    </tr>\n",
       "  </thead>\n",
       "  <tbody>\n",
       "    <tr>\n",
       "      <th>0</th>\n",
       "      <td>200991620021_R01C01</td>\n",
       "      <td>3001</td>\n",
       "      <td>2</td>\n",
       "      <td>1</td>\n",
       "      <td>1</td>\n",
       "      <td>0</td>\n",
       "      <td>0.9022</td>\n",
       "      <td>0.8763</td>\n",
       "      <td>0.0328</td>\n",
       "      <td>0.0269</td>\n",
       "      <td>0.0129</td>\n",
       "      <td>0.8081</td>\n",
       "      <td>0.0328</td>\n",
       "      <td>0.0350</td>\n",
       "    </tr>\n",
       "    <tr>\n",
       "      <th>1</th>\n",
       "      <td>200973410167_R04C01</td>\n",
       "      <td>3007</td>\n",
       "      <td>2</td>\n",
       "      <td>1</td>\n",
       "      <td>1</td>\n",
       "      <td>0</td>\n",
       "      <td>0.9287</td>\n",
       "      <td>0.8938</td>\n",
       "      <td>0.0427</td>\n",
       "      <td>0.0334</td>\n",
       "      <td>0.0108</td>\n",
       "      <td>0.8228</td>\n",
       "      <td>0.0469</td>\n",
       "      <td>0.0419</td>\n",
       "    </tr>\n",
       "  </tbody>\n",
       "</table>\n",
       "</div>"
      ],
      "text/plain": [
       "               Sentrix  PATNO  HYS  Gender  APPRDX  MDSP_Constipate  \\\n",
       "0  200991620021_R01C01   3001    2       1       1                0   \n",
       "1  200973410167_R04C01   3007    2       1       1                0   \n",
       "\n",
       "   cg13332222  cg20349377  cg12298429  cg27281389  cg18704989  cg17528967  \\\n",
       "0      0.9022      0.8763      0.0328      0.0269      0.0129      0.8081   \n",
       "1      0.9287      0.8938      0.0427      0.0334      0.0108      0.8228   \n",
       "\n",
       "   cg21899921  cg05142211  \n",
       "0      0.0328      0.0350  \n",
       "1      0.0469      0.0419  "
      ]
     },
     "execution_count": 7,
     "metadata": {},
     "output_type": "execute_result"
    }
   ],
   "source": [
    "df1 = df[[c for c in df.columns if c in GeneList]]\n",
    "df1 = df1[df1.PATNO != 4079]\n",
    "print(df1.shape)\n",
    "df1.head(2)"
   ]
  },
  {
   "cell_type": "code",
   "execution_count": 8,
   "id": "daea5549",
   "metadata": {
    "ExecuteTime": {
     "end_time": "2022-12-13T13:21:09.310055Z",
     "start_time": "2022-12-13T13:21:09.287913Z"
    }
   },
   "outputs": [],
   "source": [
    "df1.to_csv (\"ConstipationCateg_Methylome_APPRDX_Common.csv\", index = False)"
   ]
  },
  {
   "cell_type": "code",
   "execution_count": null,
   "id": "b765c3ed",
   "metadata": {},
   "outputs": [],
   "source": []
  }
 ],
 "metadata": {
  "kernelspec": {
   "display_name": "Python 3 (ipykernel)",
   "language": "python",
   "name": "python3"
  },
  "language_info": {
   "codemirror_mode": {
    "name": "ipython",
    "version": 3
   },
   "file_extension": ".py",
   "mimetype": "text/x-python",
   "name": "python",
   "nbconvert_exporter": "python",
   "pygments_lexer": "ipython3",
   "version": "3.9.7"
  },
  "toc": {
   "base_numbering": 1,
   "nav_menu": {},
   "number_sections": true,
   "sideBar": true,
   "skip_h1_title": false,
   "title_cell": "Table of Contents",
   "title_sidebar": "Contents",
   "toc_cell": false,
   "toc_position": {},
   "toc_section_display": true,
   "toc_window_display": false
  },
  "varInspector": {
   "cols": {
    "lenName": 16,
    "lenType": 16,
    "lenVar": 40
   },
   "kernels_config": {
    "python": {
     "delete_cmd_postfix": "",
     "delete_cmd_prefix": "del ",
     "library": "var_list.py",
     "varRefreshCmd": "print(var_dic_list())"
    },
    "r": {
     "delete_cmd_postfix": ") ",
     "delete_cmd_prefix": "rm(",
     "library": "var_list.r",
     "varRefreshCmd": "cat(var_dic_list()) "
    }
   },
   "types_to_exclude": [
    "module",
    "function",
    "builtin_function_or_method",
    "instance",
    "_Feature"
   ],
   "window_display": false
  }
 },
 "nbformat": 4,
 "nbformat_minor": 5
}
