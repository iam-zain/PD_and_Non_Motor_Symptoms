{
 "cells": [
  {
   "cell_type": "markdown",
   "metadata": {
    "colab_type": "text",
    "id": "0MRC0e0KhQ0S"
   },
   "source": [
    "# Random Forest Classification"
   ]
  },
  {
   "cell_type": "code",
   "execution_count": 1,
   "metadata": {
    "ExecuteTime": {
     "end_time": "2023-11-18T09:31:16.418019Z",
     "start_time": "2023-11-18T09:31:14.204327Z"
    },
    "colab": {},
    "colab_type": "code",
    "id": "YvGPUQaHhXfL"
   },
   "outputs": [],
   "source": [
    "import random\n",
    "import numpy as np\n",
    "import pandas as pd\n",
    "import seaborn as sn\n",
    "from numpy import std\n",
    "from numpy import mean\n",
    "import matplotlib.pyplot as plt\n",
    "from sklearn.datasets import make_classification\n",
    "from sklearn.preprocessing import StandardScaler\n",
    "from sklearn.model_selection import cross_val_score\n",
    "from sklearn.ensemble import RandomForestClassifier\n",
    "from sklearn.model_selection import train_test_split\n",
    "from sklearn.model_selection import RepeatedStratifiedKFold\n",
    "from sklearn.metrics import confusion_matrix, accuracy_score\n",
    "%matplotlib inline"
   ]
  },
  {
   "cell_type": "code",
   "execution_count": 2,
   "metadata": {
    "ExecuteTime": {
     "end_time": "2023-11-18T09:31:23.536003Z",
     "start_time": "2023-11-18T09:31:16.420000Z"
    },
    "scrolled": false
   },
   "outputs": [
    {
     "name": "stdout",
     "output_type": "stream",
     "text": [
      "S:\\PPMI_RNA\\Processed\\Progression_Analysis\\Male\n",
      "(165, 58782)\n"
     ]
    },
    {
     "data": {
      "text/html": [
       "<div>\n",
       "<style scoped>\n",
       "    .dataframe tbody tr th:only-of-type {\n",
       "        vertical-align: middle;\n",
       "    }\n",
       "\n",
       "    .dataframe tbody tr th {\n",
       "        vertical-align: top;\n",
       "    }\n",
       "\n",
       "    .dataframe thead th {\n",
       "        text-align: right;\n",
       "    }\n",
       "</style>\n",
       "<table border=\"1\" class=\"dataframe\">\n",
       "  <thead>\n",
       "    <tr style=\"text-align: right;\">\n",
       "      <th></th>\n",
       "      <th>HudAlphaID</th>\n",
       "      <th>HYS</th>\n",
       "      <th>ENSG00000223972.5</th>\n",
       "      <th>ENSG00000227232.5</th>\n",
       "      <th>ENSG00000278267.1</th>\n",
       "      <th>ENSG00000243485.5</th>\n",
       "      <th>ENSG00000284332.1</th>\n",
       "      <th>ENSG00000237613.2</th>\n",
       "      <th>ENSG00000268020.3</th>\n",
       "      <th>ENSG00000240361.2</th>\n",
       "      <th>...</th>\n",
       "      <th>ENSG00000273739.1</th>\n",
       "      <th>ENSG00000276700.1</th>\n",
       "      <th>ENSG00000276312.1</th>\n",
       "      <th>ENSG00000275757.1</th>\n",
       "      <th>ENSG00000278573.1</th>\n",
       "      <th>ENSG00000276017.1</th>\n",
       "      <th>ENSG00000278817.1</th>\n",
       "      <th>ENSG00000277196.4</th>\n",
       "      <th>ENSG00000278625.1</th>\n",
       "      <th>ENSG00000277374.1</th>\n",
       "    </tr>\n",
       "  </thead>\n",
       "  <tbody>\n",
       "    <tr>\n",
       "      <th>0</th>\n",
       "      <td>5104_SL_0029</td>\n",
       "      <td>1</td>\n",
       "      <td>1</td>\n",
       "      <td>55</td>\n",
       "      <td>2</td>\n",
       "      <td>0</td>\n",
       "      <td>0</td>\n",
       "      <td>0</td>\n",
       "      <td>0</td>\n",
       "      <td>0</td>\n",
       "      <td>...</td>\n",
       "      <td>0</td>\n",
       "      <td>0</td>\n",
       "      <td>3</td>\n",
       "      <td>0</td>\n",
       "      <td>0</td>\n",
       "      <td>0</td>\n",
       "      <td>10</td>\n",
       "      <td>0</td>\n",
       "      <td>0</td>\n",
       "      <td>0</td>\n",
       "    </tr>\n",
       "    <tr>\n",
       "      <th>1</th>\n",
       "      <td>5104_SL_0031</td>\n",
       "      <td>1</td>\n",
       "      <td>16</td>\n",
       "      <td>274</td>\n",
       "      <td>20</td>\n",
       "      <td>1</td>\n",
       "      <td>0</td>\n",
       "      <td>0</td>\n",
       "      <td>0</td>\n",
       "      <td>1</td>\n",
       "      <td>...</td>\n",
       "      <td>1</td>\n",
       "      <td>44</td>\n",
       "      <td>6</td>\n",
       "      <td>1</td>\n",
       "      <td>0</td>\n",
       "      <td>5</td>\n",
       "      <td>19</td>\n",
       "      <td>9</td>\n",
       "      <td>0</td>\n",
       "      <td>0</td>\n",
       "    </tr>\n",
       "  </tbody>\n",
       "</table>\n",
       "<p>2 rows × 58782 columns</p>\n",
       "</div>"
      ],
      "text/plain": [
       "     HudAlphaID  HYS  ENSG00000223972.5  ENSG00000227232.5  ENSG00000278267.1  \\\n",
       "0  5104_SL_0029    1                  1                 55                  2   \n",
       "1  5104_SL_0031    1                 16                274                 20   \n",
       "\n",
       "   ENSG00000243485.5  ENSG00000284332.1  ENSG00000237613.2  ENSG00000268020.3  \\\n",
       "0                  0                  0                  0                  0   \n",
       "1                  1                  0                  0                  0   \n",
       "\n",
       "   ENSG00000240361.2  ...  ENSG00000273739.1  ENSG00000276700.1  \\\n",
       "0                  0  ...                  0                  0   \n",
       "1                  1  ...                  1                 44   \n",
       "\n",
       "   ENSG00000276312.1  ENSG00000275757.1  ENSG00000278573.1  ENSG00000276017.1  \\\n",
       "0                  3                  0                  0                  0   \n",
       "1                  6                  1                  0                  5   \n",
       "\n",
       "   ENSG00000278817.1  ENSG00000277196.4  ENSG00000278625.1  ENSG00000277374.1  \n",
       "0                 10                  0                  0                  0  \n",
       "1                 19                  9                  0                  0  \n",
       "\n",
       "[2 rows x 58782 columns]"
      ]
     },
     "execution_count": 2,
     "metadata": {},
     "output_type": "execute_result"
    }
   ],
   "source": [
    "%cd S:\\PPMI_RNA\\Processed\\Progression_Analysis\\Male\n",
    "df = pd.read_csv('CountData_HYS1vs2_PD_withHYS_Male.csv')\n",
    "print(df.shape)\n",
    "df.head(2)"
   ]
  },
  {
   "cell_type": "code",
   "execution_count": 3,
   "metadata": {
    "ExecuteTime": {
     "end_time": "2023-11-18T09:31:23.599973Z",
     "start_time": "2023-11-18T09:31:23.538975Z"
    },
    "scrolled": true
   },
   "outputs": [
    {
     "data": {
      "text/html": [
       "<div>\n",
       "<style scoped>\n",
       "    .dataframe tbody tr th:only-of-type {\n",
       "        vertical-align: middle;\n",
       "    }\n",
       "\n",
       "    .dataframe tbody tr th {\n",
       "        vertical-align: top;\n",
       "    }\n",
       "\n",
       "    .dataframe thead th {\n",
       "        text-align: right;\n",
       "    }\n",
       "</style>\n",
       "<table border=\"1\" class=\"dataframe\">\n",
       "  <thead>\n",
       "    <tr style=\"text-align: right;\">\n",
       "      <th></th>\n",
       "      <th>HYS</th>\n",
       "      <th>ENSG00000223972.5</th>\n",
       "      <th>ENSG00000227232.5</th>\n",
       "      <th>ENSG00000278267.1</th>\n",
       "      <th>ENSG00000243485.5</th>\n",
       "      <th>ENSG00000284332.1</th>\n",
       "      <th>ENSG00000237613.2</th>\n",
       "      <th>ENSG00000268020.3</th>\n",
       "      <th>ENSG00000240361.2</th>\n",
       "      <th>ENSG00000186092.6</th>\n",
       "      <th>...</th>\n",
       "      <th>ENSG00000273739.1</th>\n",
       "      <th>ENSG00000276700.1</th>\n",
       "      <th>ENSG00000276312.1</th>\n",
       "      <th>ENSG00000275757.1</th>\n",
       "      <th>ENSG00000278573.1</th>\n",
       "      <th>ENSG00000276017.1</th>\n",
       "      <th>ENSG00000278817.1</th>\n",
       "      <th>ENSG00000277196.4</th>\n",
       "      <th>ENSG00000278625.1</th>\n",
       "      <th>ENSG00000277374.1</th>\n",
       "    </tr>\n",
       "  </thead>\n",
       "  <tbody>\n",
       "    <tr>\n",
       "      <th>0</th>\n",
       "      <td>1</td>\n",
       "      <td>1</td>\n",
       "      <td>55</td>\n",
       "      <td>2</td>\n",
       "      <td>0</td>\n",
       "      <td>0</td>\n",
       "      <td>0</td>\n",
       "      <td>0</td>\n",
       "      <td>0</td>\n",
       "      <td>0</td>\n",
       "      <td>...</td>\n",
       "      <td>0</td>\n",
       "      <td>0</td>\n",
       "      <td>3</td>\n",
       "      <td>0</td>\n",
       "      <td>0</td>\n",
       "      <td>0</td>\n",
       "      <td>10</td>\n",
       "      <td>0</td>\n",
       "      <td>0</td>\n",
       "      <td>0</td>\n",
       "    </tr>\n",
       "    <tr>\n",
       "      <th>1</th>\n",
       "      <td>1</td>\n",
       "      <td>16</td>\n",
       "      <td>274</td>\n",
       "      <td>20</td>\n",
       "      <td>1</td>\n",
       "      <td>0</td>\n",
       "      <td>0</td>\n",
       "      <td>0</td>\n",
       "      <td>1</td>\n",
       "      <td>0</td>\n",
       "      <td>...</td>\n",
       "      <td>1</td>\n",
       "      <td>44</td>\n",
       "      <td>6</td>\n",
       "      <td>1</td>\n",
       "      <td>0</td>\n",
       "      <td>5</td>\n",
       "      <td>19</td>\n",
       "      <td>9</td>\n",
       "      <td>0</td>\n",
       "      <td>0</td>\n",
       "    </tr>\n",
       "  </tbody>\n",
       "</table>\n",
       "<p>2 rows × 58781 columns</p>\n",
       "</div>"
      ],
      "text/plain": [
       "   HYS  ENSG00000223972.5  ENSG00000227232.5  ENSG00000278267.1  \\\n",
       "0    1                  1                 55                  2   \n",
       "1    1                 16                274                 20   \n",
       "\n",
       "   ENSG00000243485.5  ENSG00000284332.1  ENSG00000237613.2  ENSG00000268020.3  \\\n",
       "0                  0                  0                  0                  0   \n",
       "1                  1                  0                  0                  0   \n",
       "\n",
       "   ENSG00000240361.2  ENSG00000186092.6  ...  ENSG00000273739.1  \\\n",
       "0                  0                  0  ...                  0   \n",
       "1                  1                  0  ...                  1   \n",
       "\n",
       "   ENSG00000276700.1  ENSG00000276312.1  ENSG00000275757.1  ENSG00000278573.1  \\\n",
       "0                  0                  3                  0                  0   \n",
       "1                 44                  6                  1                  0   \n",
       "\n",
       "   ENSG00000276017.1  ENSG00000278817.1  ENSG00000277196.4  ENSG00000278625.1  \\\n",
       "0                  0                 10                  0                  0   \n",
       "1                  5                 19                  9                  0   \n",
       "\n",
       "   ENSG00000277374.1  \n",
       "0                  0  \n",
       "1                  0  \n",
       "\n",
       "[2 rows x 58781 columns]"
      ]
     },
     "execution_count": 3,
     "metadata": {},
     "output_type": "execute_result"
    }
   ],
   "source": [
    "df1 = df.drop(['HudAlphaID'], axis=1)\n",
    "df1.head(2)"
   ]
  },
  {
   "cell_type": "markdown",
   "metadata": {
    "colab_type": "text",
    "id": "LWd1UlMnhT2s"
   },
   "source": [
    "## Top 50 NMI"
   ]
  },
  {
   "cell_type": "code",
   "execution_count": 4,
   "metadata": {
    "ExecuteTime": {
     "end_time": "2023-11-18T09:31:23.753977Z",
     "start_time": "2023-11-18T09:31:23.604974Z"
    }
   },
   "outputs": [
    {
     "data": {
      "text/plain": [
       "0                  HYS\n",
       "1    ENSG00000236031.1\n",
       "Name: Geneid, dtype: object"
      ]
     },
     "execution_count": 4,
     "metadata": {},
     "output_type": "execute_result"
    }
   ],
   "source": [
    "df2 = pd.read_csv('NMI_AllCounts_HYS1vs2_Male.csv')\n",
    "df2_sub = df2['Geneid'].iloc[:51]\n",
    "df2_sub.head(2)"
   ]
  },
  {
   "cell_type": "code",
   "execution_count": 5,
   "metadata": {
    "ExecuteTime": {
     "end_time": "2023-11-18T09:31:23.785974Z",
     "start_time": "2023-11-18T09:31:23.755975Z"
    }
   },
   "outputs": [
    {
     "name": "stdout",
     "output_type": "stream",
     "text": [
      "(165, 51)\n"
     ]
    },
    {
     "data": {
      "text/html": [
       "<div>\n",
       "<style scoped>\n",
       "    .dataframe tbody tr th:only-of-type {\n",
       "        vertical-align: middle;\n",
       "    }\n",
       "\n",
       "    .dataframe tbody tr th {\n",
       "        vertical-align: top;\n",
       "    }\n",
       "\n",
       "    .dataframe thead th {\n",
       "        text-align: right;\n",
       "    }\n",
       "</style>\n",
       "<table border=\"1\" class=\"dataframe\">\n",
       "  <thead>\n",
       "    <tr style=\"text-align: right;\">\n",
       "      <th></th>\n",
       "      <th>HYS</th>\n",
       "      <th>ENSG00000236031.1</th>\n",
       "      <th>ENSG00000187905.10</th>\n",
       "      <th>ENSG00000276945.1</th>\n",
       "      <th>ENSG00000263961.7</th>\n",
       "      <th>ENSG00000104974.11</th>\n",
       "      <th>ENSG00000206656.1</th>\n",
       "      <th>ENSG00000133657.15</th>\n",
       "      <th>ENSG00000228288.6</th>\n",
       "      <th>ENSG00000136267.13</th>\n",
       "      <th>...</th>\n",
       "      <th>ENSG00000261270.1</th>\n",
       "      <th>ENSG00000223427.1</th>\n",
       "      <th>ENSG00000228786.5</th>\n",
       "      <th>ENSG00000207378.1</th>\n",
       "      <th>ENSG00000239887.4</th>\n",
       "      <th>ENSG00000162873.14</th>\n",
       "      <th>ENSG00000266932.1</th>\n",
       "      <th>ENSG00000259268.1</th>\n",
       "      <th>ENSG00000103742.11</th>\n",
       "      <th>ENSG00000207697.1</th>\n",
       "    </tr>\n",
       "  </thead>\n",
       "  <tbody>\n",
       "    <tr>\n",
       "      <th>0</th>\n",
       "      <td>1</td>\n",
       "      <td>5</td>\n",
       "      <td>1</td>\n",
       "      <td>9</td>\n",
       "      <td>12</td>\n",
       "      <td>1686</td>\n",
       "      <td>8</td>\n",
       "      <td>4928</td>\n",
       "      <td>0</td>\n",
       "      <td>0</td>\n",
       "      <td>...</td>\n",
       "      <td>197</td>\n",
       "      <td>0</td>\n",
       "      <td>0</td>\n",
       "      <td>12</td>\n",
       "      <td>2</td>\n",
       "      <td>12</td>\n",
       "      <td>5</td>\n",
       "      <td>15</td>\n",
       "      <td>0</td>\n",
       "      <td>101</td>\n",
       "    </tr>\n",
       "    <tr>\n",
       "      <th>1</th>\n",
       "      <td>1</td>\n",
       "      <td>9</td>\n",
       "      <td>24</td>\n",
       "      <td>2</td>\n",
       "      <td>60</td>\n",
       "      <td>4396</td>\n",
       "      <td>15</td>\n",
       "      <td>4298</td>\n",
       "      <td>5</td>\n",
       "      <td>6</td>\n",
       "      <td>...</td>\n",
       "      <td>265</td>\n",
       "      <td>1</td>\n",
       "      <td>1</td>\n",
       "      <td>3</td>\n",
       "      <td>21</td>\n",
       "      <td>158</td>\n",
       "      <td>4</td>\n",
       "      <td>11</td>\n",
       "      <td>41</td>\n",
       "      <td>51</td>\n",
       "    </tr>\n",
       "  </tbody>\n",
       "</table>\n",
       "<p>2 rows × 51 columns</p>\n",
       "</div>"
      ],
      "text/plain": [
       "   HYS  ENSG00000236031.1  ENSG00000187905.10  ENSG00000276945.1  \\\n",
       "0    1                  5                   1                  9   \n",
       "1    1                  9                  24                  2   \n",
       "\n",
       "   ENSG00000263961.7  ENSG00000104974.11  ENSG00000206656.1  \\\n",
       "0                 12                1686                  8   \n",
       "1                 60                4396                 15   \n",
       "\n",
       "   ENSG00000133657.15  ENSG00000228288.6  ENSG00000136267.13  ...  \\\n",
       "0                4928                  0                   0  ...   \n",
       "1                4298                  5                   6  ...   \n",
       "\n",
       "   ENSG00000261270.1  ENSG00000223427.1  ENSG00000228786.5  ENSG00000207378.1  \\\n",
       "0                197                  0                  0                 12   \n",
       "1                265                  1                  1                  3   \n",
       "\n",
       "   ENSG00000239887.4  ENSG00000162873.14  ENSG00000266932.1  \\\n",
       "0                  2                  12                  5   \n",
       "1                 21                 158                  4   \n",
       "\n",
       "   ENSG00000259268.1  ENSG00000103742.11  ENSG00000207697.1  \n",
       "0                 15                   0                101  \n",
       "1                 11                  41                 51  \n",
       "\n",
       "[2 rows x 51 columns]"
      ]
     },
     "execution_count": 5,
     "metadata": {},
     "output_type": "execute_result"
    }
   ],
   "source": [
    "df_50 = df1[df2_sub]\n",
    "print(df_50.shape)\n",
    "df_50.head(2)"
   ]
  },
  {
   "cell_type": "code",
   "execution_count": null,
   "metadata": {
    "ExecuteTime": {
     "start_time": "2023-11-18T09:31:14.197Z"
    },
    "scrolled": true
   },
   "outputs": [
    {
     "name": "stdout",
     "output_type": "stream",
     "text": [
      "1\n",
      "Mean accuracy: 0.7375\n",
      "2\n",
      "Mean accuracy: 0.675\n",
      "3\n",
      "Mean accuracy: 0.6625\n",
      "4\n",
      "Mean accuracy: 0.7625\n",
      "5\n",
      "Mean accuracy: 0.6875\n",
      "6\n",
      "Mean accuracy: 0.7125\n",
      "7\n",
      "Mean accuracy: 0.6625\n",
      "8\n",
      "Mean accuracy: 0.725\n",
      "9\n",
      "Mean accuracy: 0.6375\n",
      "10\n",
      "Mean accuracy: 0.7\n",
      "11\n",
      "Mean accuracy: 0.6375\n",
      "12\n",
      "Mean accuracy: 0.6375\n",
      "13\n",
      "Mean accuracy: 0.7125\n",
      "14\n",
      "Mean accuracy: 0.6875\n",
      "15\n",
      "Mean accuracy: 0.75\n",
      "16\n",
      "Mean accuracy: 0.6375\n",
      "17\n",
      "Mean accuracy: 0.675\n",
      "18\n",
      "Mean accuracy: 0.6375\n",
      "19\n",
      "Mean accuracy: 0.7375\n",
      "20\n",
      "Mean accuracy: 0.7375\n",
      "21\n",
      "Mean accuracy: 0.6625\n",
      "22\n",
      "Mean accuracy: 0.7\n",
      "23\n",
      "Mean accuracy: 0.6375\n",
      "24\n",
      "Mean accuracy: 0.7\n",
      "25\n",
      "Mean accuracy: 0.625\n",
      "26\n",
      "Mean accuracy: 0.7375\n",
      "27\n",
      "Mean accuracy: 0.7\n",
      "28\n",
      "Mean accuracy: 0.725\n",
      "29\n",
      "Mean accuracy: 0.65\n",
      "30\n"
     ]
    }
   ],
   "source": [
    "np.random.seed (1)\n",
    "dframe1 = pd.DataFrame(columns=['Accuracy', 'Std_Dev'])\n",
    "\n",
    "for i in range(1, 101):\n",
    "    print(i)\n",
    "    df2 = df_50.groupby('HYS').apply(lambda x: x.sample(40))\n",
    "    X = df2.drop('HYS', axis = 1)\n",
    "    y = df2['HYS']\n",
    "    random_forest_model = RandomForestClassifier(n_estimators = 100, max_depth = 5, criterion = 'gini')\n",
    "    scores = cross_val_score(random_forest_model, X, y, cv = 10, n_jobs = -1)\n",
    "    mean_score = scores.mean()\n",
    "    print(f'Mean accuracy: {mean_score}')\n",
    "    new_row = {'Accuracy': mean_score, 'Std_Dev': std(scores)}\n",
    "    dframe1 = pd.concat([dframe1, pd.DataFrame(new_row, index=[0])], ignore_index=True)\n"
   ]
  },
  {
   "cell_type": "code",
   "execution_count": null,
   "metadata": {
    "ExecuteTime": {
     "start_time": "2023-11-18T09:31:14.201Z"
    }
   },
   "outputs": [],
   "source": [
    "print(mean(dframe1['Accuracy']))\n",
    "dframe1.to_csv (\"NMI50_HYS1vs2_Male_100RF.csv\", index = False)"
   ]
  },
  {
   "cell_type": "markdown",
   "metadata": {},
   "source": [
    "## Top 100 NMI"
   ]
  },
  {
   "cell_type": "code",
   "execution_count": null,
   "metadata": {
    "ExecuteTime": {
     "start_time": "2023-11-18T09:31:14.206Z"
    }
   },
   "outputs": [],
   "source": [
    "df2 = pd.read_csv('NMI_AllCounts_HYS1vs2_Male.csv')\n",
    "df2_sub = df2['Geneid'].iloc[:101]\n",
    "df2_sub.head(2)"
   ]
  },
  {
   "cell_type": "code",
   "execution_count": null,
   "metadata": {
    "ExecuteTime": {
     "start_time": "2023-11-18T09:31:14.208Z"
    }
   },
   "outputs": [],
   "source": [
    "df_100 = df1[df2_sub]\n",
    "print(df_100.shape)\n",
    "df_100.head(2)"
   ]
  },
  {
   "cell_type": "code",
   "execution_count": null,
   "metadata": {
    "ExecuteTime": {
     "start_time": "2023-11-18T09:31:14.214Z"
    },
    "scrolled": true
   },
   "outputs": [],
   "source": [
    "np.random.seed (1)\n",
    "dframe1 = pd.DataFrame(columns=['Accuracy', 'Std_Dev'])\n",
    "\n",
    "for i in range(1, 101):\n",
    "    print(i)\n",
    "    df2 = df_100.groupby('HYS').apply(lambda x: x.sample(40))\n",
    "    X = df2.drop('HYS', axis = 1)\n",
    "    y = df2['HYS']\n",
    "    random_forest_model = RandomForestClassifier(n_estimators = 100, max_depth = 5, criterion = 'gini')\n",
    "    scores = cross_val_score(random_forest_model, X, y, cv = 10, n_jobs = -1)\n",
    "    mean_score = scores.mean()\n",
    "    print(f'Mean accuracy: {mean_score}')\n",
    "    new_row = {'Accuracy': mean_score, 'Std_Dev': std(scores)}\n",
    "    dframe1 = pd.concat([dframe1, pd.DataFrame(new_row, index=[0])], ignore_index=True)\n"
   ]
  },
  {
   "cell_type": "code",
   "execution_count": null,
   "metadata": {
    "ExecuteTime": {
     "start_time": "2023-11-18T09:31:14.216Z"
    }
   },
   "outputs": [],
   "source": [
    "print(mean(dframe1['Accuracy']))\n",
    "dframe1.to_csv (\"NMI100_HYS1vs2_Male_100RF.csv\", index = False)"
   ]
  },
  {
   "cell_type": "markdown",
   "metadata": {},
   "source": []
  },
  {
   "cell_type": "markdown",
   "metadata": {},
   "source": [
    "## Top 250 NMI"
   ]
  },
  {
   "cell_type": "code",
   "execution_count": null,
   "metadata": {
    "ExecuteTime": {
     "start_time": "2023-11-18T09:31:14.221Z"
    }
   },
   "outputs": [],
   "source": [
    "df2 = pd.read_csv('NMI_AllCounts_HYS1vs2_Male.csv')\n",
    "df2_sub = df2['Geneid'].iloc[:251]\n",
    "df2_sub.head(2)"
   ]
  },
  {
   "cell_type": "code",
   "execution_count": null,
   "metadata": {
    "ExecuteTime": {
     "start_time": "2023-11-18T09:31:14.224Z"
    }
   },
   "outputs": [],
   "source": [
    "df_250 = df1[df2_sub]\n",
    "print(df_250.shape)\n",
    "df_250.head(2)"
   ]
  },
  {
   "cell_type": "code",
   "execution_count": null,
   "metadata": {
    "ExecuteTime": {
     "start_time": "2023-11-18T09:31:14.227Z"
    },
    "scrolled": true
   },
   "outputs": [],
   "source": [
    "np.random.seed (1)\n",
    "dframe1 = pd.DataFrame(columns=['Accuracy', 'Std_Dev'])\n",
    "\n",
    "for i in range(1, 101):\n",
    "    print(i)\n",
    "    df2 = df_250.groupby('HYS').apply(lambda x: x.sample(40))\n",
    "    X = df2.drop('HYS', axis = 1)\n",
    "    y = df2['HYS']\n",
    "    random_forest_model = RandomForestClassifier(n_estimators = 100, max_depth = 5, criterion = 'gini')\n",
    "    scores = cross_val_score(random_forest_model, X, y, cv = 10, n_jobs = -1)\n",
    "    mean_score = scores.mean()\n",
    "    print(f'Mean accuracy: {mean_score}')\n",
    "    new_row = {'Accuracy': mean_score, 'Std_Dev': std(scores)}\n",
    "    dframe1 = pd.concat([dframe1, pd.DataFrame(new_row, index=[0])], ignore_index=True)\n"
   ]
  },
  {
   "cell_type": "code",
   "execution_count": null,
   "metadata": {
    "ExecuteTime": {
     "start_time": "2023-11-18T09:31:14.229Z"
    }
   },
   "outputs": [],
   "source": [
    "print(mean(dframe1['Accuracy']))\n",
    "dframe1.to_csv (\"NMI250_HYS1vs2_Male_100RF.csv\", index = False)"
   ]
  },
  {
   "cell_type": "markdown",
   "metadata": {
    "colab_type": "text",
    "id": "YvxIPVyMhmKp"
   },
   "source": [
    "## Top 500 NMI"
   ]
  },
  {
   "cell_type": "code",
   "execution_count": null,
   "metadata": {
    "ExecuteTime": {
     "start_time": "2023-11-18T09:31:14.233Z"
    }
   },
   "outputs": [],
   "source": [
    "df2 = pd.read_csv('NMI_AllCounts_HYS1vs2_Male.csv')\n",
    "df2_sub = df2['Geneid'].iloc[:501]\n",
    "df2_sub.head(2)"
   ]
  },
  {
   "cell_type": "code",
   "execution_count": null,
   "metadata": {
    "ExecuteTime": {
     "start_time": "2023-11-18T09:31:14.235Z"
    }
   },
   "outputs": [],
   "source": [
    "df_500 = df1[df2_sub]\n",
    "print(df_500.shape)\n",
    "df_500.head(2)"
   ]
  },
  {
   "cell_type": "code",
   "execution_count": null,
   "metadata": {
    "ExecuteTime": {
     "start_time": "2023-11-18T09:31:14.239Z"
    },
    "scrolled": true
   },
   "outputs": [],
   "source": [
    "np.random.seed (1)\n",
    "dframe1 = pd.DataFrame(columns=['Accuracy', 'Std_Dev'])\n",
    "\n",
    "for i in range(1, 101):\n",
    "    print(i)\n",
    "    df2 = df_500.groupby('HYS').apply(lambda x: x.sample(40))\n",
    "    X = df2.drop('HYS', axis = 1)\n",
    "    y = df2['HYS']\n",
    "    random_forest_model = RandomForestClassifier(n_estimators = 100, max_depth = 5, criterion = 'gini')\n",
    "    scores = cross_val_score(random_forest_model, X, y, cv = 10, n_jobs = -1)\n",
    "    mean_score = scores.mean()\n",
    "    print(f'Mean accuracy: {mean_score}')\n",
    "    new_row = {'Accuracy': mean_score, 'Std_Dev': std(scores)}\n",
    "    dframe1 = pd.concat([dframe1, pd.DataFrame(new_row, index=[0])], ignore_index=True)\n"
   ]
  },
  {
   "cell_type": "code",
   "execution_count": null,
   "metadata": {
    "ExecuteTime": {
     "start_time": "2023-11-18T09:31:14.241Z"
    }
   },
   "outputs": [],
   "source": [
    "print(mean(dframe1['Accuracy']))\n",
    "dframe1.to_csv (\"NMI500_HYS1vs2_Male_100RF.csv\", index = False)"
   ]
  },
  {
   "cell_type": "markdown",
   "metadata": {},
   "source": []
  }
 ],
 "metadata": {
  "colab": {
   "authorship_tag": "ABX9TyPA7K2PAkEFgaKFIvslUMEc",
   "collapsed_sections": [],
   "machine_shape": "hm",
   "name": "random_forest_classification.ipynb",
   "provenance": [],
   "toc_visible": true
  },
  "kernelspec": {
   "display_name": "Python 3 (ipykernel)",
   "language": "python",
   "name": "python3"
  },
  "language_info": {
   "codemirror_mode": {
    "name": "ipython",
    "version": 3
   },
   "file_extension": ".py",
   "mimetype": "text/x-python",
   "name": "python",
   "nbconvert_exporter": "python",
   "pygments_lexer": "ipython3",
   "version": "3.9.16"
  },
  "toc": {
   "base_numbering": 1,
   "nav_menu": {},
   "number_sections": true,
   "sideBar": true,
   "skip_h1_title": false,
   "title_cell": "Table of Contents",
   "title_sidebar": "Contents",
   "toc_cell": false,
   "toc_position": {},
   "toc_section_display": true,
   "toc_window_display": false
  },
  "varInspector": {
   "cols": {
    "lenName": 16,
    "lenType": 16,
    "lenVar": 40
   },
   "kernels_config": {
    "python": {
     "delete_cmd_postfix": "",
     "delete_cmd_prefix": "del ",
     "library": "var_list.py",
     "varRefreshCmd": "print(var_dic_list())"
    },
    "r": {
     "delete_cmd_postfix": ") ",
     "delete_cmd_prefix": "rm(",
     "library": "var_list.r",
     "varRefreshCmd": "cat(var_dic_list()) "
    }
   },
   "types_to_exclude": [
    "module",
    "function",
    "builtin_function_or_method",
    "instance",
    "_Feature"
   ],
   "window_display": false
  }
 },
 "nbformat": 4,
 "nbformat_minor": 1
}
