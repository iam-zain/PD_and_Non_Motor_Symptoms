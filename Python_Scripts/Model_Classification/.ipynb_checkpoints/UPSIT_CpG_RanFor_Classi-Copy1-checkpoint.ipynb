{
 "cells": [
  {
   "cell_type": "markdown",
   "metadata": {
    "colab_type": "text",
    "id": "0MRC0e0KhQ0S"
   },
   "source": [
    "# Random Forest Classification"
   ]
  },
  {
   "cell_type": "markdown",
   "metadata": {
    "colab_type": "text",
    "id": "LWd1UlMnhT2s"
   },
   "source": [
    "## Importing the libraries"
   ]
  },
  {
   "cell_type": "code",
   "execution_count": 1,
   "metadata": {
    "ExecuteTime": {
     "end_time": "2022-10-25T09:23:51.589849Z",
     "start_time": "2022-10-25T09:23:50.394631Z"
    },
    "colab": {},
    "colab_type": "code",
    "id": "YvGPUQaHhXfL"
   },
   "outputs": [],
   "source": [
    "import numpy as np\n",
    "import matplotlib.pyplot as plt\n",
    "import pandas as pd"
   ]
  },
  {
   "cell_type": "code",
   "execution_count": 2,
   "metadata": {
    "ExecuteTime": {
     "end_time": "2022-10-25T09:23:52.842514Z",
     "start_time": "2022-10-25T09:23:51.589849Z"
    },
    "scrolled": true
   },
   "outputs": [
    {
     "name": "stdout",
     "output_type": "stream",
     "text": [
      "Z:\\PPMI_Data\\Excel_Data\\NonMotors\\Feature_CpG_Gene_Association\\UPSIT_Processed&Results_Files\n",
      "(458, 5705)\n"
     ]
    },
    {
     "data": {
      "text/html": [
       "<div>\n",
       "<style scoped>\n",
       "    .dataframe tbody tr th:only-of-type {\n",
       "        vertical-align: middle;\n",
       "    }\n",
       "\n",
       "    .dataframe tbody tr th {\n",
       "        vertical-align: top;\n",
       "    }\n",
       "\n",
       "    .dataframe thead th {\n",
       "        text-align: right;\n",
       "    }\n",
       "</style>\n",
       "<table border=\"1\" class=\"dataframe\">\n",
       "  <thead>\n",
       "    <tr style=\"text-align: right;\">\n",
       "      <th></th>\n",
       "      <th>Sentrix</th>\n",
       "      <th>PATNO</th>\n",
       "      <th>HYS</th>\n",
       "      <th>Gender</th>\n",
       "      <th>APPRDX</th>\n",
       "      <th>UPSIT_3</th>\n",
       "      <th>cg06067658</th>\n",
       "      <th>cg15442538</th>\n",
       "      <th>cg25928446</th>\n",
       "      <th>cg12415575</th>\n",
       "      <th>...</th>\n",
       "      <th>cg00600684</th>\n",
       "      <th>cg13207036</th>\n",
       "      <th>cg05750276</th>\n",
       "      <th>cg02312170</th>\n",
       "      <th>cg17391830</th>\n",
       "      <th>cg13151449</th>\n",
       "      <th>cg13596132</th>\n",
       "      <th>cg26538046</th>\n",
       "      <th>cg18607338</th>\n",
       "      <th>cg14149699</th>\n",
       "    </tr>\n",
       "  </thead>\n",
       "  <tbody>\n",
       "    <tr>\n",
       "      <th>0</th>\n",
       "      <td>200991620021_R01C01</td>\n",
       "      <td>3001</td>\n",
       "      <td>2</td>\n",
       "      <td>1</td>\n",
       "      <td>1</td>\n",
       "      <td>1</td>\n",
       "      <td>0.088679</td>\n",
       "      <td>0.890148</td>\n",
       "      <td>0.719238</td>\n",
       "      <td>0.066678</td>\n",
       "      <td>...</td>\n",
       "      <td>0.927369</td>\n",
       "      <td>0.030600</td>\n",
       "      <td>0.052903</td>\n",
       "      <td>0.053346</td>\n",
       "      <td>0.041092</td>\n",
       "      <td>0.902988</td>\n",
       "      <td>0.911403</td>\n",
       "      <td>0.033966</td>\n",
       "      <td>0.827098</td>\n",
       "      <td>0.030215</td>\n",
       "    </tr>\n",
       "    <tr>\n",
       "      <th>1</th>\n",
       "      <td>200973410167_R04C01</td>\n",
       "      <td>3007</td>\n",
       "      <td>2</td>\n",
       "      <td>1</td>\n",
       "      <td>1</td>\n",
       "      <td>2</td>\n",
       "      <td>0.128668</td>\n",
       "      <td>0.916448</td>\n",
       "      <td>0.726893</td>\n",
       "      <td>0.066768</td>\n",
       "      <td>...</td>\n",
       "      <td>0.920645</td>\n",
       "      <td>0.023915</td>\n",
       "      <td>0.023711</td>\n",
       "      <td>0.035630</td>\n",
       "      <td>0.027145</td>\n",
       "      <td>0.896837</td>\n",
       "      <td>0.889727</td>\n",
       "      <td>0.038348</td>\n",
       "      <td>0.836846</td>\n",
       "      <td>0.083898</td>\n",
       "    </tr>\n",
       "    <tr>\n",
       "      <th>2</th>\n",
       "      <td>200973410167_R05C01</td>\n",
       "      <td>3010</td>\n",
       "      <td>2</td>\n",
       "      <td>1</td>\n",
       "      <td>1</td>\n",
       "      <td>2</td>\n",
       "      <td>0.106438</td>\n",
       "      <td>0.922987</td>\n",
       "      <td>0.715904</td>\n",
       "      <td>0.061755</td>\n",
       "      <td>...</td>\n",
       "      <td>0.917370</td>\n",
       "      <td>0.020184</td>\n",
       "      <td>0.031970</td>\n",
       "      <td>0.039161</td>\n",
       "      <td>0.027965</td>\n",
       "      <td>0.923971</td>\n",
       "      <td>0.877362</td>\n",
       "      <td>0.037637</td>\n",
       "      <td>0.808158</td>\n",
       "      <td>0.042991</td>\n",
       "    </tr>\n",
       "    <tr>\n",
       "      <th>3</th>\n",
       "      <td>200989060001_R06C01</td>\n",
       "      <td>3012</td>\n",
       "      <td>2</td>\n",
       "      <td>1</td>\n",
       "      <td>1</td>\n",
       "      <td>2</td>\n",
       "      <td>0.162354</td>\n",
       "      <td>0.913700</td>\n",
       "      <td>0.768198</td>\n",
       "      <td>0.048826</td>\n",
       "      <td>...</td>\n",
       "      <td>0.948097</td>\n",
       "      <td>0.029792</td>\n",
       "      <td>0.050215</td>\n",
       "      <td>0.027874</td>\n",
       "      <td>0.021356</td>\n",
       "      <td>0.943391</td>\n",
       "      <td>0.883045</td>\n",
       "      <td>0.028545</td>\n",
       "      <td>0.877046</td>\n",
       "      <td>0.034968</td>\n",
       "    </tr>\n",
       "    <tr>\n",
       "      <th>4</th>\n",
       "      <td>200989060143_R08C01</td>\n",
       "      <td>3024</td>\n",
       "      <td>2</td>\n",
       "      <td>1</td>\n",
       "      <td>1</td>\n",
       "      <td>0</td>\n",
       "      <td>0.103971</td>\n",
       "      <td>0.904105</td>\n",
       "      <td>0.803156</td>\n",
       "      <td>0.043982</td>\n",
       "      <td>...</td>\n",
       "      <td>0.948305</td>\n",
       "      <td>0.034183</td>\n",
       "      <td>0.052700</td>\n",
       "      <td>0.027121</td>\n",
       "      <td>0.019311</td>\n",
       "      <td>0.947024</td>\n",
       "      <td>0.908631</td>\n",
       "      <td>0.025009</td>\n",
       "      <td>0.853904</td>\n",
       "      <td>0.033764</td>\n",
       "    </tr>\n",
       "  </tbody>\n",
       "</table>\n",
       "<p>5 rows × 5705 columns</p>\n",
       "</div>"
      ],
      "text/plain": [
       "               Sentrix  PATNO  HYS  Gender  APPRDX  UPSIT_3  cg06067658  \\\n",
       "0  200991620021_R01C01   3001    2       1       1        1    0.088679   \n",
       "1  200973410167_R04C01   3007    2       1       1        2    0.128668   \n",
       "2  200973410167_R05C01   3010    2       1       1        2    0.106438   \n",
       "3  200989060001_R06C01   3012    2       1       1        2    0.162354   \n",
       "4  200989060143_R08C01   3024    2       1       1        0    0.103971   \n",
       "\n",
       "   cg15442538  cg25928446  cg12415575  ...  cg00600684  cg13207036  \\\n",
       "0    0.890148    0.719238    0.066678  ...    0.927369    0.030600   \n",
       "1    0.916448    0.726893    0.066768  ...    0.920645    0.023915   \n",
       "2    0.922987    0.715904    0.061755  ...    0.917370    0.020184   \n",
       "3    0.913700    0.768198    0.048826  ...    0.948097    0.029792   \n",
       "4    0.904105    0.803156    0.043982  ...    0.948305    0.034183   \n",
       "\n",
       "   cg05750276  cg02312170  cg17391830  cg13151449  cg13596132  cg26538046  \\\n",
       "0    0.052903    0.053346    0.041092    0.902988    0.911403    0.033966   \n",
       "1    0.023711    0.035630    0.027145    0.896837    0.889727    0.038348   \n",
       "2    0.031970    0.039161    0.027965    0.923971    0.877362    0.037637   \n",
       "3    0.050215    0.027874    0.021356    0.943391    0.883045    0.028545   \n",
       "4    0.052700    0.027121    0.019311    0.947024    0.908631    0.025009   \n",
       "\n",
       "   cg18607338  cg14149699  \n",
       "0    0.827098    0.030215  \n",
       "1    0.836846    0.083898  \n",
       "2    0.808158    0.042991  \n",
       "3    0.877046    0.034968  \n",
       "4    0.853904    0.033764  \n",
       "\n",
       "[5 rows x 5705 columns]"
      ]
     },
     "execution_count": 2,
     "metadata": {},
     "output_type": "execute_result"
    }
   ],
   "source": [
    "%cd Z:\\PPMI_Data\\Excel_Data\\NonMotors\\Feature_CpG_Gene_Association\\UPSIT_Processed&Results_Files\n",
    "df1 = pd.read_csv('UPSIT3Categ_Methylome_APPRDX.csv')\n",
    "print(df1.shape)\n",
    "df1.head()"
   ]
  },
  {
   "cell_type": "code",
   "execution_count": 3,
   "metadata": {
    "ExecuteTime": {
     "end_time": "2022-10-25T09:23:52.880349Z",
     "start_time": "2022-10-25T09:23:52.842514Z"
    },
    "scrolled": false
   },
   "outputs": [
    {
     "data": {
      "text/html": [
       "<div>\n",
       "<style scoped>\n",
       "    .dataframe tbody tr th:only-of-type {\n",
       "        vertical-align: middle;\n",
       "    }\n",
       "\n",
       "    .dataframe tbody tr th {\n",
       "        vertical-align: top;\n",
       "    }\n",
       "\n",
       "    .dataframe thead th {\n",
       "        text-align: right;\n",
       "    }\n",
       "</style>\n",
       "<table border=\"1\" class=\"dataframe\">\n",
       "  <thead>\n",
       "    <tr style=\"text-align: right;\">\n",
       "      <th></th>\n",
       "      <th>APPRDX</th>\n",
       "      <th>cg06067658</th>\n",
       "      <th>cg15442538</th>\n",
       "      <th>cg25928446</th>\n",
       "      <th>cg12415575</th>\n",
       "      <th>cg26358225</th>\n",
       "      <th>cg19058526</th>\n",
       "      <th>cg20195763</th>\n",
       "      <th>cg23725394</th>\n",
       "      <th>cg27107076</th>\n",
       "      <th>...</th>\n",
       "      <th>cg00600684</th>\n",
       "      <th>cg13207036</th>\n",
       "      <th>cg05750276</th>\n",
       "      <th>cg02312170</th>\n",
       "      <th>cg17391830</th>\n",
       "      <th>cg13151449</th>\n",
       "      <th>cg13596132</th>\n",
       "      <th>cg26538046</th>\n",
       "      <th>cg18607338</th>\n",
       "      <th>cg14149699</th>\n",
       "    </tr>\n",
       "  </thead>\n",
       "  <tbody>\n",
       "    <tr>\n",
       "      <th>0</th>\n",
       "      <td>1</td>\n",
       "      <td>0.088679</td>\n",
       "      <td>0.890148</td>\n",
       "      <td>0.719238</td>\n",
       "      <td>0.066678</td>\n",
       "      <td>0.151532</td>\n",
       "      <td>0.133249</td>\n",
       "      <td>0.479724</td>\n",
       "      <td>0.926745</td>\n",
       "      <td>0.538423</td>\n",
       "      <td>...</td>\n",
       "      <td>0.927369</td>\n",
       "      <td>0.030600</td>\n",
       "      <td>0.052903</td>\n",
       "      <td>0.053346</td>\n",
       "      <td>0.041092</td>\n",
       "      <td>0.902988</td>\n",
       "      <td>0.911403</td>\n",
       "      <td>0.033966</td>\n",
       "      <td>0.827098</td>\n",
       "      <td>0.030215</td>\n",
       "    </tr>\n",
       "    <tr>\n",
       "      <th>1</th>\n",
       "      <td>1</td>\n",
       "      <td>0.128668</td>\n",
       "      <td>0.916448</td>\n",
       "      <td>0.726893</td>\n",
       "      <td>0.066768</td>\n",
       "      <td>0.198886</td>\n",
       "      <td>0.141136</td>\n",
       "      <td>0.412058</td>\n",
       "      <td>0.876792</td>\n",
       "      <td>0.665097</td>\n",
       "      <td>...</td>\n",
       "      <td>0.920645</td>\n",
       "      <td>0.023915</td>\n",
       "      <td>0.023711</td>\n",
       "      <td>0.035630</td>\n",
       "      <td>0.027145</td>\n",
       "      <td>0.896837</td>\n",
       "      <td>0.889727</td>\n",
       "      <td>0.038348</td>\n",
       "      <td>0.836846</td>\n",
       "      <td>0.083898</td>\n",
       "    </tr>\n",
       "  </tbody>\n",
       "</table>\n",
       "<p>2 rows × 5700 columns</p>\n",
       "</div>"
      ],
      "text/plain": [
       "   APPRDX  cg06067658  cg15442538  cg25928446  cg12415575  cg26358225  \\\n",
       "0       1    0.088679    0.890148    0.719238    0.066678    0.151532   \n",
       "1       1    0.128668    0.916448    0.726893    0.066768    0.198886   \n",
       "\n",
       "   cg19058526  cg20195763  cg23725394  cg27107076  ...  cg00600684  \\\n",
       "0    0.133249    0.479724    0.926745    0.538423  ...    0.927369   \n",
       "1    0.141136    0.412058    0.876792    0.665097  ...    0.920645   \n",
       "\n",
       "   cg13207036  cg05750276  cg02312170  cg17391830  cg13151449  cg13596132  \\\n",
       "0    0.030600    0.052903    0.053346    0.041092    0.902988    0.911403   \n",
       "1    0.023915    0.023711    0.035630    0.027145    0.896837    0.889727   \n",
       "\n",
       "   cg26538046  cg18607338  cg14149699  \n",
       "0    0.033966    0.827098    0.030215  \n",
       "1    0.038348    0.836846    0.083898  \n",
       "\n",
       "[2 rows x 5700 columns]"
      ]
     },
     "execution_count": 3,
     "metadata": {},
     "output_type": "execute_result"
    }
   ],
   "source": [
    "df = df1.drop(['PATNO', 'Sentrix', 'HYS', 'Gender', 'UPSIT_3'], axis=1)\n",
    "df.head(2)"
   ]
  },
  {
   "cell_type": "code",
   "execution_count": 4,
   "metadata": {
    "ExecuteTime": {
     "end_time": "2022-10-25T09:23:52.958443Z",
     "start_time": "2022-10-25T09:23:52.880349Z"
    }
   },
   "outputs": [
    {
     "name": "stdout",
     "output_type": "stream",
     "text": [
      "(200, 5700)\n"
     ]
    }
   ],
   "source": [
    "import random\n",
    "np.random.seed (2)\n",
    "df = df.groupby('APPRDX').apply(lambda x: x.sample(100))\n",
    "print (df.shape)\n"
   ]
  },
  {
   "cell_type": "code",
   "execution_count": 5,
   "metadata": {
    "ExecuteTime": {
     "end_time": "2022-10-25T09:23:53.043115Z",
     "start_time": "2022-10-25T09:23:52.958443Z"
    }
   },
   "outputs": [
    {
     "data": {
      "text/html": [
       "<div>\n",
       "<style scoped>\n",
       "    .dataframe tbody tr th:only-of-type {\n",
       "        vertical-align: middle;\n",
       "    }\n",
       "\n",
       "    .dataframe tbody tr th {\n",
       "        vertical-align: top;\n",
       "    }\n",
       "\n",
       "    .dataframe thead th {\n",
       "        text-align: right;\n",
       "    }\n",
       "</style>\n",
       "<table border=\"1\" class=\"dataframe\">\n",
       "  <thead>\n",
       "    <tr style=\"text-align: right;\">\n",
       "      <th></th>\n",
       "      <th></th>\n",
       "      <th>APPRDX</th>\n",
       "      <th>cg06067658</th>\n",
       "      <th>cg15442538</th>\n",
       "      <th>cg25928446</th>\n",
       "      <th>cg12415575</th>\n",
       "      <th>cg26358225</th>\n",
       "      <th>cg19058526</th>\n",
       "      <th>cg20195763</th>\n",
       "      <th>cg23725394</th>\n",
       "      <th>cg27107076</th>\n",
       "      <th>...</th>\n",
       "      <th>cg00600684</th>\n",
       "      <th>cg13207036</th>\n",
       "      <th>cg05750276</th>\n",
       "      <th>cg02312170</th>\n",
       "      <th>cg17391830</th>\n",
       "      <th>cg13151449</th>\n",
       "      <th>cg13596132</th>\n",
       "      <th>cg26538046</th>\n",
       "      <th>cg18607338</th>\n",
       "      <th>cg14149699</th>\n",
       "    </tr>\n",
       "    <tr>\n",
       "      <th>APPRDX</th>\n",
       "      <th></th>\n",
       "      <th></th>\n",
       "      <th></th>\n",
       "      <th></th>\n",
       "      <th></th>\n",
       "      <th></th>\n",
       "      <th></th>\n",
       "      <th></th>\n",
       "      <th></th>\n",
       "      <th></th>\n",
       "      <th></th>\n",
       "      <th></th>\n",
       "      <th></th>\n",
       "      <th></th>\n",
       "      <th></th>\n",
       "      <th></th>\n",
       "      <th></th>\n",
       "      <th></th>\n",
       "      <th></th>\n",
       "      <th></th>\n",
       "      <th></th>\n",
       "      <th></th>\n",
       "    </tr>\n",
       "  </thead>\n",
       "  <tbody>\n",
       "    <tr>\n",
       "      <th rowspan=\"2\" valign=\"top\">1</th>\n",
       "      <th>262</th>\n",
       "      <td>1</td>\n",
       "      <td>0.088886</td>\n",
       "      <td>0.901892</td>\n",
       "      <td>0.759336</td>\n",
       "      <td>0.040680</td>\n",
       "      <td>0.037525</td>\n",
       "      <td>0.123877</td>\n",
       "      <td>0.337736</td>\n",
       "      <td>0.891695</td>\n",
       "      <td>0.650277</td>\n",
       "      <td>...</td>\n",
       "      <td>0.933694</td>\n",
       "      <td>0.026348</td>\n",
       "      <td>0.029963</td>\n",
       "      <td>0.024963</td>\n",
       "      <td>0.022335</td>\n",
       "      <td>0.922451</td>\n",
       "      <td>0.886489</td>\n",
       "      <td>0.027186</td>\n",
       "      <td>0.83343</td>\n",
       "      <td>0.028802</td>\n",
       "    </tr>\n",
       "    <tr>\n",
       "      <th>214</th>\n",
       "      <td>1</td>\n",
       "      <td>0.130195</td>\n",
       "      <td>0.886075</td>\n",
       "      <td>0.721228</td>\n",
       "      <td>0.030683</td>\n",
       "      <td>0.126684</td>\n",
       "      <td>0.070607</td>\n",
       "      <td>0.416702</td>\n",
       "      <td>0.932702</td>\n",
       "      <td>0.623884</td>\n",
       "      <td>...</td>\n",
       "      <td>0.947202</td>\n",
       "      <td>0.039579</td>\n",
       "      <td>0.032158</td>\n",
       "      <td>0.039519</td>\n",
       "      <td>0.027002</td>\n",
       "      <td>0.905736</td>\n",
       "      <td>0.839796</td>\n",
       "      <td>0.035046</td>\n",
       "      <td>0.86860</td>\n",
       "      <td>0.031048</td>\n",
       "    </tr>\n",
       "  </tbody>\n",
       "</table>\n",
       "<p>2 rows × 5700 columns</p>\n",
       "</div>"
      ],
      "text/plain": [
       "            APPRDX  cg06067658  cg15442538  cg25928446  cg12415575  \\\n",
       "APPRDX                                                               \n",
       "1      262       1    0.088886    0.901892    0.759336    0.040680   \n",
       "       214       1    0.130195    0.886075    0.721228    0.030683   \n",
       "\n",
       "            cg26358225  cg19058526  cg20195763  cg23725394  cg27107076  ...  \\\n",
       "APPRDX                                                                  ...   \n",
       "1      262    0.037525    0.123877    0.337736    0.891695    0.650277  ...   \n",
       "       214    0.126684    0.070607    0.416702    0.932702    0.623884  ...   \n",
       "\n",
       "            cg00600684  cg13207036  cg05750276  cg02312170  cg17391830  \\\n",
       "APPRDX                                                                   \n",
       "1      262    0.933694    0.026348    0.029963    0.024963    0.022335   \n",
       "       214    0.947202    0.039579    0.032158    0.039519    0.027002   \n",
       "\n",
       "            cg13151449  cg13596132  cg26538046  cg18607338  cg14149699  \n",
       "APPRDX                                                                  \n",
       "1      262    0.922451    0.886489    0.027186     0.83343    0.028802  \n",
       "       214    0.905736    0.839796    0.035046     0.86860    0.031048  \n",
       "\n",
       "[2 rows x 5700 columns]"
      ]
     },
     "execution_count": 5,
     "metadata": {},
     "output_type": "execute_result"
    }
   ],
   "source": [
    "df.head(2)"
   ]
  },
  {
   "cell_type": "markdown",
   "metadata": {
    "colab_type": "text",
    "id": "K1VMqkGvhc3-"
   },
   "source": [
    "## Importing the dataset"
   ]
  },
  {
   "cell_type": "code",
   "execution_count": 6,
   "metadata": {
    "ExecuteTime": {
     "end_time": "2022-10-25T09:23:53.112231Z",
     "start_time": "2022-10-25T09:23:53.043115Z"
    },
    "colab": {},
    "colab_type": "code",
    "id": "M52QDmyzhh9s"
   },
   "outputs": [],
   "source": [
    "dataset = df\n",
    "X = dataset.iloc[:, 1:].values\n",
    "y = dataset.iloc[:, 0].values"
   ]
  },
  {
   "cell_type": "markdown",
   "metadata": {
    "colab_type": "text",
    "id": "YvxIPVyMhmKp"
   },
   "source": [
    "## Splitting the dataset into the Training set and Test set"
   ]
  },
  {
   "cell_type": "code",
   "execution_count": 7,
   "metadata": {
    "ExecuteTime": {
     "end_time": "2022-10-25T09:23:53.782532Z",
     "start_time": "2022-10-25T09:23:53.112231Z"
    },
    "colab": {},
    "colab_type": "code",
    "id": "AVzJWAXIhxoC"
   },
   "outputs": [],
   "source": [
    "from sklearn.model_selection import train_test_split\n",
    "X_train, X_test, y_train, y_test = train_test_split(X, y, test_size = 0.20, random_state = 1)"
   ]
  },
  {
   "cell_type": "code",
   "execution_count": 8,
   "metadata": {
    "ExecuteTime": {
     "end_time": "2022-10-25T09:23:53.798157Z",
     "start_time": "2022-10-25T09:23:53.782532Z"
    },
    "colab": {
     "base_uri": "https://localhost:8080/",
     "height": 1000
    },
    "colab_type": "code",
    "executionInfo": {
     "elapsed": 1300,
     "status": "ok",
     "timestamp": 1588269343329,
     "user": {
      "displayName": "Hadelin de Ponteves",
      "photoUrl": "https://lh3.googleusercontent.com/a-/AOh14GhEuXdT7eQweUmRPW8_laJuPggSK6hfvpl5a6WBaA=s64",
      "userId": "15047218817161520419"
     },
     "user_tz": -240
    },
    "id": "P3nS3-6r1i2B",
    "outputId": "e4a38929-7ac1-4895-a070-4f241ad247c0"
   },
   "outputs": [
    {
     "name": "stdout",
     "output_type": "stream",
     "text": [
      "[[0.08582349 0.91556699 0.70345297 ... 0.02037461 0.81110118 0.02949297]\n",
      " [0.11118719 0.92267025 0.77034765 ... 0.02805232 0.82124458 0.03999485]\n",
      " [0.12194803 0.91876564 0.79559496 ... 0.03276315 0.83795514 0.0331194 ]\n",
      " ...\n",
      " [0.10853076 0.90742352 0.75549646 ... 0.03611321 0.79191992 0.03042312]\n",
      " [0.0360985  0.91312155 0.71996002 ... 0.02982742 0.7868327  0.02760693]\n",
      " [0.13918915 0.90382966 0.70973836 ... 0.02810798 0.83927804 0.03219065]]\n"
     ]
    }
   ],
   "source": [
    "print(X_train)"
   ]
  },
  {
   "cell_type": "code",
   "execution_count": 9,
   "metadata": {
    "ExecuteTime": {
     "end_time": "2022-10-25T09:23:53.898544Z",
     "start_time": "2022-10-25T09:23:53.798157Z"
    },
    "colab": {
     "base_uri": "https://localhost:8080/",
     "height": 171
    },
    "colab_type": "code",
    "executionInfo": {
     "elapsed": 1294,
     "status": "ok",
     "timestamp": 1588269343330,
     "user": {
      "displayName": "Hadelin de Ponteves",
      "photoUrl": "https://lh3.googleusercontent.com/a-/AOh14GhEuXdT7eQweUmRPW8_laJuPggSK6hfvpl5a6WBaA=s64",
      "userId": "15047218817161520419"
     },
     "user_tz": -240
    },
    "id": "8dpDLojm1mVG",
    "outputId": "2a9b0425-9e6d-480f-b32a-ebae6f413dbe"
   },
   "outputs": [
    {
     "name": "stdout",
     "output_type": "stream",
     "text": [
      "[2 2 2 1 1 1 2 1 2 2 1 2 2 1 1 2 2 2 2 2 2 1 1 1 1 1 2 2 1 1 1 1 2 2 2 2 1\n",
      " 2 1 2 2 1 1 2 2 1 1 2 2 1 1 1 2 2 2 2 2 2 2 2 1 1 1 2 1 1 1 2 1 2 1 2 1 1\n",
      " 1 2 1 2 1 1 1 1 2 2 2 1 2 2 2 1 1 1 2 2 2 1 2 1 2 2 2 2 2 2 1 1 1 2 2 1 1\n",
      " 1 1 1 1 1 2 1 2 2 2 1 2 2 2 1 1 2 1 1 1 1 1 1 2 2 1 1 1 1 2 2 2 2 2 2 1 2\n",
      " 1 2 1 2 2 2 1 2 2 1 2 1]\n"
     ]
    }
   ],
   "source": [
    "print(y_train)"
   ]
  },
  {
   "cell_type": "code",
   "execution_count": 10,
   "metadata": {
    "ExecuteTime": {
     "end_time": "2022-10-25T09:23:53.998809Z",
     "start_time": "2022-10-25T09:23:53.898544Z"
    },
    "colab": {
     "base_uri": "https://localhost:8080/",
     "height": 1000
    },
    "colab_type": "code",
    "executionInfo": {
     "elapsed": 1613,
     "status": "ok",
     "timestamp": 1588269343657,
     "user": {
      "displayName": "Hadelin de Ponteves",
      "photoUrl": "https://lh3.googleusercontent.com/a-/AOh14GhEuXdT7eQweUmRPW8_laJuPggSK6hfvpl5a6WBaA=s64",
      "userId": "15047218817161520419"
     },
     "user_tz": -240
    },
    "id": "qbb7i0DH1qui",
    "outputId": "b10e7737-ae02-4c0c-b49f-8d961e2921b4"
   },
   "outputs": [
    {
     "name": "stdout",
     "output_type": "stream",
     "text": [
      "[[0.16921941 0.91031904 0.78891319 ... 0.03121598 0.84611142 0.03588977]\n",
      " [0.08850364 0.91140812 0.76282945 ... 0.02832759 0.80519677 0.02273935]\n",
      " [0.13520039 0.92784117 0.78868159 ... 0.02849103 0.84083723 0.0353548 ]\n",
      " ...\n",
      " [0.08070187 0.8861719  0.78292204 ... 0.02678381 0.85336988 0.03627461]\n",
      " [0.1911329  0.8940619  0.64133005 ... 0.02954248 0.84798194 0.03566068]\n",
      " [0.08835837 0.90915088 0.80669024 ... 0.02306451 0.81182118 0.03983769]]\n"
     ]
    }
   ],
   "source": [
    "print(X_test)"
   ]
  },
  {
   "cell_type": "code",
   "execution_count": 11,
   "metadata": {
    "ExecuteTime": {
     "end_time": "2022-10-25T09:23:54.083521Z",
     "start_time": "2022-10-25T09:23:53.998809Z"
    },
    "colab": {
     "base_uri": "https://localhost:8080/",
     "height": 68
    },
    "colab_type": "code",
    "executionInfo": {
     "elapsed": 1608,
     "status": "ok",
     "timestamp": 1588269343658,
     "user": {
      "displayName": "Hadelin de Ponteves",
      "photoUrl": "https://lh3.googleusercontent.com/a-/AOh14GhEuXdT7eQweUmRPW8_laJuPggSK6hfvpl5a6WBaA=s64",
      "userId": "15047218817161520419"
     },
     "user_tz": -240
    },
    "id": "kj1hnFAR1s5w",
    "outputId": "1f3a92ea-9844-4d4c-ca5f-075fa4ba98e0"
   },
   "outputs": [
    {
     "name": "stdout",
     "output_type": "stream",
     "text": [
      "[1 1 1 2 2 2 1 1 1 2 2 1 1 1 2 2 2 1 2 1 1 1 1 1 1 2 1 1 2 1 1 2 2 2 2 1 2\n",
      " 1 1 2]\n"
     ]
    }
   ],
   "source": [
    "print(y_test)"
   ]
  },
  {
   "cell_type": "markdown",
   "metadata": {
    "colab_type": "text",
    "id": "kW3c7UYih0hT"
   },
   "source": [
    "## Feature Scaling"
   ]
  },
  {
   "cell_type": "code",
   "execution_count": 12,
   "metadata": {
    "ExecuteTime": {
     "end_time": "2022-10-25T09:23:54.161702Z",
     "start_time": "2022-10-25T09:23:54.083521Z"
    },
    "colab": {},
    "colab_type": "code",
    "id": "9fQlDPKCh8sc"
   },
   "outputs": [],
   "source": [
    "from sklearn.preprocessing import StandardScaler\n",
    "sc = StandardScaler()\n",
    "X_train = sc.fit_transform(X_train)\n",
    "X_test = sc.transform(X_test)"
   ]
  },
  {
   "cell_type": "code",
   "execution_count": 13,
   "metadata": {
    "ExecuteTime": {
     "end_time": "2022-10-25T09:23:54.199479Z",
     "start_time": "2022-10-25T09:23:54.161702Z"
    },
    "colab": {
     "base_uri": "https://localhost:8080/",
     "height": 1000
    },
    "colab_type": "code",
    "executionInfo": {
     "elapsed": 1600,
     "status": "ok",
     "timestamp": 1588269343659,
     "user": {
      "displayName": "Hadelin de Ponteves",
      "photoUrl": "https://lh3.googleusercontent.com/a-/AOh14GhEuXdT7eQweUmRPW8_laJuPggSK6hfvpl5a6WBaA=s64",
      "userId": "15047218817161520419"
     },
     "user_tz": -240
    },
    "id": "syrnD1Op2BSR",
    "outputId": "b1fa2925-b7de-4530-b015-01bb51e742b4"
   },
   "outputs": [
    {
     "name": "stdout",
     "output_type": "stream",
     "text": [
      "[[-0.69251556  0.38219778 -1.14301772 ... -1.47042554 -0.17597501\n",
      "  -0.32136594]\n",
      " [ 0.02729096  0.84484335  0.45302005 ... -0.22320806  0.08212428\n",
      "   0.14437077]\n",
      " [ 0.33267717  0.59053069  1.05539476 ...  0.54205068  0.50732521\n",
      "  -0.1605411 ]\n",
      " ...\n",
      " [-0.04809674 -0.1481991   0.09868606 ...  1.08625807 -0.66404293\n",
      "  -0.28011566]\n",
      " [-2.1036811   0.22292229 -0.74917649 ...  0.06515168 -0.79348756\n",
      "  -0.40500777]\n",
      " [ 0.82197012 -0.38227221 -0.9930547  ... -0.21416547  0.54098656\n",
      "  -0.20172944]]\n"
     ]
    }
   ],
   "source": [
    "print(X_train)"
   ]
  },
  {
   "cell_type": "code",
   "execution_count": 14,
   "metadata": {
    "ExecuteTime": {
     "end_time": "2022-10-25T09:23:54.262023Z",
     "start_time": "2022-10-25T09:23:54.199479Z"
    },
    "colab": {
     "base_uri": "https://localhost:8080/",
     "height": 1000
    },
    "colab_type": "code",
    "executionInfo": {
     "elapsed": 1595,
     "status": "ok",
     "timestamp": 1588269343659,
     "user": {
      "displayName": "Hadelin de Ponteves",
      "photoUrl": "https://lh3.googleusercontent.com/a-/AOh14GhEuXdT7eQweUmRPW8_laJuPggSK6hfvpl5a6WBaA=s64",
      "userId": "15047218817161520419"
     },
     "user_tz": -240
    },
    "id": "JUd6iBRp2C3L",
    "outputId": "48320ca4-33e0-4bfe-92ba-91c06bcf714e"
   },
   "outputs": [
    {
     "name": "stdout",
     "output_type": "stream",
     "text": [
      "[[ 1.67421085  0.04039067  0.89597457 ...  0.29071801  0.71486203\n",
      "  -0.03768078]\n",
      " [-0.61645462  0.11132431  0.27364356 ... -0.17849097 -0.32621291\n",
      "  -0.62087511]\n",
      " [ 0.70877135  1.18163361  0.89044874 ... -0.15193977  0.58066003\n",
      "  -0.06140598]\n",
      " ...\n",
      " [-0.83786396 -1.53234895  0.75303195 ... -0.42927273  0.89955387\n",
      "  -0.02061409]\n",
      " [ 2.29610272 -1.01846129 -2.62520613 ...  0.01886444  0.76245759\n",
      "  -0.04784045]\n",
      " [-0.62057711 -0.03569334  1.32011664 ... -1.03346032 -0.15765468\n",
      "   0.13740131]]\n"
     ]
    }
   ],
   "source": [
    "print(X_test)"
   ]
  },
  {
   "cell_type": "markdown",
   "metadata": {
    "colab_type": "text",
    "id": "bb6jCOCQiAmP"
   },
   "source": [
    "## Training the Random Forest Classification model on the Training set"
   ]
  },
  {
   "cell_type": "code",
   "execution_count": 15,
   "metadata": {
    "ExecuteTime": {
     "end_time": "2022-10-25T09:23:55.063870Z",
     "start_time": "2022-10-25T09:23:54.262023Z"
    },
    "colab": {
     "base_uri": "https://localhost:8080/",
     "height": 154
    },
    "colab_type": "code",
    "executionInfo": {
     "elapsed": 1589,
     "status": "ok",
     "timestamp": 1588269343659,
     "user": {
      "displayName": "Hadelin de Ponteves",
      "photoUrl": "https://lh3.googleusercontent.com/a-/AOh14GhEuXdT7eQweUmRPW8_laJuPggSK6hfvpl5a6WBaA=s64",
      "userId": "15047218817161520419"
     },
     "user_tz": -240
    },
    "id": "e0pFVAmciHQs",
    "outputId": "79719013-2ffa-49f6-b49c-886d9ba19525"
   },
   "outputs": [
    {
     "data": {
      "text/plain": [
       "RandomForestClassifier(criterion='entropy', random_state=1)"
      ]
     },
     "execution_count": 15,
     "metadata": {},
     "output_type": "execute_result"
    }
   ],
   "source": [
    "from sklearn.ensemble import RandomForestClassifier\n",
    "classifier = RandomForestClassifier(n_estimators = 100, criterion = 'entropy', random_state = 1)\n",
    "classifier.fit(X_train, y_train)"
   ]
  },
  {
   "cell_type": "markdown",
   "metadata": {
    "colab_type": "text",
    "id": "vKYVQH-l5NpE"
   },
   "source": [
    "## Predicting the Test set results"
   ]
  },
  {
   "cell_type": "code",
   "execution_count": 16,
   "metadata": {
    "ExecuteTime": {
     "end_time": "2022-10-25T09:23:55.086015Z",
     "start_time": "2022-10-25T09:23:55.063870Z"
    },
    "colab": {
     "base_uri": "https://localhost:8080/",
     "height": 1000
    },
    "colab_type": "code",
    "executionInfo": {
     "elapsed": 1578,
     "status": "ok",
     "timestamp": 1588269343660,
     "user": {
      "displayName": "Hadelin de Ponteves",
      "photoUrl": "https://lh3.googleusercontent.com/a-/AOh14GhEuXdT7eQweUmRPW8_laJuPggSK6hfvpl5a6WBaA=s64",
      "userId": "15047218817161520419"
     },
     "user_tz": -240
    },
    "id": "p6VMTb2O4hwM",
    "outputId": "f160d9d3-e4cd-4484-db9d-99028dfed42d"
   },
   "outputs": [
    {
     "name": "stdout",
     "output_type": "stream",
     "text": [
      "[[1 1]\n",
      " [2 1]\n",
      " [1 1]\n",
      " [2 2]\n",
      " [1 2]\n",
      " [2 2]\n",
      " [1 1]\n",
      " [1 1]\n",
      " [2 1]\n",
      " [2 2]\n",
      " [2 2]\n",
      " [1 1]\n",
      " [2 1]\n",
      " [2 1]\n",
      " [1 2]\n",
      " [2 2]\n",
      " [1 2]\n",
      " [2 1]\n",
      " [1 2]\n",
      " [1 1]\n",
      " [2 1]\n",
      " [1 1]\n",
      " [2 1]\n",
      " [2 1]\n",
      " [1 1]\n",
      " [1 2]\n",
      " [1 1]\n",
      " [2 1]\n",
      " [1 2]\n",
      " [2 1]\n",
      " [2 1]\n",
      " [2 2]\n",
      " [2 2]\n",
      " [2 2]\n",
      " [1 2]\n",
      " [2 1]\n",
      " [1 2]\n",
      " [2 1]\n",
      " [1 1]\n",
      " [1 2]]\n"
     ]
    }
   ],
   "source": [
    "y_pred = classifier.predict(X_test)\n",
    "print(np.concatenate((y_pred.reshape(len(y_pred),1), y_test.reshape(len(y_test),1)),1))"
   ]
  },
  {
   "cell_type": "markdown",
   "metadata": {
    "colab_type": "text",
    "id": "h4Hwj34ziWQW"
   },
   "source": [
    "\n",
    "## Making the Confusion Matrix"
   ]
  },
  {
   "cell_type": "code",
   "execution_count": 17,
   "metadata": {
    "ExecuteTime": {
     "end_time": "2022-10-25T09:23:55.164197Z",
     "start_time": "2022-10-25T09:23:55.086015Z"
    },
    "colab": {
     "base_uri": "https://localhost:8080/",
     "height": 68
    },
    "colab_type": "code",
    "executionInfo": {
     "elapsed": 1898,
     "status": "ok",
     "timestamp": 1588269343985,
     "user": {
      "displayName": "Hadelin de Ponteves",
      "photoUrl": "https://lh3.googleusercontent.com/a-/AOh14GhEuXdT7eQweUmRPW8_laJuPggSK6hfvpl5a6WBaA=s64",
      "userId": "15047218817161520419"
     },
     "user_tz": -240
    },
    "id": "D6bpZwUiiXic",
    "outputId": "b4ab126b-4118-461e-f02a-cfe538ae6a71"
   },
   "outputs": [
    {
     "name": "stdout",
     "output_type": "stream",
     "text": [
      "[[10 13]\n",
      " [ 9  8]]\n"
     ]
    },
    {
     "data": {
      "text/plain": [
       "0.45"
      ]
     },
     "execution_count": 17,
     "metadata": {},
     "output_type": "execute_result"
    }
   ],
   "source": [
    "from sklearn.metrics import confusion_matrix, accuracy_score\n",
    "cm = confusion_matrix(y_test, y_pred)\n",
    "print(cm)\n",
    "accuracy_score(y_test, y_pred)"
   ]
  },
  {
   "cell_type": "code",
   "execution_count": 18,
   "metadata": {
    "ExecuteTime": {
     "end_time": "2022-10-25T09:23:55.517938Z",
     "start_time": "2022-10-25T09:23:55.164197Z"
    }
   },
   "outputs": [
    {
     "data": {
      "text/plain": [
       "Text(69.0, 0.5, 'Truth')"
      ]
     },
     "execution_count": 18,
     "metadata": {},
     "output_type": "execute_result"
    },
    {
     "data": {
      "image/png": "[encoded data removed]",
      "text/plain": [
       "<Figure size 720x504 with 2 Axes>"
      ]
     },
     "metadata": {
      "needs_background": "light"
     },
     "output_type": "display_data"
    }
   ],
   "source": [
    "%matplotlib inline\n",
    "import matplotlib.pyplot as plt\n",
    "import seaborn as sn\n",
    "plt.figure(figsize=(10,7))\n",
    "sn.heatmap(cm, annot=True)\n",
    "plt.xlabel('Predicted')\n",
    "plt.ylabel('Truth')"
   ]
  },
  {
   "cell_type": "code",
   "execution_count": null,
   "metadata": {},
   "outputs": [],
   "source": []
  }
 ],
 "metadata": {
  "colab": {
   "authorship_tag": "ABX9TyPA7K2PAkEFgaKFIvslUMEc",
   "collapsed_sections": [],
   "machine_shape": "hm",
   "name": "random_forest_classification.ipynb",
   "provenance": [],
   "toc_visible": true
  },
  "kernelspec": {
   "display_name": "Python 3 (ipykernel)",
   "language": "python",
   "name": "python3"
  },
  "language_info": {
   "codemirror_mode": {
    "name": "ipython",
    "version": 3
   },
   "file_extension": ".py",
   "mimetype": "text/x-python",
   "name": "python",
   "nbconvert_exporter": "python",
   "pygments_lexer": "ipython3",
   "version": "3.9.7"
  },
  "toc": {
   "base_numbering": 1,
   "nav_menu": {},
   "number_sections": true,
   "sideBar": true,
   "skip_h1_title": false,
   "title_cell": "Table of Contents",
   "title_sidebar": "Contents",
   "toc_cell": false,
   "toc_position": {},
   "toc_section_display": true,
   "toc_window_display": false
  },
  "varInspector": {
   "cols": {
    "lenName": 16,
    "lenType": 16,
    "lenVar": 40
   },
   "kernels_config": {
    "python": {
     "delete_cmd_postfix": "",
     "delete_cmd_prefix": "del ",
     "library": "var_list.py",
     "varRefreshCmd": "print(var_dic_list())"
    },
    "r": {
     "delete_cmd_postfix": ") ",
     "delete_cmd_prefix": "rm(",
     "library": "var_list.r",
     "varRefreshCmd": "cat(var_dic_list()) "
    }
   },
   "types_to_exclude": [
    "module",
    "function",
    "builtin_function_or_method",
    "instance",
    "_Feature"
   ],
   "window_display": false
  }
 },
 "nbformat": 4,
 "nbformat_minor": 1
}
