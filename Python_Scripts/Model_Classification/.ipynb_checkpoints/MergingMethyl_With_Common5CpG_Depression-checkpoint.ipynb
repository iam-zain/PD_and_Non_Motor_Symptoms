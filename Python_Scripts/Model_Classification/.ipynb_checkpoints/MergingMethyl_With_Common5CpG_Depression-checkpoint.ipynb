{
 "cells": [
  {
   "cell_type": "code",
   "execution_count": 1,
   "id": "227733c0",
   "metadata": {
    "ExecuteTime": {
     "end_time": "2022-12-13T13:15:32.969438Z",
     "start_time": "2022-12-13T13:15:32.018099Z"
    },
    "run_control": {
     "marked": false
    },
    "scrolled": true
   },
   "outputs": [],
   "source": [
    "import pandas as pd\n",
    "import numpy as np"
   ]
  },
  {
   "cell_type": "code",
   "execution_count": 2,
   "id": "0ebb8ca7",
   "metadata": {
    "ExecuteTime": {
     "end_time": "2022-12-13T13:19:43.332122Z",
     "start_time": "2022-12-13T13:15:32.971437Z"
    },
    "scrolled": false
   },
   "outputs": [
    {
     "name": "stdout",
     "output_type": "stream",
     "text": [
      "Z:\\PPMI_Data\\Excel_Data\\NonMotors\\Feature_CpG_Gene_Association\\Depression_Processed_Files\n",
      "(458, 106981)\n"
     ]
    },
    {
     "data": {
      "text/html": [
       "<div>\n",
       "<style scoped>\n",
       "    .dataframe tbody tr th:only-of-type {\n",
       "        vertical-align: middle;\n",
       "    }\n",
       "\n",
       "    .dataframe tbody tr th {\n",
       "        vertical-align: top;\n",
       "    }\n",
       "\n",
       "    .dataframe thead th {\n",
       "        text-align: right;\n",
       "    }\n",
       "</style>\n",
       "<table border=\"1\" class=\"dataframe\">\n",
       "  <thead>\n",
       "    <tr style=\"text-align: right;\">\n",
       "      <th></th>\n",
       "      <th>Sentrix</th>\n",
       "      <th>PATNO</th>\n",
       "      <th>HYS</th>\n",
       "      <th>Gender</th>\n",
       "      <th>APPRDX</th>\n",
       "      <th>MDS_Depress</th>\n",
       "      <th>cg20815302</th>\n",
       "      <th>cg25795414</th>\n",
       "      <th>cg00959375</th>\n",
       "      <th>cg07781847</th>\n",
       "      <th>...</th>\n",
       "      <th>cg02293835</th>\n",
       "      <th>cg25106148</th>\n",
       "      <th>cg09135009</th>\n",
       "      <th>cg16616325</th>\n",
       "      <th>cg08020573</th>\n",
       "      <th>cg19102621</th>\n",
       "      <th>cg26302779</th>\n",
       "      <th>cg10377074</th>\n",
       "      <th>cg06750710</th>\n",
       "      <th>ch.14.849914F</th>\n",
       "    </tr>\n",
       "  </thead>\n",
       "  <tbody>\n",
       "    <tr>\n",
       "      <th>0</th>\n",
       "      <td>200991620021_R01C01</td>\n",
       "      <td>3001</td>\n",
       "      <td>2</td>\n",
       "      <td>1</td>\n",
       "      <td>1</td>\n",
       "      <td>0</td>\n",
       "      <td>0.9080</td>\n",
       "      <td>0.8689</td>\n",
       "      <td>0.7528</td>\n",
       "      <td>0.8274</td>\n",
       "      <td>...</td>\n",
       "      <td>0.8903</td>\n",
       "      <td>0.0965</td>\n",
       "      <td>0.0884</td>\n",
       "      <td>0.0351</td>\n",
       "      <td>0.0403</td>\n",
       "      <td>0.6205</td>\n",
       "      <td>0.9172</td>\n",
       "      <td>0.8738</td>\n",
       "      <td>0.8099</td>\n",
       "      <td>0.0459</td>\n",
       "    </tr>\n",
       "    <tr>\n",
       "      <th>1</th>\n",
       "      <td>200973410167_R04C01</td>\n",
       "      <td>3007</td>\n",
       "      <td>2</td>\n",
       "      <td>1</td>\n",
       "      <td>1</td>\n",
       "      <td>0</td>\n",
       "      <td>0.9186</td>\n",
       "      <td>0.8653</td>\n",
       "      <td>0.7982</td>\n",
       "      <td>0.8238</td>\n",
       "      <td>...</td>\n",
       "      <td>0.8418</td>\n",
       "      <td>0.0569</td>\n",
       "      <td>0.0626</td>\n",
       "      <td>0.0323</td>\n",
       "      <td>0.0333</td>\n",
       "      <td>0.6568</td>\n",
       "      <td>0.8768</td>\n",
       "      <td>0.8915</td>\n",
       "      <td>0.7919</td>\n",
       "      <td>0.0617</td>\n",
       "    </tr>\n",
       "  </tbody>\n",
       "</table>\n",
       "<p>2 rows × 106981 columns</p>\n",
       "</div>"
      ],
      "text/plain": [
       "               Sentrix  PATNO  HYS  Gender  APPRDX  MDS_Depress  cg20815302  \\\n",
       "0  200991620021_R01C01   3001    2       1       1            0      0.9080   \n",
       "1  200973410167_R04C01   3007    2       1       1            0      0.9186   \n",
       "\n",
       "   cg25795414  cg00959375  cg07781847  ...  cg02293835  cg25106148  \\\n",
       "0      0.8689      0.7528      0.8274  ...      0.8903      0.0965   \n",
       "1      0.8653      0.7982      0.8238  ...      0.8418      0.0569   \n",
       "\n",
       "   cg09135009  cg16616325  cg08020573  cg19102621  cg26302779  cg10377074  \\\n",
       "0      0.0884      0.0351      0.0403      0.6205      0.9172      0.8738   \n",
       "1      0.0626      0.0323      0.0333      0.6568      0.8768      0.8915   \n",
       "\n",
       "   cg06750710  ch.14.849914F  \n",
       "0      0.8099         0.0459  \n",
       "1      0.7919         0.0617  \n",
       "\n",
       "[2 rows x 106981 columns]"
      ]
     },
     "execution_count": 2,
     "metadata": {},
     "output_type": "execute_result"
    }
   ],
   "source": [
    "%cd Z:\\PPMI_Data\\Excel_Data\\NonMotors\\Feature_CpG_Gene_Association\\Depression_Processed_Files\n",
    "df = pd.read_csv (\"DepressionCateg_Methylome_APPRDXFilter.csv\")\n",
    "df = df.round(decimals = 4)\n",
    "print (df.shape)\n",
    "df.head(2)"
   ]
  },
  {
   "cell_type": "code",
   "execution_count": 6,
   "id": "a60836ec",
   "metadata": {
    "ExecuteTime": {
     "end_time": "2022-12-13T13:19:59.221349Z",
     "start_time": "2022-12-13T13:19:59.205753Z"
    }
   },
   "outputs": [],
   "source": [
    "GeneList = ['Sentrix','PATNO','Gender','MDS_Depress','HYS','APPRDX',\n",
    "           'cg00052836','cg05789720','cg11608038','cg12220605','cg12298429','cg14529754']"
   ]
  },
  {
   "cell_type": "code",
   "execution_count": 7,
   "id": "448b7927",
   "metadata": {
    "ExecuteTime": {
     "end_time": "2022-12-13T13:20:01.592690Z",
     "start_time": "2022-12-13T13:20:01.530180Z"
    }
   },
   "outputs": [
    {
     "name": "stdout",
     "output_type": "stream",
     "text": [
      "(457, 12)\n"
     ]
    },
    {
     "data": {
      "text/html": [
       "<div>\n",
       "<style scoped>\n",
       "    .dataframe tbody tr th:only-of-type {\n",
       "        vertical-align: middle;\n",
       "    }\n",
       "\n",
       "    .dataframe tbody tr th {\n",
       "        vertical-align: top;\n",
       "    }\n",
       "\n",
       "    .dataframe thead th {\n",
       "        text-align: right;\n",
       "    }\n",
       "</style>\n",
       "<table border=\"1\" class=\"dataframe\">\n",
       "  <thead>\n",
       "    <tr style=\"text-align: right;\">\n",
       "      <th></th>\n",
       "      <th>Sentrix</th>\n",
       "      <th>PATNO</th>\n",
       "      <th>HYS</th>\n",
       "      <th>Gender</th>\n",
       "      <th>APPRDX</th>\n",
       "      <th>MDS_Depress</th>\n",
       "      <th>cg00052836</th>\n",
       "      <th>cg12298429</th>\n",
       "      <th>cg05789720</th>\n",
       "      <th>cg11608038</th>\n",
       "      <th>cg14529754</th>\n",
       "      <th>cg12220605</th>\n",
       "    </tr>\n",
       "  </thead>\n",
       "  <tbody>\n",
       "    <tr>\n",
       "      <th>0</th>\n",
       "      <td>200991620021_R01C01</td>\n",
       "      <td>3001</td>\n",
       "      <td>2</td>\n",
       "      <td>1</td>\n",
       "      <td>1</td>\n",
       "      <td>0</td>\n",
       "      <td>0.8725</td>\n",
       "      <td>0.0328</td>\n",
       "      <td>0.9109</td>\n",
       "      <td>0.4468</td>\n",
       "      <td>0.2996</td>\n",
       "      <td>0.0824</td>\n",
       "    </tr>\n",
       "    <tr>\n",
       "      <th>1</th>\n",
       "      <td>200973410167_R04C01</td>\n",
       "      <td>3007</td>\n",
       "      <td>2</td>\n",
       "      <td>1</td>\n",
       "      <td>1</td>\n",
       "      <td>0</td>\n",
       "      <td>0.9161</td>\n",
       "      <td>0.0427</td>\n",
       "      <td>0.9172</td>\n",
       "      <td>0.4472</td>\n",
       "      <td>0.2741</td>\n",
       "      <td>0.1135</td>\n",
       "    </tr>\n",
       "  </tbody>\n",
       "</table>\n",
       "</div>"
      ],
      "text/plain": [
       "               Sentrix  PATNO  HYS  Gender  APPRDX  MDS_Depress  cg00052836  \\\n",
       "0  200991620021_R01C01   3001    2       1       1            0      0.8725   \n",
       "1  200973410167_R04C01   3007    2       1       1            0      0.9161   \n",
       "\n",
       "   cg12298429  cg05789720  cg11608038  cg14529754  cg12220605  \n",
       "0      0.0328      0.9109      0.4468      0.2996      0.0824  \n",
       "1      0.0427      0.9172      0.4472      0.2741      0.1135  "
      ]
     },
     "execution_count": 7,
     "metadata": {},
     "output_type": "execute_result"
    }
   ],
   "source": [
    "df1 = df[[c for c in df.columns if c in GeneList]]\n",
    "df1 = df1[df1.PATNO != 4079]\n",
    "print(df1.shape)\n",
    "df1.head(2)"
   ]
  },
  {
   "cell_type": "code",
   "execution_count": 8,
   "id": "daea5549",
   "metadata": {
    "ExecuteTime": {
     "end_time": "2022-12-13T13:20:03.868521Z",
     "start_time": "2022-12-13T13:20:03.852886Z"
    }
   },
   "outputs": [],
   "source": [
    "df1.to_csv (\"DepressionCateg_Methylome_APPRDX_Common.csv\", index = False)"
   ]
  },
  {
   "cell_type": "code",
   "execution_count": null,
   "id": "b765c3ed",
   "metadata": {},
   "outputs": [],
   "source": []
  }
 ],
 "metadata": {
  "kernelspec": {
   "display_name": "Python 3 (ipykernel)",
   "language": "python",
   "name": "python3"
  },
  "language_info": {
   "codemirror_mode": {
    "name": "ipython",
    "version": 3
   },
   "file_extension": ".py",
   "mimetype": "text/x-python",
   "name": "python",
   "nbconvert_exporter": "python",
   "pygments_lexer": "ipython3",
   "version": "3.9.7"
  },
  "toc": {
   "base_numbering": 1,
   "nav_menu": {},
   "number_sections": true,
   "sideBar": true,
   "skip_h1_title": false,
   "title_cell": "Table of Contents",
   "title_sidebar": "Contents",
   "toc_cell": false,
   "toc_position": {},
   "toc_section_display": true,
   "toc_window_display": false
  },
  "varInspector": {
   "cols": {
    "lenName": 16,
    "lenType": 16,
    "lenVar": 40
   },
   "kernels_config": {
    "python": {
     "delete_cmd_postfix": "",
     "delete_cmd_prefix": "del ",
     "library": "var_list.py",
     "varRefreshCmd": "print(var_dic_list())"
    },
    "r": {
     "delete_cmd_postfix": ") ",
     "delete_cmd_prefix": "rm(",
     "library": "var_list.r",
     "varRefreshCmd": "cat(var_dic_list()) "
    }
   },
   "types_to_exclude": [
    "module",
    "function",
    "builtin_function_or_method",
    "instance",
    "_Feature"
   ],
   "window_display": false
  }
 },
 "nbformat": 4,
 "nbformat_minor": 5
}
