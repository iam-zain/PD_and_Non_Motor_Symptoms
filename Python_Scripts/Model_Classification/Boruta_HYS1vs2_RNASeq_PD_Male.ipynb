{
 "cells": [
  {
   "cell_type": "code",
   "execution_count": 1,
   "id": "51c5704f",
   "metadata": {
    "ExecuteTime": {
     "end_time": "2023-11-18T06:40:33.756686Z",
     "start_time": "2023-11-18T06:40:27.781817Z"
    }
   },
   "outputs": [],
   "source": [
    "import numpy as np\n",
    "import pandas as pd\n",
    "from boruta import BorutaPy\n",
    "from sklearn.datasets import load_diabetes\n",
    "from sklearn.metrics import accuracy_score \n",
    "from sklearn.ensemble import RandomForestRegressor\n",
    "from sklearn.ensemble import RandomForestClassifier\n",
    "from sklearn.model_selection import train_test_split"
   ]
  },
  {
   "cell_type": "code",
   "execution_count": 2,
   "id": "5ff336b1",
   "metadata": {
    "ExecuteTime": {
     "end_time": "2023-11-18T06:40:40.873575Z",
     "start_time": "2023-11-18T06:40:33.791636Z"
    }
   },
   "outputs": [
    {
     "name": "stdout",
     "output_type": "stream",
     "text": [
      "S:\\PPMI_RNA\\Processed\\Progression_Analysis\\Male\n"
     ]
    },
    {
     "data": {
      "text/html": [
       "<div>\n",
       "<style scoped>\n",
       "    .dataframe tbody tr th:only-of-type {\n",
       "        vertical-align: middle;\n",
       "    }\n",
       "\n",
       "    .dataframe tbody tr th {\n",
       "        vertical-align: top;\n",
       "    }\n",
       "\n",
       "    .dataframe thead th {\n",
       "        text-align: right;\n",
       "    }\n",
       "</style>\n",
       "<table border=\"1\" class=\"dataframe\">\n",
       "  <thead>\n",
       "    <tr style=\"text-align: right;\">\n",
       "      <th></th>\n",
       "      <th>HudAlphaID</th>\n",
       "      <th>HYS</th>\n",
       "      <th>ENSG00000223972.5</th>\n",
       "      <th>ENSG00000227232.5</th>\n",
       "      <th>ENSG00000278267.1</th>\n",
       "      <th>ENSG00000243485.5</th>\n",
       "      <th>ENSG00000284332.1</th>\n",
       "      <th>ENSG00000237613.2</th>\n",
       "      <th>ENSG00000268020.3</th>\n",
       "      <th>ENSG00000240361.2</th>\n",
       "      <th>...</th>\n",
       "      <th>ENSG00000273739.1</th>\n",
       "      <th>ENSG00000276700.1</th>\n",
       "      <th>ENSG00000276312.1</th>\n",
       "      <th>ENSG00000275757.1</th>\n",
       "      <th>ENSG00000278573.1</th>\n",
       "      <th>ENSG00000276017.1</th>\n",
       "      <th>ENSG00000278817.1</th>\n",
       "      <th>ENSG00000277196.4</th>\n",
       "      <th>ENSG00000278625.1</th>\n",
       "      <th>ENSG00000277374.1</th>\n",
       "    </tr>\n",
       "  </thead>\n",
       "  <tbody>\n",
       "    <tr>\n",
       "      <th>0</th>\n",
       "      <td>5104_SL_0029</td>\n",
       "      <td>1</td>\n",
       "      <td>1</td>\n",
       "      <td>55</td>\n",
       "      <td>2</td>\n",
       "      <td>0</td>\n",
       "      <td>0</td>\n",
       "      <td>0</td>\n",
       "      <td>0</td>\n",
       "      <td>0</td>\n",
       "      <td>...</td>\n",
       "      <td>0</td>\n",
       "      <td>0</td>\n",
       "      <td>3</td>\n",
       "      <td>0</td>\n",
       "      <td>0</td>\n",
       "      <td>0</td>\n",
       "      <td>10</td>\n",
       "      <td>0</td>\n",
       "      <td>0</td>\n",
       "      <td>0</td>\n",
       "    </tr>\n",
       "  </tbody>\n",
       "</table>\n",
       "<p>1 rows × 58782 columns</p>\n",
       "</div>"
      ],
      "text/plain": [
       "     HudAlphaID  HYS  ENSG00000223972.5  ENSG00000227232.5  ENSG00000278267.1  \\\n",
       "0  5104_SL_0029    1                  1                 55                  2   \n",
       "\n",
       "   ENSG00000243485.5  ENSG00000284332.1  ENSG00000237613.2  ENSG00000268020.3  \\\n",
       "0                  0                  0                  0                  0   \n",
       "\n",
       "   ENSG00000240361.2  ...  ENSG00000273739.1  ENSG00000276700.1  \\\n",
       "0                  0  ...                  0                  0   \n",
       "\n",
       "   ENSG00000276312.1  ENSG00000275757.1  ENSG00000278573.1  ENSG00000276017.1  \\\n",
       "0                  3                  0                  0                  0   \n",
       "\n",
       "   ENSG00000278817.1  ENSG00000277196.4  ENSG00000278625.1  ENSG00000277374.1  \n",
       "0                 10                  0                  0                  0  \n",
       "\n",
       "[1 rows x 58782 columns]"
      ]
     },
     "execution_count": 2,
     "metadata": {},
     "output_type": "execute_result"
    }
   ],
   "source": [
    "%cd S:\\PPMI_RNA\\Processed\\Progression_Analysis\\Male\n",
    "data = pd.read_csv('CountData_HYS1vs2_PD_withHYS_Male.csv')\n",
    "data.head(1)"
   ]
  },
  {
   "cell_type": "code",
   "execution_count": 10,
   "id": "ee22df7a",
   "metadata": {
    "ExecuteTime": {
     "end_time": "2023-11-18T06:42:36.051105Z",
     "start_time": "2023-11-18T06:42:35.942056Z"
    }
   },
   "outputs": [
    {
     "name": "stdout",
     "output_type": "stream",
     "text": [
      "   ENSG00000223972.5  ENSG00000227232.5  ENSG00000278267.1  ENSG00000243485.5  \\\n",
      "0                  1                 55                  2                  0   \n",
      "1                 16                274                 20                  1   \n",
      "\n",
      "   ENSG00000284332.1  ENSG00000237613.2  ENSG00000268020.3  ENSG00000240361.2  \\\n",
      "0                  0                  0                  0                  0   \n",
      "1                  0                  0                  0                  1   \n",
      "\n",
      "   ENSG00000186092.6  ENSG00000238009.6  ...  ENSG00000273739.1  \\\n",
      "0                  0                 85  ...                  0   \n",
      "1                  0                295  ...                  1   \n",
      "\n",
      "   ENSG00000276700.1  ENSG00000276312.1  ENSG00000275757.1  ENSG00000278573.1  \\\n",
      "0                  0                  3                  0                  0   \n",
      "1                 44                  6                  1                  0   \n",
      "\n",
      "   ENSG00000276017.1  ENSG00000278817.1  ENSG00000277196.4  ENSG00000278625.1  \\\n",
      "0                  0                 10                  0                  0   \n",
      "1                  5                 19                  9                  0   \n",
      "\n",
      "   ENSG00000277374.1  \n",
      "0                  0  \n",
      "1                  0  \n",
      "\n",
      "[2 rows x 58780 columns]\n"
     ]
    }
   ],
   "source": [
    "X = data.drop(['HudAlphaID', 'HYS'], axis = 1)\n",
    "y = data['HYS']\n",
    "X_train, X_test, y_train, y_test = train_test_split(X, y, test_size = .2, random_state = 1) \n",
    "print(X.head(2))"
   ]
  },
  {
   "cell_type": "code",
   "execution_count": 11,
   "id": "c1ee3e48",
   "metadata": {
    "ExecuteTime": {
     "end_time": "2023-11-18T06:42:45.523057Z",
     "start_time": "2023-11-18T06:42:44.590056Z"
    }
   },
   "outputs": [
    {
     "data": {
      "text/plain": [
       "RandomForestClassifier(random_state=1)"
      ]
     },
     "execution_count": 11,
     "metadata": {},
     "output_type": "execute_result"
    }
   ],
   "source": [
    "rf_all_features = RandomForestClassifier(random_state=1)\n",
    "rf_all_features.fit(X_train, y_train)"
   ]
  },
  {
   "cell_type": "code",
   "execution_count": 12,
   "id": "f17f8606",
   "metadata": {
    "ExecuteTime": {
     "end_time": "2023-11-18T06:42:48.880229Z",
     "start_time": "2023-11-18T06:42:48.518499Z"
    }
   },
   "outputs": [
    {
     "data": {
      "text/plain": [
       "0.42424242424242425"
      ]
     },
     "execution_count": 12,
     "metadata": {},
     "output_type": "execute_result"
    }
   ],
   "source": [
    "accuracy_score(y_test, rf_all_features.predict(X_test))"
   ]
  },
  {
   "cell_type": "code",
   "execution_count": 13,
   "id": "5ba608ac",
   "metadata": {
    "ExecuteTime": {
     "end_time": "2023-11-18T06:46:39.337849Z",
     "start_time": "2023-11-18T06:42:51.864229Z"
    },
    "scrolled": true
   },
   "outputs": [
    {
     "name": "stdout",
     "output_type": "stream",
     "text": [
      "Iteration: 1 / 100\n",
      "Iteration: 2 / 100\n",
      "Iteration: 3 / 100\n",
      "Iteration: 4 / 100\n",
      "Iteration: 5 / 100\n",
      "Iteration: 6 / 100\n",
      "Iteration: 7 / 100\n",
      "Iteration: 8 / 100\n",
      "\n",
      "\n",
      "BorutaPy finished running.\n",
      "\n",
      "Iteration: \t9 / 100\n",
      "Confirmed: \t0\n",
      "Tentative: \t0\n",
      "Rejected: \t58780\n"
     ]
    },
    {
     "data": {
      "text/plain": [
       "BorutaPy(estimator=RandomForestClassifier(n_estimators=3428,\n",
       "                                          random_state=RandomState(MT19937) at 0x234B509C440),\n",
       "         n_estimators='auto',\n",
       "         random_state=RandomState(MT19937) at 0x234B509C440, verbose=1)"
      ]
     },
     "execution_count": 13,
     "metadata": {},
     "output_type": "execute_result"
    }
   ],
   "source": [
    "rfc = RandomForestClassifier(random_state=1)\n",
    "boruta_selector = BorutaPy(rfc, n_estimators= 'auto', verbose=1, random_state=1)\n",
    "boruta_selector.fit(np.array(X_train), np.array(y_train))  "
   ]
  },
  {
   "cell_type": "code",
   "execution_count": 14,
   "id": "51f874e0",
   "metadata": {
    "ExecuteTime": {
     "end_time": "2023-11-18T06:46:42.267807Z",
     "start_time": "2023-11-18T06:46:42.254736Z"
    }
   },
   "outputs": [
    {
     "name": "stdout",
     "output_type": "stream",
     "text": [
      "No. of significant features:  0\n"
     ]
    }
   ],
   "source": [
    "# print(\"Ranking: \",boruta_selector.ranking_)          \n",
    "print(\"No. of significant features: \", boruta_selector.n_features_)"
   ]
  },
  {
   "cell_type": "code",
   "execution_count": 15,
   "id": "61cadc89",
   "metadata": {
    "ExecuteTime": {
     "end_time": "2023-11-18T06:46:45.232768Z",
     "start_time": "2023-11-18T06:46:45.171737Z"
    }
   },
   "outputs": [],
   "source": [
    "selected_rf_features = pd.DataFrame({'CpG':list(X_train.columns),\n",
    "                                       'Ranking':boruta_selector.ranking_})\n",
    "selected_rf_features = selected_rf_features.sort_values(by='Ranking')"
   ]
  },
  {
   "cell_type": "code",
   "execution_count": 27,
   "id": "6ae888ab",
   "metadata": {
    "ExecuteTime": {
     "end_time": "2023-11-18T06:51:40.855635Z",
     "start_time": "2023-11-18T06:51:40.847634Z"
    },
    "scrolled": true
   },
   "outputs": [
    {
     "data": {
      "text/html": [
       "<div>\n",
       "<style scoped>\n",
       "    .dataframe tbody tr th:only-of-type {\n",
       "        vertical-align: middle;\n",
       "    }\n",
       "\n",
       "    .dataframe tbody tr th {\n",
       "        vertical-align: top;\n",
       "    }\n",
       "\n",
       "    .dataframe thead th {\n",
       "        text-align: right;\n",
       "    }\n",
       "</style>\n",
       "<table border=\"1\" class=\"dataframe\">\n",
       "  <thead>\n",
       "    <tr style=\"text-align: right;\">\n",
       "      <th></th>\n",
       "      <th>CpG</th>\n",
       "      <th>Ranking</th>\n",
       "    </tr>\n",
       "  </thead>\n",
       "  <tbody>\n",
       "    <tr>\n",
       "      <th>53566</th>\n",
       "      <td>ENSG00000280433.1</td>\n",
       "      <td>2</td>\n",
       "    </tr>\n",
       "    <tr>\n",
       "      <th>5148</th>\n",
       "      <td>ENSG00000236031.1</td>\n",
       "      <td>3</td>\n",
       "    </tr>\n",
       "    <tr>\n",
       "      <th>22911</th>\n",
       "      <td>ENSG00000128578.9</td>\n",
       "      <td>4</td>\n",
       "    </tr>\n",
       "  </tbody>\n",
       "</table>\n",
       "</div>"
      ],
      "text/plain": [
       "                     CpG  Ranking\n",
       "53566  ENSG00000280433.1        2\n",
       "5148   ENSG00000236031.1        3\n",
       "22911  ENSG00000128578.9        4"
      ]
     },
     "execution_count": 27,
     "metadata": {},
     "output_type": "execute_result"
    }
   ],
   "source": [
    "Top50 = selected_rf_features.iloc[:50, :]\n",
    "Top50.head(3)"
   ]
  },
  {
   "cell_type": "markdown",
   "id": "a3aba4cb",
   "metadata": {},
   "source": [
    "### Top 50"
   ]
  },
  {
   "cell_type": "code",
   "execution_count": 28,
   "id": "9605e163",
   "metadata": {
    "ExecuteTime": {
     "end_time": "2023-11-18T06:51:50.106450Z",
     "start_time": "2023-11-18T06:51:49.981382Z"
    }
   },
   "outputs": [],
   "source": [
    "Top50.to_csv ('HYS1vs2_Boruta_Top50_Male.csv', index = False)\n",
    "selected_rf_features.to_csv ('HYS1vs2_Boruta_All_Male.csv', index = False)"
   ]
  },
  {
   "cell_type": "code",
   "execution_count": 29,
   "id": "a5bc67f8",
   "metadata": {
    "ExecuteTime": {
     "end_time": "2023-11-18T06:51:53.221385Z",
     "start_time": "2023-11-18T06:51:53.192384Z"
    }
   },
   "outputs": [
    {
     "name": "stderr",
     "output_type": "stream",
     "text": [
      "C:\\Users\\system 4\\AppData\\Local\\Temp\\ipykernel_8908\\1143389863.py:6: SettingWithCopyWarning: \n",
      "A value is trying to be set on a copy of a slice from a DataFrame.\n",
      "Try using .loc[row_indexer,col_indexer] = value instead\n",
      "\n",
      "See the caveats in the documentation: https://pandas.pydata.org/pandas-docs/stable/user_guide/indexing.html#returning-a-view-versus-a-copy\n",
      "  df_subset['HYS'] = data['HYS']\n"
     ]
    },
    {
     "data": {
      "text/html": [
       "<div>\n",
       "<style scoped>\n",
       "    .dataframe tbody tr th:only-of-type {\n",
       "        vertical-align: middle;\n",
       "    }\n",
       "\n",
       "    .dataframe tbody tr th {\n",
       "        vertical-align: top;\n",
       "    }\n",
       "\n",
       "    .dataframe thead th {\n",
       "        text-align: right;\n",
       "    }\n",
       "</style>\n",
       "<table border=\"1\" class=\"dataframe\">\n",
       "  <thead>\n",
       "    <tr style=\"text-align: right;\">\n",
       "      <th></th>\n",
       "      <th>ENSG00000259984.1</th>\n",
       "      <th>ENSG00000284138.1</th>\n",
       "      <th>ENSG00000196517.11</th>\n",
       "      <th>ENSG00000142945.12</th>\n",
       "      <th>ENSG00000122477.12</th>\n",
       "      <th>ENSG00000268288.1</th>\n",
       "      <th>ENSG00000234604.2</th>\n",
       "      <th>ENSG00000203721.6</th>\n",
       "      <th>ENSG00000229832.1</th>\n",
       "      <th>ENSG00000236031.1</th>\n",
       "      <th>...</th>\n",
       "      <th>ENSG00000282980.1</th>\n",
       "      <th>ENSG00000277589.1</th>\n",
       "      <th>ENSG00000250751.1</th>\n",
       "      <th>ENSG00000267374.1</th>\n",
       "      <th>ENSG00000124224.16</th>\n",
       "      <th>ENSG00000280433.1</th>\n",
       "      <th>ENSG00000278996.1</th>\n",
       "      <th>ENSG00000212933.1</th>\n",
       "      <th>ENSG00000214322.3</th>\n",
       "      <th>HYS</th>\n",
       "    </tr>\n",
       "  </thead>\n",
       "  <tbody>\n",
       "    <tr>\n",
       "      <th>0</th>\n",
       "      <td>72</td>\n",
       "      <td>14</td>\n",
       "      <td>92</td>\n",
       "      <td>21</td>\n",
       "      <td>31</td>\n",
       "      <td>12</td>\n",
       "      <td>21</td>\n",
       "      <td>332</td>\n",
       "      <td>195</td>\n",
       "      <td>5</td>\n",
       "      <td>...</td>\n",
       "      <td>168</td>\n",
       "      <td>77</td>\n",
       "      <td>6</td>\n",
       "      <td>6</td>\n",
       "      <td>917</td>\n",
       "      <td>190</td>\n",
       "      <td>2</td>\n",
       "      <td>3</td>\n",
       "      <td>0</td>\n",
       "      <td>1</td>\n",
       "    </tr>\n",
       "    <tr>\n",
       "      <th>1</th>\n",
       "      <td>81</td>\n",
       "      <td>71</td>\n",
       "      <td>493</td>\n",
       "      <td>52</td>\n",
       "      <td>25</td>\n",
       "      <td>24</td>\n",
       "      <td>13</td>\n",
       "      <td>182</td>\n",
       "      <td>109</td>\n",
       "      <td>9</td>\n",
       "      <td>...</td>\n",
       "      <td>199</td>\n",
       "      <td>68</td>\n",
       "      <td>9</td>\n",
       "      <td>5</td>\n",
       "      <td>1958</td>\n",
       "      <td>56</td>\n",
       "      <td>122</td>\n",
       "      <td>14</td>\n",
       "      <td>3</td>\n",
       "      <td>1</td>\n",
       "    </tr>\n",
       "  </tbody>\n",
       "</table>\n",
       "<p>2 rows × 51 columns</p>\n",
       "</div>"
      ],
      "text/plain": [
       "   ENSG00000259984.1  ENSG00000284138.1  ENSG00000196517.11  \\\n",
       "0                 72                 14                  92   \n",
       "1                 81                 71                 493   \n",
       "\n",
       "   ENSG00000142945.12  ENSG00000122477.12  ENSG00000268288.1  \\\n",
       "0                  21                  31                 12   \n",
       "1                  52                  25                 24   \n",
       "\n",
       "   ENSG00000234604.2  ENSG00000203721.6  ENSG00000229832.1  ENSG00000236031.1  \\\n",
       "0                 21                332                195                  5   \n",
       "1                 13                182                109                  9   \n",
       "\n",
       "   ...  ENSG00000282980.1  ENSG00000277589.1  ENSG00000250751.1  \\\n",
       "0  ...                168                 77                  6   \n",
       "1  ...                199                 68                  9   \n",
       "\n",
       "   ENSG00000267374.1  ENSG00000124224.16  ENSG00000280433.1  \\\n",
       "0                  6                 917                190   \n",
       "1                  5                1958                 56   \n",
       "\n",
       "   ENSG00000278996.1  ENSG00000212933.1  ENSG00000214322.3  HYS  \n",
       "0                  2                  3                  0    1  \n",
       "1                122                 14                  3    1  \n",
       "\n",
       "[2 rows x 51 columns]"
      ]
     },
     "execution_count": 29,
     "metadata": {},
     "output_type": "execute_result"
    }
   ],
   "source": [
    "# create a list of column names to subset from data\n",
    "col_names = Top50.iloc[:, 0].tolist()\n",
    "\n",
    "# subset df based on the column names\n",
    "df_subset = data.loc[:, data.columns.isin(col_names)]\n",
    "df_subset['HYS'] = data['HYS']\n",
    "df_subset.to_csv ('HYS1vs2_Boruta_Top50_Data_Male.csv', index = False)\n",
    "df_subset.head(2)"
   ]
  },
  {
   "cell_type": "markdown",
   "id": "02af7ae1",
   "metadata": {},
   "source": [
    "### Top 100"
   ]
  },
  {
   "cell_type": "code",
   "execution_count": 30,
   "id": "d2bf41f3",
   "metadata": {
    "ExecuteTime": {
     "end_time": "2023-11-18T06:52:10.790015Z",
     "start_time": "2023-11-18T06:52:10.766385Z"
    }
   },
   "outputs": [
    {
     "data": {
      "text/html": [
       "<div>\n",
       "<style scoped>\n",
       "    .dataframe tbody tr th:only-of-type {\n",
       "        vertical-align: middle;\n",
       "    }\n",
       "\n",
       "    .dataframe tbody tr th {\n",
       "        vertical-align: top;\n",
       "    }\n",
       "\n",
       "    .dataframe thead th {\n",
       "        text-align: right;\n",
       "    }\n",
       "</style>\n",
       "<table border=\"1\" class=\"dataframe\">\n",
       "  <thead>\n",
       "    <tr style=\"text-align: right;\">\n",
       "      <th></th>\n",
       "      <th>CpG</th>\n",
       "      <th>Ranking</th>\n",
       "    </tr>\n",
       "  </thead>\n",
       "  <tbody>\n",
       "    <tr>\n",
       "      <th>53566</th>\n",
       "      <td>ENSG00000280433.1</td>\n",
       "      <td>2</td>\n",
       "    </tr>\n",
       "    <tr>\n",
       "      <th>5148</th>\n",
       "      <td>ENSG00000236031.1</td>\n",
       "      <td>3</td>\n",
       "    </tr>\n",
       "  </tbody>\n",
       "</table>\n",
       "</div>"
      ],
      "text/plain": [
       "                     CpG  Ranking\n",
       "53566  ENSG00000280433.1        2\n",
       "5148   ENSG00000236031.1        3"
      ]
     },
     "execution_count": 30,
     "metadata": {},
     "output_type": "execute_result"
    }
   ],
   "source": [
    "Top100 = selected_rf_features.iloc[:100, :]\n",
    "Top100.to_csv ('HYS1vs2_Boruta_Top100_Male.csv', index = False)\n",
    "Top100.head(2)"
   ]
  },
  {
   "cell_type": "code",
   "execution_count": 31,
   "id": "bd596750",
   "metadata": {
    "ExecuteTime": {
     "end_time": "2023-11-18T06:52:13.981608Z",
     "start_time": "2023-11-18T06:52:13.952577Z"
    }
   },
   "outputs": [
    {
     "name": "stderr",
     "output_type": "stream",
     "text": [
      "C:\\Users\\system 4\\AppData\\Local\\Temp\\ipykernel_8908\\3681904022.py:6: SettingWithCopyWarning: \n",
      "A value is trying to be set on a copy of a slice from a DataFrame.\n",
      "Try using .loc[row_indexer,col_indexer] = value instead\n",
      "\n",
      "See the caveats in the documentation: https://pandas.pydata.org/pandas-docs/stable/user_guide/indexing.html#returning-a-view-versus-a-copy\n",
      "  df_subset['HYS'] = data['HYS']\n"
     ]
    },
    {
     "data": {
      "text/html": [
       "<div>\n",
       "<style scoped>\n",
       "    .dataframe tbody tr th:only-of-type {\n",
       "        vertical-align: middle;\n",
       "    }\n",
       "\n",
       "    .dataframe tbody tr th {\n",
       "        vertical-align: top;\n",
       "    }\n",
       "\n",
       "    .dataframe thead th {\n",
       "        text-align: right;\n",
       "    }\n",
       "</style>\n",
       "<table border=\"1\" class=\"dataframe\">\n",
       "  <thead>\n",
       "    <tr style=\"text-align: right;\">\n",
       "      <th></th>\n",
       "      <th>ENSG00000142583.17</th>\n",
       "      <th>ENSG00000259984.1</th>\n",
       "      <th>ENSG00000228589.3</th>\n",
       "      <th>ENSG00000284138.1</th>\n",
       "      <th>ENSG00000196517.11</th>\n",
       "      <th>ENSG00000142945.12</th>\n",
       "      <th>ENSG00000231613.1</th>\n",
       "      <th>ENSG00000122477.12</th>\n",
       "      <th>ENSG00000268288.1</th>\n",
       "      <th>ENSG00000234604.2</th>\n",
       "      <th>...</th>\n",
       "      <th>ENSG00000275453.2</th>\n",
       "      <th>ENSG00000124224.16</th>\n",
       "      <th>ENSG00000280433.1</th>\n",
       "      <th>ENSG00000278996.1</th>\n",
       "      <th>ENSG00000212933.1</th>\n",
       "      <th>ENSG00000223695.1</th>\n",
       "      <th>ENSG00000214322.3</th>\n",
       "      <th>ENSG00000102003.10</th>\n",
       "      <th>ENSG00000090889.11</th>\n",
       "      <th>HYS</th>\n",
       "    </tr>\n",
       "  </thead>\n",
       "  <tbody>\n",
       "    <tr>\n",
       "      <th>0</th>\n",
       "      <td>82</td>\n",
       "      <td>72</td>\n",
       "      <td>19</td>\n",
       "      <td>14</td>\n",
       "      <td>92</td>\n",
       "      <td>21</td>\n",
       "      <td>8</td>\n",
       "      <td>31</td>\n",
       "      <td>12</td>\n",
       "      <td>21</td>\n",
       "      <td>...</td>\n",
       "      <td>13</td>\n",
       "      <td>917</td>\n",
       "      <td>190</td>\n",
       "      <td>2</td>\n",
       "      <td>3</td>\n",
       "      <td>3</td>\n",
       "      <td>0</td>\n",
       "      <td>19</td>\n",
       "      <td>27</td>\n",
       "      <td>1</td>\n",
       "    </tr>\n",
       "    <tr>\n",
       "      <th>1</th>\n",
       "      <td>139</td>\n",
       "      <td>81</td>\n",
       "      <td>35</td>\n",
       "      <td>71</td>\n",
       "      <td>493</td>\n",
       "      <td>52</td>\n",
       "      <td>6</td>\n",
       "      <td>25</td>\n",
       "      <td>24</td>\n",
       "      <td>13</td>\n",
       "      <td>...</td>\n",
       "      <td>4</td>\n",
       "      <td>1958</td>\n",
       "      <td>56</td>\n",
       "      <td>122</td>\n",
       "      <td>14</td>\n",
       "      <td>9</td>\n",
       "      <td>3</td>\n",
       "      <td>50</td>\n",
       "      <td>106</td>\n",
       "      <td>1</td>\n",
       "    </tr>\n",
       "  </tbody>\n",
       "</table>\n",
       "<p>2 rows × 101 columns</p>\n",
       "</div>"
      ],
      "text/plain": [
       "   ENSG00000142583.17  ENSG00000259984.1  ENSG00000228589.3  \\\n",
       "0                  82                 72                 19   \n",
       "1                 139                 81                 35   \n",
       "\n",
       "   ENSG00000284138.1  ENSG00000196517.11  ENSG00000142945.12  \\\n",
       "0                 14                  92                  21   \n",
       "1                 71                 493                  52   \n",
       "\n",
       "   ENSG00000231613.1  ENSG00000122477.12  ENSG00000268288.1  \\\n",
       "0                  8                  31                 12   \n",
       "1                  6                  25                 24   \n",
       "\n",
       "   ENSG00000234604.2  ...  ENSG00000275453.2  ENSG00000124224.16  \\\n",
       "0                 21  ...                 13                 917   \n",
       "1                 13  ...                  4                1958   \n",
       "\n",
       "   ENSG00000280433.1  ENSG00000278996.1  ENSG00000212933.1  ENSG00000223695.1  \\\n",
       "0                190                  2                  3                  3   \n",
       "1                 56                122                 14                  9   \n",
       "\n",
       "   ENSG00000214322.3  ENSG00000102003.10  ENSG00000090889.11  HYS  \n",
       "0                  0                  19                  27    1  \n",
       "1                  3                  50                 106    1  \n",
       "\n",
       "[2 rows x 101 columns]"
      ]
     },
     "execution_count": 31,
     "metadata": {},
     "output_type": "execute_result"
    }
   ],
   "source": [
    "# create a list of column names to subset from data\n",
    "col_names = Top100.iloc[:, 0].tolist()\n",
    "\n",
    "# subset df based on the column names\n",
    "df_subset = data.loc[:, data.columns.isin(col_names)]\n",
    "df_subset['HYS'] = data['HYS']\n",
    "df_subset.to_csv ('HYS1vs2_Boruta_Top100_Data_Male.csv', index = False)\n",
    "df_subset.head(2)"
   ]
  },
  {
   "cell_type": "markdown",
   "id": "da0416bc",
   "metadata": {},
   "source": [
    "### Top 250"
   ]
  },
  {
   "cell_type": "code",
   "execution_count": 32,
   "id": "876e2345",
   "metadata": {
    "ExecuteTime": {
     "end_time": "2023-11-18T06:52:18.999626Z",
     "start_time": "2023-11-18T06:52:18.981594Z"
    }
   },
   "outputs": [
    {
     "data": {
      "text/html": [
       "<div>\n",
       "<style scoped>\n",
       "    .dataframe tbody tr th:only-of-type {\n",
       "        vertical-align: middle;\n",
       "    }\n",
       "\n",
       "    .dataframe tbody tr th {\n",
       "        vertical-align: top;\n",
       "    }\n",
       "\n",
       "    .dataframe thead th {\n",
       "        text-align: right;\n",
       "    }\n",
       "</style>\n",
       "<table border=\"1\" class=\"dataframe\">\n",
       "  <thead>\n",
       "    <tr style=\"text-align: right;\">\n",
       "      <th></th>\n",
       "      <th>CpG</th>\n",
       "      <th>Ranking</th>\n",
       "    </tr>\n",
       "  </thead>\n",
       "  <tbody>\n",
       "    <tr>\n",
       "      <th>53566</th>\n",
       "      <td>ENSG00000280433.1</td>\n",
       "      <td>2</td>\n",
       "    </tr>\n",
       "    <tr>\n",
       "      <th>5148</th>\n",
       "      <td>ENSG00000236031.1</td>\n",
       "      <td>3</td>\n",
       "    </tr>\n",
       "  </tbody>\n",
       "</table>\n",
       "</div>"
      ],
      "text/plain": [
       "                     CpG  Ranking\n",
       "53566  ENSG00000280433.1        2\n",
       "5148   ENSG00000236031.1        3"
      ]
     },
     "execution_count": 32,
     "metadata": {},
     "output_type": "execute_result"
    }
   ],
   "source": [
    "Top250 = selected_rf_features.iloc[:250, :]\n",
    "Top250.to_csv ('HYS1vs2_Boruta_Top250_Male.csv', index = False)\n",
    "Top250.head(2)"
   ]
  },
  {
   "cell_type": "code",
   "execution_count": 33,
   "id": "72fbf0a1",
   "metadata": {
    "ExecuteTime": {
     "end_time": "2023-11-18T06:52:23.112549Z",
     "start_time": "2023-11-18T06:52:23.078549Z"
    }
   },
   "outputs": [
    {
     "name": "stderr",
     "output_type": "stream",
     "text": [
      "C:\\Users\\system 4\\AppData\\Local\\Temp\\ipykernel_8908\\2749445622.py:6: SettingWithCopyWarning: \n",
      "A value is trying to be set on a copy of a slice from a DataFrame.\n",
      "Try using .loc[row_indexer,col_indexer] = value instead\n",
      "\n",
      "See the caveats in the documentation: https://pandas.pydata.org/pandas-docs/stable/user_guide/indexing.html#returning-a-view-versus-a-copy\n",
      "  df_subset['HYS'] = data['HYS']\n"
     ]
    },
    {
     "data": {
      "text/html": [
       "<div>\n",
       "<style scoped>\n",
       "    .dataframe tbody tr th:only-of-type {\n",
       "        vertical-align: middle;\n",
       "    }\n",
       "\n",
       "    .dataframe tbody tr th {\n",
       "        vertical-align: top;\n",
       "    }\n",
       "\n",
       "    .dataframe thead th {\n",
       "        text-align: right;\n",
       "    }\n",
       "</style>\n",
       "<table border=\"1\" class=\"dataframe\">\n",
       "  <thead>\n",
       "    <tr style=\"text-align: right;\">\n",
       "      <th></th>\n",
       "      <th>ENSG00000241860.6</th>\n",
       "      <th>ENSG00000049249.8</th>\n",
       "      <th>ENSG00000142583.17</th>\n",
       "      <th>ENSG00000261349.1</th>\n",
       "      <th>ENSG00000259984.1</th>\n",
       "      <th>ENSG00000228589.3</th>\n",
       "      <th>ENSG00000271554.1</th>\n",
       "      <th>ENSG00000116885.18</th>\n",
       "      <th>ENSG00000284138.1</th>\n",
       "      <th>ENSG00000196517.11</th>\n",
       "      <th>...</th>\n",
       "      <th>ENSG00000214322.3</th>\n",
       "      <th>ENSG00000234636.2</th>\n",
       "      <th>ENSG00000102003.10</th>\n",
       "      <th>ENSG00000090889.11</th>\n",
       "      <th>ENSG00000131724.10</th>\n",
       "      <th>ENSG00000232412.1</th>\n",
       "      <th>ENSG00000285018.1</th>\n",
       "      <th>ENSG00000210196.2</th>\n",
       "      <th>ENSG00000277856.1</th>\n",
       "      <th>HYS</th>\n",
       "    </tr>\n",
       "  </thead>\n",
       "  <tbody>\n",
       "    <tr>\n",
       "      <th>0</th>\n",
       "      <td>59</td>\n",
       "      <td>393</td>\n",
       "      <td>82</td>\n",
       "      <td>469</td>\n",
       "      <td>72</td>\n",
       "      <td>19</td>\n",
       "      <td>17</td>\n",
       "      <td>7</td>\n",
       "      <td>14</td>\n",
       "      <td>92</td>\n",
       "      <td>...</td>\n",
       "      <td>0</td>\n",
       "      <td>15</td>\n",
       "      <td>19</td>\n",
       "      <td>27</td>\n",
       "      <td>4711</td>\n",
       "      <td>29</td>\n",
       "      <td>5</td>\n",
       "      <td>44</td>\n",
       "      <td>11</td>\n",
       "      <td>1</td>\n",
       "    </tr>\n",
       "    <tr>\n",
       "      <th>1</th>\n",
       "      <td>150</td>\n",
       "      <td>867</td>\n",
       "      <td>139</td>\n",
       "      <td>1054</td>\n",
       "      <td>81</td>\n",
       "      <td>35</td>\n",
       "      <td>35</td>\n",
       "      <td>13</td>\n",
       "      <td>71</td>\n",
       "      <td>493</td>\n",
       "      <td>...</td>\n",
       "      <td>3</td>\n",
       "      <td>27</td>\n",
       "      <td>50</td>\n",
       "      <td>106</td>\n",
       "      <td>5406</td>\n",
       "      <td>33</td>\n",
       "      <td>8</td>\n",
       "      <td>273</td>\n",
       "      <td>26</td>\n",
       "      <td>1</td>\n",
       "    </tr>\n",
       "  </tbody>\n",
       "</table>\n",
       "<p>2 rows × 251 columns</p>\n",
       "</div>"
      ],
      "text/plain": [
       "   ENSG00000241860.6  ENSG00000049249.8  ENSG00000142583.17  \\\n",
       "0                 59                393                  82   \n",
       "1                150                867                 139   \n",
       "\n",
       "   ENSG00000261349.1  ENSG00000259984.1  ENSG00000228589.3  ENSG00000271554.1  \\\n",
       "0                469                 72                 19                 17   \n",
       "1               1054                 81                 35                 35   \n",
       "\n",
       "   ENSG00000116885.18  ENSG00000284138.1  ENSG00000196517.11  ...  \\\n",
       "0                   7                 14                  92  ...   \n",
       "1                  13                 71                 493  ...   \n",
       "\n",
       "   ENSG00000214322.3  ENSG00000234636.2  ENSG00000102003.10  \\\n",
       "0                  0                 15                  19   \n",
       "1                  3                 27                  50   \n",
       "\n",
       "   ENSG00000090889.11  ENSG00000131724.10  ENSG00000232412.1  \\\n",
       "0                  27                4711                 29   \n",
       "1                 106                5406                 33   \n",
       "\n",
       "   ENSG00000285018.1  ENSG00000210196.2  ENSG00000277856.1  HYS  \n",
       "0                  5                 44                 11    1  \n",
       "1                  8                273                 26    1  \n",
       "\n",
       "[2 rows x 251 columns]"
      ]
     },
     "execution_count": 33,
     "metadata": {},
     "output_type": "execute_result"
    }
   ],
   "source": [
    "# create a list of column names to subset from data\n",
    "col_names = Top250.iloc[:, 0].tolist()\n",
    "\n",
    "# subset df based on the column names\n",
    "df_subset = data.loc[:, data.columns.isin(col_names)]\n",
    "df_subset['HYS'] = data['HYS']\n",
    "df_subset.to_csv ('HYS1vs2_Boruta_Top250_Data_Male.csv', index = False)\n",
    "df_subset.head(2)"
   ]
  },
  {
   "cell_type": "markdown",
   "id": "ec242d27",
   "metadata": {},
   "source": [
    "### Top 500"
   ]
  },
  {
   "cell_type": "code",
   "execution_count": 34,
   "id": "380a31d7",
   "metadata": {
    "ExecuteTime": {
     "end_time": "2023-11-18T06:52:28.179062Z",
     "start_time": "2023-11-18T06:52:28.165031Z"
    }
   },
   "outputs": [
    {
     "data": {
      "text/html": [
       "<div>\n",
       "<style scoped>\n",
       "    .dataframe tbody tr th:only-of-type {\n",
       "        vertical-align: middle;\n",
       "    }\n",
       "\n",
       "    .dataframe tbody tr th {\n",
       "        vertical-align: top;\n",
       "    }\n",
       "\n",
       "    .dataframe thead th {\n",
       "        text-align: right;\n",
       "    }\n",
       "</style>\n",
       "<table border=\"1\" class=\"dataframe\">\n",
       "  <thead>\n",
       "    <tr style=\"text-align: right;\">\n",
       "      <th></th>\n",
       "      <th>CpG</th>\n",
       "      <th>Ranking</th>\n",
       "    </tr>\n",
       "  </thead>\n",
       "  <tbody>\n",
       "    <tr>\n",
       "      <th>53566</th>\n",
       "      <td>ENSG00000280433.1</td>\n",
       "      <td>2</td>\n",
       "    </tr>\n",
       "    <tr>\n",
       "      <th>5148</th>\n",
       "      <td>ENSG00000236031.1</td>\n",
       "      <td>3</td>\n",
       "    </tr>\n",
       "  </tbody>\n",
       "</table>\n",
       "</div>"
      ],
      "text/plain": [
       "                     CpG  Ranking\n",
       "53566  ENSG00000280433.1        2\n",
       "5148   ENSG00000236031.1        3"
      ]
     },
     "execution_count": 34,
     "metadata": {},
     "output_type": "execute_result"
    }
   ],
   "source": [
    "Top500 = selected_rf_features.iloc[:500, :]\n",
    "Top500.to_csv ('HYS1vs2_Boruta_Top500_Male.csv', index = False)\n",
    "Top500.head(2)"
   ]
  },
  {
   "cell_type": "code",
   "execution_count": 35,
   "id": "5956b562",
   "metadata": {
    "ExecuteTime": {
     "end_time": "2023-11-18T06:52:31.443030Z",
     "start_time": "2023-11-18T06:52:31.398032Z"
    }
   },
   "outputs": [
    {
     "name": "stderr",
     "output_type": "stream",
     "text": [
      "C:\\Users\\system 4\\AppData\\Local\\Temp\\ipykernel_8908\\987567329.py:6: SettingWithCopyWarning: \n",
      "A value is trying to be set on a copy of a slice from a DataFrame.\n",
      "Try using .loc[row_indexer,col_indexer] = value instead\n",
      "\n",
      "See the caveats in the documentation: https://pandas.pydata.org/pandas-docs/stable/user_guide/indexing.html#returning-a-view-versus-a-copy\n",
      "  df_subset['HYS'] = data['HYS']\n"
     ]
    },
    {
     "data": {
      "text/html": [
       "<div>\n",
       "<style scoped>\n",
       "    .dataframe tbody tr th:only-of-type {\n",
       "        vertical-align: middle;\n",
       "    }\n",
       "\n",
       "    .dataframe tbody tr th {\n",
       "        vertical-align: top;\n",
       "    }\n",
       "\n",
       "    .dataframe thead th {\n",
       "        text-align: right;\n",
       "    }\n",
       "</style>\n",
       "<table border=\"1\" class=\"dataframe\">\n",
       "  <thead>\n",
       "    <tr style=\"text-align: right;\">\n",
       "      <th></th>\n",
       "      <th>ENSG00000241860.6</th>\n",
       "      <th>ENSG00000222623.1</th>\n",
       "      <th>ENSG00000230021.10</th>\n",
       "      <th>ENSG00000271806.1</th>\n",
       "      <th>ENSG00000049249.8</th>\n",
       "      <th>ENSG00000142583.17</th>\n",
       "      <th>ENSG00000171621.13</th>\n",
       "      <th>ENSG00000162444.11</th>\n",
       "      <th>ENSG00000237276.8</th>\n",
       "      <th>ENSG00000261349.1</th>\n",
       "      <th>...</th>\n",
       "      <th>ENSG00000252627.1</th>\n",
       "      <th>ENSG00000232412.1</th>\n",
       "      <th>ENSG00000221930.6</th>\n",
       "      <th>ENSG00000285018.1</th>\n",
       "      <th>ENSG00000277203.1</th>\n",
       "      <th>ENSG00000211459.2</th>\n",
       "      <th>ENSG00000198763.3</th>\n",
       "      <th>ENSG00000210196.2</th>\n",
       "      <th>ENSG00000277856.1</th>\n",
       "      <th>HYS</th>\n",
       "    </tr>\n",
       "  </thead>\n",
       "  <tbody>\n",
       "    <tr>\n",
       "      <th>0</th>\n",
       "      <td>59</td>\n",
       "      <td>13</td>\n",
       "      <td>27</td>\n",
       "      <td>18</td>\n",
       "      <td>393</td>\n",
       "      <td>82</td>\n",
       "      <td>29</td>\n",
       "      <td>132</td>\n",
       "      <td>11</td>\n",
       "      <td>469</td>\n",
       "      <td>...</td>\n",
       "      <td>26</td>\n",
       "      <td>29</td>\n",
       "      <td>28</td>\n",
       "      <td>5</td>\n",
       "      <td>33</td>\n",
       "      <td>52</td>\n",
       "      <td>59</td>\n",
       "      <td>44</td>\n",
       "      <td>11</td>\n",
       "      <td>1</td>\n",
       "    </tr>\n",
       "    <tr>\n",
       "      <th>1</th>\n",
       "      <td>150</td>\n",
       "      <td>36</td>\n",
       "      <td>43</td>\n",
       "      <td>52</td>\n",
       "      <td>867</td>\n",
       "      <td>139</td>\n",
       "      <td>114</td>\n",
       "      <td>204</td>\n",
       "      <td>119</td>\n",
       "      <td>1054</td>\n",
       "      <td>...</td>\n",
       "      <td>18</td>\n",
       "      <td>33</td>\n",
       "      <td>28</td>\n",
       "      <td>8</td>\n",
       "      <td>153</td>\n",
       "      <td>139</td>\n",
       "      <td>503</td>\n",
       "      <td>273</td>\n",
       "      <td>26</td>\n",
       "      <td>1</td>\n",
       "    </tr>\n",
       "  </tbody>\n",
       "</table>\n",
       "<p>2 rows × 501 columns</p>\n",
       "</div>"
      ],
      "text/plain": [
       "   ENSG00000241860.6  ENSG00000222623.1  ENSG00000230021.10  \\\n",
       "0                 59                 13                  27   \n",
       "1                150                 36                  43   \n",
       "\n",
       "   ENSG00000271806.1  ENSG00000049249.8  ENSG00000142583.17  \\\n",
       "0                 18                393                  82   \n",
       "1                 52                867                 139   \n",
       "\n",
       "   ENSG00000171621.13  ENSG00000162444.11  ENSG00000237276.8  \\\n",
       "0                  29                 132                 11   \n",
       "1                 114                 204                119   \n",
       "\n",
       "   ENSG00000261349.1  ...  ENSG00000252627.1  ENSG00000232412.1  \\\n",
       "0                469  ...                 26                 29   \n",
       "1               1054  ...                 18                 33   \n",
       "\n",
       "   ENSG00000221930.6  ENSG00000285018.1  ENSG00000277203.1  ENSG00000211459.2  \\\n",
       "0                 28                  5                 33                 52   \n",
       "1                 28                  8                153                139   \n",
       "\n",
       "   ENSG00000198763.3  ENSG00000210196.2  ENSG00000277856.1  HYS  \n",
       "0                 59                 44                 11    1  \n",
       "1                503                273                 26    1  \n",
       "\n",
       "[2 rows x 501 columns]"
      ]
     },
     "execution_count": 35,
     "metadata": {},
     "output_type": "execute_result"
    }
   ],
   "source": [
    "# create a list of column names to subset from data\n",
    "col_names = Top500.iloc[:, 0].tolist()\n",
    "\n",
    "# subset df based on the column names\n",
    "df_subset = data.loc[:, data.columns.isin(col_names)]\n",
    "df_subset['HYS'] = data['HYS']\n",
    "df_subset.to_csv ('HYS1vs2_Boruta_Top500_Data_Male.csv', index = False)\n",
    "df_subset.head(2)"
   ]
  },
  {
   "cell_type": "markdown",
   "id": "59810b00",
   "metadata": {},
   "source": []
  }
 ],
 "metadata": {
  "kernelspec": {
   "display_name": "Python 3 (ipykernel)",
   "language": "python",
   "name": "python3"
  },
  "language_info": {
   "codemirror_mode": {
    "name": "ipython",
    "version": 3
   },
   "file_extension": ".py",
   "mimetype": "text/x-python",
   "name": "python",
   "nbconvert_exporter": "python",
   "pygments_lexer": "ipython3",
   "version": "3.9.16"
  },
  "toc": {
   "base_numbering": 1,
   "nav_menu": {},
   "number_sections": true,
   "sideBar": true,
   "skip_h1_title": false,
   "title_cell": "Table of Contents",
   "title_sidebar": "Contents",
   "toc_cell": false,
   "toc_position": {},
   "toc_section_display": true,
   "toc_window_display": false
  },
  "varInspector": {
   "cols": {
    "lenName": 16,
    "lenType": 16,
    "lenVar": 40
   },
   "kernels_config": {
    "python": {
     "delete_cmd_postfix": "",
     "delete_cmd_prefix": "del ",
     "library": "var_list.py",
     "varRefreshCmd": "print(var_dic_list())"
    },
    "r": {
     "delete_cmd_postfix": ") ",
     "delete_cmd_prefix": "rm(",
     "library": "var_list.r",
     "varRefreshCmd": "cat(var_dic_list()) "
    }
   },
   "types_to_exclude": [
    "module",
    "function",
    "builtin_function_or_method",
    "instance",
    "_Feature"
   ],
   "window_display": false
  }
 },
 "nbformat": 4,
 "nbformat_minor": 5
}
