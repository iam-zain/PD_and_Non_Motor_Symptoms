{
 "cells": [
  {
   "cell_type": "code",
   "execution_count": 1,
   "id": "227733c0",
   "metadata": {
    "ExecuteTime": {
     "end_time": "2022-12-13T13:16:17.005715Z",
     "start_time": "2022-12-13T13:16:16.404006Z"
    },
    "run_control": {
     "marked": false
    },
    "scrolled": true
   },
   "outputs": [],
   "source": [
    "import pandas as pd\n",
    "import numpy as np"
   ]
  },
  {
   "cell_type": "code",
   "execution_count": 2,
   "id": "0ebb8ca7",
   "metadata": {
    "ExecuteTime": {
     "end_time": "2022-12-13T13:20:31.206751Z",
     "start_time": "2022-12-13T13:16:17.007734Z"
    },
    "scrolled": false
   },
   "outputs": [
    {
     "name": "stdout",
     "output_type": "stream",
     "text": [
      "Z:\\PPMI_Data\\Excel_Data\\NonMotors\\Feature_CpG_Gene_Association\\Pain_Processed_Files\n",
      "(457, 108279)\n"
     ]
    },
    {
     "data": {
      "text/html": [
       "<div>\n",
       "<style scoped>\n",
       "    .dataframe tbody tr th:only-of-type {\n",
       "        vertical-align: middle;\n",
       "    }\n",
       "\n",
       "    .dataframe tbody tr th {\n",
       "        vertical-align: top;\n",
       "    }\n",
       "\n",
       "    .dataframe thead th {\n",
       "        text-align: right;\n",
       "    }\n",
       "</style>\n",
       "<table border=\"1\" class=\"dataframe\">\n",
       "  <thead>\n",
       "    <tr style=\"text-align: right;\">\n",
       "      <th></th>\n",
       "      <th>Sentrix</th>\n",
       "      <th>PATNO</th>\n",
       "      <th>HYS</th>\n",
       "      <th>Gender</th>\n",
       "      <th>APPRDX</th>\n",
       "      <th>MDSP_Pain</th>\n",
       "      <th>cg08012045</th>\n",
       "      <th>cg08300930</th>\n",
       "      <th>cg00134295</th>\n",
       "      <th>cg10537824</th>\n",
       "      <th>...</th>\n",
       "      <th>cg12385643</th>\n",
       "      <th>cg14543119</th>\n",
       "      <th>cg11523984</th>\n",
       "      <th>cg04449108</th>\n",
       "      <th>cg14323797</th>\n",
       "      <th>cg02234120</th>\n",
       "      <th>cg23874600</th>\n",
       "      <th>cg27361577</th>\n",
       "      <th>cg00831331</th>\n",
       "      <th>ch.14.849914F</th>\n",
       "    </tr>\n",
       "  </thead>\n",
       "  <tbody>\n",
       "    <tr>\n",
       "      <th>0</th>\n",
       "      <td>200991620021_R01C01</td>\n",
       "      <td>3001</td>\n",
       "      <td>2</td>\n",
       "      <td>1</td>\n",
       "      <td>1</td>\n",
       "      <td>0</td>\n",
       "      <td>0.9624</td>\n",
       "      <td>0.9644</td>\n",
       "      <td>0.2435</td>\n",
       "      <td>0.8262</td>\n",
       "      <td>...</td>\n",
       "      <td>0.7949</td>\n",
       "      <td>0.7922</td>\n",
       "      <td>0.7094</td>\n",
       "      <td>0.9062</td>\n",
       "      <td>0.8728</td>\n",
       "      <td>0.8222</td>\n",
       "      <td>0.9258</td>\n",
       "      <td>0.7821</td>\n",
       "      <td>0.9136</td>\n",
       "      <td>0.0459</td>\n",
       "    </tr>\n",
       "    <tr>\n",
       "      <th>1</th>\n",
       "      <td>200973410167_R04C01</td>\n",
       "      <td>3007</td>\n",
       "      <td>2</td>\n",
       "      <td>1</td>\n",
       "      <td>1</td>\n",
       "      <td>1</td>\n",
       "      <td>0.9622</td>\n",
       "      <td>0.9630</td>\n",
       "      <td>0.2261</td>\n",
       "      <td>0.7294</td>\n",
       "      <td>...</td>\n",
       "      <td>0.8397</td>\n",
       "      <td>0.7982</td>\n",
       "      <td>0.7388</td>\n",
       "      <td>0.9338</td>\n",
       "      <td>0.8268</td>\n",
       "      <td>0.8018</td>\n",
       "      <td>0.9229</td>\n",
       "      <td>0.6302</td>\n",
       "      <td>0.9134</td>\n",
       "      <td>0.0617</td>\n",
       "    </tr>\n",
       "  </tbody>\n",
       "</table>\n",
       "<p>2 rows × 108279 columns</p>\n",
       "</div>"
      ],
      "text/plain": [
       "               Sentrix  PATNO  HYS  Gender  APPRDX  MDSP_Pain  cg08012045  \\\n",
       "0  200991620021_R01C01   3001    2       1       1          0      0.9624   \n",
       "1  200973410167_R04C01   3007    2       1       1          1      0.9622   \n",
       "\n",
       "   cg08300930  cg00134295  cg10537824  ...  cg12385643  cg14543119  \\\n",
       "0      0.9644      0.2435      0.8262  ...      0.7949      0.7922   \n",
       "1      0.9630      0.2261      0.7294  ...      0.8397      0.7982   \n",
       "\n",
       "   cg11523984  cg04449108  cg14323797  cg02234120  cg23874600  cg27361577  \\\n",
       "0      0.7094      0.9062      0.8728      0.8222      0.9258      0.7821   \n",
       "1      0.7388      0.9338      0.8268      0.8018      0.9229      0.6302   \n",
       "\n",
       "   cg00831331  ch.14.849914F  \n",
       "0      0.9136         0.0459  \n",
       "1      0.9134         0.0617  \n",
       "\n",
       "[2 rows x 108279 columns]"
      ]
     },
     "execution_count": 2,
     "metadata": {},
     "output_type": "execute_result"
    }
   ],
   "source": [
    "%cd Z:\\PPMI_Data\\Excel_Data\\NonMotors\\Feature_CpG_Gene_Association\\Pain_Processed_Files\n",
    "df = pd.read_csv (\"PainCateg_Methylome_APPRDXFilter.csv\")\n",
    "df = df.round(decimals = 4)\n",
    "print (df.shape)\n",
    "df.head(2)"
   ]
  },
  {
   "cell_type": "code",
   "execution_count": 3,
   "id": "a60836ec",
   "metadata": {
    "ExecuteTime": {
     "end_time": "2022-12-13T13:20:31.226855Z",
     "start_time": "2022-12-13T13:20:31.208769Z"
    }
   },
   "outputs": [],
   "source": [
    "GeneList = ['Sentrix','PATNO','Gender','MDSP_Pain','HYS','APPRDX',\n",
    "           'cg00377727','cg12298429','cg19211931','cg24323328','cg26090534']"
   ]
  },
  {
   "cell_type": "code",
   "execution_count": 4,
   "id": "448b7927",
   "metadata": {
    "ExecuteTime": {
     "end_time": "2022-12-13T13:20:31.347403Z",
     "start_time": "2022-12-13T13:20:31.228877Z"
    }
   },
   "outputs": [
    {
     "data": {
      "text/html": [
       "<div>\n",
       "<style scoped>\n",
       "    .dataframe tbody tr th:only-of-type {\n",
       "        vertical-align: middle;\n",
       "    }\n",
       "\n",
       "    .dataframe tbody tr th {\n",
       "        vertical-align: top;\n",
       "    }\n",
       "\n",
       "    .dataframe thead th {\n",
       "        text-align: right;\n",
       "    }\n",
       "</style>\n",
       "<table border=\"1\" class=\"dataframe\">\n",
       "  <thead>\n",
       "    <tr style=\"text-align: right;\">\n",
       "      <th></th>\n",
       "      <th>Sentrix</th>\n",
       "      <th>PATNO</th>\n",
       "      <th>HYS</th>\n",
       "      <th>Gender</th>\n",
       "      <th>APPRDX</th>\n",
       "      <th>MDSP_Pain</th>\n",
       "      <th>cg26090534</th>\n",
       "      <th>cg12298429</th>\n",
       "      <th>cg19211931</th>\n",
       "      <th>cg24323328</th>\n",
       "      <th>cg00377727</th>\n",
       "    </tr>\n",
       "  </thead>\n",
       "  <tbody>\n",
       "    <tr>\n",
       "      <th>0</th>\n",
       "      <td>200991620021_R01C01</td>\n",
       "      <td>3001</td>\n",
       "      <td>2</td>\n",
       "      <td>1</td>\n",
       "      <td>1</td>\n",
       "      <td>0</td>\n",
       "      <td>0.9628</td>\n",
       "      <td>0.0328</td>\n",
       "      <td>0.3231</td>\n",
       "      <td>0.0241</td>\n",
       "      <td>0.9233</td>\n",
       "    </tr>\n",
       "    <tr>\n",
       "      <th>1</th>\n",
       "      <td>200973410167_R04C01</td>\n",
       "      <td>3007</td>\n",
       "      <td>2</td>\n",
       "      <td>1</td>\n",
       "      <td>1</td>\n",
       "      <td>1</td>\n",
       "      <td>0.9636</td>\n",
       "      <td>0.0427</td>\n",
       "      <td>0.4526</td>\n",
       "      <td>0.0250</td>\n",
       "      <td>0.9258</td>\n",
       "    </tr>\n",
       "  </tbody>\n",
       "</table>\n",
       "</div>"
      ],
      "text/plain": [
       "               Sentrix  PATNO  HYS  Gender  APPRDX  MDSP_Pain  cg26090534  \\\n",
       "0  200991620021_R01C01   3001    2       1       1          0      0.9628   \n",
       "1  200973410167_R04C01   3007    2       1       1          1      0.9636   \n",
       "\n",
       "   cg12298429  cg19211931  cg24323328  cg00377727  \n",
       "0      0.0328      0.3231      0.0241      0.9233  \n",
       "1      0.0427      0.4526      0.0250      0.9258  "
      ]
     },
     "execution_count": 4,
     "metadata": {},
     "output_type": "execute_result"
    }
   ],
   "source": [
    "df1 = df[[c for c in df.columns if c in GeneList]]\n",
    "df1.head(2)"
   ]
  },
  {
   "cell_type": "code",
   "execution_count": 5,
   "id": "6c9005fe",
   "metadata": {
    "ExecuteTime": {
     "end_time": "2022-12-13T13:20:31.407727Z",
     "start_time": "2022-12-13T13:20:31.349428Z"
    }
   },
   "outputs": [
    {
     "data": {
      "text/plain": [
       "(457, 11)"
      ]
     },
     "execution_count": 5,
     "metadata": {},
     "output_type": "execute_result"
    }
   ],
   "source": [
    "df1 = df1[df1.PATNO != 4079]\n",
    "df1.shape"
   ]
  },
  {
   "cell_type": "code",
   "execution_count": 6,
   "id": "daea5549",
   "metadata": {
    "ExecuteTime": {
     "end_time": "2022-12-13T13:20:31.488032Z",
     "start_time": "2022-12-13T13:20:31.407727Z"
    }
   },
   "outputs": [],
   "source": [
    "df1.to_csv (\"PainCateg_Methylome_APPRDX_Common.csv\", index = False)"
   ]
  },
  {
   "cell_type": "code",
   "execution_count": null,
   "id": "b765c3ed",
   "metadata": {},
   "outputs": [],
   "source": []
  }
 ],
 "metadata": {
  "kernelspec": {
   "display_name": "Python 3 (ipykernel)",
   "language": "python",
   "name": "python3"
  },
  "language_info": {
   "codemirror_mode": {
    "name": "ipython",
    "version": 3
   },
   "file_extension": ".py",
   "mimetype": "text/x-python",
   "name": "python",
   "nbconvert_exporter": "python",
   "pygments_lexer": "ipython3",
   "version": "3.9.7"
  },
  "toc": {
   "base_numbering": 1,
   "nav_menu": {},
   "number_sections": true,
   "sideBar": true,
   "skip_h1_title": false,
   "title_cell": "Table of Contents",
   "title_sidebar": "Contents",
   "toc_cell": false,
   "toc_position": {},
   "toc_section_display": true,
   "toc_window_display": false
  },
  "varInspector": {
   "cols": {
    "lenName": 16,
    "lenType": 16,
    "lenVar": 40
   },
   "kernels_config": {
    "python": {
     "delete_cmd_postfix": "",
     "delete_cmd_prefix": "del ",
     "library": "var_list.py",
     "varRefreshCmd": "print(var_dic_list())"
    },
    "r": {
     "delete_cmd_postfix": ") ",
     "delete_cmd_prefix": "rm(",
     "library": "var_list.r",
     "varRefreshCmd": "cat(var_dic_list()) "
    }
   },
   "types_to_exclude": [
    "module",
    "function",
    "builtin_function_or_method",
    "instance",
    "_Feature"
   ],
   "window_display": false
  }
 },
 "nbformat": 4,
 "nbformat_minor": 5
}
