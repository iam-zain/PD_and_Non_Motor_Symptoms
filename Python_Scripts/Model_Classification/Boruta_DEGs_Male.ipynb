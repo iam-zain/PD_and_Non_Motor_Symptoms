{
 "cells": [
  {
   "cell_type": "code",
   "execution_count": 1,
   "id": "51c5704f",
   "metadata": {
    "ExecuteTime": {
     "end_time": "2023-11-15T10:50:44.050173Z",
     "start_time": "2023-11-15T10:50:42.430175Z"
    }
   },
   "outputs": [],
   "source": [
    "import numpy as np\n",
    "import pandas as pd\n",
    "from boruta import BorutaPy\n",
    "from sklearn.datasets import load_diabetes\n",
    "from sklearn.metrics import accuracy_score \n",
    "from sklearn.ensemble import RandomForestRegressor\n",
    "from sklearn.ensemble import RandomForestClassifier\n",
    "from sklearn.model_selection import train_test_split"
   ]
  },
  {
   "cell_type": "code",
   "execution_count": 2,
   "id": "5ff336b1",
   "metadata": {
    "ExecuteTime": {
     "end_time": "2023-11-15T10:51:32.347174Z",
     "start_time": "2023-11-15T10:50:44.052175Z"
    }
   },
   "outputs": [
    {
     "name": "stdout",
     "output_type": "stream",
     "text": [
      "S:\\PPMI_RNA\\Processed\\Male\n"
     ]
    },
    {
     "data": {
      "text/html": [
       "<div>\n",
       "<style scoped>\n",
       "    .dataframe tbody tr th:only-of-type {\n",
       "        vertical-align: middle;\n",
       "    }\n",
       "\n",
       "    .dataframe tbody tr th {\n",
       "        vertical-align: top;\n",
       "    }\n",
       "\n",
       "    .dataframe thead th {\n",
       "        text-align: right;\n",
       "    }\n",
       "</style>\n",
       "<table border=\"1\" class=\"dataframe\">\n",
       "  <thead>\n",
       "    <tr style=\"text-align: right;\">\n",
       "      <th></th>\n",
       "      <th>HudAlphaID</th>\n",
       "      <th>DIAGNOSIS</th>\n",
       "      <th>PATNO</th>\n",
       "      <th>ENSG00000223972.5</th>\n",
       "      <th>ENSG00000227232.5</th>\n",
       "      <th>ENSG00000278267.1</th>\n",
       "      <th>ENSG00000243485.5</th>\n",
       "      <th>ENSG00000284332.1</th>\n",
       "      <th>ENSG00000237613.2</th>\n",
       "      <th>ENSG00000268020.3</th>\n",
       "      <th>...</th>\n",
       "      <th>ENSG00000273739.1</th>\n",
       "      <th>ENSG00000276700.1</th>\n",
       "      <th>ENSG00000276312.1</th>\n",
       "      <th>ENSG00000275757.1</th>\n",
       "      <th>ENSG00000278573.1</th>\n",
       "      <th>ENSG00000276017.1</th>\n",
       "      <th>ENSG00000278817.1</th>\n",
       "      <th>ENSG00000277196.4</th>\n",
       "      <th>ENSG00000278625.1</th>\n",
       "      <th>ENSG00000277374.1</th>\n",
       "    </tr>\n",
       "  </thead>\n",
       "  <tbody>\n",
       "    <tr>\n",
       "      <th>0</th>\n",
       "      <td>5104_SL_0001</td>\n",
       "      <td>1</td>\n",
       "      <td>3174</td>\n",
       "      <td>15</td>\n",
       "      <td>232</td>\n",
       "      <td>15</td>\n",
       "      <td>0</td>\n",
       "      <td>0</td>\n",
       "      <td>0</td>\n",
       "      <td>0</td>\n",
       "      <td>...</td>\n",
       "      <td>0</td>\n",
       "      <td>1</td>\n",
       "      <td>16</td>\n",
       "      <td>1</td>\n",
       "      <td>0</td>\n",
       "      <td>2</td>\n",
       "      <td>19</td>\n",
       "      <td>0</td>\n",
       "      <td>0</td>\n",
       "      <td>0</td>\n",
       "    </tr>\n",
       "  </tbody>\n",
       "</table>\n",
       "<p>1 rows × 58783 columns</p>\n",
       "</div>"
      ],
      "text/plain": [
       "     HudAlphaID  DIAGNOSIS  PATNO  ENSG00000223972.5  ENSG00000227232.5  \\\n",
       "0  5104_SL_0001          1   3174                 15                232   \n",
       "\n",
       "   ENSG00000278267.1  ENSG00000243485.5  ENSG00000284332.1  ENSG00000237613.2  \\\n",
       "0                 15                  0                  0                  0   \n",
       "\n",
       "   ENSG00000268020.3  ...  ENSG00000273739.1  ENSG00000276700.1  \\\n",
       "0                  0  ...                  0                  1   \n",
       "\n",
       "   ENSG00000276312.1  ENSG00000275757.1  ENSG00000278573.1  ENSG00000276017.1  \\\n",
       "0                 16                  1                  0                  2   \n",
       "\n",
       "   ENSG00000278817.1  ENSG00000277196.4  ENSG00000278625.1  ENSG00000277374.1  \n",
       "0                 19                  0                  0                  0  \n",
       "\n",
       "[1 rows x 58783 columns]"
      ]
     },
     "execution_count": 2,
     "metadata": {},
     "output_type": "execute_result"
    }
   ],
   "source": [
    "%cd S:\\PPMI_RNA\\Processed\\Male\n",
    "data = pd.read_csv('All_Counts_PatAndHealthy_Disease_Male.csv')\n",
    "data['DIAGNOSIS'] = data['DIAGNOSIS'].replace({'PD': 1, 'Control': 0})\n",
    "data.head(1)"
   ]
  },
  {
   "cell_type": "code",
   "execution_count": 3,
   "id": "ee22df7a",
   "metadata": {
    "ExecuteTime": {
     "end_time": "2023-11-15T10:51:33.341175Z",
     "start_time": "2023-11-15T10:51:32.350177Z"
    }
   },
   "outputs": [
    {
     "name": "stdout",
     "output_type": "stream",
     "text": [
      "   DIAGNOSIS  ENSG00000223972.5  ENSG00000227232.5  ENSG00000278267.1  \\\n",
      "0          1                 15                232                 15   \n",
      "1          1                  0                 97                  8   \n",
      "\n",
      "   ENSG00000243485.5  ENSG00000284332.1  ENSG00000237613.2  ENSG00000268020.3  \\\n",
      "0                  0                  0                  0                  0   \n",
      "1                  0                  0                  0                  0   \n",
      "\n",
      "   ENSG00000240361.2  ENSG00000186092.6  ...  ENSG00000273739.1  \\\n",
      "0                  0                  0  ...                  0   \n",
      "1                  0                  2  ...                  0   \n",
      "\n",
      "   ENSG00000276700.1  ENSG00000276312.1  ENSG00000275757.1  ENSG00000278573.1  \\\n",
      "0                  1                 16                  1                  0   \n",
      "1                  9                  0                  1                  0   \n",
      "\n",
      "   ENSG00000276017.1  ENSG00000278817.1  ENSG00000277196.4  ENSG00000278625.1  \\\n",
      "0                  2                 19                  0                  0   \n",
      "1                  0                  7                  1                  0   \n",
      "\n",
      "   ENSG00000277374.1  \n",
      "0                  0  \n",
      "1                  0  \n",
      "\n",
      "[2 rows x 58781 columns]\n"
     ]
    }
   ],
   "source": [
    "X = data.drop(['HudAlphaID','PATNO'], axis = 1)\n",
    "y = data['DIAGNOSIS']\n",
    "X_train, X_test, y_train, y_test = train_test_split(X, y, test_size = .2, random_state = 1) \n",
    "print(X.head(2))"
   ]
  },
  {
   "cell_type": "code",
   "execution_count": 4,
   "id": "c1ee3e48",
   "metadata": {
    "ExecuteTime": {
     "end_time": "2023-11-15T10:51:41.573204Z",
     "start_time": "2023-11-15T10:51:33.346176Z"
    }
   },
   "outputs": [
    {
     "data": {
      "text/plain": [
       "RandomForestClassifier(random_state=1)"
      ]
     },
     "execution_count": 4,
     "metadata": {},
     "output_type": "execute_result"
    }
   ],
   "source": [
    "rf_all_features = RandomForestClassifier(random_state=1)\n",
    "rf_all_features.fit(X_train, y_train)"
   ]
  },
  {
   "cell_type": "code",
   "execution_count": 5,
   "id": "f17f8606",
   "metadata": {
    "ExecuteTime": {
     "end_time": "2023-11-15T10:51:42.001179Z",
     "start_time": "2023-11-15T10:51:41.575175Z"
    }
   },
   "outputs": [
    {
     "data": {
      "text/plain": [
       "0.725925925925926"
      ]
     },
     "execution_count": 5,
     "metadata": {},
     "output_type": "execute_result"
    }
   ],
   "source": [
    "accuracy_score(y_test, rf_all_features.predict(X_test))"
   ]
  },
  {
   "cell_type": "code",
   "execution_count": 6,
   "id": "5ba608ac",
   "metadata": {
    "ExecuteTime": {
     "end_time": "2023-11-15T11:45:24.931743Z",
     "start_time": "2023-11-15T10:51:42.004176Z"
    },
    "scrolled": true
   },
   "outputs": [
    {
     "name": "stdout",
     "output_type": "stream",
     "text": [
      "Iteration: 1 / 100\n",
      "Iteration: 2 / 100\n",
      "Iteration: 3 / 100\n",
      "Iteration: 4 / 100\n",
      "Iteration: 5 / 100\n",
      "Iteration: 6 / 100\n",
      "Iteration: 7 / 100\n",
      "Iteration: 8 / 100\n",
      "Iteration: 9 / 100\n",
      "Iteration: 10 / 100\n",
      "Iteration: 11 / 100\n",
      "Iteration: 12 / 100\n",
      "Iteration: 13 / 100\n",
      "Iteration: 14 / 100\n",
      "Iteration: 15 / 100\n",
      "Iteration: 16 / 100\n",
      "Iteration: 17 / 100\n",
      "Iteration: 18 / 100\n",
      "Iteration: 19 / 100\n",
      "Iteration: 20 / 100\n",
      "Iteration: 21 / 100\n",
      "Iteration: 22 / 100\n",
      "Iteration: 23 / 100\n",
      "Iteration: 24 / 100\n",
      "Iteration: 25 / 100\n",
      "Iteration: 26 / 100\n",
      "Iteration: 27 / 100\n",
      "Iteration: 28 / 100\n",
      "Iteration: 29 / 100\n",
      "Iteration: 30 / 100\n",
      "Iteration: 31 / 100\n",
      "Iteration: 32 / 100\n",
      "Iteration: 33 / 100\n",
      "Iteration: 34 / 100\n",
      "Iteration: 35 / 100\n",
      "Iteration: 36 / 100\n",
      "Iteration: 37 / 100\n",
      "Iteration: 38 / 100\n",
      "Iteration: 39 / 100\n",
      "Iteration: 40 / 100\n",
      "Iteration: 41 / 100\n",
      "Iteration: 42 / 100\n",
      "Iteration: 43 / 100\n",
      "Iteration: 44 / 100\n",
      "Iteration: 45 / 100\n",
      "Iteration: 46 / 100\n",
      "Iteration: 47 / 100\n",
      "Iteration: 48 / 100\n",
      "Iteration: 49 / 100\n",
      "Iteration: 50 / 100\n",
      "Iteration: 51 / 100\n",
      "Iteration: 52 / 100\n",
      "Iteration: 53 / 100\n",
      "Iteration: 54 / 100\n",
      "Iteration: 55 / 100\n",
      "Iteration: 56 / 100\n",
      "Iteration: 57 / 100\n",
      "Iteration: 58 / 100\n",
      "Iteration: 59 / 100\n",
      "Iteration: 60 / 100\n",
      "Iteration: 61 / 100\n",
      "Iteration: 62 / 100\n",
      "Iteration: 63 / 100\n",
      "Iteration: 64 / 100\n",
      "Iteration: 65 / 100\n",
      "Iteration: 66 / 100\n",
      "Iteration: 67 / 100\n",
      "Iteration: 68 / 100\n",
      "Iteration: 69 / 100\n",
      "Iteration: 70 / 100\n",
      "Iteration: 71 / 100\n",
      "Iteration: 72 / 100\n",
      "Iteration: 73 / 100\n",
      "Iteration: 74 / 100\n",
      "Iteration: 75 / 100\n",
      "Iteration: 76 / 100\n",
      "Iteration: 77 / 100\n",
      "Iteration: 78 / 100\n",
      "Iteration: 79 / 100\n",
      "Iteration: 80 / 100\n",
      "Iteration: 81 / 100\n",
      "Iteration: 82 / 100\n",
      "Iteration: 83 / 100\n",
      "Iteration: 84 / 100\n",
      "Iteration: 85 / 100\n",
      "Iteration: 86 / 100\n",
      "Iteration: 87 / 100\n",
      "Iteration: 88 / 100\n",
      "Iteration: 89 / 100\n",
      "Iteration: 90 / 100\n",
      "Iteration: 91 / 100\n",
      "Iteration: 92 / 100\n",
      "Iteration: 93 / 100\n",
      "Iteration: 94 / 100\n",
      "Iteration: 95 / 100\n",
      "Iteration: 96 / 100\n",
      "Iteration: 97 / 100\n",
      "Iteration: 98 / 100\n",
      "Iteration: 99 / 100\n",
      "\n",
      "\n",
      "BorutaPy finished running.\n",
      "\n",
      "Iteration: \t100 / 100\n",
      "Confirmed: \t32\n",
      "Tentative: \t7\n",
      "Rejected: \t58737\n"
     ]
    },
    {
     "data": {
      "text/plain": [
       "BorutaPy(estimator=RandomForestClassifier(n_estimators=93,\n",
       "                                          random_state=RandomState(MT19937) at 0x1FF26B83E40),\n",
       "         n_estimators='auto',\n",
       "         random_state=RandomState(MT19937) at 0x1FF26B83E40, verbose=1)"
      ]
     },
     "execution_count": 6,
     "metadata": {},
     "output_type": "execute_result"
    }
   ],
   "source": [
    "rfc = RandomForestClassifier(random_state=1)\n",
    "boruta_selector = BorutaPy(rfc, n_estimators= 'auto', verbose=1, random_state=1)\n",
    "boruta_selector.fit(np.array(X_train), np.array(y_train))  "
   ]
  },
  {
   "cell_type": "code",
   "execution_count": 7,
   "id": "51f874e0",
   "metadata": {
    "ExecuteTime": {
     "end_time": "2023-11-15T11:45:24.947683Z",
     "start_time": "2023-11-15T11:45:24.934685Z"
    }
   },
   "outputs": [
    {
     "name": "stdout",
     "output_type": "stream",
     "text": [
      "No. of significant features:  32\n"
     ]
    }
   ],
   "source": [
    "# print(\"Ranking: \",boruta_selector.ranking_)          \n",
    "print(\"No. of significant features: \", boruta_selector.n_features_)"
   ]
  },
  {
   "cell_type": "code",
   "execution_count": 8,
   "id": "61cadc89",
   "metadata": {
    "ExecuteTime": {
     "end_time": "2023-11-15T11:45:25.091745Z",
     "start_time": "2023-11-15T11:45:24.950684Z"
    }
   },
   "outputs": [],
   "source": [
    "selected_rf_features = pd.DataFrame({'CpG':list(X_train.columns),\n",
    "                                       'Ranking':boruta_selector.ranking_})\n",
    "selected_rf_features = selected_rf_features.sort_values(by='Ranking')"
   ]
  },
  {
   "cell_type": "code",
   "execution_count": 9,
   "id": "6ae888ab",
   "metadata": {
    "ExecuteTime": {
     "end_time": "2023-11-15T11:45:25.215939Z",
     "start_time": "2023-11-15T11:45:25.093683Z"
    },
    "scrolled": true
   },
   "outputs": [
    {
     "data": {
      "text/html": [
       "<div>\n",
       "<style scoped>\n",
       "    .dataframe tbody tr th:only-of-type {\n",
       "        vertical-align: middle;\n",
       "    }\n",
       "\n",
       "    .dataframe tbody tr th {\n",
       "        vertical-align: top;\n",
       "    }\n",
       "\n",
       "    .dataframe thead th {\n",
       "        text-align: right;\n",
       "    }\n",
       "</style>\n",
       "<table border=\"1\" class=\"dataframe\">\n",
       "  <thead>\n",
       "    <tr style=\"text-align: right;\">\n",
       "      <th></th>\n",
       "      <th>CpG</th>\n",
       "      <th>Ranking</th>\n",
       "    </tr>\n",
       "  </thead>\n",
       "  <tbody>\n",
       "    <tr>\n",
       "      <th>0</th>\n",
       "      <td>DIAGNOSIS</td>\n",
       "      <td>1</td>\n",
       "    </tr>\n",
       "    <tr>\n",
       "      <th>47285</th>\n",
       "      <td>ENSG00000167434.9</td>\n",
       "      <td>1</td>\n",
       "    </tr>\n",
       "    <tr>\n",
       "      <th>35855</th>\n",
       "      <td>ENSG00000257878.1</td>\n",
       "      <td>1</td>\n",
       "    </tr>\n",
       "  </tbody>\n",
       "</table>\n",
       "</div>"
      ],
      "text/plain": [
       "                     CpG  Ranking\n",
       "0              DIAGNOSIS        1\n",
       "47285  ENSG00000167434.9        1\n",
       "35855  ENSG00000257878.1        1"
      ]
     },
     "execution_count": 9,
     "metadata": {},
     "output_type": "execute_result"
    }
   ],
   "source": [
    "Top50 = selected_rf_features.iloc[:50, :]\n",
    "Top50.head(3)"
   ]
  },
  {
   "cell_type": "markdown",
   "id": "a3aba4cb",
   "metadata": {},
   "source": [
    "### Top 50"
   ]
  },
  {
   "cell_type": "code",
   "execution_count": 10,
   "id": "9605e163",
   "metadata": {
    "ExecuteTime": {
     "end_time": "2023-11-15T11:45:25.423241Z",
     "start_time": "2023-11-15T11:45:25.219949Z"
    }
   },
   "outputs": [],
   "source": [
    "Top50.to_csv ('DEGs_Boruta_Top50_Male.csv', index = False)\n",
    "selected_rf_features.to_csv ('DEGs_Boruta_All_Male.csv', index = False)"
   ]
  },
  {
   "cell_type": "code",
   "execution_count": 11,
   "id": "a5bc67f8",
   "metadata": {
    "ExecuteTime": {
     "end_time": "2023-11-15T11:45:25.807114Z",
     "start_time": "2023-11-15T11:45:25.425182Z"
    }
   },
   "outputs": [
    {
     "name": "stderr",
     "output_type": "stream",
     "text": [
      "C:\\Users\\system 4\\AppData\\Local\\Temp\\ipykernel_9824\\1893064251.py:6: SettingWithCopyWarning: \n",
      "A value is trying to be set on a copy of a slice from a DataFrame.\n",
      "Try using .loc[row_indexer,col_indexer] = value instead\n",
      "\n",
      "See the caveats in the documentation: https://pandas.pydata.org/pandas-docs/stable/user_guide/indexing.html#returning-a-view-versus-a-copy\n",
      "  df_subset['DIAGNOSIS'] = data['DIAGNOSIS']\n"
     ]
    },
    {
     "data": {
      "text/html": [
       "<div>\n",
       "<style scoped>\n",
       "    .dataframe tbody tr th:only-of-type {\n",
       "        vertical-align: middle;\n",
       "    }\n",
       "\n",
       "    .dataframe tbody tr th {\n",
       "        vertical-align: top;\n",
       "    }\n",
       "\n",
       "    .dataframe thead th {\n",
       "        text-align: right;\n",
       "    }\n",
       "</style>\n",
       "<table border=\"1\" class=\"dataframe\">\n",
       "  <thead>\n",
       "    <tr style=\"text-align: right;\">\n",
       "      <th></th>\n",
       "      <th>DIAGNOSIS</th>\n",
       "      <th>ENSG00000189337.16</th>\n",
       "      <th>ENSG00000076864.19</th>\n",
       "      <th>ENSG00000187010.20</th>\n",
       "      <th>ENSG00000222112.1</th>\n",
       "      <th>ENSG00000273136.6</th>\n",
       "      <th>ENSG00000281741.2</th>\n",
       "      <th>ENSG00000226067.6</th>\n",
       "      <th>ENSG00000263961.7</th>\n",
       "      <th>ENSG00000135778.11</th>\n",
       "      <th>...</th>\n",
       "      <th>ENSG00000258476.5</th>\n",
       "      <th>ENSG00000258831.1</th>\n",
       "      <th>ENSG00000262332.1</th>\n",
       "      <th>ENSG00000167434.9</th>\n",
       "      <th>ENSG00000280096.1</th>\n",
       "      <th>ENSG00000268240.1</th>\n",
       "      <th>ENSG00000268278.1</th>\n",
       "      <th>ENSG00000225178.5</th>\n",
       "      <th>ENSG00000100116.16</th>\n",
       "      <th>ENSG00000238222.3</th>\n",
       "    </tr>\n",
       "  </thead>\n",
       "  <tbody>\n",
       "    <tr>\n",
       "      <th>0</th>\n",
       "      <td>1</td>\n",
       "      <td>359</td>\n",
       "      <td>1653</td>\n",
       "      <td>9</td>\n",
       "      <td>544</td>\n",
       "      <td>2592</td>\n",
       "      <td>88</td>\n",
       "      <td>776</td>\n",
       "      <td>55</td>\n",
       "      <td>1500</td>\n",
       "      <td>...</td>\n",
       "      <td>349</td>\n",
       "      <td>67</td>\n",
       "      <td>61</td>\n",
       "      <td>391</td>\n",
       "      <td>68</td>\n",
       "      <td>117</td>\n",
       "      <td>19</td>\n",
       "      <td>188</td>\n",
       "      <td>278</td>\n",
       "      <td>26</td>\n",
       "    </tr>\n",
       "    <tr>\n",
       "      <th>1</th>\n",
       "      <td>1</td>\n",
       "      <td>197</td>\n",
       "      <td>61</td>\n",
       "      <td>0</td>\n",
       "      <td>672</td>\n",
       "      <td>6702</td>\n",
       "      <td>22</td>\n",
       "      <td>489</td>\n",
       "      <td>96</td>\n",
       "      <td>1465</td>\n",
       "      <td>...</td>\n",
       "      <td>490</td>\n",
       "      <td>116</td>\n",
       "      <td>109</td>\n",
       "      <td>446</td>\n",
       "      <td>23</td>\n",
       "      <td>64</td>\n",
       "      <td>12</td>\n",
       "      <td>1137</td>\n",
       "      <td>76</td>\n",
       "      <td>9</td>\n",
       "    </tr>\n",
       "  </tbody>\n",
       "</table>\n",
       "<p>2 rows × 50 columns</p>\n",
       "</div>"
      ],
      "text/plain": [
       "   DIAGNOSIS  ENSG00000189337.16  ENSG00000076864.19  ENSG00000187010.20  \\\n",
       "0          1                 359                1653                   9   \n",
       "1          1                 197                  61                   0   \n",
       "\n",
       "   ENSG00000222112.1  ENSG00000273136.6  ENSG00000281741.2  ENSG00000226067.6  \\\n",
       "0                544               2592                 88                776   \n",
       "1                672               6702                 22                489   \n",
       "\n",
       "   ENSG00000263961.7  ENSG00000135778.11  ...  ENSG00000258476.5  \\\n",
       "0                 55                1500  ...                349   \n",
       "1                 96                1465  ...                490   \n",
       "\n",
       "   ENSG00000258831.1  ENSG00000262332.1  ENSG00000167434.9  ENSG00000280096.1  \\\n",
       "0                 67                 61                391                 68   \n",
       "1                116                109                446                 23   \n",
       "\n",
       "   ENSG00000268240.1  ENSG00000268278.1  ENSG00000225178.5  \\\n",
       "0                117                 19                188   \n",
       "1                 64                 12               1137   \n",
       "\n",
       "   ENSG00000100116.16  ENSG00000238222.3  \n",
       "0                 278                 26  \n",
       "1                  76                  9  \n",
       "\n",
       "[2 rows x 50 columns]"
      ]
     },
     "execution_count": 11,
     "metadata": {},
     "output_type": "execute_result"
    }
   ],
   "source": [
    "# create a list of column names to subset from data\n",
    "col_names = Top50.iloc[:, 0].tolist()\n",
    "\n",
    "# subset df based on the column names\n",
    "df_subset = data.loc[:, data.columns.isin(col_names)]\n",
    "df_subset['DIAGNOSIS'] = data['DIAGNOSIS']\n",
    "df_subset.to_csv ('DEGs_Boruta_Top50_Data_Male.csv', index = False)\n",
    "df_subset.head(2)"
   ]
  },
  {
   "cell_type": "markdown",
   "id": "02af7ae1",
   "metadata": {},
   "source": [
    "### Top 100"
   ]
  },
  {
   "cell_type": "code",
   "execution_count": 12,
   "id": "d2bf41f3",
   "metadata": {
    "ExecuteTime": {
     "end_time": "2023-11-15T11:45:25.823146Z",
     "start_time": "2023-11-15T11:45:25.810116Z"
    }
   },
   "outputs": [
    {
     "data": {
      "text/html": [
       "<div>\n",
       "<style scoped>\n",
       "    .dataframe tbody tr th:only-of-type {\n",
       "        vertical-align: middle;\n",
       "    }\n",
       "\n",
       "    .dataframe tbody tr th {\n",
       "        vertical-align: top;\n",
       "    }\n",
       "\n",
       "    .dataframe thead th {\n",
       "        text-align: right;\n",
       "    }\n",
       "</style>\n",
       "<table border=\"1\" class=\"dataframe\">\n",
       "  <thead>\n",
       "    <tr style=\"text-align: right;\">\n",
       "      <th></th>\n",
       "      <th>CpG</th>\n",
       "      <th>Ranking</th>\n",
       "    </tr>\n",
       "  </thead>\n",
       "  <tbody>\n",
       "    <tr>\n",
       "      <th>0</th>\n",
       "      <td>DIAGNOSIS</td>\n",
       "      <td>1</td>\n",
       "    </tr>\n",
       "    <tr>\n",
       "      <th>47285</th>\n",
       "      <td>ENSG00000167434.9</td>\n",
       "      <td>1</td>\n",
       "    </tr>\n",
       "  </tbody>\n",
       "</table>\n",
       "</div>"
      ],
      "text/plain": [
       "                     CpG  Ranking\n",
       "0              DIAGNOSIS        1\n",
       "47285  ENSG00000167434.9        1"
      ]
     },
     "execution_count": 12,
     "metadata": {},
     "output_type": "execute_result"
    }
   ],
   "source": [
    "Top100 = selected_rf_features.iloc[:100, :]\n",
    "Top100.to_csv ('DEGs_Boruta_Top100_Male.csv', index = False)\n",
    "Top100.head(2)"
   ]
  },
  {
   "cell_type": "code",
   "execution_count": 13,
   "id": "bd596750",
   "metadata": {
    "ExecuteTime": {
     "end_time": "2023-11-15T11:45:25.949002Z",
     "start_time": "2023-11-15T11:45:25.825114Z"
    }
   },
   "outputs": [
    {
     "name": "stderr",
     "output_type": "stream",
     "text": [
      "C:\\Users\\system 4\\AppData\\Local\\Temp\\ipykernel_9824\\3442473894.py:6: SettingWithCopyWarning: \n",
      "A value is trying to be set on a copy of a slice from a DataFrame.\n",
      "Try using .loc[row_indexer,col_indexer] = value instead\n",
      "\n",
      "See the caveats in the documentation: https://pandas.pydata.org/pandas-docs/stable/user_guide/indexing.html#returning-a-view-versus-a-copy\n",
      "  df_subset['DIAGNOSIS'] = data['DIAGNOSIS']\n"
     ]
    },
    {
     "data": {
      "text/html": [
       "<div>\n",
       "<style scoped>\n",
       "    .dataframe tbody tr th:only-of-type {\n",
       "        vertical-align: middle;\n",
       "    }\n",
       "\n",
       "    .dataframe tbody tr th {\n",
       "        vertical-align: top;\n",
       "    }\n",
       "\n",
       "    .dataframe thead th {\n",
       "        text-align: right;\n",
       "    }\n",
       "</style>\n",
       "<table border=\"1\" class=\"dataframe\">\n",
       "  <thead>\n",
       "    <tr style=\"text-align: right;\">\n",
       "      <th></th>\n",
       "      <th>DIAGNOSIS</th>\n",
       "      <th>ENSG00000189337.16</th>\n",
       "      <th>ENSG00000076864.19</th>\n",
       "      <th>ENSG00000187010.20</th>\n",
       "      <th>ENSG00000222112.1</th>\n",
       "      <th>ENSG00000116983.12</th>\n",
       "      <th>ENSG00000173212.4</th>\n",
       "      <th>ENSG00000273136.6</th>\n",
       "      <th>ENSG00000281741.2</th>\n",
       "      <th>ENSG00000226067.6</th>\n",
       "      <th>...</th>\n",
       "      <th>ENSG00000268433.1</th>\n",
       "      <th>ENSG00000225178.5</th>\n",
       "      <th>ENSG00000186431.18</th>\n",
       "      <th>ENSG00000105048.16</th>\n",
       "      <th>ENSG00000222365.1</th>\n",
       "      <th>ENSG00000100218.11</th>\n",
       "      <th>ENSG00000189060.5</th>\n",
       "      <th>ENSG00000100116.16</th>\n",
       "      <th>ENSG00000238222.3</th>\n",
       "      <th>ENSG00000275063.1</th>\n",
       "    </tr>\n",
       "  </thead>\n",
       "  <tbody>\n",
       "    <tr>\n",
       "      <th>0</th>\n",
       "      <td>1</td>\n",
       "      <td>359</td>\n",
       "      <td>1653</td>\n",
       "      <td>9</td>\n",
       "      <td>544</td>\n",
       "      <td>392</td>\n",
       "      <td>104</td>\n",
       "      <td>2592</td>\n",
       "      <td>88</td>\n",
       "      <td>776</td>\n",
       "      <td>...</td>\n",
       "      <td>78</td>\n",
       "      <td>188</td>\n",
       "      <td>1520</td>\n",
       "      <td>181</td>\n",
       "      <td>251</td>\n",
       "      <td>48</td>\n",
       "      <td>1149</td>\n",
       "      <td>278</td>\n",
       "      <td>26</td>\n",
       "      <td>82</td>\n",
       "    </tr>\n",
       "    <tr>\n",
       "      <th>1</th>\n",
       "      <td>1</td>\n",
       "      <td>197</td>\n",
       "      <td>61</td>\n",
       "      <td>0</td>\n",
       "      <td>672</td>\n",
       "      <td>270</td>\n",
       "      <td>74</td>\n",
       "      <td>6702</td>\n",
       "      <td>22</td>\n",
       "      <td>489</td>\n",
       "      <td>...</td>\n",
       "      <td>36</td>\n",
       "      <td>1137</td>\n",
       "      <td>1603</td>\n",
       "      <td>88</td>\n",
       "      <td>242</td>\n",
       "      <td>46</td>\n",
       "      <td>441</td>\n",
       "      <td>76</td>\n",
       "      <td>9</td>\n",
       "      <td>2</td>\n",
       "    </tr>\n",
       "  </tbody>\n",
       "</table>\n",
       "<p>2 rows × 100 columns</p>\n",
       "</div>"
      ],
      "text/plain": [
       "   DIAGNOSIS  ENSG00000189337.16  ENSG00000076864.19  ENSG00000187010.20  \\\n",
       "0          1                 359                1653                   9   \n",
       "1          1                 197                  61                   0   \n",
       "\n",
       "   ENSG00000222112.1  ENSG00000116983.12  ENSG00000173212.4  \\\n",
       "0                544                 392                104   \n",
       "1                672                 270                 74   \n",
       "\n",
       "   ENSG00000273136.6  ENSG00000281741.2  ENSG00000226067.6  ...  \\\n",
       "0               2592                 88                776  ...   \n",
       "1               6702                 22                489  ...   \n",
       "\n",
       "   ENSG00000268433.1  ENSG00000225178.5  ENSG00000186431.18  \\\n",
       "0                 78                188                1520   \n",
       "1                 36               1137                1603   \n",
       "\n",
       "   ENSG00000105048.16  ENSG00000222365.1  ENSG00000100218.11  \\\n",
       "0                 181                251                  48   \n",
       "1                  88                242                  46   \n",
       "\n",
       "   ENSG00000189060.5  ENSG00000100116.16  ENSG00000238222.3  ENSG00000275063.1  \n",
       "0               1149                 278                 26                 82  \n",
       "1                441                  76                  9                  2  \n",
       "\n",
       "[2 rows x 100 columns]"
      ]
     },
     "execution_count": 13,
     "metadata": {},
     "output_type": "execute_result"
    }
   ],
   "source": [
    "# create a list of column names to subset from data\n",
    "col_names = Top100.iloc[:, 0].tolist()\n",
    "\n",
    "# subset df based on the column names\n",
    "df_subset = data.loc[:, data.columns.isin(col_names)]\n",
    "df_subset['DIAGNOSIS'] = data['DIAGNOSIS']\n",
    "df_subset.to_csv ('DEGs_Boruta_Top100_Data_Male.csv', index = False)\n",
    "df_subset.head(2)"
   ]
  },
  {
   "cell_type": "markdown",
   "id": "da0416bc",
   "metadata": {},
   "source": [
    "### Top 250"
   ]
  },
  {
   "cell_type": "code",
   "execution_count": 14,
   "id": "876e2345",
   "metadata": {
    "ExecuteTime": {
     "end_time": "2023-11-15T11:45:25.997036Z",
     "start_time": "2023-11-15T11:45:25.951970Z"
    }
   },
   "outputs": [
    {
     "data": {
      "text/html": [
       "<div>\n",
       "<style scoped>\n",
       "    .dataframe tbody tr th:only-of-type {\n",
       "        vertical-align: middle;\n",
       "    }\n",
       "\n",
       "    .dataframe tbody tr th {\n",
       "        vertical-align: top;\n",
       "    }\n",
       "\n",
       "    .dataframe thead th {\n",
       "        text-align: right;\n",
       "    }\n",
       "</style>\n",
       "<table border=\"1\" class=\"dataframe\">\n",
       "  <thead>\n",
       "    <tr style=\"text-align: right;\">\n",
       "      <th></th>\n",
       "      <th>CpG</th>\n",
       "      <th>Ranking</th>\n",
       "    </tr>\n",
       "  </thead>\n",
       "  <tbody>\n",
       "    <tr>\n",
       "      <th>0</th>\n",
       "      <td>DIAGNOSIS</td>\n",
       "      <td>1</td>\n",
       "    </tr>\n",
       "    <tr>\n",
       "      <th>47285</th>\n",
       "      <td>ENSG00000167434.9</td>\n",
       "      <td>1</td>\n",
       "    </tr>\n",
       "  </tbody>\n",
       "</table>\n",
       "</div>"
      ],
      "text/plain": [
       "                     CpG  Ranking\n",
       "0              DIAGNOSIS        1\n",
       "47285  ENSG00000167434.9        1"
      ]
     },
     "execution_count": 14,
     "metadata": {},
     "output_type": "execute_result"
    }
   ],
   "source": [
    "Top250 = selected_rf_features.iloc[:250, :]\n",
    "Top250.to_csv ('DEGs_Boruta_Top250_Male.csv', index = False)\n",
    "Top250.head(2)"
   ]
  },
  {
   "cell_type": "code",
   "execution_count": 15,
   "id": "72fbf0a1",
   "metadata": {
    "ExecuteTime": {
     "end_time": "2023-11-15T11:45:26.154149Z",
     "start_time": "2023-11-15T11:45:25.998970Z"
    }
   },
   "outputs": [
    {
     "name": "stderr",
     "output_type": "stream",
     "text": [
      "C:\\Users\\system 4\\AppData\\Local\\Temp\\ipykernel_9824\\3939843383.py:6: SettingWithCopyWarning: \n",
      "A value is trying to be set on a copy of a slice from a DataFrame.\n",
      "Try using .loc[row_indexer,col_indexer] = value instead\n",
      "\n",
      "See the caveats in the documentation: https://pandas.pydata.org/pandas-docs/stable/user_guide/indexing.html#returning-a-view-versus-a-copy\n",
      "  df_subset['DIAGNOSIS'] = data['DIAGNOSIS']\n"
     ]
    },
    {
     "data": {
      "text/html": [
       "<div>\n",
       "<style scoped>\n",
       "    .dataframe tbody tr th:only-of-type {\n",
       "        vertical-align: middle;\n",
       "    }\n",
       "\n",
       "    .dataframe tbody tr th {\n",
       "        vertical-align: top;\n",
       "    }\n",
       "\n",
       "    .dataframe thead th {\n",
       "        text-align: right;\n",
       "    }\n",
       "</style>\n",
       "<table border=\"1\" class=\"dataframe\">\n",
       "  <thead>\n",
       "    <tr style=\"text-align: right;\">\n",
       "      <th></th>\n",
       "      <th>DIAGNOSIS</th>\n",
       "      <th>ENSG00000189337.16</th>\n",
       "      <th>ENSG00000142794.18</th>\n",
       "      <th>ENSG00000076864.19</th>\n",
       "      <th>ENSG00000187010.20</th>\n",
       "      <th>ENSG00000159023.21</th>\n",
       "      <th>ENSG00000134686.18</th>\n",
       "      <th>ENSG00000222112.1</th>\n",
       "      <th>ENSG00000116983.12</th>\n",
       "      <th>ENSG00000199377.1</th>\n",
       "      <th>...</th>\n",
       "      <th>ENSG00000184792.15</th>\n",
       "      <th>ENSG00000189060.5</th>\n",
       "      <th>ENSG00000100116.16</th>\n",
       "      <th>ENSG00000102010.14</th>\n",
       "      <th>ENSG00000169891.17</th>\n",
       "      <th>ENSG00000241886.1</th>\n",
       "      <th>ENSG00000238222.3</th>\n",
       "      <th>ENSG00000157514.16</th>\n",
       "      <th>ENSG00000130830.14</th>\n",
       "      <th>ENSG00000275063.1</th>\n",
       "    </tr>\n",
       "  </thead>\n",
       "  <tbody>\n",
       "    <tr>\n",
       "      <th>0</th>\n",
       "      <td>1</td>\n",
       "      <td>359</td>\n",
       "      <td>880</td>\n",
       "      <td>1653</td>\n",
       "      <td>9</td>\n",
       "      <td>147789</td>\n",
       "      <td>3026</td>\n",
       "      <td>544</td>\n",
       "      <td>392</td>\n",
       "      <td>25</td>\n",
       "      <td>...</td>\n",
       "      <td>4312</td>\n",
       "      <td>1149</td>\n",
       "      <td>278</td>\n",
       "      <td>275</td>\n",
       "      <td>5104</td>\n",
       "      <td>449</td>\n",
       "      <td>26</td>\n",
       "      <td>7394</td>\n",
       "      <td>25655</td>\n",
       "      <td>82</td>\n",
       "    </tr>\n",
       "    <tr>\n",
       "      <th>1</th>\n",
       "      <td>1</td>\n",
       "      <td>197</td>\n",
       "      <td>407</td>\n",
       "      <td>61</td>\n",
       "      <td>0</td>\n",
       "      <td>51779</td>\n",
       "      <td>3395</td>\n",
       "      <td>672</td>\n",
       "      <td>270</td>\n",
       "      <td>17</td>\n",
       "      <td>...</td>\n",
       "      <td>981</td>\n",
       "      <td>441</td>\n",
       "      <td>76</td>\n",
       "      <td>361</td>\n",
       "      <td>7006</td>\n",
       "      <td>827</td>\n",
       "      <td>9</td>\n",
       "      <td>6408</td>\n",
       "      <td>11059</td>\n",
       "      <td>2</td>\n",
       "    </tr>\n",
       "  </tbody>\n",
       "</table>\n",
       "<p>2 rows × 250 columns</p>\n",
       "</div>"
      ],
      "text/plain": [
       "   DIAGNOSIS  ENSG00000189337.16  ENSG00000142794.18  ENSG00000076864.19  \\\n",
       "0          1                 359                 880                1653   \n",
       "1          1                 197                 407                  61   \n",
       "\n",
       "   ENSG00000187010.20  ENSG00000159023.21  ENSG00000134686.18  \\\n",
       "0                   9              147789                3026   \n",
       "1                   0               51779                3395   \n",
       "\n",
       "   ENSG00000222112.1  ENSG00000116983.12  ENSG00000199377.1  ...  \\\n",
       "0                544                 392                 25  ...   \n",
       "1                672                 270                 17  ...   \n",
       "\n",
       "   ENSG00000184792.15  ENSG00000189060.5  ENSG00000100116.16  \\\n",
       "0                4312               1149                 278   \n",
       "1                 981                441                  76   \n",
       "\n",
       "   ENSG00000102010.14  ENSG00000169891.17  ENSG00000241886.1  \\\n",
       "0                 275                5104                449   \n",
       "1                 361                7006                827   \n",
       "\n",
       "   ENSG00000238222.3  ENSG00000157514.16  ENSG00000130830.14  \\\n",
       "0                 26                7394               25655   \n",
       "1                  9                6408               11059   \n",
       "\n",
       "   ENSG00000275063.1  \n",
       "0                 82  \n",
       "1                  2  \n",
       "\n",
       "[2 rows x 250 columns]"
      ]
     },
     "execution_count": 15,
     "metadata": {},
     "output_type": "execute_result"
    }
   ],
   "source": [
    "# create a list of column names to subset from data\n",
    "col_names = Top250.iloc[:, 0].tolist()\n",
    "\n",
    "# subset df based on the column names\n",
    "df_subset = data.loc[:, data.columns.isin(col_names)]\n",
    "df_subset['DIAGNOSIS'] = data['DIAGNOSIS']\n",
    "df_subset.to_csv ('DEGs_Boruta_Top250_Data_Male.csv', index = False)\n",
    "df_subset.head(2)"
   ]
  },
  {
   "cell_type": "markdown",
   "id": "ec242d27",
   "metadata": {},
   "source": [
    "### Top 500"
   ]
  },
  {
   "cell_type": "code",
   "execution_count": 16,
   "id": "380a31d7",
   "metadata": {
    "ExecuteTime": {
     "end_time": "2023-11-15T11:45:26.170181Z",
     "start_time": "2023-11-15T11:45:26.158148Z"
    }
   },
   "outputs": [
    {
     "data": {
      "text/html": [
       "<div>\n",
       "<style scoped>\n",
       "    .dataframe tbody tr th:only-of-type {\n",
       "        vertical-align: middle;\n",
       "    }\n",
       "\n",
       "    .dataframe tbody tr th {\n",
       "        vertical-align: top;\n",
       "    }\n",
       "\n",
       "    .dataframe thead th {\n",
       "        text-align: right;\n",
       "    }\n",
       "</style>\n",
       "<table border=\"1\" class=\"dataframe\">\n",
       "  <thead>\n",
       "    <tr style=\"text-align: right;\">\n",
       "      <th></th>\n",
       "      <th>CpG</th>\n",
       "      <th>Ranking</th>\n",
       "    </tr>\n",
       "  </thead>\n",
       "  <tbody>\n",
       "    <tr>\n",
       "      <th>0</th>\n",
       "      <td>DIAGNOSIS</td>\n",
       "      <td>1</td>\n",
       "    </tr>\n",
       "    <tr>\n",
       "      <th>47285</th>\n",
       "      <td>ENSG00000167434.9</td>\n",
       "      <td>1</td>\n",
       "    </tr>\n",
       "  </tbody>\n",
       "</table>\n",
       "</div>"
      ],
      "text/plain": [
       "                     CpG  Ranking\n",
       "0              DIAGNOSIS        1\n",
       "47285  ENSG00000167434.9        1"
      ]
     },
     "execution_count": 16,
     "metadata": {},
     "output_type": "execute_result"
    }
   ],
   "source": [
    "Top500 = selected_rf_features.iloc[:250, :]\n",
    "Top500.to_csv ('DEGs_Boruta_Top500_Male.csv', index = False)\n",
    "Top500.head(2)"
   ]
  },
  {
   "cell_type": "code",
   "execution_count": 17,
   "id": "5956b562",
   "metadata": {
    "ExecuteTime": {
     "end_time": "2023-11-15T11:45:26.375458Z",
     "start_time": "2023-11-15T11:45:26.172147Z"
    }
   },
   "outputs": [
    {
     "name": "stderr",
     "output_type": "stream",
     "text": [
      "C:\\Users\\system 4\\AppData\\Local\\Temp\\ipykernel_9824\\2027917441.py:6: SettingWithCopyWarning: \n",
      "A value is trying to be set on a copy of a slice from a DataFrame.\n",
      "Try using .loc[row_indexer,col_indexer] = value instead\n",
      "\n",
      "See the caveats in the documentation: https://pandas.pydata.org/pandas-docs/stable/user_guide/indexing.html#returning-a-view-versus-a-copy\n",
      "  df_subset['DIAGNOSIS'] = data['DIAGNOSIS']\n"
     ]
    },
    {
     "data": {
      "text/html": [
       "<div>\n",
       "<style scoped>\n",
       "    .dataframe tbody tr th:only-of-type {\n",
       "        vertical-align: middle;\n",
       "    }\n",
       "\n",
       "    .dataframe tbody tr th {\n",
       "        vertical-align: top;\n",
       "    }\n",
       "\n",
       "    .dataframe thead th {\n",
       "        text-align: right;\n",
       "    }\n",
       "</style>\n",
       "<table border=\"1\" class=\"dataframe\">\n",
       "  <thead>\n",
       "    <tr style=\"text-align: right;\">\n",
       "      <th></th>\n",
       "      <th>DIAGNOSIS</th>\n",
       "      <th>ENSG00000189337.16</th>\n",
       "      <th>ENSG00000142794.18</th>\n",
       "      <th>ENSG00000076864.19</th>\n",
       "      <th>ENSG00000187010.20</th>\n",
       "      <th>ENSG00000159023.21</th>\n",
       "      <th>ENSG00000134686.18</th>\n",
       "      <th>ENSG00000222112.1</th>\n",
       "      <th>ENSG00000116983.12</th>\n",
       "      <th>ENSG00000199377.1</th>\n",
       "      <th>...</th>\n",
       "      <th>ENSG00000184792.15</th>\n",
       "      <th>ENSG00000189060.5</th>\n",
       "      <th>ENSG00000100116.16</th>\n",
       "      <th>ENSG00000102010.14</th>\n",
       "      <th>ENSG00000169891.17</th>\n",
       "      <th>ENSG00000241886.1</th>\n",
       "      <th>ENSG00000238222.3</th>\n",
       "      <th>ENSG00000157514.16</th>\n",
       "      <th>ENSG00000130830.14</th>\n",
       "      <th>ENSG00000275063.1</th>\n",
       "    </tr>\n",
       "  </thead>\n",
       "  <tbody>\n",
       "    <tr>\n",
       "      <th>0</th>\n",
       "      <td>1</td>\n",
       "      <td>359</td>\n",
       "      <td>880</td>\n",
       "      <td>1653</td>\n",
       "      <td>9</td>\n",
       "      <td>147789</td>\n",
       "      <td>3026</td>\n",
       "      <td>544</td>\n",
       "      <td>392</td>\n",
       "      <td>25</td>\n",
       "      <td>...</td>\n",
       "      <td>4312</td>\n",
       "      <td>1149</td>\n",
       "      <td>278</td>\n",
       "      <td>275</td>\n",
       "      <td>5104</td>\n",
       "      <td>449</td>\n",
       "      <td>26</td>\n",
       "      <td>7394</td>\n",
       "      <td>25655</td>\n",
       "      <td>82</td>\n",
       "    </tr>\n",
       "    <tr>\n",
       "      <th>1</th>\n",
       "      <td>1</td>\n",
       "      <td>197</td>\n",
       "      <td>407</td>\n",
       "      <td>61</td>\n",
       "      <td>0</td>\n",
       "      <td>51779</td>\n",
       "      <td>3395</td>\n",
       "      <td>672</td>\n",
       "      <td>270</td>\n",
       "      <td>17</td>\n",
       "      <td>...</td>\n",
       "      <td>981</td>\n",
       "      <td>441</td>\n",
       "      <td>76</td>\n",
       "      <td>361</td>\n",
       "      <td>7006</td>\n",
       "      <td>827</td>\n",
       "      <td>9</td>\n",
       "      <td>6408</td>\n",
       "      <td>11059</td>\n",
       "      <td>2</td>\n",
       "    </tr>\n",
       "  </tbody>\n",
       "</table>\n",
       "<p>2 rows × 250 columns</p>\n",
       "</div>"
      ],
      "text/plain": [
       "   DIAGNOSIS  ENSG00000189337.16  ENSG00000142794.18  ENSG00000076864.19  \\\n",
       "0          1                 359                 880                1653   \n",
       "1          1                 197                 407                  61   \n",
       "\n",
       "   ENSG00000187010.20  ENSG00000159023.21  ENSG00000134686.18  \\\n",
       "0                   9              147789                3026   \n",
       "1                   0               51779                3395   \n",
       "\n",
       "   ENSG00000222112.1  ENSG00000116983.12  ENSG00000199377.1  ...  \\\n",
       "0                544                 392                 25  ...   \n",
       "1                672                 270                 17  ...   \n",
       "\n",
       "   ENSG00000184792.15  ENSG00000189060.5  ENSG00000100116.16  \\\n",
       "0                4312               1149                 278   \n",
       "1                 981                441                  76   \n",
       "\n",
       "   ENSG00000102010.14  ENSG00000169891.17  ENSG00000241886.1  \\\n",
       "0                 275                5104                449   \n",
       "1                 361                7006                827   \n",
       "\n",
       "   ENSG00000238222.3  ENSG00000157514.16  ENSG00000130830.14  \\\n",
       "0                 26                7394               25655   \n",
       "1                  9                6408               11059   \n",
       "\n",
       "   ENSG00000275063.1  \n",
       "0                 82  \n",
       "1                  2  \n",
       "\n",
       "[2 rows x 250 columns]"
      ]
     },
     "execution_count": 17,
     "metadata": {},
     "output_type": "execute_result"
    }
   ],
   "source": [
    "# create a list of column names to subset from data\n",
    "col_names = Top500.iloc[:, 0].tolist()\n",
    "\n",
    "# subset df based on the column names\n",
    "df_subset = data.loc[:, data.columns.isin(col_names)]\n",
    "df_subset['DIAGNOSIS'] = data['DIAGNOSIS']\n",
    "df_subset.to_csv ('DEGs_Boruta_Top500_Data_Male.csv', index = False)\n",
    "df_subset.head(2)"
   ]
  },
  {
   "cell_type": "markdown",
   "id": "59810b00",
   "metadata": {},
   "source": []
  }
 ],
 "metadata": {
  "kernelspec": {
   "display_name": "Python 3 (ipykernel)",
   "language": "python",
   "name": "python3"
  },
  "language_info": {
   "codemirror_mode": {
    "name": "ipython",
    "version": 3
   },
   "file_extension": ".py",
   "mimetype": "text/x-python",
   "name": "python",
   "nbconvert_exporter": "python",
   "pygments_lexer": "ipython3",
   "version": "3.9.16"
  },
  "toc": {
   "base_numbering": 1,
   "nav_menu": {},
   "number_sections": true,
   "sideBar": true,
   "skip_h1_title": false,
   "title_cell": "Table of Contents",
   "title_sidebar": "Contents",
   "toc_cell": false,
   "toc_position": {},
   "toc_section_display": true,
   "toc_window_display": false
  },
  "varInspector": {
   "cols": {
    "lenName": 16,
    "lenType": 16,
    "lenVar": 40
   },
   "kernels_config": {
    "python": {
     "delete_cmd_postfix": "",
     "delete_cmd_prefix": "del ",
     "library": "var_list.py",
     "varRefreshCmd": "print(var_dic_list())"
    },
    "r": {
     "delete_cmd_postfix": ") ",
     "delete_cmd_prefix": "rm(",
     "library": "var_list.r",
     "varRefreshCmd": "cat(var_dic_list()) "
    }
   },
   "types_to_exclude": [
    "module",
    "function",
    "builtin_function_or_method",
    "instance",
    "_Feature"
   ],
   "window_display": false
  }
 },
 "nbformat": 4,
 "nbformat_minor": 5
}
