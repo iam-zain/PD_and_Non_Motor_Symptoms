{
 "cells": [
  {
   "cell_type": "code",
   "execution_count": 1,
   "id": "51c5704f",
   "metadata": {
    "ExecuteTime": {
     "end_time": "2023-11-21T06:30:25.964492Z",
     "start_time": "2023-11-21T06:30:24.369345Z"
    }
   },
   "outputs": [],
   "source": [
    "import numpy as np\n",
    "import pandas as pd\n",
    "from boruta import BorutaPy\n",
    "from sklearn.datasets import load_diabetes\n",
    "from sklearn.metrics import accuracy_score \n",
    "from sklearn.ensemble import RandomForestRegressor\n",
    "from sklearn.ensemble import RandomForestClassifier\n",
    "from sklearn.model_selection import train_test_split"
   ]
  },
  {
   "cell_type": "code",
   "execution_count": 4,
   "id": "5ff336b1",
   "metadata": {
    "ExecuteTime": {
     "end_time": "2023-11-21T06:31:41.842862Z",
     "start_time": "2023-11-21T06:31:14.673835Z"
    }
   },
   "outputs": [
    {
     "name": "stdout",
     "output_type": "stream",
     "text": [
      "S:\\PPMI_RNA\\Processed\\Progression_Analysis\\Male\\HYS_1vs2vs3\n"
     ]
    },
    {
     "data": {
      "text/html": [
       "<div>\n",
       "<style scoped>\n",
       "    .dataframe tbody tr th:only-of-type {\n",
       "        vertical-align: middle;\n",
       "    }\n",
       "\n",
       "    .dataframe tbody tr th {\n",
       "        vertical-align: top;\n",
       "    }\n",
       "\n",
       "    .dataframe thead th {\n",
       "        text-align: right;\n",
       "    }\n",
       "</style>\n",
       "<table border=\"1\" class=\"dataframe\">\n",
       "  <thead>\n",
       "    <tr style=\"text-align: right;\">\n",
       "      <th></th>\n",
       "      <th>HudAlphaID</th>\n",
       "      <th>HYS</th>\n",
       "      <th>ENSG00000223972.5</th>\n",
       "      <th>ENSG00000227232.5</th>\n",
       "      <th>ENSG00000278267.1</th>\n",
       "      <th>ENSG00000243485.5</th>\n",
       "      <th>ENSG00000284332.1</th>\n",
       "      <th>ENSG00000237613.2</th>\n",
       "      <th>ENSG00000268020.3</th>\n",
       "      <th>ENSG00000240361.2</th>\n",
       "      <th>...</th>\n",
       "      <th>ENSG00000273739.1</th>\n",
       "      <th>ENSG00000276700.1</th>\n",
       "      <th>ENSG00000276312.1</th>\n",
       "      <th>ENSG00000275757.1</th>\n",
       "      <th>ENSG00000278573.1</th>\n",
       "      <th>ENSG00000276017.1</th>\n",
       "      <th>ENSG00000278817.1</th>\n",
       "      <th>ENSG00000277196.4</th>\n",
       "      <th>ENSG00000278625.1</th>\n",
       "      <th>ENSG00000277374.1</th>\n",
       "    </tr>\n",
       "  </thead>\n",
       "  <tbody>\n",
       "    <tr>\n",
       "      <th>0</th>\n",
       "      <td>5104_SL_0001</td>\n",
       "      <td>2</td>\n",
       "      <td>15</td>\n",
       "      <td>232</td>\n",
       "      <td>15</td>\n",
       "      <td>0</td>\n",
       "      <td>0</td>\n",
       "      <td>0</td>\n",
       "      <td>0</td>\n",
       "      <td>0</td>\n",
       "      <td>...</td>\n",
       "      <td>0</td>\n",
       "      <td>1</td>\n",
       "      <td>16</td>\n",
       "      <td>1</td>\n",
       "      <td>0</td>\n",
       "      <td>2</td>\n",
       "      <td>19</td>\n",
       "      <td>0</td>\n",
       "      <td>0</td>\n",
       "      <td>0</td>\n",
       "    </tr>\n",
       "  </tbody>\n",
       "</table>\n",
       "<p>1 rows × 58782 columns</p>\n",
       "</div>"
      ],
      "text/plain": [
       "     HudAlphaID  HYS  ENSG00000223972.5  ENSG00000227232.5  ENSG00000278267.1  \\\n",
       "0  5104_SL_0001    2                 15                232                 15   \n",
       "\n",
       "   ENSG00000243485.5  ENSG00000284332.1  ENSG00000237613.2  ENSG00000268020.3  \\\n",
       "0                  0                  0                  0                  0   \n",
       "\n",
       "   ENSG00000240361.2  ...  ENSG00000273739.1  ENSG00000276700.1  \\\n",
       "0                  0  ...                  0                  1   \n",
       "\n",
       "   ENSG00000276312.1  ENSG00000275757.1  ENSG00000278573.1  ENSG00000276017.1  \\\n",
       "0                 16                  1                  0                  2   \n",
       "\n",
       "   ENSG00000278817.1  ENSG00000277196.4  ENSG00000278625.1  ENSG00000277374.1  \n",
       "0                 19                  0                  0                  0  \n",
       "\n",
       "[1 rows x 58782 columns]"
      ]
     },
     "execution_count": 4,
     "metadata": {},
     "output_type": "execute_result"
    }
   ],
   "source": [
    "%cd S:\\PPMI_RNA\\Processed\\Progression_Analysis\\Male\\HYS_1vs2vs3\n",
    "data = pd.read_csv('CountData_HYS1vs2vs3_PD_withHYS_Male.csv')\n",
    "data = data[data['HYS'] != 3]\n",
    "data.head(1)"
   ]
  },
  {
   "cell_type": "code",
   "execution_count": 5,
   "id": "ee22df7a",
   "metadata": {
    "ExecuteTime": {
     "end_time": "2023-11-21T06:31:54.917959Z",
     "start_time": "2023-11-21T06:31:54.553956Z"
    }
   },
   "outputs": [
    {
     "name": "stdout",
     "output_type": "stream",
     "text": [
      "   ENSG00000223972.5  ENSG00000227232.5  ENSG00000278267.1  ENSG00000243485.5  \\\n",
      "0                 15                232                 15                  0   \n",
      "1                  0                 97                  8                  0   \n",
      "\n",
      "   ENSG00000284332.1  ENSG00000237613.2  ENSG00000268020.3  ENSG00000240361.2  \\\n",
      "0                  0                  0                  0                  0   \n",
      "1                  0                  0                  0                  0   \n",
      "\n",
      "   ENSG00000186092.6  ENSG00000238009.6  ...  ENSG00000273739.1  \\\n",
      "0                  0                124  ...                  0   \n",
      "1                  2                124  ...                  0   \n",
      "\n",
      "   ENSG00000276700.1  ENSG00000276312.1  ENSG00000275757.1  ENSG00000278573.1  \\\n",
      "0                  1                 16                  1                  0   \n",
      "1                  9                  0                  1                  0   \n",
      "\n",
      "   ENSG00000276017.1  ENSG00000278817.1  ENSG00000277196.4  ENSG00000278625.1  \\\n",
      "0                  2                 19                  0                  0   \n",
      "1                  0                  7                  1                  0   \n",
      "\n",
      "   ENSG00000277374.1  \n",
      "0                  0  \n",
      "1                  0  \n",
      "\n",
      "[2 rows x 58780 columns]\n"
     ]
    }
   ],
   "source": [
    "X = data.drop(['HudAlphaID', 'HYS'], axis = 1)\n",
    "y = data['HYS']\n",
    "X_train, X_test, y_train, y_test = train_test_split(X, y, test_size = .2, random_state = 1) \n",
    "print(X.head(2))"
   ]
  },
  {
   "cell_type": "code",
   "execution_count": 6,
   "id": "c1ee3e48",
   "metadata": {
    "ExecuteTime": {
     "end_time": "2023-11-21T06:32:07.474712Z",
     "start_time": "2023-11-21T06:32:03.122956Z"
    }
   },
   "outputs": [
    {
     "data": {
      "text/plain": [
       "RandomForestClassifier(random_state=1)"
      ]
     },
     "execution_count": 6,
     "metadata": {},
     "output_type": "execute_result"
    }
   ],
   "source": [
    "rf_all_features = RandomForestClassifier(random_state=1)\n",
    "rf_all_features.fit(X_train, y_train)"
   ]
  },
  {
   "cell_type": "code",
   "execution_count": 7,
   "id": "f17f8606",
   "metadata": {
    "ExecuteTime": {
     "end_time": "2023-11-21T06:32:10.812834Z",
     "start_time": "2023-11-21T06:32:10.449804Z"
    }
   },
   "outputs": [
    {
     "data": {
      "text/plain": [
       "0.7191780821917808"
      ]
     },
     "execution_count": 7,
     "metadata": {},
     "output_type": "execute_result"
    }
   ],
   "source": [
    "accuracy_score(y_test, rf_all_features.predict(X_test))"
   ]
  },
  {
   "cell_type": "code",
   "execution_count": 8,
   "id": "5ba608ac",
   "metadata": {
    "ExecuteTime": {
     "end_time": "2023-11-21T07:01:38.547938Z",
     "start_time": "2023-11-21T06:32:13.810804Z"
    },
    "scrolled": true
   },
   "outputs": [
    {
     "name": "stdout",
     "output_type": "stream",
     "text": [
      "Iteration: 1 / 100\n",
      "Iteration: 2 / 100\n",
      "Iteration: 3 / 100\n",
      "Iteration: 4 / 100\n",
      "Iteration: 5 / 100\n",
      "Iteration: 6 / 100\n",
      "Iteration: 7 / 100\n",
      "Iteration: 8 / 100\n",
      "\n",
      "\n",
      "BorutaPy finished running.\n",
      "\n",
      "Iteration: \t9 / 100\n",
      "Confirmed: \t0\n",
      "Tentative: \t0\n",
      "Rejected: \t58780\n"
     ]
    },
    {
     "data": {
      "text/plain": [
       "BorutaPy(estimator=RandomForestClassifier(n_estimators=3428,\n",
       "                                          random_state=RandomState(MT19937) at 0x27137617140),\n",
       "         n_estimators='auto',\n",
       "         random_state=RandomState(MT19937) at 0x27137617140, verbose=1)"
      ]
     },
     "execution_count": 8,
     "metadata": {},
     "output_type": "execute_result"
    }
   ],
   "source": [
    "rfc = RandomForestClassifier(random_state=1)\n",
    "boruta_selector = BorutaPy(rfc, n_estimators= 'auto', verbose=1, random_state=1)\n",
    "boruta_selector.fit(np.array(X_train), np.array(y_train))  "
   ]
  },
  {
   "cell_type": "code",
   "execution_count": 9,
   "id": "51f874e0",
   "metadata": {
    "ExecuteTime": {
     "end_time": "2023-11-21T07:01:41.400542Z",
     "start_time": "2023-11-21T07:01:41.386544Z"
    }
   },
   "outputs": [
    {
     "name": "stdout",
     "output_type": "stream",
     "text": [
      "No. of significant features:  0\n"
     ]
    }
   ],
   "source": [
    "# print(\"Ranking: \",boruta_selector.ranking_)          \n",
    "print(\"No. of significant features: \", boruta_selector.n_features_)"
   ]
  },
  {
   "cell_type": "code",
   "execution_count": 10,
   "id": "61cadc89",
   "metadata": {
    "ExecuteTime": {
     "end_time": "2023-11-21T07:01:44.209426Z",
     "start_time": "2023-11-21T07:01:44.179857Z"
    }
   },
   "outputs": [],
   "source": [
    "selected_rf_features = pd.DataFrame({'GeneID':list(X_train.columns),\n",
    "                                       'Ranking':boruta_selector.ranking_})\n",
    "selected_rf_features = selected_rf_features.sort_values(by='Ranking')"
   ]
  },
  {
   "cell_type": "code",
   "execution_count": 11,
   "id": "6ae888ab",
   "metadata": {
    "ExecuteTime": {
     "end_time": "2023-11-21T07:01:46.989370Z",
     "start_time": "2023-11-21T07:01:46.979369Z"
    },
    "scrolled": true
   },
   "outputs": [
    {
     "data": {
      "text/html": [
       "<div>\n",
       "<style scoped>\n",
       "    .dataframe tbody tr th:only-of-type {\n",
       "        vertical-align: middle;\n",
       "    }\n",
       "\n",
       "    .dataframe tbody tr th {\n",
       "        vertical-align: top;\n",
       "    }\n",
       "\n",
       "    .dataframe thead th {\n",
       "        text-align: right;\n",
       "    }\n",
       "</style>\n",
       "<table border=\"1\" class=\"dataframe\">\n",
       "  <thead>\n",
       "    <tr style=\"text-align: right;\">\n",
       "      <th></th>\n",
       "      <th>CpG</th>\n",
       "      <th>Ranking</th>\n",
       "    </tr>\n",
       "  </thead>\n",
       "  <tbody>\n",
       "    <tr>\n",
       "      <th>6751</th>\n",
       "      <td>ENSG00000125551.18</td>\n",
       "      <td>2</td>\n",
       "    </tr>\n",
       "    <tr>\n",
       "      <th>25860</th>\n",
       "      <td>ENSG00000254859.1</td>\n",
       "      <td>3</td>\n",
       "    </tr>\n",
       "    <tr>\n",
       "      <th>40171</th>\n",
       "      <td>ENSG00000211935.3</td>\n",
       "      <td>4</td>\n",
       "    </tr>\n",
       "  </tbody>\n",
       "</table>\n",
       "</div>"
      ],
      "text/plain": [
       "                      CpG  Ranking\n",
       "6751   ENSG00000125551.18        2\n",
       "25860   ENSG00000254859.1        3\n",
       "40171   ENSG00000211935.3        4"
      ]
     },
     "execution_count": 11,
     "metadata": {},
     "output_type": "execute_result"
    }
   ],
   "source": [
    "Top50 = selected_rf_features.iloc[:50, :]\n",
    "Top50.head(3)"
   ]
  },
  {
   "cell_type": "markdown",
   "id": "a3aba4cb",
   "metadata": {},
   "source": [
    "### Top 50"
   ]
  },
  {
   "cell_type": "code",
   "execution_count": 12,
   "id": "9605e163",
   "metadata": {
    "ExecuteTime": {
     "end_time": "2023-11-21T07:01:49.865370Z",
     "start_time": "2023-11-21T07:01:49.755369Z"
    }
   },
   "outputs": [],
   "source": [
    "Top50.to_csv ('HYS1vs2_Boruta_Top50_Male.csv', index = False)\n",
    "selected_rf_features.to_csv ('HYS1vs2_Boruta_All_Male.csv', index = False)"
   ]
  },
  {
   "cell_type": "code",
   "execution_count": 13,
   "id": "a5bc67f8",
   "metadata": {
    "ExecuteTime": {
     "end_time": "2023-11-21T07:01:52.679556Z",
     "start_time": "2023-11-21T07:01:52.650554Z"
    }
   },
   "outputs": [
    {
     "name": "stderr",
     "output_type": "stream",
     "text": [
      "C:\\Users\\system 4\\AppData\\Local\\Temp\\ipykernel_7424\\1143389863.py:6: SettingWithCopyWarning: \n",
      "A value is trying to be set on a copy of a slice from a DataFrame.\n",
      "Try using .loc[row_indexer,col_indexer] = value instead\n",
      "\n",
      "See the caveats in the documentation: https://pandas.pydata.org/pandas-docs/stable/user_guide/indexing.html#returning-a-view-versus-a-copy\n",
      "  df_subset['HYS'] = data['HYS']\n"
     ]
    },
    {
     "data": {
      "text/html": [
       "<div>\n",
       "<style scoped>\n",
       "    .dataframe tbody tr th:only-of-type {\n",
       "        vertical-align: middle;\n",
       "    }\n",
       "\n",
       "    .dataframe tbody tr th {\n",
       "        vertical-align: top;\n",
       "    }\n",
       "\n",
       "    .dataframe thead th {\n",
       "        text-align: right;\n",
       "    }\n",
       "</style>\n",
       "<table border=\"1\" class=\"dataframe\">\n",
       "  <thead>\n",
       "    <tr style=\"text-align: right;\">\n",
       "      <th></th>\n",
       "      <th>ENSG00000186891.13</th>\n",
       "      <th>ENSG00000173372.16</th>\n",
       "      <th>ENSG00000168765.16</th>\n",
       "      <th>ENSG00000125551.18</th>\n",
       "      <th>ENSG00000229754.1</th>\n",
       "      <th>ENSG00000124019.9</th>\n",
       "      <th>ENSG00000206561.12</th>\n",
       "      <th>ENSG00000179934.6</th>\n",
       "      <th>ENSG00000012223.12</th>\n",
       "      <th>ENSG00000163661.3</th>\n",
       "      <th>...</th>\n",
       "      <th>ENSG00000211966.2</th>\n",
       "      <th>ENSG00000211970.3</th>\n",
       "      <th>ENSG00000062524.15</th>\n",
       "      <th>ENSG00000103148.15</th>\n",
       "      <th>ENSG00000278987.1</th>\n",
       "      <th>ENSG00000267265.5</th>\n",
       "      <th>ENSG00000160307.9</th>\n",
       "      <th>ENSG00000278196.3</th>\n",
       "      <th>ENSG00000100336.17</th>\n",
       "      <th>HYS</th>\n",
       "    </tr>\n",
       "  </thead>\n",
       "  <tbody>\n",
       "    <tr>\n",
       "      <th>0</th>\n",
       "      <td>138</td>\n",
       "      <td>246</td>\n",
       "      <td>404</td>\n",
       "      <td>150</td>\n",
       "      <td>808</td>\n",
       "      <td>133</td>\n",
       "      <td>406</td>\n",
       "      <td>98</td>\n",
       "      <td>708</td>\n",
       "      <td>66</td>\n",
       "      <td>...</td>\n",
       "      <td>138</td>\n",
       "      <td>14</td>\n",
       "      <td>242</td>\n",
       "      <td>3378</td>\n",
       "      <td>177</td>\n",
       "      <td>149</td>\n",
       "      <td>49</td>\n",
       "      <td>248</td>\n",
       "      <td>61</td>\n",
       "      <td>2</td>\n",
       "    </tr>\n",
       "    <tr>\n",
       "      <th>1</th>\n",
       "      <td>218</td>\n",
       "      <td>165</td>\n",
       "      <td>309</td>\n",
       "      <td>118</td>\n",
       "      <td>169</td>\n",
       "      <td>127</td>\n",
       "      <td>322</td>\n",
       "      <td>89</td>\n",
       "      <td>258</td>\n",
       "      <td>59</td>\n",
       "      <td>...</td>\n",
       "      <td>54</td>\n",
       "      <td>11</td>\n",
       "      <td>179</td>\n",
       "      <td>1456</td>\n",
       "      <td>100</td>\n",
       "      <td>107</td>\n",
       "      <td>41</td>\n",
       "      <td>15</td>\n",
       "      <td>62</td>\n",
       "      <td>2</td>\n",
       "    </tr>\n",
       "  </tbody>\n",
       "</table>\n",
       "<p>2 rows × 51 columns</p>\n",
       "</div>"
      ],
      "text/plain": [
       "   ENSG00000186891.13  ENSG00000173372.16  ENSG00000168765.16  \\\n",
       "0                 138                 246                 404   \n",
       "1                 218                 165                 309   \n",
       "\n",
       "   ENSG00000125551.18  ENSG00000229754.1  ENSG00000124019.9  \\\n",
       "0                 150                808                133   \n",
       "1                 118                169                127   \n",
       "\n",
       "   ENSG00000206561.12  ENSG00000179934.6  ENSG00000012223.12  \\\n",
       "0                 406                 98                 708   \n",
       "1                 322                 89                 258   \n",
       "\n",
       "   ENSG00000163661.3  ...  ENSG00000211966.2  ENSG00000211970.3  \\\n",
       "0                 66  ...                138                 14   \n",
       "1                 59  ...                 54                 11   \n",
       "\n",
       "   ENSG00000062524.15  ENSG00000103148.15  ENSG00000278987.1  \\\n",
       "0                 242                3378                177   \n",
       "1                 179                1456                100   \n",
       "\n",
       "   ENSG00000267265.5  ENSG00000160307.9  ENSG00000278196.3  \\\n",
       "0                149                 49                248   \n",
       "1                107                 41                 15   \n",
       "\n",
       "   ENSG00000100336.17  HYS  \n",
       "0                  61    2  \n",
       "1                  62    2  \n",
       "\n",
       "[2 rows x 51 columns]"
      ]
     },
     "execution_count": 13,
     "metadata": {},
     "output_type": "execute_result"
    }
   ],
   "source": [
    "# create a list of column names to subset from data\n",
    "col_names = Top50.iloc[:, 0].tolist()\n",
    "\n",
    "# subset df based on the column names\n",
    "df_subset = data.loc[:, data.columns.isin(col_names)]\n",
    "df_subset['HYS'] = data['HYS']\n",
    "df_subset.to_csv ('HYS1vs2_Boruta_Top50_Data_Male.csv', index = False)\n",
    "df_subset.head(2)"
   ]
  },
  {
   "cell_type": "markdown",
   "id": "02af7ae1",
   "metadata": {},
   "source": [
    "### Top 100"
   ]
  },
  {
   "cell_type": "code",
   "execution_count": 14,
   "id": "d2bf41f3",
   "metadata": {
    "ExecuteTime": {
     "end_time": "2023-11-21T07:01:55.515584Z",
     "start_time": "2023-11-21T07:01:55.502553Z"
    }
   },
   "outputs": [
    {
     "data": {
      "text/html": [
       "<div>\n",
       "<style scoped>\n",
       "    .dataframe tbody tr th:only-of-type {\n",
       "        vertical-align: middle;\n",
       "    }\n",
       "\n",
       "    .dataframe tbody tr th {\n",
       "        vertical-align: top;\n",
       "    }\n",
       "\n",
       "    .dataframe thead th {\n",
       "        text-align: right;\n",
       "    }\n",
       "</style>\n",
       "<table border=\"1\" class=\"dataframe\">\n",
       "  <thead>\n",
       "    <tr style=\"text-align: right;\">\n",
       "      <th></th>\n",
       "      <th>CpG</th>\n",
       "      <th>Ranking</th>\n",
       "    </tr>\n",
       "  </thead>\n",
       "  <tbody>\n",
       "    <tr>\n",
       "      <th>6751</th>\n",
       "      <td>ENSG00000125551.18</td>\n",
       "      <td>2</td>\n",
       "    </tr>\n",
       "    <tr>\n",
       "      <th>25860</th>\n",
       "      <td>ENSG00000254859.1</td>\n",
       "      <td>3</td>\n",
       "    </tr>\n",
       "  </tbody>\n",
       "</table>\n",
       "</div>"
      ],
      "text/plain": [
       "                      CpG  Ranking\n",
       "6751   ENSG00000125551.18        2\n",
       "25860   ENSG00000254859.1        3"
      ]
     },
     "execution_count": 14,
     "metadata": {},
     "output_type": "execute_result"
    }
   ],
   "source": [
    "Top100 = selected_rf_features.iloc[:100, :]\n",
    "Top100.to_csv ('HYS1vs2_Boruta_Top100_Male.csv', index = False)\n",
    "Top100.head(2)"
   ]
  },
  {
   "cell_type": "code",
   "execution_count": 15,
   "id": "bd596750",
   "metadata": {
    "ExecuteTime": {
     "end_time": "2023-11-21T07:01:58.345010Z",
     "start_time": "2023-11-21T07:01:58.299584Z"
    }
   },
   "outputs": [
    {
     "name": "stderr",
     "output_type": "stream",
     "text": [
      "C:\\Users\\system 4\\AppData\\Local\\Temp\\ipykernel_7424\\3681904022.py:6: SettingWithCopyWarning: \n",
      "A value is trying to be set on a copy of a slice from a DataFrame.\n",
      "Try using .loc[row_indexer,col_indexer] = value instead\n",
      "\n",
      "See the caveats in the documentation: https://pandas.pydata.org/pandas-docs/stable/user_guide/indexing.html#returning-a-view-versus-a-copy\n",
      "  df_subset['HYS'] = data['HYS']\n"
     ]
    },
    {
     "data": {
      "text/html": [
       "<div>\n",
       "<style scoped>\n",
       "    .dataframe tbody tr th:only-of-type {\n",
       "        vertical-align: middle;\n",
       "    }\n",
       "\n",
       "    .dataframe tbody tr th {\n",
       "        vertical-align: top;\n",
       "    }\n",
       "\n",
       "    .dataframe thead th {\n",
       "        text-align: right;\n",
       "    }\n",
       "</style>\n",
       "<table border=\"1\" class=\"dataframe\">\n",
       "  <thead>\n",
       "    <tr style=\"text-align: right;\">\n",
       "      <th></th>\n",
       "      <th>ENSG00000186891.13</th>\n",
       "      <th>ENSG00000173372.16</th>\n",
       "      <th>ENSG00000122420.9</th>\n",
       "      <th>ENSG00000168765.16</th>\n",
       "      <th>ENSG00000125551.18</th>\n",
       "      <th>ENSG00000144290.16</th>\n",
       "      <th>ENSG00000115457.9</th>\n",
       "      <th>ENSG00000229754.1</th>\n",
       "      <th>ENSG00000124019.9</th>\n",
       "      <th>ENSG00000206561.12</th>\n",
       "      <th>...</th>\n",
       "      <th>ENSG00000211638.2</th>\n",
       "      <th>ENSG00000278196.3</th>\n",
       "      <th>ENSG00000211673.2</th>\n",
       "      <th>ENSG00000218537.1</th>\n",
       "      <th>ENSG00000273295.1</th>\n",
       "      <th>ENSG00000100336.17</th>\n",
       "      <th>ENSG00000275975.1</th>\n",
       "      <th>ENSG00000182489.8</th>\n",
       "      <th>ENSG00000260585.1</th>\n",
       "      <th>HYS</th>\n",
       "    </tr>\n",
       "  </thead>\n",
       "  <tbody>\n",
       "    <tr>\n",
       "      <th>0</th>\n",
       "      <td>138</td>\n",
       "      <td>246</td>\n",
       "      <td>44</td>\n",
       "      <td>404</td>\n",
       "      <td>150</td>\n",
       "      <td>447</td>\n",
       "      <td>39</td>\n",
       "      <td>808</td>\n",
       "      <td>133</td>\n",
       "      <td>406</td>\n",
       "      <td>...</td>\n",
       "      <td>183</td>\n",
       "      <td>248</td>\n",
       "      <td>280</td>\n",
       "      <td>83</td>\n",
       "      <td>505</td>\n",
       "      <td>61</td>\n",
       "      <td>25</td>\n",
       "      <td>83</td>\n",
       "      <td>5</td>\n",
       "      <td>2</td>\n",
       "    </tr>\n",
       "    <tr>\n",
       "      <th>1</th>\n",
       "      <td>218</td>\n",
       "      <td>165</td>\n",
       "      <td>6</td>\n",
       "      <td>309</td>\n",
       "      <td>118</td>\n",
       "      <td>157</td>\n",
       "      <td>11</td>\n",
       "      <td>169</td>\n",
       "      <td>127</td>\n",
       "      <td>322</td>\n",
       "      <td>...</td>\n",
       "      <td>13</td>\n",
       "      <td>15</td>\n",
       "      <td>21</td>\n",
       "      <td>85</td>\n",
       "      <td>320</td>\n",
       "      <td>62</td>\n",
       "      <td>15</td>\n",
       "      <td>120</td>\n",
       "      <td>6</td>\n",
       "      <td>2</td>\n",
       "    </tr>\n",
       "  </tbody>\n",
       "</table>\n",
       "<p>2 rows × 101 columns</p>\n",
       "</div>"
      ],
      "text/plain": [
       "   ENSG00000186891.13  ENSG00000173372.16  ENSG00000122420.9  \\\n",
       "0                 138                 246                 44   \n",
       "1                 218                 165                  6   \n",
       "\n",
       "   ENSG00000168765.16  ENSG00000125551.18  ENSG00000144290.16  \\\n",
       "0                 404                 150                 447   \n",
       "1                 309                 118                 157   \n",
       "\n",
       "   ENSG00000115457.9  ENSG00000229754.1  ENSG00000124019.9  \\\n",
       "0                 39                808                133   \n",
       "1                 11                169                127   \n",
       "\n",
       "   ENSG00000206561.12  ...  ENSG00000211638.2  ENSG00000278196.3  \\\n",
       "0                 406  ...                183                248   \n",
       "1                 322  ...                 13                 15   \n",
       "\n",
       "   ENSG00000211673.2  ENSG00000218537.1  ENSG00000273295.1  \\\n",
       "0                280                 83                505   \n",
       "1                 21                 85                320   \n",
       "\n",
       "   ENSG00000100336.17  ENSG00000275975.1  ENSG00000182489.8  \\\n",
       "0                  61                 25                 83   \n",
       "1                  62                 15                120   \n",
       "\n",
       "   ENSG00000260585.1  HYS  \n",
       "0                  5    2  \n",
       "1                  6    2  \n",
       "\n",
       "[2 rows x 101 columns]"
      ]
     },
     "execution_count": 15,
     "metadata": {},
     "output_type": "execute_result"
    }
   ],
   "source": [
    "# create a list of column names to subset from data\n",
    "col_names = Top100.iloc[:, 0].tolist()\n",
    "\n",
    "# subset df based on the column names\n",
    "df_subset = data.loc[:, data.columns.isin(col_names)]\n",
    "df_subset['HYS'] = data['HYS']\n",
    "df_subset.to_csv ('HYS1vs2_Boruta_Top100_Data_Male.csv', index = False)\n",
    "df_subset.head(2)"
   ]
  },
  {
   "cell_type": "markdown",
   "id": "da0416bc",
   "metadata": {},
   "source": [
    "### Top 250"
   ]
  },
  {
   "cell_type": "code",
   "execution_count": 16,
   "id": "876e2345",
   "metadata": {
    "ExecuteTime": {
     "end_time": "2023-11-21T07:02:01.317906Z",
     "start_time": "2023-11-21T07:02:01.304942Z"
    }
   },
   "outputs": [
    {
     "data": {
      "text/html": [
       "<div>\n",
       "<style scoped>\n",
       "    .dataframe tbody tr th:only-of-type {\n",
       "        vertical-align: middle;\n",
       "    }\n",
       "\n",
       "    .dataframe tbody tr th {\n",
       "        vertical-align: top;\n",
       "    }\n",
       "\n",
       "    .dataframe thead th {\n",
       "        text-align: right;\n",
       "    }\n",
       "</style>\n",
       "<table border=\"1\" class=\"dataframe\">\n",
       "  <thead>\n",
       "    <tr style=\"text-align: right;\">\n",
       "      <th></th>\n",
       "      <th>CpG</th>\n",
       "      <th>Ranking</th>\n",
       "    </tr>\n",
       "  </thead>\n",
       "  <tbody>\n",
       "    <tr>\n",
       "      <th>6751</th>\n",
       "      <td>ENSG00000125551.18</td>\n",
       "      <td>2</td>\n",
       "    </tr>\n",
       "    <tr>\n",
       "      <th>25860</th>\n",
       "      <td>ENSG00000254859.1</td>\n",
       "      <td>3</td>\n",
       "    </tr>\n",
       "  </tbody>\n",
       "</table>\n",
       "</div>"
      ],
      "text/plain": [
       "                      CpG  Ranking\n",
       "6751   ENSG00000125551.18        2\n",
       "25860   ENSG00000254859.1        3"
      ]
     },
     "execution_count": 16,
     "metadata": {},
     "output_type": "execute_result"
    }
   ],
   "source": [
    "Top250 = selected_rf_features.iloc[:250, :]\n",
    "Top250.to_csv ('HYS1vs2_Boruta_Top250_Male.csv', index = False)\n",
    "Top250.head(2)"
   ]
  },
  {
   "cell_type": "code",
   "execution_count": 17,
   "id": "72fbf0a1",
   "metadata": {
    "ExecuteTime": {
     "end_time": "2023-11-21T07:02:04.245904Z",
     "start_time": "2023-11-21T07:02:04.183935Z"
    }
   },
   "outputs": [
    {
     "name": "stderr",
     "output_type": "stream",
     "text": [
      "C:\\Users\\system 4\\AppData\\Local\\Temp\\ipykernel_7424\\2749445622.py:6: SettingWithCopyWarning: \n",
      "A value is trying to be set on a copy of a slice from a DataFrame.\n",
      "Try using .loc[row_indexer,col_indexer] = value instead\n",
      "\n",
      "See the caveats in the documentation: https://pandas.pydata.org/pandas-docs/stable/user_guide/indexing.html#returning-a-view-versus-a-copy\n",
      "  df_subset['HYS'] = data['HYS']\n"
     ]
    },
    {
     "data": {
      "text/html": [
       "<div>\n",
       "<style scoped>\n",
       "    .dataframe tbody tr th:only-of-type {\n",
       "        vertical-align: middle;\n",
       "    }\n",
       "\n",
       "    .dataframe tbody tr th {\n",
       "        vertical-align: top;\n",
       "    }\n",
       "\n",
       "    .dataframe thead th {\n",
       "        text-align: right;\n",
       "    }\n",
       "</style>\n",
       "<table border=\"1\" class=\"dataframe\">\n",
       "  <thead>\n",
       "    <tr style=\"text-align: right;\">\n",
       "      <th></th>\n",
       "      <th>ENSG00000186891.13</th>\n",
       "      <th>ENSG00000049247.13</th>\n",
       "      <th>ENSG00000132879.13</th>\n",
       "      <th>ENSG00000285646.1</th>\n",
       "      <th>ENSG00000173372.16</th>\n",
       "      <th>ENSG00000213172.3</th>\n",
       "      <th>ENSG00000117399.13</th>\n",
       "      <th>ENSG00000122420.9</th>\n",
       "      <th>ENSG00000238015.2</th>\n",
       "      <th>ENSG00000137941.16</th>\n",
       "      <th>...</th>\n",
       "      <th>ENSG00000133477.16</th>\n",
       "      <th>ENSG00000216866.5</th>\n",
       "      <th>ENSG00000275975.1</th>\n",
       "      <th>ENSG00000186310.9</th>\n",
       "      <th>ENSG00000182489.8</th>\n",
       "      <th>ENSG00000260585.1</th>\n",
       "      <th>ENSG00000129682.15</th>\n",
       "      <th>ENSG00000155966.13</th>\n",
       "      <th>ENSG00000185010.14</th>\n",
       "      <th>HYS</th>\n",
       "    </tr>\n",
       "  </thead>\n",
       "  <tbody>\n",
       "    <tr>\n",
       "      <th>0</th>\n",
       "      <td>138</td>\n",
       "      <td>37</td>\n",
       "      <td>504</td>\n",
       "      <td>6</td>\n",
       "      <td>246</td>\n",
       "      <td>77</td>\n",
       "      <td>82</td>\n",
       "      <td>44</td>\n",
       "      <td>31</td>\n",
       "      <td>93</td>\n",
       "      <td>...</td>\n",
       "      <td>84</td>\n",
       "      <td>61</td>\n",
       "      <td>25</td>\n",
       "      <td>86</td>\n",
       "      <td>83</td>\n",
       "      <td>5</td>\n",
       "      <td>27</td>\n",
       "      <td>318</td>\n",
       "      <td>215</td>\n",
       "      <td>2</td>\n",
       "    </tr>\n",
       "    <tr>\n",
       "      <th>1</th>\n",
       "      <td>218</td>\n",
       "      <td>46</td>\n",
       "      <td>206</td>\n",
       "      <td>3</td>\n",
       "      <td>165</td>\n",
       "      <td>39</td>\n",
       "      <td>6</td>\n",
       "      <td>6</td>\n",
       "      <td>26</td>\n",
       "      <td>133</td>\n",
       "      <td>...</td>\n",
       "      <td>87</td>\n",
       "      <td>52</td>\n",
       "      <td>15</td>\n",
       "      <td>65</td>\n",
       "      <td>120</td>\n",
       "      <td>6</td>\n",
       "      <td>37</td>\n",
       "      <td>289</td>\n",
       "      <td>135</td>\n",
       "      <td>2</td>\n",
       "    </tr>\n",
       "  </tbody>\n",
       "</table>\n",
       "<p>2 rows × 251 columns</p>\n",
       "</div>"
      ],
      "text/plain": [
       "   ENSG00000186891.13  ENSG00000049247.13  ENSG00000132879.13  \\\n",
       "0                 138                  37                 504   \n",
       "1                 218                  46                 206   \n",
       "\n",
       "   ENSG00000285646.1  ENSG00000173372.16  ENSG00000213172.3  \\\n",
       "0                  6                 246                 77   \n",
       "1                  3                 165                 39   \n",
       "\n",
       "   ENSG00000117399.13  ENSG00000122420.9  ENSG00000238015.2  \\\n",
       "0                  82                 44                 31   \n",
       "1                   6                  6                 26   \n",
       "\n",
       "   ENSG00000137941.16  ...  ENSG00000133477.16  ENSG00000216866.5  \\\n",
       "0                  93  ...                  84                 61   \n",
       "1                 133  ...                  87                 52   \n",
       "\n",
       "   ENSG00000275975.1  ENSG00000186310.9  ENSG00000182489.8  ENSG00000260585.1  \\\n",
       "0                 25                 86                 83                  5   \n",
       "1                 15                 65                120                  6   \n",
       "\n",
       "   ENSG00000129682.15  ENSG00000155966.13  ENSG00000185010.14  HYS  \n",
       "0                  27                 318                 215    2  \n",
       "1                  37                 289                 135    2  \n",
       "\n",
       "[2 rows x 251 columns]"
      ]
     },
     "execution_count": 17,
     "metadata": {},
     "output_type": "execute_result"
    }
   ],
   "source": [
    "# create a list of column names to subset from data\n",
    "col_names = Top250.iloc[:, 0].tolist()\n",
    "\n",
    "# subset df based on the column names\n",
    "df_subset = data.loc[:, data.columns.isin(col_names)]\n",
    "df_subset['HYS'] = data['HYS']\n",
    "df_subset.to_csv ('HYS1vs2_Boruta_Top250_Data_Male.csv', index = False)\n",
    "df_subset.head(2)"
   ]
  },
  {
   "cell_type": "markdown",
   "id": "ec242d27",
   "metadata": {},
   "source": [
    "### Top 500"
   ]
  },
  {
   "cell_type": "code",
   "execution_count": 18,
   "id": "380a31d7",
   "metadata": {
    "ExecuteTime": {
     "end_time": "2023-11-21T07:02:07.075011Z",
     "start_time": "2023-11-21T07:02:07.061365Z"
    }
   },
   "outputs": [
    {
     "data": {
      "text/html": [
       "<div>\n",
       "<style scoped>\n",
       "    .dataframe tbody tr th:only-of-type {\n",
       "        vertical-align: middle;\n",
       "    }\n",
       "\n",
       "    .dataframe tbody tr th {\n",
       "        vertical-align: top;\n",
       "    }\n",
       "\n",
       "    .dataframe thead th {\n",
       "        text-align: right;\n",
       "    }\n",
       "</style>\n",
       "<table border=\"1\" class=\"dataframe\">\n",
       "  <thead>\n",
       "    <tr style=\"text-align: right;\">\n",
       "      <th></th>\n",
       "      <th>CpG</th>\n",
       "      <th>Ranking</th>\n",
       "    </tr>\n",
       "  </thead>\n",
       "  <tbody>\n",
       "    <tr>\n",
       "      <th>6751</th>\n",
       "      <td>ENSG00000125551.18</td>\n",
       "      <td>2</td>\n",
       "    </tr>\n",
       "    <tr>\n",
       "      <th>25860</th>\n",
       "      <td>ENSG00000254859.1</td>\n",
       "      <td>3</td>\n",
       "    </tr>\n",
       "  </tbody>\n",
       "</table>\n",
       "</div>"
      ],
      "text/plain": [
       "                      CpG  Ranking\n",
       "6751   ENSG00000125551.18        2\n",
       "25860   ENSG00000254859.1        3"
      ]
     },
     "execution_count": 18,
     "metadata": {},
     "output_type": "execute_result"
    }
   ],
   "source": [
    "Top500 = selected_rf_features.iloc[:500, :]\n",
    "Top500.to_csv ('HYS1vs2_Boruta_Top500_Male.csv', index = False)\n",
    "Top500.head(2)"
   ]
  },
  {
   "cell_type": "code",
   "execution_count": 19,
   "id": "5956b562",
   "metadata": {
    "ExecuteTime": {
     "end_time": "2023-11-21T07:02:10.010981Z",
     "start_time": "2023-11-21T07:02:09.902599Z"
    }
   },
   "outputs": [
    {
     "name": "stderr",
     "output_type": "stream",
     "text": [
      "C:\\Users\\system 4\\AppData\\Local\\Temp\\ipykernel_7424\\987567329.py:6: SettingWithCopyWarning: \n",
      "A value is trying to be set on a copy of a slice from a DataFrame.\n",
      "Try using .loc[row_indexer,col_indexer] = value instead\n",
      "\n",
      "See the caveats in the documentation: https://pandas.pydata.org/pandas-docs/stable/user_guide/indexing.html#returning-a-view-versus-a-copy\n",
      "  df_subset['HYS'] = data['HYS']\n"
     ]
    },
    {
     "data": {
      "text/html": [
       "<div>\n",
       "<style scoped>\n",
       "    .dataframe tbody tr th:only-of-type {\n",
       "        vertical-align: middle;\n",
       "    }\n",
       "\n",
       "    .dataframe tbody tr th {\n",
       "        vertical-align: top;\n",
       "    }\n",
       "\n",
       "    .dataframe thead th {\n",
       "        text-align: right;\n",
       "    }\n",
       "</style>\n",
       "<table border=\"1\" class=\"dataframe\">\n",
       "  <thead>\n",
       "    <tr style=\"text-align: right;\">\n",
       "      <th></th>\n",
       "      <th>ENSG00000278267.1</th>\n",
       "      <th>ENSG00000186891.13</th>\n",
       "      <th>ENSG00000235169.8</th>\n",
       "      <th>ENSG00000049247.13</th>\n",
       "      <th>ENSG00000132879.13</th>\n",
       "      <th>ENSG00000175206.10</th>\n",
       "      <th>ENSG00000285646.1</th>\n",
       "      <th>ENSG00000187942.11</th>\n",
       "      <th>ENSG00000173372.16</th>\n",
       "      <th>ENSG00000284602.1</th>\n",
       "      <th>...</th>\n",
       "      <th>ENSG00000186310.9</th>\n",
       "      <th>ENSG00000182489.8</th>\n",
       "      <th>ENSG00000250995.1</th>\n",
       "      <th>ENSG00000260585.1</th>\n",
       "      <th>ENSG00000221930.6</th>\n",
       "      <th>ENSG00000129682.15</th>\n",
       "      <th>ENSG00000155966.13</th>\n",
       "      <th>ENSG00000198883.11</th>\n",
       "      <th>ENSG00000185010.14</th>\n",
       "      <th>HYS</th>\n",
       "    </tr>\n",
       "  </thead>\n",
       "  <tbody>\n",
       "    <tr>\n",
       "      <th>0</th>\n",
       "      <td>15</td>\n",
       "      <td>138</td>\n",
       "      <td>206</td>\n",
       "      <td>37</td>\n",
       "      <td>504</td>\n",
       "      <td>0</td>\n",
       "      <td>6</td>\n",
       "      <td>3</td>\n",
       "      <td>246</td>\n",
       "      <td>396</td>\n",
       "      <td>...</td>\n",
       "      <td>86</td>\n",
       "      <td>83</td>\n",
       "      <td>156</td>\n",
       "      <td>5</td>\n",
       "      <td>19</td>\n",
       "      <td>27</td>\n",
       "      <td>318</td>\n",
       "      <td>22</td>\n",
       "      <td>215</td>\n",
       "      <td>2</td>\n",
       "    </tr>\n",
       "    <tr>\n",
       "      <th>1</th>\n",
       "      <td>8</td>\n",
       "      <td>218</td>\n",
       "      <td>66</td>\n",
       "      <td>46</td>\n",
       "      <td>206</td>\n",
       "      <td>3</td>\n",
       "      <td>3</td>\n",
       "      <td>19</td>\n",
       "      <td>165</td>\n",
       "      <td>263</td>\n",
       "      <td>...</td>\n",
       "      <td>65</td>\n",
       "      <td>120</td>\n",
       "      <td>138</td>\n",
       "      <td>6</td>\n",
       "      <td>48</td>\n",
       "      <td>37</td>\n",
       "      <td>289</td>\n",
       "      <td>10</td>\n",
       "      <td>135</td>\n",
       "      <td>2</td>\n",
       "    </tr>\n",
       "  </tbody>\n",
       "</table>\n",
       "<p>2 rows × 501 columns</p>\n",
       "</div>"
      ],
      "text/plain": [
       "   ENSG00000278267.1  ENSG00000186891.13  ENSG00000235169.8  \\\n",
       "0                 15                 138                206   \n",
       "1                  8                 218                 66   \n",
       "\n",
       "   ENSG00000049247.13  ENSG00000132879.13  ENSG00000175206.10  \\\n",
       "0                  37                 504                   0   \n",
       "1                  46                 206                   3   \n",
       "\n",
       "   ENSG00000285646.1  ENSG00000187942.11  ENSG00000173372.16  \\\n",
       "0                  6                   3                 246   \n",
       "1                  3                  19                 165   \n",
       "\n",
       "   ENSG00000284602.1  ...  ENSG00000186310.9  ENSG00000182489.8  \\\n",
       "0                396  ...                 86                 83   \n",
       "1                263  ...                 65                120   \n",
       "\n",
       "   ENSG00000250995.1  ENSG00000260585.1  ENSG00000221930.6  \\\n",
       "0                156                  5                 19   \n",
       "1                138                  6                 48   \n",
       "\n",
       "   ENSG00000129682.15  ENSG00000155966.13  ENSG00000198883.11  \\\n",
       "0                  27                 318                  22   \n",
       "1                  37                 289                  10   \n",
       "\n",
       "   ENSG00000185010.14  HYS  \n",
       "0                 215    2  \n",
       "1                 135    2  \n",
       "\n",
       "[2 rows x 501 columns]"
      ]
     },
     "execution_count": 19,
     "metadata": {},
     "output_type": "execute_result"
    }
   ],
   "source": [
    "# create a list of column names to subset from data\n",
    "col_names = Top500.iloc[:, 0].tolist()\n",
    "\n",
    "# subset df based on the column names\n",
    "df_subset = data.loc[:, data.columns.isin(col_names)]\n",
    "df_subset['HYS'] = data['HYS']\n",
    "df_subset.to_csv ('HYS1vs2_Boruta_Top500_Data_Male.csv', index = False)\n",
    "df_subset.head(2)"
   ]
  },
  {
   "cell_type": "markdown",
   "id": "59810b00",
   "metadata": {},
   "source": []
  }
 ],
 "metadata": {
  "kernelspec": {
   "display_name": "Python 3 (ipykernel)",
   "language": "python",
   "name": "python3"
  },
  "language_info": {
   "codemirror_mode": {
    "name": "ipython",
    "version": 3
   },
   "file_extension": ".py",
   "mimetype": "text/x-python",
   "name": "python",
   "nbconvert_exporter": "python",
   "pygments_lexer": "ipython3",
   "version": "3.9.16"
  },
  "toc": {
   "base_numbering": 1,
   "nav_menu": {},
   "number_sections": true,
   "sideBar": true,
   "skip_h1_title": false,
   "title_cell": "Table of Contents",
   "title_sidebar": "Contents",
   "toc_cell": false,
   "toc_position": {},
   "toc_section_display": true,
   "toc_window_display": false
  },
  "varInspector": {
   "cols": {
    "lenName": 16,
    "lenType": 16,
    "lenVar": 40
   },
   "kernels_config": {
    "python": {
     "delete_cmd_postfix": "",
     "delete_cmd_prefix": "del ",
     "library": "var_list.py",
     "varRefreshCmd": "print(var_dic_list())"
    },
    "r": {
     "delete_cmd_postfix": ") ",
     "delete_cmd_prefix": "rm(",
     "library": "var_list.r",
     "varRefreshCmd": "cat(var_dic_list()) "
    }
   },
   "types_to_exclude": [
    "module",
    "function",
    "builtin_function_or_method",
    "instance",
    "_Feature"
   ],
   "window_display": false
  }
 },
 "nbformat": 4,
 "nbformat_minor": 5
}
