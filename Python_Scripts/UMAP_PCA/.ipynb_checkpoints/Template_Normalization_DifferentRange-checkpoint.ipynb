{
 "cells": [
  {
   "cell_type": "markdown",
   "id": "ad7ca977",
   "metadata": {},
   "source": [
    "## Normalization if actual possible range is different than the values present in a dataframe"
   ]
  },
  {
   "cell_type": "markdown",
   "id": "8f650698",
   "metadata": {},
   "source": [
    "### For a specific column"
   ]
  },
  {
   "cell_type": "code",
   "execution_count": null,
   "id": "6a3a1e2c",
   "metadata": {},
   "outputs": [],
   "source": [
    "global_min = min(df1['column'].min(), df2['column'].min())\n",
    "global_max = max(df1['column'].max(), df2['column'].max())\n",
    "\n",
    "df1['column'] = (df1['column'] - global_min) / (global_max - global_min)\n",
    "df2['column'] = (df2['column'] - global_min) / (global_max - global_min)\n"
   ]
  },
  {
   "cell_type": "markdown",
   "id": "b34d6e9b",
   "metadata": {},
   "source": [
    "### For all columns"
   ]
  },
  {
   "cell_type": "code",
   "execution_count": null,
   "id": "0bf1957c",
   "metadata": {},
   "outputs": [],
   "source": [
    "# Combine all DataFrames into a list\n",
    "dataframes = [df1, df2, df3]\n",
    "\n",
    "# Create a list to store the names of numeric columns\n",
    "numeric_columns = []\n",
    "\n",
    "# Iterate through the first DataFrame to identify numeric columns\n",
    "for column in df1.columns:\n",
    "    if df1[column].dtype in ['int64', 'float64']:\n",
    "        numeric_columns.append(column)\n",
    "\n",
    "# Find the global minimum and maximum values across all datasets for each numeric column\n",
    "global_min = min(df[column].min() for df in dataframes for column in numeric_columns)\n",
    "global_max = max(df[column].max() for df in dataframes for column in numeric_columns)\n",
    "\n",
    "# Normalize all datasets based on the global range\n",
    "for df in dataframes:\n",
    "    for column in numeric_columns:\n",
    "        df[column] = (df[column] - global_min) / (global_max - global_min)\n"
   ]
  }
 ],
 "metadata": {
  "kernelspec": {
   "display_name": "Python 3 (ipykernel)",
   "language": "python",
   "name": "python3"
  },
  "language_info": {
   "codemirror_mode": {
    "name": "ipython",
    "version": 3
   },
   "file_extension": ".py",
   "mimetype": "text/x-python",
   "name": "python",
   "nbconvert_exporter": "python",
   "pygments_lexer": "ipython3",
   "version": "3.9.16"
  },
  "toc": {
   "base_numbering": 1,
   "nav_menu": {},
   "number_sections": true,
   "sideBar": true,
   "skip_h1_title": false,
   "title_cell": "Table of Contents",
   "title_sidebar": "Contents",
   "toc_cell": false,
   "toc_position": {},
   "toc_section_display": true,
   "toc_window_display": false
  },
  "varInspector": {
   "cols": {
    "lenName": 16,
    "lenType": 16,
    "lenVar": 40
   },
   "kernels_config": {
    "python": {
     "delete_cmd_postfix": "",
     "delete_cmd_prefix": "del ",
     "library": "var_list.py",
     "varRefreshCmd": "print(var_dic_list())"
    },
    "r": {
     "delete_cmd_postfix": ") ",
     "delete_cmd_prefix": "rm(",
     "library": "var_list.r",
     "varRefreshCmd": "cat(var_dic_list()) "
    }
   },
   "types_to_exclude": [
    "module",
    "function",
    "builtin_function_or_method",
    "instance",
    "_Feature"
   ],
   "window_display": false
  }
 },
 "nbformat": 4,
 "nbformat_minor": 5
}
