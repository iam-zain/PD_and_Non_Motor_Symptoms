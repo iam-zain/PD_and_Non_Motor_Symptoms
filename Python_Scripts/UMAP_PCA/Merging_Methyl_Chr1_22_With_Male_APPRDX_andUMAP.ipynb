{
 "cells": [
  {
   "cell_type": "code",
   "execution_count": 1,
   "id": "227733c0",
   "metadata": {
    "ExecuteTime": {
     "end_time": "2022-10-22T08:54:37.710193Z",
     "start_time": "2022-10-22T08:53:51.863697Z"
    },
    "run_control": {
     "marked": false
    },
    "scrolled": true
   },
   "outputs": [],
   "source": [
    "import umap\n",
    "import hdbscan\n",
    "import numpy as np\n",
    "import pandas as pd\n",
    "import pandas as pd\n",
    "import seaborn as sns\n",
    "import matplotlib.pyplot as plt\n",
    "import sklearn.cluster as cluster\n",
    "from sklearn.decomposition import PCA\n",
    "from sklearn.datasets import fetch_openml\n",
    "# Dimension reduction and clustering libraries\n",
    "from sklearn.metrics import adjusted_rand_score, adjusted_mutual_info_score\n",
    "sns.set(context= 'notebook', style= 'white', rc={'figure.figsize':(14,10)})\n",
    "%matplotlib inline"
   ]
  },
  {
   "cell_type": "code",
   "execution_count": 2,
   "id": "0ebb8ca7",
   "metadata": {
    "ExecuteTime": {
     "end_time": "2022-10-22T08:57:08.056329Z",
     "start_time": "2022-10-22T08:54:37.710193Z"
    },
    "scrolled": true
   },
   "outputs": [
    {
     "name": "stdout",
     "output_type": "stream",
     "text": [
      "Z:\\PPMI_Data\\Excel_Data\n"
     ]
    },
    {
     "data": {
      "text/html": [
       "<div>\n",
       "<style scoped>\n",
       "    .dataframe tbody tr th:only-of-type {\n",
       "        vertical-align: middle;\n",
       "    }\n",
       "\n",
       "    .dataframe tbody tr th {\n",
       "        vertical-align: top;\n",
       "    }\n",
       "\n",
       "    .dataframe thead th {\n",
       "        text-align: right;\n",
       "    }\n",
       "</style>\n",
       "<table border=\"1\" class=\"dataframe\">\n",
       "  <thead>\n",
       "    <tr style=\"text-align: right;\">\n",
       "      <th></th>\n",
       "      <th>200973410159_R03C01</th>\n",
       "      <th>200991620021_R01C01</th>\n",
       "      <th>200991620021_R03C01</th>\n",
       "      <th>200989060105_R03C01</th>\n",
       "      <th>200989060135_R07C01</th>\n",
       "      <th>200989060162_R04C01</th>\n",
       "      <th>200973410167_R04C01</th>\n",
       "      <th>200973410143_R01C01</th>\n",
       "      <th>200973410143_R06C01</th>\n",
       "      <th>200973410167_R05C01</th>\n",
       "      <th>...</th>\n",
       "      <th>200989060089_R02C01</th>\n",
       "      <th>200989060089_R01C01</th>\n",
       "      <th>200989060089_R04C01</th>\n",
       "      <th>200973410143_R08C01</th>\n",
       "      <th>200973410143_R07C01</th>\n",
       "      <th>200989060089_R03C01</th>\n",
       "      <th>200989060150_R04C01</th>\n",
       "      <th>200989060150_R05C01</th>\n",
       "      <th>200989060150_R06C01</th>\n",
       "      <th>200991620049_R08C01</th>\n",
       "    </tr>\n",
       "  </thead>\n",
       "  <tbody>\n",
       "    <tr>\n",
       "      <th>cg14817997</th>\n",
       "      <td>0.8340</td>\n",
       "      <td>0.8492</td>\n",
       "      <td>0.7730</td>\n",
       "      <td>0.8853</td>\n",
       "      <td>0.7725</td>\n",
       "      <td>0.7564</td>\n",
       "      <td>0.7198</td>\n",
       "      <td>0.7759</td>\n",
       "      <td>0.7689</td>\n",
       "      <td>0.7594</td>\n",
       "      <td>...</td>\n",
       "      <td>0.7882</td>\n",
       "      <td>0.8389</td>\n",
       "      <td>0.8453</td>\n",
       "      <td>0.7704</td>\n",
       "      <td>0.8529</td>\n",
       "      <td>0.7838</td>\n",
       "      <td>0.8069</td>\n",
       "      <td>0.8757</td>\n",
       "      <td>0.6613</td>\n",
       "      <td>0.7379</td>\n",
       "    </tr>\n",
       "    <tr>\n",
       "      <th>cg26928153</th>\n",
       "      <td>0.9456</td>\n",
       "      <td>0.9485</td>\n",
       "      <td>0.9622</td>\n",
       "      <td>0.9440</td>\n",
       "      <td>0.9263</td>\n",
       "      <td>0.9561</td>\n",
       "      <td>0.9130</td>\n",
       "      <td>0.9560</td>\n",
       "      <td>0.9571</td>\n",
       "      <td>0.8976</td>\n",
       "      <td>...</td>\n",
       "      <td>0.9512</td>\n",
       "      <td>0.9590</td>\n",
       "      <td>0.9571</td>\n",
       "      <td>0.9547</td>\n",
       "      <td>0.9478</td>\n",
       "      <td>0.9581</td>\n",
       "      <td>0.9480</td>\n",
       "      <td>0.9424</td>\n",
       "      <td>0.9550</td>\n",
       "      <td>0.9463</td>\n",
       "    </tr>\n",
       "  </tbody>\n",
       "</table>\n",
       "<p>2 rows × 524 columns</p>\n",
       "</div>"
      ],
      "text/plain": [
       "            200973410159_R03C01  200991620021_R01C01  200991620021_R03C01  \\\n",
       "cg14817997               0.8340               0.8492               0.7730   \n",
       "cg26928153               0.9456               0.9485               0.9622   \n",
       "\n",
       "            200989060105_R03C01  200989060135_R07C01  200989060162_R04C01  \\\n",
       "cg14817997               0.8853               0.7725               0.7564   \n",
       "cg26928153               0.9440               0.9263               0.9561   \n",
       "\n",
       "            200973410167_R04C01  200973410143_R01C01  200973410143_R06C01  \\\n",
       "cg14817997               0.7198               0.7759               0.7689   \n",
       "cg26928153               0.9130               0.9560               0.9571   \n",
       "\n",
       "            200973410167_R05C01  ...  200989060089_R02C01  \\\n",
       "cg14817997               0.7594  ...               0.7882   \n",
       "cg26928153               0.8976  ...               0.9512   \n",
       "\n",
       "            200989060089_R01C01  200989060089_R04C01  200973410143_R08C01  \\\n",
       "cg14817997               0.8389               0.8453               0.7704   \n",
       "cg26928153               0.9590               0.9571               0.9547   \n",
       "\n",
       "            200973410143_R07C01  200989060089_R03C01  200989060150_R04C01  \\\n",
       "cg14817997               0.8529               0.7838               0.8069   \n",
       "cg26928153               0.9478               0.9581               0.9480   \n",
       "\n",
       "            200989060150_R05C01  200989060150_R06C01  200991620049_R08C01  \n",
       "cg14817997               0.8757               0.6613               0.7379  \n",
       "cg26928153               0.9424               0.9550               0.9463  \n",
       "\n",
       "[2 rows x 524 columns]"
      ]
     },
     "execution_count": 2,
     "metadata": {},
     "output_type": "execute_result"
    }
   ],
   "source": [
    "%cd Z:\\PPMI_Data\\Excel_Data\n",
    "df = pd.read_csv (\"beta_post_Funnorm_PPMI_EPICn524final030618.csv\")\n",
    "df = df.round(decimals = 4)\n",
    "df.head(2)\n"
   ]
  },
  {
   "cell_type": "code",
   "execution_count": 3,
   "id": "6caf3efc",
   "metadata": {
    "ExecuteTime": {
     "end_time": "2022-10-22T08:57:08.096589Z",
     "start_time": "2022-10-22T08:57:08.058350Z"
    },
    "scrolled": true
   },
   "outputs": [
    {
     "data": {
      "text/html": [
       "<div>\n",
       "<style scoped>\n",
       "    .dataframe tbody tr th:only-of-type {\n",
       "        vertical-align: middle;\n",
       "    }\n",
       "\n",
       "    .dataframe tbody tr th {\n",
       "        vertical-align: top;\n",
       "    }\n",
       "\n",
       "    .dataframe thead th {\n",
       "        text-align: right;\n",
       "    }\n",
       "</style>\n",
       "<table border=\"1\" class=\"dataframe\">\n",
       "  <thead>\n",
       "    <tr style=\"text-align: right;\">\n",
       "      <th></th>\n",
       "      <th>CpG</th>\n",
       "      <th>200973410159_R03C01</th>\n",
       "      <th>200991620021_R01C01</th>\n",
       "      <th>200991620021_R03C01</th>\n",
       "      <th>200989060105_R03C01</th>\n",
       "      <th>200989060135_R07C01</th>\n",
       "      <th>200989060162_R04C01</th>\n",
       "      <th>200973410167_R04C01</th>\n",
       "      <th>200973410143_R01C01</th>\n",
       "      <th>200973410143_R06C01</th>\n",
       "      <th>...</th>\n",
       "      <th>200989060089_R02C01</th>\n",
       "      <th>200989060089_R01C01</th>\n",
       "      <th>200989060089_R04C01</th>\n",
       "      <th>200973410143_R08C01</th>\n",
       "      <th>200973410143_R07C01</th>\n",
       "      <th>200989060089_R03C01</th>\n",
       "      <th>200989060150_R04C01</th>\n",
       "      <th>200989060150_R05C01</th>\n",
       "      <th>200989060150_R06C01</th>\n",
       "      <th>200991620049_R08C01</th>\n",
       "    </tr>\n",
       "  </thead>\n",
       "  <tbody>\n",
       "    <tr>\n",
       "      <th>0</th>\n",
       "      <td>cg14817997</td>\n",
       "      <td>0.8340</td>\n",
       "      <td>0.8492</td>\n",
       "      <td>0.7730</td>\n",
       "      <td>0.8853</td>\n",
       "      <td>0.7725</td>\n",
       "      <td>0.7564</td>\n",
       "      <td>0.7198</td>\n",
       "      <td>0.7759</td>\n",
       "      <td>0.7689</td>\n",
       "      <td>...</td>\n",
       "      <td>0.7882</td>\n",
       "      <td>0.8389</td>\n",
       "      <td>0.8453</td>\n",
       "      <td>0.7704</td>\n",
       "      <td>0.8529</td>\n",
       "      <td>0.7838</td>\n",
       "      <td>0.8069</td>\n",
       "      <td>0.8757</td>\n",
       "      <td>0.6613</td>\n",
       "      <td>0.7379</td>\n",
       "    </tr>\n",
       "    <tr>\n",
       "      <th>1</th>\n",
       "      <td>cg26928153</td>\n",
       "      <td>0.9456</td>\n",
       "      <td>0.9485</td>\n",
       "      <td>0.9622</td>\n",
       "      <td>0.9440</td>\n",
       "      <td>0.9263</td>\n",
       "      <td>0.9561</td>\n",
       "      <td>0.9130</td>\n",
       "      <td>0.9560</td>\n",
       "      <td>0.9571</td>\n",
       "      <td>...</td>\n",
       "      <td>0.9512</td>\n",
       "      <td>0.9590</td>\n",
       "      <td>0.9571</td>\n",
       "      <td>0.9547</td>\n",
       "      <td>0.9478</td>\n",
       "      <td>0.9581</td>\n",
       "      <td>0.9480</td>\n",
       "      <td>0.9424</td>\n",
       "      <td>0.9550</td>\n",
       "      <td>0.9463</td>\n",
       "    </tr>\n",
       "  </tbody>\n",
       "</table>\n",
       "<p>2 rows × 525 columns</p>\n",
       "</div>"
      ],
      "text/plain": [
       "          CpG  200973410159_R03C01  200991620021_R01C01  200991620021_R03C01  \\\n",
       "0  cg14817997               0.8340               0.8492               0.7730   \n",
       "1  cg26928153               0.9456               0.9485               0.9622   \n",
       "\n",
       "   200989060105_R03C01  200989060135_R07C01  200989060162_R04C01  \\\n",
       "0               0.8853               0.7725               0.7564   \n",
       "1               0.9440               0.9263               0.9561   \n",
       "\n",
       "   200973410167_R04C01  200973410143_R01C01  200973410143_R06C01  ...  \\\n",
       "0               0.7198               0.7759               0.7689  ...   \n",
       "1               0.9130               0.9560               0.9571  ...   \n",
       "\n",
       "   200989060089_R02C01  200989060089_R01C01  200989060089_R04C01  \\\n",
       "0               0.7882               0.8389               0.8453   \n",
       "1               0.9512               0.9590               0.9571   \n",
       "\n",
       "   200973410143_R08C01  200973410143_R07C01  200989060089_R03C01  \\\n",
       "0               0.7704               0.8529               0.7838   \n",
       "1               0.9547               0.9478               0.9581   \n",
       "\n",
       "   200989060150_R04C01  200989060150_R05C01  200989060150_R06C01  \\\n",
       "0               0.8069               0.8757               0.6613   \n",
       "1               0.9480               0.9424               0.9550   \n",
       "\n",
       "   200991620049_R08C01  \n",
       "0               0.7379  \n",
       "1               0.9463  \n",
       "\n",
       "[2 rows x 525 columns]"
      ]
     },
     "execution_count": 3,
     "metadata": {},
     "output_type": "execute_result"
    }
   ],
   "source": [
    "df.index.name ='CpG'\n",
    "df.reset_index(inplace=True)\n",
    "df.head(2)"
   ]
  },
  {
   "cell_type": "code",
   "execution_count": 4,
   "id": "6618e93b",
   "metadata": {
    "ExecuteTime": {
     "end_time": "2022-10-22T08:57:08.197753Z",
     "start_time": "2022-10-22T08:57:08.096589Z"
    }
   },
   "outputs": [
    {
     "data": {
      "text/plain": [
       "(864067, 525)"
      ]
     },
     "execution_count": 4,
     "metadata": {},
     "output_type": "execute_result"
    }
   ],
   "source": [
    "df.shape"
   ]
  },
  {
   "cell_type": "code",
   "execution_count": 5,
   "id": "c3aff535",
   "metadata": {
    "ExecuteTime": {
     "end_time": "2022-10-22T08:57:08.784768Z",
     "start_time": "2022-10-22T08:57:08.199771Z"
    }
   },
   "outputs": [],
   "source": [
    "df1 = pd.read_csv (\"CpG_List_HavingCorres_GeneChr.csv\")\n"
   ]
  },
  {
   "cell_type": "code",
   "execution_count": 6,
   "id": "220bf247",
   "metadata": {
    "ExecuteTime": {
     "end_time": "2022-10-22T08:57:17.434790Z",
     "start_time": "2022-10-22T08:57:08.784768Z"
    }
   },
   "outputs": [
    {
     "data": {
      "text/html": [
       "<div>\n",
       "<style scoped>\n",
       "    .dataframe tbody tr th:only-of-type {\n",
       "        vertical-align: middle;\n",
       "    }\n",
       "\n",
       "    .dataframe tbody tr th {\n",
       "        vertical-align: top;\n",
       "    }\n",
       "\n",
       "    .dataframe thead th {\n",
       "        text-align: right;\n",
       "    }\n",
       "</style>\n",
       "<table border=\"1\" class=\"dataframe\">\n",
       "  <thead>\n",
       "    <tr style=\"text-align: right;\">\n",
       "      <th></th>\n",
       "      <th>CpG</th>\n",
       "      <th>200973410159_R03C01</th>\n",
       "      <th>200991620021_R01C01</th>\n",
       "      <th>200991620021_R03C01</th>\n",
       "      <th>200989060105_R03C01</th>\n",
       "      <th>200989060135_R07C01</th>\n",
       "      <th>200989060162_R04C01</th>\n",
       "      <th>200973410167_R04C01</th>\n",
       "      <th>200973410143_R01C01</th>\n",
       "      <th>200973410143_R06C01</th>\n",
       "      <th>...</th>\n",
       "      <th>200989060089_R02C01</th>\n",
       "      <th>200989060089_R01C01</th>\n",
       "      <th>200989060089_R04C01</th>\n",
       "      <th>200973410143_R08C01</th>\n",
       "      <th>200973410143_R07C01</th>\n",
       "      <th>200989060089_R03C01</th>\n",
       "      <th>200989060150_R04C01</th>\n",
       "      <th>200989060150_R05C01</th>\n",
       "      <th>200989060150_R06C01</th>\n",
       "      <th>200991620049_R08C01</th>\n",
       "    </tr>\n",
       "  </thead>\n",
       "  <tbody>\n",
       "    <tr>\n",
       "      <th>0</th>\n",
       "      <td>cg18478105</td>\n",
       "      <td>0.0126</td>\n",
       "      <td>0.0143</td>\n",
       "      <td>0.0155</td>\n",
       "      <td>0.0107</td>\n",
       "      <td>0.0100</td>\n",
       "      <td>0.0093</td>\n",
       "      <td>0.0134</td>\n",
       "      <td>0.0109</td>\n",
       "      <td>0.0085</td>\n",
       "      <td>...</td>\n",
       "      <td>0.0104</td>\n",
       "      <td>0.0160</td>\n",
       "      <td>0.0090</td>\n",
       "      <td>0.0106</td>\n",
       "      <td>0.0111</td>\n",
       "      <td>0.0105</td>\n",
       "      <td>0.0111</td>\n",
       "      <td>0.0116</td>\n",
       "      <td>0.0124</td>\n",
       "      <td>0.0136</td>\n",
       "    </tr>\n",
       "    <tr>\n",
       "      <th>1</th>\n",
       "      <td>cg09835024</td>\n",
       "      <td>0.0222</td>\n",
       "      <td>0.0295</td>\n",
       "      <td>0.0274</td>\n",
       "      <td>0.0213</td>\n",
       "      <td>0.0228</td>\n",
       "      <td>0.0442</td>\n",
       "      <td>0.0383</td>\n",
       "      <td>0.0161</td>\n",
       "      <td>0.0153</td>\n",
       "      <td>...</td>\n",
       "      <td>0.0197</td>\n",
       "      <td>0.0256</td>\n",
       "      <td>0.0227</td>\n",
       "      <td>0.0228</td>\n",
       "      <td>0.0212</td>\n",
       "      <td>0.0218</td>\n",
       "      <td>0.0247</td>\n",
       "      <td>0.0175</td>\n",
       "      <td>0.0198</td>\n",
       "      <td>0.0239</td>\n",
       "    </tr>\n",
       "  </tbody>\n",
       "</table>\n",
       "<p>2 rows × 525 columns</p>\n",
       "</div>"
      ],
      "text/plain": [
       "          CpG  200973410159_R03C01  200991620021_R01C01  200991620021_R03C01  \\\n",
       "0  cg18478105               0.0126               0.0143               0.0155   \n",
       "1  cg09835024               0.0222               0.0295               0.0274   \n",
       "\n",
       "   200989060105_R03C01  200989060135_R07C01  200989060162_R04C01  \\\n",
       "0               0.0107               0.0100               0.0093   \n",
       "1               0.0213               0.0228               0.0442   \n",
       "\n",
       "   200973410167_R04C01  200973410143_R01C01  200973410143_R06C01  ...  \\\n",
       "0               0.0134               0.0109               0.0085  ...   \n",
       "1               0.0383               0.0161               0.0153  ...   \n",
       "\n",
       "   200989060089_R02C01  200989060089_R01C01  200989060089_R04C01  \\\n",
       "0               0.0104               0.0160               0.0090   \n",
       "1               0.0197               0.0256               0.0227   \n",
       "\n",
       "   200973410143_R08C01  200973410143_R07C01  200989060089_R03C01  \\\n",
       "0               0.0106               0.0111               0.0105   \n",
       "1               0.0228               0.0212               0.0218   \n",
       "\n",
       "   200989060150_R04C01  200989060150_R05C01  200989060150_R06C01  \\\n",
       "0               0.0111               0.0116               0.0124   \n",
       "1               0.0247               0.0175               0.0198   \n",
       "\n",
       "   200991620049_R08C01  \n",
       "0               0.0136  \n",
       "1               0.0239  \n",
       "\n",
       "[2 rows x 525 columns]"
      ]
     },
     "execution_count": 6,
     "metadata": {},
     "output_type": "execute_result"
    }
   ],
   "source": [
    "df = pd.merge (df1, df, on= \"CpG\", how= \"inner\")\n",
    "df.head(2)"
   ]
  },
  {
   "cell_type": "code",
   "execution_count": 7,
   "id": "fb156b7f",
   "metadata": {
    "ExecuteTime": {
     "end_time": "2022-10-22T08:57:17.455054Z",
     "start_time": "2022-10-22T08:57:17.436810Z"
    }
   },
   "outputs": [
    {
     "data": {
      "text/plain": [
       "(837962, 525)"
      ]
     },
     "execution_count": 7,
     "metadata": {},
     "output_type": "execute_result"
    }
   ],
   "source": [
    "df.shape"
   ]
  },
  {
   "cell_type": "code",
   "execution_count": 8,
   "id": "5321349a",
   "metadata": {
    "ExecuteTime": {
     "end_time": "2022-10-22T08:57:17.636883Z",
     "start_time": "2022-10-22T08:57:17.457078Z"
    }
   },
   "outputs": [],
   "source": [
    "df1 = pd.read_csv (\"CpGList_inChroXY.csv\")\n"
   ]
  },
  {
   "cell_type": "code",
   "execution_count": 9,
   "id": "3000c01d",
   "metadata": {
    "ExecuteTime": {
     "end_time": "2022-10-22T08:57:19.174477Z",
     "start_time": "2022-10-22T08:57:17.638932Z"
    }
   },
   "outputs": [
    {
     "data": {
      "text/plain": [
       "(824439, 525)"
      ]
     },
     "execution_count": 9,
     "metadata": {},
     "output_type": "execute_result"
    }
   ],
   "source": [
    "df = df.loc[df.index.difference(df1.index), ]\n",
    "df.shape"
   ]
  },
  {
   "cell_type": "code",
   "execution_count": 10,
   "id": "806357ca",
   "metadata": {
    "ExecuteTime": {
     "end_time": "2022-10-22T09:22:07.599149Z",
     "start_time": "2022-10-22T08:57:19.174477Z"
    }
   },
   "outputs": [
    {
     "data": {
      "text/html": [
       "<div>\n",
       "<style scoped>\n",
       "    .dataframe tbody tr th:only-of-type {\n",
       "        vertical-align: middle;\n",
       "    }\n",
       "\n",
       "    .dataframe tbody tr th {\n",
       "        vertical-align: top;\n",
       "    }\n",
       "\n",
       "    .dataframe thead th {\n",
       "        text-align: right;\n",
       "    }\n",
       "</style>\n",
       "<table border=\"1\" class=\"dataframe\">\n",
       "  <thead>\n",
       "    <tr style=\"text-align: right;\">\n",
       "      <th></th>\n",
       "      <th>13523</th>\n",
       "      <th>13524</th>\n",
       "      <th>13525</th>\n",
       "      <th>13526</th>\n",
       "      <th>13527</th>\n",
       "      <th>13528</th>\n",
       "      <th>13529</th>\n",
       "      <th>13530</th>\n",
       "      <th>13531</th>\n",
       "      <th>13532</th>\n",
       "      <th>...</th>\n",
       "      <th>837952</th>\n",
       "      <th>837953</th>\n",
       "      <th>837954</th>\n",
       "      <th>837955</th>\n",
       "      <th>837956</th>\n",
       "      <th>837957</th>\n",
       "      <th>837958</th>\n",
       "      <th>837959</th>\n",
       "      <th>837960</th>\n",
       "      <th>837961</th>\n",
       "    </tr>\n",
       "  </thead>\n",
       "  <tbody>\n",
       "    <tr>\n",
       "      <th>CpG</th>\n",
       "      <td>cg22069989</td>\n",
       "      <td>cg20517616</td>\n",
       "      <td>cg19426413</td>\n",
       "      <td>cg19305111</td>\n",
       "      <td>cg05472579</td>\n",
       "      <td>cg24694246</td>\n",
       "      <td>cg12858895</td>\n",
       "      <td>cg16943087</td>\n",
       "      <td>cg03993487</td>\n",
       "      <td>cg21490846</td>\n",
       "      <td>...</td>\n",
       "      <td>cg23659307</td>\n",
       "      <td>cg16040564</td>\n",
       "      <td>cg02455706</td>\n",
       "      <td>cg21822051</td>\n",
       "      <td>cg10615271</td>\n",
       "      <td>cg23079522</td>\n",
       "      <td>cg16818145</td>\n",
       "      <td>cg14585103</td>\n",
       "      <td>cg10633746</td>\n",
       "      <td>cg12623625</td>\n",
       "    </tr>\n",
       "    <tr>\n",
       "      <th>200973410159_R03C01</th>\n",
       "      <td>0.3642</td>\n",
       "      <td>0.1582</td>\n",
       "      <td>0.3494</td>\n",
       "      <td>0.015</td>\n",
       "      <td>0.0143</td>\n",
       "      <td>0.8999</td>\n",
       "      <td>0.0699</td>\n",
       "      <td>0.7524</td>\n",
       "      <td>0.0111</td>\n",
       "      <td>0.0147</td>\n",
       "      <td>...</td>\n",
       "      <td>0.8066</td>\n",
       "      <td>0.4693</td>\n",
       "      <td>0.3718</td>\n",
       "      <td>0.839</td>\n",
       "      <td>0.9298</td>\n",
       "      <td>0.8871</td>\n",
       "      <td>0.9113</td>\n",
       "      <td>0.8647</td>\n",
       "      <td>0.0615</td>\n",
       "      <td>0.6952</td>\n",
       "    </tr>\n",
       "  </tbody>\n",
       "</table>\n",
       "<p>2 rows × 824439 columns</p>\n",
       "</div>"
      ],
      "text/plain": [
       "                         13523       13524       13525       13526   \\\n",
       "CpG                  cg22069989  cg20517616  cg19426413  cg19305111   \n",
       "200973410159_R03C01      0.3642      0.1582      0.3494       0.015   \n",
       "\n",
       "                         13527       13528       13529       13530   \\\n",
       "CpG                  cg05472579  cg24694246  cg12858895  cg16943087   \n",
       "200973410159_R03C01      0.0143      0.8999      0.0699      0.7524   \n",
       "\n",
       "                         13531       13532   ...      837952      837953  \\\n",
       "CpG                  cg03993487  cg21490846  ...  cg23659307  cg16040564   \n",
       "200973410159_R03C01      0.0111      0.0147  ...      0.8066      0.4693   \n",
       "\n",
       "                         837954      837955      837956      837957  \\\n",
       "CpG                  cg02455706  cg21822051  cg10615271  cg23079522   \n",
       "200973410159_R03C01      0.3718       0.839      0.9298      0.8871   \n",
       "\n",
       "                         837958      837959      837960      837961  \n",
       "CpG                  cg16818145  cg14585103  cg10633746  cg12623625  \n",
       "200973410159_R03C01      0.9113      0.8647      0.0615      0.6952  \n",
       "\n",
       "[2 rows x 824439 columns]"
      ]
     },
     "execution_count": 10,
     "metadata": {},
     "output_type": "execute_result"
    }
   ],
   "source": [
    "dft = df.transpose()\n",
    "dft.head(2)"
   ]
  },
  {
   "cell_type": "code",
   "execution_count": 11,
   "id": "0505d243",
   "metadata": {
    "ExecuteTime": {
     "end_time": "2022-10-22T09:22:17.035996Z",
     "start_time": "2022-10-22T09:22:07.715245Z"
    }
   },
   "outputs": [],
   "source": [
    "dft.rename(columns=dft.iloc[0], inplace = True)\n"
   ]
  },
  {
   "cell_type": "code",
   "execution_count": 12,
   "id": "a16f2e12",
   "metadata": {
    "ExecuteTime": {
     "end_time": "2022-10-22T09:22:18.672296Z",
     "start_time": "2022-10-22T09:22:17.035996Z"
    }
   },
   "outputs": [
    {
     "data": {
      "text/html": [
       "<div>\n",
       "<style scoped>\n",
       "    .dataframe tbody tr th:only-of-type {\n",
       "        vertical-align: middle;\n",
       "    }\n",
       "\n",
       "    .dataframe tbody tr th {\n",
       "        vertical-align: top;\n",
       "    }\n",
       "\n",
       "    .dataframe thead th {\n",
       "        text-align: right;\n",
       "    }\n",
       "</style>\n",
       "<table border=\"1\" class=\"dataframe\">\n",
       "  <thead>\n",
       "    <tr style=\"text-align: right;\">\n",
       "      <th></th>\n",
       "      <th>CpG</th>\n",
       "      <th>cg22069989</th>\n",
       "      <th>cg20517616</th>\n",
       "      <th>cg19426413</th>\n",
       "      <th>cg19305111</th>\n",
       "      <th>cg05472579</th>\n",
       "      <th>cg24694246</th>\n",
       "      <th>cg12858895</th>\n",
       "      <th>cg16943087</th>\n",
       "      <th>cg03993487</th>\n",
       "      <th>...</th>\n",
       "      <th>cg23659307</th>\n",
       "      <th>cg16040564</th>\n",
       "      <th>cg02455706</th>\n",
       "      <th>cg21822051</th>\n",
       "      <th>cg10615271</th>\n",
       "      <th>cg23079522</th>\n",
       "      <th>cg16818145</th>\n",
       "      <th>cg14585103</th>\n",
       "      <th>cg10633746</th>\n",
       "      <th>cg12623625</th>\n",
       "    </tr>\n",
       "  </thead>\n",
       "  <tbody>\n",
       "    <tr>\n",
       "      <th>0</th>\n",
       "      <td>CpG</td>\n",
       "      <td>cg22069989</td>\n",
       "      <td>cg20517616</td>\n",
       "      <td>cg19426413</td>\n",
       "      <td>cg19305111</td>\n",
       "      <td>cg05472579</td>\n",
       "      <td>cg24694246</td>\n",
       "      <td>cg12858895</td>\n",
       "      <td>cg16943087</td>\n",
       "      <td>cg03993487</td>\n",
       "      <td>...</td>\n",
       "      <td>cg23659307</td>\n",
       "      <td>cg16040564</td>\n",
       "      <td>cg02455706</td>\n",
       "      <td>cg21822051</td>\n",
       "      <td>cg10615271</td>\n",
       "      <td>cg23079522</td>\n",
       "      <td>cg16818145</td>\n",
       "      <td>cg14585103</td>\n",
       "      <td>cg10633746</td>\n",
       "      <td>cg12623625</td>\n",
       "    </tr>\n",
       "    <tr>\n",
       "      <th>1</th>\n",
       "      <td>200973410159_R03C01</td>\n",
       "      <td>0.3642</td>\n",
       "      <td>0.1582</td>\n",
       "      <td>0.3494</td>\n",
       "      <td>0.015</td>\n",
       "      <td>0.0143</td>\n",
       "      <td>0.8999</td>\n",
       "      <td>0.0699</td>\n",
       "      <td>0.7524</td>\n",
       "      <td>0.0111</td>\n",
       "      <td>...</td>\n",
       "      <td>0.8066</td>\n",
       "      <td>0.4693</td>\n",
       "      <td>0.3718</td>\n",
       "      <td>0.839</td>\n",
       "      <td>0.9298</td>\n",
       "      <td>0.8871</td>\n",
       "      <td>0.9113</td>\n",
       "      <td>0.8647</td>\n",
       "      <td>0.0615</td>\n",
       "      <td>0.6952</td>\n",
       "    </tr>\n",
       "  </tbody>\n",
       "</table>\n",
       "<p>2 rows × 824440 columns</p>\n",
       "</div>"
      ],
      "text/plain": [
       "                   CpG  cg22069989  cg20517616  cg19426413  cg19305111  \\\n",
       "0                  CpG  cg22069989  cg20517616  cg19426413  cg19305111   \n",
       "1  200973410159_R03C01      0.3642      0.1582      0.3494       0.015   \n",
       "\n",
       "   cg05472579  cg24694246  cg12858895  cg16943087  cg03993487  ...  \\\n",
       "0  cg05472579  cg24694246  cg12858895  cg16943087  cg03993487  ...   \n",
       "1      0.0143      0.8999      0.0699      0.7524      0.0111  ...   \n",
       "\n",
       "   cg23659307  cg16040564  cg02455706  cg21822051  cg10615271  cg23079522  \\\n",
       "0  cg23659307  cg16040564  cg02455706  cg21822051  cg10615271  cg23079522   \n",
       "1      0.8066      0.4693      0.3718       0.839      0.9298      0.8871   \n",
       "\n",
       "   cg16818145  cg14585103  cg10633746  cg12623625  \n",
       "0  cg16818145  cg14585103  cg10633746  cg12623625  \n",
       "1      0.9113      0.8647      0.0615      0.6952  \n",
       "\n",
       "[2 rows x 824440 columns]"
      ]
     },
     "execution_count": 12,
     "metadata": {},
     "output_type": "execute_result"
    }
   ],
   "source": [
    "dft.index.name ='CpG'\n",
    "dft.reset_index(inplace=True)\n",
    "dft.head(2)"
   ]
  },
  {
   "cell_type": "code",
   "execution_count": 13,
   "id": "b8cd0f9d",
   "metadata": {
    "ExecuteTime": {
     "end_time": "2022-10-22T09:22:44.624189Z",
     "start_time": "2022-10-22T09:22:18.672296Z"
    }
   },
   "outputs": [
    {
     "data": {
      "text/html": [
       "<div>\n",
       "<style scoped>\n",
       "    .dataframe tbody tr th:only-of-type {\n",
       "        vertical-align: middle;\n",
       "    }\n",
       "\n",
       "    .dataframe tbody tr th {\n",
       "        vertical-align: top;\n",
       "    }\n",
       "\n",
       "    .dataframe thead th {\n",
       "        text-align: right;\n",
       "    }\n",
       "</style>\n",
       "<table border=\"1\" class=\"dataframe\">\n",
       "  <thead>\n",
       "    <tr style=\"text-align: right;\">\n",
       "      <th></th>\n",
       "      <th>CpG</th>\n",
       "      <th>cg22069989</th>\n",
       "      <th>cg20517616</th>\n",
       "      <th>cg19426413</th>\n",
       "      <th>cg19305111</th>\n",
       "      <th>cg05472579</th>\n",
       "      <th>cg24694246</th>\n",
       "      <th>cg12858895</th>\n",
       "      <th>cg16943087</th>\n",
       "      <th>cg03993487</th>\n",
       "      <th>...</th>\n",
       "      <th>cg23659307</th>\n",
       "      <th>cg16040564</th>\n",
       "      <th>cg02455706</th>\n",
       "      <th>cg21822051</th>\n",
       "      <th>cg10615271</th>\n",
       "      <th>cg23079522</th>\n",
       "      <th>cg16818145</th>\n",
       "      <th>cg14585103</th>\n",
       "      <th>cg10633746</th>\n",
       "      <th>cg12623625</th>\n",
       "    </tr>\n",
       "  </thead>\n",
       "  <tbody>\n",
       "    <tr>\n",
       "      <th>1</th>\n",
       "      <td>200973410159_R03C01</td>\n",
       "      <td>0.3642</td>\n",
       "      <td>0.1582</td>\n",
       "      <td>0.3494</td>\n",
       "      <td>0.015</td>\n",
       "      <td>0.0143</td>\n",
       "      <td>0.8999</td>\n",
       "      <td>0.0699</td>\n",
       "      <td>0.7524</td>\n",
       "      <td>0.0111</td>\n",
       "      <td>...</td>\n",
       "      <td>0.8066</td>\n",
       "      <td>0.4693</td>\n",
       "      <td>0.3718</td>\n",
       "      <td>0.839</td>\n",
       "      <td>0.9298</td>\n",
       "      <td>0.8871</td>\n",
       "      <td>0.9113</td>\n",
       "      <td>0.8647</td>\n",
       "      <td>0.0615</td>\n",
       "      <td>0.6952</td>\n",
       "    </tr>\n",
       "    <tr>\n",
       "      <th>2</th>\n",
       "      <td>200991620021_R01C01</td>\n",
       "      <td>0.0328</td>\n",
       "      <td>0.1336</td>\n",
       "      <td>0.4513</td>\n",
       "      <td>0.017</td>\n",
       "      <td>0.0174</td>\n",
       "      <td>0.8938</td>\n",
       "      <td>0.1436</td>\n",
       "      <td>0.7146</td>\n",
       "      <td>0.0111</td>\n",
       "      <td>...</td>\n",
       "      <td>0.8088</td>\n",
       "      <td>0.4602</td>\n",
       "      <td>0.397</td>\n",
       "      <td>0.81</td>\n",
       "      <td>0.9008</td>\n",
       "      <td>0.89</td>\n",
       "      <td>0.9134</td>\n",
       "      <td>0.8209</td>\n",
       "      <td>0.1167</td>\n",
       "      <td>0.6173</td>\n",
       "    </tr>\n",
       "  </tbody>\n",
       "</table>\n",
       "<p>2 rows × 824440 columns</p>\n",
       "</div>"
      ],
      "text/plain": [
       "                   CpG cg22069989 cg20517616 cg19426413 cg19305111 cg05472579  \\\n",
       "1  200973410159_R03C01     0.3642     0.1582     0.3494      0.015     0.0143   \n",
       "2  200991620021_R01C01     0.0328     0.1336     0.4513      0.017     0.0174   \n",
       "\n",
       "  cg24694246 cg12858895 cg16943087 cg03993487  ... cg23659307 cg16040564  \\\n",
       "1     0.8999     0.0699     0.7524     0.0111  ...     0.8066     0.4693   \n",
       "2     0.8938     0.1436     0.7146     0.0111  ...     0.8088     0.4602   \n",
       "\n",
       "  cg02455706 cg21822051 cg10615271 cg23079522 cg16818145 cg14585103  \\\n",
       "1     0.3718      0.839     0.9298     0.8871     0.9113     0.8647   \n",
       "2      0.397       0.81     0.9008       0.89     0.9134     0.8209   \n",
       "\n",
       "  cg10633746 cg12623625  \n",
       "1     0.0615     0.6952  \n",
       "2     0.1167     0.6173  \n",
       "\n",
       "[2 rows x 824440 columns]"
      ]
     },
     "execution_count": 13,
     "metadata": {},
     "output_type": "execute_result"
    }
   ],
   "source": [
    "dft = dft.drop ([0], axis = 0)\n",
    "dft.head(2)"
   ]
  },
  {
   "cell_type": "code",
   "execution_count": 14,
   "id": "bd979149",
   "metadata": {
    "ExecuteTime": {
     "end_time": "2022-10-22T09:22:45.291502Z",
     "start_time": "2022-10-22T09:22:44.636595Z"
    }
   },
   "outputs": [
    {
     "data": {
      "text/html": [
       "<div>\n",
       "<style scoped>\n",
       "    .dataframe tbody tr th:only-of-type {\n",
       "        vertical-align: middle;\n",
       "    }\n",
       "\n",
       "    .dataframe tbody tr th {\n",
       "        vertical-align: top;\n",
       "    }\n",
       "\n",
       "    .dataframe thead th {\n",
       "        text-align: right;\n",
       "    }\n",
       "</style>\n",
       "<table border=\"1\" class=\"dataframe\">\n",
       "  <thead>\n",
       "    <tr style=\"text-align: right;\">\n",
       "      <th></th>\n",
       "      <th>Sentrix</th>\n",
       "      <th>cg22069989</th>\n",
       "      <th>cg20517616</th>\n",
       "      <th>cg19426413</th>\n",
       "      <th>cg19305111</th>\n",
       "      <th>cg05472579</th>\n",
       "      <th>cg24694246</th>\n",
       "      <th>cg12858895</th>\n",
       "      <th>cg16943087</th>\n",
       "      <th>cg03993487</th>\n",
       "      <th>...</th>\n",
       "      <th>cg23659307</th>\n",
       "      <th>cg16040564</th>\n",
       "      <th>cg02455706</th>\n",
       "      <th>cg21822051</th>\n",
       "      <th>cg10615271</th>\n",
       "      <th>cg23079522</th>\n",
       "      <th>cg16818145</th>\n",
       "      <th>cg14585103</th>\n",
       "      <th>cg10633746</th>\n",
       "      <th>cg12623625</th>\n",
       "    </tr>\n",
       "  </thead>\n",
       "  <tbody>\n",
       "    <tr>\n",
       "      <th>1</th>\n",
       "      <td>200973410159_R03C01</td>\n",
       "      <td>0.3642</td>\n",
       "      <td>0.1582</td>\n",
       "      <td>0.3494</td>\n",
       "      <td>0.015</td>\n",
       "      <td>0.0143</td>\n",
       "      <td>0.8999</td>\n",
       "      <td>0.0699</td>\n",
       "      <td>0.7524</td>\n",
       "      <td>0.0111</td>\n",
       "      <td>...</td>\n",
       "      <td>0.8066</td>\n",
       "      <td>0.4693</td>\n",
       "      <td>0.3718</td>\n",
       "      <td>0.839</td>\n",
       "      <td>0.9298</td>\n",
       "      <td>0.8871</td>\n",
       "      <td>0.9113</td>\n",
       "      <td>0.8647</td>\n",
       "      <td>0.0615</td>\n",
       "      <td>0.6952</td>\n",
       "    </tr>\n",
       "    <tr>\n",
       "      <th>2</th>\n",
       "      <td>200991620021_R01C01</td>\n",
       "      <td>0.0328</td>\n",
       "      <td>0.1336</td>\n",
       "      <td>0.4513</td>\n",
       "      <td>0.017</td>\n",
       "      <td>0.0174</td>\n",
       "      <td>0.8938</td>\n",
       "      <td>0.1436</td>\n",
       "      <td>0.7146</td>\n",
       "      <td>0.0111</td>\n",
       "      <td>...</td>\n",
       "      <td>0.8088</td>\n",
       "      <td>0.4602</td>\n",
       "      <td>0.397</td>\n",
       "      <td>0.81</td>\n",
       "      <td>0.9008</td>\n",
       "      <td>0.89</td>\n",
       "      <td>0.9134</td>\n",
       "      <td>0.8209</td>\n",
       "      <td>0.1167</td>\n",
       "      <td>0.6173</td>\n",
       "    </tr>\n",
       "  </tbody>\n",
       "</table>\n",
       "<p>2 rows × 824440 columns</p>\n",
       "</div>"
      ],
      "text/plain": [
       "               Sentrix cg22069989 cg20517616 cg19426413 cg19305111 cg05472579  \\\n",
       "1  200973410159_R03C01     0.3642     0.1582     0.3494      0.015     0.0143   \n",
       "2  200991620021_R01C01     0.0328     0.1336     0.4513      0.017     0.0174   \n",
       "\n",
       "  cg24694246 cg12858895 cg16943087 cg03993487  ... cg23659307 cg16040564  \\\n",
       "1     0.8999     0.0699     0.7524     0.0111  ...     0.8066     0.4693   \n",
       "2     0.8938     0.1436     0.7146     0.0111  ...     0.8088     0.4602   \n",
       "\n",
       "  cg02455706 cg21822051 cg10615271 cg23079522 cg16818145 cg14585103  \\\n",
       "1     0.3718      0.839     0.9298     0.8871     0.9113     0.8647   \n",
       "2      0.397       0.81     0.9008       0.89     0.9134     0.8209   \n",
       "\n",
       "  cg10633746 cg12623625  \n",
       "1     0.0615     0.6952  \n",
       "2     0.1167     0.6173  \n",
       "\n",
       "[2 rows x 824440 columns]"
      ]
     },
     "execution_count": 14,
     "metadata": {},
     "output_type": "execute_result"
    }
   ],
   "source": [
    "dft.rename (columns = {\"CpG\" : \"Sentrix\"}, inplace = True)\n",
    "dft.head(2)"
   ]
  },
  {
   "cell_type": "code",
   "execution_count": 15,
   "id": "800f1dff",
   "metadata": {
    "ExecuteTime": {
     "end_time": "2022-10-22T09:22:46.727736Z",
     "start_time": "2022-10-22T09:22:45.291502Z"
    }
   },
   "outputs": [
    {
     "data": {
      "text/html": [
       "<div>\n",
       "<style scoped>\n",
       "    .dataframe tbody tr th:only-of-type {\n",
       "        vertical-align: middle;\n",
       "    }\n",
       "\n",
       "    .dataframe tbody tr th {\n",
       "        vertical-align: top;\n",
       "    }\n",
       "\n",
       "    .dataframe thead th {\n",
       "        text-align: right;\n",
       "    }\n",
       "</style>\n",
       "<table border=\"1\" class=\"dataframe\">\n",
       "  <thead>\n",
       "    <tr style=\"text-align: right;\">\n",
       "      <th></th>\n",
       "      <th>Sentrix</th>\n",
       "      <th>APPRDX</th>\n",
       "    </tr>\n",
       "  </thead>\n",
       "  <tbody>\n",
       "    <tr>\n",
       "      <th>0</th>\n",
       "      <td>200991620021_R01C01</td>\n",
       "      <td>1</td>\n",
       "    </tr>\n",
       "    <tr>\n",
       "      <th>1</th>\n",
       "      <td>200989060135_R07C01</td>\n",
       "      <td>2</td>\n",
       "    </tr>\n",
       "  </tbody>\n",
       "</table>\n",
       "</div>"
      ],
      "text/plain": [
       "               Sentrix  APPRDX\n",
       "0  200991620021_R01C01       1\n",
       "1  200989060135_R07C01       2"
      ]
     },
     "execution_count": 15,
     "metadata": {},
     "output_type": "execute_result"
    }
   ],
   "source": [
    "df2 = pd.read_csv (\"SentrixMale_APPRDX.csv\")\n",
    "df2.head(2)"
   ]
  },
  {
   "cell_type": "code",
   "execution_count": 16,
   "id": "0b805a38",
   "metadata": {
    "ExecuteTime": {
     "end_time": "2022-10-22T09:23:21.775117Z",
     "start_time": "2022-10-22T09:22:46.727736Z"
    },
    "scrolled": false
   },
   "outputs": [
    {
     "data": {
      "text/html": [
       "<div>\n",
       "<style scoped>\n",
       "    .dataframe tbody tr th:only-of-type {\n",
       "        vertical-align: middle;\n",
       "    }\n",
       "\n",
       "    .dataframe tbody tr th {\n",
       "        vertical-align: top;\n",
       "    }\n",
       "\n",
       "    .dataframe thead th {\n",
       "        text-align: right;\n",
       "    }\n",
       "</style>\n",
       "<table border=\"1\" class=\"dataframe\">\n",
       "  <thead>\n",
       "    <tr style=\"text-align: right;\">\n",
       "      <th></th>\n",
       "      <th>Sentrix</th>\n",
       "      <th>APPRDX</th>\n",
       "      <th>cg22069989</th>\n",
       "      <th>cg20517616</th>\n",
       "      <th>cg19426413</th>\n",
       "      <th>cg19305111</th>\n",
       "      <th>cg05472579</th>\n",
       "      <th>cg24694246</th>\n",
       "      <th>cg12858895</th>\n",
       "      <th>cg16943087</th>\n",
       "      <th>...</th>\n",
       "      <th>cg23659307</th>\n",
       "      <th>cg16040564</th>\n",
       "      <th>cg02455706</th>\n",
       "      <th>cg21822051</th>\n",
       "      <th>cg10615271</th>\n",
       "      <th>cg23079522</th>\n",
       "      <th>cg16818145</th>\n",
       "      <th>cg14585103</th>\n",
       "      <th>cg10633746</th>\n",
       "      <th>cg12623625</th>\n",
       "    </tr>\n",
       "  </thead>\n",
       "  <tbody>\n",
       "    <tr>\n",
       "      <th>0</th>\n",
       "      <td>200991620021_R01C01</td>\n",
       "      <td>1</td>\n",
       "      <td>0.0328</td>\n",
       "      <td>0.1336</td>\n",
       "      <td>0.4513</td>\n",
       "      <td>0.017</td>\n",
       "      <td>0.0174</td>\n",
       "      <td>0.8938</td>\n",
       "      <td>0.1436</td>\n",
       "      <td>0.7146</td>\n",
       "      <td>...</td>\n",
       "      <td>0.8088</td>\n",
       "      <td>0.4602</td>\n",
       "      <td>0.397</td>\n",
       "      <td>0.81</td>\n",
       "      <td>0.9008</td>\n",
       "      <td>0.89</td>\n",
       "      <td>0.9134</td>\n",
       "      <td>0.8209</td>\n",
       "      <td>0.1167</td>\n",
       "      <td>0.6173</td>\n",
       "    </tr>\n",
       "    <tr>\n",
       "      <th>1</th>\n",
       "      <td>200989060135_R07C01</td>\n",
       "      <td>2</td>\n",
       "      <td>0.0329</td>\n",
       "      <td>0.0361</td>\n",
       "      <td>0.2746</td>\n",
       "      <td>0.0113</td>\n",
       "      <td>0.0122</td>\n",
       "      <td>0.8856</td>\n",
       "      <td>0.0522</td>\n",
       "      <td>0.7883</td>\n",
       "      <td>...</td>\n",
       "      <td>0.8299</td>\n",
       "      <td>0.7964</td>\n",
       "      <td>0.2522</td>\n",
       "      <td>0.8095</td>\n",
       "      <td>0.9109</td>\n",
       "      <td>0.8816</td>\n",
       "      <td>0.8735</td>\n",
       "      <td>0.83</td>\n",
       "      <td>0.0783</td>\n",
       "      <td>0.6201</td>\n",
       "    </tr>\n",
       "  </tbody>\n",
       "</table>\n",
       "<p>2 rows × 824441 columns</p>\n",
       "</div>"
      ],
      "text/plain": [
       "               Sentrix  APPRDX cg22069989 cg20517616 cg19426413 cg19305111  \\\n",
       "0  200991620021_R01C01       1     0.0328     0.1336     0.4513      0.017   \n",
       "1  200989060135_R07C01       2     0.0329     0.0361     0.2746     0.0113   \n",
       "\n",
       "  cg05472579 cg24694246 cg12858895 cg16943087  ... cg23659307 cg16040564  \\\n",
       "0     0.0174     0.8938     0.1436     0.7146  ...     0.8088     0.4602   \n",
       "1     0.0122     0.8856     0.0522     0.7883  ...     0.8299     0.7964   \n",
       "\n",
       "  cg02455706 cg21822051 cg10615271 cg23079522 cg16818145 cg14585103  \\\n",
       "0      0.397       0.81     0.9008       0.89     0.9134     0.8209   \n",
       "1     0.2522     0.8095     0.9109     0.8816     0.8735       0.83   \n",
       "\n",
       "  cg10633746 cg12623625  \n",
       "0     0.1167     0.6173  \n",
       "1     0.0783     0.6201  \n",
       "\n",
       "[2 rows x 824441 columns]"
      ]
     },
     "execution_count": 16,
     "metadata": {},
     "output_type": "execute_result"
    }
   ],
   "source": [
    "df3 = pd.merge (df2, dft, on= \"Sentrix\", how= \"inner\")\n",
    "df3.head(2)"
   ]
  },
  {
   "cell_type": "code",
   "execution_count": 17,
   "id": "6d166ac9",
   "metadata": {
    "ExecuteTime": {
     "end_time": "2022-10-22T09:23:22.292679Z",
     "start_time": "2022-10-22T09:23:21.837557Z"
    }
   },
   "outputs": [
    {
     "data": {
      "text/plain": [
       "(307, 824441)"
      ]
     },
     "execution_count": 17,
     "metadata": {},
     "output_type": "execute_result"
    }
   ],
   "source": [
    "df3.shape"
   ]
  },
  {
   "cell_type": "code",
   "execution_count": 18,
   "id": "a089177b",
   "metadata": {
    "ExecuteTime": {
     "end_time": "2022-10-22T09:23:33.600893Z",
     "start_time": "2022-10-22T09:23:22.439944Z"
    }
   },
   "outputs": [
    {
     "data": {
      "text/html": [
       "<div>\n",
       "<style scoped>\n",
       "    .dataframe tbody tr th:only-of-type {\n",
       "        vertical-align: middle;\n",
       "    }\n",
       "\n",
       "    .dataframe tbody tr th {\n",
       "        vertical-align: top;\n",
       "    }\n",
       "\n",
       "    .dataframe thead th {\n",
       "        text-align: right;\n",
       "    }\n",
       "</style>\n",
       "<table border=\"1\" class=\"dataframe\">\n",
       "  <thead>\n",
       "    <tr style=\"text-align: right;\">\n",
       "      <th></th>\n",
       "      <th>cg22069989</th>\n",
       "      <th>cg20517616</th>\n",
       "      <th>cg19426413</th>\n",
       "      <th>cg19305111</th>\n",
       "      <th>cg05472579</th>\n",
       "      <th>cg24694246</th>\n",
       "      <th>cg12858895</th>\n",
       "      <th>cg16943087</th>\n",
       "      <th>cg03993487</th>\n",
       "      <th>cg21490846</th>\n",
       "      <th>...</th>\n",
       "      <th>cg23659307</th>\n",
       "      <th>cg16040564</th>\n",
       "      <th>cg02455706</th>\n",
       "      <th>cg21822051</th>\n",
       "      <th>cg10615271</th>\n",
       "      <th>cg23079522</th>\n",
       "      <th>cg16818145</th>\n",
       "      <th>cg14585103</th>\n",
       "      <th>cg10633746</th>\n",
       "      <th>cg12623625</th>\n",
       "    </tr>\n",
       "  </thead>\n",
       "  <tbody>\n",
       "    <tr>\n",
       "      <th>0</th>\n",
       "      <td>0.0328</td>\n",
       "      <td>0.1336</td>\n",
       "      <td>0.4513</td>\n",
       "      <td>0.017</td>\n",
       "      <td>0.0174</td>\n",
       "      <td>0.8938</td>\n",
       "      <td>0.1436</td>\n",
       "      <td>0.7146</td>\n",
       "      <td>0.0111</td>\n",
       "      <td>0.0223</td>\n",
       "      <td>...</td>\n",
       "      <td>0.8088</td>\n",
       "      <td>0.4602</td>\n",
       "      <td>0.397</td>\n",
       "      <td>0.81</td>\n",
       "      <td>0.9008</td>\n",
       "      <td>0.89</td>\n",
       "      <td>0.9134</td>\n",
       "      <td>0.8209</td>\n",
       "      <td>0.1167</td>\n",
       "      <td>0.6173</td>\n",
       "    </tr>\n",
       "    <tr>\n",
       "      <th>1</th>\n",
       "      <td>0.0329</td>\n",
       "      <td>0.0361</td>\n",
       "      <td>0.2746</td>\n",
       "      <td>0.0113</td>\n",
       "      <td>0.0122</td>\n",
       "      <td>0.8856</td>\n",
       "      <td>0.0522</td>\n",
       "      <td>0.7883</td>\n",
       "      <td>0.0099</td>\n",
       "      <td>0.0236</td>\n",
       "      <td>...</td>\n",
       "      <td>0.8299</td>\n",
       "      <td>0.7964</td>\n",
       "      <td>0.2522</td>\n",
       "      <td>0.8095</td>\n",
       "      <td>0.9109</td>\n",
       "      <td>0.8816</td>\n",
       "      <td>0.8735</td>\n",
       "      <td>0.83</td>\n",
       "      <td>0.0783</td>\n",
       "      <td>0.6201</td>\n",
       "    </tr>\n",
       "  </tbody>\n",
       "</table>\n",
       "<p>2 rows × 824439 columns</p>\n",
       "</div>"
      ],
      "text/plain": [
       "  cg22069989 cg20517616 cg19426413 cg19305111 cg05472579 cg24694246  \\\n",
       "0     0.0328     0.1336     0.4513      0.017     0.0174     0.8938   \n",
       "1     0.0329     0.0361     0.2746     0.0113     0.0122     0.8856   \n",
       "\n",
       "  cg12858895 cg16943087 cg03993487 cg21490846  ... cg23659307 cg16040564  \\\n",
       "0     0.1436     0.7146     0.0111     0.0223  ...     0.8088     0.4602   \n",
       "1     0.0522     0.7883     0.0099     0.0236  ...     0.8299     0.7964   \n",
       "\n",
       "  cg02455706 cg21822051 cg10615271 cg23079522 cg16818145 cg14585103  \\\n",
       "0      0.397       0.81     0.9008       0.89     0.9134     0.8209   \n",
       "1     0.2522     0.8095     0.9109     0.8816     0.8735       0.83   \n",
       "\n",
       "  cg10633746 cg12623625  \n",
       "0     0.1167     0.6173  \n",
       "1     0.0783     0.6201  \n",
       "\n",
       "[2 rows x 824439 columns]"
      ]
     },
     "execution_count": 18,
     "metadata": {},
     "output_type": "execute_result"
    }
   ],
   "source": [
    "df_data = df3.drop(['APPRDX', 'Sentrix'], axis=1)\n",
    "df_data.head(2)"
   ]
  },
  {
   "cell_type": "code",
   "execution_count": 19,
   "id": "b57d5f6e",
   "metadata": {
    "ExecuteTime": {
     "end_time": "2022-10-22T09:23:33.986821Z",
     "start_time": "2022-10-22T09:23:33.616522Z"
    }
   },
   "outputs": [],
   "source": [
    "df_targets = df3[['APPRDX']]"
   ]
  },
  {
   "cell_type": "code",
   "execution_count": 20,
   "id": "f6f23374",
   "metadata": {
    "ExecuteTime": {
     "end_time": "2022-10-22T09:23:34.071582Z",
     "start_time": "2022-10-22T09:23:34.002435Z"
    }
   },
   "outputs": [],
   "source": [
    "colors = {1:\"red\", 2: \"green\"}"
   ]
  },
  {
   "cell_type": "code",
   "execution_count": 21,
   "id": "9457b67f",
   "metadata": {
    "ExecuteTime": {
     "end_time": "2022-10-22T09:25:38.006623Z",
     "start_time": "2022-10-22T09:23:34.134107Z"
    }
   },
   "outputs": [],
   "source": [
    "clusterable_embedding = umap.UMAP(n_neighbors=30, min_dist=0.0, n_components=2,random_state=42,).fit_transform(df_data)"
   ]
  },
  {
   "cell_type": "code",
   "execution_count": 22,
   "id": "48e5ad1c",
   "metadata": {
    "ExecuteTime": {
     "end_time": "2022-10-22T09:25:39.056349Z",
     "start_time": "2022-10-22T09:25:38.037872Z"
    }
   },
   "outputs": [],
   "source": [
    "from matplotlib.lines import Line2D\n",
    "custom_lines = [Line2D([0], [0], marker='o',label='Scatter',markerfacecolor='r', markersize=15, color='floralwhite'),\n",
    "                Line2D([0], [0], marker='o',label='Scatter',markerfacecolor='g', markersize=15, color='floralwhite')]"
   ]
  },
  {
   "cell_type": "code",
   "execution_count": 24,
   "id": "d3929605",
   "metadata": {
    "ExecuteTime": {
     "end_time": "2022-10-22T09:26:45.962494Z",
     "start_time": "2022-10-22T09:26:45.005860Z"
    }
   },
   "outputs": [
    {
     "data": {
      "image/png": "[encoded data removed]",
      "text/plain": [
       "<Figure size 2160x1800 with 1 Axes>"
      ]
     },
     "metadata": {
      "needs_background": "light"
     },
     "output_type": "display_data"
    }
   ],
   "source": [
    "plt.scatter(clusterable_embedding[:, 0], clusterable_embedding[:, 1],\n",
    "c=df_targets['APPRDX'].map(colors), s=28, cmap=\"Spectral\");\n",
    "plt.rcParams[\"figure.figsize\"] = [30,25]\n",
    "plt.title(label= \"UMAP- Chr1-22 CpG against PatientVsHealthyControl- Male\", fontsize=50, color='black', pad= 20)\n",
    "plt.xlabel('UMAP 1', fontsize=40, color='black')\n",
    "plt.ylabel('UMAP 2', fontsize=40, color='black')\n",
    "plt.xticks(fontsize=30, color='black')\n",
    "plt.yticks(fontsize=30, color='black')\n",
    "plt.legend(custom_lines, ['Patient', 'Healthy Control'], loc='upper left',shadow = True,\n",
    "           facecolor = 'floralwhite',prop = {'size' : 30})\n",
    "plt.savefig(\"UMAP_Chr1_22_CpG_against_Male_PatientVsHealthy.pdf\", format=\"pdf\")\n",
    "plt.show()"
   ]
  },
  {
   "cell_type": "code",
   "execution_count": null,
   "id": "380c68d2",
   "metadata": {},
   "outputs": [],
   "source": []
  }
 ],
 "metadata": {
  "kernelspec": {
   "display_name": "Python 3 (ipykernel)",
   "language": "python",
   "name": "python3"
  },
  "language_info": {
   "codemirror_mode": {
    "name": "ipython",
    "version": 3
   },
   "file_extension": ".py",
   "mimetype": "text/x-python",
   "name": "python",
   "nbconvert_exporter": "python",
   "pygments_lexer": "ipython3",
   "version": "3.9.7"
  },
  "toc": {
   "base_numbering": 1,
   "nav_menu": {},
   "number_sections": true,
   "sideBar": true,
   "skip_h1_title": false,
   "title_cell": "Table of Contents",
   "title_sidebar": "Contents",
   "toc_cell": false,
   "toc_position": {},
   "toc_section_display": true,
   "toc_window_display": false
  },
  "varInspector": {
   "cols": {
    "lenName": 16,
    "lenType": 16,
    "lenVar": 40
   },
   "kernels_config": {
    "python": {
     "delete_cmd_postfix": "",
     "delete_cmd_prefix": "del ",
     "library": "var_list.py",
     "varRefreshCmd": "print(var_dic_list())"
    },
    "r": {
     "delete_cmd_postfix": ") ",
     "delete_cmd_prefix": "rm(",
     "library": "var_list.r",
     "varRefreshCmd": "cat(var_dic_list()) "
    }
   },
   "types_to_exclude": [
    "module",
    "function",
    "builtin_function_or_method",
    "instance",
    "_Feature"
   ],
   "window_display": false
  }
 },
 "nbformat": 4,
 "nbformat_minor": 5
}
